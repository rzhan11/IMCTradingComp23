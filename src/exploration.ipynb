{
 "cells": [
  {
   "cell_type": "code",
   "execution_count": 1,
   "id": "a576f892",
   "metadata": {
    "ExecuteTime": {
     "end_time": "2023-02-19T04:08:31.391410Z",
     "start_time": "2023-02-19T04:08:30.212358Z"
    }
   },
   "outputs": [],
   "source": [
    "import pandas as pd\n",
    "import numpy as np\n",
    "import json\n",
    "from log_parser import process_file"
   ]
  },
  {
   "cell_type": "code",
   "execution_count": 2,
   "id": "c212d7c3",
   "metadata": {
    "ExecuteTime": {
     "end_time": "2023-02-19T04:08:31.434951Z",
     "start_time": "2023-02-19T04:08:31.393834Z"
    }
   },
   "outputs": [],
   "source": [
    "with open(\"../replays/log4.log.rec.json\") as f:\n",
    "    obj = json.load(f)\n",
    "    \n",
    "df = pd.DataFrame(obj)\n",
    "listings = pd.DataFrame(df[\"listings\"][0])\n",
    "df = df.drop(\"listings\", axis=1)"
   ]
  },
  {
   "cell_type": "code",
   "execution_count": 20,
   "id": "31596bb8",
   "metadata": {
    "ExecuteTime": {
     "end_time": "2023-02-19T04:11:49.861561Z",
     "start_time": "2023-02-19T04:11:49.856429Z"
    }
   },
   "outputs": [],
   "source": [
    "def flatten_trades(df, col, is_me):\n",
    "    # get market trades\n",
    "\n",
    "    market_trades = []\n",
    "    for index, row  in df.iterrows():\n",
    "        all_trades = list(row[col].values())\n",
    "        for sym_trades in all_trades:\n",
    "            for trade in sym_trades:\n",
    "                trade[\"fill_time\"] = row[\"timestamp\"]\n",
    "            market_trades += sym_trades\n",
    "\n",
    "    market_trades = pd.DataFrame(market_trades)\n",
    "    market_trades = market_trades.rename({\"timestamp\": \"order_time\"}, axis=1)\n",
    "    \n",
    "    market_trades[\"is_me\"] = is_me\n",
    "    market_trades[\"my_action\"] = np.where(market_trades[\"buyer\"] == \"SUBMISSION\", \"buy\", None)\n",
    "    market_trades[\"my_action\"] = np.where(market_trades[\"seller\"] == \"SUBMISSION\", \"sell\", None)\n",
    "    \n",
    "    return market_trades"
   ]
  },
  {
   "cell_type": "code",
   "execution_count": 21,
   "id": "9f7eedbd",
   "metadata": {
    "ExecuteTime": {
     "end_time": "2023-02-19T04:11:50.236722Z",
     "start_time": "2023-02-19T04:11:50.055163Z"
    }
   },
   "outputs": [],
   "source": [
    "market_trades = flatten_trades(\n",
    "    df, \n",
    "    \"market_trades\", \n",
    "    is_me=False\n",
    ")\n",
    "\n",
    "my_trades = flatten_trades(\n",
    "    df, \n",
    "    \"own_trades\", \n",
    "    is_me=True\n",
    ")\n",
    "\n"
   ]
  },
  {
   "cell_type": "code",
   "execution_count": 22,
   "id": "cc9a95f9",
   "metadata": {
    "ExecuteTime": {
     "end_time": "2023-02-19T04:11:50.248424Z",
     "start_time": "2023-02-19T04:11:50.238650Z"
    }
   },
   "outputs": [],
   "source": [
    "trade_df = pd.concat([market_trades, my_trades])\n",
    "trade_df = trade_df.sort_values(by=\"fill_time\")"
   ]
  },
  {
   "cell_type": "code",
   "execution_count": 23,
   "id": "1d850fd7",
   "metadata": {
    "ExecuteTime": {
     "end_time": "2023-02-19T04:11:50.402435Z",
     "start_time": "2023-02-19T04:11:50.387727Z"
    }
   },
   "outputs": [
    {
     "data": {
      "text/html": [
       "<div>\n",
       "<style scoped>\n",
       "    .dataframe tbody tr th:only-of-type {\n",
       "        vertical-align: middle;\n",
       "    }\n",
       "\n",
       "    .dataframe tbody tr th {\n",
       "        vertical-align: top;\n",
       "    }\n",
       "\n",
       "    .dataframe thead th {\n",
       "        text-align: right;\n",
       "    }\n",
       "</style>\n",
       "<table border=\"1\" class=\"dataframe\">\n",
       "  <thead>\n",
       "    <tr style=\"text-align: right;\">\n",
       "      <th></th>\n",
       "      <th>buyer</th>\n",
       "      <th>price</th>\n",
       "      <th>quantity</th>\n",
       "      <th>seller</th>\n",
       "      <th>symbol</th>\n",
       "      <th>order_time</th>\n",
       "      <th>fill_time</th>\n",
       "      <th>is_me</th>\n",
       "      <th>my_action</th>\n",
       "    </tr>\n",
       "  </thead>\n",
       "  <tbody>\n",
       "    <tr>\n",
       "      <th>0</th>\n",
       "      <td></td>\n",
       "      <td>10002.0</td>\n",
       "      <td>1</td>\n",
       "      <td></td>\n",
       "      <td>PEARLS</td>\n",
       "      <td>100</td>\n",
       "      <td>100</td>\n",
       "      <td>False</td>\n",
       "      <td>None</td>\n",
       "    </tr>\n",
       "    <tr>\n",
       "      <th>0</th>\n",
       "      <td></td>\n",
       "      <td>9998.0</td>\n",
       "      <td>1</td>\n",
       "      <td>SUBMISSION</td>\n",
       "      <td>PEARLS</td>\n",
       "      <td>0</td>\n",
       "      <td>100</td>\n",
       "      <td>True</td>\n",
       "      <td>sell</td>\n",
       "    </tr>\n",
       "    <tr>\n",
       "      <th>1</th>\n",
       "      <td></td>\n",
       "      <td>9996.0</td>\n",
       "      <td>1</td>\n",
       "      <td>SUBMISSION</td>\n",
       "      <td>PEARLS</td>\n",
       "      <td>100</td>\n",
       "      <td>200</td>\n",
       "      <td>True</td>\n",
       "      <td>sell</td>\n",
       "    </tr>\n",
       "    <tr>\n",
       "      <th>1</th>\n",
       "      <td></td>\n",
       "      <td>10002.0</td>\n",
       "      <td>1</td>\n",
       "      <td></td>\n",
       "      <td>PEARLS</td>\n",
       "      <td>100</td>\n",
       "      <td>200</td>\n",
       "      <td>False</td>\n",
       "      <td>None</td>\n",
       "    </tr>\n",
       "    <tr>\n",
       "      <th>2</th>\n",
       "      <td></td>\n",
       "      <td>10002.0</td>\n",
       "      <td>1</td>\n",
       "      <td></td>\n",
       "      <td>PEARLS</td>\n",
       "      <td>100</td>\n",
       "      <td>300</td>\n",
       "      <td>False</td>\n",
       "      <td>None</td>\n",
       "    </tr>\n",
       "    <tr>\n",
       "      <th>...</th>\n",
       "      <td>...</td>\n",
       "      <td>...</td>\n",
       "      <td>...</td>\n",
       "      <td>...</td>\n",
       "      <td>...</td>\n",
       "      <td>...</td>\n",
       "      <td>...</td>\n",
       "      <td>...</td>\n",
       "      <td>...</td>\n",
       "    </tr>\n",
       "    <tr>\n",
       "      <th>1995</th>\n",
       "      <td></td>\n",
       "      <td>9998.0</td>\n",
       "      <td>7</td>\n",
       "      <td>SUBMISSION</td>\n",
       "      <td>PEARLS</td>\n",
       "      <td>700</td>\n",
       "      <td>199800</td>\n",
       "      <td>True</td>\n",
       "      <td>sell</td>\n",
       "    </tr>\n",
       "    <tr>\n",
       "      <th>4624</th>\n",
       "      <td></td>\n",
       "      <td>4905.0</td>\n",
       "      <td>17</td>\n",
       "      <td></td>\n",
       "      <td>BANANAS</td>\n",
       "      <td>199500</td>\n",
       "      <td>199800</td>\n",
       "      <td>False</td>\n",
       "      <td>None</td>\n",
       "    </tr>\n",
       "    <tr>\n",
       "      <th>4626</th>\n",
       "      <td></td>\n",
       "      <td>4906.0</td>\n",
       "      <td>3</td>\n",
       "      <td></td>\n",
       "      <td>BANANAS</td>\n",
       "      <td>199900</td>\n",
       "      <td>199900</td>\n",
       "      <td>False</td>\n",
       "      <td>None</td>\n",
       "    </tr>\n",
       "    <tr>\n",
       "      <th>4627</th>\n",
       "      <td></td>\n",
       "      <td>10002.0</td>\n",
       "      <td>1</td>\n",
       "      <td></td>\n",
       "      <td>PEARLS</td>\n",
       "      <td>199700</td>\n",
       "      <td>199900</td>\n",
       "      <td>False</td>\n",
       "      <td>None</td>\n",
       "    </tr>\n",
       "    <tr>\n",
       "      <th>1996</th>\n",
       "      <td></td>\n",
       "      <td>9998.0</td>\n",
       "      <td>7</td>\n",
       "      <td>SUBMISSION</td>\n",
       "      <td>PEARLS</td>\n",
       "      <td>700</td>\n",
       "      <td>199900</td>\n",
       "      <td>True</td>\n",
       "      <td>sell</td>\n",
       "    </tr>\n",
       "  </tbody>\n",
       "</table>\n",
       "<p>6625 rows × 9 columns</p>\n",
       "</div>"
      ],
      "text/plain": [
       "     buyer    price  quantity      seller   symbol  order_time  fill_time  \\\n",
       "0           10002.0         1               PEARLS         100        100   \n",
       "0            9998.0         1  SUBMISSION   PEARLS           0        100   \n",
       "1            9996.0         1  SUBMISSION   PEARLS         100        200   \n",
       "1           10002.0         1               PEARLS         100        200   \n",
       "2           10002.0         1               PEARLS         100        300   \n",
       "...    ...      ...       ...         ...      ...         ...        ...   \n",
       "1995         9998.0         7  SUBMISSION   PEARLS         700     199800   \n",
       "4624         4905.0        17              BANANAS      199500     199800   \n",
       "4626         4906.0         3              BANANAS      199900     199900   \n",
       "4627        10002.0         1               PEARLS      199700     199900   \n",
       "1996         9998.0         7  SUBMISSION   PEARLS         700     199900   \n",
       "\n",
       "      is_me my_action  \n",
       "0     False      None  \n",
       "0      True      sell  \n",
       "1      True      sell  \n",
       "1     False      None  \n",
       "2     False      None  \n",
       "...     ...       ...  \n",
       "1995   True      sell  \n",
       "4624  False      None  \n",
       "4626  False      None  \n",
       "4627  False      None  \n",
       "1996   True      sell  \n",
       "\n",
       "[6625 rows x 9 columns]"
      ]
     },
     "execution_count": 23,
     "metadata": {},
     "output_type": "execute_result"
    }
   ],
   "source": [
    "trade_df"
   ]
  },
  {
   "cell_type": "code",
   "execution_count": null,
   "id": "0502aea4",
   "metadata": {},
   "outputs": [],
   "source": []
  },
  {
   "cell_type": "code",
   "execution_count": null,
   "id": "2ff133ea",
   "metadata": {},
   "outputs": [],
   "source": []
  },
  {
   "cell_type": "code",
   "execution_count": null,
   "id": "caa9e01a",
   "metadata": {},
   "outputs": [],
   "source": []
  },
  {
   "cell_type": "code",
   "execution_count": null,
   "id": "c7d329b1",
   "metadata": {},
   "outputs": [],
   "source": []
  }
 ],
 "metadata": {
  "kernelspec": {
   "display_name": "Python 3 (ipykernel)",
   "language": "python",
   "name": "python3"
  },
  "language_info": {
   "codemirror_mode": {
    "name": "ipython",
    "version": 3
   },
   "file_extension": ".py",
   "mimetype": "text/x-python",
   "name": "python",
   "nbconvert_exporter": "python",
   "pygments_lexer": "ipython3",
   "version": "3.9.12"
  }
 },
 "nbformat": 4,
 "nbformat_minor": 5
}
