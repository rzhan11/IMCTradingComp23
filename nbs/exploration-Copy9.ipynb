{
 "cells": [
  {
   "cell_type": "markdown",
   "id": "76e15b4e",
   "metadata": {
    "toc-hr-collapsed": true
   },
   "source": [
    "# Description\n",
    "\n",
    "- This is an analysis notebook\n",
    "\n",
    "## Features"
   ]
  },
  {
   "cell_type": "markdown",
   "id": "1f217328",
   "metadata": {},
   "source": [
    "## todo:\n",
    "- my_positions\n",
    "    - calculate approx product price per turn\n",
    "    - calculate total inventory value + total net worth (aka pnl)\n",
    "- visualize book"
   ]
  },
  {
   "cell_type": "code",
   "execution_count": 1,
   "id": "5b119748",
   "metadata": {
    "ExecuteTime": {
     "end_time": "2023-03-24T08:56:46.696290Z",
     "start_time": "2023-03-24T08:56:46.590091Z"
    }
   },
   "outputs": [
    {
     "data": {
      "text/html": [
       "<style>.container { width:75% !important; }</style>"
      ],
      "text/plain": [
       "<IPython.core.display.HTML object>"
      ]
     },
     "metadata": {},
     "output_type": "display_data"
    }
   ],
   "source": [
    "from IPython.display import display, HTML\n",
    "import ipywidgets as widgets\n",
    "from ipywidgets import interact\n",
    "display(HTML(\"<style>.container { width:75% !important; }</style>\"))"
   ]
  },
  {
   "cell_type": "code",
   "execution_count": 2,
   "id": "a576f892",
   "metadata": {
    "ExecuteTime": {
     "end_time": "2023-03-24T08:56:48.812371Z",
     "start_time": "2023-03-24T08:56:46.699042Z"
    },
    "execution": {
     "iopub.execute_input": "2023-03-13T04:11:24.984898Z",
     "iopub.status.busy": "2023-03-13T04:11:24.984765Z",
     "iopub.status.idle": "2023-03-13T04:11:25.546288Z",
     "shell.execute_reply": "2023-03-13T04:11:25.545891Z",
     "shell.execute_reply.started": "2023-03-13T04:11:24.984888Z"
    },
    "tags": []
   },
   "outputs": [],
   "source": [
    "import pandas as pd\n",
    "import numpy as np\n",
    "import json\n",
    "import copy\n",
    "import traceback\n",
    "\n",
    "import matplotlib as mpl\n",
    "from matplotlib import pyplot as plt"
   ]
  },
  {
   "cell_type": "code",
   "execution_count": 3,
   "id": "e9d16aaf",
   "metadata": {
    "ExecuteTime": {
     "end_time": "2023-03-24T08:56:48.818389Z",
     "start_time": "2023-03-24T08:56:48.814554Z"
    },
    "execution": {
     "iopub.execute_input": "2023-03-13T04:11:25.546973Z",
     "iopub.status.busy": "2023-03-13T04:11:25.546850Z",
     "iopub.status.idle": "2023-03-13T04:11:25.549708Z",
     "shell.execute_reply": "2023-03-13T04:11:25.549404Z",
     "shell.execute_reply.started": "2023-03-13T04:11:25.546963Z"
    },
    "tags": []
   },
   "outputs": [],
   "source": [
    "from log_parser import process_file, process_file_jasper\n",
    "\n"
   ]
  },
  {
   "cell_type": "markdown",
   "id": "768952b6",
   "metadata": {},
   "source": [
    "# parameters"
   ]
  },
  {
   "cell_type": "code",
   "execution_count": 4,
   "id": "3fc70842",
   "metadata": {
    "ExecuteTime": {
     "end_time": "2023-03-24T08:56:48.825972Z",
     "start_time": "2023-03-24T08:56:48.821708Z"
    },
    "execution": {
     "iopub.execute_input": "2023-03-13T04:11:25.550242Z",
     "iopub.status.busy": "2023-03-13T04:11:25.550160Z",
     "iopub.status.idle": "2023-03-13T04:11:25.552532Z",
     "shell.execute_reply": "2023-03-13T04:11:25.552262Z",
     "shell.execute_reply.started": "2023-03-13T04:11:25.550233Z"
    },
    "tags": []
   },
   "outputs": [
    {
     "name": "stdout",
     "output_type": "stream",
     "text": [
      "_fname ../replays/local.log\n"
     ]
    }
   ],
   "source": [
    "# _fname = \"../replays/local_30k.log\"\n",
    "_fname = \"../replays/local.log\"\n",
    "# _fname = \"../replays/day1-log15.log\"\n",
    "# _fname = \"../replays/day2-log14-gridlines.log\"\n",
    "_time_step = 100\n",
    "_max_time = 3000000\n",
    "_symbols = [\"BANANAS\", \"PEARLS\", \"COCONUTS\", \"PINA_COLADAS\"]\n",
    "_products = [\"BANANAS\", \"PEARLS\", \"COCONUTS\", \"PINA_COLADAS\"]\n",
    "\n",
    "print(\"_fname\", _fname)\n"
   ]
  },
  {
   "cell_type": "markdown",
   "id": "dce9471c",
   "metadata": {},
   "source": [
    "# pre processing"
   ]
  },
  {
   "cell_type": "code",
   "execution_count": 5,
   "id": "c212d7c3",
   "metadata": {
    "ExecuteTime": {
     "end_time": "2023-03-24T08:56:51.198520Z",
     "start_time": "2023-03-24T08:56:48.829080Z"
    },
    "execution": {
     "iopub.execute_input": "2023-03-13T04:11:25.553185Z",
     "iopub.status.busy": "2023-03-13T04:11:25.553090Z",
     "iopub.status.idle": "2023-03-13T04:11:25.589136Z",
     "shell.execute_reply": "2023-03-13T04:11:25.588556Z",
     "shell.execute_reply.started": "2023-03-13T04:11:25.553176Z"
    },
    "tags": []
   },
   "outputs": [
    {
     "name": "stdout",
     "output_type": "stream",
     "text": [
      "Reading from input file ../replays/local.log\n",
      "num missing_times 0\n",
      "missing_times []\n"
     ]
    }
   ],
   "source": [
    "# load data from file\n",
    "\n",
    "obj = process_file(_fname, start_sep=\"__game_state_start\", end_sep=\"__game_state_end\")\n",
    "\n",
    "raw_df = pd.DataFrame(obj)\n",
    "\n",
    "listings = pd.DataFrame(raw_df[\"listings\"][0])\n",
    "# products = set(listings.T[\"product\"])\n",
    "raw_df = raw_df.drop(\"listings\", axis=1)\n",
    "raw_df = raw_df.rename({\n",
    "    \"timestamp\": \"time\",\n",
    "    \"order_depths\": \"book\",\n",
    "}, axis=1)\n",
    "\n",
    "missing_times = set([i for i in range(0, _max_time, _time_step)]) - set(raw_df[\"time\"])\n",
    "print(\"num missing_times\", len(missing_times))\n",
    "print(\"missing_times\", sorted(missing_times))\n"
   ]
  },
  {
   "cell_type": "code",
   "execution_count": 6,
   "id": "42cd41d0",
   "metadata": {
    "ExecuteTime": {
     "end_time": "2023-03-24T08:56:53.507770Z",
     "start_time": "2023-03-24T08:56:51.200869Z"
    },
    "execution": {
     "iopub.execute_input": "2023-03-13T04:11:25.589908Z",
     "iopub.status.busy": "2023-03-13T04:11:25.589782Z",
     "iopub.status.idle": "2023-03-13T04:11:25.656192Z",
     "shell.execute_reply": "2023-03-13T04:11:25.655607Z",
     "shell.execute_reply.started": "2023-03-13T04:11:25.589898Z"
    },
    "tags": []
   },
   "outputs": [
    {
     "name": "stdout",
     "output_type": "stream",
     "text": [
      "Reading from input file ../replays/local.log\n",
      "num missing_times 0\n",
      "missing_times []\n"
     ]
    }
   ],
   "source": [
    "# load order info from file\n",
    "obj = process_file(_fname, start_sep=\"__turn_end_start\", end_sep=\"__turn_end_end\")\n",
    "raw_records = pd.DataFrame(obj)\n",
    "\n",
    "missing_times = set([i for i in range(0, _max_time, _time_step)]) - set(raw_records[\"time\"])\n",
    "print(\"num missing_times\", len(missing_times))\n",
    "print(\"missing_times\", sorted(missing_times))"
   ]
  },
  {
   "cell_type": "code",
   "execution_count": 7,
   "id": "d2167282",
   "metadata": {
    "ExecuteTime": {
     "end_time": "2023-03-24T08:56:53.527748Z",
     "start_time": "2023-03-24T08:56:53.510216Z"
    }
   },
   "outputs": [
    {
     "data": {
      "text/html": [
       "<div>\n",
       "<style scoped>\n",
       "    .dataframe tbody tr th:only-of-type {\n",
       "        vertical-align: middle;\n",
       "    }\n",
       "\n",
       "    .dataframe tbody tr th {\n",
       "        vertical-align: top;\n",
       "    }\n",
       "\n",
       "    .dataframe thead th {\n",
       "        text-align: right;\n",
       "    }\n",
       "</style>\n",
       "<table border=\"1\" class=\"dataframe\">\n",
       "  <thead>\n",
       "    <tr style=\"text-align: right;\">\n",
       "      <th></th>\n",
       "      <th>0</th>\n",
       "      <th>1</th>\n",
       "      <th>2</th>\n",
       "      <th>3</th>\n",
       "      <th>4</th>\n",
       "      <th>5</th>\n",
       "      <th>6</th>\n",
       "      <th>7</th>\n",
       "      <th>8</th>\n",
       "      <th>9</th>\n",
       "      <th>...</th>\n",
       "      <th>29990</th>\n",
       "      <th>29991</th>\n",
       "      <th>29992</th>\n",
       "      <th>29993</th>\n",
       "      <th>29994</th>\n",
       "      <th>29995</th>\n",
       "      <th>29996</th>\n",
       "      <th>29997</th>\n",
       "      <th>29998</th>\n",
       "      <th>29999</th>\n",
       "    </tr>\n",
       "  </thead>\n",
       "  <tbody>\n",
       "    <tr>\n",
       "      <th>finish_turn</th>\n",
       "      <td>-1</td>\n",
       "      <td>0</td>\n",
       "      <td>1</td>\n",
       "      <td>2</td>\n",
       "      <td>3</td>\n",
       "      <td>4</td>\n",
       "      <td>5</td>\n",
       "      <td>6</td>\n",
       "      <td>7</td>\n",
       "      <td>8</td>\n",
       "      <td>...</td>\n",
       "      <td>29989</td>\n",
       "      <td>29990</td>\n",
       "      <td>29991</td>\n",
       "      <td>29992</td>\n",
       "      <td>29993</td>\n",
       "      <td>29994</td>\n",
       "      <td>29995</td>\n",
       "      <td>29996</td>\n",
       "      <td>29997</td>\n",
       "      <td>29998</td>\n",
       "    </tr>\n",
       "  </tbody>\n",
       "</table>\n",
       "<p>1 rows × 30000 columns</p>\n",
       "</div>"
      ],
      "text/plain": [
       "             0      1      2      3      4      5      6      7      8      \\\n",
       "finish_turn     -1      0      1      2      3      4      5      6      7   \n",
       "\n",
       "             9      ...  29990  29991  29992  29993  29994  29995  29996  \\\n",
       "finish_turn      8  ...  29989  29990  29991  29992  29993  29994  29995   \n",
       "\n",
       "             29997  29998  29999  \n",
       "finish_turn  29996  29997  29998  \n",
       "\n",
       "[1 rows x 30000 columns]"
      ]
     },
     "metadata": {},
     "output_type": "display_data"
    }
   ],
   "source": [
    "# finish turns\n",
    "display(raw_df[[\"finish_turn\"]].T)"
   ]
  },
  {
   "cell_type": "markdown",
   "id": "0909bdcc",
   "metadata": {},
   "source": [
    "### total runtime"
   ]
  },
  {
   "cell_type": "code",
   "execution_count": 8,
   "id": "c1119a00",
   "metadata": {
    "ExecuteTime": {
     "end_time": "2023-03-24T08:56:53.542162Z",
     "start_time": "2023-03-24T08:56:53.529905Z"
    }
   },
   "outputs": [
    {
     "data": {
      "text/html": [
       "<div>\n",
       "<style scoped>\n",
       "    .dataframe tbody tr th:only-of-type {\n",
       "        vertical-align: middle;\n",
       "    }\n",
       "\n",
       "    .dataframe tbody tr th {\n",
       "        vertical-align: top;\n",
       "    }\n",
       "\n",
       "    .dataframe thead th {\n",
       "        text-align: right;\n",
       "    }\n",
       "</style>\n",
       "<table border=\"1\" class=\"dataframe\">\n",
       "  <thead>\n",
       "    <tr style=\"text-align: right;\">\n",
       "      <th></th>\n",
       "      <th>0</th>\n",
       "    </tr>\n",
       "  </thead>\n",
       "  <tbody>\n",
       "    <tr>\n",
       "      <th>wall_time</th>\n",
       "      <td>27.301548</td>\n",
       "    </tr>\n",
       "    <tr>\n",
       "      <th>process_time</th>\n",
       "      <td>26.487689</td>\n",
       "    </tr>\n",
       "  </tbody>\n",
       "</table>\n",
       "</div>"
      ],
      "text/plain": [
       "                      0\n",
       "wall_time     27.301548\n",
       "process_time  26.487689"
      ]
     },
     "metadata": {},
     "output_type": "display_data"
    },
    {
     "data": {
      "text/html": [
       "<div>\n",
       "<style scoped>\n",
       "    .dataframe tbody tr th:only-of-type {\n",
       "        vertical-align: middle;\n",
       "    }\n",
       "\n",
       "    .dataframe tbody tr th {\n",
       "        vertical-align: top;\n",
       "    }\n",
       "\n",
       "    .dataframe thead th {\n",
       "        text-align: right;\n",
       "    }\n",
       "</style>\n",
       "<table border=\"1\" class=\"dataframe\">\n",
       "  <thead>\n",
       "    <tr style=\"text-align: right;\">\n",
       "      <th></th>\n",
       "      <th>0</th>\n",
       "    </tr>\n",
       "  </thead>\n",
       "  <tbody>\n",
       "    <tr>\n",
       "      <th>wall_time</th>\n",
       "      <td>0.031663</td>\n",
       "    </tr>\n",
       "    <tr>\n",
       "      <th>process_time</th>\n",
       "      <td>0.004382</td>\n",
       "    </tr>\n",
       "  </tbody>\n",
       "</table>\n",
       "</div>"
      ],
      "text/plain": [
       "                     0\n",
       "wall_time     0.031663\n",
       "process_time  0.004382"
      ]
     },
     "metadata": {},
     "output_type": "display_data"
    }
   ],
   "source": [
    "# show total runtime of program\n",
    "display(raw_records[[\"wall_time\", \"process_time\"]].sum().to_frame())\n",
    "\n",
    "display(raw_records[[\"wall_time\", \"process_time\"]].max().to_frame())"
   ]
  },
  {
   "cell_type": "markdown",
   "id": "02976718",
   "metadata": {},
   "source": [
    "### add turns"
   ]
  },
  {
   "cell_type": "code",
   "execution_count": 9,
   "id": "08f4b802",
   "metadata": {
    "ExecuteTime": {
     "end_time": "2023-03-24T08:56:53.588611Z",
     "start_time": "2023-03-24T08:56:53.544165Z"
    },
    "execution": {
     "iopub.execute_input": "2023-03-13T04:11:25.658726Z",
     "iopub.status.busy": "2023-03-13T04:11:25.658548Z",
     "iopub.status.idle": "2023-03-13T04:11:25.663344Z",
     "shell.execute_reply": "2023-03-13T04:11:25.662784Z",
     "shell.execute_reply.started": "2023-03-13T04:11:25.658713Z"
    },
    "tags": []
   },
   "outputs": [],
   "source": [
    "# add turns (vs time)\n",
    "\n",
    "all_times = raw_df[\"time\"]\n",
    "turn2time_map = all_times.to_dict()\n",
    "time2turn_map = {v: k for k, v in turn2time_map.items()}\n",
    "raw_df[\"turn\"] = raw_df[\"time\"].map(time2turn_map)\n",
    "\n",
    "raw_df.index = raw_df[\"turn\"]"
   ]
  },
  {
   "cell_type": "markdown",
   "id": "2c9ff28f",
   "metadata": {},
   "source": [
    "### ref_stat_df\n",
    "- the EMA values that were calculated during the program\n",
    "- quote_mids during program\n",
    "- fair valeus calculated during program"
   ]
  },
  {
   "cell_type": "code",
   "execution_count": 10,
   "id": "d5448201",
   "metadata": {
    "ExecuteTime": {
     "end_time": "2023-03-24T08:56:59.831017Z",
     "start_time": "2023-03-24T08:56:53.594267Z"
    },
    "execution": {
     "iopub.execute_input": "2023-03-13T04:11:25.889505Z",
     "iopub.status.busy": "2023-03-13T04:11:25.889395Z",
     "iopub.status.idle": "2023-03-13T04:11:26.045093Z",
     "shell.execute_reply": "2023-03-13T04:11:26.044659Z",
     "shell.execute_reply.started": "2023-03-13T04:11:25.889495Z"
    },
    "tags": []
   },
   "outputs": [],
   "source": [
    "# ref_emas contains EMA values that were used during the program\n",
    "ref_emas = raw_records[\"best_emas\"].apply(pd.Series).round(2)\n",
    "ref_emas = pd.concat([ref_emas, raw_records[\"time\"]], axis=1)\n",
    "\n",
    "ref_ema_df = ref_emas.melt(id_vars=[\"time\"], var_name=\"symbol\", value_name=\"ref_ema\") \\\n",
    "                        .sort_values(by=[\"time\", \"symbol\"]) \\\n",
    "                        .reset_index(drop=True)\n"
   ]
  },
  {
   "cell_type": "code",
   "execution_count": null,
   "id": "542df06a",
   "metadata": {
    "ExecuteTime": {
     "start_time": "2023-03-24T08:56:46.627Z"
    }
   },
   "outputs": [],
   "source": [
    "# large_quote_mid\n",
    "quote_mids = raw_records[\"quote_mids\"].apply(pd.Series)\n",
    "quote_mids = pd.concat([quote_mids, raw_records[\"time\"]], axis=1)\n",
    "\n",
    "quote_mid_df = quote_mids.melt(id_vars=[\"time\"], var_name=\"symbol\", value_name=\"quote_mid\") \\\n",
    "                        .sort_values(by=[\"time\", \"symbol\"]) \\\n",
    "                        .reset_index(drop=True)\n",
    "\n",
    "\n",
    "# large_quote_mid\n",
    "use_quote_mids = raw_records[\"use_quote_mids\"].apply(pd.Series)\n",
    "use_quote_mids = pd.concat([use_quote_mids, raw_records[\"time\"]], axis=1)\n",
    "\n",
    "use_quote_mid_df = use_quote_mids.melt(id_vars=[\"time\"], var_name=\"symbol\", value_name=\"use_quote_mid\") \\\n",
    "                        .sort_values(by=[\"time\", \"symbol\"]) \\\n",
    "                        .reset_index(drop=True)\n",
    "\n"
   ]
  },
  {
   "cell_type": "code",
   "execution_count": null,
   "id": "d25ac5f9",
   "metadata": {
    "ExecuteTime": {
     "start_time": "2023-03-24T08:56:46.630Z"
    }
   },
   "outputs": [],
   "source": [
    "fair_values = raw_records[\"fair_values\"].apply(pd.Series)\n",
    "fair_values = pd.concat([fair_values, raw_records[\"time\"]], axis=1)\n",
    "\n",
    "fair_value_df = fair_values.melt(id_vars=[\"time\"], var_name=\"symbol\", value_name=\"fair_value\") \\\n",
    "                        .sort_values(by=[\"time\", \"symbol\"]) \\\n",
    "                        .reset_index(drop=True)\n"
   ]
  },
  {
   "cell_type": "code",
   "execution_count": null,
   "id": "e3852471",
   "metadata": {
    "ExecuteTime": {
     "start_time": "2023-03-24T08:56:46.635Z"
    }
   },
   "outputs": [],
   "source": [
    "ref_stat_df = pd.concat([\n",
    "    ref_ema_df.set_index([\"time\", \"symbol\"]),\n",
    "    quote_mid_df.set_index([\"time\", \"symbol\"]),\n",
    "    use_quote_mid_df.set_index([\"time\", \"symbol\"]),\n",
    "    fair_value_df.set_index([\"time\", \"symbol\"]),\n",
    "], axis=1).reset_index()"
   ]
  },
  {
   "cell_type": "code",
   "execution_count": null,
   "id": "85026ee2",
   "metadata": {},
   "outputs": [],
   "source": []
  },
  {
   "cell_type": "markdown",
   "id": "a36cd4b9",
   "metadata": {
    "ExecuteTime": {
     "end_time": "2023-02-23T18:34:51.249438Z",
     "start_time": "2023-02-23T18:34:51.223662Z"
    }
   },
   "source": [
    "### book_tops"
   ]
  },
  {
   "cell_type": "markdown",
   "id": "3fa56385",
   "metadata": {},
   "source": [
    "#### modify raw_df[\"book\"] to be all ints"
   ]
  },
  {
   "cell_type": "code",
   "execution_count": null,
   "id": "4c62283d",
   "metadata": {
    "ExecuteTime": {
     "start_time": "2023-03-24T08:56:46.641Z"
    },
    "execution": {
     "iopub.execute_input": "2023-03-13T04:11:25.664167Z",
     "iopub.status.busy": "2023-03-13T04:11:25.664045Z",
     "iopub.status.idle": "2023-03-13T04:11:25.673646Z",
     "shell.execute_reply": "2023-03-13T04:11:25.673272Z",
     "shell.execute_reply.started": "2023-03-13T04:11:25.664158Z"
    },
    "tags": []
   },
   "outputs": [],
   "source": [
    "# modify raw_df[\"book\"] to be all ints\n",
    "raw_df[\"book\"] = raw_df[\"book\"].apply(lambda x: {\n",
    "    sym: {\n",
    "        typ: {\n",
    "            int(k) : v for k, v in orders.items()\n",
    "        }\n",
    "        for typ, orders in all_orders.items()\n",
    "    }\n",
    "    for sym, all_orders in x.items()\n",
    "})"
   ]
  },
  {
   "cell_type": "code",
   "execution_count": null,
   "id": "c47c6ea6",
   "metadata": {
    "ExecuteTime": {
     "start_time": "2023-03-24T08:56:46.644Z"
    },
    "execution": {
     "iopub.execute_input": "2023-03-13T04:11:25.674396Z",
     "iopub.status.busy": "2023-03-13T04:11:25.674296Z",
     "iopub.status.idle": "2023-03-13T04:11:25.697487Z",
     "shell.execute_reply": "2023-03-13T04:11:25.696960Z",
     "shell.execute_reply.started": "2023-03-13T04:11:25.674387Z"
    },
    "tags": []
   },
   "outputs": [],
   "source": [
    "book_data = []\n",
    "book_cols = []\n",
    "\n",
    "cmp = lambda k : tuple([int(k[0]), int(k[1])])\n",
    "\n",
    "for sym in _symbols:\n",
    "    ### buys\n",
    "    col = raw_df[\"book\"].apply(lambda x: x[sym])\n",
    "    # convert dicts into int -> int\n",
    "    col = col.apply(lambda x : [(int(k), v) for k, v in x[\"buy_orders\"].items()])\n",
    "    col = col.apply(lambda x : sorted(x, reverse=True))\n",
    "    col = col.apply(lambda x : x[0][0] if len(x) > 0 else np.nan).astype(float)\n",
    "    \n",
    "    book_data += [col]\n",
    "    book_cols += [f\"{sym}_best_buy\"]\n",
    "    \n",
    "    \n",
    "    ### sells\n",
    "    col = raw_df[\"book\"].apply(lambda x: x[sym])\n",
    "    col = col.apply(lambda x : [(int(k), v) for k, v in x[\"sell_orders\"].items()])\n",
    "    col = col.apply(lambda x : sorted(x, reverse=False))\n",
    "    col = col.apply(lambda x: x[0][0] if len(x) > 0 else np.nan).astype(float)\n",
    "    \n",
    "    book_data += [col]\n",
    "    book_cols += [f\"{sym}_best_sell\"]\n",
    "    \n",
    "    \n",
    "book_tops = pd.concat(book_data, axis=1)\n",
    "book_tops.columns = book_cols\n",
    "\n",
    "# all book tops\n",
    "for sym in _symbols:\n",
    "    book_tops[f\"{sym}_mid\"] = (book_tops[f\"{sym}_best_buy\"] + book_tops[f\"{sym}_best_sell\"]) / 2\n",
    "    book_tops[f\"{sym}_spread\"] = book_tops[f\"{sym}_best_sell\"] - book_tops[f\"{sym}_best_buy\"]\n",
    "    \n",
    "    print(\"missing mids\", sym, list(book_tops.index[book_tops[f\"{sym}_mid\"].isna()]))\n",
    "    \n",
    "    book_tops[f\"{sym}_mid\"] = book_tops[f\"{sym}_mid\"].bfill()\n",
    "    assert book_tops[f\"{sym}_spread\"].all() > 0\n",
    "\n",
    "# sort columns\n",
    "book_tops = book_tops.reindex(sorted(book_tops.columns), axis=1)\n",
    "book_tops[\"time\"] = raw_df[\"time\"]\n",
    "\n"
   ]
  },
  {
   "cell_type": "code",
   "execution_count": null,
   "id": "b91d7386",
   "metadata": {
    "ExecuteTime": {
     "start_time": "2023-03-24T08:56:46.647Z"
    },
    "execution": {
     "iopub.execute_input": "2023-03-13T04:11:25.698443Z",
     "iopub.status.busy": "2023-03-13T04:11:25.698233Z",
     "iopub.status.idle": "2023-03-13T04:11:25.701619Z",
     "shell.execute_reply": "2023-03-13T04:11:25.701303Z",
     "shell.execute_reply.started": "2023-03-13T04:11:25.698431Z"
    },
    "tags": []
   },
   "outputs": [],
   "source": [
    "num_data_dropna = len(book_tops.dropna())\n",
    "num_data = len(book_tops)\n",
    "\n",
    "print(f\"Orig count: {num_data}\")\n",
    "print(f\"Remaining count: {num_data_dropna}\")\n",
    "print(f\"nan count: {num_data - num_data_dropna}\")"
   ]
  },
  {
   "cell_type": "code",
   "execution_count": null,
   "id": "4a7348cb-ac30-43ac-9e7c-c9419c00d3d4",
   "metadata": {
    "ExecuteTime": {
     "start_time": "2023-03-24T08:56:46.650Z"
    },
    "execution": {
     "iopub.execute_input": "2023-03-13T04:11:25.702404Z",
     "iopub.status.busy": "2023-03-13T04:11:25.702272Z",
     "iopub.status.idle": "2023-03-13T04:11:25.713129Z",
     "shell.execute_reply": "2023-03-13T04:11:25.712669Z",
     "shell.execute_reply.started": "2023-03-13T04:11:25.702394Z"
    },
    "scrolled": true,
    "tags": []
   },
   "outputs": [],
   "source": [
    "book_tops"
   ]
  },
  {
   "cell_type": "code",
   "execution_count": null,
   "id": "026885f0",
   "metadata": {
    "ExecuteTime": {
     "end_time": "2023-03-20T21:45:51.212954Z",
     "start_time": "2023-03-20T21:45:51.210560Z"
    },
    "execution": {
     "iopub.execute_input": "2023-03-13T04:11:25.714128Z",
     "iopub.status.busy": "2023-03-13T04:11:25.713894Z",
     "iopub.status.idle": "2023-03-13T04:11:25.716219Z",
     "shell.execute_reply": "2023-03-13T04:11:25.715744Z",
     "shell.execute_reply.started": "2023-03-13T04:11:25.714110Z"
    },
    "tags": []
   },
   "outputs": [],
   "source": []
  },
  {
   "cell_type": "code",
   "execution_count": null,
   "id": "68583243",
   "metadata": {
    "ExecuteTime": {
     "start_time": "2023-03-24T08:56:46.656Z"
    },
    "execution": {
     "iopub.execute_input": "2023-03-13T04:11:25.716969Z",
     "iopub.status.busy": "2023-03-13T04:11:25.716849Z",
     "iopub.status.idle": "2023-03-13T04:11:25.719378Z",
     "shell.execute_reply": "2023-03-13T04:11:25.719069Z",
     "shell.execute_reply.started": "2023-03-13T04:11:25.716959Z"
    },
    "tags": []
   },
   "outputs": [],
   "source": [
    "def report_issue_and_continue(condition, fail_msg):\n",
    "    try:\n",
    "        assert condition\n",
    "    except:\n",
    "        traceback.print_exc()\n",
    "        display(fail_msg)"
   ]
  },
  {
   "cell_type": "markdown",
   "id": "fc24d3cb",
   "metadata": {},
   "source": [
    "### func - flatten_trades() + mark my trades"
   ]
  },
  {
   "cell_type": "code",
   "execution_count": null,
   "id": "31596bb8",
   "metadata": {
    "ExecuteTime": {
     "start_time": "2023-03-24T08:56:46.660Z"
    },
    "execution": {
     "iopub.execute_input": "2023-03-13T04:11:25.720041Z",
     "iopub.status.busy": "2023-03-13T04:11:25.719916Z",
     "iopub.status.idle": "2023-03-13T04:11:25.724278Z",
     "shell.execute_reply": "2023-03-13T04:11:25.723809Z",
     "shell.execute_reply.started": "2023-03-13T04:11:25.720032Z"
    },
    "tags": []
   },
   "outputs": [],
   "source": [
    "def flatten_trades(raw_df, col, is_me):\n",
    "    # get market trades\n",
    "\n",
    "    data = []\n",
    "    for index, row  in raw_df.iterrows():\n",
    "        all_trades = list(row[col].values())\n",
    "        for sym_trades in all_trades:\n",
    "            for trade in sym_trades:\n",
    "                trade[\"time\"] = row[\"time\"] # fill time\n",
    "                trade[\"turn\"] = row[\"turn\"] # fill time\n",
    "            data += sym_trades\n",
    "\n",
    "    df = pd.DataFrame(data)\n",
    "    # print(df.columns)\n",
    "    df = df.rename({\"timestamp\": \"order_time\"}, axis=1)\n",
    "    \n",
    "    # calculate info about my trades\n",
    "    df[\"is_me\"] = is_me\n",
    "    df[\"my_buy\"] = df[\"buyer\"] == \"SUBMISSION\"\n",
    "    df[\"my_sell\"] = df[\"seller\"] == \"SUBMISSION\"\n",
    "    df[\"my_quantity\"] = df[\"quantity\"] * (df[\"my_buy\"].astype(int) - df[\"my_sell\"].astype(int))\n",
    "    df[\"self_trade\"] = df[\"my_buy\"] & df[\"my_sell\"]\n",
    "    \n",
    "    # report self trades\n",
    "    self_trades = df[df[\"self_trade\"]]\n",
    "    report_issue_and_continue( len(self_trades) == 0, self_trades)\n",
    "    \n",
    "    return df"
   ]
  },
  {
   "cell_type": "code",
   "execution_count": null,
   "id": "4a12bed4",
   "metadata": {
    "ExecuteTime": {
     "start_time": "2023-03-24T08:56:46.663Z"
    }
   },
   "outputs": [],
   "source": [
    "my_trades = flatten_trades(\n",
    "    raw_df, \n",
    "    \"own_trades\", \n",
    "    is_me=True\n",
    ").sort_values(by=\"time\")"
   ]
  },
  {
   "cell_type": "markdown",
   "id": "ea99c492",
   "metadata": {},
   "source": [
    "### dup trade filtering -> market_trades, my_trades, trade_df"
   ]
  },
  {
   "cell_type": "code",
   "execution_count": null,
   "id": "9f7eedbd",
   "metadata": {
    "ExecuteTime": {
     "start_time": "2023-03-24T08:56:46.668Z"
    },
    "execution": {
     "iopub.execute_input": "2023-03-13T04:11:25.725215Z",
     "iopub.status.busy": "2023-03-13T04:11:25.725029Z",
     "iopub.status.idle": "2023-03-13T04:11:25.833287Z",
     "shell.execute_reply": "2023-03-13T04:11:25.832821Z",
     "shell.execute_reply.started": "2023-03-13T04:11:25.725199Z"
    },
    "tags": []
   },
   "outputs": [],
   "source": [
    "# get my_trades, market_trades, and trade_df (all_trades)\n",
    "\n",
    "market_trades = flatten_trades(\n",
    "    raw_df, \n",
    "    \"market_trades\", \n",
    "    is_me=False\n",
    ").sort_values(by=\"time\")\n",
    "\n",
    "my_trades = flatten_trades(\n",
    "    raw_df, \n",
    "    \"own_trades\", \n",
    "    is_me=True\n",
    ").sort_values(by=\"time\")\n",
    "\n",
    "\"\"\" start of filtering \"\"\"\n",
    "\n",
    "market_trades = market_trades.drop_duplicates(subset=[\"buyer\", \"price\", \"quantity\", \"seller\", \"symbol\", \"order_time\"])\n",
    "# my_trades = my_trades.drop_duplicates(subset=[\"buyer\", \"price\", \"quantity\", \"seller\", \"symbol\", \"order_time\"])\n",
    "\n",
    "\n",
    "# ## old filter methods\n",
    "# # filter market trades (only keep those where order_time = fill_time)\n",
    "# market_trades = market_trades[market_trades[\"time\"] == market_trades[\"order_time\"]]\n",
    "\n",
    "# filter my_trades (only keep those where fill_time = order_time + 100)\n",
    "my_trades = my_trades[my_trades[\"time\"] <= my_trades[\"order_time\"] + _time_step]\n",
    "# end of old filter methods\n",
    "\n",
    "\"\"\" end of filtering \"\"\"\n",
    "\n",
    "trade_df = pd.concat([market_trades, my_trades])\n",
    "\n",
    "sum_cols = [\"quantity\", \"my_quantity\"]\n",
    "\n",
    "# aggregate quantity over similar trades\n",
    "trade_df = trade_df.groupby(list(set(trade_df.columns) - set(sum_cols)))[sum_cols].sum().reset_index()[trade_df.columns]\n",
    "trade_df = trade_df.sort_values(by=[\"time\", \"symbol\"]).reset_index(drop=True)\n",
    "\n",
    "\n",
    "# sort by time\n",
    "trade_df = trade_df.sort_values(by=\"time\").reset_index(drop=True)\n",
    "\n",
    "# add ref_stats to trade_df\n",
    "trade_df = trade_df.merge(ref_stat_df, left_on=[\"order_time\", \"symbol\"], right_on=[\"time\", \"symbol\"], suffixes=(None, \"_ignore\"))\n",
    "trade_df = trade_df.drop(\"time_ignore\", axis=1)\n",
    "trade_df[\"buy_edge\"] = trade_df[\"fair_value\"] - trade_df[\"price\"]\n",
    "\n",
    "my_trades = trade_df[trade_df[\"is_me\"]].copy()\n",
    "market_trades = trade_df[~trade_df[\"is_me\"]].copy()\n",
    "\n"
   ]
  },
  {
   "cell_type": "markdown",
   "id": "95370df2",
   "metadata": {},
   "source": [
    "### volume summary"
   ]
  },
  {
   "cell_type": "code",
   "execution_count": null,
   "id": "1b582061",
   "metadata": {
    "ExecuteTime": {
     "start_time": "2023-03-24T08:56:46.673Z"
    },
    "execution": {
     "iopub.execute_input": "2023-03-13T03:07:01.315498Z",
     "iopub.status.busy": "2023-03-13T03:07:01.315397Z",
     "iopub.status.idle": "2023-03-13T03:07:01.320995Z",
     "shell.execute_reply": "2023-03-13T03:07:01.320336Z",
     "shell.execute_reply.started": "2023-03-13T03:07:01.315486Z"
    },
    "tags": []
   },
   "outputs": [],
   "source": [
    "for sym in _symbols:\n",
    "    print(sym)\n",
    "    \n",
    "    my_sym_trades = my_trades[my_trades[\"symbol\"] == sym]\n",
    "    my_volume = my_sym_trades[\"quantity\"].abs().sum()\n",
    "    market_sym_trades = market_trades[market_trades[\"symbol\"] == sym]\n",
    "    market_volume = market_sym_trades[\"quantity\"].abs().sum()\n",
    "    \n",
    "    my_vol_perc = my_volume / (my_volume + market_volume) * 100\n",
    "    \n",
    "    print(\"[THEM]\\t count:\", len(market_sym_trades), \"\\tvolume:\", market_volume)\n",
    "    print(\"[MY]\\t count:\", len(my_sym_trades), \"\\tvolume:\", my_volume)\n",
    "    print(f\"[MY]\\t vol%: {round(my_vol_perc, 2)}%\")"
   ]
  },
  {
   "cell_type": "markdown",
   "id": "0aee98a1",
   "metadata": {},
   "source": [
    "### my_position validation"
   ]
  },
  {
   "cell_type": "code",
   "execution_count": null,
   "id": "aa42beee",
   "metadata": {
    "ExecuteTime": {
     "start_time": "2023-03-24T08:56:46.677Z"
    },
    "execution": {
     "iopub.execute_input": "2023-03-13T04:11:26.045786Z",
     "iopub.status.busy": "2023-03-13T04:11:26.045692Z",
     "iopub.status.idle": "2023-03-13T04:11:26.156486Z",
     "shell.execute_reply": "2023-03-13T04:11:26.156130Z",
     "shell.execute_reply.started": "2023-03-13T04:11:26.045778Z"
    },
    "tags": []
   },
   "outputs": [],
   "source": [
    "# get my_positions\n",
    "my_positions = pd.DataFrame(list(raw_df[\"position\"])).fillna(0)\n",
    "\n",
    "# add any products of zero quantity\n",
    "for prod in _products:\n",
    "    if prod not in my_positions:\n",
    "        my_positions[prod] = 0\n",
    "\n",
    "# add time/turn to my_positions, sort positions by time\n",
    "my_positions[[\"time\", \"turn\"]] = raw_df[[\"time\", \"turn\"]]\n",
    "my_positions = my_positions.sort_values(by=\"time\")\n",
    "\n",
    "# add cash to my_positions\n",
    "fixed_pos_data = []\n",
    "cur_pos_data = []\n",
    "cur_positions = { prod: 0 for prod in _products }\n",
    "for sym in _symbols:\n",
    "    cur_positions[f\"{sym}_cash\"] = 0\n",
    "fixed_positions = copy.deepcopy(cur_positions)\n",
    "\n",
    "# init cur_turn\n",
    "cur_turn = 0\n",
    "\n",
    "def record_pos_data(cur_positions, fixed_positions, cur_turn, cur_pos_data, fixed_pos_data):\n",
    "    \"\"\"\n",
    "    For a given 'cur_turn', records the positions (calculated from my trades)\n",
    "    \n",
    "    \"\"\"\n",
    "    \n",
    "    global my_positions\n",
    "    \n",
    "    # copy orig pos\n",
    "    cur_pos_data += [copy.deepcopy(cur_positions)]\n",
    "    \n",
    "    # fix positions if necessary\n",
    "    cur_time = turn2time_map[cur_turn]\n",
    "        \n",
    "    ### init fixed_positions for this turn\n",
    "    \n",
    "    # loop through all products\n",
    "    for prod in _products:\n",
    "        # look at difference between expected position, and actual \"fixed_position\"\n",
    "        diff = my_positions[prod][cur_turn] - fixed_positions[prod]\n",
    "        price = book_tops[f\"{prod}_mid\"][cur_turn]\n",
    "        \n",
    "        # report this issue\n",
    "        if diff != 0:\n",
    "            print(f\"[Fixed trade] Turn: {cur_turn}, time: {cur_time}, {prod} {diff} @ {price}\")\n",
    "            \n",
    "        # fix the position \n",
    "        fixed_positions[prod] += diff\n",
    "        fixed_positions[f\"{prod}_cash\"] += -1 * diff * price\n",
    "\n",
    "    # copy fixed pos\n",
    "    fixed_pos_data += [copy.deepcopy(fixed_positions)]\n",
    "\n",
    "\n",
    "# sort my_trades\n",
    "my_trades = my_trades.sort_values(by=[\"time\"])\n",
    "    \n",
    "# loop through each of our trades\n",
    "for index, row in my_trades.iterrows():\n",
    "    # time of current trade\n",
    "    \n",
    "    # iterate until right before this trade occurs\n",
    "    while cur_turn < row[\"turn\"]:\n",
    "        # record this position data as the \"final position\" for the times before this trade\n",
    "        record_pos_data(cur_positions, fixed_positions, cur_turn, cur_pos_data, fixed_pos_data)\n",
    "        # increment the time\n",
    "        cur_turn += 1\n",
    "        \n",
    "    # this trade's product\n",
    "    prod = listings[row[\"symbol\"]][\"product\"]\n",
    "    \n",
    "    # update current positions\n",
    "    cur_positions[f\"{prod}_cash\"] += -1 * row[\"price\"] * row[\"my_quantity\"]\n",
    "    cur_positions[prod] += row[\"my_quantity\"]\n",
    "    \n",
    "    # update fixed positions\n",
    "    fixed_positions[f\"{prod}_cash\"] += -1 * row[\"price\"] * row[\"my_quantity\"]\n",
    "    fixed_positions[prod] += row[\"my_quantity\"]\n",
    "\n",
    "# add for remaining turns\n",
    "while cur_turn < len(turn2time_map):\n",
    "    record_pos_data(cur_positions, fixed_positions, cur_turn, cur_pos_data, fixed_pos_data)\n",
    "    cur_turn += 1\n",
    "\n",
    "# record this data for the last turn\n",
    "# record_pos_data(cur_positions, fixed_positions, cur_time, cur_pos_data, fixed_pos_data)\n",
    "\n",
    "\n",
    "\n",
    "# pos_df contains calculated position data (based on my_trades)\n",
    "pos_df = pd.DataFrame(fixed_pos_data).sort_index(axis=1)\n",
    "\n",
    "# calculate total cash by summing all columns\n",
    "pos_df[\"total_cash\"] = 0\n",
    "for prod in _products:\n",
    "    pos_df[\"total_cash\"] = pos_df[\"total_cash\"] + pos_df[f\"{prod}_cash\"]\n",
    "\n",
    "# add to my_positions\n",
    "for prod in [\"total\", *_products]:\n",
    "    my_positions[f\"{prod}_cash\"] = pos_df[f\"{prod}_cash\"]\n",
    "my_positions = my_positions.sort_index(axis=1)\n",
    "\n",
    "# sanity check our positions\n",
    "for prod in _products:\n",
    "    bad_inds = my_positions.index[my_positions[prod] != pos_df[prod]]\n",
    "    if len(bad_inds) > 0:\n",
    "        print(\"true pos\")\n",
    "        display(my_positions.loc[bad_inds])\n",
    "        print(\"calculated pos\")\n",
    "        display(pos_df.loc[bad_inds])\n",
    "        assert False, f\"Failed check for product: `{prod}`\""
   ]
  },
  {
   "cell_type": "code",
   "execution_count": null,
   "id": "86d5dd17",
   "metadata": {
    "ExecuteTime": {
     "end_time": "2023-03-22T16:22:26.499357Z",
     "start_time": "2023-03-22T16:22:26.431209Z"
    },
    "execution": {
     "iopub.execute_input": "2023-03-13T04:11:26.045786Z",
     "iopub.status.busy": "2023-03-13T04:11:26.045692Z",
     "iopub.status.idle": "2023-03-13T04:11:26.156486Z",
     "shell.execute_reply": "2023-03-13T04:11:26.156130Z",
     "shell.execute_reply.started": "2023-03-13T04:11:26.045778Z"
    },
    "scrolled": false,
    "tags": []
   },
   "outputs": [],
   "source": []
  },
  {
   "cell_type": "markdown",
   "id": "a923e182",
   "metadata": {},
   "source": [
    "### Construct postbook\n",
    "- Want to see what the world looked like, after we submit our orders"
   ]
  },
  {
   "cell_type": "code",
   "execution_count": null,
   "id": "5c7644f4",
   "metadata": {
    "ExecuteTime": {
     "start_time": "2023-03-24T08:56:46.684Z"
    },
    "execution": {
     "iopub.execute_input": "2023-03-13T04:11:26.157318Z",
     "iopub.status.busy": "2023-03-13T04:11:26.157210Z",
     "iopub.status.idle": "2023-03-13T04:11:26.215942Z",
     "shell.execute_reply": "2023-03-13T04:11:26.215568Z",
     "shell.execute_reply.started": "2023-03-13T04:11:26.157308Z"
    },
    "tags": []
   },
   "outputs": [],
   "source": [
    "f_buy = lambda x : sorted(list(x.items()), reverse=True)\n",
    "f_sell = lambda x : sorted(list(x.items()), reverse=False)\n",
    "f_my_buy = lambda x : sorted([(el[\"price\"], el[\"quantity\"]) for el in x], reverse=True)\n",
    "f_my_sell = lambda x : sorted([(el[\"price\"], el[\"quantity\"]) for el in x], reverse=False)\n",
    "\n",
    "book = pd.merge(raw_df[[\"book\", \"time\"]], raw_records, on=\"time\")\n",
    "new_book = book[[\"time\"]].copy()\n",
    "\n",
    "for sym in _symbols:\n",
    "    new_book[f\"{sym}_buys\"] = book[\"book\"].apply(lambda x : f_buy(x[sym][\"buy_orders\"]))\n",
    "    new_book[f\"{sym}_sells\"] = book[\"book\"].apply(lambda x : f_sell(x[sym][\"sell_orders\"]))\n",
    "    new_book[f\"{sym}_my_buys\"] = book[\"my_orders\"].apply(lambda x : f_my_buy(x[sym][\"buy_orders\"]))\n",
    "    new_book[f\"{sym}_my_sells\"] = book[\"my_orders\"].apply(lambda x : f_my_sell(x[sym][\"sell_orders\"]))\n",
    "\n",
    "book = new_book\n"
   ]
  },
  {
   "cell_type": "code",
   "execution_count": null,
   "id": "c2efcda8",
   "metadata": {
    "ExecuteTime": {
     "start_time": "2023-03-24T08:56:46.687Z"
    }
   },
   "outputs": [],
   "source": [
    "def get_postbook_bounds(sym, time, interval):\n",
    "\n",
    "    # all trades\n",
    "    the_trades = trade_df[trade_df[\"symbol\"] == sym]\n",
    "    the_book = book\n",
    "    \n",
    "    \n",
    "    # filter trades\n",
    "    time_lb = time // interval * interval\n",
    "    time_ub = time_lb + interval\n",
    "    \n",
    "    the_trades = the_trades[(time_lb <= the_trades[\"time\"]) & (the_trades[\"time\"] < time_ub)]\n",
    "    the_book = the_book[(time_lb <= the_book[\"time\"]) & (the_book[\"time\"] < time_ub)]\n",
    "    \n",
    "    \n",
    "    def flatten(col):\n",
    "        return [el[0] for l in list(col) for el in l]\n",
    "    \n",
    "    # all orders\n",
    "    market_buys = the_book[f\"{sym}_buys\"]\n",
    "    market_sells = the_book[f\"{sym}_sells\"]\n",
    "    my_buys = the_book[f\"{sym}_my_buys\"]\n",
    "    my_sells = the_book[f\"{sym}_my_sells\"]\n",
    "    \n",
    "    all_prices = [\n",
    "        # all trades\n",
    "        the_trades[\"price\"],\n",
    "        # all orders\n",
    "        flatten(market_buys),\n",
    "        flatten(market_sells),\n",
    "        flatten(my_buys),\n",
    "        flatten(my_sells),\n",
    "    ]\n",
    "    \n",
    "    xmin = min([min(x) for x in all_prices if len(x) > 0])\n",
    "    xmax = max([max(x) for x in all_prices if len(x) > 0])\n",
    "    \n",
    "#     print(\"time\", time_lb, time_ub)\n",
    "#     print(\"xm\", xmin, xmax)\n",
    "    \n",
    "    return xmin, xmax"
   ]
  },
  {
   "cell_type": "code",
   "execution_count": null,
   "id": "29a161b6",
   "metadata": {},
   "outputs": [],
   "source": []
  },
  {
   "cell_type": "code",
   "execution_count": null,
   "id": "ab83c912",
   "metadata": {
    "ExecuteTime": {
     "start_time": "2023-03-24T08:56:46.693Z"
    },
    "execution": {
     "iopub.execute_input": "2023-03-13T04:11:26.216853Z",
     "iopub.status.busy": "2023-03-13T04:11:26.216713Z",
     "iopub.status.idle": "2023-03-13T04:11:26.228305Z",
     "shell.execute_reply": "2023-03-13T04:11:26.227842Z",
     "shell.execute_reply.started": "2023-03-13T04:11:26.216842Z"
    },
    "tags": []
   },
   "outputs": [],
   "source": [
    "def get_book(sym, time):\n",
    "    bk = book[book[\"time\"] == time]\n",
    "    \n",
    "    if len(bk) == 0:\n",
    "        print(f\"No data for {sym} at time {time}\")\n",
    "        return None, None, None, None\n",
    "    \n",
    "    buys = bk[f\"{sym}_buys\"].iloc[0]\n",
    "    sells = bk[f\"{sym}_sells\"].iloc[0]\n",
    "    my_buys = bk[f\"{sym}_my_buys\"].iloc[0]\n",
    "    my_sells = bk[f\"{sym}_my_sells\"].iloc[0]\n",
    "    \n",
    "    return buys, sells, my_buys, my_sells\n",
    "\n",
    "\n",
    "def get_trades(sym, time):\n",
    "    market_ts = market_trades[(market_trades[\"symbol\"] == sym) & (market_trades[\"time\"] == time)]\n",
    "    my_ts = my_trades[(my_trades[\"symbol\"] == sym) & (my_trades[\"time\"] == time)]\n",
    "    \n",
    "    market_ts = market_ts.groupby([\"symbol\", \"time\", \"price\"])[[\"quantity\"]].sum().reset_index()\n",
    "    my_ts = my_ts.groupby([\"symbol\", \"time\", \"price\", \"my_buy\", \"my_sell\"])[[\"quantity\"]].sum().reset_index()\n",
    "    \n",
    "    return market_ts, my_ts\n",
    "\n",
    "\n",
    "def get_ref_ema(sym, time):\n",
    "    return ref_emas.set_index(\"time\").loc[time][sym]\n",
    "\n",
    "\n",
    "def get_fair_value(sym, time):\n",
    "    return fair_values.set_index(\"time\").loc[time][sym]\n",
    "\n",
    "\n",
    "def get_position(sym, time):\n",
    "    return my_positions.set_index(\"time\").loc[time][sym]\n",
    "\n",
    "def get_use_quote_mid(sym, time):\n",
    "    val = ref_stat_df[(ref_stat_df[\"time\"] == time) & (ref_stat_df[\"symbol\"] == sym)][\"use_quote_mid\"]\n",
    "    assert(len(val) == 1)\n",
    "    return val.item()\n",
    "\n",
    "\n",
    "def show_book(sym, \n",
    "              time, \n",
    "              xmin=None, \n",
    "              xmax=None,\n",
    "              ymin=None, \n",
    "              ymax=None,\n",
    "             ):\n",
    "        \n",
    "    # set figsize    \n",
    "    \n",
    "    buys, sells, my_buys, my_sells = get_book(sym, time)\n",
    "    if buys is None:\n",
    "        return\n",
    "    market_ts, my_ts = get_trades(sym, time + _time_step)\n",
    "    ref_ema = get_ref_ema(sym, time)\n",
    "    fair_value = get_fair_value(sym, time)\n",
    "    my_pos = get_position(sym, time)\n",
    "    \n",
    "    is_use_quote_mid = get_use_quote_mid(sym, time)\n",
    "    \n",
    "    # raw my_buys/my_sells\n",
    "    print(sym, \"raw my_buys\")\n",
    "    display(my_buys)\n",
    "    print(sym, \"raw my_sells\")\n",
    "    display(my_sells)\n",
    "    \n",
    "    def f(x):\n",
    "        df = pd.DataFrame(x, columns=[\"price\", \"quantity\"])\n",
    "        if len(df) > 0:\n",
    "            df = df.groupby(\"price\").sum().reset_index()\n",
    "        return df\n",
    "    \n",
    "    buys, sells, my_buys, my_sells = f(buys), f(sells), f(my_buys), f(my_sells)\n",
    "    \n",
    "    # make bars have correct sign\n",
    "    sells[\"quantity\"] *= -1\n",
    "    my_buys[\"quantity\"] *= -1\n",
    "    my_ts[\"quantity\"] *= -1\n",
    "    \n",
    "    # plot order book\n",
    "    if len(buys) > 0:\n",
    "        plt.bar(buys[\"price\"], buys[\"quantity\"], color=\"green\", label=\"market buy\")\n",
    "    if len(sells) > 0:\n",
    "        plt.bar(sells[\"price\"], sells[\"quantity\"], color=\"red\", label=\"market sells\")\n",
    "    \n",
    "    if len(my_buys) > 0:\n",
    "        plt.bar(my_buys[\"price\"], my_buys[\"quantity\"], color=\"blue\", label=\"my buy\")\n",
    "    if len(my_sells) > 0:\n",
    "        plt.bar(my_sells[\"price\"], my_sells[\"quantity\"], color=\"orange\", label=\"my sell\")\n",
    "    \n",
    "    # plot trades\n",
    "    if len(market_ts) > 0:\n",
    "        plt.bar(market_ts[\"price\"], market_ts[\"quantity\"], color=(0, 0, 0, 0), label=\"market trade\", \n",
    "                hatch=\"///\", edgecolor=\"black\")\n",
    "        \n",
    "    if len(my_ts) > 0:\n",
    "        plt.bar(my_ts[\"price\"], my_ts[\"quantity\"], color=(0, 0, 0, 0), label=\"my trade\",\n",
    "                hatch=\"xxx\", edgecolor=\"black\")\n",
    "    \n",
    "    \n",
    "    # use log scale\n",
    "#     plt.yscale('symlog')\n",
    "    \n",
    "    ### draw reference lines\n",
    "    \n",
    "    \n",
    "    # set xlim, ylim\n",
    "    if xmin:\n",
    "        plt.xlim(xmin=xmin)\n",
    "    if xmax:\n",
    "        plt.xlim(xmax=xmax)\n",
    "    if ymin:\n",
    "        plt.ylim(bottom=ymin)\n",
    "    if ymax:\n",
    "        plt.ylim(top=ymax)\n",
    "    \n",
    "    # draw horizontal line at 0 \n",
    "    plt.axhline(y=0.0, color=\"black\", linestyle='-')\n",
    "    \n",
    "    # draw true mid\n",
    "    if len(buys) > 0 and len(sells) > 0:\n",
    "        true_mid = (buys[\"price\"][0] + sells[\"price\"][0]) / 2\n",
    "        plt.axvline(x=true_mid, color=\"red\", linestyle='solid', alpha=0.2)\n",
    "    \n",
    "    # draw ref ema\n",
    "    plt.axvline(x=ref_ema, color=\"orange\", linestyle='dotted')\n",
    "    \n",
    "    # draw fair_value\n",
    "    plt.axvline(x=fair_value, color=\"black\", linestyle='solid')\n",
    "    \n",
    "    ema_span = raw_records[raw_records[\"time\"] == time][\"best_ema_spans\"].iloc[0][sym]\n",
    "    \n",
    "    ### general figure settings    \n",
    "    plt.legend(loc=\"upper center\")\n",
    "    plt.title(f\"{sym} book - Time: {time} - ema_span: {ema_span} - pos: {my_pos} - use_whale: {is_use_quote_mid}\")\n",
    "    \n",
    "    \n",
    "    ### print raw info\n",
    "#     print(\"fair_value\", fair_value)\n",
    "#     print(\"ref_ema\", ref_ema)\n",
    "    \n",
    "#     print(\"my_pos\", my_pos)\n",
    "    \n",
    "#     print(\"market trades\")\n",
    "#     display(market_ts)\n",
    "#     print(\"my trades\")\n",
    "#     display(my_ts)\n",
    "    \n",
    "#     print(\"buys\")\n",
    "#     display(buys.T)\n",
    "#     print(\"sells\")\n",
    "#     display(sells.T)\n",
    "#     print(\"my_buys\")\n",
    "#     display(my_buys.T)\n",
    "#     print(\"my_sells\")\n",
    "#     display(my_sells.T)\n",
    "    \n",
    "    \n",
    "def show_book_simple(\n",
    "        sym,\n",
    "        time,\n",
    "        interval,\n",
    "        # ymin=None,\n",
    "        # ymax=None,\n",
    "        ):\n",
    "    \n",
    "    xmin, xmax = get_postbook_bounds(sym, time, interval)\n",
    "    \n",
    "    \n",
    "    POS_LIMITS = {\n",
    "        \"BANANAS\": (-50, 50),\n",
    "        \"PEARLS\": (-50, 50),\n",
    "        \"COCONUTS\": (-1250, 300),\n",
    "        \"PINA_COLADAS\": (-650, 150),\n",
    "    }\n",
    "    \n",
    "    ymax = max(np.abs(POS_LIMITS[sym]))\n",
    "    ymin = -ymax\n",
    "    \n",
    "    show_book(\n",
    "        sym, \n",
    "        time,\n",
    "        xmin=xmin - 1,\n",
    "        xmax=xmax + 1,\n",
    "        ymin=ymin,\n",
    "        ymax=ymax,\n",
    "    )\n",
    "    \n",
    "    "
   ]
  },
  {
   "cell_type": "code",
   "execution_count": null,
   "id": "13c7a056",
   "metadata": {
    "ExecuteTime": {
     "start_time": "2023-03-24T08:56:46.696Z"
    }
   },
   "outputs": [],
   "source": [
    "def show_book_single(\n",
    "        sym,\n",
    "        time=0,\n",
    "        interval=10000,\n",
    "        ):\n",
    "    \n",
    "    plt.figure(figsize=(15, 6))\n",
    "    show_book_simple(\n",
    "        sym,\n",
    "        time=time,\n",
    "        interval=interval,\n",
    "    )\n",
    "    plt.show()\n",
    "\n",
    "def show_book_pair(\n",
    "        sym1,\n",
    "        sym2,\n",
    "        time=0,\n",
    "        interval=10000,\n",
    "        ):\n",
    "    \n",
    "    # setup figsize\n",
    "    plt.figure(figsize=(15, 10))\n",
    "    \n",
    "    plt.subplot(211)\n",
    "    show_book_simple(\n",
    "        sym1,\n",
    "        time=time,\n",
    "        interval=interval,\n",
    "    )\n",
    "    \n",
    "    plt.subplot(212)\n",
    "    show_book_simple(\n",
    "        sym2,\n",
    "        time=time,\n",
    "        interval=interval,\n",
    "    )\n",
    "    \n",
    "    plt.tight_layout()\n",
    "    plt.show()"
   ]
  },
  {
   "cell_type": "code",
   "execution_count": null,
   "id": "901aa945",
   "metadata": {
    "ExecuteTime": {
     "start_time": "2023-03-24T08:56:46.700Z"
    }
   },
   "outputs": [],
   "source": [
    "# hatched areas show trades\n",
    "# bars show orders\n",
    "\n",
    "# vertical red solid line - true mid price based on book\n",
    "# vertical black dotted line - EMA (that the program used)\n",
    "interact(\n",
    "    show_book_single,\n",
    "    sym=_symbols,\n",
    "    time=(0, _max_time, _time_step),\n",
    "    interval=10000,\n",
    ")"
   ]
  },
  {
   "cell_type": "code",
   "execution_count": null,
   "id": "58ed398d",
   "metadata": {
    "ExecuteTime": {
     "start_time": "2023-03-24T08:56:46.704Z"
    },
    "execution": {
     "iopub.execute_input": "2023-03-13T04:11:26.233327Z",
     "iopub.status.busy": "2023-03-13T04:11:26.233104Z",
     "iopub.status.idle": "2023-03-13T04:11:26.361697Z",
     "shell.execute_reply": "2023-03-13T04:11:26.361350Z",
     "shell.execute_reply.started": "2023-03-13T04:11:26.233312Z"
    },
    "scrolled": false,
    "tags": []
   },
   "outputs": [],
   "source": [
    "# hatched areas show trades\n",
    "# bars show orders\n",
    "\n",
    "# vertical red solid line - true mid price based on book\n",
    "# vertical black dotted line - EMA (that the program used)\n",
    "interact(\n",
    "    show_book_pair,\n",
    "    sym1=\"COCONUTS\",\n",
    "    sym2=\"PINA_COLADAS\",\n",
    "    time=(0, _max_time, _time_step),\n",
    "    interval=10000,\n",
    ")"
   ]
  },
  {
   "cell_type": "code",
   "execution_count": null,
   "id": "a11b9004",
   "metadata": {},
   "outputs": [],
   "source": []
  },
  {
   "cell_type": "code",
   "execution_count": null,
   "id": "3cf24169",
   "metadata": {},
   "outputs": [],
   "source": []
  },
  {
   "cell_type": "markdown",
   "id": "3645cd36",
   "metadata": {},
   "source": [
    "### create order df (market)"
   ]
  },
  {
   "cell_type": "code",
   "execution_count": null,
   "id": "6e27bad0",
   "metadata": {
    "ExecuteTime": {
     "start_time": "2023-03-24T08:56:46.713Z"
    },
    "scrolled": true
   },
   "outputs": [],
   "source": [
    "# order_data = []\n",
    "\n",
    "# for side, side_sign in [(\"buys\", 1), (\"sells\", -1)]:\n",
    "#     for sym in _symbols:\n",
    "\n",
    "#         # expand buy orders\n",
    "#         df = book[f\"{sym}_{side}\"]\n",
    "#         df = pd.DataFrame(df.apply(pd.Series))\n",
    "#         df[\"time\"] = book[\"time\"]\n",
    "\n",
    "#         # concat columns into array\n",
    "#         data = [df[[col, \"time\"]].set_axis(labels=[\"order\", \"time\"], axis=1) for col in df.columns if col != \"time\"]\n",
    "\n",
    "#         # convert array into order df\n",
    "#         buy_order_df = pd.concat(data).dropna()\n",
    "\n",
    "        \n",
    "#         # mark buy/sells\n",
    "#         buy_order_df[\"symbol\"] = sym\n",
    "        \n",
    "#         order_data += [buy_order_df]\n",
    "        \n",
    "# # agg all data\n",
    "# order_df = pd.concat(order_data)\n",
    "\n",
    "# # expand order into price/quantity\n",
    "# temp_df = order_df[\"order\"].apply(lambda x : pd.Series(x, index=[\"price\", \"quantity\"]))\n",
    "# order_df = pd.concat([order_df, temp_df], axis=1).drop(\"order\", axis=1)\n",
    "\n",
    "# # sort data\n",
    "# order_df = order_df.sort_values(by=[\"time\", \"price\"]).reset_index(drop=True)\n",
    "\n",
    "# # merge ref_ema into order_df\n",
    "# order_df = order_df.merge(ref_stat_df, on=[\"time\", \"symbol\"])\n",
    "\n",
    "# # edge that a taker would receive\n",
    "# order_df[\"taker_edge\"] = -1 * np.sign(order_df[\"quantity\"]) * (order_df[\"fair_value\"] - order_df[\"price\"])"
   ]
  },
  {
   "cell_type": "code",
   "execution_count": null,
   "id": "4246f266",
   "metadata": {},
   "outputs": [],
   "source": []
  },
  {
   "cell_type": "code",
   "execution_count": null,
   "id": "492069a0",
   "metadata": {},
   "outputs": [],
   "source": []
  },
  {
   "cell_type": "markdown",
   "id": "96194b84",
   "metadata": {},
   "source": [
    "# Analysis\n",
    "- for info about trades:\n",
    "    - `trade_df` (all trades)\n",
    "    - `my_trades` (our trades only)\n",
    "    - `market_trades` (other people's trades only, not our trades)\n",
    "- for info about our positions\n",
    "    - `my_positions`"
   ]
  },
  {
   "cell_type": "markdown",
   "id": "30549bba",
   "metadata": {},
   "source": [
    "## General summary"
   ]
  },
  {
   "cell_type": "markdown",
   "id": "0da49869",
   "metadata": {},
   "source": [
    "### Estimate Fairs"
   ]
  },
  {
   "cell_type": "code",
   "execution_count": null,
   "id": "aa3adb3f",
   "metadata": {},
   "outputs": [],
   "source": []
  },
  {
   "cell_type": "code",
   "execution_count": null,
   "id": "0191d3f4",
   "metadata": {},
   "outputs": [],
   "source": []
  },
  {
   "cell_type": "code",
   "execution_count": null,
   "id": "26ec08e3",
   "metadata": {},
   "outputs": [],
   "source": []
  },
  {
   "cell_type": "code",
   "execution_count": null,
   "id": "6db8685d",
   "metadata": {
    "ExecuteTime": {
     "start_time": "2023-03-24T08:56:46.729Z"
    },
    "execution": {
     "iopub.execute_input": "2023-03-13T04:11:26.362342Z",
     "iopub.status.busy": "2023-03-13T04:11:26.362227Z",
     "iopub.status.idle": "2023-03-13T04:11:26.368662Z",
     "shell.execute_reply": "2023-03-13T04:11:26.368335Z",
     "shell.execute_reply.started": "2023-03-13T04:11:26.362332Z"
    },
    "tags": []
   },
   "outputs": [],
   "source": [
    "# estimate fairs\n",
    "fairs = fair_values.set_index(\"time\").reindex(np.arange(0, _max_time, _time_step)) \\\n",
    "            .ffill().bfill().reset_index()\n",
    "\n",
    "\n",
    "# mid_cols = [col for col in book_tops.columns if \"_mid\" in col]\n",
    "# fairs = book_tops[[\"time\", *mid_cols]]\n",
    "# fairs.columns = fairs.columns.str.strip('_mid')\n",
    "\n",
    "fairs"
   ]
  },
  {
   "cell_type": "markdown",
   "id": "bfbbb2f3",
   "metadata": {},
   "source": [
    "### Estimate PNLs"
   ]
  },
  {
   "cell_type": "code",
   "execution_count": null,
   "id": "8fc7fc5c",
   "metadata": {
    "ExecuteTime": {
     "start_time": "2023-03-24T08:56:46.733Z"
    },
    "execution": {
     "iopub.execute_input": "2023-03-13T04:11:26.369178Z",
     "iopub.status.busy": "2023-03-13T04:11:26.369082Z",
     "iopub.status.idle": "2023-03-13T04:11:26.373798Z",
     "shell.execute_reply": "2023-03-13T04:11:26.373409Z",
     "shell.execute_reply.started": "2023-03-13T04:11:26.369168Z"
    },
    "tags": []
   },
   "outputs": [],
   "source": [
    "# estimate pnl\n",
    "cash_cols = [f\"{prod}_cash\" for prod in [\"total\", *_products]]\n",
    "# cash_cols += [f\"{sym}_cash\" for sym in _symbols]\n",
    "\n",
    "for prod in [\"total\", *_products]:\n",
    "    my_positions[f\"{prod}_pnl\"] = my_positions[f\"{prod}_cash\"]\n",
    "\n",
    "for prod in _products:\n",
    "    col = f\"{prod}_pnl\"\n",
    "    my_positions[col] += my_positions[prod] * fairs[prod]\n",
    "    \n",
    "    col = \"total_pnl\"\n",
    "    my_positions[col] += my_positions[prod] * fairs[prod]\n"
   ]
  },
  {
   "cell_type": "code",
   "execution_count": null,
   "id": "ef538799",
   "metadata": {},
   "outputs": [],
   "source": []
  },
  {
   "cell_type": "markdown",
   "id": "ee53f7ea",
   "metadata": {},
   "source": [
    "#### func -  plot_trades_and_book()"
   ]
  },
  {
   "cell_type": "code",
   "execution_count": null,
   "id": "755a73c2",
   "metadata": {
    "ExecuteTime": {
     "start_time": "2023-03-24T08:56:46.739Z"
    },
    "execution": {
     "iopub.execute_input": "2023-03-13T04:11:26.374886Z",
     "iopub.status.busy": "2023-03-13T04:11:26.374748Z",
     "iopub.status.idle": "2023-03-13T04:11:26.381298Z",
     "shell.execute_reply": "2023-03-13T04:11:26.380907Z",
     "shell.execute_reply.started": "2023-03-13T04:11:26.374875Z"
    },
    "tags": []
   },
   "outputs": [],
   "source": [
    "# plot trades\n",
    "def plot_trades_and_book(\n",
    "        sym, \n",
    "        trade_df, \n",
    "        book_df, \n",
    "        time_lb=float(\"-inf\"), \n",
    "        time_ub=float(\"inf\"), \n",
    "        span=21,\n",
    "        show_mid=False,\n",
    "        ):\n",
    "    \n",
    "    trade_df = trade_df[(time_lb <= trade_df[\"time\"]) & (trade_df[\"time\"] <= time_ub)]\n",
    "    book_df = book_df[(time_lb <= book_df[\"time\"]) & (book_df[\"time\"] <= time_ub)]\n",
    "    \n",
    "    # filter for this symbol only\n",
    "    plt_df = trade_df\n",
    "    plt_df = plt_df[plt_df[\"symbol\"] == sym]\n",
    "\n",
    "    my_buys = plt_df[plt_df[\"my_quantity\"] > 0]\n",
    "    my_sells = plt_df[plt_df[\"my_quantity\"] < 0]\n",
    "    their_trades = plt_df[plt_df[\"my_quantity\"] == 0]\n",
    "    \n",
    "    \n",
    "    \n",
    "    def plot_trades(ax):\n",
    "        ax.scatter(my_buys[\"time\"], my_buys[\"price\"], c=\"green\", s=25)\n",
    "        ax.scatter(my_sells[\"time\"], my_sells[\"price\"], c=\"red\", s=25)\n",
    "        ax.scatter(their_trades[\"time\"], their_trades[\"price\"], c=\"orange\", s=5)\n",
    "    \n",
    "    \n",
    "    book_df = book_df\n",
    "    \n",
    "    bids = book_df[f\"{sym}_best_buy\"]\n",
    "    asks = book_df[f\"{sym}_best_sell\"]\n",
    "    mids = book_df[f\"{sym}_mid\"]\n",
    "    smooth_bids = bids.ewm(span=span).mean()\n",
    "    smooth_asks = asks.ewm(span=span).mean()\n",
    "    smooth_mids = mids.ewm(span=span).mean()\n",
    "    \n",
    "#     plt.figsize(5, 5)\n",
    "    fig, axes = plt.subplots(nrows=1, ncols=2, figsize=(15, 5))\n",
    "    \n",
    "    times = book_df[\"time\"]\n",
    "    \n",
    "    # plot book\n",
    "    ax = axes[0]\n",
    "    ax.plot(times, bids, c=\"green\", alpha=0.5, linewidth=0.5, label=\"bid\")\n",
    "    ax.plot(times, asks, c=\"red\", alpha=0.5, linewidth=0.5, label=\"ask\")\n",
    "    if show_mid:\n",
    "        ax.plot(times, mids, c=\"black\", alpha=0.25, linewidth=0.5, label=\"mid\")\n",
    "    ax.set_title(f\"Trades and book: {sym}\")\n",
    "    ax.legend()\n",
    "    plot_trades(ax)\n",
    "    \n",
    "    ax = axes[1]\n",
    "    ax.plot(times, smooth_bids, c=\"green\", alpha=0.5, linewidth=0.5, label=\"bid\")\n",
    "    ax.plot(times, smooth_asks, c=\"red\", alpha=0.5, linewidth=0.5, label=\"ask\")\n",
    "    if show_mid:\n",
    "        ax.plot(times, smooth_mids, c=\"black\", alpha=0.5, linewidth=0.5, label=\"mid\")\n",
    "    ax.set_title(f\"(smooth) Trades and book: {sym}\")\n",
    "    ax.legend()\n",
    "    plot_trades(ax)\n",
    "\n",
    "    plt.show()\n",
    "    "
   ]
  },
  {
   "cell_type": "markdown",
   "id": "3002acf4",
   "metadata": {},
   "source": [
    "### overall trade/book graph"
   ]
  },
  {
   "cell_type": "code",
   "execution_count": null,
   "id": "76814a65",
   "metadata": {
    "ExecuteTime": {
     "start_time": "2023-03-24T08:56:46.743Z"
    },
    "execution": {
     "iopub.execute_input": "2023-03-13T04:11:26.382003Z",
     "iopub.status.busy": "2023-03-13T04:11:26.381901Z",
     "iopub.status.idle": "2023-03-13T04:11:26.770563Z",
     "shell.execute_reply": "2023-03-13T04:11:26.770164Z",
     "shell.execute_reply.started": "2023-03-13T04:11:26.381994Z"
    },
    "scrolled": false,
    "tags": []
   },
   "outputs": [],
   "source": [
    "for sym in _symbols:\n",
    "    plot_trades_and_book(\n",
    "        sym=sym, \n",
    "        trade_df=trade_df, \n",
    "        book_df=book_tops, \n",
    "    #     time_lb=0, \n",
    "    #     time_ub=50000, \n",
    "        span=21,\n",
    "        show_mid=True,\n",
    "    )"
   ]
  },
  {
   "cell_type": "code",
   "execution_count": null,
   "id": "7aa44a37",
   "metadata": {},
   "outputs": [],
   "source": []
  },
  {
   "cell_type": "markdown",
   "id": "08ee19b3-2fab-40f8-bffe-df0105e3eac1",
   "metadata": {},
   "source": [
    "### compare ref EMA to true EMA"
   ]
  },
  {
   "cell_type": "code",
   "execution_count": null,
   "id": "54e46be2-0a93-4ebe-bcc5-33ac6f4dfee7",
   "metadata": {
    "ExecuteTime": {
     "start_time": "2023-03-24T08:56:46.750Z"
    },
    "execution": {
     "iopub.execute_input": "2023-03-13T04:15:36.108618Z",
     "iopub.status.busy": "2023-03-13T04:15:36.107558Z",
     "iopub.status.idle": "2023-03-13T04:15:36.126905Z",
     "shell.execute_reply": "2023-03-13T04:15:36.125811Z",
     "shell.execute_reply.started": "2023-03-13T04:15:36.108573Z"
    },
    "tags": []
   },
   "outputs": [],
   "source": [
    "symbol = \"BANANAS\"\n",
    "spans = raw_records[\"best_ema_spans\"].apply(lambda x : x[symbol])\n",
    "spans.value_counts()"
   ]
  },
  {
   "cell_type": "code",
   "execution_count": null,
   "id": "83d4b9fa-e527-4a4f-a2d2-f81fc93cd4b8",
   "metadata": {
    "ExecuteTime": {
     "start_time": "2023-03-24T08:56:46.753Z"
    },
    "execution": {
     "iopub.execute_input": "2023-03-13T04:11:26.778459Z",
     "iopub.status.busy": "2023-03-13T04:11:26.778275Z",
     "iopub.status.idle": "2023-03-13T04:11:26.854219Z",
     "shell.execute_reply": "2023-03-13T04:11:26.853923Z",
     "shell.execute_reply.started": "2023-03-13T04:11:26.778440Z"
    },
    "tags": []
   },
   "outputs": [],
   "source": [
    "symbol = \"COCONUTS\"\n",
    "\n",
    "mids = book_tops[f\"{symbol}_mid\"]\n",
    "ema = mids.ewm(span=21).mean()\n",
    "\n",
    "plt.figure(figsize=(15, 5))\n",
    "\n",
    "plt.subplot(121)\n",
    "\n",
    "plt.plot(ref_emas[\"time\"], ref_emas[symbol], label=\"ref ema\", alpha=1, linewidth=1)\n",
    "plt.plot(book_tops[\"time\"], ema, label=\"calc ema\", alpha=0.5)\n",
    "plt.legend()\n",
    "plt.title(\"ref_ema + calc_ema\")\n",
    "\n",
    "plt.subplot(122)\n",
    "\n",
    "plt.plot(ref_emas[\"time\"], ref_emas[symbol], label=\"ref ema\", alpha=1, linewidth=1)\n",
    "plt.plot(fair_values[\"time\"], fair_values[symbol], label=\"fair_value\", color=\"black\", alpha=1, linewidth=1)\n",
    "plt.plot(quote_mids[\"time\"], quote_mids[symbol], label=\"quote_mid\", color=\"red\", alpha=1, linewidth=1)\n",
    "plt.legend()\n",
    "plt.title(\"quote_mids + fair_values\")\n",
    "plt.show()\n"
   ]
  },
  {
   "cell_type": "code",
   "execution_count": null,
   "id": "55305645",
   "metadata": {
    "ExecuteTime": {
     "start_time": "2023-03-24T08:56:46.757Z"
    }
   },
   "outputs": [],
   "source": [
    "# print times when not using quote_mids\n",
    "for sym in _symbols:\n",
    "    print(sym, use_quote_mids[~use_quote_mids[sym]][\"time\"].tolist())\n"
   ]
  },
  {
   "cell_type": "markdown",
   "id": "6f7fb349",
   "metadata": {},
   "source": [
    "### PNL Graph"
   ]
  },
  {
   "cell_type": "code",
   "execution_count": null,
   "id": "2648effb",
   "metadata": {
    "ExecuteTime": {
     "start_time": "2023-03-24T08:56:46.761Z"
    },
    "execution": {
     "iopub.execute_input": "2023-03-13T04:11:26.854896Z",
     "iopub.status.busy": "2023-03-13T04:11:26.854800Z",
     "iopub.status.idle": "2023-03-13T04:11:26.939489Z",
     "shell.execute_reply": "2023-03-13T04:11:26.939030Z",
     "shell.execute_reply.started": "2023-03-13T04:11:26.854887Z"
    },
    "tags": []
   },
   "outputs": [],
   "source": [
    "# pnl\n",
    "\n",
    "# calc pnl from coco/pina pair\n",
    "my_positions[\"COCO_PINA_pnl\"] = my_positions[\"COCONUTS_pnl\"] + my_positions[\"PINA_COLADAS_pnl\"]\n",
    "\n",
    "## shown products\n",
    "\n",
    "products_shown = [\"total\", \"COCO_PINA\", \"BANANAS\", \"PEARLS\"]\n",
    "# products_shown = [\"total\", *_products]\n",
    "\n",
    "for prod in products_shown:\n",
    "    pnl = my_positions[f\"{prod}_pnl\"].iloc[-1]\n",
    "    plt.plot(my_positions[\"time\"], my_positions[f\"{prod}_pnl\"], label=f\"{prod}: {pnl}\", linewidth=1)\n",
    "\n",
    "plt.axhline(y=0, color=\"black\")\n",
    "    \n",
    "plt.legend()\n",
    "plt.title(f\"PNL\")\n"
   ]
  },
  {
   "cell_type": "markdown",
   "id": "5b8f4721",
   "metadata": {
    "tags": []
   },
   "source": [
    "### Positions Graph"
   ]
  },
  {
   "cell_type": "code",
   "execution_count": null,
   "id": "4e22cf5b",
   "metadata": {
    "ExecuteTime": {
     "start_time": "2023-03-24T08:56:46.766Z"
    },
    "execution": {
     "iopub.execute_input": "2023-03-13T04:11:26.943829Z",
     "iopub.status.busy": "2023-03-13T04:11:26.943634Z",
     "iopub.status.idle": "2023-03-13T04:11:27.060271Z",
     "shell.execute_reply": "2023-03-13T04:11:27.059699Z",
     "shell.execute_reply.started": "2023-03-13T04:11:26.943806Z"
    },
    "tags": []
   },
   "outputs": [],
   "source": [
    "# plot my positions in each product\n",
    "\n",
    "plt.figure(figsize=(10, 5))\n",
    "\n",
    "for sym_i, sym in enumerate(_symbols):\n",
    "    plt.subplot(2, 2, sym_i+1)\n",
    "    plt.plot(my_positions[\"time\"], my_positions[sym], label=sym)\n",
    "    plt.title(sym)\n",
    "    plt.legend()\n",
    "    \n",
    "    \n",
    "plt.suptitle(\"My positions\")\n",
    "plt.tight_layout()\n",
    "plt.show()"
   ]
  },
  {
   "cell_type": "code",
   "execution_count": null,
   "id": "a55bc14d",
   "metadata": {
    "ExecuteTime": {
     "end_time": "2023-03-24T05:24:39.999943Z",
     "start_time": "2023-03-24T05:24:39.997088Z"
    }
   },
   "outputs": [],
   "source": []
  },
  {
   "cell_type": "code",
   "execution_count": null,
   "id": "175c6aa5",
   "metadata": {
    "ExecuteTime": {
     "start_time": "2023-03-24T08:56:46.771Z"
    }
   },
   "outputs": [],
   "source": [
    "# plot pina_error (pina_actual - pina_pred)\n",
    "model = np.poly1d([1.55131931e+00, 2.59237689e+03])\n",
    "\n",
    "mid_df = book_tops[[\"COCONUTS_mid\", \"PINA_COLADAS_mid\"]].copy()\n",
    "mid_df[\"pred\"] = model(mid_df[\"COCONUTS_mid\"])\n",
    "mid_df[\"pred_error\"] = mid_df[\"PINA_COLADAS_mid\"] - mid_df[\"pred\"]\n",
    "\n",
    "plt.plot(mid_df[\"pred_error\"])\n",
    "plt.show()"
   ]
  },
  {
   "cell_type": "code",
   "execution_count": null,
   "id": "3d9d2d7b",
   "metadata": {
    "ExecuteTime": {
     "end_time": "2023-03-24T05:24:40.138781Z",
     "start_time": "2023-03-24T05:24:40.007747Z"
    }
   },
   "outputs": [],
   "source": []
  },
  {
   "cell_type": "code",
   "execution_count": null,
   "id": "522f0842",
   "metadata": {},
   "outputs": [],
   "source": []
  },
  {
   "cell_type": "code",
   "execution_count": null,
   "id": "08031d0b",
   "metadata": {
    "ExecuteTime": {
     "start_time": "2023-03-24T08:56:46.778Z"
    }
   },
   "outputs": [],
   "source": [
    "# directional exposure to pina coladas/coco\n",
    "diffs = my_positions[\"PINA_COLADAS\"] * 1.55 + my_positions[\"COCONUTS\"]\n",
    "diffs.describe()"
   ]
  },
  {
   "cell_type": "code",
   "execution_count": null,
   "id": "c2a7deb5",
   "metadata": {},
   "outputs": [],
   "source": []
  },
  {
   "cell_type": "markdown",
   "id": "d3acb343",
   "metadata": {},
   "source": [
    "### Price movements (pct change)"
   ]
  },
  {
   "cell_type": "code",
   "execution_count": null,
   "id": "629db29a",
   "metadata": {
    "ExecuteTime": {
     "start_time": "2023-03-24T08:56:46.785Z"
    },
    "execution": {
     "iopub.execute_input": "2023-03-13T04:11:27.061263Z",
     "iopub.status.busy": "2023-03-13T04:11:27.061091Z",
     "iopub.status.idle": "2023-03-13T04:11:27.294030Z",
     "shell.execute_reply": "2023-03-13T04:11:27.293706Z",
     "shell.execute_reply.started": "2023-03-13T04:11:27.061250Z"
    },
    "tags": []
   },
   "outputs": [],
   "source": [
    "# distribution of price movements (pct change)\n",
    "\n",
    "plt.figure(figsize=(10, 6))\n",
    "\n",
    "mids = [f\"{sym}_mid\" for sym in _symbols]\n",
    "cols = book_tops[mids]\n",
    "diffs = (cols.shift(-1) / cols).dropna()\n",
    "diffs = (diffs - 1) * 100\n",
    "\n",
    "# show diffs stats\n",
    "display(diffs.describe().T)\n",
    "\n",
    "\n",
    "for sym_i, sym in enumerate(_symbols):\n",
    "    \n",
    "    mid = mids[sym_i]\n",
    "    \n",
    "    plt.subplot(2, 2, sym_i+1)\n",
    "\n",
    "    plt.hist(diffs[mid], bins=100, label=mid)\n",
    "    plt.xlabel(\"pct change (%)\")\n",
    "    plt.legend()\n",
    "    \n",
    "plt.tight_layout()\n",
    "plt.show()\n"
   ]
  },
  {
   "cell_type": "markdown",
   "id": "6f093efd",
   "metadata": {
    "ExecuteTime": {
     "end_time": "2023-02-24T04:16:22.135002Z",
     "start_time": "2023-02-24T04:16:22.132680Z"
    }
   },
   "source": [
    "### Price movements (actual change)"
   ]
  },
  {
   "cell_type": "code",
   "execution_count": null,
   "id": "6c11dbaf",
   "metadata": {
    "ExecuteTime": {
     "start_time": "2023-03-24T08:56:46.789Z"
    },
    "execution": {
     "iopub.execute_input": "2023-03-13T04:11:27.294593Z",
     "iopub.status.busy": "2023-03-13T04:11:27.294504Z",
     "iopub.status.idle": "2023-03-13T04:11:27.571666Z",
     "shell.execute_reply": "2023-03-13T04:11:27.571329Z",
     "shell.execute_reply.started": "2023-03-13T04:11:27.294583Z"
    },
    "tags": []
   },
   "outputs": [],
   "source": [
    "# distribution of price movements (pct change)\n",
    "\n",
    "plt.figure(figsize=(10, 6))\n",
    "\n",
    "mids = [f\"{sym}_mid\" for sym in _symbols]\n",
    "cols = book_tops[mids]\n",
    "diffs = (cols.shift(-1) - cols).dropna()\n",
    "\n",
    "# show diffs stats\n",
    "display(diffs.describe().T)\n",
    "\n",
    "\n",
    "for sym_i, sym in enumerate(_symbols):\n",
    "    \n",
    "    mid = mids[sym_i]\n",
    "    \n",
    "    plt.subplot(2, 2, sym_i+1)\n",
    "\n",
    "    plt.hist(diffs[mid], bins=100, label=mid)\n",
    "    plt.xlabel(\"abs change ($)\")\n",
    "    plt.legend()\n",
    "    \n",
    "plt.tight_layout()\n",
    "plt.show()\n"
   ]
  },
  {
   "cell_type": "markdown",
   "id": "2c44f948",
   "metadata": {},
   "source": [
    "### Spread stats"
   ]
  },
  {
   "cell_type": "code",
   "execution_count": null,
   "id": "a97d4dc0",
   "metadata": {
    "ExecuteTime": {
     "start_time": "2023-03-24T08:56:46.794Z"
    },
    "execution": {
     "iopub.execute_input": "2023-03-13T04:11:27.572560Z",
     "iopub.status.busy": "2023-03-13T04:11:27.572450Z",
     "iopub.status.idle": "2023-03-13T04:11:27.579637Z",
     "shell.execute_reply": "2023-03-13T04:11:27.579238Z",
     "shell.execute_reply.started": "2023-03-13T04:11:27.572550Z"
    },
    "scrolled": false,
    "tags": []
   },
   "outputs": [],
   "source": [
    "# spread summary stats\n",
    "\n",
    "for sym_i, sym in enumerate(_symbols):\n",
    "    print(sym)\n",
    "\n",
    "    spreads = pd.DataFrame(book_tops[f\"{sym}_best_sell\"] - book_tops[f\"{sym}_best_buy\"])\n",
    "    \n",
    "    plt.subplot(2, 2, sym_i+1)\n",
    "    plt.hist(spreads)\n",
    "    plt.title(sym)\n",
    "    display(spreads.describe().T)\n",
    "    \n",
    "plt.tight_layout()\n",
    "plt.show()"
   ]
  },
  {
   "cell_type": "code",
   "execution_count": null,
   "id": "a7f0097e",
   "metadata": {},
   "outputs": [],
   "source": []
  },
  {
   "cell_type": "code",
   "execution_count": null,
   "id": "7ee3576b",
   "metadata": {
    "ExecuteTime": {
     "start_time": "2023-03-24T08:56:46.799Z"
    },
    "execution": {
     "iopub.execute_input": "2023-03-13T04:11:27.587670Z",
     "iopub.status.busy": "2023-03-13T04:11:27.587565Z",
     "iopub.status.idle": "2023-03-13T04:11:27.595600Z",
     "shell.execute_reply": "2023-03-13T04:11:27.595280Z",
     "shell.execute_reply.started": "2023-03-13T04:11:27.587661Z"
    },
    "scrolled": false,
    "tags": []
   },
   "outputs": [],
   "source": [
    "# quantity stats\n",
    "for sym in _symbols:\n",
    "    df = trade_df[trade_df[\"symbol\"] == sym]\n",
    "    \n",
    "    print(sym)\n",
    "    display(df.groupby(\"time\")[[\"quantity\"]].sum().describe(percentiles=[0.01, 0.1, 0.25, 0.5, 0.75, 0.9, 0.99]).T)"
   ]
  },
  {
   "cell_type": "code",
   "execution_count": null,
   "id": "d6351360",
   "metadata": {},
   "outputs": [],
   "source": []
  },
  {
   "cell_type": "code",
   "execution_count": null,
   "id": "6e5caa32",
   "metadata": {
    "ExecuteTime": {
     "start_time": "2023-03-24T08:56:46.806Z"
    }
   },
   "outputs": [],
   "source": [
    "book_tops"
   ]
  },
  {
   "cell_type": "code",
   "execution_count": null,
   "id": "33642950",
   "metadata": {
    "ExecuteTime": {
     "start_time": "2023-03-24T08:56:46.810Z"
    }
   },
   "outputs": [],
   "source": [
    "book_top_df = book_tops.melt(id_vars=[\"time\"])\n",
    "cols = book_top_df[\"variable\"].str.split(\"_\", n=1).apply(pd.Series).set_axis([\"symbol\", \"variable\"], axis=1)\n",
    "\n",
    "book_top_df = book_top_df.drop(\"variable\", axis=1).join(cols)\n"
   ]
  },
  {
   "cell_type": "code",
   "execution_count": null,
   "id": "7e5247e1",
   "metadata": {
    "ExecuteTime": {
     "start_time": "2023-03-24T08:56:46.814Z"
    }
   },
   "outputs": [],
   "source": [
    "book_top_df"
   ]
  },
  {
   "cell_type": "markdown",
   "id": "ed9d50a4",
   "metadata": {},
   "source": [
    "###  taker vs maker stats"
   ]
  },
  {
   "cell_type": "code",
   "execution_count": null,
   "id": "d2bf32d9",
   "metadata": {},
   "outputs": [],
   "source": []
  },
  {
   "cell_type": "code",
   "execution_count": null,
   "id": "6f3485ad",
   "metadata": {
    "ExecuteTime": {
     "start_time": "2023-03-24T08:56:46.820Z"
    },
    "scrolled": false
   },
   "outputs": [],
   "source": [
    "# merge current trades with previous turn's tops\n",
    "my_trade_df = my_trades.copy()\n",
    "my_trade_df[\"time\"] -= _time_step\n",
    "\n",
    "# get col to merge on\n",
    "my_trade_df[\"variable\"] = np.where(\n",
    "    my_trade_df[\"my_buy\"], \n",
    "    \"best_sell\", \n",
    "    \"best_buy\", \n",
    ")\n",
    "\n",
    "\n",
    "my_trade_df = my_trade_df.merge(book_top_df, on=[\"time\", \"symbol\", \"variable\"])\n",
    "\n",
    "# if my buy price is greater than best sell price\n",
    "# if my sell price is less than best buy price\n",
    "my_trade_df[\"is_take\"] = np.where(\n",
    "    my_trade_df[\"my_buy\"],\n",
    "    my_trade_df[\"price\"] >= my_trade_df[\"value\"], # \n",
    "    my_trade_df[\"price\"] <= my_trade_df[\"value\"], # \n",
    ")\n",
    "\n",
    "\n",
    "# drop cols\n",
    "my_trade_df = my_trade_df.drop([\"variable\", \"value\"], axis=1)\n",
    "\n",
    "\n",
    "# filter to keep only taker trades\n",
    "\n",
    "# compute buy edge\n",
    "my_trade_df[\"buy_edge\"] = my_trade_df[\"fair_value\"] - my_trade_df[\"price\"]\n",
    "\n",
    "# compute my edge\n",
    "my_trade_df[\"my_edge\"] = my_trade_df[\"buy_edge\"] * np.sign(my_trade_df[\"my_quantity\"])\n",
    "\n",
    "# compute pnl\n",
    "my_trade_df[\"pnl\"] = my_trade_df[\"my_edge\"] * my_trade_df[\"quantity\"]\n",
    "\n",
    "# filter by symbol\n",
    "        \n",
    "for sym in _symbols:\n",
    "    the_df = my_trade_df[my_trade_df[\"symbol\"] == sym]\n",
    "    \n",
    "    maker_df = the_df[~the_df[\"is_take\"]]\n",
    "    taker_df = the_df[the_df[\"is_take\"]]\n",
    "    \n",
    "\n",
    "    # display pnl / stats for TAKER\n",
    "    plt.figure(figsize=(12.5, 5))\n",
    "    plt.subplot(121)\n",
    "    print(sym, \"- my TAKER pnl:\", taker_df[\"pnl\"].sum())\n",
    "\n",
    "    display(taker_df[[\"my_edge\"]].describe().T)\n",
    "\n",
    "    plt.hist(taker_df[[\"my_edge\"]], bins=20)\n",
    "    plt.title(f\"{sym} TAKER edge distribution\")\n",
    "    \n",
    "    \n",
    "    # display pnl / stats for MAKER\n",
    "    plt.subplot(122)\n",
    "    print(sym, \"- my MAKER pnl:\", maker_df[\"pnl\"].sum())\n",
    "\n",
    "    display(maker_df[[\"my_edge\"]].describe().T)\n",
    "\n",
    "    plt.hist(maker_df[[\"my_edge\"]], bins=20)\n",
    "    plt.title(f\"{sym} MAKER edge distribution\")\n",
    "    plt.show()\n"
   ]
  },
  {
   "cell_type": "markdown",
   "id": "4cccbf54",
   "metadata": {},
   "source": [
    "### taker/maker optimization\n"
   ]
  },
  {
   "cell_type": "markdown",
   "id": "e191094b",
   "metadata": {},
   "source": [
    "- deciding whether to take/make:\n",
    "    - current inventory (estimated)\n",
    "    - common\n",
    "        - cur_pos\n",
    "    - taker:\n",
    "        - info:\n",
    "            - edge, quantity\n",
    "        - actions\n",
    "            - take all/ignore\n",
    "            - take up to quantity\n",
    "        - transition\n",
    "            - reward = edge * abs(taken_quantity)\n",
    "            - new_pos = cur_pos + taken_quantity\n",
    "    - maker:\n",
    "        - info:\n",
    "            - edge (the edge that we'd receive for placing an order at the best bid)\n",
    "            - limit\n",
    "        - actions\n",
    "            - quantity up to limit\n",
    "            \n",
    "        - transition\n",
    "            - randomized taken_quantity is selected\n",
    "            - reward = edge * abs(taken_quantity)\n",
    "            - new_pos = cur_pos + taken_quantity\n",
    "- state:\n",
    "    - current inventory ("
   ]
  },
  {
   "cell_type": "code",
   "execution_count": null,
   "id": "8894ccb3",
   "metadata": {
    "ExecuteTime": {
     "start_time": "2023-03-24T08:56:46.826Z"
    }
   },
   "outputs": [],
   "source": [
    "def rollout_action(cur_pos, limit, act):\n",
    "    \"\"\"\n",
    "    Performs action given cur_pospotential action `act`\n",
    "    \n",
    "    Returns new_pos, pnl_change\n",
    "    \"\"\"\n",
    "    \n",
    "    edge = act[\"edge\"]\n",
    "    quantity = act[\"quantity\"]\n",
    "    is_buy = act[\"is_buy\"]\n",
    "\n",
    "    if edge == 0:\n",
    "        # only take if it's good for us\n",
    "        if is_buy:\n",
    "            quantity = min(quantity, 0 - cur_pos)\n",
    "        else:\n",
    "            quantity = min(quantity, 0 + cur_pos)\n",
    "    else:\n",
    "        # take maximum\n",
    "        if is_buy:\n",
    "            quantity = min(quantity, limit - cur_pos)\n",
    "        else:\n",
    "            quantity = min(quantity, limit + cur_pos)\n",
    "\n",
    "    # update state\n",
    "    pnl_change = quantity * edge\n",
    "    quantity_change = quantity if is_buy else -1 * quantity\n",
    "\n",
    "    return cur_pos + quantity_change, pnl_change\n",
    "\n",
    "\n",
    "\n",
    "### monte-carlo sim\n",
    "def rollout(cur_pdf, limit, action_df):\n",
    "    \"\"\"\n",
    "    Runs one MC rollout using the specified params\n",
    "    \n",
    "    Returns pnl_per_turn, ending_position\n",
    "    \"\"\"\n",
    "    \n",
    "    all_pdf = {i: 0 for i in range(-limit, limit + 1)}\n",
    "    all_pnl = 0\n",
    "    \n",
    "    for cur_pos, cur_pos_prob in cur_pdf.items():\n",
    "        if cur_pos_prob == 0:\n",
    "            continue\n",
    "\n",
    "        \n",
    "        pdf = {i: 0 for i in range(-limit, limit + 1)}\n",
    "        # if we don't take any taker_df trades, we will remain in this position\n",
    "        pdf[cur_pos] = 1 - action_df[\"freq\"].sum()\n",
    "\n",
    "        # trade_pnl will contain expected pnl from trading when we start at 'cur_pos'\n",
    "        trade_pnl = 0\n",
    "\n",
    "        # iterate through actions\n",
    "        for index, row in action_df.iterrows():\n",
    "            new_pos, pnl_diff = rollout_action(cur_pos, limit, row)\n",
    "\n",
    "            # get pnl from trade\n",
    "            trade_pnl += pnl_diff * row[\"freq\"]\n",
    "            pdf[new_pos] += row[\"freq\"]\n",
    "            \n",
    "        # pnl contains total profits from edge up to this point\n",
    "#         print(\"trade pnl\", cur_pos, trade_pnl)\n",
    "        \n",
    "        # update all_pnl\n",
    "        all_pnl += trade_pnl * cur_pos_prob\n",
    "        \n",
    "        # update all_pdf\n",
    "        for next_pos, next_pos_prob in pdf.items():\n",
    "            all_pdf[next_pos] += next_pos_prob * cur_pos_prob\n",
    "            \n",
    "    return all_pnl, all_pdf"
   ]
  },
  {
   "cell_type": "code",
   "execution_count": null,
   "id": "aede2e9d",
   "metadata": {
    "ExecuteTime": {
     "start_time": "2023-03-24T08:56:46.829Z"
    }
   },
   "outputs": [],
   "source": [
    "# hyper-params\n",
    "def get_markov_chain(sym, limit, rollout_length):\n",
    "\n",
    "    num_turns = _max_time / _time_step\n",
    "\n",
    "    # create taker_df\n",
    "    taker_df = order_df[order_df[\"symbol\"] == sym]\n",
    "    taker_df = taker_df[taker_df[\"taker_edge\"] >= 0]\n",
    "    taker_df = taker_df[[\"quantity\", \"taker_edge\"]].copy().rename({\"taker_edge\": \"edge\"}, axis=1)\n",
    "\n",
    "    taker_df[\"is_buy\"] = ~(taker_df[\"quantity\"] > 0) # we can perform the opposite trade against this quantity\n",
    "    taker_df[\"quantity\"] = taker_df[\"quantity\"].abs()\n",
    "    taker_df[\"edge\"] = taker_df[\"edge\"].abs() # convert -0 to 0\n",
    "\n",
    "    # create order_df\n",
    "    the_df = my_trade_df[(my_trade_df[\"symbol\"] == sym)]\n",
    "    maker_df = the_df[~the_df[\"is_take\"]]\n",
    "    maker_df = maker_df[[\"quantity\", \"my_edge\", \"my_buy\"]].rename({\"my_buy\": \"is_buy\", \"my_edge\": \"edge\"}, axis=1)\n",
    "\n",
    "    # calculate pnl\n",
    "    taker_df[\"pnl\"] = taker_df[\"edge\"] * taker_df[\"quantity\"]\n",
    "    maker_df[\"pnl\"] = maker_df[\"edge\"] * maker_df[\"quantity\"]\n",
    "\n",
    "    # print stats abt taker/maker\n",
    "\n",
    "    print(\"taker chance\", len(taker_df) / num_turns)\n",
    "    print(\"maker chance\", len(maker_df) / num_turns)\n",
    "    print(\"market_trade chance\", len(market_trades) / num_turns)\n",
    "\n",
    "    # print taker profits\n",
    "\n",
    "    print(\"Taker total edge by side\")\n",
    "    display(taker_df.groupby(\"is_buy\")[\"pnl\"].sum())\n",
    "\n",
    "    print(\"Maker total edge by side\")\n",
    "    display(maker_df.groupby(\"is_buy\")[\"pnl\"].sum())\n",
    "\n",
    "\n",
    "\n",
    "    # calculate taker stats\n",
    "    taker_stats = taker_df.groupby([\"quantity\", \"edge\", \"is_buy\"]).value_counts().rename(\"freq\").reset_index()\n",
    "    taker_stats[\"freq\"] /= num_turns\n",
    "\n",
    "    maker_stats = maker_df.groupby([\"quantity\", \"edge\", \"is_buy\"]).value_counts().rename(\"freq\").reset_index()\n",
    "    maker_stats[\"freq\"] /= num_turns\n",
    "\n",
    "    print(\"len(taker_stats)\", len(taker_stats))\n",
    "    print(\"len(maker_stats)\", len(maker_stats))\n",
    "\n",
    "\n",
    "    ## calculate transition matrices\n",
    "    trade_pnls = {}\n",
    "    next_pdfs = {}\n",
    "\n",
    "    for cur_pos in range(-limit, limit + 1):\n",
    "        # setup initial cur_pdf\n",
    "        cur_pdf = {i: 0 for i in range(-limit, limit + 1)}\n",
    "        cur_pdf[cur_pos] = 1\n",
    "\n",
    "        # rollout on taker\n",
    "        taker_pnl, pdf1 = rollout(\n",
    "            cur_pdf=cur_pdf,\n",
    "            limit=limit,\n",
    "            action_df=taker_stats,\n",
    "        )\n",
    "\n",
    "        # rollout on maker\n",
    "        maker_pnl, pdf2 = rollout(\n",
    "            cur_pdf=pdf1,\n",
    "            limit=limit,\n",
    "            action_df=maker_stats,\n",
    "        )\n",
    "\n",
    "        trade_pnls[cur_pos] = taker_pnl + maker_pnl\n",
    "        next_pdfs[cur_pos] = pdf2\n",
    "\n",
    "    # get A - transition probability matrix\n",
    "    # a_ij is prob of going from j to i\n",
    "    trans_prob_df = pd.DataFrame(next_pdfs)\n",
    "    A = trans_prob_df.to_numpy()\n",
    "\n",
    "    # each row should sum to 1\n",
    "    assert np.all(abs(A.sum(axis=0) - 1) <= 1e-5)\n",
    "\n",
    "    # get D - transition income matrix\n",
    "    trans_pnl_df = pd.DataFrame(trade_pnls.items(), columns=[\"cur_pos\", \"pnl\"])\n",
    "    trans_pnl_df = trans_pnl_df.sort_values(by=\"cur_pos\")\n",
    "\n",
    "    D = trans_pnl_df[\"pnl\"].to_numpy()\n",
    "\n",
    "    return A, D"
   ]
  },
  {
   "cell_type": "code",
   "execution_count": null,
   "id": "c5a07869",
   "metadata": {
    "ExecuteTime": {
     "start_time": "2023-03-24T08:56:46.832Z"
    }
   },
   "outputs": [],
   "source": [
    "# calculate scores\n",
    "def score_matrix(A, D, limit):\n",
    "    scores = {}\n",
    "\n",
    "    for cur_pos in range(-limit, limit + 1):\n",
    "        # init cur_pdf\n",
    "        cur_pdf = np.zeros((2 * limit + 1, 1))\n",
    "        cur_pdf[cur_pos + limit, 0] = 1\n",
    "\n",
    "        pnl = 0\n",
    "\n",
    "        # iterate for rollout number of times\n",
    "        for i in range(rollout_length):\n",
    "            trade_pnl = np.dot(D, cur_pdf).item()\n",
    "            cur_pdf = A @ cur_pdf\n",
    "\n",
    "            pnl += trade_pnl\n",
    "\n",
    "        scores[cur_pos] = pnl\n",
    "        \n",
    "    score_df = pd.DataFrame(scores.items(), columns=[\"start_pos\", \"pnl\"])\n",
    "    score_df = score_df.set_index(\"start_pos\")\n",
    "    score_df[\"pnl_diff\"] = score_df[\"pnl\"] - score_df[\"pnl\"].loc[0]\n",
    "    score_df[\"pnl_diff_rev\"] = list(score_df[\"pnl_diff\"].iloc[::-1])\n",
    "    score_df[\"pnl_norm\"] = (score_df[\"pnl_diff_rev\"] + score_df[\"pnl_diff\"]) / 2\n",
    "    \n",
    "    return score_df"
   ]
  },
  {
   "cell_type": "code",
   "execution_count": null,
   "id": "15902f0c",
   "metadata": {
    "ExecuteTime": {
     "start_time": "2023-03-24T08:56:46.835Z"
    }
   },
   "outputs": [],
   "source": [
    "rollout_length = 100\n",
    "limit = 20"
   ]
  },
  {
   "cell_type": "code",
   "execution_count": null,
   "id": "9e56e30b",
   "metadata": {
    "ExecuteTime": {
     "start_time": "2023-03-24T08:56:46.838Z"
    },
    "scrolled": false
   },
   "outputs": [],
   "source": [
    "# show scores for each position\n",
    "sym = \"BANANAS\"\n",
    "\n",
    "A, D = get_markov_chain(\n",
    "    sym=sym,\n",
    "    limit=limit,\n",
    "    rollout_length=rollout_length,\n",
    ")\n",
    "score_df = score_matrix(A, D, limit=limit)\n",
    "\n",
    "plt.plot(score_df.index, score_df[\"pnl_diff\"], label=\"diff orig\")\n",
    "plt.plot(score_df.index, score_df[\"pnl_norm\"], label=\"diff norm\")\n",
    "plt.legend()\n",
    "plt.title(sym)\n",
    "plt.show()\n",
    "\n",
    "display(score_df)\n",
    "\n",
    "# save to file\n",
    "opp_costs = score_df[\"pnl_norm\"].to_dict()\n",
    "\n",
    "with open(f\"./opp_costs_{sym}.json\", \"w\") as f:\n",
    "    f.write(str(opp_costs))"
   ]
  },
  {
   "cell_type": "code",
   "execution_count": null,
   "id": "d5307a57",
   "metadata": {
    "ExecuteTime": {
     "end_time": "2023-03-22T05:19:36.803057Z",
     "start_time": "2023-03-22T05:19:36.747291Z"
    }
   },
   "outputs": [],
   "source": []
  },
  {
   "cell_type": "code",
   "execution_count": null,
   "id": "cb9a3c33",
   "metadata": {
    "ExecuteTime": {
     "start_time": "2023-03-24T08:56:46.844Z"
    },
    "scrolled": false
   },
   "outputs": [],
   "source": [
    "# show scores for each position\n",
    "sym = \"PEARLS\"\n",
    "\n",
    "A, D = get_markov_chain(\n",
    "    sym=sym,\n",
    "    limit=limit,\n",
    "    rollout_length=rollout_length,\n",
    ")\n",
    "score_df = score_matrix(A, D, limit=limit)\n",
    "\n",
    "plt.plot(score_df.index, score_df[\"pnl_diff\"], label=\"diff orig\")\n",
    "plt.plot(score_df.index, score_df[\"pnl_norm\"], label=\"diff norm\")\n",
    "plt.legend()\n",
    "plt.title(sym)\n",
    "plt.show()\n",
    "\n",
    "display(score_df)\n",
    "\n",
    "# save to file\n",
    "opp_costs = score_df[\"pnl_norm\"].to_dict()\n",
    "\n",
    "with open(f\"./opp_costs_{sym}.json\", \"w\") as f:\n",
    "    f.write(str(opp_costs))"
   ]
  },
  {
   "cell_type": "code",
   "execution_count": null,
   "id": "8a2baf00",
   "metadata": {},
   "outputs": [],
   "source": []
  },
  {
   "cell_type": "code",
   "execution_count": null,
   "id": "6d1a3c3e",
   "metadata": {},
   "outputs": [],
   "source": []
  },
  {
   "cell_type": "code",
   "execution_count": null,
   "id": "37aa035a",
   "metadata": {},
   "outputs": [],
   "source": []
  },
  {
   "cell_type": "markdown",
   "id": "393a13dd",
   "metadata": {},
   "source": [
    "### Available Taker edge"
   ]
  },
  {
   "cell_type": "code",
   "execution_count": null,
   "id": "fc0a9ad4",
   "metadata": {
    "ExecuteTime": {
     "start_time": "2023-03-24T08:56:46.852Z"
    },
    "scrolled": true
   },
   "outputs": [],
   "source": [
    "# calculate available taker edge\n",
    "\n",
    "avail_taker_df = order_df[order_df[\"taker_edge\"] > 0].copy()\n",
    "avail_taker_df[\"pnl\"] = avail_taker_df[\"taker_edge\"] * avail_taker_df[\"quantity\"].abs()\n",
    "\n",
    "for sym in _symbols:\n",
    "    df = avail_taker_df[avail_taker_df[\"symbol\"] == sym]\n",
    "    print(f\"Available taker edge in {sym}\", df[\"pnl\"].sum().round())\n",
    "\n"
   ]
  },
  {
   "cell_type": "markdown",
   "id": "d2ccc824",
   "metadata": {
    "ExecuteTime": {
     "end_time": "2023-03-21T00:26:48.107150Z",
     "start_time": "2023-03-21T00:26:48.091391Z"
    }
   },
   "source": [
    "### missed takers\n"
   ]
  },
  {
   "cell_type": "code",
   "execution_count": null,
   "id": "ff2680ed",
   "metadata": {
    "ExecuteTime": {
     "start_time": "2023-03-24T08:56:46.855Z"
    }
   },
   "outputs": [],
   "source": [
    "\n",
    "# get avail taker trades + my taker trades\n",
    "avail_df = avail_taker_df\n",
    "my_df = my_trade_df[my_trade_df[\"is_take\"]]\n",
    "\n",
    "# filter columns\n",
    "my_df = my_df[[\"time\", \"symbol\", \"price\", \"my_quantity\"]]\n",
    "avail_df = avail_df[[\"time\", \"symbol\", \"price\", \"quantity\", \"taker_edge\", \"fair_value\"]]\n",
    "\n",
    "# see which avail taker trades were actually taken by me\n",
    "taker_df = avail_df.merge(my_df, how=\"left\", on=[\"time\", \"symbol\", \"price\"])\n",
    "\n",
    "taker_df[\"my_quantity\"] = taker_df[\"my_quantity\"].fillna(0)\n",
    "\n",
    "# ensure my_quantity is not the same sign of resting order quantity\n",
    "wrongs = (taker_df[\"my_quantity\"] == taker_df[\"quantity\"])\n",
    "assert(wrongs.sum() == 0)\n",
    "# display(taker_df[wrongs])\n",
    "\n",
    "# calculate taken vs avail size\n",
    "taker_df[\"avail_size\"] = taker_df[\"quantity\"].abs()\n",
    "taker_df[\"taken_size\"] = np.minimum(taker_df[\"my_quantity\"].abs(), taker_df[\"avail_size\"])\n",
    "taker_df[\"missed_size\"] = taker_df[\"avail_size\"] - taker_df[\"taken_size\"]\n",
    "\n",
    "# calculate taken vs avail pnl\n",
    "taker_df[\"avail_pnl\"] = taker_df[\"taker_edge\"] * taker_df[\"avail_size\"]\n",
    "taker_df[\"taken_pnl\"] = taker_df[\"taker_edge\"] * taker_df[\"taken_size\"]\n",
    "taker_df[\"missed_pnl\"] = taker_df[\"taker_edge\"] * taker_df[\"missed_size\"]\n",
    "\n",
    "for sym in _symbols:\n",
    "    df = taker_df[taker_df[\"symbol\"] == sym]\n",
    "    \n",
    "    print(sym, \"taken_pnl\", df[\"taken_pnl\"].sum())\n",
    "    print(sym, \"avail_pnl\", df[\"avail_pnl\"].sum())\n",
    "    print(sym, \"missed_pnl\", df[\"missed_pnl\"].sum())\n",
    "    print()\n",
    "    print(sym, \"taken_size\", df[\"taken_size\"].sum())\n",
    "    print(sym, \"avail_size\", df[\"avail_size\"].sum())\n",
    "    print(sym, \"missed_size\", df[\"missed_size\"].sum())\n",
    "    print()\n"
   ]
  },
  {
   "cell_type": "code",
   "execution_count": null,
   "id": "89dc62a5",
   "metadata": {
    "ExecuteTime": {
     "start_time": "2023-03-24T08:56:46.858Z"
    }
   },
   "outputs": [],
   "source": [
    "# missed takers\n",
    "my_pos_df = my_positions.melt(id_vars=[\"time\"], value_vars=_symbols, var_name=\"symbol\", value_name=\"cur_pos\")\n",
    "\n",
    "untaken_df = taker_df[taker_df[\"avail_size\"] != taker_df[\"taken_size\"]]\n",
    "\n",
    "# untaken_df = untaken_df[[\"time\", \"symbol\", \"price\", \"fair_value\", \"taker_edge\", \"avail_size\", \"taken_size\"]].merge(my_pos_df, on=[\"time\", \"symbol\"])\n",
    "untaken_df = untaken_df.merge(my_pos_df, on=[\"time\", \"symbol\"])\n",
    "\n",
    "for sym in _symbols:\n",
    "    df = untaken_df[untaken_df[\"symbol\"] == sym].drop([\"my_quantity\"], axis=1)\n",
    "    \n",
    "    display(df)\n",
    "    \n",
    "    "
   ]
  },
  {
   "cell_type": "code",
   "execution_count": null,
   "id": "72fb4ac0",
   "metadata": {},
   "outputs": [],
   "source": []
  },
  {
   "cell_type": "code",
   "execution_count": null,
   "id": "9ff34545",
   "metadata": {},
   "outputs": [],
   "source": []
  },
  {
   "cell_type": "markdown",
   "id": "33366dc8",
   "metadata": {
    "ExecuteTime": {
     "end_time": "2023-03-20T22:57:54.510722Z",
     "start_time": "2023-03-20T22:57:54.494727Z"
    }
   },
   "source": [
    "### Available maker edge"
   ]
  },
  {
   "cell_type": "code",
   "execution_count": null,
   "id": "b2fb0609",
   "metadata": {
    "ExecuteTime": {
     "start_time": "2023-03-24T08:56:46.864Z"
    }
   },
   "outputs": [],
   "source": [
    "# calculate market maker edge (maker edge that the market received)\n",
    "maker_df = market_trades.copy()\n",
    "\n",
    "maker_df[\"edge\"] = maker_df[\"buy_edge\"].abs()\n",
    "maker_df[\"pnl\"] = maker_df[\"quantity\"] * maker_df[\"edge\"]\n",
    "\n",
    "for sym in _symbols:\n",
    "    df = maker_df[maker_df[\"symbol\"] == sym]\n",
    "    print(f\"Remaining maker edge in {sym}\", df[\"pnl\"].sum().round())\n",
    "    "
   ]
  },
  {
   "cell_type": "code",
   "execution_count": null,
   "id": "83adef4d",
   "metadata": {},
   "outputs": [],
   "source": []
  },
  {
   "cell_type": "code",
   "execution_count": null,
   "id": "1d6dd816",
   "metadata": {},
   "outputs": [],
   "source": []
  },
  {
   "cell_type": "markdown",
   "id": "ee42e27a",
   "metadata": {},
   "source": [
    "## Trade analysis - BANANAS"
   ]
  },
  {
   "cell_type": "markdown",
   "id": "2abf6ec6",
   "metadata": {},
   "source": [
    "#### func - calc_rtns()"
   ]
  },
  {
   "cell_type": "code",
   "execution_count": null,
   "id": "d538ad43",
   "metadata": {
    "ExecuteTime": {
     "start_time": "2023-03-24T08:56:46.871Z"
    },
    "execution": {
     "iopub.execute_input": "2023-03-13T04:11:27.596334Z",
     "iopub.status.busy": "2023-03-13T04:11:27.596212Z",
     "iopub.status.idle": "2023-03-13T04:11:27.599825Z",
     "shell.execute_reply": "2023-03-13T04:11:27.599509Z",
     "shell.execute_reply.started": "2023-03-13T04:11:27.596325Z"
    },
    "tags": []
   },
   "outputs": [],
   "source": [
    "# find performance of trades after 1 tick, 10 ticks, 100 ticks\n",
    "# returns only my trades for the specified symbol\n",
    "def calc_rtns(trade_df, sym, waits):\n",
    "    global fairs\n",
    "    \n",
    "    df = trade_df\n",
    "    df = df[df[\"symbol\"] == sym]\n",
    "    df = df[df[\"is_me\"]]\n",
    "\n",
    "    for wait in waits:\n",
    "        suffix = f\"_{wait}\"\n",
    "\n",
    "        # get shifted fairs\n",
    "        fairs_shift = fairs.set_index(\"time\").shift(-1 * wait).ffill().bfill().add_suffix(suffix)\n",
    "        fairs_shift = fairs_shift.reset_index()\n",
    "\n",
    "        df = pd.merge(df, fairs_shift)\n",
    "\n",
    "    for wait in waits:\n",
    "        df[f\"rtn_{wait}\"] = (df[f\"{sym}_{wait}\"] - df[\"price\"]) * np.sign(df[\"my_quantity\"])\n",
    "\n",
    "    return df\n",
    "\n"
   ]
  },
  {
   "cell_type": "markdown",
   "id": "163f3646",
   "metadata": {},
   "source": [
    "#### func - blur()"
   ]
  },
  {
   "cell_type": "code",
   "execution_count": null,
   "id": "61c9262b",
   "metadata": {
    "ExecuteTime": {
     "start_time": "2023-03-24T08:56:46.874Z"
    },
    "execution": {
     "iopub.execute_input": "2023-03-13T04:11:27.600542Z",
     "iopub.status.busy": "2023-03-13T04:11:27.600395Z",
     "iopub.status.idle": "2023-03-13T04:11:27.602645Z",
     "shell.execute_reply": "2023-03-13T04:11:27.602374Z",
     "shell.execute_reply.started": "2023-03-13T04:11:27.600531Z"
    },
    "tags": []
   },
   "outputs": [],
   "source": [
    "def blur(df, mu=0, std=0.1):\n",
    "    noise = np.random.normal(loc=mu, scale=std, size=df.shape)\n",
    "    return df + noise"
   ]
  },
  {
   "cell_type": "markdown",
   "id": "0dc60bd8",
   "metadata": {},
   "source": [
    "### Rtn over time"
   ]
  },
  {
   "cell_type": "code",
   "execution_count": null,
   "id": "97585dac",
   "metadata": {
    "ExecuteTime": {
     "start_time": "2023-03-24T08:56:46.877Z"
    },
    "execution": {
     "iopub.execute_input": "2023-03-13T04:11:27.603157Z",
     "iopub.status.busy": "2023-03-13T04:11:27.603070Z",
     "iopub.status.idle": "2023-03-13T04:11:27.683532Z",
     "shell.execute_reply": "2023-03-13T04:11:27.682971Z",
     "shell.execute_reply.started": "2023-03-13T04:11:27.603148Z"
    },
    "tags": []
   },
   "outputs": [],
   "source": [
    "# summary stats for trades vs rtns\n",
    "\n",
    "sym = \"BANANAS\"\n",
    "waits=[-1, 0, 1, 3, 10, 30, 100]\n",
    "\n",
    "df = calc_rtns(trade_df, sym=sym, waits=waits)\n",
    "plt.hist(df[\"rtn_0\"])\n",
    "plt.title(\"rtn_0\")\n",
    "\n",
    "df[\"rtn_0_total\"] = df[\"rtn_0\"] * df[\"quantity\"]\n",
    "\n",
    "print(\"total profit\", df[\"rtn_0_total\"].sum())\n",
    "\n",
    "display(df[[f\"rtn_{wait}\" for wait in waits]].describe().T)"
   ]
  },
  {
   "cell_type": "markdown",
   "id": "7755ba11",
   "metadata": {},
   "source": [
    "### rtn vs quantity graph"
   ]
  },
  {
   "cell_type": "code",
   "execution_count": null,
   "id": "12d0ae92",
   "metadata": {
    "ExecuteTime": {
     "start_time": "2023-03-24T08:56:46.881Z"
    },
    "execution": {
     "iopub.execute_input": "2023-03-13T04:11:27.684586Z",
     "iopub.status.busy": "2023-03-13T04:11:27.684378Z",
     "iopub.status.idle": "2023-03-13T04:11:27.748835Z",
     "shell.execute_reply": "2023-03-13T04:11:27.748171Z",
     "shell.execute_reply.started": "2023-03-13T04:11:27.684569Z"
    },
    "tags": []
   },
   "outputs": [],
   "source": [
    "plt.scatter(blur(df[\"quantity\"], std=0.1), blur(df[\"rtn_0\"], std=0.1), s=5, label=\"rtn_10\")\n",
    "plt.title(\"rtn vs quantity\")\n",
    "plt.legend()\n",
    "plt.show()\n",
    "\n"
   ]
  },
  {
   "cell_type": "markdown",
   "id": "a8df2cd5",
   "metadata": {},
   "source": [
    "### large trades"
   ]
  },
  {
   "cell_type": "code",
   "execution_count": null,
   "id": "3f9c71c8",
   "metadata": {
    "ExecuteTime": {
     "start_time": "2023-03-24T08:56:46.884Z"
    },
    "execution": {
     "iopub.execute_input": "2023-03-13T04:11:27.750017Z",
     "iopub.status.busy": "2023-03-13T04:11:27.749895Z",
     "iopub.status.idle": "2023-03-13T04:11:27.762383Z",
     "shell.execute_reply": "2023-03-13T04:11:27.761974Z",
     "shell.execute_reply.started": "2023-03-13T04:11:27.750007Z"
    },
    "tags": []
   },
   "outputs": [],
   "source": [
    "# print out large trades\n",
    "\n",
    "sizes = df.groupby(\"time\")[[\"quantity\"]].sum()\n",
    "big_days = sizes[sizes[\"quantity\"] >= 15]\n",
    "df[df[\"time\"].isin(big_days.index)]"
   ]
  },
  {
   "cell_type": "markdown",
   "id": "c41bff26",
   "metadata": {},
   "source": [
    "### losers: trade/book graph"
   ]
  },
  {
   "cell_type": "code",
   "execution_count": null,
   "id": "d73a0b89",
   "metadata": {
    "ExecuteTime": {
     "start_time": "2023-03-24T08:56:46.887Z"
    },
    "execution": {
     "iopub.execute_input": "2023-03-13T04:11:27.763204Z",
     "iopub.status.busy": "2023-03-13T04:11:27.763110Z",
     "iopub.status.idle": "2023-03-13T04:11:27.765607Z",
     "shell.execute_reply": "2023-03-13T04:11:27.765329Z",
     "shell.execute_reply.started": "2023-03-13T04:11:27.763195Z"
    },
    "tags": []
   },
   "outputs": [],
   "source": [
    "losers = df[(df[\"rtn_10\"] < 0)]\n",
    "winners = df[df[\"rtn_10\"] > 0]"
   ]
  },
  {
   "cell_type": "code",
   "execution_count": null,
   "id": "df368ce1",
   "metadata": {
    "ExecuteTime": {
     "start_time": "2023-03-24T08:56:46.891Z"
    },
    "execution": {
     "iopub.execute_input": "2023-03-13T04:11:27.766296Z",
     "iopub.status.busy": "2023-03-13T04:11:27.766089Z",
     "iopub.status.idle": "2023-03-13T04:11:27.971313Z",
     "shell.execute_reply": "2023-03-13T04:11:27.970979Z",
     "shell.execute_reply.started": "2023-03-13T04:11:27.766287Z"
    },
    "tags": []
   },
   "outputs": [],
   "source": [
    "plot_trades_and_book(\n",
    "    sym=\"BANANAS\", \n",
    "    trade_df=pd.concat([losers, market_trades], axis=0), \n",
    "    book_df=book_tops, \n",
    "    time_lb=0, \n",
    "    time_ub=2e5, \n",
    "    span=10,\n",
    "    show_mid=True,\n",
    ")\n"
   ]
  },
  {
   "cell_type": "raw",
   "id": "aab139fd-4d16-4250-b8c5-7c74fe0b7136",
   "metadata": {},
   "source": []
  },
  {
   "cell_type": "code",
   "execution_count": null,
   "id": "6bd85541",
   "metadata": {
    "ExecuteTime": {
     "start_time": "2023-03-24T08:56:47.025Z"
    },
    "execution": {
     "iopub.execute_input": "2023-03-13T04:11:27.972517Z",
     "iopub.status.busy": "2023-03-13T04:11:27.972300Z",
     "iopub.status.idle": "2023-03-13T04:11:27.987959Z",
     "shell.execute_reply": "2023-03-13T04:11:27.987605Z",
     "shell.execute_reply.started": "2023-03-13T04:11:27.972504Z"
    },
    "tags": []
   },
   "outputs": [],
   "source": [
    "losers"
   ]
  },
  {
   "cell_type": "code",
   "execution_count": null,
   "id": "ec6321c0",
   "metadata": {},
   "outputs": [],
   "source": []
  },
  {
   "cell_type": "code",
   "execution_count": null,
   "id": "9eb03186",
   "metadata": {},
   "outputs": [],
   "source": []
  },
  {
   "cell_type": "code",
   "execution_count": null,
   "id": "97366f45",
   "metadata": {},
   "outputs": [],
   "source": []
  },
  {
   "cell_type": "markdown",
   "id": "0f8c1455",
   "metadata": {},
   "source": [
    "## Trade analysis - PEARLS"
   ]
  },
  {
   "cell_type": "markdown",
   "id": "4536689f",
   "metadata": {},
   "source": [
    "### rtn over time"
   ]
  },
  {
   "cell_type": "code",
   "execution_count": null,
   "id": "1286486e",
   "metadata": {
    "ExecuteTime": {
     "start_time": "2023-03-24T08:56:47.033Z"
    },
    "execution": {
     "iopub.execute_input": "2023-03-13T04:11:27.989185Z",
     "iopub.status.busy": "2023-03-13T04:11:27.988656Z",
     "iopub.status.idle": "2023-03-13T04:11:28.065878Z",
     "shell.execute_reply": "2023-03-13T04:11:28.065537Z",
     "shell.execute_reply.started": "2023-03-13T04:11:27.989152Z"
    },
    "tags": []
   },
   "outputs": [],
   "source": [
    "### summary stats for trades vs rtns\n",
    "\n",
    "sym = \"PEARLS\"\n",
    "waits=[-1, 0, 1, 3, 10, 30, 100]\n",
    "\n",
    "df = calc_rtns(trade_df, sym=sym, waits=waits)\n",
    "plt.hist(df[\"rtn_0\"])\n",
    "\n",
    "df[\"rtn_0_total\"] = df[\"rtn_0\"] * df[\"quantity\"]\n",
    "\n",
    "print(\"total prof\", df[\"rtn_0_total\"].sum())\n",
    "\n",
    "display(df[[f\"rtn_{wait}\" for wait in waits]].describe().T)"
   ]
  },
  {
   "cell_type": "markdown",
   "id": "f2598be3",
   "metadata": {},
   "source": [
    "### rtn vs quantity graph"
   ]
  },
  {
   "cell_type": "code",
   "execution_count": null,
   "id": "a154934b",
   "metadata": {
    "ExecuteTime": {
     "start_time": "2023-03-24T08:56:47.037Z"
    },
    "execution": {
     "iopub.execute_input": "2023-03-13T04:11:28.066584Z",
     "iopub.status.busy": "2023-03-13T04:11:28.066482Z",
     "iopub.status.idle": "2023-03-13T04:11:28.122364Z",
     "shell.execute_reply": "2023-03-13T04:11:28.121965Z",
     "shell.execute_reply.started": "2023-03-13T04:11:28.066574Z"
    },
    "tags": []
   },
   "outputs": [],
   "source": [
    "plt.scatter(blur(df[\"quantity\"], std=0.0), blur(df[\"rtn_0\"], std=0.1), s=5, label=\"rtn_0\")\n",
    "# plt.scatter(blur(df[\"quantity\"]), blur(df[\"rtn_100\"]), s=5, label=\"rtn_100\")\n",
    "plt.title(\"rtn vs quantity\")\n",
    "plt.legend()\n",
    "plt.show()\n",
    "\n"
   ]
  },
  {
   "cell_type": "markdown",
   "id": "3493830c",
   "metadata": {
    "ExecuteTime": {
     "end_time": "2023-02-24T04:22:10.312994Z",
     "start_time": "2023-02-24T04:22:10.310450Z"
    }
   },
   "source": [
    "### losers: rtn0 vs spread"
   ]
  },
  {
   "cell_type": "code",
   "execution_count": null,
   "id": "f19aaf66",
   "metadata": {
    "ExecuteTime": {
     "start_time": "2023-03-24T08:56:47.041Z"
    },
    "execution": {
     "iopub.execute_input": "2023-03-13T04:11:28.123411Z",
     "iopub.status.busy": "2023-03-13T04:11:28.123068Z",
     "iopub.status.idle": "2023-03-13T04:11:28.182264Z",
     "shell.execute_reply": "2023-03-13T04:11:28.181763Z",
     "shell.execute_reply.started": "2023-03-13T04:11:28.123399Z"
    },
    "tags": []
   },
   "outputs": [],
   "source": [
    "losers = df[(df[\"rtn_0\"] < 0)]\n",
    "winners = df[df[\"rtn_0\"] > 0]\n",
    "\n",
    "df = pd.merge(losers, book_tops[[\"BANANAS_spread\", \"time\"]].shift(1), on=\"time\")\n",
    "plt.scatter(blur(df[\"BANANAS_spread\"]), blur(df[\"rtn_0\"]), s=5)"
   ]
  },
  {
   "cell_type": "code",
   "execution_count": null,
   "id": "0369ddc2",
   "metadata": {
    "ExecuteTime": {
     "start_time": "2023-03-24T08:56:47.044Z"
    },
    "execution": {
     "iopub.execute_input": "2023-03-13T04:11:28.182918Z",
     "iopub.status.busy": "2023-03-13T04:11:28.182818Z",
     "iopub.status.idle": "2023-03-13T04:11:28.209221Z",
     "shell.execute_reply": "2023-03-13T04:11:28.208814Z",
     "shell.execute_reply.started": "2023-03-13T04:11:28.182909Z"
    },
    "tags": []
   },
   "outputs": [],
   "source": [
    "losers.describe().T"
   ]
  },
  {
   "cell_type": "markdown",
   "id": "a6d7a582",
   "metadata": {},
   "source": [
    "### losers: histogram of price changes"
   ]
  },
  {
   "cell_type": "code",
   "execution_count": null,
   "id": "5114fd53",
   "metadata": {
    "ExecuteTime": {
     "start_time": "2023-03-24T08:56:47.048Z"
    },
    "execution": {
     "iopub.execute_input": "2023-03-13T04:11:28.209832Z",
     "iopub.status.busy": "2023-03-13T04:11:28.209731Z",
     "iopub.status.idle": "2023-03-13T04:11:28.268022Z",
     "shell.execute_reply": "2023-03-13T04:11:28.267678Z",
     "shell.execute_reply.started": "2023-03-13T04:11:28.209823Z"
    },
    "tags": []
   },
   "outputs": [],
   "source": [
    "loser_diffs = (abs(losers[\"PEARLS_-1\"] - losers[\"PEARLS_0\"]))\n",
    "\n",
    "plt.hist(loser_diffs)"
   ]
  },
  {
   "cell_type": "markdown",
   "id": "0007bd71",
   "metadata": {},
   "source": [
    "### losers: trade/book graph"
   ]
  },
  {
   "cell_type": "code",
   "execution_count": null,
   "id": "5f97598b",
   "metadata": {
    "ExecuteTime": {
     "start_time": "2023-03-24T08:56:47.053Z"
    },
    "execution": {
     "iopub.execute_input": "2023-03-13T04:11:28.268635Z",
     "iopub.status.busy": "2023-03-13T04:11:28.268541Z",
     "iopub.status.idle": "2023-03-13T04:11:28.464829Z",
     "shell.execute_reply": "2023-03-13T04:11:28.464506Z",
     "shell.execute_reply.started": "2023-03-13T04:11:28.268626Z"
    },
    "tags": []
   },
   "outputs": [],
   "source": [
    "plot_trades_and_book(\n",
    "    sym=\"PEARLS\", \n",
    "    trade_df=pd.concat([losers, market_trades], axis=0), \n",
    "    book_df=book_tops, \n",
    "    time_lb=0, \n",
    "    time_ub=100000, \n",
    "    span=21,\n",
    "    show_mid=True,\n",
    ")\n"
   ]
  },
  {
   "cell_type": "code",
   "execution_count": null,
   "id": "ec93ae77",
   "metadata": {},
   "outputs": [],
   "source": []
  },
  {
   "cell_type": "code",
   "execution_count": null,
   "id": "95d63fdd",
   "metadata": {},
   "outputs": [],
   "source": []
  },
  {
   "cell_type": "code",
   "execution_count": null,
   "id": "022fca01",
   "metadata": {},
   "outputs": [],
   "source": []
  },
  {
   "cell_type": "code",
   "execution_count": null,
   "id": "3fb841d1",
   "metadata": {},
   "outputs": [],
   "source": []
  },
  {
   "cell_type": "code",
   "execution_count": null,
   "id": "6434dafd",
   "metadata": {},
   "outputs": [],
   "source": []
  },
  {
   "cell_type": "code",
   "execution_count": null,
   "id": "adc5ca0e",
   "metadata": {},
   "outputs": [],
   "source": []
  },
  {
   "cell_type": "code",
   "execution_count": null,
   "id": "375eb925",
   "metadata": {},
   "outputs": [],
   "source": []
  },
  {
   "cell_type": "code",
   "execution_count": null,
   "id": "2438377f",
   "metadata": {},
   "outputs": [],
   "source": []
  },
  {
   "cell_type": "code",
   "execution_count": null,
   "id": "4c5a7813",
   "metadata": {},
   "outputs": [],
   "source": []
  },
  {
   "cell_type": "code",
   "execution_count": null,
   "id": "35aedc00",
   "metadata": {},
   "outputs": [],
   "source": []
  },
  {
   "cell_type": "code",
   "execution_count": null,
   "id": "0cc336c9",
   "metadata": {},
   "outputs": [],
   "source": []
  },
  {
   "cell_type": "code",
   "execution_count": null,
   "id": "0b293c55",
   "metadata": {},
   "outputs": [],
   "source": []
  },
  {
   "cell_type": "code",
   "execution_count": null,
   "id": "9ad2ebe8",
   "metadata": {},
   "outputs": [],
   "source": []
  },
  {
   "cell_type": "code",
   "execution_count": null,
   "id": "c5e85196",
   "metadata": {},
   "outputs": [],
   "source": []
  },
  {
   "cell_type": "code",
   "execution_count": null,
   "id": "11f1d7e6",
   "metadata": {},
   "outputs": [],
   "source": []
  },
  {
   "cell_type": "code",
   "execution_count": null,
   "id": "50f71a89",
   "metadata": {},
   "outputs": [],
   "source": []
  },
  {
   "cell_type": "code",
   "execution_count": null,
   "id": "50bf3050-5f12-4757-8958-cb7388f1cf87",
   "metadata": {},
   "outputs": [],
   "source": []
  },
  {
   "cell_type": "code",
   "execution_count": null,
   "id": "12680b0b-161a-4baf-b919-e84a9ace461f",
   "metadata": {},
   "outputs": [],
   "source": []
  },
  {
   "cell_type": "code",
   "execution_count": null,
   "id": "ce4c8720-994e-49bd-bbb4-929afa82d054",
   "metadata": {},
   "outputs": [],
   "source": []
  },
  {
   "cell_type": "code",
   "execution_count": null,
   "id": "4338c67e-4b7a-412c-9a23-93fced4796cc",
   "metadata": {},
   "outputs": [],
   "source": []
  },
  {
   "cell_type": "code",
   "execution_count": null,
   "id": "8e53bd60-48b0-4c8b-bec9-e44f9ecc29f9",
   "metadata": {},
   "outputs": [],
   "source": []
  }
 ],
 "metadata": {
  "kernelspec": {
   "display_name": "Python 3 (ipykernel)",
   "language": "python",
   "name": "python3"
  },
  "language_info": {
   "codemirror_mode": {
    "name": "ipython",
    "version": 3
   },
   "file_extension": ".py",
   "mimetype": "text/x-python",
   "name": "python",
   "nbconvert_exporter": "python",
   "pygments_lexer": "ipython3",
   "version": "3.9.16"
  },
  "toc": {
   "base_numbering": 1,
   "nav_menu": {},
   "number_sections": true,
   "sideBar": true,
   "skip_h1_title": false,
   "title_cell": "Table of Contents",
   "title_sidebar": "Contents",
   "toc_cell": false,
   "toc_position": {
    "height": "calc(100% - 180px)",
    "left": "10px",
    "top": "150px",
    "width": "383.391px"
   },
   "toc_section_display": true,
   "toc_window_display": true
  },
  "toc-autonumbering": true,
  "toc-showcode": false,
  "toc-showmarkdowntxt": false,
  "varInspector": {
   "cols": {
    "lenName": 16,
    "lenType": 16,
    "lenVar": 40
   },
   "kernels_config": {
    "python": {
     "delete_cmd_postfix": "",
     "delete_cmd_prefix": "del ",
     "library": "var_list.py",
     "varRefreshCmd": "print(var_dic_list())"
    },
    "r": {
     "delete_cmd_postfix": ") ",
     "delete_cmd_prefix": "rm(",
     "library": "var_list.r",
     "varRefreshCmd": "cat(var_dic_list()) "
    }
   },
   "types_to_exclude": [
    "module",
    "function",
    "builtin_function_or_method",
    "instance",
    "_Feature"
   ],
   "window_display": false
  }
 },
 "nbformat": 4,
 "nbformat_minor": 5
}
