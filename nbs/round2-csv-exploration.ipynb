{
 "cells": [
  {
   "cell_type": "code",
   "execution_count": 1,
   "id": "a7ccccc0",
   "metadata": {
    "ExecuteTime": {
     "end_time": "2023-03-22T14:20:56.029902Z",
     "start_time": "2023-03-22T14:20:55.920043Z"
    }
   },
   "outputs": [
    {
     "data": {
      "text/html": [
       "<style>.container { width:75% !important; }</style>"
      ],
      "text/plain": [
       "<IPython.core.display.HTML object>"
      ]
     },
     "metadata": {},
     "output_type": "display_data"
    }
   ],
   "source": [
    "from IPython.display import display, HTML\n",
    "import ipywidgets as widgets\n",
    "from ipywidgets import interact\n",
    "display(HTML(\"<style>.container { width:75% !important; }</style>\"))"
   ]
  },
  {
   "cell_type": "code",
   "execution_count": 2,
   "id": "8aede405",
   "metadata": {
    "ExecuteTime": {
     "end_time": "2023-03-22T14:20:57.422669Z",
     "start_time": "2023-03-22T14:20:56.033124Z"
    }
   },
   "outputs": [],
   "source": [
    "import matplotlib.pyplot as plt\n",
    "import numpy as np\n",
    "import pandas as pd\n"
   ]
  },
  {
   "cell_type": "markdown",
   "id": "a0f96811",
   "metadata": {},
   "source": [
    "# Preprocessing"
   ]
  },
  {
   "cell_type": "markdown",
   "id": "51c0c8d5",
   "metadata": {},
   "source": [
    "## Parameters"
   ]
  },
  {
   "cell_type": "code",
   "execution_count": 3,
   "id": "e1f323dd",
   "metadata": {
    "ExecuteTime": {
     "end_time": "2023-03-22T14:20:57.428705Z",
     "start_time": "2023-03-22T14:20:57.425209Z"
    }
   },
   "outputs": [],
   "source": [
    "# parameters\n",
    "\n",
    "_round_num = 2\n",
    "_symbol = \"COCONUTS\"\n",
    "# _day_ind = -2\n",
    "_day_range = [-1, 0, 1]\n",
    "_book_range = list(range(1, 3+1))\n",
    "_max_time = 1000000\n",
    "_time_step = 100"
   ]
  },
  {
   "cell_type": "code",
   "execution_count": 4,
   "id": "6ed0995f",
   "metadata": {
    "ExecuteTime": {
     "end_time": "2023-03-22T14:20:57.434593Z",
     "start_time": "2023-03-22T14:20:57.430663Z"
    }
   },
   "outputs": [],
   "source": [
    "def get_file_trades(day):\n",
    "    fname = f\"../data/round{_round_num}/trades_round_{_round_num}_day_{day}_nn.csv\"\n",
    "    print(\"fname\", fname)\n",
    "    return pd.read_csv(fname, sep=\";\")\n",
    "\n",
    "\n",
    "def get_file_prices(day):\n",
    "    fname = f\"../data/round{_round_num}/prices_round_{_round_num}_day_{day}.csv\"\n",
    "    print(\"fname\", fname)\n",
    "    return pd.read_csv(fname, sep=\";\")"
   ]
  },
  {
   "cell_type": "markdown",
   "id": "1db4a576",
   "metadata": {},
   "source": [
    "## read data"
   ]
  },
  {
   "cell_type": "code",
   "execution_count": 5,
   "id": "3817cae4",
   "metadata": {
    "ExecuteTime": {
     "end_time": "2023-03-22T14:20:57.709693Z",
     "start_time": "2023-03-22T14:20:57.438496Z"
    }
   },
   "outputs": [
    {
     "name": "stdout",
     "output_type": "stream",
     "text": [
      "fname ../data/round2/trades_round_2_day_-1_nn.csv\n",
      "fname ../data/round2/prices_round_2_day_-1.csv\n",
      "fname ../data/round2/trades_round_2_day_0_nn.csv\n",
      "fname ../data/round2/prices_round_2_day_0.csv\n",
      "fname ../data/round2/trades_round_2_day_1_nn.csv\n",
      "fname ../data/round2/prices_round_2_day_1.csv\n"
     ]
    },
    {
     "data": {
      "text/plain": [
       "SEASHELLS    17815\n",
       "Name: currency, dtype: int64"
      ]
     },
     "metadata": {},
     "output_type": "display_data"
    },
    {
     "data": {
      "text/plain": [
       "Series([], Name: buyer, dtype: int64)"
      ]
     },
     "metadata": {},
     "output_type": "display_data"
    },
    {
     "data": {
      "text/plain": [
       "Series([], Name: seller, dtype: int64)"
      ]
     },
     "metadata": {},
     "output_type": "display_data"
    }
   ],
   "source": [
    "# get data for each day\n",
    "trades = []\n",
    "prices = []\n",
    "\n",
    "for day in _day_range:\n",
    "    # get data from files\n",
    "    trade_df = get_file_trades(day)\n",
    "    price_df = get_file_prices(day)\n",
    "    \n",
    "    trade_df[\"day\"] = day\n",
    "    \n",
    "    trades += [trade_df]\n",
    "    prices += [price_df]\n",
    "\n",
    "# concat all data\n",
    "trade_df = pd.concat(trades)\n",
    "price_df = pd.concat(prices)\n",
    "\n",
    "# reset indexes\n",
    "trade_df = trade_df.reset_index(drop=True)\n",
    "price_df = price_df.reset_index(drop=True)\n",
    "\n",
    "\n",
    "# print columns that we believe to be irrelevant\n",
    "# currency - SEASHELLS only\n",
    "# buyer - nan only\n",
    "# seller - nan only\n",
    "display(trade_df[\"currency\"].value_counts())\n",
    "display(trade_df[\"buyer\"].value_counts())\n",
    "display(trade_df[\"seller\"].value_counts())\n",
    "\n",
    "# drop irrelevant columns\n",
    "trade_df = trade_df.drop([\"currency\", \"buyer\", \"seller\"], axis=1)\n",
    "\n",
    "# rename columns\n",
    "price_df = price_df.rename({\"product\": \"symbol\"}, axis=1)\n",
    "price_df = price_df.rename({\"timestamp\": \"time\"}, axis=1)\n",
    "\n",
    "trade_df = trade_df.rename({\"timestamp\": \"time\"}, axis=1)\n",
    "\n",
    "# filter for specific symbol\n",
    "trade_df = trade_df[trade_df[\"symbol\"] == _symbol]\n",
    "price_df = price_df[price_df[\"symbol\"] == _symbol]\n",
    "\n",
    "# calculate new time (for multiday)\n",
    "trade_df[\"time\"] = trade_df[\"time\"] + (trade_df[\"day\"] - min(_day_range)) * _max_time\n",
    "price_df[\"time\"] = price_df[\"time\"] + (price_df[\"day\"] - min(_day_range)) * _max_time\n",
    "\n",
    "# rename \"bid\" to \"buy\"\n",
    "# rename \"ask\" to \"sell\"\n",
    "price_df = price_df.rename({col: col.replace(\"bid\", \"buy\") for col in price_df.columns if \"bid\" in col}, axis=1)\n",
    "price_df = price_df.rename({col: col.replace(\"ask\", \"sell\") for col in price_df.columns if \"ask\" in col}, axis=1)\n"
   ]
  },
  {
   "cell_type": "code",
   "execution_count": 6,
   "id": "2d2d80de",
   "metadata": {
    "ExecuteTime": {
     "end_time": "2023-03-22T14:20:57.714634Z",
     "start_time": "2023-03-22T14:20:57.711922Z"
    }
   },
   "outputs": [],
   "source": [
    "# clean unreasonable data\n",
    "\n",
    "if _symbol == \"BANANAS\":\n",
    "    display(trade_df[trade_df[\"price\"] < 4500])\n",
    "    display(trade_df[trade_df[\"price\"] > 5500])\n",
    "\n",
    "    trade_df = trade_df[trade_df[\"price\"] >= 4500]\n",
    "    trade_df = trade_df[trade_df[\"price\"] <= 5500]\n",
    "\n"
   ]
  },
  {
   "cell_type": "markdown",
   "id": "d1bf6846",
   "metadata": {},
   "source": [
    "# Large Quotes"
   ]
  },
  {
   "cell_type": "markdown",
   "id": "cc944ac5",
   "metadata": {},
   "source": [
    "## calculate large quote data"
   ]
  },
  {
   "cell_type": "code",
   "execution_count": 7,
   "id": "d5598770",
   "metadata": {
    "ExecuteTime": {
     "end_time": "2023-03-22T14:20:57.721524Z",
     "start_time": "2023-03-22T14:20:57.716476Z"
    }
   },
   "outputs": [],
   "source": [
    "def get_book_large_size(side):\n",
    "    \"\"\" \n",
    "    side = 'buy' or 'sell' \n",
    "    \n",
    "    Returns prices, sizes\n",
    "    \"\"\"\n",
    "    \n",
    "    book_range = list(range(1, 3+1))\n",
    "    \n",
    "    # get bids\n",
    "    bid_sizes = price_df[[f\"{side}_volume_{i}\" for i in book_range]]\n",
    "    bid_prices = price_df[[f\"{side}_price_{i}\" for i in book_range]]\n",
    "\n",
    "    # replace nan with -1\n",
    "    bid_sizes = bid_sizes.replace(np.nan, -1)\n",
    "\n",
    "    # find inds\n",
    "    inds = np.argmax(bid_sizes.to_numpy(), axis=1)\n",
    "\n",
    "    # filter to keep largest bids\n",
    "    bid_prices = bid_prices.to_numpy()[np.arange(len(bid_prices)), inds]\n",
    "    bid_sizes = bid_sizes.to_numpy()[np.arange(len(bid_sizes)), inds]\n",
    "    \n",
    "    # create dataframe\n",
    "    df = pd.DataFrame([bid_prices, bid_sizes]).T\n",
    "    df.columns = [f\"{side}_price\", f\"{side}_size\"]\n",
    "    df[\"time\"] = price_df[\"time\"].reset_index()[\"time\"]\n",
    "    \n",
    "    return df"
   ]
  },
  {
   "cell_type": "code",
   "execution_count": 8,
   "id": "e8c89433",
   "metadata": {
    "ExecuteTime": {
     "end_time": "2023-03-22T14:20:58.591107Z",
     "start_time": "2023-03-22T14:20:57.723278Z"
    }
   },
   "outputs": [],
   "source": [
    "# get big buy/sell quotes\n",
    "buy_df = get_book_large_size(\"buy\")\n",
    "sell_df = get_book_large_size(\"sell\")\n",
    "\n",
    "# create big quote_df\n",
    "quote_df = pd.merge(buy_df, sell_df, on=\"time\")\n",
    "quote_df[\"mid_price\"] = (quote_df[\"buy_price\"] + quote_df[\"sell_price\"]) / 2\n",
    "quote_df[\"spread\"] = quote_df[\"sell_price\"] - quote_df[\"buy_price\"]\n",
    "\n",
    "# edge is calculated from perspective of buyer\n",
    "trade_df = trade_df.merge(quote_df[[\"time\", \"mid_price\"]], on=\"time\")\n",
    "trade_df[\"edge\"] = trade_df[\"mid_price\"] - trade_df[\"price\"]"
   ]
  },
  {
   "cell_type": "code",
   "execution_count": null,
   "id": "e2e47e41",
   "metadata": {},
   "outputs": [],
   "source": []
  },
  {
   "cell_type": "code",
   "execution_count": 9,
   "id": "a7d9bd24",
   "metadata": {
    "ExecuteTime": {
     "end_time": "2023-03-22T14:20:58.847490Z",
     "start_time": "2023-03-22T14:20:58.593173Z"
    }
   },
   "outputs": [
    {
     "data": {
      "image/png": "[encoded data removed]",
      "text/plain": [
       "<Figure size 640x480 with 1 Axes>"
      ]
     },
     "metadata": {},
     "output_type": "display_data"
    },
    {
     "data": {
      "text/html": [
       "<div>\n",
       "<style scoped>\n",
       "    .dataframe tbody tr th:only-of-type {\n",
       "        vertical-align: middle;\n",
       "    }\n",
       "\n",
       "    .dataframe tbody tr th {\n",
       "        vertical-align: top;\n",
       "    }\n",
       "\n",
       "    .dataframe thead th {\n",
       "        text-align: right;\n",
       "    }\n",
       "</style>\n",
       "<table border=\"1\" class=\"dataframe\">\n",
       "  <thead>\n",
       "    <tr style=\"text-align: right;\">\n",
       "      <th></th>\n",
       "      <th>index</th>\n",
       "      <th>spread</th>\n",
       "    </tr>\n",
       "  </thead>\n",
       "  <tbody>\n",
       "    <tr>\n",
       "      <th>0</th>\n",
       "      <td>3.0</td>\n",
       "      <td>29391</td>\n",
       "    </tr>\n",
       "    <tr>\n",
       "      <th>1</th>\n",
       "      <td>2.0</td>\n",
       "      <td>361</td>\n",
       "    </tr>\n",
       "    <tr>\n",
       "      <th>2</th>\n",
       "      <td>4.0</td>\n",
       "      <td>248</td>\n",
       "    </tr>\n",
       "  </tbody>\n",
       "</table>\n",
       "</div>"
      ],
      "text/plain": [
       "   index  spread\n",
       "0    3.0   29391\n",
       "1    2.0     361\n",
       "2    4.0     248"
      ]
     },
     "metadata": {},
     "output_type": "display_data"
    }
   ],
   "source": [
    "plt.hist(quote_df[\"spread\"], bins=100)\n",
    "plt.title(\"large quote spreads\")\n",
    "plt.show()\n",
    "\n",
    "display(quote_df[\"spread\"].value_counts().reset_index())"
   ]
  },
  {
   "cell_type": "markdown",
   "id": "5dae7327",
   "metadata": {},
   "source": [
    "## whale quote: order over time"
   ]
  },
  {
   "cell_type": "code",
   "execution_count": 10,
   "id": "193379cb",
   "metadata": {
    "ExecuteTime": {
     "end_time": "2023-03-22T14:20:59.055705Z",
     "start_time": "2023-03-22T14:20:58.849337Z"
    }
   },
   "outputs": [
    {
     "data": {
      "text/plain": [
       "<matplotlib.legend.Legend at 0x11cede5e0>"
      ]
     },
     "execution_count": 10,
     "metadata": {},
     "output_type": "execute_result"
    },
    {
     "data": {
      "image/png": "[encoded data removed]",
      "text/plain": [
       "<Figure size 640x480 with 1 Axes>"
      ]
     },
     "metadata": {},
     "output_type": "display_data"
    }
   ],
   "source": [
    "# lb, ub = 2e6, 2e6+1e5\n",
    "# quote_df = quote_df[lb <= quote_df[\"time\"]]\n",
    "# quote_df = quote_df[quote_df[\"time\"] <= ub]\n",
    "\n",
    "plt.plot(quote_df[\"time\"], quote_df[\"buy_price\"], linewidth=0.5, label=\"buy\")\n",
    "plt.plot(quote_df[\"time\"], quote_df[\"sell_price\"], linewidth=0.5, label=\"sell\")\n",
    "plt.title(\"book\")\n",
    "plt.legend()"
   ]
  },
  {
   "cell_type": "markdown",
   "id": "eead535e",
   "metadata": {},
   "source": [
    "## whale quote: sizing histogram"
   ]
  },
  {
   "cell_type": "code",
   "execution_count": 11,
   "id": "37a7f327",
   "metadata": {
    "ExecuteTime": {
     "end_time": "2023-03-22T14:20:59.317852Z",
     "start_time": "2023-03-22T14:20:59.057551Z"
    },
    "scrolled": false
   },
   "outputs": [
    {
     "data": {
      "image/png": "[encoded data removed]",
      "text/plain": [
       "<Figure size 1000x500 with 2 Axes>"
      ]
     },
     "metadata": {},
     "output_type": "display_data"
    },
    {
     "data": {
      "text/html": [
       "<div>\n",
       "<style scoped>\n",
       "    .dataframe tbody tr th:only-of-type {\n",
       "        vertical-align: middle;\n",
       "    }\n",
       "\n",
       "    .dataframe tbody tr th {\n",
       "        vertical-align: top;\n",
       "    }\n",
       "\n",
       "    .dataframe thead th {\n",
       "        text-align: right;\n",
       "    }\n",
       "</style>\n",
       "<table border=\"1\" class=\"dataframe\">\n",
       "  <thead>\n",
       "    <tr style=\"text-align: right;\">\n",
       "      <th></th>\n",
       "      <th>index</th>\n",
       "      <th>buy_size</th>\n",
       "    </tr>\n",
       "  </thead>\n",
       "  <tbody>\n",
       "    <tr>\n",
       "      <th>0</th>\n",
       "      <td>181.0</td>\n",
       "      <td>502</td>\n",
       "    </tr>\n",
       "    <tr>\n",
       "      <th>1</th>\n",
       "      <td>184.0</td>\n",
       "      <td>493</td>\n",
       "    </tr>\n",
       "    <tr>\n",
       "      <th>2</th>\n",
       "      <td>191.0</td>\n",
       "      <td>482</td>\n",
       "    </tr>\n",
       "    <tr>\n",
       "      <th>3</th>\n",
       "      <td>183.0</td>\n",
       "      <td>476</td>\n",
       "    </tr>\n",
       "    <tr>\n",
       "      <th>4</th>\n",
       "      <td>182.0</td>\n",
       "      <td>473</td>\n",
       "    </tr>\n",
       "    <tr>\n",
       "      <th>...</th>\n",
       "      <td>...</td>\n",
       "      <td>...</td>\n",
       "    </tr>\n",
       "    <tr>\n",
       "      <th>131</th>\n",
       "      <td>237.0</td>\n",
       "      <td>1</td>\n",
       "    </tr>\n",
       "    <tr>\n",
       "      <th>132</th>\n",
       "      <td>244.0</td>\n",
       "      <td>1</td>\n",
       "    </tr>\n",
       "    <tr>\n",
       "      <th>133</th>\n",
       "      <td>251.0</td>\n",
       "      <td>1</td>\n",
       "    </tr>\n",
       "    <tr>\n",
       "      <th>134</th>\n",
       "      <td>247.0</td>\n",
       "      <td>1</td>\n",
       "    </tr>\n",
       "    <tr>\n",
       "      <th>135</th>\n",
       "      <td>242.0</td>\n",
       "      <td>1</td>\n",
       "    </tr>\n",
       "  </tbody>\n",
       "</table>\n",
       "<p>136 rows × 2 columns</p>\n",
       "</div>"
      ],
      "text/plain": [
       "     index  buy_size\n",
       "0    181.0       502\n",
       "1    184.0       493\n",
       "2    191.0       482\n",
       "3    183.0       476\n",
       "4    182.0       473\n",
       "..     ...       ...\n",
       "131  237.0         1\n",
       "132  244.0         1\n",
       "133  251.0         1\n",
       "134  247.0         1\n",
       "135  242.0         1\n",
       "\n",
       "[136 rows x 2 columns]"
      ]
     },
     "metadata": {},
     "output_type": "display_data"
    },
    {
     "data": {
      "text/html": [
       "<div>\n",
       "<style scoped>\n",
       "    .dataframe tbody tr th:only-of-type {\n",
       "        vertical-align: middle;\n",
       "    }\n",
       "\n",
       "    .dataframe tbody tr th {\n",
       "        vertical-align: top;\n",
       "    }\n",
       "\n",
       "    .dataframe thead th {\n",
       "        text-align: right;\n",
       "    }\n",
       "</style>\n",
       "<table border=\"1\" class=\"dataframe\">\n",
       "  <thead>\n",
       "    <tr style=\"text-align: right;\">\n",
       "      <th></th>\n",
       "      <th>index</th>\n",
       "      <th>sell_size</th>\n",
       "    </tr>\n",
       "  </thead>\n",
       "  <tbody>\n",
       "    <tr>\n",
       "      <th>0</th>\n",
       "      <td>184.0</td>\n",
       "      <td>502</td>\n",
       "    </tr>\n",
       "    <tr>\n",
       "      <th>1</th>\n",
       "      <td>182.0</td>\n",
       "      <td>496</td>\n",
       "    </tr>\n",
       "    <tr>\n",
       "      <th>2</th>\n",
       "      <td>180.0</td>\n",
       "      <td>491</td>\n",
       "    </tr>\n",
       "    <tr>\n",
       "      <th>3</th>\n",
       "      <td>179.0</td>\n",
       "      <td>479</td>\n",
       "    </tr>\n",
       "    <tr>\n",
       "      <th>4</th>\n",
       "      <td>190.0</td>\n",
       "      <td>477</td>\n",
       "    </tr>\n",
       "    <tr>\n",
       "      <th>...</th>\n",
       "      <td>...</td>\n",
       "      <td>...</td>\n",
       "    </tr>\n",
       "    <tr>\n",
       "      <th>126</th>\n",
       "      <td>226.0</td>\n",
       "      <td>55</td>\n",
       "    </tr>\n",
       "    <tr>\n",
       "      <th>127</th>\n",
       "      <td>227.0</td>\n",
       "      <td>48</td>\n",
       "    </tr>\n",
       "    <tr>\n",
       "      <th>128</th>\n",
       "      <td>228.0</td>\n",
       "      <td>45</td>\n",
       "    </tr>\n",
       "    <tr>\n",
       "      <th>129</th>\n",
       "      <td>229.0</td>\n",
       "      <td>23</td>\n",
       "    </tr>\n",
       "    <tr>\n",
       "      <th>130</th>\n",
       "      <td>230.0</td>\n",
       "      <td>13</td>\n",
       "    </tr>\n",
       "  </tbody>\n",
       "</table>\n",
       "<p>131 rows × 2 columns</p>\n",
       "</div>"
      ],
      "text/plain": [
       "     index  sell_size\n",
       "0    184.0        502\n",
       "1    182.0        496\n",
       "2    180.0        491\n",
       "3    179.0        479\n",
       "4    190.0        477\n",
       "..     ...        ...\n",
       "126  226.0         55\n",
       "127  227.0         48\n",
       "128  228.0         45\n",
       "129  229.0         23\n",
       "130  230.0         13\n",
       "\n",
       "[131 rows x 2 columns]"
      ]
     },
     "metadata": {},
     "output_type": "display_data"
    }
   ],
   "source": [
    "plt.figure(figsize=(10, 5))\n",
    "\n",
    "plt.subplot(121)\n",
    "plt.hist(quote_df[\"buy_size\"], bins=20)\n",
    "plt.title(\"buys\")\n",
    "\n",
    "plt.subplot(122)\n",
    "plt.hist(quote_df[\"sell_size\"], bins=20)\n",
    "plt.title(\"sells\")\n",
    "\n",
    "plt.show()\n",
    "\n",
    "\n",
    "display(quote_df[\"buy_size\"].value_counts().reset_index())\n",
    "display(quote_df[\"sell_size\"].value_counts().reset_index())"
   ]
  },
  {
   "cell_type": "code",
   "execution_count": null,
   "id": "8343afbe",
   "metadata": {},
   "outputs": [],
   "source": []
  },
  {
   "cell_type": "markdown",
   "id": "346a6d70",
   "metadata": {},
   "source": [
    "## whale quote: mid_price change stats"
   ]
  },
  {
   "cell_type": "code",
   "execution_count": 12,
   "id": "f57478ea",
   "metadata": {
    "ExecuteTime": {
     "end_time": "2023-03-22T14:20:59.544973Z",
     "start_time": "2023-03-22T14:20:59.319248Z"
    }
   },
   "outputs": [
    {
     "data": {
      "image/png": "[encoded data removed]",
      "text/plain": [
       "<Figure size 640x480 with 1 Axes>"
      ]
     },
     "metadata": {},
     "output_type": "display_data"
    },
    {
     "data": {
      "text/html": [
       "<div>\n",
       "<style scoped>\n",
       "    .dataframe tbody tr th:only-of-type {\n",
       "        vertical-align: middle;\n",
       "    }\n",
       "\n",
       "    .dataframe tbody tr th {\n",
       "        vertical-align: top;\n",
       "    }\n",
       "\n",
       "    .dataframe thead th {\n",
       "        text-align: right;\n",
       "    }\n",
       "</style>\n",
       "<table border=\"1\" class=\"dataframe\">\n",
       "  <thead>\n",
       "    <tr style=\"text-align: right;\">\n",
       "      <th></th>\n",
       "      <th>count</th>\n",
       "      <th>mean</th>\n",
       "      <th>std</th>\n",
       "      <th>min</th>\n",
       "      <th>25%</th>\n",
       "      <th>50%</th>\n",
       "      <th>75%</th>\n",
       "      <th>max</th>\n",
       "    </tr>\n",
       "  </thead>\n",
       "  <tbody>\n",
       "    <tr>\n",
       "      <th>mid_price</th>\n",
       "      <td>29999.0</td>\n",
       "      <td>-0.002567</td>\n",
       "      <td>0.897448</td>\n",
       "      <td>-3.0</td>\n",
       "      <td>-1.0</td>\n",
       "      <td>0.0</td>\n",
       "      <td>1.0</td>\n",
       "      <td>4.0</td>\n",
       "    </tr>\n",
       "  </tbody>\n",
       "</table>\n",
       "</div>"
      ],
      "text/plain": [
       "             count      mean       std  min  25%  50%  75%  max\n",
       "mid_price  29999.0 -0.002567  0.897448 -3.0 -1.0  0.0  1.0  4.0"
      ]
     },
     "metadata": {},
     "output_type": "display_data"
    },
    {
     "name": "stdout",
     "output_type": "stream",
     "text": [
      "std size 155.44004559268384\n",
      "total change -77.0\n",
      "z-score -0.495367842349785\n"
     ]
    }
   ],
   "source": [
    "# diffs\n",
    "diffs = quote_df[\"mid_price\"] - quote_df[\"mid_price\"].shift(1)\n",
    "diffs = diffs.dropna()\n",
    "\n",
    "_ = plt.hist(diffs, bins=50)\n",
    "plt.title(\"diffs 1 turn\")\n",
    "plt.show()\n",
    "\n",
    "\n",
    "diff_desc = pd.DataFrame(diffs).describe().T\n",
    "display(diff_desc)\n",
    "\n",
    "stdev = np.sqrt(len(diffs))* diff_desc[\"std\"].iloc[0]\n",
    "print(\"std size\", stdev)\n",
    "print(\"total change\", diffs.sum())\n",
    "print(\"z-score\", diffs.sum() / stdev)"
   ]
  },
  {
   "cell_type": "markdown",
   "id": "88a85b55",
   "metadata": {},
   "source": [
    "## linreg on large quote mid price"
   ]
  },
  {
   "cell_type": "code",
   "execution_count": 13,
   "id": "6050c367",
   "metadata": {
    "ExecuteTime": {
     "end_time": "2023-03-22T14:20:59.927871Z",
     "start_time": "2023-03-22T14:20:59.546399Z"
    }
   },
   "outputs": [],
   "source": [
    "from sklearn.linear_model import LinearRegression"
   ]
  },
  {
   "cell_type": "code",
   "execution_count": 14,
   "id": "4006ed6f",
   "metadata": {
    "ExecuteTime": {
     "end_time": "2023-03-22T14:20:59.945039Z",
     "start_time": "2023-03-22T14:20:59.934223Z"
    }
   },
   "outputs": [],
   "source": [
    "_turn_diffs = [-1, -10]\n",
    "_pred_diff = 10\n",
    "\n",
    "data = []\n",
    "\n",
    "# get input data\n",
    "for diff in _turn_diffs:\n",
    "    data += [quote_df[\"mid_price\"] - quote_df[\"mid_price\"].shift(-1 * diff)]\n",
    "\n",
    "# get output data\n",
    "data += [quote_df[\"mid_price\"].shift(-1 * _pred_diff) - quote_df[\"mid_price\"]]\n",
    "\n",
    "# form X, y - clean data\n",
    "X = pd.concat(data, axis=1)\n",
    "X = X.dropna()\n",
    "X.columns = [f\"d_{diff}\" for diff in [*_turn_diffs, _pred_diff]]\n",
    "\n",
    "y = X[[f\"d_{_pred_diff}\"]]\n",
    "X = X.drop(f\"d_{_pred_diff}\", axis=1)"
   ]
  },
  {
   "cell_type": "code",
   "execution_count": 15,
   "id": "f8d88508",
   "metadata": {
    "ExecuteTime": {
     "end_time": "2023-03-22T14:21:00.299876Z",
     "start_time": "2023-03-22T14:20:59.947099Z"
    }
   },
   "outputs": [
    {
     "data": {
      "image/png": "[encoded data removed]",
      "text/plain": [
       "<Figure size 640x480 with 1 Axes>"
      ]
     },
     "metadata": {},
     "output_type": "display_data"
    },
    {
     "data": {
      "image/png": "[encoded data removed]",
      "text/plain": [
       "<Figure size 640x480 with 1 Axes>"
      ]
     },
     "metadata": {},
     "output_type": "display_data"
    }
   ],
   "source": [
    "for col in X.columns:\n",
    "    Xp = X[col] + np.random.normal(scale=0.1, size=X[col].shape)\n",
    "    yp = y + np.random.normal(scale=0.1, size=y.shape)\n",
    "    plt.scatter(Xp, yp, s=0.25)\n",
    "    plt.title(col + \" vs \" + y.columns[0])\n",
    "    plt.show()"
   ]
  },
  {
   "cell_type": "code",
   "execution_count": 16,
   "id": "75bf566e",
   "metadata": {
    "ExecuteTime": {
     "end_time": "2023-03-22T14:21:00.516043Z",
     "start_time": "2023-03-22T14:21:00.306245Z"
    }
   },
   "outputs": [
    {
     "data": {
      "text/plain": [
       "(array([[0., 0., 0., ..., 0., 0., 0.],\n",
       "        [0., 0., 0., ..., 0., 0., 0.],\n",
       "        [0., 0., 0., ..., 0., 0., 0.],\n",
       "        ...,\n",
       "        [0., 0., 0., ..., 0., 0., 0.],\n",
       "        [0., 0., 0., ..., 0., 0., 0.],\n",
       "        [0., 0., 0., ..., 0., 0., 0.]]),\n",
       " array([-9. , -8.6, -8.2, -7.8, -7.4, -7. , -6.6, -6.2, -5.8, -5.4, -5. ,\n",
       "        -4.6, -4.2, -3.8, -3.4, -3. , -2.6, -2.2, -1.8, -1.4, -1. , -0.6,\n",
       "        -0.2,  0.2,  0.6,  1. ,  1.4,  1.8,  2.2,  2.6,  3. ,  3.4,  3.8,\n",
       "         4.2,  4.6,  5. ,  5.4,  5.8,  6.2,  6.6,  7. ,  7.4,  7.8,  8.2,\n",
       "         8.6,  9. ,  9.4,  9.8, 10.2, 10.6, 11. ]),\n",
       " array([-9. , -8.6, -8.2, -7.8, -7.4, -7. , -6.6, -6.2, -5.8, -5.4, -5. ,\n",
       "        -4.6, -4.2, -3.8, -3.4, -3. , -2.6, -2.2, -1.8, -1.4, -1. , -0.6,\n",
       "        -0.2,  0.2,  0.6,  1. ,  1.4,  1.8,  2.2,  2.6,  3. ,  3.4,  3.8,\n",
       "         4.2,  4.6,  5. ,  5.4,  5.8,  6.2,  6.6,  7. ,  7.4,  7.8,  8.2,\n",
       "         8.6,  9. ,  9.4,  9.8, 10.2, 10.6, 11. ]),\n",
       " <matplotlib.collections.QuadMesh at 0x1244f1ac0>)"
      ]
     },
     "execution_count": 16,
     "metadata": {},
     "output_type": "execute_result"
    },
    {
     "data": {
      "image/png": "[encoded data removed]",
      "text/plain": [
       "<Figure size 640x480 with 1 Axes>"
      ]
     },
     "metadata": {},
     "output_type": "display_data"
    }
   ],
   "source": [
    "plt.hist2d(X[col], y[y.columns[0]], bins=50)"
   ]
  },
  {
   "cell_type": "code",
   "execution_count": 17,
   "id": "f42072ac",
   "metadata": {
    "ExecuteTime": {
     "end_time": "2023-03-22T14:21:00.686953Z",
     "start_time": "2023-03-22T14:21:00.517714Z"
    }
   },
   "outputs": [
    {
     "data": {
      "text/html": [
       "<div>\n",
       "<style scoped>\n",
       "    .dataframe tbody tr th:only-of-type {\n",
       "        vertical-align: middle;\n",
       "    }\n",
       "\n",
       "    .dataframe tbody tr th {\n",
       "        vertical-align: top;\n",
       "    }\n",
       "\n",
       "    .dataframe thead th {\n",
       "        text-align: right;\n",
       "    }\n",
       "</style>\n",
       "<table border=\"1\" class=\"dataframe\">\n",
       "  <thead>\n",
       "    <tr style=\"text-align: right;\">\n",
       "      <th></th>\n",
       "      <th>count</th>\n",
       "      <th>mean</th>\n",
       "      <th>std</th>\n",
       "      <th>min</th>\n",
       "      <th>25%</th>\n",
       "      <th>50%</th>\n",
       "      <th>75%</th>\n",
       "      <th>max</th>\n",
       "    </tr>\n",
       "  </thead>\n",
       "  <tbody>\n",
       "    <tr>\n",
       "      <th>d_10</th>\n",
       "      <td>29980.0</td>\n",
       "      <td>-0.025267</td>\n",
       "      <td>2.59204</td>\n",
       "      <td>-9.0</td>\n",
       "      <td>-2.0</td>\n",
       "      <td>0.0</td>\n",
       "      <td>2.0</td>\n",
       "      <td>11.0</td>\n",
       "    </tr>\n",
       "  </tbody>\n",
       "</table>\n",
       "</div>"
      ],
      "text/plain": [
       "        count      mean      std  min  25%  50%  75%   max\n",
       "d_10  29980.0 -0.025267  2.59204 -9.0 -2.0  0.0  2.0  11.0"
      ]
     },
     "metadata": {},
     "output_type": "display_data"
    },
    {
     "data": {
      "text/html": [
       "<div>\n",
       "<style scoped>\n",
       "    .dataframe tbody tr th:only-of-type {\n",
       "        vertical-align: middle;\n",
       "    }\n",
       "\n",
       "    .dataframe tbody tr th {\n",
       "        vertical-align: top;\n",
       "    }\n",
       "\n",
       "    .dataframe thead th {\n",
       "        text-align: right;\n",
       "    }\n",
       "</style>\n",
       "<table border=\"1\" class=\"dataframe\">\n",
       "  <thead>\n",
       "    <tr style=\"text-align: right;\">\n",
       "      <th></th>\n",
       "      <th>count</th>\n",
       "      <th>mean</th>\n",
       "      <th>std</th>\n",
       "      <th>min</th>\n",
       "      <th>25%</th>\n",
       "      <th>50%</th>\n",
       "      <th>75%</th>\n",
       "      <th>max</th>\n",
       "    </tr>\n",
       "  </thead>\n",
       "  <tbody>\n",
       "    <tr>\n",
       "      <th>d_10</th>\n",
       "      <td>29980.0</td>\n",
       "      <td>2.056154</td>\n",
       "      <td>1.578417</td>\n",
       "      <td>0.0</td>\n",
       "      <td>1.0</td>\n",
       "      <td>2.0</td>\n",
       "      <td>3.0</td>\n",
       "      <td>11.0</td>\n",
       "    </tr>\n",
       "  </tbody>\n",
       "</table>\n",
       "</div>"
      ],
      "text/plain": [
       "        count      mean       std  min  25%  50%  75%   max\n",
       "d_10  29980.0  2.056154  1.578417  0.0  1.0  2.0  3.0  11.0"
      ]
     },
     "metadata": {},
     "output_type": "display_data"
    },
    {
     "data": {
      "image/png": "[encoded data removed]",
      "text/plain": [
       "<Figure size 640x480 with 1 Axes>"
      ]
     },
     "metadata": {},
     "output_type": "display_data"
    }
   ],
   "source": [
    "plt.title(f\"change over {_pred_diff} turns\")\n",
    "plt.hist(y, bins=20)\n",
    "\n",
    "display(y.describe().T)\n",
    "display(abs(y).describe().T)\n"
   ]
  },
  {
   "cell_type": "code",
   "execution_count": 18,
   "id": "979989ad",
   "metadata": {
    "ExecuteTime": {
     "end_time": "2023-03-22T14:21:00.701069Z",
     "start_time": "2023-03-22T14:21:00.688942Z"
    }
   },
   "outputs": [
    {
     "data": {
      "text/plain": [
       "array([[-0.10062683,  0.01535994]])"
      ]
     },
     "metadata": {},
     "output_type": "display_data"
    },
    {
     "data": {
      "text/plain": [
       "array([-0.02513371])"
      ]
     },
     "metadata": {},
     "output_type": "display_data"
    }
   ],
   "source": [
    "reg = LinearRegression().fit(X, y)\n",
    "display(reg.coef_)\n",
    "display(reg.intercept_)"
   ]
  },
  {
   "cell_type": "code",
   "execution_count": 19,
   "id": "e2da8b98",
   "metadata": {
    "ExecuteTime": {
     "end_time": "2023-03-22T14:21:00.710491Z",
     "start_time": "2023-03-22T14:21:00.703423Z"
    }
   },
   "outputs": [
    {
     "name": "stdout",
     "output_type": "stream",
     "text": [
      "coeffs [-0.10062683  0.01535994]\n",
      "intercept -0.02513370736192416\n",
      "score 0.0011104461158043533\n"
     ]
    }
   ],
   "source": [
    "print(\"coeffs\", sum(reg.coef_))\n",
    "print(\"intercept\", sum(reg.intercept_))\n",
    "print(\"score\", reg.score(X, y))"
   ]
  },
  {
   "cell_type": "code",
   "execution_count": 20,
   "id": "fd4f7f61",
   "metadata": {
    "ExecuteTime": {
     "end_time": "2023-03-22T14:21:00.734832Z",
     "start_time": "2023-03-22T14:21:00.712700Z"
    }
   },
   "outputs": [
    {
     "data": {
      "text/html": [
       "<div>\n",
       "<style scoped>\n",
       "    .dataframe tbody tr th:only-of-type {\n",
       "        vertical-align: middle;\n",
       "    }\n",
       "\n",
       "    .dataframe tbody tr th {\n",
       "        vertical-align: top;\n",
       "    }\n",
       "\n",
       "    .dataframe thead th {\n",
       "        text-align: right;\n",
       "    }\n",
       "</style>\n",
       "<table border=\"1\" class=\"dataframe\">\n",
       "  <thead>\n",
       "    <tr style=\"text-align: right;\">\n",
       "      <th></th>\n",
       "      <th>count</th>\n",
       "      <th>mean</th>\n",
       "      <th>std</th>\n",
       "      <th>min</th>\n",
       "      <th>25%</th>\n",
       "      <th>50%</th>\n",
       "      <th>75%</th>\n",
       "      <th>max</th>\n",
       "    </tr>\n",
       "  </thead>\n",
       "  <tbody>\n",
       "    <tr>\n",
       "      <th>d_10</th>\n",
       "      <td>29980.0</td>\n",
       "      <td>1.896045e-18</td>\n",
       "      <td>2.590601</td>\n",
       "      <td>-10.979054</td>\n",
       "      <td>-1.970587</td>\n",
       "      <td>-0.025134</td>\n",
       "      <td>1.928786</td>\n",
       "      <td>9.020946</td>\n",
       "    </tr>\n",
       "    <tr>\n",
       "      <th>abs</th>\n",
       "      <td>29980.0</td>\n",
       "      <td>2.064593e+00</td>\n",
       "      <td>1.564777</td>\n",
       "      <td>0.001307</td>\n",
       "      <td>0.963694</td>\n",
       "      <td>1.944146</td>\n",
       "      <td>3.005586</td>\n",
       "      <td>10.979054</td>\n",
       "    </tr>\n",
       "  </tbody>\n",
       "</table>\n",
       "</div>"
      ],
      "text/plain": [
       "        count          mean       std        min       25%       50%  \\\n",
       "d_10  29980.0  1.896045e-18  2.590601 -10.979054 -1.970587 -0.025134   \n",
       "abs   29980.0  2.064593e+00  1.564777   0.001307  0.963694  1.944146   \n",
       "\n",
       "           75%        max  \n",
       "d_10  1.928786   9.020946  \n",
       "abs   3.005586  10.979054  "
      ]
     },
     "execution_count": 20,
     "metadata": {},
     "output_type": "execute_result"
    }
   ],
   "source": [
    "error = reg.predict(X) - y\n",
    "error[\"abs\"] = abs(error[f\"d_{_pred_diff}\"])\n",
    "\n",
    "error.describe().T"
   ]
  },
  {
   "cell_type": "code",
   "execution_count": 21,
   "id": "cf78624c",
   "metadata": {
    "ExecuteTime": {
     "end_time": "2023-03-22T14:21:00.752434Z",
     "start_time": "2023-03-22T14:21:00.737181Z"
    }
   },
   "outputs": [
    {
     "data": {
      "text/html": [
       "<div>\n",
       "<style scoped>\n",
       "    .dataframe tbody tr th:only-of-type {\n",
       "        vertical-align: middle;\n",
       "    }\n",
       "\n",
       "    .dataframe tbody tr th {\n",
       "        vertical-align: top;\n",
       "    }\n",
       "\n",
       "    .dataframe thead th {\n",
       "        text-align: right;\n",
       "    }\n",
       "</style>\n",
       "<table border=\"1\" class=\"dataframe\">\n",
       "  <thead>\n",
       "    <tr style=\"text-align: right;\">\n",
       "      <th></th>\n",
       "      <th>count</th>\n",
       "      <th>mean</th>\n",
       "      <th>std</th>\n",
       "      <th>min</th>\n",
       "      <th>25%</th>\n",
       "      <th>50%</th>\n",
       "      <th>75%</th>\n",
       "      <th>max</th>\n",
       "    </tr>\n",
       "  </thead>\n",
       "  <tbody>\n",
       "    <tr>\n",
       "      <th>0</th>\n",
       "      <td>29980.0</td>\n",
       "      <td>-0.025267</td>\n",
       "      <td>0.086375</td>\n",
       "      <td>-0.366201</td>\n",
       "      <td>-0.086573</td>\n",
       "      <td>-0.025134</td>\n",
       "      <td>0.029413</td>\n",
       "      <td>0.307467</td>\n",
       "    </tr>\n",
       "  </tbody>\n",
       "</table>\n",
       "</div>"
      ],
      "text/plain": [
       "     count      mean       std       min       25%       50%       75%  \\\n",
       "0  29980.0 -0.025267  0.086375 -0.366201 -0.086573 -0.025134  0.029413   \n",
       "\n",
       "        max  \n",
       "0  0.307467  "
      ]
     },
     "execution_count": 21,
     "metadata": {},
     "output_type": "execute_result"
    }
   ],
   "source": [
    "pd.DataFrame(reg.predict(X)).describe().T"
   ]
  },
  {
   "cell_type": "code",
   "execution_count": null,
   "id": "717efc4f",
   "metadata": {},
   "outputs": [],
   "source": []
  },
  {
   "cell_type": "markdown",
   "id": "0526b9b5",
   "metadata": {},
   "source": [
    "# Postbook"
   ]
  },
  {
   "cell_type": "markdown",
   "id": "bfa2fb95",
   "metadata": {},
   "source": [
    "## postbook helper methods"
   ]
  },
  {
   "cell_type": "code",
   "execution_count": 22,
   "id": "0ee2039c",
   "metadata": {
    "ExecuteTime": {
     "end_time": "2023-03-22T14:21:00.761184Z",
     "start_time": "2023-03-22T14:21:00.754707Z"
    }
   },
   "outputs": [],
   "source": [
    "def get_postbook_bounds(time, interval):\n",
    "    \n",
    "    # get nearest 100k\n",
    "    \n",
    "    lb = (time // interval) * interval\n",
    "    ub = lb + interval\n",
    "        \n",
    "    # filter data to only use interval\n",
    "    ts = trade_df[(lb < trade_df[\"time\"]) & (trade_df[\"time\"] < ub)]\n",
    "    ps = price_df[(lb < price_df[\"time\"]) & (price_df[\"time\"] < ub)]\n",
    "    \n",
    "\n",
    "    # calc min/max prices\n",
    "    min_prices = []\n",
    "    max_prices = []\n",
    "\n",
    "    for i in _book_range:\n",
    "        prices = ps[f\"buy_price_{i}\"]\n",
    "        min_prices += [prices.min()]\n",
    "        max_prices += [prices.max()]\n",
    "\n",
    "    for i in _book_range:\n",
    "        prices = ps[f\"sell_price_{i}\"]\n",
    "        min_prices += [prices.min()]\n",
    "        max_prices += [prices.max()]\n",
    "\n",
    "    prices = ts[\"price\"]\n",
    "    min_prices += [prices.min()]\n",
    "    max_prices += [prices.max()]\n",
    "\n",
    "\n",
    "    xmin = min(min_prices)\n",
    "    xmax = max(max_prices)\n",
    "    \n",
    "    \n",
    "    \n",
    "    # calc min/max sizes\n",
    "    \n",
    "    max_sizes = []\n",
    "    \n",
    "    # include \n",
    "    for i in _book_range:\n",
    "        sizes = ps[f\"buy_volume_{i}\"]\n",
    "        max_sizes += [sizes.max()]\n",
    "        \n",
    "    for i in _book_range:\n",
    "        sizes = ps[f\"sell_volume_{i}\"]\n",
    "        max_sizes += [sizes.max()]\n",
    "    \n",
    "    # include trade sizes\n",
    "    max_sizes += [trade_df[\"quantity\"].max()]\n",
    "    \n",
    "    ymin = 0\n",
    "    ymax = max(max_sizes)\n",
    "    \n",
    "    return xmin, xmax, ymin, ymax"
   ]
  },
  {
   "cell_type": "code",
   "execution_count": 23,
   "id": "98334fbd",
   "metadata": {
    "ExecuteTime": {
     "end_time": "2023-03-22T14:21:00.777905Z",
     "start_time": "2023-03-22T14:21:00.763606Z"
    }
   },
   "outputs": [],
   "source": [
    "def get_book(sym, time):\n",
    "    cur_prices = price_df[price_df[\"time\"] == time].iloc[0]\n",
    "    \n",
    "    buys = []\n",
    "\n",
    "    for i in _book_range:\n",
    "        price, size = cur_prices[f\"buy_price_{i}\"], cur_prices[f\"buy_volume_{i}\"]\n",
    "        if np.isnan(price):\n",
    "            continue\n",
    "        buys += [{\"price\": price, \"quantity\": size}]\n",
    "\n",
    "    sells = []\n",
    "\n",
    "    for i in _book_range:\n",
    "        price, size = cur_prices[f\"sell_price_{i}\"], cur_prices[f\"sell_volume_{i}\"]\n",
    "        if np.isnan(price):\n",
    "            continue\n",
    "        sells += [{\"price\": price, \"quantity\": size}]\n",
    "        \n",
    "    buys = pd.DataFrame(buys, columns=[\"price\", \"quantity\"])\n",
    "    sells = pd.DataFrame(sells, columns=[\"price\", \"quantity\"])\n",
    "    \n",
    "    empty = pd.DataFrame([], columns=[\"price\", \"quantity\"])\n",
    "\n",
    "    return buys, sells, empty, empty\n",
    "\n",
    "\n",
    "def get_trades(sym, time):\n",
    "    \n",
    "#     market_ts = trade_df[(trade_df[\"symbol\"] == sym) & (trade_df[\"time\"] == time)]\n",
    "    market_ts = trade_df[trade_df[\"time\"] == time]\n",
    "    \n",
    "    market_ts = market_ts.groupby([\"symbol\", \"time\", \"price\"])[[\"quantity\"]].sum().reset_index()\n",
    "#     my_ts = my_ts.groupby([\"symbol\", \"time\", \"price\", \"my_buy\", \"my_sell\"])[[\"quantity\"]].sum().reset_index()\n",
    "    \n",
    "    return market_ts, pd.DataFrame([], columns=market_ts.columns)\n",
    "    \n",
    "\n",
    "def show_book(sym, \n",
    "              time, \n",
    "              xmin=None, \n",
    "              xmax=None,\n",
    "              ymin=None, \n",
    "              ymax=None,\n",
    "             ):\n",
    "        \n",
    "    # set figsize    \n",
    "    plt.figure(figsize=(15,6))\n",
    "    \n",
    "    buys, sells, my_buys, my_sells = get_book(sym, time)\n",
    "    market_ts, my_ts = get_trades(sym, time + _time_step)\n",
    "\n",
    "    \n",
    "    # make bars have correct sign\n",
    "#     sells[\"quantity\"] *= -1\n",
    "#     my_buys[\"quantity\"] *= -1\n",
    "#     my_ts[\"quantity\"] *= -1\n",
    "    \n",
    "    # plot order book\n",
    "    if len(buys) > 0:\n",
    "        plt.bar(buys[\"price\"], buys[\"quantity\"], color=\"green\", label=\"market buy\")\n",
    "    if len(sells) > 0:\n",
    "        plt.bar(sells[\"price\"], sells[\"quantity\"], color=\"red\", label=\"market sells\")\n",
    "    \n",
    "    if len(my_buys) > 0:\n",
    "        plt.bar(my_buys[\"price\"], my_buys[\"quantity\"], color=\"blue\", label=\"my buy\")\n",
    "    if len(my_sells) > 0:\n",
    "        plt.bar(my_sells[\"price\"], my_sells[\"quantity\"], color=\"orange\", label=\"my sell\")\n",
    "    \n",
    "    # plot trades\n",
    "    if len(market_ts) > 0:\n",
    "        plt.bar(market_ts[\"price\"], market_ts[\"quantity\"], color=(0, 0, 0, 0), label=\"market trade\", \n",
    "                hatch=\"///\", edgecolor=\"black\")\n",
    "        \n",
    "    if len(my_ts) > 0:\n",
    "        plt.bar(my_ts[\"price\"], my_ts[\"quantity\"], color=(0, 0, 0, 0), label=\"my trade\",\n",
    "                hatch=\"xxx\", edgecolor=\"black\")\n",
    "    \n",
    "    \n",
    "    \n",
    "    ### draw reference lines\n",
    "    \n",
    "    # set xlim, ylim\n",
    "    if xmin:\n",
    "        plt.xlim(xmin=xmin)\n",
    "    if xmax:\n",
    "        plt.xlim(xmax=xmax)\n",
    "    if ymin:\n",
    "        plt.ylim(bottom=ymin)\n",
    "    if ymax:\n",
    "        plt.ylim(top=ymax)\n",
    "    \n",
    "    # draw horizontal line at 0 \n",
    "    plt.axhline(y=0.0, color=\"black\", linestyle='-')\n",
    "    \n",
    "    # draw true mid\n",
    "    if len(buys) > 0 and len(sells) > 0:\n",
    "        true_mid = (buys[\"price\"][0] + sells[\"price\"][0]) / 2\n",
    "        plt.axvline(x=true_mid, color=\"red\", linestyle='solid', alpha=0.2)\n",
    "    \n",
    "    # draw ref ema\n",
    "    ref_ema = quote_df[quote_df[\"time\"] == time][\"mid_price\"].iloc[0]\n",
    "    plt.axvline(x=ref_ema, color=\"black\", linestyle='dotted')\n",
    "    \n",
    "#     ema_span = raw_records[raw_records[\"time\"] == time][\"best_ema_spans\"].iloc[0][sym]\n",
    "    \n",
    "    ### general figure settings    \n",
    "    plt.legend(loc=\"upper center\")\n",
    "    plt.title(f\"{sym} book - Time: {time}\")\n",
    "#     plt.title(f\"{sym} book - Time: {time} - ema_span: {ema_span}\")\n",
    "    plt.show()\n",
    "    \n",
    "    \n",
    "    ### print raw info\n",
    "#     print(\"ref_ema\", ref_ema)\n",
    "    \n",
    "    print(\"market trades\")\n",
    "    display(market_ts)\n",
    "    print(\"my trades\")\n",
    "    display(my_ts)\n",
    "    \n",
    "    print(\"buys\")\n",
    "    display(buys.T)\n",
    "    print(\"sells\")\n",
    "    display(sells.T)\n",
    "    print(\"my_buys\")\n",
    "    display(my_buys.T)\n",
    "    print(\"my_sells\")\n",
    "    display(my_sells.T)\n",
    "    \n",
    "def show_book_simple(\n",
    "        sym,\n",
    "        time=0,\n",
    "        bound_interval=10000,\n",
    "        # ymin=None,\n",
    "        # ymax=None,\n",
    "        ):\n",
    "    \n",
    "    xmin, xmax, ymin, ymax = get_postbook_bounds(time, bound_interval)\n",
    "    \n",
    "    show_book(\n",
    "        sym, \n",
    "        time,\n",
    "        xmin=xmin - 1,\n",
    "        xmax=xmax + 1,\n",
    "        ymin=-10,\n",
    "        ymax=ymax,\n",
    "    )"
   ]
  },
  {
   "cell_type": "markdown",
   "id": "9b37a52d",
   "metadata": {},
   "source": [
    "## Postbook reconstruction"
   ]
  },
  {
   "cell_type": "code",
   "execution_count": 24,
   "id": "7d36657d",
   "metadata": {
    "ExecuteTime": {
     "end_time": "2023-03-22T14:21:00.973271Z",
     "start_time": "2023-03-22T14:21:00.779944Z"
    }
   },
   "outputs": [
    {
     "data": {
      "application/vnd.jupyter.widget-view+json": {
       "model_id": "e6b29c03f1844a52b5beba30a521ac63",
       "version_major": 2,
       "version_minor": 0
      },
      "text/plain": [
       "interactive(children=(Dropdown(description='sym', options=('BANANAS', 'PEARLS', 'PINA_COLADAS', 'COCONUTS'), v…"
      ]
     },
     "metadata": {},
     "output_type": "display_data"
    },
    {
     "data": {
      "text/plain": [
       "<function __main__.show_book_simple(sym, time=0, bound_interval=10000)>"
      ]
     },
     "execution_count": 24,
     "metadata": {},
     "output_type": "execute_result"
    }
   ],
   "source": [
    "\n",
    "interact(\n",
    "    show_book_simple,\n",
    "    sym=[\"BANANAS\", \"PEARLS\", \"PINA_COLADAS\", \"COCONUTS\"],\n",
    "    time=(0, len(_day_range) * _max_time, _time_step),\n",
    "    bound_interval=10000,\n",
    ")"
   ]
  },
  {
   "cell_type": "code",
   "execution_count": 25,
   "id": "ac743a86",
   "metadata": {
    "ExecuteTime": {
     "end_time": "2023-03-22T14:21:00.976740Z",
     "start_time": "2023-03-22T14:21:00.975101Z"
    }
   },
   "outputs": [],
   "source": [
    "# filter between our times\n",
    "# trade_df = trade_df[(2e6 <= trade_df[\"time\"]) & (trade_df[\"time\"] < 2e6 + 1e5)]\n",
    "# price_df = price_df[(2e6 <= price_df[\"time\"]) & (price_df[\"time\"] < 2e6 + 1e5)]\n"
   ]
  },
  {
   "cell_type": "markdown",
   "id": "06e9a0a4",
   "metadata": {},
   "source": [
    "## Best Taker Analysis"
   ]
  },
  {
   "cell_type": "code",
   "execution_count": 26,
   "id": "8af605ff",
   "metadata": {
    "ExecuteTime": {
     "end_time": "2023-03-22T14:21:01.001913Z",
     "start_time": "2023-03-22T14:21:00.978448Z"
    }
   },
   "outputs": [],
   "source": [
    "# get all buy_order_df\n",
    "buy_data = [price_df[[f\"buy_price_{i}\", f\"buy_volume_{i}\", \"time\"]] for i in _book_range]\n",
    "buy_data = [df.set_axis(labels=[\"price\", \"quantity\", \"time\"], axis=1) for df in buy_data]\n",
    "buy_df = pd.concat(buy_data).dropna()\n",
    "buy_df = buy_df.sort_values(by=\"time\").reset_index(drop=True)\n",
    "\n",
    "# get all sell_order_df\n",
    "sell_data = [price_df[[f\"sell_price_{i}\", f\"sell_volume_{i}\", \"time\"]] for i in _book_range]\n",
    "sell_data = [df.set_axis(labels=[\"price\", \"quantity\", \"time\"], axis=1) for df in sell_data]\n",
    "sell_df = pd.concat(sell_data).dropna()\n",
    "sell_df = sell_df.sort_values(by=\"time\").reset_index(drop=True)\n",
    "\n",
    "# negate quantity for sells\n",
    "sell_df[\"quantity\"] *= -1"
   ]
  },
  {
   "cell_type": "code",
   "execution_count": 27,
   "id": "1f8d1b44",
   "metadata": {
    "ExecuteTime": {
     "end_time": "2023-03-22T14:21:01.033494Z",
     "start_time": "2023-03-22T14:21:01.003599Z"
    },
    "scrolled": false
   },
   "outputs": [],
   "source": [
    "# combine buy_df/sell_df into order_df\n",
    "order_df = pd.concat([buy_df, sell_df]) \\\n",
    "                .sort_values(by=[\"time\", \"price\"], ascending=True) \\\n",
    "                .reset_index(drop=True)\n",
    "\n",
    "# merge mid_price (of large quotes) into order_df\n",
    "order_df = order_df.merge(quote_df[[\"time\", \"mid_price\"]], on=\"time\")\n",
    "\n",
    "# calculate edge if this order goes through\n",
    "order_df[\"edge\"] = np.sign(order_df[\"quantity\"]) * (order_df[\"mid_price\"] - order_df[\"price\"])\n"
   ]
  },
  {
   "cell_type": "code",
   "execution_count": 28,
   "id": "4d233deb",
   "metadata": {
    "ExecuteTime": {
     "end_time": "2023-03-22T14:21:01.044303Z",
     "start_time": "2023-03-22T14:21:01.036594Z"
    },
    "scrolled": true
   },
   "outputs": [],
   "source": [
    "# find orders with negative edge for maker (taker wins)\n",
    "taker_df = order_df[order_df[\"edge\"] <= 0].copy()\n",
    "\n",
    "taker_df[\"edge\"] = -1 * taker_df[\"edge\"]\n",
    "\n",
    "taker_df[\"abs_quantity\"] = taker_df[\"quantity\"].abs()\n",
    "taker_df[\"pnl\"] = taker_df[\"edge\"] * taker_df[\"abs_quantity\"]\n"
   ]
  },
  {
   "cell_type": "code",
   "execution_count": 29,
   "id": "6f682c80",
   "metadata": {
    "ExecuteTime": {
     "end_time": "2023-03-22T14:21:01.049049Z",
     "start_time": "2023-03-22T14:21:01.046221Z"
    }
   },
   "outputs": [
    {
     "name": "stdout",
     "output_type": "stream",
     "text": [
      "take edge total 37843.5\n"
     ]
    }
   ],
   "source": [
    "# calculate total potential taker profit\n",
    "print(\"take edge total\", taker_df[\"pnl\"].sum())"
   ]
  },
  {
   "cell_type": "code",
   "execution_count": 30,
   "id": "143de4d1",
   "metadata": {
    "ExecuteTime": {
     "end_time": "2023-03-22T14:21:01.192977Z",
     "start_time": "2023-03-22T14:21:01.050800Z"
    },
    "scrolled": false
   },
   "outputs": [
    {
     "data": {
      "text/html": [
       "<div>\n",
       "<style scoped>\n",
       "    .dataframe tbody tr th:only-of-type {\n",
       "        vertical-align: middle;\n",
       "    }\n",
       "\n",
       "    .dataframe tbody tr th {\n",
       "        vertical-align: top;\n",
       "    }\n",
       "\n",
       "    .dataframe thead th {\n",
       "        text-align: right;\n",
       "    }\n",
       "</style>\n",
       "<table border=\"1\" class=\"dataframe\">\n",
       "  <thead>\n",
       "    <tr style=\"text-align: right;\">\n",
       "      <th></th>\n",
       "      <th>abs_quantity</th>\n",
       "    </tr>\n",
       "    <tr>\n",
       "      <th>edge</th>\n",
       "      <th></th>\n",
       "    </tr>\n",
       "  </thead>\n",
       "  <tbody>\n",
       "    <tr>\n",
       "      <th>0.0</th>\n",
       "      <td>2105.0</td>\n",
       "    </tr>\n",
       "    <tr>\n",
       "      <th>0.5</th>\n",
       "      <td>75619.0</td>\n",
       "    </tr>\n",
       "    <tr>\n",
       "      <th>1.0</th>\n",
       "      <td>34.0</td>\n",
       "    </tr>\n",
       "  </tbody>\n",
       "</table>\n",
       "</div>"
      ],
      "text/plain": [
       "      abs_quantity\n",
       "edge              \n",
       "0.0         2105.0\n",
       "0.5        75619.0\n",
       "1.0           34.0"
      ]
     },
     "metadata": {},
     "output_type": "display_data"
    },
    {
     "data": {
      "text/plain": [
       "Text(0.5, 1.0, 'Edge distribution of profitable takes')"
      ]
     },
     "execution_count": 30,
     "metadata": {},
     "output_type": "execute_result"
    },
    {
     "data": {
      "image/png": "[encoded data removed]",
      "text/plain": [
       "<Figure size 640x480 with 1 Axes>"
      ]
     },
     "metadata": {},
     "output_type": "display_data"
    }
   ],
   "source": [
    "# show distribution of edge (by volume)\n",
    "\n",
    "take_stats = taker_df.groupby(\"edge\")[[\"abs_quantity\"]].sum()\n",
    "display(take_stats)\n",
    "\n",
    "plt.bar(abs(take_stats.index), take_stats[\"abs_quantity\"], width=0.25)\n",
    "plt.title(\"Edge distribution of profitable takes\")\n"
   ]
  },
  {
   "cell_type": "code",
   "execution_count": null,
   "id": "803d596d",
   "metadata": {
    "ExecuteTime": {
     "end_time": "2023-03-22T05:18:24.502190Z",
     "start_time": "2023-03-22T05:18:24.499187Z"
    }
   },
   "outputs": [],
   "source": []
  },
  {
   "cell_type": "code",
   "execution_count": null,
   "id": "394d1a01",
   "metadata": {},
   "outputs": [],
   "source": []
  },
  {
   "cell_type": "markdown",
   "id": "ca14f9d9",
   "metadata": {},
   "source": [
    "## Best maker analysis"
   ]
  },
  {
   "cell_type": "code",
   "execution_count": 31,
   "id": "b8c79e34",
   "metadata": {
    "ExecuteTime": {
     "end_time": "2023-03-22T14:21:01.199403Z",
     "start_time": "2023-03-22T14:21:01.194451Z"
    },
    "scrolled": true
   },
   "outputs": [
    {
     "name": "stdout",
     "output_type": "stream",
     "text": [
      "Sample - total edge volume 928\n"
     ]
    }
   ],
   "source": [
    "# print total maker volume over sample time\n",
    "sample_size = trade_df[(trade_df[\"time\"] > 2e6) & (trade_df[\"time\"] < 2e6 + 1e5)][[\"quantity\"]].abs().sum()\n",
    "print(\"Sample - total edge volume\", sample_size.item())"
   ]
  },
  {
   "cell_type": "code",
   "execution_count": 32,
   "id": "9df696a1",
   "metadata": {
    "ExecuteTime": {
     "end_time": "2023-03-22T14:21:01.206601Z",
     "start_time": "2023-03-22T14:21:01.201651Z"
    }
   },
   "outputs": [],
   "source": [
    "# show total maker profit\n",
    "maker_df = trade_df.copy()\n",
    "\n",
    "maker_df[\"edge\"] = maker_df[\"edge\"].abs()\n",
    "maker_df[\"quantity\"] = maker_df[\"quantity\"].abs() # is already pos, does nothing\n",
    "\n",
    "maker_df[\"pnl\"] = maker_df[\"edge\"] * maker_df[\"quantity\"]"
   ]
  },
  {
   "cell_type": "code",
   "execution_count": 33,
   "id": "1a1fc585",
   "metadata": {
    "ExecuteTime": {
     "end_time": "2023-03-22T14:21:01.338745Z",
     "start_time": "2023-03-22T14:21:01.208610Z"
    }
   },
   "outputs": [
    {
     "data": {
      "text/html": [
       "<div>\n",
       "<style scoped>\n",
       "    .dataframe tbody tr th:only-of-type {\n",
       "        vertical-align: middle;\n",
       "    }\n",
       "\n",
       "    .dataframe tbody tr th {\n",
       "        vertical-align: top;\n",
       "    }\n",
       "\n",
       "    .dataframe thead th {\n",
       "        text-align: right;\n",
       "    }\n",
       "</style>\n",
       "<table border=\"1\" class=\"dataframe\">\n",
       "  <thead>\n",
       "    <tr style=\"text-align: right;\">\n",
       "      <th>edge</th>\n",
       "      <th>0.5</th>\n",
       "      <th>1.0</th>\n",
       "      <th>1.5</th>\n",
       "    </tr>\n",
       "  </thead>\n",
       "  <tbody>\n",
       "    <tr>\n",
       "      <th>quantity</th>\n",
       "      <td>19596</td>\n",
       "      <td>478</td>\n",
       "      <td>5657</td>\n",
       "    </tr>\n",
       "  </tbody>\n",
       "</table>\n",
       "</div>"
      ],
      "text/plain": [
       "edge        0.5  1.0   1.5\n",
       "quantity  19596  478  5657"
      ]
     },
     "metadata": {},
     "output_type": "display_data"
    },
    {
     "data": {
      "text/plain": [
       "<BarContainer object of 3 artists>"
      ]
     },
     "execution_count": 33,
     "metadata": {},
     "output_type": "execute_result"
    },
    {
     "data": {
      "image/png": "[encoded data removed]",
      "text/plain": [
       "<Figure size 640x480 with 1 Axes>"
      ]
     },
     "metadata": {},
     "output_type": "display_data"
    }
   ],
   "source": [
    "maker_stats = maker_df.groupby(\"edge\")[[\"quantity\"]].sum()\n",
    "display(maker_stats.T)\n",
    "\n",
    "plt.bar(maker_stats.index, maker_stats[\"quantity\"], width=0.25)"
   ]
  },
  {
   "cell_type": "markdown",
   "id": "20f1790f",
   "metadata": {},
   "source": [
    "## Maker/taker stats summary"
   ]
  },
  {
   "cell_type": "code",
   "execution_count": 34,
   "id": "735b996a",
   "metadata": {
    "ExecuteTime": {
     "end_time": "2023-03-22T14:21:01.354918Z",
     "start_time": "2023-03-22T14:21:01.340115Z"
    }
   },
   "outputs": [
    {
     "name": "stdout",
     "output_type": "stream",
     "text": [
      "Symbol: COCONUTS\n",
      "Total Maker Edge 18761.5\n",
      "Total Potential Taker Edge 37843.5\n",
      "Maker edge (scaled) 625.3833333333333\n",
      "Taker edge (scaled) 1261.45\n"
     ]
    }
   ],
   "source": [
    "_factor = 1 / 30\n",
    "\n",
    "print(f\"Symbol: {_symbol}\")\n",
    "\n",
    "print(\"Total Maker Edge\", maker_df[\"pnl\"].sum())\n",
    "print(\"Total Potential Taker Edge\", taker_df[\"pnl\"].sum())\n",
    "\n",
    "print(\"Maker edge (scaled)\", maker_df[\"pnl\"].sum() * _factor)\n",
    "print(\"Taker edge (scaled)\", taker_df[\"pnl\"].sum() * _factor)\n"
   ]
  },
  {
   "cell_type": "code",
   "execution_count": 35,
   "id": "39111b05",
   "metadata": {
    "ExecuteTime": {
     "end_time": "2023-03-22T14:21:01.363463Z",
     "start_time": "2023-03-22T14:21:01.356814Z"
    }
   },
   "outputs": [
    {
     "name": "stdout",
     "output_type": "stream",
     "text": [
      "num turns 30000.0\n",
      "take ratio 0.0512\n",
      "make ratio 0.03593333333333333\n"
     ]
    }
   ],
   "source": [
    "num_turns = len(_day_range) * _max_time / _time_step\n",
    "print(\"num turns\", num_turns)\n",
    "print(\"take ratio\", len(taker_df) / num_turns)\n",
    "print(\"make ratio\", len(maker_df) / num_turns)\n",
    "\n"
   ]
  },
  {
   "cell_type": "code",
   "execution_count": null,
   "id": "a49741dc",
   "metadata": {},
   "outputs": [],
   "source": []
  },
  {
   "cell_type": "code",
   "execution_count": null,
   "id": "141b50ee",
   "metadata": {},
   "outputs": [],
   "source": []
  }
 ],
 "metadata": {
  "kernelspec": {
   "display_name": "Python 3 (ipykernel)",
   "language": "python",
   "name": "python3"
  },
  "language_info": {
   "codemirror_mode": {
    "name": "ipython",
    "version": 3
   },
   "file_extension": ".py",
   "mimetype": "text/x-python",
   "name": "python",
   "nbconvert_exporter": "python",
   "pygments_lexer": "ipython3",
   "version": "3.9.16"
  },
  "toc": {
   "base_numbering": 1,
   "nav_menu": {},
   "number_sections": true,
   "sideBar": true,
   "skip_h1_title": false,
   "title_cell": "Table of Contents",
   "title_sidebar": "Contents",
   "toc_cell": false,
   "toc_position": {
    "height": "calc(100% - 180px)",
    "left": "10px",
    "top": "150px",
    "width": "281.391px"
   },
   "toc_section_display": true,
   "toc_window_display": true
  },
  "varInspector": {
   "cols": {
    "lenName": 16,
    "lenType": 16,
    "lenVar": 40
   },
   "kernels_config": {
    "python": {
     "delete_cmd_postfix": "",
     "delete_cmd_prefix": "del ",
     "library": "var_list.py",
     "varRefreshCmd": "print(var_dic_list())"
    },
    "r": {
     "delete_cmd_postfix": ") ",
     "delete_cmd_prefix": "rm(",
     "library": "var_list.r",
     "varRefreshCmd": "cat(var_dic_list()) "
    }
   },
   "types_to_exclude": [
    "module",
    "function",
    "builtin_function_or_method",
    "instance",
    "_Feature"
   ],
   "window_display": false
  }
 },
 "nbformat": 4,
 "nbformat_minor": 5
}
