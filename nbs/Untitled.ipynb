{
 "cells": [
  {
   "cell_type": "markdown",
   "id": "5c447157",
   "metadata": {
    "ExecuteTime": {
     "end_time": "2023-03-21T04:52:06.942468Z",
     "start_time": "2023-03-21T04:52:06.939918Z"
    }
   },
   "source": [
    "#### Seems to be a 400 bad request when POST to https://{id}.execute-api.eu-west-1.amazonaws.com/prod/submission/algo"
   ]
  },
  {
   "cell_type": "code",
   "execution_count": 10,
   "id": "41e62613",
   "metadata": {
    "ExecuteTime": {
     "end_time": "2023-03-21T04:52:57.476338Z",
     "start_time": "2023-03-21T04:52:57.473330Z"
    }
   },
   "outputs": [],
   "source": [
    "id_token_name=\"CognitoIdentityServiceProvider.32c5dc5t1kl51edcqv39i0r2s2.rzhan@andrew.cmu.edu.idToken\"\n",
    "id_token=\"eyJraWQiOiJ4M3NhZjFZTkNsRGwyVDljemdCR01ybnVVMlJlNDNjb1E1UGxYMWgwb2tBPSIsImFsZyI6IlJTMjU2In0.eyJzdWIiOiJjYTZiMzZkMy1kZGU4LTQwMTQtYmQ2MS04NzcwODM2MDY2ODkiLCJlbWFpbF92ZXJpZmllZCI6dHJ1ZSwiaXNzIjoiaHR0cHM6XC9cL2NvZ25pdG8taWRwLmV1LXdlc3QtMS5hbWF6b25hd3MuY29tXC9ldS13ZXN0LTFfek9mVngwcWl3IiwiY29nbml0bzp1c2VybmFtZSI6ImNhNmIzNmQzLWRkZTgtNDAxNC1iZDYxLTg3NzA4MzYwNjY4OSIsIm9yaWdpbl9qdGkiOiI2ZjUxYjVmOC1mNjA2LTQyNWMtYjlkNS1lNDY1Y2E5ZmUzMzAiLCJhdWQiOiIzMmM1ZGM1dDFrbDUxZWRjcXYzOWkwcjJzMiIsImV2ZW50X2lkIjoiNGE4MDE5ZGMtNWIzOS00NWViLWJlNTQtN2NmMDRlMmRkMDQ4IiwidG9rZW5fdXNlIjoiaWQiLCJhdXRoX3RpbWUiOjE2NzkyNzY1NjksImV4cCI6MTY3OTM3NjE0OSwiaWF0IjoxNjc5MzcyNTQ5LCJqdGkiOiI3MjY1OGU4NC1mMmE3LTRhZWMtOTA5Yy0xMzljNjYwODliNTUiLCJlbWFpbCI6InJ6aGFuQGFuZHJldy5jbXUuZWR1In0.i0Fom-6_CyHaeeOrXz6elEHPQ87HJbDkFex48CJ16xAoMSDLBDLb0N45OK4_fgdHuaFNOkPcM_XpV104QFHSCA-NBxrf_xoH3zMzpgaHFwihBG4yJIp8IjjW3rTo7sIbJBKQj-oa26bEOmDxpyJrUMJposRpVkHoMABXOsFKv99e9jVtNrpRoH4oPgll6Ft31NSKonnMJ0VvWSM3epQa0ef7YpyeVC7gxS0FLgBH8d1qfj2sVOr0xM4iPYOS2TSYmTs-jcbcRom362Sz8aX777fqHbukEza31GKaxY2dEkVfh6L7CUS6TeQJvR8u8Lh9VULNkKCmddai05Ur-weAOw\""
   ]
  },
  {
   "cell_type": "code",
   "execution_count": 20,
   "id": "2ad9e074",
   "metadata": {
    "ExecuteTime": {
     "end_time": "2023-03-21T13:10:32.980008Z",
     "start_time": "2023-03-21T13:10:32.950338Z"
    }
   },
   "outputs": [
    {
     "data": {
      "text/plain": [
       "'Bearer CognitoIdentityServiceProvider.32c5dc5t1kl51edcqv39i0r2s2.rzhan@andrew.cmu.edu.idToken=eyJraWQiOiJ4M3NhZjFZTkNsRGwyVDljemdCR01ybnVVMlJlNDNjb1E1UGxYMWgwb2tBPSIsImFsZyI6IlJTMjU2In0.eyJzdWIiOiJjYTZiMzZkMy1kZGU4LTQwMTQtYmQ2MS04NzcwODM2MDY2ODkiLCJlbWFpbF92ZXJpZmllZCI6dHJ1ZSwiaXNzIjoiaHR0cHM6XC9cL2NvZ25pdG8taWRwLmV1LXdlc3QtMS5hbWF6b25hd3MuY29tXC9ldS13ZXN0LTFfek9mVngwcWl3IiwiY29nbml0bzp1c2VybmFtZSI6ImNhNmIzNmQzLWRkZTgtNDAxNC1iZDYxLTg3NzA4MzYwNjY4OSIsIm9yaWdpbl9qdGkiOiI2ZjUxYjVmOC1mNjA2LTQyNWMtYjlkNS1lNDY1Y2E5ZmUzMzAiLCJhdWQiOiIzMmM1ZGM1dDFrbDUxZWRjcXYzOWkwcjJzMiIsImV2ZW50X2lkIjoiNGE4MDE5ZGMtNWIzOS00NWViLWJlNTQtN2NmMDRlMmRkMDQ4IiwidG9rZW5fdXNlIjoiaWQiLCJhdXRoX3RpbWUiOjE2NzkyNzY1NjksImV4cCI6MTY3OTM3NjE0OSwiaWF0IjoxNjc5MzcyNTQ5LCJqdGkiOiI3MjY1OGU4NC1mMmE3LTRhZWMtOTA5Yy0xMzljNjYwODliNTUiLCJlbWFpbCI6InJ6aGFuQGFuZHJldy5jbXUuZWR1In0.i0Fom-6_CyHaeeOrXz6elEHPQ87HJbDkFex48CJ16xAoMSDLBDLb0N45OK4_fgdHuaFNOkPcM_XpV104QFHSCA-NBxrf_xoH3zMzpgaHFwihBG4yJIp8IjjW3rTo7sIbJBKQj-oa26bEOmDxpyJrUMJposRpVkHoMABXOsFKv99e9jVtNrpRoH4oPgll6Ft31NSKonnMJ0VvWSM3epQa0ef7YpyeVC7gxS0FLgBH8d1qfj2sVOr0xM4iPYOS2TSYmTs-jcbcRom362Sz8aX777fqHbukEza31GKaxY2dEkVfh6L7CUS6TeQJvR8u8Lh9VULNkKCmddai05Ur-weAOw'"
      ]
     },
     "execution_count": 20,
     "metadata": {},
     "output_type": "execute_result"
    }
   ],
   "source": [
    "f\"Bearer {id_token_name}={id_token}\""
   ]
  },
  {
   "cell_type": "code",
   "execution_count": 19,
   "id": "ebd088e5",
   "metadata": {
    "ExecuteTime": {
     "end_time": "2023-03-21T04:56:58.827182Z",
     "start_time": "2023-03-21T04:56:58.332917Z"
    }
   },
   "outputs": [
    {
     "name": "stdout",
     "output_type": "stream",
     "text": [
      "https://bz97lt8b1e.execute-api.eu-west-1.amazonaws.com/prod/results/tutorial/9ee5a984-2102-4ca5-9920-0c8052ee14cb\n",
      "{'message': 'Forbidden'}\n"
     ]
    }
   ],
   "source": [
    "import requests\n",
    "\n",
    "log_id = \"8d256601-b8cc-428c-b14a-5f204d315125\"\n",
    "\n",
    "algo_id = \"9ee5a984-2102-4ca5-9920-0c8052ee14cb\"\n",
    "email = \"rzhan@andrew.cmu.edu\"\n",
    "headers = {\n",
    "    \"Authorization\": f\"Bearer {id_token_name}={id_token}\"\n",
    "}\n",
    "\n",
    "url = f\"https://bz97lt8b1e.execute-api.eu-west-1.amazonaws.com/prod/results/tutorial/{algo_id}\"\n",
    "\n",
    "print(url)\n",
    "\n",
    "response = requests.post(\n",
    "    url=url,\n",
    "    headers=headers,\n",
    ")\n",
    "\n",
    "if __name__ == '__main__':\n",
    "    print(response.json())"
   ]
  },
  {
   "cell_type": "code",
   "execution_count": null,
   "id": "02697117",
   "metadata": {},
   "outputs": [],
   "source": []
  },
  {
   "cell_type": "code",
   "execution_count": null,
   "id": "7a466e44",
   "metadata": {},
   "outputs": [],
   "source": []
  },
  {
   "cell_type": "code",
   "execution_count": null,
   "id": "377c4a38",
   "metadata": {},
   "outputs": [],
   "source": []
  },
  {
   "cell_type": "code",
   "execution_count": 21,
   "id": "2287e28b",
   "metadata": {
    "ExecuteTime": {
     "end_time": "2023-03-21T13:36:08.041419Z",
     "start_time": "2023-03-21T13:36:08.038760Z"
    }
   },
   "outputs": [],
   "source": [
    "import numpy as np"
   ]
  },
  {
   "cell_type": "code",
   "execution_count": 22,
   "id": "df4dbf03",
   "metadata": {
    "ExecuteTime": {
     "end_time": "2023-03-21T13:37:38.554250Z",
     "start_time": "2023-03-21T13:37:38.550613Z"
    }
   },
   "outputs": [],
   "source": [
    "mat = np.array([\n",
    "    [1, 0.5, 1.45, 0.75],\n",
    "    [1.95, 1, 3.1, 1.49],\n",
    "    [0.67, 0.31, 1, 0.48],\n",
    "    [1.34, 0.64, 1.98, 1],\n",
    "])"
   ]
  },
  {
   "cell_type": "code",
   "execution_count": 33,
   "id": "bbc7af3c",
   "metadata": {
    "ExecuteTime": {
     "end_time": "2023-03-21T13:40:55.092019Z",
     "start_time": "2023-03-21T13:40:55.089262Z"
    }
   },
   "outputs": [],
   "source": []
  },
  {
   "cell_type": "code",
   "execution_count": 37,
   "id": "0c2587af",
   "metadata": {
    "ExecuteTime": {
     "end_time": "2023-03-21T13:43:18.631022Z",
     "start_time": "2023-03-21T13:43:18.603859Z"
    }
   },
   "outputs": [
    {
     "name": "stdout",
     "output_type": "stream",
     "text": [
      "iter 0\n"
     ]
    },
    {
     "data": {
      "text/plain": [
       "array([[0.  , 0.  , 0.  , 1.34],\n",
       "       [0.  , 0.  , 0.  , 0.64],\n",
       "       [0.  , 0.  , 0.  , 1.98],\n",
       "       [0.  , 0.  , 0.  , 1.  ]])"
      ]
     },
     "metadata": {},
     "output_type": "display_data"
    },
    {
     "data": {
      "text/plain": [
       "array([3, 3, 3, 3])"
      ]
     },
     "metadata": {},
     "output_type": "display_data"
    },
    {
     "data": {
      "text/plain": [
       "array([1.34, 0.64, 1.98, 1.  ])"
      ]
     },
     "metadata": {},
     "output_type": "display_data"
    },
    {
     "name": "stdout",
     "output_type": "stream",
     "text": [
      "iter 1\n"
     ]
    },
    {
     "data": {
      "text/plain": [
       "array([[1.34  , 1.248 , 1.3266, 1.34  ],\n",
       "       [0.67  , 0.64  , 0.6138, 0.64  ],\n",
       "       [1.943 , 1.984 , 1.98  , 1.98  ],\n",
       "       [1.005 , 0.9536, 0.9504, 1.    ]])"
      ]
     },
     "metadata": {},
     "output_type": "display_data"
    },
    {
     "data": {
      "text/plain": [
       "array([0, 0, 1, 0])"
      ]
     },
     "metadata": {},
     "output_type": "display_data"
    },
    {
     "data": {
      "text/plain": [
       "array([1.34 , 0.67 , 1.984, 1.005])"
      ]
     },
     "metadata": {},
     "output_type": "display_data"
    },
    {
     "name": "stdout",
     "output_type": "stream",
     "text": [
      "iter 2\n"
     ]
    },
    {
     "data": {
      "text/plain": [
       "array([[1.34   , 1.3065 , 1.32928, 1.3467 ],\n",
       "       [0.67   , 0.67   , 0.61504, 0.6432 ],\n",
       "       [1.943  , 2.077  , 1.984  , 1.9899 ],\n",
       "       [1.005  , 0.9983 , 0.95232, 1.005  ]])"
      ]
     },
     "metadata": {},
     "output_type": "display_data"
    },
    {
     "data": {
      "text/plain": [
       "array([3, 0, 1, 0])"
      ]
     },
     "metadata": {},
     "output_type": "display_data"
    },
    {
     "data": {
      "text/plain": [
       "array([1.3467, 0.67  , 2.077 , 1.005 ])"
      ]
     },
     "metadata": {},
     "output_type": "display_data"
    },
    {
     "name": "stdout",
     "output_type": "stream",
     "text": [
      "iter 3\n"
     ]
    },
    {
     "data": {
      "text/plain": [
       "array([[1.3467  , 1.3065  , 1.39159 , 1.3467  ],\n",
       "       [0.67335 , 0.67    , 0.64387 , 0.6432  ],\n",
       "       [1.952715, 2.077   , 2.077   , 1.9899  ],\n",
       "       [1.010025, 0.9983  , 0.99696 , 1.005   ]])"
      ]
     },
     "metadata": {},
     "output_type": "display_data"
    },
    {
     "data": {
      "text/plain": [
       "array([2, 0, 1, 0])"
      ]
     },
     "metadata": {},
     "output_type": "display_data"
    },
    {
     "data": {
      "text/plain": [
       "array([1.39159 , 0.67335 , 2.077   , 1.010025])"
      ]
     },
     "metadata": {},
     "output_type": "display_data"
    },
    {
     "name": "stdout",
     "output_type": "stream",
     "text": [
      "iter 4\n"
     ]
    },
    {
     "data": {
      "text/plain": [
       "array([[1.39159  , 1.3130325, 1.39159  , 1.3534335],\n",
       "       [0.695795 , 0.67335  , 0.64387  , 0.646416 ],\n",
       "       [2.0178055, 2.087385 , 2.077    , 1.9998495],\n",
       "       [1.0436925, 1.0032915, 0.99696  , 1.010025 ]])"
      ]
     },
     "metadata": {},
     "output_type": "display_data"
    },
    {
     "data": {
      "text/plain": [
       "array([0, 0, 1, 0])"
      ]
     },
     "metadata": {},
     "output_type": "display_data"
    },
    {
     "data": {
      "text/plain": [
       "array([1.39159  , 0.695795 , 2.087385 , 1.0436925])"
      ]
     },
     "metadata": {},
     "output_type": "display_data"
    }
   ],
   "source": [
    "cur = np.array([0, 0, 0, 1])\n",
    "\n",
    "for i in range(5):\n",
    "    cur = cur.reshape(4, 1)\n",
    "    res = (mat * cur).T\n",
    "    inds = np.argmax(res, axis=1)\n",
    "    cur = np.max(res, axis=1)\n",
    "    print(\"iter\", i)\n",
    "    display(res)\n",
    "    display(inds)\n",
    "    display(cur)"
   ]
  },
  {
   "cell_type": "code",
   "execution_count": 1,
   "id": "39104716",
   "metadata": {
    "ExecuteTime": {
     "end_time": "2023-03-21T18:47:48.305498Z",
     "start_time": "2023-03-21T18:47:48.302979Z"
    }
   },
   "outputs": [],
   "source": [
    "import numpy as np"
   ]
  },
  {
   "cell_type": "code",
   "execution_count": 2,
   "id": "8ba3aa8a",
   "metadata": {
    "ExecuteTime": {
     "end_time": "2023-03-21T18:48:01.783185Z",
     "start_time": "2023-03-21T18:48:01.780499Z"
    }
   },
   "outputs": [],
   "source": [
    "x = [1, 2, 3, 4]\n",
    "y = [1, 4, 9, 16]\n",
    "\n"
   ]
  },
  {
   "cell_type": "code",
   "execution_count": 5,
   "id": "396715a8",
   "metadata": {
    "ExecuteTime": {
     "end_time": "2023-03-21T18:52:11.137174Z",
     "start_time": "2023-03-21T18:52:11.134129Z"
    }
   },
   "outputs": [],
   "source": [
    "model = np.poly1d(np.polyfit(x, y, deg=2))"
   ]
  },
  {
   "cell_type": "code",
   "execution_count": 9,
   "id": "f3705d40",
   "metadata": {
    "ExecuteTime": {
     "end_time": "2023-03-21T18:52:21.457010Z",
     "start_time": "2023-03-21T18:52:21.452819Z"
    }
   },
   "outputs": [
    {
     "data": {
      "text/plain": [
       "25.000000000000007"
      ]
     },
     "execution_count": 9,
     "metadata": {},
     "output_type": "execute_result"
    }
   ],
   "source": [
    "model(5)"
   ]
  },
  {
   "cell_type": "code",
   "execution_count": null,
   "id": "d8b2e263",
   "metadata": {},
   "outputs": [],
   "source": []
  },
  {
   "cell_type": "code",
   "execution_count": 1,
   "id": "e309e4a4",
   "metadata": {
    "ExecuteTime": {
     "end_time": "2023-03-22T15:45:14.149537Z",
     "start_time": "2023-03-22T15:45:13.955274Z"
    }
   },
   "outputs": [],
   "source": [
    "import pandas as pd\n"
   ]
  },
  {
   "cell_type": "code",
   "execution_count": 29,
   "id": "da2924f0",
   "metadata": {
    "ExecuteTime": {
     "end_time": "2023-03-22T15:56:42.045167Z",
     "start_time": "2023-03-22T15:56:42.029067Z"
    }
   },
   "outputs": [],
   "source": [
    "pos1 = pd.read_csv(\"./my_positions_1.csv\")\n",
    "pos2 = pd.read_csv(\"./my_positions_2.csv\")\n",
    "\n",
    "fairs1 = pd.read_csv(\"./fairs_1.csv\")\n",
    "fairs2 = pd.read_csv(\"./fairs_2.csv\")\n",
    "\n"
   ]
  },
  {
   "cell_type": "code",
   "execution_count": 30,
   "id": "370b3f75",
   "metadata": {
    "ExecuteTime": {
     "end_time": "2023-03-22T15:56:42.405422Z",
     "start_time": "2023-03-22T15:56:42.360650Z"
    },
    "scrolled": false
   },
   "outputs": [
    {
     "data": {
      "text/html": [
       "<div>\n",
       "<style scoped>\n",
       "    .dataframe tbody tr th:only-of-type {\n",
       "        vertical-align: middle;\n",
       "    }\n",
       "\n",
       "    .dataframe tbody tr th {\n",
       "        vertical-align: top;\n",
       "    }\n",
       "\n",
       "    .dataframe thead th {\n",
       "        text-align: right;\n",
       "    }\n",
       "</style>\n",
       "<table border=\"1\" class=\"dataframe\">\n",
       "  <thead>\n",
       "    <tr style=\"text-align: right;\">\n",
       "      <th></th>\n",
       "      <th>Unnamed: 0</th>\n",
       "      <th>BANANAS</th>\n",
       "      <th>BANANAS_cash</th>\n",
       "      <th>COCONUTS</th>\n",
       "      <th>COCONUTS_cash</th>\n",
       "      <th>PEARLS</th>\n",
       "      <th>PEARLS_cash</th>\n",
       "      <th>PINA_COLADAS</th>\n",
       "      <th>PINA_COLADAS_cash</th>\n",
       "      <th>time</th>\n",
       "      <th>total_cash</th>\n",
       "      <th>turn</th>\n",
       "      <th>total_pnl</th>\n",
       "      <th>BANANAS_pnl</th>\n",
       "      <th>PEARLS_pnl</th>\n",
       "      <th>COCONUTS_pnl</th>\n",
       "      <th>PINA_COLADAS_pnl</th>\n",
       "      <th>COCO_PINA_pnl</th>\n",
       "    </tr>\n",
       "  </thead>\n",
       "  <tbody>\n",
       "    <tr>\n",
       "      <th>299</th>\n",
       "      <td>299</td>\n",
       "      <td>2.0</td>\n",
       "      <td>-9300.0</td>\n",
       "      <td>531.0</td>\n",
       "      <td>-4244412.0</td>\n",
       "      <td>5.0</td>\n",
       "      <td>-49475.5</td>\n",
       "      <td>300.0</td>\n",
       "      <td>-4493911.0</td>\n",
       "      <td>29900</td>\n",
       "      <td>-8797098.5</td>\n",
       "      <td>299</td>\n",
       "      <td>-10479.0</td>\n",
       "      <td>438.0</td>\n",
       "      <td>524.5</td>\n",
       "      <td>-3580.5</td>\n",
       "      <td>-7861.0</td>\n",
       "      <td>-11441.5</td>\n",
       "    </tr>\n",
       "    <tr>\n",
       "      <th>954</th>\n",
       "      <td>954</td>\n",
       "      <td>-7.0</td>\n",
       "      <td>35879.0</td>\n",
       "      <td>600.0</td>\n",
       "      <td>-4795496.0</td>\n",
       "      <td>-15.0</td>\n",
       "      <td>151562.5</td>\n",
       "      <td>300.0</td>\n",
       "      <td>-4494107.0</td>\n",
       "      <td>95400</td>\n",
       "      <td>-9102161.5</td>\n",
       "      <td>954</td>\n",
       "      <td>-15296.0</td>\n",
       "      <td>1694.5</td>\n",
       "      <td>1562.5</td>\n",
       "      <td>-13196.0</td>\n",
       "      <td>-5357.0</td>\n",
       "      <td>-18553.0</td>\n",
       "    </tr>\n",
       "    <tr>\n",
       "      <th>955</th>\n",
       "      <td>955</td>\n",
       "      <td>-8.0</td>\n",
       "      <td>40764.0</td>\n",
       "      <td>600.0</td>\n",
       "      <td>-4795496.0</td>\n",
       "      <td>-19.0</td>\n",
       "      <td>191567.5</td>\n",
       "      <td>300.0</td>\n",
       "      <td>-4494107.0</td>\n",
       "      <td>95500</td>\n",
       "      <td>-9057271.5</td>\n",
       "      <td>955</td>\n",
       "      <td>-14381.5</td>\n",
       "      <td>1704.0</td>\n",
       "      <td>1567.5</td>\n",
       "      <td>-11996.0</td>\n",
       "      <td>-5657.0</td>\n",
       "      <td>-17653.0</td>\n",
       "    </tr>\n",
       "    <tr>\n",
       "      <th>956</th>\n",
       "      <td>956</td>\n",
       "      <td>-8.0</td>\n",
       "      <td>40764.0</td>\n",
       "      <td>600.0</td>\n",
       "      <td>-4795496.0</td>\n",
       "      <td>-19.0</td>\n",
       "      <td>191567.5</td>\n",
       "      <td>300.0</td>\n",
       "      <td>-4494107.0</td>\n",
       "      <td>95600</td>\n",
       "      <td>-9057271.5</td>\n",
       "      <td>956</td>\n",
       "      <td>-14381.5</td>\n",
       "      <td>1704.0</td>\n",
       "      <td>1567.5</td>\n",
       "      <td>-11996.0</td>\n",
       "      <td>-5657.0</td>\n",
       "      <td>-17653.0</td>\n",
       "    </tr>\n",
       "    <tr>\n",
       "      <th>957</th>\n",
       "      <td>957</td>\n",
       "      <td>-12.0</td>\n",
       "      <td>60304.0</td>\n",
       "      <td>600.0</td>\n",
       "      <td>-4795496.0</td>\n",
       "      <td>-20.0</td>\n",
       "      <td>201569.5</td>\n",
       "      <td>300.0</td>\n",
       "      <td>-4494107.0</td>\n",
       "      <td>95700</td>\n",
       "      <td>-9027729.5</td>\n",
       "      <td>957</td>\n",
       "      <td>-14219.5</td>\n",
       "      <td>1714.0</td>\n",
       "      <td>1569.5</td>\n",
       "      <td>-11996.0</td>\n",
       "      <td>-5507.0</td>\n",
       "      <td>-17503.0</td>\n",
       "    </tr>\n",
       "    <tr>\n",
       "      <th>958</th>\n",
       "      <td>958</td>\n",
       "      <td>-12.0</td>\n",
       "      <td>60304.0</td>\n",
       "      <td>600.0</td>\n",
       "      <td>-4795496.0</td>\n",
       "      <td>-20.0</td>\n",
       "      <td>201569.5</td>\n",
       "      <td>300.0</td>\n",
       "      <td>-4494107.0</td>\n",
       "      <td>95800</td>\n",
       "      <td>-9027729.5</td>\n",
       "      <td>958</td>\n",
       "      <td>-11981.5</td>\n",
       "      <td>1702.0</td>\n",
       "      <td>1569.5</td>\n",
       "      <td>-10796.0</td>\n",
       "      <td>-4457.0</td>\n",
       "      <td>-15253.0</td>\n",
       "    </tr>\n",
       "    <tr>\n",
       "      <th>959</th>\n",
       "      <td>959</td>\n",
       "      <td>-12.0</td>\n",
       "      <td>60304.0</td>\n",
       "      <td>600.0</td>\n",
       "      <td>-4795496.0</td>\n",
       "      <td>-20.0</td>\n",
       "      <td>201569.5</td>\n",
       "      <td>300.0</td>\n",
       "      <td>-4494107.0</td>\n",
       "      <td>95900</td>\n",
       "      <td>-9027729.5</td>\n",
       "      <td>959</td>\n",
       "      <td>-11381.5</td>\n",
       "      <td>1702.0</td>\n",
       "      <td>1569.5</td>\n",
       "      <td>-10196.0</td>\n",
       "      <td>-4457.0</td>\n",
       "      <td>-14653.0</td>\n",
       "    </tr>\n",
       "    <tr>\n",
       "      <th>960</th>\n",
       "      <td>960</td>\n",
       "      <td>-12.0</td>\n",
       "      <td>60304.0</td>\n",
       "      <td>600.0</td>\n",
       "      <td>-4795496.0</td>\n",
       "      <td>-20.0</td>\n",
       "      <td>201569.5</td>\n",
       "      <td>300.0</td>\n",
       "      <td>-4494107.0</td>\n",
       "      <td>96000</td>\n",
       "      <td>-9027729.5</td>\n",
       "      <td>960</td>\n",
       "      <td>-11369.5</td>\n",
       "      <td>1714.0</td>\n",
       "      <td>1569.5</td>\n",
       "      <td>-10196.0</td>\n",
       "      <td>-4457.0</td>\n",
       "      <td>-14653.0</td>\n",
       "    </tr>\n",
       "    <tr>\n",
       "      <th>961</th>\n",
       "      <td>961</td>\n",
       "      <td>-12.0</td>\n",
       "      <td>60304.0</td>\n",
       "      <td>600.0</td>\n",
       "      <td>-4795496.0</td>\n",
       "      <td>-19.0</td>\n",
       "      <td>191571.5</td>\n",
       "      <td>300.0</td>\n",
       "      <td>-4494107.0</td>\n",
       "      <td>96100</td>\n",
       "      <td>-9037727.5</td>\n",
       "      <td>961</td>\n",
       "      <td>-11523.5</td>\n",
       "      <td>1708.0</td>\n",
       "      <td>1571.5</td>\n",
       "      <td>-10196.0</td>\n",
       "      <td>-4607.0</td>\n",
       "      <td>-14803.0</td>\n",
       "    </tr>\n",
       "    <tr>\n",
       "      <th>962</th>\n",
       "      <td>962</td>\n",
       "      <td>-12.0</td>\n",
       "      <td>60304.0</td>\n",
       "      <td>600.0</td>\n",
       "      <td>-4795496.0</td>\n",
       "      <td>-19.0</td>\n",
       "      <td>191571.5</td>\n",
       "      <td>300.0</td>\n",
       "      <td>-4494107.0</td>\n",
       "      <td>96200</td>\n",
       "      <td>-9037727.5</td>\n",
       "      <td>962</td>\n",
       "      <td>-12417.5</td>\n",
       "      <td>1714.0</td>\n",
       "      <td>1571.5</td>\n",
       "      <td>-10796.0</td>\n",
       "      <td>-4907.0</td>\n",
       "      <td>-15703.0</td>\n",
       "    </tr>\n",
       "  </tbody>\n",
       "</table>\n",
       "</div>"
      ],
      "text/plain": [
       "     Unnamed: 0  BANANAS  BANANAS_cash  COCONUTS  COCONUTS_cash  PEARLS  \\\n",
       "299         299      2.0       -9300.0     531.0     -4244412.0     5.0   \n",
       "954         954     -7.0       35879.0     600.0     -4795496.0   -15.0   \n",
       "955         955     -8.0       40764.0     600.0     -4795496.0   -19.0   \n",
       "956         956     -8.0       40764.0     600.0     -4795496.0   -19.0   \n",
       "957         957    -12.0       60304.0     600.0     -4795496.0   -20.0   \n",
       "958         958    -12.0       60304.0     600.0     -4795496.0   -20.0   \n",
       "959         959    -12.0       60304.0     600.0     -4795496.0   -20.0   \n",
       "960         960    -12.0       60304.0     600.0     -4795496.0   -20.0   \n",
       "961         961    -12.0       60304.0     600.0     -4795496.0   -19.0   \n",
       "962         962    -12.0       60304.0     600.0     -4795496.0   -19.0   \n",
       "\n",
       "     PEARLS_cash  PINA_COLADAS  PINA_COLADAS_cash   time  total_cash  turn  \\\n",
       "299     -49475.5         300.0         -4493911.0  29900  -8797098.5   299   \n",
       "954     151562.5         300.0         -4494107.0  95400  -9102161.5   954   \n",
       "955     191567.5         300.0         -4494107.0  95500  -9057271.5   955   \n",
       "956     191567.5         300.0         -4494107.0  95600  -9057271.5   956   \n",
       "957     201569.5         300.0         -4494107.0  95700  -9027729.5   957   \n",
       "958     201569.5         300.0         -4494107.0  95800  -9027729.5   958   \n",
       "959     201569.5         300.0         -4494107.0  95900  -9027729.5   959   \n",
       "960     201569.5         300.0         -4494107.0  96000  -9027729.5   960   \n",
       "961     191571.5         300.0         -4494107.0  96100  -9037727.5   961   \n",
       "962     191571.5         300.0         -4494107.0  96200  -9037727.5   962   \n",
       "\n",
       "     total_pnl  BANANAS_pnl  PEARLS_pnl  COCONUTS_pnl  PINA_COLADAS_pnl  \\\n",
       "299   -10479.0        438.0       524.5       -3580.5           -7861.0   \n",
       "954   -15296.0       1694.5      1562.5      -13196.0           -5357.0   \n",
       "955   -14381.5       1704.0      1567.5      -11996.0           -5657.0   \n",
       "956   -14381.5       1704.0      1567.5      -11996.0           -5657.0   \n",
       "957   -14219.5       1714.0      1569.5      -11996.0           -5507.0   \n",
       "958   -11981.5       1702.0      1569.5      -10796.0           -4457.0   \n",
       "959   -11381.5       1702.0      1569.5      -10196.0           -4457.0   \n",
       "960   -11369.5       1714.0      1569.5      -10196.0           -4457.0   \n",
       "961   -11523.5       1708.0      1571.5      -10196.0           -4607.0   \n",
       "962   -12417.5       1714.0      1571.5      -10796.0           -4907.0   \n",
       "\n",
       "     COCO_PINA_pnl  \n",
       "299       -11441.5  \n",
       "954       -18553.0  \n",
       "955       -17653.0  \n",
       "956       -17653.0  \n",
       "957       -17503.0  \n",
       "958       -15253.0  \n",
       "959       -14653.0  \n",
       "960       -14653.0  \n",
       "961       -14803.0  \n",
       "962       -15703.0  "
      ]
     },
     "metadata": {},
     "output_type": "display_data"
    },
    {
     "data": {
      "text/html": [
       "<div>\n",
       "<style scoped>\n",
       "    .dataframe tbody tr th:only-of-type {\n",
       "        vertical-align: middle;\n",
       "    }\n",
       "\n",
       "    .dataframe tbody tr th {\n",
       "        vertical-align: top;\n",
       "    }\n",
       "\n",
       "    .dataframe thead th {\n",
       "        text-align: right;\n",
       "    }\n",
       "</style>\n",
       "<table border=\"1\" class=\"dataframe\">\n",
       "  <thead>\n",
       "    <tr style=\"text-align: right;\">\n",
       "      <th></th>\n",
       "      <th>Unnamed: 0</th>\n",
       "      <th>BANANAS</th>\n",
       "      <th>BANANAS_cash</th>\n",
       "      <th>COCONUTS</th>\n",
       "      <th>COCONUTS_cash</th>\n",
       "      <th>PEARLS</th>\n",
       "      <th>PEARLS_cash</th>\n",
       "      <th>PINA_COLADAS</th>\n",
       "      <th>PINA_COLADAS_cash</th>\n",
       "      <th>time</th>\n",
       "      <th>total_cash</th>\n",
       "      <th>turn</th>\n",
       "      <th>total_pnl</th>\n",
       "      <th>BANANAS_pnl</th>\n",
       "      <th>PEARLS_pnl</th>\n",
       "      <th>COCONUTS_pnl</th>\n",
       "      <th>PINA_COLADAS_pnl</th>\n",
       "    </tr>\n",
       "  </thead>\n",
       "  <tbody>\n",
       "    <tr>\n",
       "      <th>299</th>\n",
       "      <td>299</td>\n",
       "      <td>2.0</td>\n",
       "      <td>-9300.0</td>\n",
       "      <td>531.0</td>\n",
       "      <td>-4244412.0</td>\n",
       "      <td>5.0</td>\n",
       "      <td>-49470.0</td>\n",
       "      <td>300.0</td>\n",
       "      <td>-4493911.0</td>\n",
       "      <td>29900</td>\n",
       "      <td>-8797093.0</td>\n",
       "      <td>299</td>\n",
       "      <td>-10473.5</td>\n",
       "      <td>438.0</td>\n",
       "      <td>530.0</td>\n",
       "      <td>-3580.5</td>\n",
       "      <td>-7861.0</td>\n",
       "    </tr>\n",
       "    <tr>\n",
       "      <th>954</th>\n",
       "      <td>954</td>\n",
       "      <td>-7.0</td>\n",
       "      <td>35879.0</td>\n",
       "      <td>600.0</td>\n",
       "      <td>-4795496.0</td>\n",
       "      <td>-15.0</td>\n",
       "      <td>151568.5</td>\n",
       "      <td>300.0</td>\n",
       "      <td>-4494107.0</td>\n",
       "      <td>95400</td>\n",
       "      <td>-9102155.5</td>\n",
       "      <td>954</td>\n",
       "      <td>-15290.0</td>\n",
       "      <td>1694.5</td>\n",
       "      <td>1568.5</td>\n",
       "      <td>-13196.0</td>\n",
       "      <td>-5357.0</td>\n",
       "    </tr>\n",
       "    <tr>\n",
       "      <th>955</th>\n",
       "      <td>955</td>\n",
       "      <td>-8.0</td>\n",
       "      <td>40764.0</td>\n",
       "      <td>600.0</td>\n",
       "      <td>-4795496.0</td>\n",
       "      <td>-19.0</td>\n",
       "      <td>191576.5</td>\n",
       "      <td>300.0</td>\n",
       "      <td>-4494107.0</td>\n",
       "      <td>95500</td>\n",
       "      <td>-9057262.5</td>\n",
       "      <td>955</td>\n",
       "      <td>-14372.5</td>\n",
       "      <td>1704.0</td>\n",
       "      <td>1576.5</td>\n",
       "      <td>-11996.0</td>\n",
       "      <td>-5657.0</td>\n",
       "    </tr>\n",
       "    <tr>\n",
       "      <th>956</th>\n",
       "      <td>956</td>\n",
       "      <td>-8.0</td>\n",
       "      <td>40764.0</td>\n",
       "      <td>600.0</td>\n",
       "      <td>-4795496.0</td>\n",
       "      <td>-19.0</td>\n",
       "      <td>191576.5</td>\n",
       "      <td>300.0</td>\n",
       "      <td>-4494107.0</td>\n",
       "      <td>95600</td>\n",
       "      <td>-9057262.5</td>\n",
       "      <td>956</td>\n",
       "      <td>-14372.5</td>\n",
       "      <td>1704.0</td>\n",
       "      <td>1576.5</td>\n",
       "      <td>-11996.0</td>\n",
       "      <td>-5657.0</td>\n",
       "    </tr>\n",
       "    <tr>\n",
       "      <th>957</th>\n",
       "      <td>957</td>\n",
       "      <td>-12.0</td>\n",
       "      <td>60304.0</td>\n",
       "      <td>600.0</td>\n",
       "      <td>-4795496.0</td>\n",
       "      <td>-20.0</td>\n",
       "      <td>201578.5</td>\n",
       "      <td>300.0</td>\n",
       "      <td>-4494107.0</td>\n",
       "      <td>95700</td>\n",
       "      <td>-9027720.5</td>\n",
       "      <td>957</td>\n",
       "      <td>-14210.5</td>\n",
       "      <td>1714.0</td>\n",
       "      <td>1578.5</td>\n",
       "      <td>-11996.0</td>\n",
       "      <td>-5507.0</td>\n",
       "    </tr>\n",
       "    <tr>\n",
       "      <th>958</th>\n",
       "      <td>958</td>\n",
       "      <td>-12.0</td>\n",
       "      <td>60304.0</td>\n",
       "      <td>600.0</td>\n",
       "      <td>-4795496.0</td>\n",
       "      <td>-20.0</td>\n",
       "      <td>201578.5</td>\n",
       "      <td>300.0</td>\n",
       "      <td>-4494107.0</td>\n",
       "      <td>95800</td>\n",
       "      <td>-9027720.5</td>\n",
       "      <td>958</td>\n",
       "      <td>-11972.5</td>\n",
       "      <td>1702.0</td>\n",
       "      <td>1578.5</td>\n",
       "      <td>-10796.0</td>\n",
       "      <td>-4457.0</td>\n",
       "    </tr>\n",
       "    <tr>\n",
       "      <th>959</th>\n",
       "      <td>959</td>\n",
       "      <td>-12.0</td>\n",
       "      <td>60304.0</td>\n",
       "      <td>600.0</td>\n",
       "      <td>-4795496.0</td>\n",
       "      <td>-20.0</td>\n",
       "      <td>201578.5</td>\n",
       "      <td>300.0</td>\n",
       "      <td>-4494107.0</td>\n",
       "      <td>95900</td>\n",
       "      <td>-9027720.5</td>\n",
       "      <td>959</td>\n",
       "      <td>-11372.5</td>\n",
       "      <td>1702.0</td>\n",
       "      <td>1578.5</td>\n",
       "      <td>-10196.0</td>\n",
       "      <td>-4457.0</td>\n",
       "    </tr>\n",
       "    <tr>\n",
       "      <th>960</th>\n",
       "      <td>960</td>\n",
       "      <td>-12.0</td>\n",
       "      <td>60304.0</td>\n",
       "      <td>600.0</td>\n",
       "      <td>-4795496.0</td>\n",
       "      <td>-20.0</td>\n",
       "      <td>201578.5</td>\n",
       "      <td>300.0</td>\n",
       "      <td>-4494107.0</td>\n",
       "      <td>96000</td>\n",
       "      <td>-9027720.5</td>\n",
       "      <td>960</td>\n",
       "      <td>-11360.5</td>\n",
       "      <td>1714.0</td>\n",
       "      <td>1578.5</td>\n",
       "      <td>-10196.0</td>\n",
       "      <td>-4457.0</td>\n",
       "    </tr>\n",
       "    <tr>\n",
       "      <th>961</th>\n",
       "      <td>961</td>\n",
       "      <td>-12.0</td>\n",
       "      <td>60304.0</td>\n",
       "      <td>600.0</td>\n",
       "      <td>-4795496.0</td>\n",
       "      <td>-19.0</td>\n",
       "      <td>191580.5</td>\n",
       "      <td>300.0</td>\n",
       "      <td>-4494107.0</td>\n",
       "      <td>96100</td>\n",
       "      <td>-9037718.5</td>\n",
       "      <td>961</td>\n",
       "      <td>-11514.5</td>\n",
       "      <td>1708.0</td>\n",
       "      <td>1580.5</td>\n",
       "      <td>-10196.0</td>\n",
       "      <td>-4607.0</td>\n",
       "    </tr>\n",
       "    <tr>\n",
       "      <th>962</th>\n",
       "      <td>962</td>\n",
       "      <td>-12.0</td>\n",
       "      <td>60304.0</td>\n",
       "      <td>600.0</td>\n",
       "      <td>-4795496.0</td>\n",
       "      <td>-19.0</td>\n",
       "      <td>191580.5</td>\n",
       "      <td>300.0</td>\n",
       "      <td>-4494107.0</td>\n",
       "      <td>96200</td>\n",
       "      <td>-9037718.5</td>\n",
       "      <td>962</td>\n",
       "      <td>-12408.5</td>\n",
       "      <td>1714.0</td>\n",
       "      <td>1580.5</td>\n",
       "      <td>-10796.0</td>\n",
       "      <td>-4907.0</td>\n",
       "    </tr>\n",
       "  </tbody>\n",
       "</table>\n",
       "</div>"
      ],
      "text/plain": [
       "     Unnamed: 0  BANANAS  BANANAS_cash  COCONUTS  COCONUTS_cash  PEARLS  \\\n",
       "299         299      2.0       -9300.0     531.0     -4244412.0     5.0   \n",
       "954         954     -7.0       35879.0     600.0     -4795496.0   -15.0   \n",
       "955         955     -8.0       40764.0     600.0     -4795496.0   -19.0   \n",
       "956         956     -8.0       40764.0     600.0     -4795496.0   -19.0   \n",
       "957         957    -12.0       60304.0     600.0     -4795496.0   -20.0   \n",
       "958         958    -12.0       60304.0     600.0     -4795496.0   -20.0   \n",
       "959         959    -12.0       60304.0     600.0     -4795496.0   -20.0   \n",
       "960         960    -12.0       60304.0     600.0     -4795496.0   -20.0   \n",
       "961         961    -12.0       60304.0     600.0     -4795496.0   -19.0   \n",
       "962         962    -12.0       60304.0     600.0     -4795496.0   -19.0   \n",
       "\n",
       "     PEARLS_cash  PINA_COLADAS  PINA_COLADAS_cash   time  total_cash  turn  \\\n",
       "299     -49470.0         300.0         -4493911.0  29900  -8797093.0   299   \n",
       "954     151568.5         300.0         -4494107.0  95400  -9102155.5   954   \n",
       "955     191576.5         300.0         -4494107.0  95500  -9057262.5   955   \n",
       "956     191576.5         300.0         -4494107.0  95600  -9057262.5   956   \n",
       "957     201578.5         300.0         -4494107.0  95700  -9027720.5   957   \n",
       "958     201578.5         300.0         -4494107.0  95800  -9027720.5   958   \n",
       "959     201578.5         300.0         -4494107.0  95900  -9027720.5   959   \n",
       "960     201578.5         300.0         -4494107.0  96000  -9027720.5   960   \n",
       "961     191580.5         300.0         -4494107.0  96100  -9037718.5   961   \n",
       "962     191580.5         300.0         -4494107.0  96200  -9037718.5   962   \n",
       "\n",
       "     total_pnl  BANANAS_pnl  PEARLS_pnl  COCONUTS_pnl  PINA_COLADAS_pnl  \n",
       "299   -10473.5        438.0       530.0       -3580.5           -7861.0  \n",
       "954   -15290.0       1694.5      1568.5      -13196.0           -5357.0  \n",
       "955   -14372.5       1704.0      1576.5      -11996.0           -5657.0  \n",
       "956   -14372.5       1704.0      1576.5      -11996.0           -5657.0  \n",
       "957   -14210.5       1714.0      1578.5      -11996.0           -5507.0  \n",
       "958   -11972.5       1702.0      1578.5      -10796.0           -4457.0  \n",
       "959   -11372.5       1702.0      1578.5      -10196.0           -4457.0  \n",
       "960   -11360.5       1714.0      1578.5      -10196.0           -4457.0  \n",
       "961   -11514.5       1708.0      1580.5      -10196.0           -4607.0  \n",
       "962   -12408.5       1714.0      1580.5      -10796.0           -4907.0  "
      ]
     },
     "metadata": {},
     "output_type": "display_data"
    }
   ],
   "source": [
    "col = \"PEARLS_pnl\"\n",
    "\n",
    "inds = abs(pos1[col] - pos2[col]) > 1e-5\n",
    "\n",
    "display(pos1[inds].iloc[:10])\n",
    "display(pos2[inds].iloc[:10])"
   ]
  },
  {
   "cell_type": "code",
   "execution_count": 24,
   "id": "e0aabeb8",
   "metadata": {
    "ExecuteTime": {
     "end_time": "2023-03-22T15:50:52.377734Z",
     "start_time": "2023-03-22T15:50:52.365850Z"
    }
   },
   "outputs": [
    {
     "data": {
      "text/html": [
       "<div>\n",
       "<style scoped>\n",
       "    .dataframe tbody tr th:only-of-type {\n",
       "        vertical-align: middle;\n",
       "    }\n",
       "\n",
       "    .dataframe tbody tr th {\n",
       "        vertical-align: top;\n",
       "    }\n",
       "\n",
       "    .dataframe thead th {\n",
       "        text-align: right;\n",
       "    }\n",
       "</style>\n",
       "<table border=\"1\" class=\"dataframe\">\n",
       "  <thead>\n",
       "    <tr style=\"text-align: right;\">\n",
       "      <th></th>\n",
       "      <th>Unnamed: 0</th>\n",
       "      <th>time</th>\n",
       "      <th>BANANAS</th>\n",
       "      <th>COCONUTS</th>\n",
       "      <th>PEARLS</th>\n",
       "      <th>PINA_COLADAS</th>\n",
       "    </tr>\n",
       "  </thead>\n",
       "  <tbody>\n",
       "    <tr>\n",
       "      <th>0</th>\n",
       "      <td>0</td>\n",
       "      <td>0</td>\n",
       "      <td>4873.5</td>\n",
       "      <td>8004.5</td>\n",
       "      <td>10000.0</td>\n",
       "      <td>15014.0</td>\n",
       "    </tr>\n",
       "    <tr>\n",
       "      <th>1</th>\n",
       "      <td>1</td>\n",
       "      <td>100</td>\n",
       "      <td>4873.5</td>\n",
       "      <td>8003.5</td>\n",
       "      <td>10000.0</td>\n",
       "      <td>15012.0</td>\n",
       "    </tr>\n",
       "    <tr>\n",
       "      <th>2</th>\n",
       "      <td>2</td>\n",
       "      <td>200</td>\n",
       "      <td>4873.0</td>\n",
       "      <td>8004.5</td>\n",
       "      <td>10000.0</td>\n",
       "      <td>15016.0</td>\n",
       "    </tr>\n",
       "    <tr>\n",
       "      <th>3</th>\n",
       "      <td>3</td>\n",
       "      <td>300</td>\n",
       "      <td>4871.5</td>\n",
       "      <td>8004.5</td>\n",
       "      <td>10000.0</td>\n",
       "      <td>15015.5</td>\n",
       "    </tr>\n",
       "    <tr>\n",
       "      <th>4</th>\n",
       "      <td>4</td>\n",
       "      <td>400</td>\n",
       "      <td>4872.0</td>\n",
       "      <td>8003.5</td>\n",
       "      <td>10000.0</td>\n",
       "      <td>15013.5</td>\n",
       "    </tr>\n",
       "    <tr>\n",
       "      <th>...</th>\n",
       "      <td>...</td>\n",
       "      <td>...</td>\n",
       "      <td>...</td>\n",
       "      <td>...</td>\n",
       "      <td>...</td>\n",
       "      <td>...</td>\n",
       "    </tr>\n",
       "    <tr>\n",
       "      <th>995</th>\n",
       "      <td>995</td>\n",
       "      <td>99500</td>\n",
       "      <td>4882.5</td>\n",
       "      <td>7981.5</td>\n",
       "      <td>10000.0</td>\n",
       "      <td>14968.5</td>\n",
       "    </tr>\n",
       "    <tr>\n",
       "      <th>996</th>\n",
       "      <td>996</td>\n",
       "      <td>99600</td>\n",
       "      <td>4881.5</td>\n",
       "      <td>7980.5</td>\n",
       "      <td>10000.0</td>\n",
       "      <td>14964.5</td>\n",
       "    </tr>\n",
       "    <tr>\n",
       "      <th>997</th>\n",
       "      <td>997</td>\n",
       "      <td>99700</td>\n",
       "      <td>4881.5</td>\n",
       "      <td>7982.5</td>\n",
       "      <td>10000.0</td>\n",
       "      <td>14966.5</td>\n",
       "    </tr>\n",
       "    <tr>\n",
       "      <th>998</th>\n",
       "      <td>998</td>\n",
       "      <td>99800</td>\n",
       "      <td>4881.5</td>\n",
       "      <td>7983.5</td>\n",
       "      <td>10000.0</td>\n",
       "      <td>14968.0</td>\n",
       "    </tr>\n",
       "    <tr>\n",
       "      <th>999</th>\n",
       "      <td>999</td>\n",
       "      <td>99900</td>\n",
       "      <td>4882.5</td>\n",
       "      <td>7981.5</td>\n",
       "      <td>10000.0</td>\n",
       "      <td>14965.5</td>\n",
       "    </tr>\n",
       "  </tbody>\n",
       "</table>\n",
       "<p>1000 rows × 6 columns</p>\n",
       "</div>"
      ],
      "text/plain": [
       "     Unnamed: 0   time  BANANAS  COCONUTS   PEARLS  PINA_COLADAS\n",
       "0             0      0   4873.5    8004.5  10000.0       15014.0\n",
       "1             1    100   4873.5    8003.5  10000.0       15012.0\n",
       "2             2    200   4873.0    8004.5  10000.0       15016.0\n",
       "3             3    300   4871.5    8004.5  10000.0       15015.5\n",
       "4             4    400   4872.0    8003.5  10000.0       15013.5\n",
       "..          ...    ...      ...       ...      ...           ...\n",
       "995         995  99500   4882.5    7981.5  10000.0       14968.5\n",
       "996         996  99600   4881.5    7980.5  10000.0       14964.5\n",
       "997         997  99700   4881.5    7982.5  10000.0       14966.5\n",
       "998         998  99800   4881.5    7983.5  10000.0       14968.0\n",
       "999         999  99900   4882.5    7981.5  10000.0       14965.5\n",
       "\n",
       "[1000 rows x 6 columns]"
      ]
     },
     "execution_count": 24,
     "metadata": {},
     "output_type": "execute_result"
    }
   ],
   "source": [
    "fairs1"
   ]
  },
  {
   "cell_type": "code",
   "execution_count": 31,
   "id": "469f5254",
   "metadata": {
    "ExecuteTime": {
     "end_time": "2023-03-22T16:11:45.649062Z",
     "start_time": "2023-03-22T16:11:45.636933Z"
    },
    "scrolled": true
   },
   "outputs": [
    {
     "data": {
      "text/html": [
       "<div>\n",
       "<style scoped>\n",
       "    .dataframe tbody tr th:only-of-type {\n",
       "        vertical-align: middle;\n",
       "    }\n",
       "\n",
       "    .dataframe tbody tr th {\n",
       "        vertical-align: top;\n",
       "    }\n",
       "\n",
       "    .dataframe thead th {\n",
       "        text-align: right;\n",
       "    }\n",
       "</style>\n",
       "<table border=\"1\" class=\"dataframe\">\n",
       "  <thead>\n",
       "    <tr style=\"text-align: right;\">\n",
       "      <th></th>\n",
       "      <th>Unnamed: 0</th>\n",
       "      <th>time</th>\n",
       "      <th>BANANAS</th>\n",
       "      <th>COCONUTS</th>\n",
       "      <th>PEARLS</th>\n",
       "      <th>PINA_COLADAS</th>\n",
       "    </tr>\n",
       "  </thead>\n",
       "  <tbody>\n",
       "  </tbody>\n",
       "</table>\n",
       "</div>"
      ],
      "text/plain": [
       "Empty DataFrame\n",
       "Columns: [Unnamed: 0, time, BANANAS, COCONUTS, PEARLS, PINA_COLADAS]\n",
       "Index: []"
      ]
     },
     "metadata": {},
     "output_type": "display_data"
    },
    {
     "data": {
      "text/html": [
       "<div>\n",
       "<style scoped>\n",
       "    .dataframe tbody tr th:only-of-type {\n",
       "        vertical-align: middle;\n",
       "    }\n",
       "\n",
       "    .dataframe tbody tr th {\n",
       "        vertical-align: top;\n",
       "    }\n",
       "\n",
       "    .dataframe thead th {\n",
       "        text-align: right;\n",
       "    }\n",
       "</style>\n",
       "<table border=\"1\" class=\"dataframe\">\n",
       "  <thead>\n",
       "    <tr style=\"text-align: right;\">\n",
       "      <th></th>\n",
       "      <th>Unnamed: 0</th>\n",
       "      <th>time</th>\n",
       "      <th>BANANAS</th>\n",
       "      <th>COCONUTS</th>\n",
       "      <th>PEARLS</th>\n",
       "      <th>PINA_COLADAS</th>\n",
       "    </tr>\n",
       "  </thead>\n",
       "  <tbody>\n",
       "  </tbody>\n",
       "</table>\n",
       "</div>"
      ],
      "text/plain": [
       "Empty DataFrame\n",
       "Columns: [Unnamed: 0, time, BANANAS, COCONUTS, PEARLS, PINA_COLADAS]\n",
       "Index: []"
      ]
     },
     "metadata": {},
     "output_type": "display_data"
    }
   ],
   "source": [
    "col = \"PEARLS\"\n",
    "\n",
    "inds = abs(fairs1[col] - fairs2[col]) > 1e-5\n",
    "\n",
    "display(fairs1[inds])\n",
    "display(fairs2[inds])"
   ]
  },
  {
   "cell_type": "code",
   "execution_count": null,
   "id": "fbc04730",
   "metadata": {},
   "outputs": [],
   "source": []
  }
 ],
 "metadata": {
  "kernelspec": {
   "display_name": "Python 3 (ipykernel)",
   "language": "python",
   "name": "python3"
  },
  "language_info": {
   "codemirror_mode": {
    "name": "ipython",
    "version": 3
   },
   "file_extension": ".py",
   "mimetype": "text/x-python",
   "name": "python",
   "nbconvert_exporter": "python",
   "pygments_lexer": "ipython3",
   "version": "3.9.16"
  },
  "toc": {
   "base_numbering": 1,
   "nav_menu": {},
   "number_sections": true,
   "sideBar": true,
   "skip_h1_title": false,
   "title_cell": "Table of Contents",
   "title_sidebar": "Contents",
   "toc_cell": false,
   "toc_position": {},
   "toc_section_display": true,
   "toc_window_display": false
  },
  "varInspector": {
   "cols": {
    "lenName": 16,
    "lenType": 16,
    "lenVar": 40
   },
   "kernels_config": {
    "python": {
     "delete_cmd_postfix": "",
     "delete_cmd_prefix": "del ",
     "library": "var_list.py",
     "varRefreshCmd": "print(var_dic_list())"
    },
    "r": {
     "delete_cmd_postfix": ") ",
     "delete_cmd_prefix": "rm(",
     "library": "var_list.r",
     "varRefreshCmd": "cat(var_dic_list()) "
    }
   },
   "types_to_exclude": [
    "module",
    "function",
    "builtin_function_or_method",
    "instance",
    "_Feature"
   ],
   "window_display": false
  }
 },
 "nbformat": 4,
 "nbformat_minor": 5
}
