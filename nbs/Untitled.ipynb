{
 "cells": [
  {
   "cell_type": "markdown",
   "id": "5c447157",
   "metadata": {
    "ExecuteTime": {
     "end_time": "2023-03-21T04:52:06.942468Z",
     "start_time": "2023-03-21T04:52:06.939918Z"
    }
   },
   "source": [
    "#### Seems to be a 400 bad request when POST to https://{id}.execute-api.eu-west-1.amazonaws.com/prod/submission/algo"
   ]
  },
  {
   "cell_type": "code",
   "execution_count": 10,
   "id": "41e62613",
   "metadata": {
    "ExecuteTime": {
     "end_time": "2023-03-21T04:52:57.476338Z",
     "start_time": "2023-03-21T04:52:57.473330Z"
    }
   },
   "outputs": [],
   "source": [
    "id_token_name=\"CognitoIdentityServiceProvider.32c5dc5t1kl51edcqv39i0r2s2.rzhan@andrew.cmu.edu.idToken\"\n",
    "id_token=\"eyJraWQiOiJ4M3NhZjFZTkNsRGwyVDljemdCR01ybnVVMlJlNDNjb1E1UGxYMWgwb2tBPSIsImFsZyI6IlJTMjU2In0.eyJzdWIiOiJjYTZiMzZkMy1kZGU4LTQwMTQtYmQ2MS04NzcwODM2MDY2ODkiLCJlbWFpbF92ZXJpZmllZCI6dHJ1ZSwiaXNzIjoiaHR0cHM6XC9cL2NvZ25pdG8taWRwLmV1LXdlc3QtMS5hbWF6b25hd3MuY29tXC9ldS13ZXN0LTFfek9mVngwcWl3IiwiY29nbml0bzp1c2VybmFtZSI6ImNhNmIzNmQzLWRkZTgtNDAxNC1iZDYxLTg3NzA4MzYwNjY4OSIsIm9yaWdpbl9qdGkiOiI2ZjUxYjVmOC1mNjA2LTQyNWMtYjlkNS1lNDY1Y2E5ZmUzMzAiLCJhdWQiOiIzMmM1ZGM1dDFrbDUxZWRjcXYzOWkwcjJzMiIsImV2ZW50X2lkIjoiNGE4MDE5ZGMtNWIzOS00NWViLWJlNTQtN2NmMDRlMmRkMDQ4IiwidG9rZW5fdXNlIjoiaWQiLCJhdXRoX3RpbWUiOjE2NzkyNzY1NjksImV4cCI6MTY3OTM3NjE0OSwiaWF0IjoxNjc5MzcyNTQ5LCJqdGkiOiI3MjY1OGU4NC1mMmE3LTRhZWMtOTA5Yy0xMzljNjYwODliNTUiLCJlbWFpbCI6InJ6aGFuQGFuZHJldy5jbXUuZWR1In0.i0Fom-6_CyHaeeOrXz6elEHPQ87HJbDkFex48CJ16xAoMSDLBDLb0N45OK4_fgdHuaFNOkPcM_XpV104QFHSCA-NBxrf_xoH3zMzpgaHFwihBG4yJIp8IjjW3rTo7sIbJBKQj-oa26bEOmDxpyJrUMJposRpVkHoMABXOsFKv99e9jVtNrpRoH4oPgll6Ft31NSKonnMJ0VvWSM3epQa0ef7YpyeVC7gxS0FLgBH8d1qfj2sVOr0xM4iPYOS2TSYmTs-jcbcRom362Sz8aX777fqHbukEza31GKaxY2dEkVfh6L7CUS6TeQJvR8u8Lh9VULNkKCmddai05Ur-weAOw\""
   ]
  },
  {
   "cell_type": "code",
   "execution_count": 20,
   "id": "2ad9e074",
   "metadata": {
    "ExecuteTime": {
     "end_time": "2023-03-21T13:10:32.980008Z",
     "start_time": "2023-03-21T13:10:32.950338Z"
    }
   },
   "outputs": [
    {
     "data": {
      "text/plain": [
       "'Bearer CognitoIdentityServiceProvider.32c5dc5t1kl51edcqv39i0r2s2.rzhan@andrew.cmu.edu.idToken=eyJraWQiOiJ4M3NhZjFZTkNsRGwyVDljemdCR01ybnVVMlJlNDNjb1E1UGxYMWgwb2tBPSIsImFsZyI6IlJTMjU2In0.eyJzdWIiOiJjYTZiMzZkMy1kZGU4LTQwMTQtYmQ2MS04NzcwODM2MDY2ODkiLCJlbWFpbF92ZXJpZmllZCI6dHJ1ZSwiaXNzIjoiaHR0cHM6XC9cL2NvZ25pdG8taWRwLmV1LXdlc3QtMS5hbWF6b25hd3MuY29tXC9ldS13ZXN0LTFfek9mVngwcWl3IiwiY29nbml0bzp1c2VybmFtZSI6ImNhNmIzNmQzLWRkZTgtNDAxNC1iZDYxLTg3NzA4MzYwNjY4OSIsIm9yaWdpbl9qdGkiOiI2ZjUxYjVmOC1mNjA2LTQyNWMtYjlkNS1lNDY1Y2E5ZmUzMzAiLCJhdWQiOiIzMmM1ZGM1dDFrbDUxZWRjcXYzOWkwcjJzMiIsImV2ZW50X2lkIjoiNGE4MDE5ZGMtNWIzOS00NWViLWJlNTQtN2NmMDRlMmRkMDQ4IiwidG9rZW5fdXNlIjoiaWQiLCJhdXRoX3RpbWUiOjE2NzkyNzY1NjksImV4cCI6MTY3OTM3NjE0OSwiaWF0IjoxNjc5MzcyNTQ5LCJqdGkiOiI3MjY1OGU4NC1mMmE3LTRhZWMtOTA5Yy0xMzljNjYwODliNTUiLCJlbWFpbCI6InJ6aGFuQGFuZHJldy5jbXUuZWR1In0.i0Fom-6_CyHaeeOrXz6elEHPQ87HJbDkFex48CJ16xAoMSDLBDLb0N45OK4_fgdHuaFNOkPcM_XpV104QFHSCA-NBxrf_xoH3zMzpgaHFwihBG4yJIp8IjjW3rTo7sIbJBKQj-oa26bEOmDxpyJrUMJposRpVkHoMABXOsFKv99e9jVtNrpRoH4oPgll6Ft31NSKonnMJ0VvWSM3epQa0ef7YpyeVC7gxS0FLgBH8d1qfj2sVOr0xM4iPYOS2TSYmTs-jcbcRom362Sz8aX777fqHbukEza31GKaxY2dEkVfh6L7CUS6TeQJvR8u8Lh9VULNkKCmddai05Ur-weAOw'"
      ]
     },
     "execution_count": 20,
     "metadata": {},
     "output_type": "execute_result"
    }
   ],
   "source": [
    "f\"Bearer {id_token_name}={id_token}\""
   ]
  },
  {
   "cell_type": "code",
   "execution_count": 19,
   "id": "ebd088e5",
   "metadata": {
    "ExecuteTime": {
     "end_time": "2023-03-21T04:56:58.827182Z",
     "start_time": "2023-03-21T04:56:58.332917Z"
    }
   },
   "outputs": [
    {
     "name": "stdout",
     "output_type": "stream",
     "text": [
      "https://bz97lt8b1e.execute-api.eu-west-1.amazonaws.com/prod/results/tutorial/9ee5a984-2102-4ca5-9920-0c8052ee14cb\n",
      "{'message': 'Forbidden'}\n"
     ]
    }
   ],
   "source": [
    "import requests\n",
    "\n",
    "log_id = \"8d256601-b8cc-428c-b14a-5f204d315125\"\n",
    "\n",
    "algo_id = \"9ee5a984-2102-4ca5-9920-0c8052ee14cb\"\n",
    "email = \"rzhan@andrew.cmu.edu\"\n",
    "headers = {\n",
    "    \"Authorization\": f\"Bearer {id_token_name}={id_token}\"\n",
    "}\n",
    "\n",
    "url = f\"https://bz97lt8b1e.execute-api.eu-west-1.amazonaws.com/prod/results/tutorial/{algo_id}\"\n",
    "\n",
    "print(url)\n",
    "\n",
    "response = requests.post(\n",
    "    url=url,\n",
    "    headers=headers,\n",
    ")\n",
    "\n",
    "if __name__ == '__main__':\n",
    "    print(response.json())"
   ]
  },
  {
   "cell_type": "code",
   "execution_count": null,
   "id": "02697117",
   "metadata": {},
   "outputs": [],
   "source": []
  },
  {
   "cell_type": "code",
   "execution_count": null,
   "id": "7a466e44",
   "metadata": {},
   "outputs": [],
   "source": []
  },
  {
   "cell_type": "code",
   "execution_count": null,
   "id": "377c4a38",
   "metadata": {},
   "outputs": [],
   "source": []
  },
  {
   "cell_type": "code",
   "execution_count": 21,
   "id": "2287e28b",
   "metadata": {
    "ExecuteTime": {
     "end_time": "2023-03-21T13:36:08.041419Z",
     "start_time": "2023-03-21T13:36:08.038760Z"
    }
   },
   "outputs": [],
   "source": [
    "import numpy as np"
   ]
  },
  {
   "cell_type": "code",
   "execution_count": 22,
   "id": "df4dbf03",
   "metadata": {
    "ExecuteTime": {
     "end_time": "2023-03-21T13:37:38.554250Z",
     "start_time": "2023-03-21T13:37:38.550613Z"
    }
   },
   "outputs": [],
   "source": [
    "mat = np.array([\n",
    "    [1, 0.5, 1.45, 0.75],\n",
    "    [1.95, 1, 3.1, 1.49],\n",
    "    [0.67, 0.31, 1, 0.48],\n",
    "    [1.34, 0.64, 1.98, 1],\n",
    "])"
   ]
  },
  {
   "cell_type": "code",
   "execution_count": 33,
   "id": "bbc7af3c",
   "metadata": {
    "ExecuteTime": {
     "end_time": "2023-03-21T13:40:55.092019Z",
     "start_time": "2023-03-21T13:40:55.089262Z"
    }
   },
   "outputs": [],
   "source": []
  },
  {
   "cell_type": "code",
   "execution_count": 37,
   "id": "0c2587af",
   "metadata": {
    "ExecuteTime": {
     "end_time": "2023-03-21T13:43:18.631022Z",
     "start_time": "2023-03-21T13:43:18.603859Z"
    }
   },
   "outputs": [
    {
     "name": "stdout",
     "output_type": "stream",
     "text": [
      "iter 0\n"
     ]
    },
    {
     "data": {
      "text/plain": [
       "array([[0.  , 0.  , 0.  , 1.34],\n",
       "       [0.  , 0.  , 0.  , 0.64],\n",
       "       [0.  , 0.  , 0.  , 1.98],\n",
       "       [0.  , 0.  , 0.  , 1.  ]])"
      ]
     },
     "metadata": {},
     "output_type": "display_data"
    },
    {
     "data": {
      "text/plain": [
       "array([3, 3, 3, 3])"
      ]
     },
     "metadata": {},
     "output_type": "display_data"
    },
    {
     "data": {
      "text/plain": [
       "array([1.34, 0.64, 1.98, 1.  ])"
      ]
     },
     "metadata": {},
     "output_type": "display_data"
    },
    {
     "name": "stdout",
     "output_type": "stream",
     "text": [
      "iter 1\n"
     ]
    },
    {
     "data": {
      "text/plain": [
       "array([[1.34  , 1.248 , 1.3266, 1.34  ],\n",
       "       [0.67  , 0.64  , 0.6138, 0.64  ],\n",
       "       [1.943 , 1.984 , 1.98  , 1.98  ],\n",
       "       [1.005 , 0.9536, 0.9504, 1.    ]])"
      ]
     },
     "metadata": {},
     "output_type": "display_data"
    },
    {
     "data": {
      "text/plain": [
       "array([0, 0, 1, 0])"
      ]
     },
     "metadata": {},
     "output_type": "display_data"
    },
    {
     "data": {
      "text/plain": [
       "array([1.34 , 0.67 , 1.984, 1.005])"
      ]
     },
     "metadata": {},
     "output_type": "display_data"
    },
    {
     "name": "stdout",
     "output_type": "stream",
     "text": [
      "iter 2\n"
     ]
    },
    {
     "data": {
      "text/plain": [
       "array([[1.34   , 1.3065 , 1.32928, 1.3467 ],\n",
       "       [0.67   , 0.67   , 0.61504, 0.6432 ],\n",
       "       [1.943  , 2.077  , 1.984  , 1.9899 ],\n",
       "       [1.005  , 0.9983 , 0.95232, 1.005  ]])"
      ]
     },
     "metadata": {},
     "output_type": "display_data"
    },
    {
     "data": {
      "text/plain": [
       "array([3, 0, 1, 0])"
      ]
     },
     "metadata": {},
     "output_type": "display_data"
    },
    {
     "data": {
      "text/plain": [
       "array([1.3467, 0.67  , 2.077 , 1.005 ])"
      ]
     },
     "metadata": {},
     "output_type": "display_data"
    },
    {
     "name": "stdout",
     "output_type": "stream",
     "text": [
      "iter 3\n"
     ]
    },
    {
     "data": {
      "text/plain": [
       "array([[1.3467  , 1.3065  , 1.39159 , 1.3467  ],\n",
       "       [0.67335 , 0.67    , 0.64387 , 0.6432  ],\n",
       "       [1.952715, 2.077   , 2.077   , 1.9899  ],\n",
       "       [1.010025, 0.9983  , 0.99696 , 1.005   ]])"
      ]
     },
     "metadata": {},
     "output_type": "display_data"
    },
    {
     "data": {
      "text/plain": [
       "array([2, 0, 1, 0])"
      ]
     },
     "metadata": {},
     "output_type": "display_data"
    },
    {
     "data": {
      "text/plain": [
       "array([1.39159 , 0.67335 , 2.077   , 1.010025])"
      ]
     },
     "metadata": {},
     "output_type": "display_data"
    },
    {
     "name": "stdout",
     "output_type": "stream",
     "text": [
      "iter 4\n"
     ]
    },
    {
     "data": {
      "text/plain": [
       "array([[1.39159  , 1.3130325, 1.39159  , 1.3534335],\n",
       "       [0.695795 , 0.67335  , 0.64387  , 0.646416 ],\n",
       "       [2.0178055, 2.087385 , 2.077    , 1.9998495],\n",
       "       [1.0436925, 1.0032915, 0.99696  , 1.010025 ]])"
      ]
     },
     "metadata": {},
     "output_type": "display_data"
    },
    {
     "data": {
      "text/plain": [
       "array([0, 0, 1, 0])"
      ]
     },
     "metadata": {},
     "output_type": "display_data"
    },
    {
     "data": {
      "text/plain": [
       "array([1.39159  , 0.695795 , 2.087385 , 1.0436925])"
      ]
     },
     "metadata": {},
     "output_type": "display_data"
    }
   ],
   "source": [
    "cur = np.array([0, 0, 0, 1])\n",
    "\n",
    "for i in range(5):\n",
    "    cur = cur.reshape(4, 1)\n",
    "    res = (mat * cur).T\n",
    "    inds = np.argmax(res, axis=1)\n",
    "    cur = np.max(res, axis=1)\n",
    "    print(\"iter\", i)\n",
    "    display(res)\n",
    "    display(inds)\n",
    "    display(cur)"
   ]
  },
  {
   "cell_type": "code",
   "execution_count": null,
   "id": "8ba3aa8a",
   "metadata": {},
   "outputs": [],
   "source": []
  }
 ],
 "metadata": {
  "kernelspec": {
   "display_name": "Python 3 (ipykernel)",
   "language": "python",
   "name": "python3"
  },
  "language_info": {
   "codemirror_mode": {
    "name": "ipython",
    "version": 3
   },
   "file_extension": ".py",
   "mimetype": "text/x-python",
   "name": "python",
   "nbconvert_exporter": "python",
   "pygments_lexer": "ipython3",
   "version": "3.9.16"
  },
  "toc": {
   "base_numbering": 1,
   "nav_menu": {},
   "number_sections": true,
   "sideBar": true,
   "skip_h1_title": false,
   "title_cell": "Table of Contents",
   "title_sidebar": "Contents",
   "toc_cell": false,
   "toc_position": {},
   "toc_section_display": true,
   "toc_window_display": false
  },
  "varInspector": {
   "cols": {
    "lenName": 16,
    "lenType": 16,
    "lenVar": 40
   },
   "kernels_config": {
    "python": {
     "delete_cmd_postfix": "",
     "delete_cmd_prefix": "del ",
     "library": "var_list.py",
     "varRefreshCmd": "print(var_dic_list())"
    },
    "r": {
     "delete_cmd_postfix": ") ",
     "delete_cmd_prefix": "rm(",
     "library": "var_list.r",
     "varRefreshCmd": "cat(var_dic_list()) "
    }
   },
   "types_to_exclude": [
    "module",
    "function",
    "builtin_function_or_method",
    "instance",
    "_Feature"
   ],
   "window_display": false
  }
 },
 "nbformat": 4,
 "nbformat_minor": 5
}
