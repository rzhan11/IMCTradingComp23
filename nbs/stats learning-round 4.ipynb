{
 "cells": [
  {
   "cell_type": "markdown",
   "id": "4677ba29",
   "metadata": {},
   "source": [
    "# Desc\n",
    "\n",
    "- using this file to practice/learn basic stats\n",
    "- also want to learn standard time series analysis techniques"
   ]
  },
  {
   "cell_type": "code",
   "execution_count": 1,
   "id": "302e2611",
   "metadata": {
    "ExecuteTime": {
     "end_time": "2023-03-30T06:48:37.232631Z",
     "start_time": "2023-03-30T06:48:37.178460Z"
    }
   },
   "outputs": [
    {
     "data": {
      "text/html": [
       "<style>.container { width:75% !important; }</style>"
      ],
      "text/plain": [
       "<IPython.core.display.HTML object>"
      ]
     },
     "metadata": {},
     "output_type": "display_data"
    }
   ],
   "source": [
    "from IPython.display import display, HTML\n",
    "import ipywidgets as widgets\n",
    "from ipywidgets import interact\n",
    "display(HTML(\"<style>.container { width:75% !important; }</style>\"))"
   ]
  },
  {
   "cell_type": "code",
   "execution_count": 2,
   "id": "efb2a20f",
   "metadata": {
    "ExecuteTime": {
     "end_time": "2023-03-30T06:48:38.107647Z",
     "start_time": "2023-03-30T06:48:37.668658Z"
    }
   },
   "outputs": [],
   "source": [
    "import numpy as np\n",
    "import pandas as pd\n",
    "import matplotlib.pyplot as plt"
   ]
  },
  {
   "cell_type": "code",
   "execution_count": 3,
   "id": "8d2ff6a8",
   "metadata": {
    "ExecuteTime": {
     "end_time": "2023-03-30T06:48:38.365381Z",
     "start_time": "2023-03-30T06:48:38.115164Z"
    }
   },
   "outputs": [],
   "source": [
    "import statsmodels\n",
    "from statsmodels.tsa.stattools import adfuller\n",
    "from statsmodels.graphics.tsaplots import plot_acf\n",
    "from statsmodels.graphics.tsaplots import plot_pacf\n",
    "from statsmodels.tsa.ar_model import AutoReg\n",
    "\n",
    "from sklearn.metrics import r2_score"
   ]
  },
  {
   "cell_type": "code",
   "execution_count": 4,
   "id": "3a794c90",
   "metadata": {
    "ExecuteTime": {
     "end_time": "2023-03-30T06:48:38.853498Z",
     "start_time": "2023-03-30T06:48:38.837484Z"
    }
   },
   "outputs": [],
   "source": [
    "\n",
    "def check_stationary(series):\n",
    "    # Copied from https://machinelearningmastery.com/time-series-data-stationary-python/\n",
    "\n",
    "    result = adfuller(series.values)\n",
    "\n",
    "    print('ADF Statistic: %f' % result[0])\n",
    "    print('p-value: %f' % result[1])\n",
    "    print('Critical Values:')\n",
    "    for key, value in result[4].items():\n",
    "        print('\\t%s: %.3f' % (key, value))\n",
    "\n",
    "    if (result[1] <= 0.01) & (result[4]['5%'] > result[0]):\n",
    "        print(\"\\u001b[32mStationary\\u001b[0m\")\n",
    "    else:\n",
    "        print(\"\\x1b[31mNon-stationary\\x1b[0m\")"
   ]
  },
  {
   "cell_type": "code",
   "execution_count": 5,
   "id": "0400c8b1",
   "metadata": {
    "ExecuteTime": {
     "end_time": "2023-03-30T06:48:39.238257Z",
     "start_time": "2023-03-30T06:48:39.228055Z"
    }
   },
   "outputs": [],
   "source": [
    "# parameters\n",
    "_round_num = 4\n",
    "_time_per_day = 1000000"
   ]
  },
  {
   "cell_type": "code",
   "execution_count": 6,
   "id": "091eda03",
   "metadata": {
    "ExecuteTime": {
     "end_time": "2023-03-30T06:48:39.650627Z",
     "start_time": "2023-03-30T06:48:39.625233Z"
    }
   },
   "outputs": [],
   "source": [
    "def get_file_trades(day):\n",
    "    fname = f\"../data/round{_round_num}/trades_round_{_round_num}_day_{day}_nn.csv\"\n",
    "    print(\"fname\", fname)\n",
    "    return pd.read_csv(fname, sep=\";\")\n",
    "\n",
    "\n",
    "def get_file_prices(day):\n",
    "    fname = f\"../data/round{_round_num}/prices_round_{_round_num}_day_{day}.csv\"\n",
    "    print(\"fname\", fname)\n",
    "    return pd.read_csv(fname, sep=\";\")\n",
    "\n",
    "def get_symbol_prices(symbol, days):\n",
    "    \"\"\" Returns DataFrame containing all price data for specified symbol, over the specified 'days'\n",
    "    If symbol is None, don't filter on symbol\n",
    "    \"\"\"\n",
    "    \n",
    "    data = []\n",
    "    for day in days:\n",
    "        price_df = get_file_prices(day)\n",
    "        data += [price_df]\n",
    "    \n",
    "    # concat\n",
    "    price_df = pd.concat(data)\n",
    "    \n",
    "    # rename \"bid\" to \"buy\"\n",
    "    # rename \"ask\" to \"sell\"\n",
    "    price_df = price_df.rename({col: col.replace(\"bid\", \"buy\") for col in price_df.columns if \"bid\" in col}, axis=1)\n",
    "    price_df = price_df.rename({col: col.replace(\"ask\", \"sell\") for col in price_df.columns if \"ask\" in col}, axis=1)\n",
    "    price_df = price_df.rename({\"timestamp\": \"time\", \"product\": \"symbol\"}, axis=1)\n",
    "    \n",
    "    if symbol is not None:\n",
    "        # filter for specific symbol\n",
    "        price_df = price_df[price_df[\"symbol\"] == symbol]\n",
    "    \n",
    "    # fix times, sort by time and reindex\n",
    "    price_df[\"time\"] = price_df[\"time\"] + (price_df[\"day\"] - min(days)) * _time_per_day\n",
    "    price_df = price_df.sort_values(by=\"time\").reset_index(drop=True)\n",
    "    \n",
    "    return price_df\n",
    "\n",
    "def get_all_mids(days):\n",
    "    price_df = get_symbol_prices(symbol=None, days=days)\n",
    "    \n",
    "    symbols = set(price_df[\"symbol\"])\n",
    "    \n",
    "    price_df[\"mid\"] = (price_df[\"buy_price_1\"] + price_df[\"sell_price_1\"]) / 2\n",
    "    \n",
    "    return price_df[[\"time\", \"symbol\", \"mid\"]].copy()"
   ]
  },
  {
   "cell_type": "code",
   "execution_count": 7,
   "id": "3950ee11",
   "metadata": {
    "ExecuteTime": {
     "end_time": "2023-03-30T06:48:40.621887Z",
     "start_time": "2023-03-30T06:48:40.604888Z"
    }
   },
   "outputs": [],
   "source": [
    "def get_book_large_size(price_df, side):\n",
    "    \"\"\" \n",
    "    side = 'buy' or 'sell' \n",
    "    \n",
    "    Returns prices, sizes\n",
    "    \"\"\"\n",
    "    \n",
    "    book_range = list(range(1, 3+1))\n",
    "    \n",
    "    # get bids\n",
    "    bid_sizes = price_df[[f\"{side}_volume_{i}\" for i in book_range]]\n",
    "    bid_prices = price_df[[f\"{side}_price_{i}\" for i in book_range]]\n",
    "\n",
    "    # replace nan with -1\n",
    "    bid_sizes = bid_sizes.replace(np.nan, -1)\n",
    "\n",
    "    # find inds\n",
    "    inds = np.argmax(bid_sizes.to_numpy(), axis=1)\n",
    "\n",
    "    # filter to keep largest bids\n",
    "    bid_prices = bid_prices.to_numpy()[np.arange(len(bid_prices)), inds]\n",
    "    bid_sizes = bid_sizes.to_numpy()[np.arange(len(bid_sizes)), inds]\n",
    "    \n",
    "    # create dataframe\n",
    "    df = pd.DataFrame([bid_prices, bid_sizes]).T\n",
    "    df.columns = [f\"{side}_price\", f\"{side}_size\"]\n",
    "    df[\"time\"] = price_df[\"time\"].reset_index()[\"time\"]\n",
    "    \n",
    "    return df\n",
    "\n",
    "\n",
    "def get_whale_quotes(price_df):\n",
    "    # get big buy/sell quotes\n",
    "    buy_df = get_book_large_size(price_df, \"buy\")\n",
    "    sell_df = get_book_large_size(price_df, \"sell\")\n",
    "\n",
    "    # create big quote_df\n",
    "    quote_df = pd.merge(buy_df, sell_df, on=\"time\")\n",
    "    quote_df[\"mid_price\"] = (quote_df[\"buy_price\"] + quote_df[\"sell_price\"]) / 2\n",
    "    quote_df[\"spread\"] = quote_df[\"sell_price\"] - quote_df[\"buy_price\"]\n",
    "\n",
    "    return quote_df"
   ]
  },
  {
   "cell_type": "markdown",
   "id": "b6435d00",
   "metadata": {},
   "source": [
    "## Pairs trading"
   ]
  },
  {
   "cell_type": "code",
   "execution_count": null,
   "id": "eef4fde0",
   "metadata": {
    "ExecuteTime": {
     "end_time": "2023-03-27T21:27:17.314171Z",
     "start_time": "2023-03-27T21:27:14.351915Z"
    },
    "scrolled": false
   },
   "outputs": [],
   "source": [
    "_day_range = [1, 2, 3]\n",
    "# _day_range = [-1, 0, 1]\n",
    "\n",
    "coco_price_df = get_symbol_prices(\"COCONUTS\", _day_range)\n",
    "pina_price_df = get_symbol_prices(\"PINA_COLADAS\", _day_range)\n",
    "\n",
    "coco_df = get_whale_quotes(coco_price_df)\n",
    "pina_df = get_whale_quotes(pina_price_df)\n",
    "pair_df = pd.DataFrame({\n",
    "    \"mid_coco\": coco_df[\"mid_price\"], \n",
    "    \"mid_pina\": pina_df[\"mid_price\"],\n",
    "    \"time\": pina_df[\"time\"],\n",
    "})\n",
    "\n",
    "fig, ax = plt.subplots()\n",
    "\n",
    "ax.plot(pair_df[\"time\"], pair_df[\"mid_coco\"], color=\"blue\", label=\"coco\")\n",
    "ax.legend(loc=1)\n",
    "\n",
    "ax2 = ax.twinx()\n",
    "\n",
    "ax2.plot(pair_df[\"time\"], pair_df[\"mid_pina\"], color=\"orange\", label=\"pina\")\n",
    "ax2.legend(loc=2)"
   ]
  },
  {
   "cell_type": "code",
   "execution_count": null,
   "id": "10df5a90",
   "metadata": {},
   "outputs": [],
   "source": []
  },
  {
   "cell_type": "markdown",
   "id": "5d60e3f4",
   "metadata": {},
   "source": [
    "### plot first diffs over time"
   ]
  },
  {
   "cell_type": "code",
   "execution_count": null,
   "id": "444db223",
   "metadata": {
    "ExecuteTime": {
     "end_time": "2023-03-27T21:27:19.107387Z",
     "start_time": "2023-03-27T21:27:18.905217Z"
    }
   },
   "outputs": [],
   "source": [
    "plt.scatter(pair_df[\"mid_coco\"].diff(1), pair_df[\"mid_pina\"].diff(1))"
   ]
  },
  {
   "cell_type": "code",
   "execution_count": null,
   "id": "187499ac",
   "metadata": {},
   "outputs": [],
   "source": []
  },
  {
   "cell_type": "code",
   "execution_count": null,
   "id": "878085cd",
   "metadata": {
    "ExecuteTime": {
     "end_time": "2023-03-27T21:28:17.761823Z",
     "start_time": "2023-03-27T21:27:41.016410Z"
    },
    "scrolled": false
   },
   "outputs": [],
   "source": [
    "plt.figure(figsize=(12, 3))\n",
    "\n",
    "all_x = pair_df[\"mid_coco\"].diff(1).dropna()\n",
    "all_y = pair_df[\"mid_pina\"].diff(1).dropna()\n",
    "\n",
    "xlim = all_x.min(), all_x.max()\n",
    "ylim = all_y.min(), all_y.max()\n",
    "\n",
    "big_model = np.poly1d(np.polyfit(all_x, all_y, deg=1))\n",
    "print(\"big_model\", big_model.coef)\n",
    "\n",
    "### params\n",
    "chunk_size = 100\n",
    "\n",
    "\n",
    "model_data = []\n",
    "\n",
    "for i in range(len(pair_df) - chunk_size):\n",
    "\n",
    "    lb = i\n",
    "    ub = lb + chunk_size\n",
    "\n",
    "    df = pair_df.iloc[lb:ub]\n",
    "\n",
    "    x = df[\"mid_coco\"].diff(1).dropna()\n",
    "    y = df[\"mid_pina\"].diff(1).dropna()\n",
    "\n",
    "    inds = x.index.intersection(y.index)\n",
    "\n",
    "    x = x[inds]\n",
    "    y = y[inds]\n",
    "\n",
    "    # fit line\n",
    "    model = np.poly1d(np.polyfit(x, y, deg=1))\n",
    "    model_data += [{\n",
    "        \"m\": model.coef[0],\n",
    "        \"b\": model.coef[1],\n",
    "        \"r2\": r2_score(y, model(x)),\n",
    "    }]\n",
    "\n",
    "#     if i < 5:\n",
    "#         plt.subplot(121)\n",
    "#         plt.hist(x, bins=50)\n",
    "#         plt.hist(y, bins=50, alpha=0.5)\n",
    "\n",
    "#         plt.subplot(122)\n",
    "#         plt.scatter(x, y, s=1)\n",
    "#         plt.plot(x, model(x), color=\"red\", label=\"fit\")\n",
    "#         plt.plot(x, model(x), color=\"black\", label=\"fit\")\n",
    "#         plt.xlim(xlim)\n",
    "#         plt.ylim(ylim)\n",
    "        \n",
    "#         plt.show()\n",
    "\n",
    "#         print(\"model\", model.coef)\n",
    "model_df = pd.DataFrame(model_data)"
   ]
  },
  {
   "cell_type": "code",
   "execution_count": null,
   "id": "09081b7b",
   "metadata": {
    "ExecuteTime": {
     "end_time": "2023-03-27T21:29:35.285668Z",
     "start_time": "2023-03-27T21:29:34.807831Z"
    },
    "scrolled": false
   },
   "outputs": [],
   "source": [
    "plt.plot(model_df[\"r2\"], label=\"r2\")\n",
    "plt.plot(model_df[\"m\"], label=\"m\")\n",
    "plt.plot(model_df[\"b\"], label=\"b\")\n",
    "plt.axhline(y=1.5)\n",
    "\n",
    "plt.legend()\n"
   ]
  },
  {
   "cell_type": "code",
   "execution_count": null,
   "id": "c817f051",
   "metadata": {
    "ExecuteTime": {
     "end_time": "2023-03-27T21:30:02.418721Z",
     "start_time": "2023-03-27T21:30:00.889040Z"
    }
   },
   "outputs": [],
   "source": [
    "check_stationary(model_df[\"m\"])"
   ]
  },
  {
   "cell_type": "code",
   "execution_count": null,
   "id": "ba33fd7d",
   "metadata": {
    "ExecuteTime": {
     "end_time": "2023-03-27T21:30:05.181865Z",
     "start_time": "2023-03-27T21:30:03.727595Z"
    }
   },
   "outputs": [],
   "source": [
    "# get errors\n",
    "error = pair_df[\"mid_pina\"] - pair_df[\"mid_coco\"] * 1.5 - 3000\n",
    "error_df = pd.DataFrame({\"error\": error})\n",
    "\n",
    "# check stationarity of the error\n",
    "check_stationary(error_df[\"error\"])\n",
    "\n",
    "# get `change` stats\n",
    "error_df[\"above\"] = error_df[\"error\"] > 0\n",
    "error_df[\"change\"] = error_df[\"above\"] != error_df[\"above\"].shift(1)\n"
   ]
  },
  {
   "cell_type": "code",
   "execution_count": null,
   "id": "c1b7d7cf",
   "metadata": {
    "ExecuteTime": {
     "end_time": "2023-03-27T21:30:06.610168Z",
     "start_time": "2023-03-27T21:30:06.446547Z"
    }
   },
   "outputs": [],
   "source": [
    "plt.plot(error_df[\"error\"])"
   ]
  },
  {
   "cell_type": "code",
   "execution_count": null,
   "id": "1699109d",
   "metadata": {
    "ExecuteTime": {
     "end_time": "2023-03-27T21:30:08.585580Z",
     "start_time": "2023-03-27T21:30:08.575372Z"
    }
   },
   "outputs": [],
   "source": [
    "error.describe()"
   ]
  },
  {
   "cell_type": "code",
   "execution_count": null,
   "id": "d94d727b",
   "metadata": {
    "ExecuteTime": {
     "end_time": "2023-03-27T21:30:12.570060Z",
     "start_time": "2023-03-27T21:30:11.250455Z"
    }
   },
   "outputs": [],
   "source": [
    "low, high = 0, 0\n",
    "\n",
    "bounds = []\n",
    "\n",
    "for index, row in error_df.iterrows():\n",
    "    if row[\"change\"]:\n",
    "        bounds += [(low, high)]\n",
    "        low, high = 0, 0\n",
    "        \n",
    "    # record max error\n",
    "    low = min(low, row[\"error\"])\n",
    "    high = max(low, row[\"error\"])\n",
    "    \n",
    "    \n",
    "df = pd.DataFrame(bounds, columns=[\"low\", \"high\"])\n",
    "df[\"bound\"] = np.maximum(df[\"low\"].abs(), df[\"high\"].abs())\n",
    "\n",
    "# get number of times we reach each threshold\n",
    "freq_df = df.groupby(\"bound\")[[\"low\"]].count().rename({\"low\": \"count\"}, axis=1)\n",
    "freq_df = freq_df.sort_index(ascending=False).cumsum().reset_index()\n",
    "freq_df[\"pnl\"] = freq_df[\"bound\"] * freq_df[\"count\"]"
   ]
  },
  {
   "cell_type": "code",
   "execution_count": null,
   "id": "1388c1f2",
   "metadata": {
    "ExecuteTime": {
     "end_time": "2023-03-27T21:30:15.168531Z",
     "start_time": "2023-03-27T21:30:15.048290Z"
    }
   },
   "outputs": [],
   "source": [
    "plt.plot(freq_df[\"bound\"], freq_df[\"pnl\"])"
   ]
  },
  {
   "cell_type": "code",
   "execution_count": null,
   "id": "bdbdafbe",
   "metadata": {
    "ExecuteTime": {
     "end_time": "2023-03-27T21:30:20.039189Z",
     "start_time": "2023-03-27T21:30:20.029072Z"
    }
   },
   "outputs": [],
   "source": [
    "freq_df.sort_values(by=\"pnl\", ascending=False).iloc[:20]"
   ]
  },
  {
   "cell_type": "markdown",
   "id": "5085445d",
   "metadata": {},
   "source": [
    "## round 4"
   ]
  },
  {
   "cell_type": "code",
   "execution_count": null,
   "id": "4bf22568",
   "metadata": {
    "ExecuteTime": {
     "end_time": "2023-03-27T21:33:45.452321Z",
     "start_time": "2023-03-27T21:33:45.449810Z"
    }
   },
   "outputs": [],
   "source": [
    "del pair_df"
   ]
  },
  {
   "cell_type": "code",
   "execution_count": 8,
   "id": "03a42a7d",
   "metadata": {
    "ExecuteTime": {
     "end_time": "2023-03-30T06:48:45.228645Z",
     "start_time": "2023-03-30T06:48:43.145859Z"
    }
   },
   "outputs": [
    {
     "name": "stdout",
     "output_type": "stream",
     "text": [
      "fname ../data/round4/prices_round_4_day_1.csv\n",
      "fname ../data/round4/prices_round_4_day_2.csv\n",
      "fname ../data/round4/prices_round_4_day_3.csv\n"
     ]
    }
   ],
   "source": [
    "_day_range = [1, 2, 3]\n",
    "\n",
    "raw_df = get_symbol_prices(None, _day_range)\n",
    "\n",
    "syms = [\"DIP\", \"BAGUETTE\", \"UKULELE\", \"PICNIC_BASKET\"]\n",
    "\n",
    "all_dfs = {}\n",
    "for sym in syms:\n",
    "    df = raw_df[raw_df[\"symbol\"] == sym]\n",
    "    df = get_whale_quotes(df)\n",
    "    all_dfs[sym[:3].lower()] = df[\"mid_price\"]\n",
    "#     all_dfs[\"time\"] = df[\"time\"]\n",
    "    \n",
    "\n",
    "price_df = pd.DataFrame(all_dfs)"
   ]
  },
  {
   "cell_type": "code",
   "execution_count": 9,
   "id": "5012ac35",
   "metadata": {
    "ExecuteTime": {
     "end_time": "2023-03-30T06:48:46.220127Z",
     "start_time": "2023-03-30T06:48:46.210703Z"
    }
   },
   "outputs": [],
   "source": [
    "price_df[\"agg\"] = 2 * price_df[\"bag\"] + 4 * price_df[\"dip\"] + 1 * price_df[\"uku\"]\n",
    "price_df[\"orig_error\"] = price_df[\"pic\"] - price_df[\"agg\"]"
   ]
  },
  {
   "cell_type": "code",
   "execution_count": 10,
   "id": "66c2ae83",
   "metadata": {
    "ExecuteTime": {
     "end_time": "2023-03-30T06:48:48.508269Z",
     "start_time": "2023-03-30T06:48:46.672105Z"
    }
   },
   "outputs": [
    {
     "name": "stdout",
     "output_type": "stream",
     "text": [
      "ADF Statistic: -5.650733\n",
      "p-value: 0.000001\n",
      "Critical Values:\n",
      "\t1%: -3.431\n",
      "\t5%: -2.862\n",
      "\t10%: -2.567\n",
      "\u001b[32mStationary\u001b[0m\n"
     ]
    },
    {
     "data": {
      "text/html": [
       "<div>\n",
       "<style scoped>\n",
       "    .dataframe tbody tr th:only-of-type {\n",
       "        vertical-align: middle;\n",
       "    }\n",
       "\n",
       "    .dataframe tbody tr th {\n",
       "        vertical-align: top;\n",
       "    }\n",
       "\n",
       "    .dataframe thead th {\n",
       "        text-align: right;\n",
       "    }\n",
       "</style>\n",
       "<table border=\"1\" class=\"dataframe\">\n",
       "  <thead>\n",
       "    <tr style=\"text-align: right;\">\n",
       "      <th></th>\n",
       "      <th>count</th>\n",
       "      <th>mean</th>\n",
       "      <th>std</th>\n",
       "      <th>min</th>\n",
       "      <th>25%</th>\n",
       "      <th>50%</th>\n",
       "      <th>75%</th>\n",
       "      <th>max</th>\n",
       "    </tr>\n",
       "  </thead>\n",
       "  <tbody>\n",
       "    <tr>\n",
       "      <th>orig_error</th>\n",
       "      <td>30000.0</td>\n",
       "      <td>375.718533</td>\n",
       "      <td>124.312974</td>\n",
       "      <td>-21.0</td>\n",
       "      <td>294.0</td>\n",
       "      <td>379.0</td>\n",
       "      <td>458.0</td>\n",
       "      <td>779.0</td>\n",
       "    </tr>\n",
       "  </tbody>\n",
       "</table>\n",
       "</div>"
      ],
      "text/plain": [
       "              count        mean         std   min    25%    50%    75%    max\n",
       "orig_error  30000.0  375.718533  124.312974 -21.0  294.0  379.0  458.0  779.0"
      ]
     },
     "metadata": {},
     "output_type": "display_data"
    }
   ],
   "source": [
    "check_stationary(price_df[\"orig_error\"])\n",
    "display(price_df[\"orig_error\"].describe().to_frame().T)"
   ]
  },
  {
   "cell_type": "code",
   "execution_count": 11,
   "id": "2fa3cd01",
   "metadata": {
    "ExecuteTime": {
     "end_time": "2023-03-30T06:48:49.366702Z",
     "start_time": "2023-03-30T06:48:49.351548Z"
    }
   },
   "outputs": [
    {
     "data": {
      "text/plain": [
       "0        73000.0\n",
       "1        73013.0\n",
       "2        73021.0\n",
       "3        73020.0\n",
       "4        73015.0\n",
       "          ...   \n",
       "29995    73429.0\n",
       "29996    73426.0\n",
       "29997    73421.0\n",
       "29998    73404.0\n",
       "29999    73407.0\n",
       "Name: agg, Length: 30000, dtype: float64"
      ]
     },
     "execution_count": 11,
     "metadata": {},
     "output_type": "execute_result"
    }
   ],
   "source": [
    "price_df[\"agg\"]"
   ]
  },
  {
   "cell_type": "code",
   "execution_count": null,
   "id": "8c6c8074",
   "metadata": {},
   "outputs": [],
   "source": [
    "ax.twinx().plot(price_df[\"agg\"])"
   ]
  },
  {
   "cell_type": "code",
   "execution_count": null,
   "id": "a4eacf6e",
   "metadata": {},
   "outputs": [],
   "source": []
  },
  {
   "cell_type": "code",
   "execution_count": null,
   "id": "15c8cfa8",
   "metadata": {},
   "outputs": [],
   "source": []
  },
  {
   "cell_type": "code",
   "execution_count": null,
   "id": "d306592a",
   "metadata": {},
   "outputs": [],
   "source": []
  },
  {
   "cell_type": "code",
   "execution_count": 17,
   "id": "a9a55579",
   "metadata": {
    "ExecuteTime": {
     "end_time": "2023-03-30T06:52:57.765579Z",
     "start_time": "2023-03-30T06:52:57.648530Z"
    }
   },
   "outputs": [
    {
     "data": {
      "image/png": "[encoded data removed]",
      "text/plain": [
       "<Figure size 640x480 with 2 Axes>"
      ]
     },
     "metadata": {},
     "output_type": "display_data"
    }
   ],
   "source": [
    "ax = plt.gca()\n",
    "ax.plot(price_df[\"uku\"])\n",
    "ax.twinx().plot(price_df[\"pic\"], color=\"red\", alpha=0.5)\n",
    "# ax.twinx().plot(price_df[\"agg\"], color=\"green\")\n",
    "# ax.twinx().plot(price_df[\"orig_error\"], color=\"orange\")\n",
    "plt.show()"
   ]
  },
  {
   "cell_type": "code",
   "execution_count": null,
   "id": "4b5aeaef",
   "metadata": {},
   "outputs": [],
   "source": []
  },
  {
   "cell_type": "code",
   "execution_count": null,
   "id": "20a0363f",
   "metadata": {
    "ExecuteTime": {
     "end_time": "2023-03-30T06:48:12.282699Z",
     "start_time": "2023-03-30T06:48:12.154059Z"
    }
   },
   "outputs": [],
   "source": [
    "plt.plot(price_df[\"orig_error\"])\n",
    "plt.show()\n",
    "plt.hist(price_df[\"orig_error\"])\n",
    "plt.show()"
   ]
  },
  {
   "cell_type": "code",
   "execution_count": null,
   "id": "3e142e11",
   "metadata": {
    "ExecuteTime": {
     "end_time": "2023-03-30T06:46:11.373655Z",
     "start_time": "2023-03-30T06:46:11.366465Z"
    }
   },
   "outputs": [],
   "source": [
    "def get_model(weights):\n",
    "    return lambda x : np.dot(weights, list(x) + [1])\n",
    "\n",
    "model = get_model([1, -4, -2, -1, -375])\n",
    "\n"
   ]
  },
  {
   "cell_type": "code",
   "execution_count": null,
   "id": "a4357cb9",
   "metadata": {
    "ExecuteTime": {
     "end_time": "2023-03-30T06:46:11.957676Z",
     "start_time": "2023-03-30T06:46:11.786528Z"
    }
   },
   "outputs": [],
   "source": [
    "price_df[\"bias\"] = 1\n",
    "price_df[\"error\"] = price_df[[\"pic\", \"dip\", \"bag\", \"uku\"]].apply(model, axis=1)\n"
   ]
  },
  {
   "cell_type": "code",
   "execution_count": null,
   "id": "d48fb3f6",
   "metadata": {
    "ExecuteTime": {
     "end_time": "2023-03-30T06:46:14.253095Z",
     "start_time": "2023-03-30T06:46:12.354424Z"
    }
   },
   "outputs": [],
   "source": [
    "error_df = price_df[[\"error\"]].copy()\n",
    "\n",
    "# check stationarity of the error\n",
    "check_stationary(error_df[\"error\"])\n",
    "\n",
    "# get `change` stats\n",
    "error_df[\"above\"] = error_df[\"error\"] > 0\n",
    "error_df[\"change\"] = error_df[\"above\"] != error_df[\"above\"].shift(1)"
   ]
  },
  {
   "cell_type": "code",
   "execution_count": null,
   "id": "bda17bcb",
   "metadata": {
    "ExecuteTime": {
     "end_time": "2023-03-30T06:46:14.273106Z",
     "start_time": "2023-03-30T06:46:14.273100Z"
    }
   },
   "outputs": [],
   "source": [
    "## add fees here\n",
    "\n",
    "spreads = {\n",
    "    \"pic\": 11.377,\n",
    "    \"uku\": 1.419,\n",
    "    \"dip\": 1.674,\n",
    "    \"bag\": 1.596,\n",
    "}\n",
    "\n",
    "spread_fee = np.sum(list(spreads.values())) / 2\n",
    "print(\"spread fee\", spread_fee)\n",
    "\n",
    "##\n",
    "\n",
    "low, high = 0, 0\n",
    "\n",
    "bounds = []\n",
    "\n",
    "for index, row in error_df.iterrows():\n",
    "    if row[\"change\"]:\n",
    "        bounds += [(low, high)]\n",
    "        low, high = 0, 0\n",
    "        \n",
    "    # record max error\n",
    "    low = min(low, row[\"error\"])\n",
    "    high = max(low, row[\"error\"])\n",
    "    \n",
    "    \n",
    "df = pd.DataFrame(bounds, columns=[\"low\", \"high\"])\n",
    "df[\"bound\"] = np.maximum(df[\"low\"].abs(), df[\"high\"].abs())\n",
    "\n",
    "# get number of times we reach each threshold\n",
    "freq_df = df.groupby(\"bound\")[[\"low\"]].count().rename({\"low\": \"count\"}, axis=1)\n",
    "freq_df = freq_df.sort_index(ascending=False).cumsum().reset_index()\n",
    "\n",
    "### adjust profit by spread, you have to pay it twice\n",
    "freq_df[\"pnl\"] = (freq_df[\"bound\"] - 2 * spread_fee) * freq_df[\"count\"]"
   ]
  },
  {
   "cell_type": "code",
   "execution_count": null,
   "id": "06122f11",
   "metadata": {
    "ExecuteTime": {
     "end_time": "2023-03-27T22:17:19.513058Z",
     "start_time": "2023-03-27T22:17:19.377886Z"
    }
   },
   "outputs": [],
   "source": [
    "plt.plot(freq_df[\"bound\"], freq_df[\"pnl\"])"
   ]
  },
  {
   "cell_type": "code",
   "execution_count": null,
   "id": "34accc55",
   "metadata": {
    "ExecuteTime": {
     "end_time": "2023-03-27T22:17:20.004442Z",
     "start_time": "2023-03-27T22:17:19.994422Z"
    }
   },
   "outputs": [],
   "source": [
    "freq_df.sort_values(by=\"pnl\", ascending=False).iloc[:20]"
   ]
  },
  {
   "cell_type": "code",
   "execution_count": null,
   "id": "3b729795",
   "metadata": {},
   "outputs": [],
   "source": []
  },
  {
   "cell_type": "code",
   "execution_count": null,
   "id": "3424e579",
   "metadata": {},
   "outputs": [],
   "source": []
  },
  {
   "cell_type": "code",
   "execution_count": null,
   "id": "664e5015",
   "metadata": {},
   "outputs": [],
   "source": []
  },
  {
   "cell_type": "code",
   "execution_count": null,
   "id": "003ef524",
   "metadata": {},
   "outputs": [],
   "source": []
  },
  {
   "cell_type": "code",
   "execution_count": null,
   "id": "06d5f950",
   "metadata": {},
   "outputs": [],
   "source": []
  },
  {
   "cell_type": "code",
   "execution_count": null,
   "id": "a062adfe",
   "metadata": {},
   "outputs": [],
   "source": []
  },
  {
   "cell_type": "code",
   "execution_count": null,
   "id": "31307bfc",
   "metadata": {},
   "outputs": [],
   "source": []
  },
  {
   "cell_type": "code",
   "execution_count": null,
   "id": "0a0e3a2f",
   "metadata": {},
   "outputs": [],
   "source": []
  },
  {
   "cell_type": "code",
   "execution_count": null,
   "id": "0cd012f2",
   "metadata": {},
   "outputs": [],
   "source": []
  },
  {
   "cell_type": "code",
   "execution_count": null,
   "id": "7a71f52f",
   "metadata": {},
   "outputs": [],
   "source": []
  }
 ],
 "metadata": {
  "kernelspec": {
   "display_name": "Python 3 (ipykernel)",
   "language": "python",
   "name": "python3"
  },
  "language_info": {
   "codemirror_mode": {
    "name": "ipython",
    "version": 3
   },
   "file_extension": ".py",
   "mimetype": "text/x-python",
   "name": "python",
   "nbconvert_exporter": "python",
   "pygments_lexer": "ipython3",
   "version": "3.9.16"
  },
  "toc": {
   "base_numbering": 1,
   "nav_menu": {},
   "number_sections": true,
   "sideBar": true,
   "skip_h1_title": false,
   "title_cell": "Table of Contents",
   "title_sidebar": "Contents",
   "toc_cell": false,
   "toc_position": {
    "height": "calc(100% - 180px)",
    "left": "10px",
    "top": "150px",
    "width": "265.391px"
   },
   "toc_section_display": true,
   "toc_window_display": true
  },
  "varInspector": {
   "cols": {
    "lenName": 16,
    "lenType": 16,
    "lenVar": 40
   },
   "kernels_config": {
    "python": {
     "delete_cmd_postfix": "",
     "delete_cmd_prefix": "del ",
     "library": "var_list.py",
     "varRefreshCmd": "print(var_dic_list())"
    },
    "r": {
     "delete_cmd_postfix": ") ",
     "delete_cmd_prefix": "rm(",
     "library": "var_list.r",
     "varRefreshCmd": "cat(var_dic_list()) "
    }
   },
   "types_to_exclude": [
    "module",
    "function",
    "builtin_function_or_method",
    "instance",
    "_Feature"
   ],
   "window_display": false
  }
 },
 "nbformat": 4,
 "nbformat_minor": 5
}
