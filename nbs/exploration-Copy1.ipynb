{
 "cells": [
  {
   "cell_type": "code",
   "execution_count": 30,
   "id": "a576f892",
   "metadata": {
    "ExecuteTime": {
     "end_time": "2023-02-23T04:29:50.031549Z",
     "start_time": "2023-02-23T04:29:50.028256Z"
    }
   },
   "outputs": [],
   "source": [
    "import pandas as pd\n",
    "import numpy as np\n",
    "import json\n",
    "\n",
    "import matplotlib as mpl\n",
    "from matplotlib import pyplot as plt"
   ]
  },
  {
   "cell_type": "code",
   "execution_count": 31,
   "id": "e9d16aaf",
   "metadata": {
    "ExecuteTime": {
     "end_time": "2023-02-23T04:29:50.149491Z",
     "start_time": "2023-02-23T04:29:50.146865Z"
    }
   },
   "outputs": [],
   "source": [
    "from log_parser import process_file\n"
   ]
  },
  {
   "cell_type": "markdown",
   "id": "768952b6",
   "metadata": {},
   "source": [
    "### parameters"
   ]
  },
  {
   "cell_type": "code",
   "execution_count": 32,
   "id": "3fc70842",
   "metadata": {
    "ExecuteTime": {
     "end_time": "2023-02-23T04:29:50.480127Z",
     "start_time": "2023-02-23T04:29:50.476764Z"
    }
   },
   "outputs": [],
   "source": [
    "_fname = \"../replays/local.log\"\n",
    "_time_step = 100\n",
    "_symbols = [\"PEARLS\", \"BANANAS\"]\n",
    "_products = [\"PEARLS\", \"BANANAS\"]\n"
   ]
  },
  {
   "cell_type": "code",
   "execution_count": null,
   "id": "5bb1645c",
   "metadata": {},
   "outputs": [],
   "source": []
  },
  {
   "cell_type": "markdown",
   "id": "dce9471c",
   "metadata": {},
   "source": [
    "### pre processing"
   ]
  },
  {
   "cell_type": "code",
   "execution_count": 33,
   "id": "c212d7c3",
   "metadata": {
    "ExecuteTime": {
     "end_time": "2023-02-23T04:29:51.154066Z",
     "start_time": "2023-02-23T04:29:50.920165Z"
    }
   },
   "outputs": [
    {
     "name": "stdout",
     "output_type": "stream",
     "text": [
      "Reading from input file ../replays/local.log\n"
     ]
    }
   ],
   "source": [
    "# load data from file\n",
    "\n",
    "obj = process_file(_fname)\n",
    "df = pd.DataFrame(obj)\n",
    "\n",
    "listings = pd.DataFrame(df[\"listings\"][0])\n",
    "products = set(listings.T[\"product\"])\n",
    "df = df.drop(\"listings\", axis=1)\n",
    "df = df.rename({\n",
    "    \"timestamp\": \"time\",\n",
    "    \"order_depths\": \"book\",\n",
    "}, axis=1)"
   ]
  },
  {
   "cell_type": "code",
   "execution_count": 34,
   "id": "08f4b802",
   "metadata": {
    "ExecuteTime": {
     "end_time": "2023-02-23T04:29:51.162790Z",
     "start_time": "2023-02-23T04:29:51.156696Z"
    }
   },
   "outputs": [],
   "source": [
    "# add turns (vs time)\n",
    "\n",
    "all_times = df[\"time\"]\n",
    "turn2time_map = all_times.to_dict()\n",
    "time2turn_map = {v: k for k, v in turn2time_map.items()}\n",
    "df[\"turn\"] = df[\"time\"].map(time2turn_map)\n",
    "\n",
    "df.index = df[\"turn\"]"
   ]
  },
  {
   "cell_type": "code",
   "execution_count": 35,
   "id": "c47c6ea6",
   "metadata": {
    "ExecuteTime": {
     "end_time": "2023-02-23T04:29:56.393615Z",
     "start_time": "2023-02-23T04:29:51.221075Z"
    }
   },
   "outputs": [],
   "source": [
    "def process_book(book):\n",
    "    best_buy = {}\n",
    "    best_sell = {}\n",
    "    ret = {}\n",
    "    cols = [\"price\", \"quantity\"]\n",
    "    for sym in _symbols:\n",
    "        orders = {\n",
    "            \"buy\": pd.DataFrame(columns=cols),\n",
    "            \"sell\": pd.DataFrame(columns=cols),\n",
    "        }\n",
    "        \n",
    "        if sym in book:\n",
    "            if \"buy_orders\" in book[sym]:\n",
    "                orders[\"buy\"] = pd.DataFrame(book[sym][\"buy_orders\"].items(), columns=cols).sort_values(by=\"price\", ascending=False)\n",
    "            if \"sell_orders\" in book[sym]:\n",
    "                orders[\"sell\"] = pd.DataFrame(book[sym][\"sell_orders\"].items(), columns=cols).sort_values(by=\"price\", ascending=True)\n",
    "        \n",
    "        ret[sym] = orders\n",
    "        \n",
    "        if len(orders[\"buy\"]) > 0:\n",
    "            best_buy[sym] = orders[\"buy\"][\"price\"][0]\n",
    "        else:\n",
    "            best_buy[sym] = np.nan\n",
    "            \n",
    "        if len(orders[\"sell\"]) > 0:\n",
    "            best_sell[sym] = orders[\"sell\"][\"price\"][0]\n",
    "        else:\n",
    "            best_sell[sym] = np.nan\n",
    "            \n",
    "        \n",
    "    return ret, best_buy, best_sell\n",
    "\n",
    "\n",
    "books = pd.DataFrame(df[\"book\"].apply(process_book).to_list(), columns=[\"book\", \"best_buy\", \"best_sell\"])\n",
    "book_tops = books.drop(\"book\", axis=1)\n",
    "\n",
    "# all book tops\n",
    "book_tops = pd.concat([book_tops[c].apply(pd.Series).add_suffix(f\"_{c}\") for c in book_tops.columns], axis=1).astype(int)\n",
    "\n",
    "for sym in _symbols:\n",
    "    book_tops[f\"{sym}_mid\"] = (book_tops[f\"{sym}_best_buy\"] + book_tops[f\"{sym}_best_sell\"]) / 2\n",
    "    book_tops[f\"{sym}_spread\"] = book_tops[f\"{sym}_best_sell\"] - book_tops[f\"{sym}_best_buy\"]\n",
    "    assert book_tops[f\"{sym}_spread\"].all() > 0\n",
    "\n",
    "# sort columns\n",
    "book_tops = book_tops.reindex(sorted(book_tops.columns), axis=1)\n",
    "book_tops[\"time\"] = df[\"time\"]\n",
    "\n",
    "# all books\n",
    "books = books[\"book\"]"
   ]
  },
  {
   "cell_type": "code",
   "execution_count": 36,
   "id": "b91d7386",
   "metadata": {
    "ExecuteTime": {
     "end_time": "2023-02-23T04:29:56.401134Z",
     "start_time": "2023-02-23T04:29:56.395933Z"
    }
   },
   "outputs": [
    {
     "name": "stdout",
     "output_type": "stream",
     "text": [
      "Orig count: 1000\n",
      "dropna count: 1000\n",
      "nan count: 0\n"
     ]
    }
   ],
   "source": [
    "num_data = len(book_tops.dropna())\n",
    "num_data_dropna = len(book_tops)\n",
    "\n",
    "print(f\"Orig count: {num_data}\")\n",
    "print(f\"dropna count: {num_data_dropna}\")\n",
    "print(f\"nan count: {num_data - num_data_dropna}\")"
   ]
  },
  {
   "cell_type": "code",
   "execution_count": null,
   "id": "68583243",
   "metadata": {},
   "outputs": [],
   "source": []
  },
  {
   "cell_type": "code",
   "execution_count": 37,
   "id": "31596bb8",
   "metadata": {
    "ExecuteTime": {
     "end_time": "2023-02-23T04:29:56.407657Z",
     "start_time": "2023-02-23T04:29:56.402541Z"
    }
   },
   "outputs": [],
   "source": [
    "def flatten_trades(df, col, is_me):\n",
    "    # get market trades\n",
    "\n",
    "    data = []\n",
    "    for index, row  in df.iterrows():\n",
    "        all_trades = list(row[col].values())\n",
    "        for sym_trades in all_trades:\n",
    "            for trade in sym_trades:\n",
    "                trade[\"time\"] = row[\"time\"] # fill time\n",
    "                trade[\"turn\"] = row[\"turn\"] # fill time\n",
    "            data += sym_trades\n",
    "\n",
    "    df = pd.DataFrame(data)\n",
    "    df = df.rename({\"timestamp\": \"order_time\"}, axis=1)\n",
    "    \n",
    "    # calculate info about my trades\n",
    "    df[\"is_me\"] = is_me\n",
    "    df[\"my_action\"] = None\n",
    "    df[\"my_action\"] = np.where(df[\"buyer\"] == \"SUBMISSION\", \"buy\", df[\"my_action\"])\n",
    "    df[\"my_action\"] = np.where(df[\"seller\"] == \"SUBMISSION\", \"sell\", df[\"my_action\"])\n",
    "    df[\"my_quantity\"] = df[\"quantity\"] * df[\"is_me\"].astype(int) * (2 * (df[\"my_action\"] == \"buy\").astype(int) - 1)\n",
    "    \n",
    "    return df"
   ]
  },
  {
   "cell_type": "code",
   "execution_count": 38,
   "id": "9f7eedbd",
   "metadata": {
    "ExecuteTime": {
     "end_time": "2023-02-23T04:29:56.562704Z",
     "start_time": "2023-02-23T04:29:56.410491Z"
    }
   },
   "outputs": [
    {
     "name": "stdout",
     "output_type": "stream",
     "text": [
      "my_trades count 1939\n",
      "market_trades count 0\n"
     ]
    }
   ],
   "source": [
    "# get my_trades, market_trades, and trade_df (all_trades)\n",
    "\n",
    "market_trades = flatten_trades(\n",
    "    df, \n",
    "    \"market_trades\", \n",
    "    is_me=False\n",
    ").sort_values(by=\"time\")\n",
    "\n",
    "my_trades = flatten_trades(\n",
    "    df, \n",
    "    \"own_trades\", \n",
    "    is_me=True\n",
    ").sort_values(by=\"time\")\n",
    "\n",
    "\n",
    "# filter market trades (only keep those where order_time = fill_time)\n",
    "market_trades = market_trades[market_trades[\"time\"] == market_trades[\"order_time\"]]\n",
    "\n",
    "# filter my_trades (only keep those where fill_time = order_time + 100)\n",
    "my_trades = my_trades[my_trades[\"time\"] == my_trades[\"order_time\"] + _time_step]\n",
    "\n",
    "\n",
    "trade_df = pd.concat([market_trades, my_trades])\n",
    "trade_df = trade_df.sort_values(by=\"time\").reset_index(drop=True)\n",
    "# trade_df = trade_df.drop([\"order_time\", \"buyer\", \"seller\"], axis=1)\n",
    "\n",
    "my_trades = trade_df[trade_df[\"is_me\"]]\n",
    "market_trades = trade_df[~trade_df[\"is_me\"]]\n",
    "\n",
    "print(\"my_trades count\", len(my_trades))\n",
    "print(\"market_trades count\", len(market_trades))\n"
   ]
  },
  {
   "cell_type": "code",
   "execution_count": 39,
   "id": "ae3837a5",
   "metadata": {
    "ExecuteTime": {
     "end_time": "2023-02-23T04:29:56.569756Z",
     "start_time": "2023-02-23T04:29:56.564524Z"
    }
   },
   "outputs": [
    {
     "data": {
      "text/plain": [
       "{'BANANAS': [{'buyer': 'SUBMISSION',\n",
       "   'price': 4992,\n",
       "   'quantity': 1,\n",
       "   'seller': '',\n",
       "   'symbol': 'BANANAS',\n",
       "   'timestamp': 0,\n",
       "   'time': 100,\n",
       "   'turn': 1}],\n",
       " 'PEARLS': [{'buyer': '',\n",
       "   'price': 10010,\n",
       "   'quantity': 1,\n",
       "   'seller': 'SUBMISSION',\n",
       "   'symbol': 'PEARLS',\n",
       "   'timestamp': 0,\n",
       "   'time': 100,\n",
       "   'turn': 1}]}"
      ]
     },
     "execution_count": 39,
     "metadata": {},
     "output_type": "execute_result"
    }
   ],
   "source": [
    "df[\"own_trades\"][1]"
   ]
  },
  {
   "cell_type": "code",
   "execution_count": 40,
   "id": "86d5dd17",
   "metadata": {
    "ExecuteTime": {
     "end_time": "2023-02-23T04:29:56.677221Z",
     "start_time": "2023-02-23T04:29:56.571093Z"
    }
   },
   "outputs": [],
   "source": [
    "# get my_positions\n",
    "my_positions = pd.DataFrame(list(df[\"position\"])).fillna(0)\n",
    "\n",
    "# add any products of zero quantity\n",
    "for prod in _products:\n",
    "    if prod not in my_positions:\n",
    "        my_positions[prod] = 0\n",
    "        \n",
    "my_positions[[\"time\", \"turn\"]] = df[[\"time\", \"turn\"]]\n",
    "my_positions = my_positions.sort_values(by=\"time\")\n",
    "\n",
    "# add cash to my_positions\n",
    "cash_data = []\n",
    "cur_cash = 0\n",
    "cur_time = turn2time_map[0]\n",
    "for index, row in my_trades.iterrows():\n",
    "    row_time = row[\"time\"]\n",
    "    while cur_time < row[\"time\"]:\n",
    "        cash_data += [cur_cash]\n",
    "        cur_time = turn2time_map[len(cash_data)]\n",
    "        \n",
    "    cur_cash += -1 * row[\"price\"] * row[\"my_quantity\"]\n",
    "\n",
    "# add for remaining turns\n",
    "while cur_time < max(turn2time_map.values()):\n",
    "    cash_data += [cur_cash]\n",
    "    cur_time = turn2time_map[len(cash_data)]\n",
    "cash_data += [cur_cash]\n",
    "\n",
    "# add to my_positions\n",
    "my_positions[\"cash\"] = cash_data\n",
    "\n",
    "\n",
    "\n",
    "\n"
   ]
  },
  {
   "cell_type": "code",
   "execution_count": null,
   "id": "c5fca960",
   "metadata": {},
   "outputs": [],
   "source": []
  },
  {
   "cell_type": "markdown",
   "id": "96194b84",
   "metadata": {},
   "source": [
    "### Data analysis/vis\n",
    "- for info about trades:\n",
    "    - `trade_df` (all trades)\n",
    "    - `my_trades` (our trades only)\n",
    "    - `market_trades` (other people's trades only, not our trades)\n",
    "- for info about our positions\n",
    "    - `my_positions`"
   ]
  },
  {
   "cell_type": "markdown",
   "id": "4c20ff5e",
   "metadata": {},
   "source": [
    "### todo:\n",
    "- my_positions\n",
    "    - calculate approx product price per turn\n",
    "    - calculate total inventory value + total net worth (aka pnl)\n",
    "- visualize book"
   ]
  },
  {
   "cell_type": "code",
   "execution_count": null,
   "id": "3f2b6616",
   "metadata": {},
   "outputs": [],
   "source": []
  },
  {
   "cell_type": "code",
   "execution_count": null,
   "id": "9485ec3f",
   "metadata": {},
   "outputs": [],
   "source": []
  },
  {
   "cell_type": "code",
   "execution_count": 41,
   "id": "e9040028",
   "metadata": {
    "ExecuteTime": {
     "end_time": "2023-02-23T04:29:56.689092Z",
     "start_time": "2023-02-23T04:29:56.679121Z"
    }
   },
   "outputs": [
    {
     "data": {
      "text/html": [
       "<div>\n",
       "<style scoped>\n",
       "    .dataframe tbody tr th:only-of-type {\n",
       "        vertical-align: middle;\n",
       "    }\n",
       "\n",
       "    .dataframe tbody tr th {\n",
       "        vertical-align: top;\n",
       "    }\n",
       "\n",
       "    .dataframe thead th {\n",
       "        text-align: right;\n",
       "    }\n",
       "</style>\n",
       "<table border=\"1\" class=\"dataframe\">\n",
       "  <thead>\n",
       "    <tr style=\"text-align: right;\">\n",
       "      <th></th>\n",
       "      <th>BANANAS_best_buy</th>\n",
       "      <th>BANANAS_best_sell</th>\n",
       "      <th>BANANAS_mid</th>\n",
       "      <th>BANANAS_spread</th>\n",
       "      <th>PEARLS_best_buy</th>\n",
       "      <th>PEARLS_best_sell</th>\n",
       "      <th>PEARLS_mid</th>\n",
       "      <th>PEARLS_spread</th>\n",
       "      <th>time</th>\n",
       "    </tr>\n",
       "  </thead>\n",
       "  <tbody>\n",
       "    <tr>\n",
       "      <th>0</th>\n",
       "      <td>4992</td>\n",
       "      <td>5012</td>\n",
       "      <td>5002.0</td>\n",
       "      <td>20</td>\n",
       "      <td>9990</td>\n",
       "      <td>10010</td>\n",
       "      <td>10000.0</td>\n",
       "      <td>20</td>\n",
       "      <td>0</td>\n",
       "    </tr>\n",
       "    <tr>\n",
       "      <th>1</th>\n",
       "      <td>4991</td>\n",
       "      <td>5011</td>\n",
       "      <td>5001.0</td>\n",
       "      <td>20</td>\n",
       "      <td>9990</td>\n",
       "      <td>10010</td>\n",
       "      <td>10000.0</td>\n",
       "      <td>20</td>\n",
       "      <td>100</td>\n",
       "    </tr>\n",
       "    <tr>\n",
       "      <th>2</th>\n",
       "      <td>4992</td>\n",
       "      <td>5012</td>\n",
       "      <td>5002.0</td>\n",
       "      <td>20</td>\n",
       "      <td>9990</td>\n",
       "      <td>10010</td>\n",
       "      <td>10000.0</td>\n",
       "      <td>20</td>\n",
       "      <td>200</td>\n",
       "    </tr>\n",
       "    <tr>\n",
       "      <th>3</th>\n",
       "      <td>4994</td>\n",
       "      <td>5014</td>\n",
       "      <td>5004.0</td>\n",
       "      <td>20</td>\n",
       "      <td>9990</td>\n",
       "      <td>10010</td>\n",
       "      <td>10000.0</td>\n",
       "      <td>20</td>\n",
       "      <td>300</td>\n",
       "    </tr>\n",
       "    <tr>\n",
       "      <th>4</th>\n",
       "      <td>4995</td>\n",
       "      <td>5015</td>\n",
       "      <td>5005.0</td>\n",
       "      <td>20</td>\n",
       "      <td>9990</td>\n",
       "      <td>10010</td>\n",
       "      <td>10000.0</td>\n",
       "      <td>20</td>\n",
       "      <td>400</td>\n",
       "    </tr>\n",
       "    <tr>\n",
       "      <th>...</th>\n",
       "      <td>...</td>\n",
       "      <td>...</td>\n",
       "      <td>...</td>\n",
       "      <td>...</td>\n",
       "      <td>...</td>\n",
       "      <td>...</td>\n",
       "      <td>...</td>\n",
       "      <td>...</td>\n",
       "      <td>...</td>\n",
       "    </tr>\n",
       "    <tr>\n",
       "      <th>995</th>\n",
       "      <td>5039</td>\n",
       "      <td>5059</td>\n",
       "      <td>5049.0</td>\n",
       "      <td>20</td>\n",
       "      <td>9990</td>\n",
       "      <td>10010</td>\n",
       "      <td>10000.0</td>\n",
       "      <td>20</td>\n",
       "      <td>99500</td>\n",
       "    </tr>\n",
       "    <tr>\n",
       "      <th>996</th>\n",
       "      <td>5038</td>\n",
       "      <td>5058</td>\n",
       "      <td>5048.0</td>\n",
       "      <td>20</td>\n",
       "      <td>9990</td>\n",
       "      <td>10010</td>\n",
       "      <td>10000.0</td>\n",
       "      <td>20</td>\n",
       "      <td>99600</td>\n",
       "    </tr>\n",
       "    <tr>\n",
       "      <th>997</th>\n",
       "      <td>5038</td>\n",
       "      <td>5058</td>\n",
       "      <td>5048.0</td>\n",
       "      <td>20</td>\n",
       "      <td>9990</td>\n",
       "      <td>10010</td>\n",
       "      <td>10000.0</td>\n",
       "      <td>20</td>\n",
       "      <td>99700</td>\n",
       "    </tr>\n",
       "    <tr>\n",
       "      <th>998</th>\n",
       "      <td>5038</td>\n",
       "      <td>5058</td>\n",
       "      <td>5048.0</td>\n",
       "      <td>20</td>\n",
       "      <td>9990</td>\n",
       "      <td>10010</td>\n",
       "      <td>10000.0</td>\n",
       "      <td>20</td>\n",
       "      <td>99800</td>\n",
       "    </tr>\n",
       "    <tr>\n",
       "      <th>999</th>\n",
       "      <td>5039</td>\n",
       "      <td>5059</td>\n",
       "      <td>5049.0</td>\n",
       "      <td>20</td>\n",
       "      <td>9990</td>\n",
       "      <td>10010</td>\n",
       "      <td>10000.0</td>\n",
       "      <td>20</td>\n",
       "      <td>99900</td>\n",
       "    </tr>\n",
       "  </tbody>\n",
       "</table>\n",
       "<p>1000 rows × 9 columns</p>\n",
       "</div>"
      ],
      "text/plain": [
       "     BANANAS_best_buy  BANANAS_best_sell  BANANAS_mid  BANANAS_spread  \\\n",
       "0                4992               5012       5002.0              20   \n",
       "1                4991               5011       5001.0              20   \n",
       "2                4992               5012       5002.0              20   \n",
       "3                4994               5014       5004.0              20   \n",
       "4                4995               5015       5005.0              20   \n",
       "..                ...                ...          ...             ...   \n",
       "995              5039               5059       5049.0              20   \n",
       "996              5038               5058       5048.0              20   \n",
       "997              5038               5058       5048.0              20   \n",
       "998              5038               5058       5048.0              20   \n",
       "999              5039               5059       5049.0              20   \n",
       "\n",
       "     PEARLS_best_buy  PEARLS_best_sell  PEARLS_mid  PEARLS_spread   time  \n",
       "0               9990             10010     10000.0             20      0  \n",
       "1               9990             10010     10000.0             20    100  \n",
       "2               9990             10010     10000.0             20    200  \n",
       "3               9990             10010     10000.0             20    300  \n",
       "4               9990             10010     10000.0             20    400  \n",
       "..               ...               ...         ...            ...    ...  \n",
       "995             9990             10010     10000.0             20  99500  \n",
       "996             9990             10010     10000.0             20  99600  \n",
       "997             9990             10010     10000.0             20  99700  \n",
       "998             9990             10010     10000.0             20  99800  \n",
       "999             9990             10010     10000.0             20  99900  \n",
       "\n",
       "[1000 rows x 9 columns]"
      ]
     },
     "execution_count": 41,
     "metadata": {},
     "output_type": "execute_result"
    }
   ],
   "source": [
    "book_tops"
   ]
  },
  {
   "cell_type": "code",
   "execution_count": 42,
   "id": "6db8685d",
   "metadata": {
    "ExecuteTime": {
     "end_time": "2023-02-23T04:29:56.700997Z",
     "start_time": "2023-02-23T04:29:56.690741Z"
    }
   },
   "outputs": [
    {
     "data": {
      "text/html": [
       "<div>\n",
       "<style scoped>\n",
       "    .dataframe tbody tr th:only-of-type {\n",
       "        vertical-align: middle;\n",
       "    }\n",
       "\n",
       "    .dataframe tbody tr th {\n",
       "        vertical-align: top;\n",
       "    }\n",
       "\n",
       "    .dataframe thead th {\n",
       "        text-align: right;\n",
       "    }\n",
       "</style>\n",
       "<table border=\"1\" class=\"dataframe\">\n",
       "  <thead>\n",
       "    <tr style=\"text-align: right;\">\n",
       "      <th></th>\n",
       "      <th>time</th>\n",
       "      <th>BANANAS</th>\n",
       "      <th>PEARLS</th>\n",
       "    </tr>\n",
       "  </thead>\n",
       "  <tbody>\n",
       "    <tr>\n",
       "      <th>0</th>\n",
       "      <td>0</td>\n",
       "      <td>5002.0</td>\n",
       "      <td>10000.0</td>\n",
       "    </tr>\n",
       "    <tr>\n",
       "      <th>1</th>\n",
       "      <td>100</td>\n",
       "      <td>5001.0</td>\n",
       "      <td>10000.0</td>\n",
       "    </tr>\n",
       "    <tr>\n",
       "      <th>2</th>\n",
       "      <td>200</td>\n",
       "      <td>5002.0</td>\n",
       "      <td>10000.0</td>\n",
       "    </tr>\n",
       "    <tr>\n",
       "      <th>3</th>\n",
       "      <td>300</td>\n",
       "      <td>5004.0</td>\n",
       "      <td>10000.0</td>\n",
       "    </tr>\n",
       "    <tr>\n",
       "      <th>4</th>\n",
       "      <td>400</td>\n",
       "      <td>5005.0</td>\n",
       "      <td>10000.0</td>\n",
       "    </tr>\n",
       "    <tr>\n",
       "      <th>...</th>\n",
       "      <td>...</td>\n",
       "      <td>...</td>\n",
       "      <td>...</td>\n",
       "    </tr>\n",
       "    <tr>\n",
       "      <th>995</th>\n",
       "      <td>99500</td>\n",
       "      <td>5049.0</td>\n",
       "      <td>10000.0</td>\n",
       "    </tr>\n",
       "    <tr>\n",
       "      <th>996</th>\n",
       "      <td>99600</td>\n",
       "      <td>5048.0</td>\n",
       "      <td>10000.0</td>\n",
       "    </tr>\n",
       "    <tr>\n",
       "      <th>997</th>\n",
       "      <td>99700</td>\n",
       "      <td>5048.0</td>\n",
       "      <td>10000.0</td>\n",
       "    </tr>\n",
       "    <tr>\n",
       "      <th>998</th>\n",
       "      <td>99800</td>\n",
       "      <td>5048.0</td>\n",
       "      <td>10000.0</td>\n",
       "    </tr>\n",
       "    <tr>\n",
       "      <th>999</th>\n",
       "      <td>99900</td>\n",
       "      <td>5049.0</td>\n",
       "      <td>10000.0</td>\n",
       "    </tr>\n",
       "  </tbody>\n",
       "</table>\n",
       "<p>1000 rows × 3 columns</p>\n",
       "</div>"
      ],
      "text/plain": [
       "      time  BANANAS   PEARLS\n",
       "0        0   5002.0  10000.0\n",
       "1      100   5001.0  10000.0\n",
       "2      200   5002.0  10000.0\n",
       "3      300   5004.0  10000.0\n",
       "4      400   5005.0  10000.0\n",
       "..     ...      ...      ...\n",
       "995  99500   5049.0  10000.0\n",
       "996  99600   5048.0  10000.0\n",
       "997  99700   5048.0  10000.0\n",
       "998  99800   5048.0  10000.0\n",
       "999  99900   5049.0  10000.0\n",
       "\n",
       "[1000 rows x 3 columns]"
      ]
     },
     "execution_count": 42,
     "metadata": {},
     "output_type": "execute_result"
    }
   ],
   "source": [
    "# estimate fairs\n",
    "mid_cols = [col for col in book_tops.columns if \"_mid\" in col]\n",
    "fairs = book_tops[[\"time\", *mid_cols]]\n",
    "fairs.columns = fairs.columns.str.strip('_mid')\n",
    "fairs"
   ]
  },
  {
   "cell_type": "code",
   "execution_count": 43,
   "id": "8fc7fc5c",
   "metadata": {
    "ExecuteTime": {
     "end_time": "2023-02-23T04:29:56.706523Z",
     "start_time": "2023-02-23T04:29:56.702667Z"
    }
   },
   "outputs": [],
   "source": [
    "# estimate pnl\n",
    "pnls = my_positions[\"cash\"]\n",
    "\n",
    "for prod in products:\n",
    "    pnls += my_positions[prod] * fairs[prod]\n",
    "    \n",
    "my_positions[\"pnl\"] = pnls"
   ]
  },
  {
   "cell_type": "code",
   "execution_count": 44,
   "id": "071e0ef1",
   "metadata": {
    "ExecuteTime": {
     "end_time": "2023-02-23T04:29:56.719936Z",
     "start_time": "2023-02-23T04:29:56.710115Z"
    }
   },
   "outputs": [
    {
     "data": {
      "text/html": [
       "<div>\n",
       "<style scoped>\n",
       "    .dataframe tbody tr th:only-of-type {\n",
       "        vertical-align: middle;\n",
       "    }\n",
       "\n",
       "    .dataframe tbody tr th {\n",
       "        vertical-align: top;\n",
       "    }\n",
       "\n",
       "    .dataframe thead th {\n",
       "        text-align: right;\n",
       "    }\n",
       "</style>\n",
       "<table border=\"1\" class=\"dataframe\">\n",
       "  <thead>\n",
       "    <tr style=\"text-align: right;\">\n",
       "      <th></th>\n",
       "      <th>BANANAS</th>\n",
       "      <th>PEARLS</th>\n",
       "      <th>time</th>\n",
       "      <th>turn</th>\n",
       "      <th>cash</th>\n",
       "      <th>pnl</th>\n",
       "    </tr>\n",
       "  </thead>\n",
       "  <tbody>\n",
       "    <tr>\n",
       "      <th>0</th>\n",
       "      <td>0</td>\n",
       "      <td>0</td>\n",
       "      <td>0</td>\n",
       "      <td>0</td>\n",
       "      <td>0</td>\n",
       "      <td>0.0</td>\n",
       "    </tr>\n",
       "    <tr>\n",
       "      <th>1</th>\n",
       "      <td>1</td>\n",
       "      <td>-1</td>\n",
       "      <td>100</td>\n",
       "      <td>1</td>\n",
       "      <td>5018</td>\n",
       "      <td>19.0</td>\n",
       "    </tr>\n",
       "    <tr>\n",
       "      <th>2</th>\n",
       "      <td>0</td>\n",
       "      <td>0</td>\n",
       "      <td>200</td>\n",
       "      <td>2</td>\n",
       "      <td>39</td>\n",
       "      <td>39.0</td>\n",
       "    </tr>\n",
       "    <tr>\n",
       "      <th>3</th>\n",
       "      <td>-1</td>\n",
       "      <td>-1</td>\n",
       "      <td>300</td>\n",
       "      <td>3</td>\n",
       "      <td>15061</td>\n",
       "      <td>57.0</td>\n",
       "    </tr>\n",
       "    <tr>\n",
       "      <th>4</th>\n",
       "      <td>0</td>\n",
       "      <td>0</td>\n",
       "      <td>400</td>\n",
       "      <td>4</td>\n",
       "      <td>77</td>\n",
       "      <td>77.0</td>\n",
       "    </tr>\n",
       "    <tr>\n",
       "      <th>...</th>\n",
       "      <td>...</td>\n",
       "      <td>...</td>\n",
       "      <td>...</td>\n",
       "      <td>...</td>\n",
       "      <td>...</td>\n",
       "      <td>...</td>\n",
       "    </tr>\n",
       "    <tr>\n",
       "      <th>995</th>\n",
       "      <td>8</td>\n",
       "      <td>-15</td>\n",
       "      <td>99500</td>\n",
       "      <td>995</td>\n",
       "      <td>129503</td>\n",
       "      <td>19895.0</td>\n",
       "    </tr>\n",
       "    <tr>\n",
       "      <th>996</th>\n",
       "      <td>7</td>\n",
       "      <td>-16</td>\n",
       "      <td>99600</td>\n",
       "      <td>996</td>\n",
       "      <td>144572</td>\n",
       "      <td>19908.0</td>\n",
       "    </tr>\n",
       "    <tr>\n",
       "      <th>997</th>\n",
       "      <td>6</td>\n",
       "      <td>-17</td>\n",
       "      <td>99700</td>\n",
       "      <td>997</td>\n",
       "      <td>159640</td>\n",
       "      <td>19928.0</td>\n",
       "    </tr>\n",
       "    <tr>\n",
       "      <th>998</th>\n",
       "      <td>7</td>\n",
       "      <td>-18</td>\n",
       "      <td>99800</td>\n",
       "      <td>998</td>\n",
       "      <td>164612</td>\n",
       "      <td>19948.0</td>\n",
       "    </tr>\n",
       "    <tr>\n",
       "      <th>999</th>\n",
       "      <td>6</td>\n",
       "      <td>-19</td>\n",
       "      <td>99900</td>\n",
       "      <td>999</td>\n",
       "      <td>179680</td>\n",
       "      <td>19974.0</td>\n",
       "    </tr>\n",
       "  </tbody>\n",
       "</table>\n",
       "<p>1000 rows × 6 columns</p>\n",
       "</div>"
      ],
      "text/plain": [
       "     BANANAS  PEARLS   time  turn    cash      pnl\n",
       "0          0       0      0     0       0      0.0\n",
       "1          1      -1    100     1    5018     19.0\n",
       "2          0       0    200     2      39     39.0\n",
       "3         -1      -1    300     3   15061     57.0\n",
       "4          0       0    400     4      77     77.0\n",
       "..       ...     ...    ...   ...     ...      ...\n",
       "995        8     -15  99500   995  129503  19895.0\n",
       "996        7     -16  99600   996  144572  19908.0\n",
       "997        6     -17  99700   997  159640  19928.0\n",
       "998        7     -18  99800   998  164612  19948.0\n",
       "999        6     -19  99900   999  179680  19974.0\n",
       "\n",
       "[1000 rows x 6 columns]"
      ]
     },
     "execution_count": 44,
     "metadata": {},
     "output_type": "execute_result"
    }
   ],
   "source": [
    "my_positions"
   ]
  },
  {
   "cell_type": "code",
   "execution_count": 45,
   "id": "70149a31",
   "metadata": {
    "ExecuteTime": {
     "end_time": "2023-02-23T04:29:56.734383Z",
     "start_time": "2023-02-23T04:29:56.721942Z"
    }
   },
   "outputs": [
    {
     "data": {
      "text/html": [
       "<div>\n",
       "<style scoped>\n",
       "    .dataframe tbody tr th:only-of-type {\n",
       "        vertical-align: middle;\n",
       "    }\n",
       "\n",
       "    .dataframe tbody tr th {\n",
       "        vertical-align: top;\n",
       "    }\n",
       "\n",
       "    .dataframe thead th {\n",
       "        text-align: right;\n",
       "    }\n",
       "</style>\n",
       "<table border=\"1\" class=\"dataframe\">\n",
       "  <thead>\n",
       "    <tr style=\"text-align: right;\">\n",
       "      <th></th>\n",
       "      <th>BANANAS_best_buy</th>\n",
       "      <th>BANANAS_best_sell</th>\n",
       "      <th>BANANAS_mid</th>\n",
       "      <th>BANANAS_spread</th>\n",
       "      <th>PEARLS_best_buy</th>\n",
       "      <th>PEARLS_best_sell</th>\n",
       "      <th>PEARLS_mid</th>\n",
       "      <th>PEARLS_spread</th>\n",
       "      <th>time</th>\n",
       "    </tr>\n",
       "  </thead>\n",
       "  <tbody>\n",
       "    <tr>\n",
       "      <th>0</th>\n",
       "      <td>4992</td>\n",
       "      <td>5012</td>\n",
       "      <td>5002.0</td>\n",
       "      <td>20</td>\n",
       "      <td>9990</td>\n",
       "      <td>10010</td>\n",
       "      <td>10000.0</td>\n",
       "      <td>20</td>\n",
       "      <td>0</td>\n",
       "    </tr>\n",
       "    <tr>\n",
       "      <th>1</th>\n",
       "      <td>4991</td>\n",
       "      <td>5011</td>\n",
       "      <td>5001.0</td>\n",
       "      <td>20</td>\n",
       "      <td>9990</td>\n",
       "      <td>10010</td>\n",
       "      <td>10000.0</td>\n",
       "      <td>20</td>\n",
       "      <td>100</td>\n",
       "    </tr>\n",
       "    <tr>\n",
       "      <th>2</th>\n",
       "      <td>4992</td>\n",
       "      <td>5012</td>\n",
       "      <td>5002.0</td>\n",
       "      <td>20</td>\n",
       "      <td>9990</td>\n",
       "      <td>10010</td>\n",
       "      <td>10000.0</td>\n",
       "      <td>20</td>\n",
       "      <td>200</td>\n",
       "    </tr>\n",
       "    <tr>\n",
       "      <th>3</th>\n",
       "      <td>4994</td>\n",
       "      <td>5014</td>\n",
       "      <td>5004.0</td>\n",
       "      <td>20</td>\n",
       "      <td>9990</td>\n",
       "      <td>10010</td>\n",
       "      <td>10000.0</td>\n",
       "      <td>20</td>\n",
       "      <td>300</td>\n",
       "    </tr>\n",
       "    <tr>\n",
       "      <th>4</th>\n",
       "      <td>4995</td>\n",
       "      <td>5015</td>\n",
       "      <td>5005.0</td>\n",
       "      <td>20</td>\n",
       "      <td>9990</td>\n",
       "      <td>10010</td>\n",
       "      <td>10000.0</td>\n",
       "      <td>20</td>\n",
       "      <td>400</td>\n",
       "    </tr>\n",
       "    <tr>\n",
       "      <th>...</th>\n",
       "      <td>...</td>\n",
       "      <td>...</td>\n",
       "      <td>...</td>\n",
       "      <td>...</td>\n",
       "      <td>...</td>\n",
       "      <td>...</td>\n",
       "      <td>...</td>\n",
       "      <td>...</td>\n",
       "      <td>...</td>\n",
       "    </tr>\n",
       "    <tr>\n",
       "      <th>995</th>\n",
       "      <td>5039</td>\n",
       "      <td>5059</td>\n",
       "      <td>5049.0</td>\n",
       "      <td>20</td>\n",
       "      <td>9990</td>\n",
       "      <td>10010</td>\n",
       "      <td>10000.0</td>\n",
       "      <td>20</td>\n",
       "      <td>99500</td>\n",
       "    </tr>\n",
       "    <tr>\n",
       "      <th>996</th>\n",
       "      <td>5038</td>\n",
       "      <td>5058</td>\n",
       "      <td>5048.0</td>\n",
       "      <td>20</td>\n",
       "      <td>9990</td>\n",
       "      <td>10010</td>\n",
       "      <td>10000.0</td>\n",
       "      <td>20</td>\n",
       "      <td>99600</td>\n",
       "    </tr>\n",
       "    <tr>\n",
       "      <th>997</th>\n",
       "      <td>5038</td>\n",
       "      <td>5058</td>\n",
       "      <td>5048.0</td>\n",
       "      <td>20</td>\n",
       "      <td>9990</td>\n",
       "      <td>10010</td>\n",
       "      <td>10000.0</td>\n",
       "      <td>20</td>\n",
       "      <td>99700</td>\n",
       "    </tr>\n",
       "    <tr>\n",
       "      <th>998</th>\n",
       "      <td>5038</td>\n",
       "      <td>5058</td>\n",
       "      <td>5048.0</td>\n",
       "      <td>20</td>\n",
       "      <td>9990</td>\n",
       "      <td>10010</td>\n",
       "      <td>10000.0</td>\n",
       "      <td>20</td>\n",
       "      <td>99800</td>\n",
       "    </tr>\n",
       "    <tr>\n",
       "      <th>999</th>\n",
       "      <td>5039</td>\n",
       "      <td>5059</td>\n",
       "      <td>5049.0</td>\n",
       "      <td>20</td>\n",
       "      <td>9990</td>\n",
       "      <td>10010</td>\n",
       "      <td>10000.0</td>\n",
       "      <td>20</td>\n",
       "      <td>99900</td>\n",
       "    </tr>\n",
       "  </tbody>\n",
       "</table>\n",
       "<p>1000 rows × 9 columns</p>\n",
       "</div>"
      ],
      "text/plain": [
       "     BANANAS_best_buy  BANANAS_best_sell  BANANAS_mid  BANANAS_spread  \\\n",
       "0                4992               5012       5002.0              20   \n",
       "1                4991               5011       5001.0              20   \n",
       "2                4992               5012       5002.0              20   \n",
       "3                4994               5014       5004.0              20   \n",
       "4                4995               5015       5005.0              20   \n",
       "..                ...                ...          ...             ...   \n",
       "995              5039               5059       5049.0              20   \n",
       "996              5038               5058       5048.0              20   \n",
       "997              5038               5058       5048.0              20   \n",
       "998              5038               5058       5048.0              20   \n",
       "999              5039               5059       5049.0              20   \n",
       "\n",
       "     PEARLS_best_buy  PEARLS_best_sell  PEARLS_mid  PEARLS_spread   time  \n",
       "0               9990             10010     10000.0             20      0  \n",
       "1               9990             10010     10000.0             20    100  \n",
       "2               9990             10010     10000.0             20    200  \n",
       "3               9990             10010     10000.0             20    300  \n",
       "4               9990             10010     10000.0             20    400  \n",
       "..               ...               ...         ...            ...    ...  \n",
       "995             9990             10010     10000.0             20  99500  \n",
       "996             9990             10010     10000.0             20  99600  \n",
       "997             9990             10010     10000.0             20  99700  \n",
       "998             9990             10010     10000.0             20  99800  \n",
       "999             9990             10010     10000.0             20  99900  \n",
       "\n",
       "[1000 rows x 9 columns]"
      ]
     },
     "execution_count": 45,
     "metadata": {},
     "output_type": "execute_result"
    }
   ],
   "source": [
    "book_tops"
   ]
  },
  {
   "cell_type": "code",
   "execution_count": 46,
   "id": "755a73c2",
   "metadata": {
    "ExecuteTime": {
     "end_time": "2023-02-23T04:29:56.741783Z",
     "start_time": "2023-02-23T04:29:56.736453Z"
    }
   },
   "outputs": [],
   "source": [
    "# plot trades\n",
    "def plot_trades_and_book(sym):\n",
    "\n",
    "    plt_df = trade_df[trade_df[\"symbol\"] == sym]\n",
    "\n",
    "    my_buys = plt_df[plt_df[\"my_quantity\"] > 0]\n",
    "    my_sells = plt_df[plt_df[\"my_quantity\"] < 0]\n",
    "    their_trades = plt_df[plt_df[\"my_quantity\"] == 0]\n",
    "\n",
    "    plt.scatter(my_buys[\"time\"], my_buys[\"price\"], c=\"green\", s=25)\n",
    "    plt.scatter(my_sells[\"time\"], my_sells[\"price\"], c=\"red\", s=25)\n",
    "    plt.scatter(their_trades[\"time\"], their_trades[\"price\"], c=\"gray\", s=10)\n",
    "\n",
    "\n",
    "    # plot book\n",
    "    plt.plot(df[\"time\"], book_tops[f\"{sym}_best_buy\"], c=\"green\", alpha=0.5, linewidth=0.5)\n",
    "    plt.plot(df[\"time\"], book_tops[f\"{sym}_best_sell\"], c=\"red\", alpha=0.5, linewidth=0.5)\n",
    "    plt.plot(df[\"time\"], book_tops[f\"{sym}_mid\"], c=\"black\", alpha=0.5, linewidth=0.5)\n",
    "    plt.title(f\"Trades and book: {sym}\")\n",
    "    plt.show()"
   ]
  },
  {
   "cell_type": "code",
   "execution_count": 47,
   "id": "76814a65",
   "metadata": {
    "ExecuteTime": {
     "end_time": "2023-02-23T04:29:57.068948Z",
     "start_time": "2023-02-23T04:29:56.743813Z"
    }
   },
   "outputs": [
    {
     "data": {
      "image/png": "[encoded data removed]",
      "text/plain": [
       "<Figure size 640x480 with 1 Axes>"
      ]
     },
     "metadata": {},
     "output_type": "display_data"
    },
    {
     "data": {
      "image/png": "[encoded data removed]",
      "text/plain": [
       "<Figure size 640x480 with 1 Axes>"
      ]
     },
     "metadata": {},
     "output_type": "display_data"
    }
   ],
   "source": [
    "plot_trades_and_book(sym=\"BANANAS\")\n",
    "plot_trades_and_book(sym=\"PEARLS\")"
   ]
  },
  {
   "cell_type": "code",
   "execution_count": 48,
   "id": "2648effb",
   "metadata": {
    "ExecuteTime": {
     "end_time": "2023-02-23T04:29:57.212515Z",
     "start_time": "2023-02-23T04:29:57.071090Z"
    }
   },
   "outputs": [
    {
     "data": {
      "text/plain": [
       "[<matplotlib.lines.Line2D at 0x1196dfb80>]"
      ]
     },
     "execution_count": 48,
     "metadata": {},
     "output_type": "execute_result"
    },
    {
     "data": {
      "image/png": "[encoded data removed]",
      "text/plain": [
       "<Figure size 640x480 with 1 Axes>"
      ]
     },
     "metadata": {},
     "output_type": "display_data"
    }
   ],
   "source": [
    "plt.plot(my_positions[\"time\"], my_positions[\"pnl\"])"
   ]
  },
  {
   "cell_type": "code",
   "execution_count": 49,
   "id": "4e22cf5b",
   "metadata": {
    "ExecuteTime": {
     "end_time": "2023-02-23T04:29:57.369399Z",
     "start_time": "2023-02-23T04:29:57.214552Z"
    }
   },
   "outputs": [
    {
     "data": {
      "image/png": "[encoded data removed]",
      "text/plain": [
       "<Figure size 640x480 with 1 Axes>"
      ]
     },
     "metadata": {},
     "output_type": "display_data"
    }
   ],
   "source": [
    "# plot my positions in each product\n",
    "\n",
    "plt.plot(my_positions[\"time\"], my_positions[\"PEARLS\"], label=\"PEARLS\")\n",
    "plt.plot(my_positions[\"time\"], my_positions[\"BANANAS\"], label=\"BANANAS\")\n",
    "plt.title(\"My positions\")\n",
    "plt.legend()\n",
    "plt.show()"
   ]
  },
  {
   "cell_type": "code",
   "execution_count": 52,
   "id": "629db29a",
   "metadata": {
    "ExecuteTime": {
     "end_time": "2023-02-23T04:31:04.636236Z",
     "start_time": "2023-02-23T04:31:04.628490Z"
    }
   },
   "outputs": [
    {
     "data": {
      "text/plain": [
       "count    999.000000\n",
       "mean       1.000009\n",
       "std        0.000264\n",
       "min        0.999204\n",
       "25%        0.999801\n",
       "50%        1.000000\n",
       "75%        1.000199\n",
       "max        1.000799\n",
       "Name: BANANAS_mid, dtype: float64"
      ]
     },
     "execution_count": 52,
     "metadata": {},
     "output_type": "execute_result"
    }
   ],
   "source": [
    "col = book_tops[\"BANANAS_mid\"]\n",
    "diffs = (col.shift(-1) / col).dropna()\n",
    "diffs.describe()"
   ]
  },
  {
   "cell_type": "code",
   "execution_count": null,
   "id": "b72e4777",
   "metadata": {},
   "outputs": [],
   "source": []
  },
  {
   "cell_type": "code",
   "execution_count": null,
   "id": "df5e35d1",
   "metadata": {},
   "outputs": [],
   "source": []
  },
  {
   "cell_type": "code",
   "execution_count": null,
   "id": "85477c2f",
   "metadata": {},
   "outputs": [],
   "source": []
  }
 ],
 "metadata": {
  "kernelspec": {
   "display_name": "Python 3 (ipykernel)",
   "language": "python",
   "name": "python3"
  },
  "language_info": {
   "codemirror_mode": {
    "name": "ipython",
    "version": 3
   },
   "file_extension": ".py",
   "mimetype": "text/x-python",
   "name": "python",
   "nbconvert_exporter": "python",
   "pygments_lexer": "ipython3",
   "version": "3.9.16"
  }
 },
 "nbformat": 4,
 "nbformat_minor": 5
}
