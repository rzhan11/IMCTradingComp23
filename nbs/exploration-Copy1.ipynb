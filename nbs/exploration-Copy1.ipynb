{
 "cells": [
  {
   "cell_type": "code",
   "execution_count": 1,
   "id": "a576f892",
   "metadata": {
    "ExecuteTime": {
     "end_time": "2023-02-20T20:14:33.752398Z",
     "start_time": "2023-02-20T20:14:32.153784Z"
    }
   },
   "outputs": [],
   "source": [
    "import pandas as pd\n",
    "import numpy as np\n",
    "import json\n",
    "\n",
    "import matplotlib as mpl\n",
    "from matplotlib import pyplot as plt"
   ]
  },
  {
   "cell_type": "code",
   "execution_count": 2,
   "id": "e9d16aaf",
   "metadata": {
    "ExecuteTime": {
     "end_time": "2023-02-20T20:14:33.760085Z",
     "start_time": "2023-02-20T20:14:33.754876Z"
    }
   },
   "outputs": [],
   "source": [
    "from log_parser import process_file\n"
   ]
  },
  {
   "cell_type": "markdown",
   "id": "768952b6",
   "metadata": {},
   "source": [
    "### parameters"
   ]
  },
  {
   "cell_type": "code",
   "execution_count": 3,
   "id": "3fc70842",
   "metadata": {
    "ExecuteTime": {
     "end_time": "2023-02-20T20:14:33.765998Z",
     "start_time": "2023-02-20T20:14:33.762572Z"
    }
   },
   "outputs": [],
   "source": [
    "_fname = \"../replays/local.log\"\n",
    "_time_step = 100\n",
    "_symbols = [\"PEARLS\", \"BANANAS\"]\n",
    "_products = [\"PEARLS\", \"BANANAS\"]\n"
   ]
  },
  {
   "cell_type": "code",
   "execution_count": null,
   "id": "5bb1645c",
   "metadata": {},
   "outputs": [],
   "source": []
  },
  {
   "cell_type": "markdown",
   "id": "dce9471c",
   "metadata": {},
   "source": [
    "### pre processing"
   ]
  },
  {
   "cell_type": "code",
   "execution_count": 4,
   "id": "c212d7c3",
   "metadata": {
    "ExecuteTime": {
     "end_time": "2023-02-20T20:14:33.832350Z",
     "start_time": "2023-02-20T20:14:33.770003Z"
    }
   },
   "outputs": [
    {
     "name": "stdout",
     "output_type": "stream",
     "text": [
      "Reading from input file ../replays/local.log\n"
     ]
    }
   ],
   "source": [
    "# load data from file\n",
    "\n",
    "obj = process_file(_fname)\n",
    "df = pd.DataFrame(obj)\n",
    "\n",
    "listings = pd.DataFrame(df[\"listings\"][0])\n",
    "df = df.drop(\"listings\", axis=1)\n",
    "df = df.rename({\n",
    "    \"timestamp\": \"time\",\n",
    "    \"order_depths\": \"book\",\n",
    "}, axis=1)"
   ]
  },
  {
   "cell_type": "code",
   "execution_count": 5,
   "id": "08f4b802",
   "metadata": {
    "ExecuteTime": {
     "end_time": "2023-02-20T20:14:33.840943Z",
     "start_time": "2023-02-20T20:14:33.834535Z"
    }
   },
   "outputs": [],
   "source": [
    "# add turns (vs time)\n",
    "\n",
    "all_times = df[\"time\"]\n",
    "turn2time_map = all_times.to_dict()\n",
    "time2turn_map = {v: k for k, v in turn2time_map.items()}\n",
    "df[\"turn\"] = df[\"time\"].map(time2turn_map)\n",
    "\n",
    "df.index = df[\"turn\"]"
   ]
  },
  {
   "cell_type": "code",
   "execution_count": 6,
   "id": "c47c6ea6",
   "metadata": {
    "ExecuteTime": {
     "end_time": "2023-02-20T20:14:44.440830Z",
     "start_time": "2023-02-20T20:14:33.843518Z"
    }
   },
   "outputs": [],
   "source": [
    "def process_book(book):\n",
    "    best_buy = {}\n",
    "    best_sell = {}\n",
    "    ret = {}\n",
    "    cols = [\"price\", \"quantity\"]\n",
    "    for sym in _symbols:\n",
    "        orders = {\n",
    "            \"buy\": pd.DataFrame(columns=cols),\n",
    "            \"sell\": pd.DataFrame(columns=cols),\n",
    "        }\n",
    "        \n",
    "        if sym in book:\n",
    "            if \"buy_orders\" in book[sym]:\n",
    "                orders[\"buy\"] = pd.DataFrame(book[sym][\"buy_orders\"].items(), columns=cols).sort_values(by=\"price\", ascending=False)\n",
    "            if \"sell_orders\" in book[sym]:\n",
    "                orders[\"sell\"] = pd.DataFrame(book[sym][\"sell_orders\"].items(), columns=cols).sort_values(by=\"price\", ascending=True)\n",
    "        \n",
    "        ret[sym] = orders\n",
    "        \n",
    "        if len(orders[\"buy\"]) > 0:\n",
    "            best_buy[sym] = orders[\"buy\"][\"price\"][0]\n",
    "        else:\n",
    "            best_buy[sym] = np.nan\n",
    "            \n",
    "        if len(orders[\"sell\"]) > 0:\n",
    "            best_sell[sym] = orders[\"sell\"][\"price\"][0]\n",
    "        else:\n",
    "            best_sell[sym] = np.nan\n",
    "            \n",
    "        \n",
    "    return ret, best_buy, best_sell\n",
    "\n",
    "\n",
    "books = pd.DataFrame(df[\"book\"].apply(process_book).to_list(), columns=[\"book\", \"best_buy\", \"best_sell\"])\n",
    "book_tops = books.drop(\"book\", axis=1)\n",
    "\n",
    "# all book tops\n",
    "book_tops = pd.concat([book_tops[c].apply(pd.Series).add_suffix(f\"_{c}\") for c in book_tops.columns], axis=1).astype(int)\n",
    "\n",
    "for sym in _symbols:\n",
    "    book_tops[f\"{sym}_mid\"] = (book_tops[f\"{sym}_best_buy\"] + book_tops[f\"{sym}_best_sell\"]) / 2\n",
    "    book_tops[f\"{sym}_spread\"] = book_tops[f\"{sym}_best_sell\"] - book_tops[f\"{sym}_best_buy\"]\n",
    "    assert book_tops[f\"{sym}_spread\"].all() > 0\n",
    "\n",
    "# sort columns\n",
    "book_tops = book_tops.reindex(sorted(book_tops.columns), axis=1)\n",
    "\n",
    "\n",
    "# all books\n",
    "books = books[\"book\"]"
   ]
  },
  {
   "cell_type": "code",
   "execution_count": 7,
   "id": "b91d7386",
   "metadata": {
    "ExecuteTime": {
     "end_time": "2023-02-20T20:14:44.447480Z",
     "start_time": "2023-02-20T20:14:44.442333Z"
    }
   },
   "outputs": [
    {
     "name": "stdout",
     "output_type": "stream",
     "text": [
      "Orig count: 2000\n",
      "dropna count: 2000\n",
      "nan count: 0\n"
     ]
    }
   ],
   "source": [
    "num_data = len(book_tops.dropna())\n",
    "num_data_dropna = len(book_tops)\n",
    "\n",
    "print(f\"Orig count: {num_data}\")\n",
    "print(f\"dropna count: {num_data_dropna}\")\n",
    "print(f\"nan count: {num_data - num_data_dropna}\")"
   ]
  },
  {
   "cell_type": "code",
   "execution_count": null,
   "id": "68583243",
   "metadata": {},
   "outputs": [],
   "source": []
  },
  {
   "cell_type": "code",
   "execution_count": 8,
   "id": "31596bb8",
   "metadata": {
    "ExecuteTime": {
     "end_time": "2023-02-20T20:14:44.454826Z",
     "start_time": "2023-02-20T20:14:44.449434Z"
    }
   },
   "outputs": [],
   "source": [
    "def flatten_trades(df, col, is_me):\n",
    "    # get market trades\n",
    "\n",
    "    data = []\n",
    "    for index, row  in df.iterrows():\n",
    "        all_trades = list(row[col].values())\n",
    "        for sym_trades in all_trades:\n",
    "            for trade in sym_trades:\n",
    "                trade[\"time\"] = row[\"time\"] # fill time\n",
    "                trade[\"turn\"] = row[\"turn\"] # fill time\n",
    "            data += sym_trades\n",
    "\n",
    "    df = pd.DataFrame(data)\n",
    "    df = df.rename({\"timestamp\": \"order_time\"}, axis=1)\n",
    "    \n",
    "    # calculate info about my trades\n",
    "    df[\"is_me\"] = is_me\n",
    "    df[\"my_action\"] = np.where(df[\"buyer\"] == \"SUBMISSION\", \"buy\", None)\n",
    "    df[\"my_action\"] = np.where(df[\"seller\"] == \"SUBMISSION\", \"sell\", None)\n",
    "    df[\"my_quantity\"] = df[\"quantity\"] * df[\"is_me\"].astype(int) * (2 * (df[\"my_action\"] == \"buy\").astype(int) - 1)\n",
    "    \n",
    "    return df"
   ]
  },
  {
   "cell_type": "code",
   "execution_count": 9,
   "id": "87f04bf4",
   "metadata": {
    "ExecuteTime": {
     "end_time": "2023-02-20T20:14:44.467297Z",
     "start_time": "2023-02-20T20:14:44.457103Z"
    }
   },
   "outputs": [
    {
     "data": {
      "text/plain": [
       "turn\n",
       "0                           {'BANANAS': [], 'PEARLS': []}\n",
       "1       {'BANANAS': [], 'PEARLS': [{'buyer': 'SUBMISSI...\n",
       "2       {'BANANAS': [], 'PEARLS': [{'buyer': 'SUBMISSI...\n",
       "3       {'BANANAS': [], 'PEARLS': [{'buyer': 'SUBMISSI...\n",
       "4       {'BANANAS': [], 'PEARLS': [{'buyer': 'SUBMISSI...\n",
       "                              ...                        \n",
       "1995                        {'BANANAS': [], 'PEARLS': []}\n",
       "1996                        {'BANANAS': [], 'PEARLS': []}\n",
       "1997                        {'BANANAS': [], 'PEARLS': []}\n",
       "1998                        {'BANANAS': [], 'PEARLS': []}\n",
       "1999                        {'BANANAS': [], 'PEARLS': []}\n",
       "Name: own_trades, Length: 2000, dtype: object"
      ]
     },
     "execution_count": 9,
     "metadata": {},
     "output_type": "execute_result"
    }
   ],
   "source": [
    "df[\"own_trades\"]"
   ]
  },
  {
   "cell_type": "code",
   "execution_count": null,
   "id": "b78e4d2f",
   "metadata": {},
   "outputs": [],
   "source": []
  },
  {
   "cell_type": "code",
   "execution_count": 10,
   "id": "9f7eedbd",
   "metadata": {
    "ExecuteTime": {
     "end_time": "2023-02-20T20:14:44.691720Z",
     "start_time": "2023-02-20T20:14:44.471653Z"
    }
   },
   "outputs": [],
   "source": [
    "# get my_trades, market_trades, and trade_df (all_trades)\n",
    "\n",
    "market_trades = flatten_trades(\n",
    "    df, \n",
    "    \"market_trades\", \n",
    "    is_me=False\n",
    ").sort_values(by=\"time\")\n",
    "\n",
    "my_trades = flatten_trades(\n",
    "    df, \n",
    "    \"own_trades\", \n",
    "    is_me=True\n",
    ").sort_values(by=\"time\")\n",
    "\n",
    "\n",
    "# filter market trades (only keep those where order_time = fill_time)\n",
    "market_trades = market_trades[market_trades[\"time\"] == market_trades[\"order_time\"]]\n",
    "\n",
    "# filter my_trades (only keep those where fill_time = order_time + 100)\n",
    "my_trades = my_trades[my_trades[\"time\"] == my_trades[\"order_time\"] + _time_step]\n",
    "\n",
    "\n",
    "trade_df = pd.concat([market_trades, my_trades])\n",
    "trade_df = trade_df.sort_values(by=\"time\").reset_index(drop=True)\n",
    "trade_df = trade_df.drop([\"order_time\", \"buyer\", \"seller\"], axis=1)\n",
    "\n",
    "my_trades = trade_df[trade_df[\"is_me\"]]\n",
    "market_trades = trade_df[~trade_df[\"is_me\"]]\n"
   ]
  },
  {
   "cell_type": "code",
   "execution_count": 11,
   "id": "86d5dd17",
   "metadata": {
    "ExecuteTime": {
     "end_time": "2023-02-20T20:14:44.756265Z",
     "start_time": "2023-02-20T20:14:44.693756Z"
    }
   },
   "outputs": [],
   "source": [
    "# get my_positions\n",
    "my_positions = pd.DataFrame(list(df[\"position\"])).fillna(0)\n",
    "\n",
    "# add any products of zero quantity\n",
    "for prod in _products:\n",
    "    if prod not in my_positions:\n",
    "        my_positions[prod] = 0\n",
    "        \n",
    "my_positions[[\"time\", \"turn\"]] = df[[\"time\", \"turn\"]]\n",
    "my_positions = my_positions.sort_values(by=\"time\")\n",
    "\n",
    "# add cash to my_positions\n",
    "cash_data = []\n",
    "cur_cash = 0\n",
    "cur_time = turn2time_map[0]\n",
    "for index, row in my_trades.iterrows():\n",
    "    row_time = row[\"time\"]\n",
    "    while cur_time < row[\"time\"]:\n",
    "        cash_data += [cur_cash]\n",
    "        cur_time = turn2time_map[len(cash_data)]\n",
    "        \n",
    "    cur_cash += -1 * row[\"price\"] * row[\"my_quantity\"]\n",
    "\n",
    "# add for remaining turns\n",
    "while cur_time < max(turn2time_map.values()):\n",
    "    cash_data += [cur_cash]\n",
    "    cur_time = turn2time_map[len(cash_data)]\n",
    "cash_data += [cur_cash]\n",
    "\n",
    "# add to my_positions\n",
    "my_positions[\"cash\"] = cash_data\n",
    "\n",
    "\n",
    "\n",
    "\n"
   ]
  },
  {
   "cell_type": "code",
   "execution_count": null,
   "id": "c389c0a3",
   "metadata": {},
   "outputs": [],
   "source": []
  },
  {
   "cell_type": "markdown",
   "id": "96194b84",
   "metadata": {},
   "source": [
    "### Data analysis/vis\n",
    "- for info about trades:\n",
    "    - `trade_df` (all trades)\n",
    "    - `my_trades` (our trades only)\n",
    "    - `market_trades` (other people's trades only, not our trades)\n",
    "- for info about our positions\n",
    "    - `my_positions`"
   ]
  },
  {
   "cell_type": "markdown",
   "id": "4c20ff5e",
   "metadata": {},
   "source": [
    "### todo:\n",
    "- my_positions\n",
    "    - calculate approx product price per turn\n",
    "    - calculate total inventory value + total net worth (aka pnl)\n",
    "- visualize book"
   ]
  },
  {
   "cell_type": "code",
   "execution_count": null,
   "id": "c5828633",
   "metadata": {},
   "outputs": [],
   "source": []
  },
  {
   "cell_type": "code",
   "execution_count": 12,
   "id": "755a73c2",
   "metadata": {
    "ExecuteTime": {
     "end_time": "2023-02-20T20:14:45.012328Z",
     "start_time": "2023-02-20T20:14:44.757929Z"
    }
   },
   "outputs": [
    {
     "data": {
      "text/plain": [
       "[<matplotlib.lines.Line2D at 0x11a1d3070>]"
      ]
     },
     "execution_count": 12,
     "metadata": {},
     "output_type": "execute_result"
    },
    {
     "data": {
      "image/png": "[encoded data removed]",
      "text/plain": [
       "<Figure size 640x480 with 1 Axes>"
      ]
     },
     "metadata": {},
     "output_type": "display_data"
    }
   ],
   "source": [
    "# plot trades\n",
    "\n",
    "sym = \"BANANAS\"\n",
    "\n",
    "plt_df = trade_df[trade_df[\"symbol\"] == sym]\n",
    "\n",
    "my_buys = plt_df[plt_df[\"my_quantity\"] > 0]\n",
    "my_sells = plt_df[plt_df[\"my_quantity\"] < 0]\n",
    "their_trades = plt_df[plt_df[\"my_quantity\"] == 0]\n",
    "\n",
    "plt.scatter(my_buys[\"time\"], my_buys[\"price\"], c=\"green\", s=25)\n",
    "plt.scatter(my_sells[\"time\"], my_sells[\"price\"], c=\"red\", s=25)\n",
    "plt.scatter(their_trades[\"time\"], their_trades[\"price\"], c=\"gray\", s=10)\n",
    "\n",
    "\n",
    "# plot book\n",
    "plt.plot(df[\"time\"], book_tops[f\"{sym}_best_buy\"], c=\"green\", alpha=0.5, linewidth=0.5)\n",
    "plt.plot(df[\"time\"], book_tops[f\"{sym}_best_sell\"], c=\"red\", alpha=0.5, linewidth=0.5)"
   ]
  },
  {
   "cell_type": "code",
   "execution_count": 13,
   "id": "2c776233",
   "metadata": {
    "ExecuteTime": {
     "end_time": "2023-02-20T20:14:45.179281Z",
     "start_time": "2023-02-20T20:14:45.014084Z"
    }
   },
   "outputs": [
    {
     "data": {
      "text/plain": [
       "[<matplotlib.lines.Line2D at 0x119e30400>]"
      ]
     },
     "execution_count": 13,
     "metadata": {},
     "output_type": "execute_result"
    },
    {
     "data": {
      "image/png": "[encoded data removed]",
      "text/plain": [
       "<Figure size 640x480 with 1 Axes>"
      ]
     },
     "metadata": {},
     "output_type": "display_data"
    }
   ],
   "source": [
    "# plot trades\n",
    "\n",
    "sym = \"PEARLS\"\n",
    "\n",
    "plt_df = trade_df[trade_df[\"symbol\"] == sym]\n",
    "\n",
    "my_buys = plt_df[plt_df[\"my_quantity\"] > 0]\n",
    "my_sells = plt_df[plt_df[\"my_quantity\"] < 0]\n",
    "their_trades = plt_df[plt_df[\"my_quantity\"] == 0]\n",
    "\n",
    "plt.scatter(my_buys[\"time\"], my_buys[\"price\"], c=\"green\", s=25)\n",
    "plt.scatter(my_sells[\"time\"], my_sells[\"price\"], c=\"red\", s=25)\n",
    "\n",
    "plt.scatter(their_trades[\"time\"], their_trades[\"price\"], c=\"gray\", s=10)\n",
    "\n",
    "\n",
    "# plot book\n",
    "plt.plot(df[\"time\"], book_tops[f\"{sym}_best_buy\"], c=\"green\", alpha=0.5, linewidth=0.5)\n",
    "plt.plot(df[\"time\"], book_tops[f\"{sym}_best_sell\"], c=\"red\", alpha=0.5, linewidth=0.5)"
   ]
  },
  {
   "cell_type": "code",
   "execution_count": 14,
   "id": "4e22cf5b",
   "metadata": {
    "ExecuteTime": {
     "end_time": "2023-02-20T20:14:45.302280Z",
     "start_time": "2023-02-20T20:14:45.180676Z"
    }
   },
   "outputs": [
    {
     "data": {
      "text/plain": [
       "[<matplotlib.lines.Line2D at 0x119d2e460>]"
      ]
     },
     "execution_count": 14,
     "metadata": {},
     "output_type": "execute_result"
    },
    {
     "data": {
      "image/png": "[encoded data removed]",
      "text/plain": [
       "<Figure size 640x480 with 1 Axes>"
      ]
     },
     "metadata": {},
     "output_type": "display_data"
    }
   ],
   "source": [
    "# plot my positions in each product\n",
    "\n",
    "plt.plot(my_positions[\"time\"], my_positions[\"PEARLS\"])"
   ]
  },
  {
   "cell_type": "code",
   "execution_count": 15,
   "id": "39e7275d",
   "metadata": {
    "ExecuteTime": {
     "end_time": "2023-02-20T20:14:45.438781Z",
     "start_time": "2023-02-20T20:14:45.304697Z"
    }
   },
   "outputs": [
    {
     "data": {
      "text/plain": [
       "[<matplotlib.lines.Line2D at 0x119e04370>]"
      ]
     },
     "execution_count": 15,
     "metadata": {},
     "output_type": "execute_result"
    },
    {
     "data": {
      "image/png": "[encoded data removed]",
      "text/plain": [
       "<Figure size 640x480 with 1 Axes>"
      ]
     },
     "metadata": {},
     "output_type": "display_data"
    }
   ],
   "source": [
    "# plot my positions in each product\n",
    "\n",
    "# plt.bar(my_positions[\"time\"], my_positions[\"BANANAS\"])\n",
    "plt.plot(my_positions[\"time\"], my_positions[\"BANANAS\"])"
   ]
  },
  {
   "cell_type": "code",
   "execution_count": null,
   "id": "d3d1c91d",
   "metadata": {},
   "outputs": [],
   "source": []
  },
  {
   "cell_type": "code",
   "execution_count": 16,
   "id": "17923e6f",
   "metadata": {
    "ExecuteTime": {
     "end_time": "2023-02-20T20:14:45.452131Z",
     "start_time": "2023-02-20T20:14:45.441141Z"
    }
   },
   "outputs": [
    {
     "data": {
      "text/html": [
       "<div>\n",
       "<style scoped>\n",
       "    .dataframe tbody tr th:only-of-type {\n",
       "        vertical-align: middle;\n",
       "    }\n",
       "\n",
       "    .dataframe tbody tr th {\n",
       "        vertical-align: top;\n",
       "    }\n",
       "\n",
       "    .dataframe thead th {\n",
       "        text-align: right;\n",
       "    }\n",
       "</style>\n",
       "<table border=\"1\" class=\"dataframe\">\n",
       "  <thead>\n",
       "    <tr style=\"text-align: right;\">\n",
       "      <th></th>\n",
       "      <th>BANANAS</th>\n",
       "      <th>PEARLS</th>\n",
       "      <th>time</th>\n",
       "      <th>turn</th>\n",
       "      <th>cash</th>\n",
       "    </tr>\n",
       "  </thead>\n",
       "  <tbody>\n",
       "    <tr>\n",
       "      <th>0</th>\n",
       "      <td>0</td>\n",
       "      <td>0</td>\n",
       "      <td>0</td>\n",
       "      <td>0</td>\n",
       "      <td>0</td>\n",
       "    </tr>\n",
       "    <tr>\n",
       "      <th>1</th>\n",
       "      <td>0</td>\n",
       "      <td>1</td>\n",
       "      <td>100</td>\n",
       "      <td>1</td>\n",
       "      <td>10010</td>\n",
       "    </tr>\n",
       "    <tr>\n",
       "      <th>2</th>\n",
       "      <td>0</td>\n",
       "      <td>2</td>\n",
       "      <td>200</td>\n",
       "      <td>2</td>\n",
       "      <td>20020</td>\n",
       "    </tr>\n",
       "    <tr>\n",
       "      <th>3</th>\n",
       "      <td>0</td>\n",
       "      <td>3</td>\n",
       "      <td>300</td>\n",
       "      <td>3</td>\n",
       "      <td>30030</td>\n",
       "    </tr>\n",
       "    <tr>\n",
       "      <th>4</th>\n",
       "      <td>0</td>\n",
       "      <td>4</td>\n",
       "      <td>400</td>\n",
       "      <td>4</td>\n",
       "      <td>40040</td>\n",
       "    </tr>\n",
       "    <tr>\n",
       "      <th>...</th>\n",
       "      <td>...</td>\n",
       "      <td>...</td>\n",
       "      <td>...</td>\n",
       "      <td>...</td>\n",
       "      <td>...</td>\n",
       "    </tr>\n",
       "    <tr>\n",
       "      <th>1995</th>\n",
       "      <td>0</td>\n",
       "      <td>20</td>\n",
       "      <td>199500</td>\n",
       "      <td>1995</td>\n",
       "      <td>200200</td>\n",
       "    </tr>\n",
       "    <tr>\n",
       "      <th>1996</th>\n",
       "      <td>0</td>\n",
       "      <td>20</td>\n",
       "      <td>199600</td>\n",
       "      <td>1996</td>\n",
       "      <td>200200</td>\n",
       "    </tr>\n",
       "    <tr>\n",
       "      <th>1997</th>\n",
       "      <td>0</td>\n",
       "      <td>20</td>\n",
       "      <td>199700</td>\n",
       "      <td>1997</td>\n",
       "      <td>200200</td>\n",
       "    </tr>\n",
       "    <tr>\n",
       "      <th>1998</th>\n",
       "      <td>0</td>\n",
       "      <td>20</td>\n",
       "      <td>199800</td>\n",
       "      <td>1998</td>\n",
       "      <td>200200</td>\n",
       "    </tr>\n",
       "    <tr>\n",
       "      <th>1999</th>\n",
       "      <td>0</td>\n",
       "      <td>20</td>\n",
       "      <td>199900</td>\n",
       "      <td>1999</td>\n",
       "      <td>200200</td>\n",
       "    </tr>\n",
       "  </tbody>\n",
       "</table>\n",
       "<p>2000 rows × 5 columns</p>\n",
       "</div>"
      ],
      "text/plain": [
       "      BANANAS  PEARLS    time  turn    cash\n",
       "0           0       0       0     0       0\n",
       "1           0       1     100     1   10010\n",
       "2           0       2     200     2   20020\n",
       "3           0       3     300     3   30030\n",
       "4           0       4     400     4   40040\n",
       "...       ...     ...     ...   ...     ...\n",
       "1995        0      20  199500  1995  200200\n",
       "1996        0      20  199600  1996  200200\n",
       "1997        0      20  199700  1997  200200\n",
       "1998        0      20  199800  1998  200200\n",
       "1999        0      20  199900  1999  200200\n",
       "\n",
       "[2000 rows x 5 columns]"
      ]
     },
     "execution_count": 16,
     "metadata": {},
     "output_type": "execute_result"
    }
   ],
   "source": [
    "my_positions"
   ]
  },
  {
   "cell_type": "code",
   "execution_count": 17,
   "id": "38ab55e5",
   "metadata": {
    "ExecuteTime": {
     "end_time": "2023-02-20T20:14:45.460933Z",
     "start_time": "2023-02-20T20:14:45.454567Z"
    }
   },
   "outputs": [
    {
     "data": {
      "text/plain": [
       "set()"
      ]
     },
     "execution_count": 17,
     "metadata": {},
     "output_type": "execute_result"
    }
   ],
   "source": [
    "set(i for i in range(0, 200000, 100)) - set(df[\"time\"])"
   ]
  },
  {
   "cell_type": "code",
   "execution_count": 18,
   "id": "220d9aac",
   "metadata": {
    "ExecuteTime": {
     "end_time": "2023-02-20T20:14:45.466904Z",
     "start_time": "2023-02-20T20:14:45.463092Z"
    }
   },
   "outputs": [
    {
     "data": {
      "text/plain": [
       "{'buy_orders': {'4995': 2}, 'sell_orders': {'5005': 2}}"
      ]
     },
     "execution_count": 18,
     "metadata": {},
     "output_type": "execute_result"
    }
   ],
   "source": [
    "df[\"book\"][0][\"BANANAS\"]"
   ]
  },
  {
   "cell_type": "code",
   "execution_count": 19,
   "id": "dcef733e",
   "metadata": {
    "ExecuteTime": {
     "end_time": "2023-02-20T20:14:45.475912Z",
     "start_time": "2023-02-20T20:14:45.469127Z"
    }
   },
   "outputs": [
    {
     "data": {
      "text/html": [
       "<div>\n",
       "<style scoped>\n",
       "    .dataframe tbody tr th:only-of-type {\n",
       "        vertical-align: middle;\n",
       "    }\n",
       "\n",
       "    .dataframe tbody tr th {\n",
       "        vertical-align: top;\n",
       "    }\n",
       "\n",
       "    .dataframe thead th {\n",
       "        text-align: right;\n",
       "    }\n",
       "</style>\n",
       "<table border=\"1\" class=\"dataframe\">\n",
       "  <thead>\n",
       "    <tr style=\"text-align: right;\">\n",
       "      <th></th>\n",
       "      <th>BANANAS</th>\n",
       "      <th>PEARLS</th>\n",
       "    </tr>\n",
       "  </thead>\n",
       "  <tbody>\n",
       "    <tr>\n",
       "      <th>denomination</th>\n",
       "      <td>1</td>\n",
       "      <td>1</td>\n",
       "    </tr>\n",
       "    <tr>\n",
       "      <th>product</th>\n",
       "      <td>BANANAS</td>\n",
       "      <td>PEARLS</td>\n",
       "    </tr>\n",
       "    <tr>\n",
       "      <th>symbol</th>\n",
       "      <td>BANANAS</td>\n",
       "      <td>PEARLS</td>\n",
       "    </tr>\n",
       "  </tbody>\n",
       "</table>\n",
       "</div>"
      ],
      "text/plain": [
       "              BANANAS  PEARLS\n",
       "denomination        1       1\n",
       "product       BANANAS  PEARLS\n",
       "symbol        BANANAS  PEARLS"
      ]
     },
     "execution_count": 19,
     "metadata": {},
     "output_type": "execute_result"
    }
   ],
   "source": [
    "listings"
   ]
  },
  {
   "cell_type": "code",
   "execution_count": 20,
   "id": "91c7cdb1",
   "metadata": {
    "ExecuteTime": {
     "end_time": "2023-02-20T20:14:45.532166Z",
     "start_time": "2023-02-20T20:14:45.478227Z"
    }
   },
   "outputs": [
    {
     "data": {
      "text/html": [
       "<div>\n",
       "<style scoped>\n",
       "    .dataframe tbody tr th:only-of-type {\n",
       "        vertical-align: middle;\n",
       "    }\n",
       "\n",
       "    .dataframe tbody tr th {\n",
       "        vertical-align: top;\n",
       "    }\n",
       "\n",
       "    .dataframe thead th {\n",
       "        text-align: right;\n",
       "    }\n",
       "</style>\n",
       "<table border=\"1\" class=\"dataframe\">\n",
       "  <thead>\n",
       "    <tr style=\"text-align: right;\">\n",
       "      <th></th>\n",
       "      <th>market_trades</th>\n",
       "      <th>observations</th>\n",
       "      <th>book</th>\n",
       "      <th>own_trades</th>\n",
       "      <th>position</th>\n",
       "      <th>time</th>\n",
       "      <th>turn</th>\n",
       "    </tr>\n",
       "    <tr>\n",
       "      <th>turn</th>\n",
       "      <th></th>\n",
       "      <th></th>\n",
       "      <th></th>\n",
       "      <th></th>\n",
       "      <th></th>\n",
       "      <th></th>\n",
       "      <th></th>\n",
       "    </tr>\n",
       "  </thead>\n",
       "  <tbody>\n",
       "    <tr>\n",
       "      <th>0</th>\n",
       "      <td>{'BANANAS': [], 'PEARLS': []}</td>\n",
       "      <td>{}</td>\n",
       "      <td>{'BANANAS': {'buy_orders': {'4995': 2}, 'sell_...</td>\n",
       "      <td>{'BANANAS': [], 'PEARLS': []}</td>\n",
       "      <td>{'BANANAS': 0, 'PEARLS': 0}</td>\n",
       "      <td>0</td>\n",
       "      <td>0</td>\n",
       "    </tr>\n",
       "    <tr>\n",
       "      <th>1</th>\n",
       "      <td>{'BANANAS': [{'buyer': '', 'price': 5005, 'qua...</td>\n",
       "      <td>{}</td>\n",
       "      <td>{'BANANAS': {'buy_orders': {'4995': 2}, 'sell_...</td>\n",
       "      <td>{'BANANAS': [], 'PEARLS': [{'buyer': 'SUBMISSI...</td>\n",
       "      <td>{'BANANAS': 0, 'PEARLS': 1}</td>\n",
       "      <td>100</td>\n",
       "      <td>1</td>\n",
       "    </tr>\n",
       "    <tr>\n",
       "      <th>2</th>\n",
       "      <td>{'BANANAS': [{'buyer': '', 'price': 5005, 'qua...</td>\n",
       "      <td>{}</td>\n",
       "      <td>{'BANANAS': {'buy_orders': {'4995': 2}, 'sell_...</td>\n",
       "      <td>{'BANANAS': [], 'PEARLS': [{'buyer': 'SUBMISSI...</td>\n",
       "      <td>{'BANANAS': 0, 'PEARLS': 2}</td>\n",
       "      <td>200</td>\n",
       "      <td>2</td>\n",
       "    </tr>\n",
       "    <tr>\n",
       "      <th>3</th>\n",
       "      <td>{'BANANAS': [{'buyer': '', 'price': 4995, 'qua...</td>\n",
       "      <td>{}</td>\n",
       "      <td>{'BANANAS': {'buy_orders': {'4995': 2}, 'sell_...</td>\n",
       "      <td>{'BANANAS': [], 'PEARLS': [{'buyer': 'SUBMISSI...</td>\n",
       "      <td>{'BANANAS': 0, 'PEARLS': 3}</td>\n",
       "      <td>300</td>\n",
       "      <td>3</td>\n",
       "    </tr>\n",
       "    <tr>\n",
       "      <th>4</th>\n",
       "      <td>{'BANANAS': [{'buyer': '', 'price': 5005, 'qua...</td>\n",
       "      <td>{}</td>\n",
       "      <td>{'BANANAS': {'buy_orders': {'4995': 2}, 'sell_...</td>\n",
       "      <td>{'BANANAS': [], 'PEARLS': [{'buyer': 'SUBMISSI...</td>\n",
       "      <td>{'BANANAS': 0, 'PEARLS': 4}</td>\n",
       "      <td>400</td>\n",
       "      <td>4</td>\n",
       "    </tr>\n",
       "    <tr>\n",
       "      <th>...</th>\n",
       "      <td>...</td>\n",
       "      <td>...</td>\n",
       "      <td>...</td>\n",
       "      <td>...</td>\n",
       "      <td>...</td>\n",
       "      <td>...</td>\n",
       "      <td>...</td>\n",
       "    </tr>\n",
       "    <tr>\n",
       "      <th>1995</th>\n",
       "      <td>{'BANANAS': [{'buyer': '', 'price': 4995, 'qua...</td>\n",
       "      <td>{}</td>\n",
       "      <td>{'BANANAS': {'buy_orders': {'4995': 2}, 'sell_...</td>\n",
       "      <td>{'BANANAS': [], 'PEARLS': []}</td>\n",
       "      <td>{'BANANAS': 0, 'PEARLS': 20}</td>\n",
       "      <td>199500</td>\n",
       "      <td>1995</td>\n",
       "    </tr>\n",
       "    <tr>\n",
       "      <th>1996</th>\n",
       "      <td>{'BANANAS': [{'buyer': '', 'price': 5005, 'qua...</td>\n",
       "      <td>{}</td>\n",
       "      <td>{'BANANAS': {'buy_orders': {'4995': 2}, 'sell_...</td>\n",
       "      <td>{'BANANAS': [], 'PEARLS': []}</td>\n",
       "      <td>{'BANANAS': 0, 'PEARLS': 20}</td>\n",
       "      <td>199600</td>\n",
       "      <td>1996</td>\n",
       "    </tr>\n",
       "    <tr>\n",
       "      <th>1997</th>\n",
       "      <td>{'BANANAS': [{'buyer': '', 'price': 5005, 'qua...</td>\n",
       "      <td>{}</td>\n",
       "      <td>{'BANANAS': {'buy_orders': {'4995': 2}, 'sell_...</td>\n",
       "      <td>{'BANANAS': [], 'PEARLS': []}</td>\n",
       "      <td>{'BANANAS': 0, 'PEARLS': 20}</td>\n",
       "      <td>199700</td>\n",
       "      <td>1997</td>\n",
       "    </tr>\n",
       "    <tr>\n",
       "      <th>1998</th>\n",
       "      <td>{'BANANAS': [{'buyer': '', 'price': 5005, 'qua...</td>\n",
       "      <td>{}</td>\n",
       "      <td>{'BANANAS': {'buy_orders': {'4995': 2}, 'sell_...</td>\n",
       "      <td>{'BANANAS': [], 'PEARLS': []}</td>\n",
       "      <td>{'BANANAS': 0, 'PEARLS': 20}</td>\n",
       "      <td>199800</td>\n",
       "      <td>1998</td>\n",
       "    </tr>\n",
       "    <tr>\n",
       "      <th>1999</th>\n",
       "      <td>{'BANANAS': [{'buyer': '', 'price': 5005, 'qua...</td>\n",
       "      <td>{}</td>\n",
       "      <td>{'BANANAS': {'buy_orders': {'4995': 2}, 'sell_...</td>\n",
       "      <td>{'BANANAS': [], 'PEARLS': []}</td>\n",
       "      <td>{'BANANAS': 0, 'PEARLS': 20}</td>\n",
       "      <td>199900</td>\n",
       "      <td>1999</td>\n",
       "    </tr>\n",
       "  </tbody>\n",
       "</table>\n",
       "<p>2000 rows × 7 columns</p>\n",
       "</div>"
      ],
      "text/plain": [
       "                                          market_trades observations  \\\n",
       "turn                                                                   \n",
       "0                         {'BANANAS': [], 'PEARLS': []}           {}   \n",
       "1     {'BANANAS': [{'buyer': '', 'price': 5005, 'qua...           {}   \n",
       "2     {'BANANAS': [{'buyer': '', 'price': 5005, 'qua...           {}   \n",
       "3     {'BANANAS': [{'buyer': '', 'price': 4995, 'qua...           {}   \n",
       "4     {'BANANAS': [{'buyer': '', 'price': 5005, 'qua...           {}   \n",
       "...                                                 ...          ...   \n",
       "1995  {'BANANAS': [{'buyer': '', 'price': 4995, 'qua...           {}   \n",
       "1996  {'BANANAS': [{'buyer': '', 'price': 5005, 'qua...           {}   \n",
       "1997  {'BANANAS': [{'buyer': '', 'price': 5005, 'qua...           {}   \n",
       "1998  {'BANANAS': [{'buyer': '', 'price': 5005, 'qua...           {}   \n",
       "1999  {'BANANAS': [{'buyer': '', 'price': 5005, 'qua...           {}   \n",
       "\n",
       "                                                   book  \\\n",
       "turn                                                      \n",
       "0     {'BANANAS': {'buy_orders': {'4995': 2}, 'sell_...   \n",
       "1     {'BANANAS': {'buy_orders': {'4995': 2}, 'sell_...   \n",
       "2     {'BANANAS': {'buy_orders': {'4995': 2}, 'sell_...   \n",
       "3     {'BANANAS': {'buy_orders': {'4995': 2}, 'sell_...   \n",
       "4     {'BANANAS': {'buy_orders': {'4995': 2}, 'sell_...   \n",
       "...                                                 ...   \n",
       "1995  {'BANANAS': {'buy_orders': {'4995': 2}, 'sell_...   \n",
       "1996  {'BANANAS': {'buy_orders': {'4995': 2}, 'sell_...   \n",
       "1997  {'BANANAS': {'buy_orders': {'4995': 2}, 'sell_...   \n",
       "1998  {'BANANAS': {'buy_orders': {'4995': 2}, 'sell_...   \n",
       "1999  {'BANANAS': {'buy_orders': {'4995': 2}, 'sell_...   \n",
       "\n",
       "                                             own_trades  \\\n",
       "turn                                                      \n",
       "0                         {'BANANAS': [], 'PEARLS': []}   \n",
       "1     {'BANANAS': [], 'PEARLS': [{'buyer': 'SUBMISSI...   \n",
       "2     {'BANANAS': [], 'PEARLS': [{'buyer': 'SUBMISSI...   \n",
       "3     {'BANANAS': [], 'PEARLS': [{'buyer': 'SUBMISSI...   \n",
       "4     {'BANANAS': [], 'PEARLS': [{'buyer': 'SUBMISSI...   \n",
       "...                                                 ...   \n",
       "1995                      {'BANANAS': [], 'PEARLS': []}   \n",
       "1996                      {'BANANAS': [], 'PEARLS': []}   \n",
       "1997                      {'BANANAS': [], 'PEARLS': []}   \n",
       "1998                      {'BANANAS': [], 'PEARLS': []}   \n",
       "1999                      {'BANANAS': [], 'PEARLS': []}   \n",
       "\n",
       "                          position    time  turn  \n",
       "turn                                              \n",
       "0      {'BANANAS': 0, 'PEARLS': 0}       0     0  \n",
       "1      {'BANANAS': 0, 'PEARLS': 1}     100     1  \n",
       "2      {'BANANAS': 0, 'PEARLS': 2}     200     2  \n",
       "3      {'BANANAS': 0, 'PEARLS': 3}     300     3  \n",
       "4      {'BANANAS': 0, 'PEARLS': 4}     400     4  \n",
       "...                            ...     ...   ...  \n",
       "1995  {'BANANAS': 0, 'PEARLS': 20}  199500  1995  \n",
       "1996  {'BANANAS': 0, 'PEARLS': 20}  199600  1996  \n",
       "1997  {'BANANAS': 0, 'PEARLS': 20}  199700  1997  \n",
       "1998  {'BANANAS': 0, 'PEARLS': 20}  199800  1998  \n",
       "1999  {'BANANAS': 0, 'PEARLS': 20}  199900  1999  \n",
       "\n",
       "[2000 rows x 7 columns]"
      ]
     },
     "execution_count": 20,
     "metadata": {},
     "output_type": "execute_result"
    }
   ],
   "source": [
    "df"
   ]
  },
  {
   "cell_type": "code",
   "execution_count": null,
   "id": "b72e4777",
   "metadata": {},
   "outputs": [],
   "source": []
  }
 ],
 "metadata": {
  "kernelspec": {
   "display_name": "Python 3 (ipykernel)",
   "language": "python",
   "name": "python3"
  },
  "language_info": {
   "codemirror_mode": {
    "name": "ipython",
    "version": 3
   },
   "file_extension": ".py",
   "mimetype": "text/x-python",
   "name": "python",
   "nbconvert_exporter": "python",
   "pygments_lexer": "ipython3",
   "version": "3.9.16"
  }
 },
 "nbformat": 4,
 "nbformat_minor": 5
}
