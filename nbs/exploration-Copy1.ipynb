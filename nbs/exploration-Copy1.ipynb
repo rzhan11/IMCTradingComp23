{
 "cells": [
  {
   "cell_type": "code",
   "execution_count": 1,
   "id": "a576f892",
   "metadata": {
    "ExecuteTime": {
     "end_time": "2023-02-22T18:34:44.182828Z",
     "start_time": "2023-02-22T18:34:42.764499Z"
    }
   },
   "outputs": [],
   "source": [
    "import pandas as pd\n",
    "import numpy as np\n",
    "import json\n",
    "\n",
    "import matplotlib as mpl\n",
    "from matplotlib import pyplot as plt"
   ]
  },
  {
   "cell_type": "code",
   "execution_count": 2,
   "id": "e9d16aaf",
   "metadata": {
    "ExecuteTime": {
     "end_time": "2023-02-22T18:34:44.188202Z",
     "start_time": "2023-02-22T18:34:44.185400Z"
    }
   },
   "outputs": [],
   "source": [
    "from log_parser import process_file\n"
   ]
  },
  {
   "cell_type": "markdown",
   "id": "768952b6",
   "metadata": {},
   "source": [
    "### parameters"
   ]
  },
  {
   "cell_type": "code",
   "execution_count": 3,
   "id": "3fc70842",
   "metadata": {
    "ExecuteTime": {
     "end_time": "2023-02-22T18:34:44.192468Z",
     "start_time": "2023-02-22T18:34:44.190077Z"
    }
   },
   "outputs": [],
   "source": [
    "_fname = \"../replays/local.log\"\n",
    "_time_step = 100\n",
    "_symbols = [\"PEARLS\", \"BANANAS\"]\n",
    "_products = [\"PEARLS\", \"BANANAS\"]\n"
   ]
  },
  {
   "cell_type": "code",
   "execution_count": null,
   "id": "5bb1645c",
   "metadata": {},
   "outputs": [],
   "source": []
  },
  {
   "cell_type": "markdown",
   "id": "dce9471c",
   "metadata": {},
   "source": [
    "### pre processing"
   ]
  },
  {
   "cell_type": "code",
   "execution_count": 80,
   "id": "c212d7c3",
   "metadata": {
    "ExecuteTime": {
     "end_time": "2023-02-22T18:46:44.895362Z",
     "start_time": "2023-02-22T18:46:44.889326Z"
    }
   },
   "outputs": [
    {
     "name": "stdout",
     "output_type": "stream",
     "text": [
      "Reading from input file ../replays/local.log\n"
     ]
    }
   ],
   "source": [
    "# load data from file\n",
    "\n",
    "obj = process_file(_fname)\n",
    "df = pd.DataFrame(obj)\n",
    "\n",
    "listings = pd.DataFrame(df[\"listings\"][0])\n",
    "products = set(listings.T[\"product\"])\n",
    "df = df.drop(\"listings\", axis=1)\n",
    "df = df.rename({\n",
    "    \"timestamp\": \"time\",\n",
    "    \"order_depths\": \"book\",\n",
    "}, axis=1)"
   ]
  },
  {
   "cell_type": "code",
   "execution_count": 27,
   "id": "08f4b802",
   "metadata": {
    "ExecuteTime": {
     "end_time": "2023-02-22T18:37:59.425271Z",
     "start_time": "2023-02-22T18:37:59.421070Z"
    }
   },
   "outputs": [],
   "source": [
    "# add turns (vs time)\n",
    "\n",
    "all_times = df[\"time\"]\n",
    "turn2time_map = all_times.to_dict()\n",
    "time2turn_map = {v: k for k, v in turn2time_map.items()}\n",
    "df[\"turn\"] = df[\"time\"].map(time2turn_map)\n",
    "\n",
    "df.index = df[\"turn\"]"
   ]
  },
  {
   "cell_type": "code",
   "execution_count": 68,
   "id": "c47c6ea6",
   "metadata": {
    "ExecuteTime": {
     "end_time": "2023-02-22T18:44:54.950169Z",
     "start_time": "2023-02-22T18:44:54.873507Z"
    }
   },
   "outputs": [],
   "source": [
    "def process_book(book):\n",
    "    best_buy = {}\n",
    "    best_sell = {}\n",
    "    ret = {}\n",
    "    cols = [\"price\", \"quantity\"]\n",
    "    for sym in _symbols:\n",
    "        orders = {\n",
    "            \"buy\": pd.DataFrame(columns=cols),\n",
    "            \"sell\": pd.DataFrame(columns=cols),\n",
    "        }\n",
    "        \n",
    "        if sym in book:\n",
    "            if \"buy_orders\" in book[sym]:\n",
    "                orders[\"buy\"] = pd.DataFrame(book[sym][\"buy_orders\"].items(), columns=cols).sort_values(by=\"price\", ascending=False)\n",
    "            if \"sell_orders\" in book[sym]:\n",
    "                orders[\"sell\"] = pd.DataFrame(book[sym][\"sell_orders\"].items(), columns=cols).sort_values(by=\"price\", ascending=True)\n",
    "        \n",
    "        ret[sym] = orders\n",
    "        \n",
    "        if len(orders[\"buy\"]) > 0:\n",
    "            best_buy[sym] = orders[\"buy\"][\"price\"][0]\n",
    "        else:\n",
    "            best_buy[sym] = np.nan\n",
    "            \n",
    "        if len(orders[\"sell\"]) > 0:\n",
    "            best_sell[sym] = orders[\"sell\"][\"price\"][0]\n",
    "        else:\n",
    "            best_sell[sym] = np.nan\n",
    "            \n",
    "        \n",
    "    return ret, best_buy, best_sell\n",
    "\n",
    "\n",
    "books = pd.DataFrame(df[\"book\"].apply(process_book).to_list(), columns=[\"book\", \"best_buy\", \"best_sell\"])\n",
    "book_tops = books.drop(\"book\", axis=1)\n",
    "\n",
    "# all book tops\n",
    "book_tops = pd.concat([book_tops[c].apply(pd.Series).add_suffix(f\"_{c}\") for c in book_tops.columns], axis=1).astype(int)\n",
    "\n",
    "for sym in _symbols:\n",
    "    book_tops[f\"{sym}_mid\"] = (book_tops[f\"{sym}_best_buy\"] + book_tops[f\"{sym}_best_sell\"]) / 2\n",
    "    book_tops[f\"{sym}_spread\"] = book_tops[f\"{sym}_best_sell\"] - book_tops[f\"{sym}_best_buy\"]\n",
    "    assert book_tops[f\"{sym}_spread\"].all() > 0\n",
    "\n",
    "# sort columns\n",
    "book_tops = book_tops.reindex(sorted(book_tops.columns), axis=1)\n",
    "book_tops[\"time\"] = df[\"time\"]\n",
    "\n",
    "# all books\n",
    "books = books[\"book\"]"
   ]
  },
  {
   "cell_type": "code",
   "execution_count": 69,
   "id": "b91d7386",
   "metadata": {
    "ExecuteTime": {
     "end_time": "2023-02-22T18:44:55.232778Z",
     "start_time": "2023-02-22T18:44:55.228831Z"
    }
   },
   "outputs": [
    {
     "name": "stdout",
     "output_type": "stream",
     "text": [
      "Orig count: 10\n",
      "dropna count: 10\n",
      "nan count: 0\n"
     ]
    }
   ],
   "source": [
    "num_data = len(book_tops.dropna())\n",
    "num_data_dropna = len(book_tops)\n",
    "\n",
    "print(f\"Orig count: {num_data}\")\n",
    "print(f\"dropna count: {num_data_dropna}\")\n",
    "print(f\"nan count: {num_data - num_data_dropna}\")"
   ]
  },
  {
   "cell_type": "code",
   "execution_count": null,
   "id": "68583243",
   "metadata": {},
   "outputs": [],
   "source": []
  },
  {
   "cell_type": "code",
   "execution_count": 70,
   "id": "31596bb8",
   "metadata": {
    "ExecuteTime": {
     "end_time": "2023-02-22T18:44:56.392822Z",
     "start_time": "2023-02-22T18:44:56.387405Z"
    }
   },
   "outputs": [],
   "source": [
    "def flatten_trades(df, col, is_me):\n",
    "    # get market trades\n",
    "\n",
    "    data = []\n",
    "    for index, row  in df.iterrows():\n",
    "        all_trades = list(row[col].values())\n",
    "        for sym_trades in all_trades:\n",
    "            for trade in sym_trades:\n",
    "                trade[\"time\"] = row[\"time\"] # fill time\n",
    "                trade[\"turn\"] = row[\"turn\"] # fill time\n",
    "            data += sym_trades\n",
    "\n",
    "    df = pd.DataFrame(data)\n",
    "    df = df.rename({\"timestamp\": \"order_time\"}, axis=1)\n",
    "    \n",
    "    # calculate info about my trades\n",
    "    df[\"is_me\"] = is_me\n",
    "    df[\"my_action\"] = None\n",
    "    df[\"my_action\"] = np.where(df[\"buyer\"] == \"SUBMISSION\", \"buy\", df[\"my_action\"])\n",
    "    df[\"my_action\"] = np.where(df[\"seller\"] == \"SUBMISSION\", \"sell\", df[\"my_action\"])\n",
    "    df[\"my_quantity\"] = df[\"quantity\"] * df[\"is_me\"].astype(int) * (2 * (df[\"my_action\"] == \"buy\").astype(int) - 1)\n",
    "    \n",
    "    return df"
   ]
  },
  {
   "cell_type": "code",
   "execution_count": 71,
   "id": "9f7eedbd",
   "metadata": {
    "ExecuteTime": {
     "end_time": "2023-02-22T18:44:56.991726Z",
     "start_time": "2023-02-22T18:44:56.976836Z"
    }
   },
   "outputs": [],
   "source": [
    "# get my_trades, market_trades, and trade_df (all_trades)\n",
    "\n",
    "market_trades = flatten_trades(\n",
    "    df, \n",
    "    \"market_trades\", \n",
    "    is_me=False\n",
    ").sort_values(by=\"time\")\n",
    "\n",
    "my_trades = flatten_trades(\n",
    "    df, \n",
    "    \"own_trades\", \n",
    "    is_me=True\n",
    ").sort_values(by=\"time\")\n",
    "\n",
    "\n",
    "# filter market trades (only keep those where order_time = fill_time)\n",
    "market_trades = market_trades[market_trades[\"time\"] == market_trades[\"order_time\"]]\n",
    "\n",
    "# filter my_trades (only keep those where fill_time = order_time + 100)\n",
    "my_trades = my_trades[my_trades[\"time\"] == my_trades[\"order_time\"] + _time_step]\n",
    "\n",
    "\n",
    "trade_df = pd.concat([market_trades, my_trades])\n",
    "trade_df = trade_df.sort_values(by=\"time\").reset_index(drop=True)\n",
    "# trade_df = trade_df.drop([\"order_time\", \"buyer\", \"seller\"], axis=1)\n",
    "\n",
    "my_trades = trade_df[trade_df[\"is_me\"]]\n",
    "market_trades = trade_df[~trade_df[\"is_me\"]]\n"
   ]
  },
  {
   "cell_type": "code",
   "execution_count": 72,
   "id": "86d5dd17",
   "metadata": {
    "ExecuteTime": {
     "end_time": "2023-02-22T18:44:57.500009Z",
     "start_time": "2023-02-22T18:44:57.492454Z"
    }
   },
   "outputs": [],
   "source": [
    "# get my_positions\n",
    "my_positions = pd.DataFrame(list(df[\"position\"])).fillna(0)\n",
    "\n",
    "# add any products of zero quantity\n",
    "for prod in _products:\n",
    "    if prod not in my_positions:\n",
    "        my_positions[prod] = 0\n",
    "        \n",
    "my_positions[[\"time\", \"turn\"]] = df[[\"time\", \"turn\"]]\n",
    "my_positions = my_positions.sort_values(by=\"time\")\n",
    "\n",
    "# add cash to my_positions\n",
    "cash_data = []\n",
    "cur_cash = 0\n",
    "cur_time = turn2time_map[0]\n",
    "for index, row in my_trades.iterrows():\n",
    "    row_time = row[\"time\"]\n",
    "    while cur_time < row[\"time\"]:\n",
    "        cash_data += [cur_cash]\n",
    "        cur_time = turn2time_map[len(cash_data)]\n",
    "        \n",
    "    cur_cash += -1 * row[\"price\"] * row[\"my_quantity\"]\n",
    "\n",
    "# add for remaining turns\n",
    "while cur_time < max(turn2time_map.values()):\n",
    "    cash_data += [cur_cash]\n",
    "    cur_time = turn2time_map[len(cash_data)]\n",
    "cash_data += [cur_cash]\n",
    "\n",
    "# add to my_positions\n",
    "my_positions[\"cash\"] = cash_data\n",
    "\n",
    "\n",
    "\n",
    "\n"
   ]
  },
  {
   "cell_type": "code",
   "execution_count": null,
   "id": "69b8b41d",
   "metadata": {},
   "outputs": [],
   "source": []
  },
  {
   "cell_type": "markdown",
   "id": "96194b84",
   "metadata": {},
   "source": [
    "### Data analysis/vis\n",
    "- for info about trades:\n",
    "    - `trade_df` (all trades)\n",
    "    - `my_trades` (our trades only)\n",
    "    - `market_trades` (other people's trades only, not our trades)\n",
    "- for info about our positions\n",
    "    - `my_positions`"
   ]
  },
  {
   "cell_type": "markdown",
   "id": "4c20ff5e",
   "metadata": {},
   "source": [
    "### todo:\n",
    "- my_positions\n",
    "    - calculate approx product price per turn\n",
    "    - calculate total inventory value + total net worth (aka pnl)\n",
    "- visualize book"
   ]
  },
  {
   "cell_type": "code",
   "execution_count": null,
   "id": "3f2b6616",
   "metadata": {},
   "outputs": [],
   "source": []
  },
  {
   "cell_type": "code",
   "execution_count": null,
   "id": "9485ec3f",
   "metadata": {},
   "outputs": [],
   "source": []
  },
  {
   "cell_type": "code",
   "execution_count": 73,
   "id": "e9040028",
   "metadata": {
    "ExecuteTime": {
     "end_time": "2023-02-22T18:44:59.487192Z",
     "start_time": "2023-02-22T18:44:59.477823Z"
    }
   },
   "outputs": [
    {
     "data": {
      "text/html": [
       "<div>\n",
       "<style scoped>\n",
       "    .dataframe tbody tr th:only-of-type {\n",
       "        vertical-align: middle;\n",
       "    }\n",
       "\n",
       "    .dataframe tbody tr th {\n",
       "        vertical-align: top;\n",
       "    }\n",
       "\n",
       "    .dataframe thead th {\n",
       "        text-align: right;\n",
       "    }\n",
       "</style>\n",
       "<table border=\"1\" class=\"dataframe\">\n",
       "  <thead>\n",
       "    <tr style=\"text-align: right;\">\n",
       "      <th></th>\n",
       "      <th>BANANAS_best_buy</th>\n",
       "      <th>BANANAS_best_sell</th>\n",
       "      <th>BANANAS_mid</th>\n",
       "      <th>BANANAS_spread</th>\n",
       "      <th>PEARLS_best_buy</th>\n",
       "      <th>PEARLS_best_sell</th>\n",
       "      <th>PEARLS_mid</th>\n",
       "      <th>PEARLS_spread</th>\n",
       "      <th>time</th>\n",
       "    </tr>\n",
       "  </thead>\n",
       "  <tbody>\n",
       "    <tr>\n",
       "      <th>0</th>\n",
       "      <td>4995</td>\n",
       "      <td>5005</td>\n",
       "      <td>5000.0</td>\n",
       "      <td>10</td>\n",
       "      <td>9990</td>\n",
       "      <td>10010</td>\n",
       "      <td>10000.0</td>\n",
       "      <td>20</td>\n",
       "      <td>0</td>\n",
       "    </tr>\n",
       "    <tr>\n",
       "      <th>1</th>\n",
       "      <td>4995</td>\n",
       "      <td>5005</td>\n",
       "      <td>5000.0</td>\n",
       "      <td>10</td>\n",
       "      <td>9990</td>\n",
       "      <td>10010</td>\n",
       "      <td>10000.0</td>\n",
       "      <td>20</td>\n",
       "      <td>100</td>\n",
       "    </tr>\n",
       "    <tr>\n",
       "      <th>2</th>\n",
       "      <td>4995</td>\n",
       "      <td>5005</td>\n",
       "      <td>5000.0</td>\n",
       "      <td>10</td>\n",
       "      <td>9990</td>\n",
       "      <td>10010</td>\n",
       "      <td>10000.0</td>\n",
       "      <td>20</td>\n",
       "      <td>200</td>\n",
       "    </tr>\n",
       "    <tr>\n",
       "      <th>3</th>\n",
       "      <td>4995</td>\n",
       "      <td>5005</td>\n",
       "      <td>5000.0</td>\n",
       "      <td>10</td>\n",
       "      <td>9990</td>\n",
       "      <td>10010</td>\n",
       "      <td>10000.0</td>\n",
       "      <td>20</td>\n",
       "      <td>300</td>\n",
       "    </tr>\n",
       "    <tr>\n",
       "      <th>4</th>\n",
       "      <td>4995</td>\n",
       "      <td>5005</td>\n",
       "      <td>5000.0</td>\n",
       "      <td>10</td>\n",
       "      <td>9990</td>\n",
       "      <td>10010</td>\n",
       "      <td>10000.0</td>\n",
       "      <td>20</td>\n",
       "      <td>400</td>\n",
       "    </tr>\n",
       "    <tr>\n",
       "      <th>5</th>\n",
       "      <td>4995</td>\n",
       "      <td>5005</td>\n",
       "      <td>5000.0</td>\n",
       "      <td>10</td>\n",
       "      <td>9990</td>\n",
       "      <td>10010</td>\n",
       "      <td>10000.0</td>\n",
       "      <td>20</td>\n",
       "      <td>500</td>\n",
       "    </tr>\n",
       "    <tr>\n",
       "      <th>6</th>\n",
       "      <td>4995</td>\n",
       "      <td>5005</td>\n",
       "      <td>5000.0</td>\n",
       "      <td>10</td>\n",
       "      <td>9990</td>\n",
       "      <td>10010</td>\n",
       "      <td>10000.0</td>\n",
       "      <td>20</td>\n",
       "      <td>600</td>\n",
       "    </tr>\n",
       "    <tr>\n",
       "      <th>7</th>\n",
       "      <td>4995</td>\n",
       "      <td>5005</td>\n",
       "      <td>5000.0</td>\n",
       "      <td>10</td>\n",
       "      <td>9990</td>\n",
       "      <td>10010</td>\n",
       "      <td>10000.0</td>\n",
       "      <td>20</td>\n",
       "      <td>700</td>\n",
       "    </tr>\n",
       "    <tr>\n",
       "      <th>8</th>\n",
       "      <td>4995</td>\n",
       "      <td>5005</td>\n",
       "      <td>5000.0</td>\n",
       "      <td>10</td>\n",
       "      <td>9990</td>\n",
       "      <td>10010</td>\n",
       "      <td>10000.0</td>\n",
       "      <td>20</td>\n",
       "      <td>800</td>\n",
       "    </tr>\n",
       "    <tr>\n",
       "      <th>9</th>\n",
       "      <td>4995</td>\n",
       "      <td>5005</td>\n",
       "      <td>5000.0</td>\n",
       "      <td>10</td>\n",
       "      <td>9990</td>\n",
       "      <td>10010</td>\n",
       "      <td>10000.0</td>\n",
       "      <td>20</td>\n",
       "      <td>900</td>\n",
       "    </tr>\n",
       "  </tbody>\n",
       "</table>\n",
       "</div>"
      ],
      "text/plain": [
       "   BANANAS_best_buy  BANANAS_best_sell  BANANAS_mid  BANANAS_spread  \\\n",
       "0              4995               5005       5000.0              10   \n",
       "1              4995               5005       5000.0              10   \n",
       "2              4995               5005       5000.0              10   \n",
       "3              4995               5005       5000.0              10   \n",
       "4              4995               5005       5000.0              10   \n",
       "5              4995               5005       5000.0              10   \n",
       "6              4995               5005       5000.0              10   \n",
       "7              4995               5005       5000.0              10   \n",
       "8              4995               5005       5000.0              10   \n",
       "9              4995               5005       5000.0              10   \n",
       "\n",
       "   PEARLS_best_buy  PEARLS_best_sell  PEARLS_mid  PEARLS_spread  time  \n",
       "0             9990             10010     10000.0             20     0  \n",
       "1             9990             10010     10000.0             20   100  \n",
       "2             9990             10010     10000.0             20   200  \n",
       "3             9990             10010     10000.0             20   300  \n",
       "4             9990             10010     10000.0             20   400  \n",
       "5             9990             10010     10000.0             20   500  \n",
       "6             9990             10010     10000.0             20   600  \n",
       "7             9990             10010     10000.0             20   700  \n",
       "8             9990             10010     10000.0             20   800  \n",
       "9             9990             10010     10000.0             20   900  "
      ]
     },
     "execution_count": 73,
     "metadata": {},
     "output_type": "execute_result"
    }
   ],
   "source": [
    "book_tops"
   ]
  },
  {
   "cell_type": "code",
   "execution_count": 100,
   "id": "6db8685d",
   "metadata": {
    "ExecuteTime": {
     "end_time": "2023-02-22T18:51:18.022151Z",
     "start_time": "2023-02-22T18:51:18.011719Z"
    }
   },
   "outputs": [
    {
     "data": {
      "text/html": [
       "<div>\n",
       "<style scoped>\n",
       "    .dataframe tbody tr th:only-of-type {\n",
       "        vertical-align: middle;\n",
       "    }\n",
       "\n",
       "    .dataframe tbody tr th {\n",
       "        vertical-align: top;\n",
       "    }\n",
       "\n",
       "    .dataframe thead th {\n",
       "        text-align: right;\n",
       "    }\n",
       "</style>\n",
       "<table border=\"1\" class=\"dataframe\">\n",
       "  <thead>\n",
       "    <tr style=\"text-align: right;\">\n",
       "      <th></th>\n",
       "      <th>time</th>\n",
       "      <th>BANANAS</th>\n",
       "      <th>PEARLS</th>\n",
       "    </tr>\n",
       "  </thead>\n",
       "  <tbody>\n",
       "    <tr>\n",
       "      <th>0</th>\n",
       "      <td>0</td>\n",
       "      <td>5000.0</td>\n",
       "      <td>10000.0</td>\n",
       "    </tr>\n",
       "    <tr>\n",
       "      <th>1</th>\n",
       "      <td>100</td>\n",
       "      <td>5000.0</td>\n",
       "      <td>10000.0</td>\n",
       "    </tr>\n",
       "    <tr>\n",
       "      <th>2</th>\n",
       "      <td>200</td>\n",
       "      <td>5000.0</td>\n",
       "      <td>10000.0</td>\n",
       "    </tr>\n",
       "    <tr>\n",
       "      <th>3</th>\n",
       "      <td>300</td>\n",
       "      <td>5000.0</td>\n",
       "      <td>10000.0</td>\n",
       "    </tr>\n",
       "    <tr>\n",
       "      <th>4</th>\n",
       "      <td>400</td>\n",
       "      <td>5000.0</td>\n",
       "      <td>10000.0</td>\n",
       "    </tr>\n",
       "    <tr>\n",
       "      <th>5</th>\n",
       "      <td>500</td>\n",
       "      <td>5000.0</td>\n",
       "      <td>10000.0</td>\n",
       "    </tr>\n",
       "    <tr>\n",
       "      <th>6</th>\n",
       "      <td>600</td>\n",
       "      <td>5000.0</td>\n",
       "      <td>10000.0</td>\n",
       "    </tr>\n",
       "    <tr>\n",
       "      <th>7</th>\n",
       "      <td>700</td>\n",
       "      <td>5000.0</td>\n",
       "      <td>10000.0</td>\n",
       "    </tr>\n",
       "    <tr>\n",
       "      <th>8</th>\n",
       "      <td>800</td>\n",
       "      <td>5000.0</td>\n",
       "      <td>10000.0</td>\n",
       "    </tr>\n",
       "    <tr>\n",
       "      <th>9</th>\n",
       "      <td>900</td>\n",
       "      <td>5000.0</td>\n",
       "      <td>10000.0</td>\n",
       "    </tr>\n",
       "  </tbody>\n",
       "</table>\n",
       "</div>"
      ],
      "text/plain": [
       "   time  BANANAS   PEARLS\n",
       "0     0   5000.0  10000.0\n",
       "1   100   5000.0  10000.0\n",
       "2   200   5000.0  10000.0\n",
       "3   300   5000.0  10000.0\n",
       "4   400   5000.0  10000.0\n",
       "5   500   5000.0  10000.0\n",
       "6   600   5000.0  10000.0\n",
       "7   700   5000.0  10000.0\n",
       "8   800   5000.0  10000.0\n",
       "9   900   5000.0  10000.0"
      ]
     },
     "execution_count": 100,
     "metadata": {},
     "output_type": "execute_result"
    }
   ],
   "source": [
    "# estimate fairs\n",
    "mid_cols = [col for col in book_tops.columns if \"_mid\" in col]\n",
    "fairs = book_tops[[\"time\", *mid_cols]]\n",
    "fairs.columns = fairs.columns.str.strip('_mid')\n",
    "fairs"
   ]
  },
  {
   "cell_type": "code",
   "execution_count": 101,
   "id": "8fc7fc5c",
   "metadata": {
    "ExecuteTime": {
     "end_time": "2023-02-22T18:51:23.450026Z",
     "start_time": "2023-02-22T18:51:23.445511Z"
    }
   },
   "outputs": [],
   "source": [
    "# estimate pnl\n",
    "pnls = my_positions[\"cash\"]\n",
    "\n",
    "for prod in products:\n",
    "    pnls += my_positions[prod] * fairs[prod]\n",
    "    \n",
    "my_positions[\"pnl\"] = pnls"
   ]
  },
  {
   "cell_type": "code",
   "execution_count": 102,
   "id": "071e0ef1",
   "metadata": {
    "ExecuteTime": {
     "end_time": "2023-02-22T18:51:26.988935Z",
     "start_time": "2023-02-22T18:51:26.980477Z"
    }
   },
   "outputs": [
    {
     "data": {
      "text/html": [
       "<div>\n",
       "<style scoped>\n",
       "    .dataframe tbody tr th:only-of-type {\n",
       "        vertical-align: middle;\n",
       "    }\n",
       "\n",
       "    .dataframe tbody tr th {\n",
       "        vertical-align: top;\n",
       "    }\n",
       "\n",
       "    .dataframe thead th {\n",
       "        text-align: right;\n",
       "    }\n",
       "</style>\n",
       "<table border=\"1\" class=\"dataframe\">\n",
       "  <thead>\n",
       "    <tr style=\"text-align: right;\">\n",
       "      <th></th>\n",
       "      <th>BANANAS</th>\n",
       "      <th>PEARLS</th>\n",
       "      <th>time</th>\n",
       "      <th>turn</th>\n",
       "      <th>cash</th>\n",
       "      <th>pnl</th>\n",
       "    </tr>\n",
       "  </thead>\n",
       "  <tbody>\n",
       "    <tr>\n",
       "      <th>0</th>\n",
       "      <td>0</td>\n",
       "      <td>0</td>\n",
       "      <td>0</td>\n",
       "      <td>0</td>\n",
       "      <td>0</td>\n",
       "      <td>0.0</td>\n",
       "    </tr>\n",
       "    <tr>\n",
       "      <th>1</th>\n",
       "      <td>0</td>\n",
       "      <td>1</td>\n",
       "      <td>100</td>\n",
       "      <td>1</td>\n",
       "      <td>-10010</td>\n",
       "      <td>-10.0</td>\n",
       "    </tr>\n",
       "    <tr>\n",
       "      <th>2</th>\n",
       "      <td>0</td>\n",
       "      <td>2</td>\n",
       "      <td>200</td>\n",
       "      <td>2</td>\n",
       "      <td>-20020</td>\n",
       "      <td>-20.0</td>\n",
       "    </tr>\n",
       "    <tr>\n",
       "      <th>3</th>\n",
       "      <td>0</td>\n",
       "      <td>3</td>\n",
       "      <td>300</td>\n",
       "      <td>3</td>\n",
       "      <td>-30030</td>\n",
       "      <td>-30.0</td>\n",
       "    </tr>\n",
       "    <tr>\n",
       "      <th>4</th>\n",
       "      <td>0</td>\n",
       "      <td>4</td>\n",
       "      <td>400</td>\n",
       "      <td>4</td>\n",
       "      <td>-40040</td>\n",
       "      <td>-40.0</td>\n",
       "    </tr>\n",
       "    <tr>\n",
       "      <th>5</th>\n",
       "      <td>0</td>\n",
       "      <td>5</td>\n",
       "      <td>500</td>\n",
       "      <td>5</td>\n",
       "      <td>-50050</td>\n",
       "      <td>-50.0</td>\n",
       "    </tr>\n",
       "    <tr>\n",
       "      <th>6</th>\n",
       "      <td>0</td>\n",
       "      <td>6</td>\n",
       "      <td>600</td>\n",
       "      <td>6</td>\n",
       "      <td>-60060</td>\n",
       "      <td>-60.0</td>\n",
       "    </tr>\n",
       "    <tr>\n",
       "      <th>7</th>\n",
       "      <td>0</td>\n",
       "      <td>7</td>\n",
       "      <td>700</td>\n",
       "      <td>7</td>\n",
       "      <td>-70070</td>\n",
       "      <td>-70.0</td>\n",
       "    </tr>\n",
       "    <tr>\n",
       "      <th>8</th>\n",
       "      <td>0</td>\n",
       "      <td>8</td>\n",
       "      <td>800</td>\n",
       "      <td>8</td>\n",
       "      <td>-80080</td>\n",
       "      <td>-80.0</td>\n",
       "    </tr>\n",
       "    <tr>\n",
       "      <th>9</th>\n",
       "      <td>0</td>\n",
       "      <td>9</td>\n",
       "      <td>900</td>\n",
       "      <td>9</td>\n",
       "      <td>-90090</td>\n",
       "      <td>-90.0</td>\n",
       "    </tr>\n",
       "  </tbody>\n",
       "</table>\n",
       "</div>"
      ],
      "text/plain": [
       "   BANANAS  PEARLS  time  turn   cash   pnl\n",
       "0        0       0     0     0      0   0.0\n",
       "1        0       1   100     1 -10010 -10.0\n",
       "2        0       2   200     2 -20020 -20.0\n",
       "3        0       3   300     3 -30030 -30.0\n",
       "4        0       4   400     4 -40040 -40.0\n",
       "5        0       5   500     5 -50050 -50.0\n",
       "6        0       6   600     6 -60060 -60.0\n",
       "7        0       7   700     7 -70070 -70.0\n",
       "8        0       8   800     8 -80080 -80.0\n",
       "9        0       9   900     9 -90090 -90.0"
      ]
     },
     "execution_count": 102,
     "metadata": {},
     "output_type": "execute_result"
    }
   ],
   "source": [
    "my_positions"
   ]
  },
  {
   "cell_type": "code",
   "execution_count": 103,
   "id": "755a73c2",
   "metadata": {
    "ExecuteTime": {
     "end_time": "2023-02-22T18:51:31.094121Z",
     "start_time": "2023-02-22T18:51:30.940509Z"
    }
   },
   "outputs": [
    {
     "data": {
      "text/plain": [
       "[<matplotlib.lines.Line2D at 0x12cf65b80>]"
      ]
     },
     "execution_count": 103,
     "metadata": {},
     "output_type": "execute_result"
    },
    {
     "data": {
      "image/png": "[encoded data removed]",
      "text/plain": [
       "<Figure size 640x480 with 1 Axes>"
      ]
     },
     "metadata": {},
     "output_type": "display_data"
    }
   ],
   "source": [
    "# plot trades\n",
    "\n",
    "sym = \"BANANAS\"\n",
    "\n",
    "plt_df = trade_df[trade_df[\"symbol\"] == sym]\n",
    "\n",
    "my_buys = plt_df[plt_df[\"my_quantity\"] > 0]\n",
    "my_sells = plt_df[plt_df[\"my_quantity\"] < 0]\n",
    "their_trades = plt_df[plt_df[\"my_quantity\"] == 0]\n",
    "\n",
    "plt.scatter(my_buys[\"time\"], my_buys[\"price\"], c=\"green\", s=25)\n",
    "plt.scatter(my_sells[\"time\"], my_sells[\"price\"], c=\"red\", s=25)\n",
    "plt.scatter(their_trades[\"time\"], their_trades[\"price\"], c=\"gray\", s=10)\n",
    "\n",
    "\n",
    "# plot book\n",
    "plt.plot(df[\"time\"], book_tops[f\"{sym}_best_buy\"], c=\"green\", alpha=0.5, linewidth=0.5)\n",
    "plt.plot(df[\"time\"], book_tops[f\"{sym}_best_sell\"], c=\"red\", alpha=0.5, linewidth=0.5)"
   ]
  },
  {
   "cell_type": "code",
   "execution_count": 104,
   "id": "2c776233",
   "metadata": {
    "ExecuteTime": {
     "end_time": "2023-02-22T18:51:31.312568Z",
     "start_time": "2023-02-22T18:51:31.130607Z"
    }
   },
   "outputs": [
    {
     "data": {
      "text/plain": [
       "[<matplotlib.lines.Line2D at 0x12cf9f0a0>]"
      ]
     },
     "execution_count": 104,
     "metadata": {},
     "output_type": "execute_result"
    },
    {
     "data": {
      "image/png": "[encoded data removed]",
      "text/plain": [
       "<Figure size 640x480 with 1 Axes>"
      ]
     },
     "metadata": {},
     "output_type": "display_data"
    }
   ],
   "source": [
    "# plot trades\n",
    "\n",
    "sym = \"PEARLS\"\n",
    "\n",
    "plt_df = trade_df[trade_df[\"symbol\"] == sym]\n",
    "\n",
    "my_buys = plt_df[plt_df[\"my_quantity\"] > 0]\n",
    "my_sells = plt_df[plt_df[\"my_quantity\"] < 0]\n",
    "their_trades = plt_df[plt_df[\"my_quantity\"] == 0]\n",
    "\n",
    "plt.scatter(my_buys[\"time\"], my_buys[\"price\"], c=\"green\", s=25)\n",
    "plt.scatter(my_sells[\"time\"], my_sells[\"price\"], c=\"red\", s=25)\n",
    "\n",
    "plt.scatter(their_trades[\"time\"], their_trades[\"price\"], c=\"gray\", s=10)\n",
    "\n",
    "\n",
    "# plot book\n",
    "plt.plot(df[\"time\"], book_tops[f\"{sym}_best_buy\"], c=\"green\", alpha=0.5, linewidth=0.5)\n",
    "plt.plot(df[\"time\"], book_tops[f\"{sym}_best_sell\"], c=\"red\", alpha=0.5, linewidth=0.5)"
   ]
  },
  {
   "cell_type": "code",
   "execution_count": 105,
   "id": "2648effb",
   "metadata": {
    "ExecuteTime": {
     "end_time": "2023-02-22T18:51:32.932323Z",
     "start_time": "2023-02-22T18:51:32.806071Z"
    }
   },
   "outputs": [
    {
     "data": {
      "text/plain": [
       "[<matplotlib.lines.Line2D at 0x12cfff370>]"
      ]
     },
     "execution_count": 105,
     "metadata": {},
     "output_type": "execute_result"
    },
    {
     "data": {
      "image/png": "[encoded data removed]",
      "text/plain": [
       "<Figure size 640x480 with 1 Axes>"
      ]
     },
     "metadata": {},
     "output_type": "display_data"
    }
   ],
   "source": [
    "plt.plot(my_positions[\"time\"], my_positions[\"pnl\"])"
   ]
  },
  {
   "cell_type": "code",
   "execution_count": 52,
   "id": "4e22cf5b",
   "metadata": {
    "ExecuteTime": {
     "end_time": "2023-02-22T18:41:28.325802Z",
     "start_time": "2023-02-22T18:41:28.231121Z"
    }
   },
   "outputs": [
    {
     "data": {
      "text/plain": [
       "[<matplotlib.lines.Line2D at 0x123ad3d00>]"
      ]
     },
     "execution_count": 52,
     "metadata": {},
     "output_type": "execute_result"
    },
    {
     "data": {
      "image/png": "[encoded data removed]",
      "text/plain": [
       "<Figure size 640x480 with 1 Axes>"
      ]
     },
     "metadata": {},
     "output_type": "display_data"
    }
   ],
   "source": [
    "# plot my positions in each product\n",
    "\n",
    "plt.plot(my_positions[\"time\"], my_positions[\"PEARLS\"])"
   ]
  },
  {
   "cell_type": "code",
   "execution_count": 53,
   "id": "39e7275d",
   "metadata": {
    "ExecuteTime": {
     "end_time": "2023-02-22T18:41:30.178144Z",
     "start_time": "2023-02-22T18:41:30.083100Z"
    }
   },
   "outputs": [
    {
     "data": {
      "text/plain": [
       "[<matplotlib.lines.Line2D at 0x123ba5760>]"
      ]
     },
     "execution_count": 53,
     "metadata": {},
     "output_type": "execute_result"
    },
    {
     "data": {
      "image/png": "[encoded data removed]",
      "text/plain": [
       "<Figure size 640x480 with 1 Axes>"
      ]
     },
     "metadata": {},
     "output_type": "display_data"
    }
   ],
   "source": [
    "# plot my positions in each product\n",
    "\n",
    "# plt.bar(my_positions[\"time\"], my_positions[\"BANANAS\"])\n",
    "plt.plot(my_positions[\"time\"], my_positions[\"BANANAS\"])"
   ]
  },
  {
   "cell_type": "code",
   "execution_count": 22,
   "id": "d3d1c91d",
   "metadata": {
    "ExecuteTime": {
     "end_time": "2023-02-22T18:35:42.271357Z",
     "start_time": "2023-02-22T18:35:42.261313Z"
    }
   },
   "outputs": [
    {
     "data": {
      "text/html": [
       "<div>\n",
       "<style scoped>\n",
       "    .dataframe tbody tr th:only-of-type {\n",
       "        vertical-align: middle;\n",
       "    }\n",
       "\n",
       "    .dataframe tbody tr th {\n",
       "        vertical-align: top;\n",
       "    }\n",
       "\n",
       "    .dataframe thead th {\n",
       "        text-align: right;\n",
       "    }\n",
       "</style>\n",
       "<table border=\"1\" class=\"dataframe\">\n",
       "  <thead>\n",
       "    <tr style=\"text-align: right;\">\n",
       "      <th></th>\n",
       "      <th>BANANAS_best_buy</th>\n",
       "      <th>BANANAS_best_sell</th>\n",
       "      <th>BANANAS_mid</th>\n",
       "      <th>BANANAS_spread</th>\n",
       "      <th>PEARLS_best_buy</th>\n",
       "      <th>PEARLS_best_sell</th>\n",
       "      <th>PEARLS_mid</th>\n",
       "      <th>PEARLS_spread</th>\n",
       "    </tr>\n",
       "  </thead>\n",
       "  <tbody>\n",
       "    <tr>\n",
       "      <th>0</th>\n",
       "      <td>4995</td>\n",
       "      <td>5005</td>\n",
       "      <td>5000.0</td>\n",
       "      <td>10</td>\n",
       "      <td>9990</td>\n",
       "      <td>10010</td>\n",
       "      <td>10000.0</td>\n",
       "      <td>20</td>\n",
       "    </tr>\n",
       "    <tr>\n",
       "      <th>1</th>\n",
       "      <td>4995</td>\n",
       "      <td>5005</td>\n",
       "      <td>5000.0</td>\n",
       "      <td>10</td>\n",
       "      <td>9990</td>\n",
       "      <td>10010</td>\n",
       "      <td>10000.0</td>\n",
       "      <td>20</td>\n",
       "    </tr>\n",
       "    <tr>\n",
       "      <th>2</th>\n",
       "      <td>4995</td>\n",
       "      <td>5005</td>\n",
       "      <td>5000.0</td>\n",
       "      <td>10</td>\n",
       "      <td>9990</td>\n",
       "      <td>10010</td>\n",
       "      <td>10000.0</td>\n",
       "      <td>20</td>\n",
       "    </tr>\n",
       "    <tr>\n",
       "      <th>3</th>\n",
       "      <td>4995</td>\n",
       "      <td>5005</td>\n",
       "      <td>5000.0</td>\n",
       "      <td>10</td>\n",
       "      <td>9990</td>\n",
       "      <td>10010</td>\n",
       "      <td>10000.0</td>\n",
       "      <td>20</td>\n",
       "    </tr>\n",
       "    <tr>\n",
       "      <th>4</th>\n",
       "      <td>4995</td>\n",
       "      <td>5005</td>\n",
       "      <td>5000.0</td>\n",
       "      <td>10</td>\n",
       "      <td>9990</td>\n",
       "      <td>10010</td>\n",
       "      <td>10000.0</td>\n",
       "      <td>20</td>\n",
       "    </tr>\n",
       "    <tr>\n",
       "      <th>5</th>\n",
       "      <td>4995</td>\n",
       "      <td>5005</td>\n",
       "      <td>5000.0</td>\n",
       "      <td>10</td>\n",
       "      <td>9990</td>\n",
       "      <td>10010</td>\n",
       "      <td>10000.0</td>\n",
       "      <td>20</td>\n",
       "    </tr>\n",
       "    <tr>\n",
       "      <th>6</th>\n",
       "      <td>4995</td>\n",
       "      <td>5005</td>\n",
       "      <td>5000.0</td>\n",
       "      <td>10</td>\n",
       "      <td>9990</td>\n",
       "      <td>10010</td>\n",
       "      <td>10000.0</td>\n",
       "      <td>20</td>\n",
       "    </tr>\n",
       "    <tr>\n",
       "      <th>7</th>\n",
       "      <td>4995</td>\n",
       "      <td>5005</td>\n",
       "      <td>5000.0</td>\n",
       "      <td>10</td>\n",
       "      <td>9990</td>\n",
       "      <td>10010</td>\n",
       "      <td>10000.0</td>\n",
       "      <td>20</td>\n",
       "    </tr>\n",
       "    <tr>\n",
       "      <th>8</th>\n",
       "      <td>4995</td>\n",
       "      <td>5005</td>\n",
       "      <td>5000.0</td>\n",
       "      <td>10</td>\n",
       "      <td>9990</td>\n",
       "      <td>10010</td>\n",
       "      <td>10000.0</td>\n",
       "      <td>20</td>\n",
       "    </tr>\n",
       "    <tr>\n",
       "      <th>9</th>\n",
       "      <td>4995</td>\n",
       "      <td>5005</td>\n",
       "      <td>5000.0</td>\n",
       "      <td>10</td>\n",
       "      <td>9990</td>\n",
       "      <td>10010</td>\n",
       "      <td>10000.0</td>\n",
       "      <td>20</td>\n",
       "    </tr>\n",
       "  </tbody>\n",
       "</table>\n",
       "</div>"
      ],
      "text/plain": [
       "   BANANAS_best_buy  BANANAS_best_sell  BANANAS_mid  BANANAS_spread  \\\n",
       "0              4995               5005       5000.0              10   \n",
       "1              4995               5005       5000.0              10   \n",
       "2              4995               5005       5000.0              10   \n",
       "3              4995               5005       5000.0              10   \n",
       "4              4995               5005       5000.0              10   \n",
       "5              4995               5005       5000.0              10   \n",
       "6              4995               5005       5000.0              10   \n",
       "7              4995               5005       5000.0              10   \n",
       "8              4995               5005       5000.0              10   \n",
       "9              4995               5005       5000.0              10   \n",
       "\n",
       "   PEARLS_best_buy  PEARLS_best_sell  PEARLS_mid  PEARLS_spread  \n",
       "0             9990             10010     10000.0             20  \n",
       "1             9990             10010     10000.0             20  \n",
       "2             9990             10010     10000.0             20  \n",
       "3             9990             10010     10000.0             20  \n",
       "4             9990             10010     10000.0             20  \n",
       "5             9990             10010     10000.0             20  \n",
       "6             9990             10010     10000.0             20  \n",
       "7             9990             10010     10000.0             20  \n",
       "8             9990             10010     10000.0             20  \n",
       "9             9990             10010     10000.0             20  "
      ]
     },
     "execution_count": 22,
     "metadata": {},
     "output_type": "execute_result"
    }
   ],
   "source": [
    "book_tops"
   ]
  },
  {
   "cell_type": "code",
   "execution_count": 26,
   "id": "17923e6f",
   "metadata": {
    "ExecuteTime": {
     "end_time": "2023-02-22T18:37:39.606689Z",
     "start_time": "2023-02-22T18:37:39.599621Z"
    }
   },
   "outputs": [
    {
     "data": {
      "text/html": [
       "<div>\n",
       "<style scoped>\n",
       "    .dataframe tbody tr th:only-of-type {\n",
       "        vertical-align: middle;\n",
       "    }\n",
       "\n",
       "    .dataframe tbody tr th {\n",
       "        vertical-align: top;\n",
       "    }\n",
       "\n",
       "    .dataframe thead th {\n",
       "        text-align: right;\n",
       "    }\n",
       "</style>\n",
       "<table border=\"1\" class=\"dataframe\">\n",
       "  <thead>\n",
       "    <tr style=\"text-align: right;\">\n",
       "      <th></th>\n",
       "      <th>BANANAS</th>\n",
       "      <th>PEARLS</th>\n",
       "      <th>time</th>\n",
       "      <th>turn</th>\n",
       "      <th>cash</th>\n",
       "    </tr>\n",
       "  </thead>\n",
       "  <tbody>\n",
       "    <tr>\n",
       "      <th>0</th>\n",
       "      <td>0</td>\n",
       "      <td>0</td>\n",
       "      <td>0</td>\n",
       "      <td>0</td>\n",
       "      <td>0</td>\n",
       "    </tr>\n",
       "    <tr>\n",
       "      <th>1</th>\n",
       "      <td>0</td>\n",
       "      <td>1</td>\n",
       "      <td>100</td>\n",
       "      <td>1</td>\n",
       "      <td>10010</td>\n",
       "    </tr>\n",
       "    <tr>\n",
       "      <th>2</th>\n",
       "      <td>0</td>\n",
       "      <td>2</td>\n",
       "      <td>200</td>\n",
       "      <td>2</td>\n",
       "      <td>20020</td>\n",
       "    </tr>\n",
       "    <tr>\n",
       "      <th>3</th>\n",
       "      <td>0</td>\n",
       "      <td>3</td>\n",
       "      <td>300</td>\n",
       "      <td>3</td>\n",
       "      <td>30030</td>\n",
       "    </tr>\n",
       "    <tr>\n",
       "      <th>4</th>\n",
       "      <td>0</td>\n",
       "      <td>4</td>\n",
       "      <td>400</td>\n",
       "      <td>4</td>\n",
       "      <td>40040</td>\n",
       "    </tr>\n",
       "    <tr>\n",
       "      <th>5</th>\n",
       "      <td>0</td>\n",
       "      <td>5</td>\n",
       "      <td>500</td>\n",
       "      <td>5</td>\n",
       "      <td>50050</td>\n",
       "    </tr>\n",
       "    <tr>\n",
       "      <th>6</th>\n",
       "      <td>0</td>\n",
       "      <td>6</td>\n",
       "      <td>600</td>\n",
       "      <td>6</td>\n",
       "      <td>60060</td>\n",
       "    </tr>\n",
       "    <tr>\n",
       "      <th>7</th>\n",
       "      <td>0</td>\n",
       "      <td>7</td>\n",
       "      <td>700</td>\n",
       "      <td>7</td>\n",
       "      <td>70070</td>\n",
       "    </tr>\n",
       "    <tr>\n",
       "      <th>8</th>\n",
       "      <td>0</td>\n",
       "      <td>8</td>\n",
       "      <td>800</td>\n",
       "      <td>8</td>\n",
       "      <td>80080</td>\n",
       "    </tr>\n",
       "    <tr>\n",
       "      <th>9</th>\n",
       "      <td>0</td>\n",
       "      <td>9</td>\n",
       "      <td>900</td>\n",
       "      <td>9</td>\n",
       "      <td>90090</td>\n",
       "    </tr>\n",
       "  </tbody>\n",
       "</table>\n",
       "</div>"
      ],
      "text/plain": [
       "   BANANAS  PEARLS  time  turn   cash\n",
       "0        0       0     0     0      0\n",
       "1        0       1   100     1  10010\n",
       "2        0       2   200     2  20020\n",
       "3        0       3   300     3  30030\n",
       "4        0       4   400     4  40040\n",
       "5        0       5   500     5  50050\n",
       "6        0       6   600     6  60060\n",
       "7        0       7   700     7  70070\n",
       "8        0       8   800     8  80080\n",
       "9        0       9   900     9  90090"
      ]
     },
     "execution_count": 26,
     "metadata": {},
     "output_type": "execute_result"
    }
   ],
   "source": [
    "my_positions"
   ]
  },
  {
   "cell_type": "code",
   "execution_count": null,
   "id": "b72e4777",
   "metadata": {},
   "outputs": [],
   "source": []
  },
  {
   "cell_type": "code",
   "execution_count": null,
   "id": "df5e35d1",
   "metadata": {},
   "outputs": [],
   "source": []
  },
  {
   "cell_type": "code",
   "execution_count": null,
   "id": "85477c2f",
   "metadata": {},
   "outputs": [],
   "source": []
  }
 ],
 "metadata": {
  "kernelspec": {
   "display_name": "Python 3 (ipykernel)",
   "language": "python",
   "name": "python3"
  },
  "language_info": {
   "codemirror_mode": {
    "name": "ipython",
    "version": 3
   },
   "file_extension": ".py",
   "mimetype": "text/x-python",
   "name": "python",
   "nbconvert_exporter": "python",
   "pygments_lexer": "ipython3",
   "version": "3.9.16"
  }
 },
 "nbformat": 4,
 "nbformat_minor": 5
}
