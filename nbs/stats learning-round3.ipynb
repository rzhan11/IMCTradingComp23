{
 "cells": [
  {
   "cell_type": "markdown",
   "id": "4677ba29",
   "metadata": {},
   "source": [
    "# Desc\n",
    "\n",
    "- using this file to practice/learn basic stats\n",
    "- also want to learn standard time series analysis techniques"
   ]
  },
  {
   "cell_type": "code",
   "execution_count": 1,
   "id": "302e2611",
   "metadata": {
    "ExecuteTime": {
     "end_time": "2023-03-26T05:00:24.509732Z",
     "start_time": "2023-03-26T05:00:24.475481Z"
    }
   },
   "outputs": [
    {
     "data": {
      "text/html": [
       "<style>.container { width:75% !important; }</style>"
      ],
      "text/plain": [
       "<IPython.core.display.HTML object>"
      ]
     },
     "metadata": {},
     "output_type": "display_data"
    }
   ],
   "source": [
    "from IPython.display import display, HTML\n",
    "import ipywidgets as widgets\n",
    "from ipywidgets import interact\n",
    "display(HTML(\"<style>.container { width:75% !important; }</style>\"))"
   ]
  },
  {
   "cell_type": "code",
   "execution_count": 2,
   "id": "efb2a20f",
   "metadata": {
    "ExecuteTime": {
     "end_time": "2023-03-26T05:00:25.052244Z",
     "start_time": "2023-03-26T05:00:24.511268Z"
    }
   },
   "outputs": [],
   "source": [
    "import numpy as np\n",
    "import pandas as pd\n",
    "import matplotlib.pyplot as plt"
   ]
  },
  {
   "cell_type": "code",
   "execution_count": 3,
   "id": "8d2ff6a8",
   "metadata": {
    "ExecuteTime": {
     "end_time": "2023-03-26T05:00:25.356361Z",
     "start_time": "2023-03-26T05:00:25.053464Z"
    }
   },
   "outputs": [],
   "source": [
    "import statsmodels\n",
    "from statsmodels.tsa.stattools import adfuller\n",
    "from statsmodels.graphics.tsaplots import plot_acf\n",
    "from statsmodels.graphics.tsaplots import plot_pacf\n",
    "from statsmodels.tsa.ar_model import AutoReg\n",
    "\n",
    "from sklearn.metrics import r2_score"
   ]
  },
  {
   "cell_type": "code",
   "execution_count": 4,
   "id": "3d276b5f",
   "metadata": {
    "ExecuteTime": {
     "end_time": "2023-03-26T05:00:25.360830Z",
     "start_time": "2023-03-26T05:00:25.358265Z"
    }
   },
   "outputs": [],
   "source": [
    "\n",
    "def check_stationary(series):\n",
    "    # Copied from https://machinelearningmastery.com/time-series-data-stationary-python/\n",
    "\n",
    "    result = adfuller(series.values)\n",
    "\n",
    "    print('ADF Statistic: %f' % result[0])\n",
    "    print('p-value: %f' % result[1])\n",
    "    print('Critical Values:')\n",
    "    for key, value in result[4].items():\n",
    "        print('\\t%s: %.3f' % (key, value))\n",
    "\n",
    "    if (result[1] <= 0.01) & (result[4]['5%'] > result[0]):\n",
    "        print(\"\\u001b[32mStationary\\u001b[0m\")\n",
    "    else:\n",
    "        print(\"\\x1b[31mNon-stationary\\x1b[0m\")"
   ]
  },
  {
   "cell_type": "markdown",
   "id": "c9abbb84",
   "metadata": {},
   "source": [
    "# Analysis for IMC"
   ]
  },
  {
   "cell_type": "markdown",
   "id": "91a12186",
   "metadata": {},
   "source": [
    "## Data reading"
   ]
  },
  {
   "cell_type": "code",
   "execution_count": 5,
   "id": "ea51abf9",
   "metadata": {
    "ExecuteTime": {
     "end_time": "2023-03-26T05:00:25.363457Z",
     "start_time": "2023-03-26T05:00:25.361849Z"
    }
   },
   "outputs": [],
   "source": [
    "# parameters\n",
    "_round_num = 3\n",
    "_time_per_day = 1000000"
   ]
  },
  {
   "cell_type": "code",
   "execution_count": 6,
   "id": "327a7734",
   "metadata": {
    "ExecuteTime": {
     "end_time": "2023-03-26T05:00:25.370221Z",
     "start_time": "2023-03-26T05:00:25.364459Z"
    }
   },
   "outputs": [],
   "source": [
    "def get_file_trades(day):\n",
    "    fname = f\"../data/round{_round_num}/trades_round_{_round_num}_day_{day}_nn.csv\"\n",
    "    print(\"fname\", fname)\n",
    "    return pd.read_csv(fname, sep=\";\")\n",
    "\n",
    "\n",
    "def get_file_prices(day):\n",
    "    fname = f\"../data/round{_round_num}/prices_round_{_round_num}_day_{day}.csv\"\n",
    "    print(\"fname\", fname)\n",
    "    return pd.read_csv(fname, sep=\";\")\n",
    "\n",
    "def get_symbol_prices(symbol, days):\n",
    "    \"\"\" Returns DataFrame containing all price data for specified symbol, over the specified 'days'\n",
    "    If symbol is None, don't filter on symbol\n",
    "    \"\"\"\n",
    "    \n",
    "    data = []\n",
    "    for day in days:\n",
    "        price_df = get_file_prices(day)\n",
    "        data += [price_df]\n",
    "    \n",
    "    # concat\n",
    "    price_df = pd.concat(data)\n",
    "    \n",
    "    # rename \"bid\" to \"buy\"\n",
    "    # rename \"ask\" to \"sell\"\n",
    "    price_df = price_df.rename({col: col.replace(\"bid\", \"buy\") for col in price_df.columns if \"bid\" in col}, axis=1)\n",
    "    price_df = price_df.rename({col: col.replace(\"ask\", \"sell\") for col in price_df.columns if \"ask\" in col}, axis=1)\n",
    "    price_df = price_df.rename({\"timestamp\": \"time\", \"product\": \"symbol\"}, axis=1)\n",
    "    \n",
    "    if symbol is not None:\n",
    "        # filter for specific symbol\n",
    "        price_df = price_df[price_df[\"symbol\"] == symbol]\n",
    "    \n",
    "    # fix times, sort by time and reindex\n",
    "    price_df[\"time\"] = price_df[\"time\"] + price_df[\"day\"] * _time_per_day\n",
    "    price_df = price_df.sort_values(by=\"time\").reset_index(drop=True)\n",
    "    \n",
    "    return price_df\n",
    "\n",
    "def get_symbol_trades(symbol, days):\n",
    "    \"\"\" Returns DataFrame containing all price data for specified symbol, over the specified 'days'\n",
    "    If symbol is None, don't filter on symbol\n",
    "    \"\"\"\n",
    "    \n",
    "    data = []\n",
    "    for day in days:\n",
    "        trade_df = get_file_trades(day)\n",
    "        trade_df[\"day\"] = day\n",
    "        data += [trade_df]\n",
    "    \n",
    "    # concat\n",
    "    trade_df = pd.concat(data)\n",
    "    \n",
    "    \n",
    "    trade_df = trade_df.rename({\"timestamp\": \"time\", \"product\": \"symbol\"}, axis=1)\n",
    "    \n",
    "    if symbol is not None:\n",
    "        # filter for specific symbol\n",
    "        trade_df = trade_df[trade_df[\"symbol\"] == symbol]\n",
    "    \n",
    "    # fix times, sort by time and reindex\n",
    "    trade_df[\"time\"] = trade_df[\"time\"] + trade_df[\"day\"] * _time_per_day\n",
    "    trade_df = trade_df.sort_values(by=\"time\").reset_index(drop=True)\n",
    "    \n",
    "    return trade_df\n",
    "\n",
    "def get_all_mids(days):\n",
    "    price_df = get_symbol_prices(symbol=None, days=days)\n",
    "    \n",
    "    symbols = set(price_df[\"symbol\"])\n",
    "    \n",
    "    return price_df[[\"time\", \"symbol\", \"mid_price\"]].rename({\"mid_price\": \"mid\"}, axis=1).copy()"
   ]
  },
  {
   "cell_type": "code",
   "execution_count": null,
   "id": "3e7af33d",
   "metadata": {},
   "outputs": [],
   "source": []
  },
  {
   "cell_type": "code",
   "execution_count": 7,
   "id": "2b20e0e7",
   "metadata": {
    "ExecuteTime": {
     "end_time": "2023-03-26T05:00:25.374775Z",
     "start_time": "2023-03-26T05:00:25.371237Z"
    }
   },
   "outputs": [],
   "source": [
    "def get_book_large_size(price_df, side):\n",
    "    \"\"\" \n",
    "    side = 'buy' or 'sell' \n",
    "    \n",
    "    Returns prices, sizes\n",
    "    \"\"\"\n",
    "    \n",
    "    book_range = list(range(1, 3+1))\n",
    "    \n",
    "    # get bids\n",
    "    bid_sizes = price_df[[f\"{side}_volume_{i}\" for i in book_range]]\n",
    "    bid_prices = price_df[[f\"{side}_price_{i}\" for i in book_range]]\n",
    "\n",
    "    # replace nan with -1\n",
    "    bid_sizes = bid_sizes.replace(np.nan, -1)\n",
    "\n",
    "    # find inds\n",
    "    inds = np.argmax(bid_sizes.to_numpy(), axis=1)\n",
    "\n",
    "    # filter to keep largest bids\n",
    "    bid_prices = bid_prices.to_numpy()[np.arange(len(bid_prices)), inds]\n",
    "    bid_sizes = bid_sizes.to_numpy()[np.arange(len(bid_sizes)), inds]\n",
    "    \n",
    "    # create dataframe\n",
    "    df = pd.DataFrame([bid_prices, bid_sizes]).T\n",
    "    df.columns = [f\"{side}_price\", f\"{side}_size\"]\n",
    "    df[\"time\"] = price_df[\"time\"].reset_index()[\"time\"]\n",
    "    \n",
    "    return df\n",
    "\n",
    "\n",
    "def get_whale_quotes(price_df):\n",
    "    # get big buy/sell quotes\n",
    "    buy_df = get_book_large_size(price_df, \"buy\")\n",
    "    sell_df = get_book_large_size(price_df, \"sell\")\n",
    "\n",
    "    # create big quote_df\n",
    "    quote_df = pd.merge(buy_df, sell_df, on=\"time\")\n",
    "    quote_df[\"mid_price\"] = (quote_df[\"buy_price\"] + quote_df[\"sell_price\"]) / 2\n",
    "    quote_df[\"spread\"] = quote_df[\"sell_price\"] - quote_df[\"buy_price\"]\n",
    "\n",
    "    return quote_df"
   ]
  },
  {
   "cell_type": "code",
   "execution_count": 8,
   "id": "292faed1",
   "metadata": {
    "ExecuteTime": {
     "end_time": "2023-03-26T05:00:25.377995Z",
     "start_time": "2023-03-26T05:00:25.375648Z"
    }
   },
   "outputs": [],
   "source": [
    "def scatter_noise(x, y, xnoise=0.1, ynoise=0.1, s=0.1, label=None):\n",
    "    xp = x + np.random.normal(scale=xnoise, size=len(x))\n",
    "    yp = y + np.random.normal(scale=ynoise, size=len(y))\n",
    "    \n",
    "    plt.scatter(\n",
    "        xp, yp, \n",
    "        s=s, \n",
    "        label=label,\n",
    "    )"
   ]
  },
  {
   "cell_type": "markdown",
   "id": "4140fc3a",
   "metadata": {},
   "source": [
    "## Dolphin vs Gear - Leading indicator"
   ]
  },
  {
   "cell_type": "code",
   "execution_count": 9,
   "id": "5d45bf98",
   "metadata": {
    "ExecuteTime": {
     "end_time": "2023-03-26T05:00:26.299559Z",
     "start_time": "2023-03-26T05:00:25.378945Z"
    }
   },
   "outputs": [
    {
     "name": "stdout",
     "output_type": "stream",
     "text": [
      "fname ../data/round3/trades_round_3_day_0_nn.csv\n",
      "fname ../data/round3/trades_round_3_day_1_nn.csv\n",
      "fname ../data/round3/trades_round_3_day_2_nn.csv\n",
      "fname ../data/round3/prices_round_3_day_0.csv\n",
      "fname ../data/round3/prices_round_3_day_1.csv\n",
      "fname ../data/round3/prices_round_3_day_2.csv\n",
      "fname ../data/round3/prices_round_3_day_0.csv\n",
      "fname ../data/round3/prices_round_3_day_1.csv\n",
      "fname ../data/round3/prices_round_3_day_2.csv\n",
      "model  \n",
      "6.829 x + 7.852e+04\n"
     ]
    },
    {
     "data": {
      "image/png": "[encoded data removed]",
      "text/plain": [
       "<Figure size 640x480 with 1 Axes>"
      ]
     },
     "metadata": {},
     "output_type": "display_data"
    },
    {
     "data": {
      "image/png": "[encoded data removed]",
      "text/plain": [
       "<Figure size 640x480 with 2 Axes>"
      ]
     },
     "metadata": {},
     "output_type": "display_data"
    }
   ],
   "source": [
    "_day_range = [0, 1, 2]\n",
    "# _day_range = [1, 2]\n",
    "\n",
    "# get trade data for gear\n",
    "trade_df = get_symbol_trades(\"DIVING_GEAR\", _day_range)\n",
    "\n",
    "# get gear data\n",
    "gear_price_df = get_symbol_prices(\"DIVING_GEAR\", _day_range)\n",
    "gear_df = get_whale_quotes(gear_price_df)\n",
    "\n",
    "# get dol data\n",
    "dol_df = get_all_mids(_day_range)\n",
    "dol_df = dol_df[dol_df[\"symbol\"] == \"DOLPHIN_SIGHTINGS\"].reset_index(drop=True)\n",
    "\n",
    "# combine into single dataframe\n",
    "pair_df = gear_df[[\"time\"]].copy()\n",
    "pair_df[\"gear\"] = gear_df[\"mid_price\"]\n",
    "pair_df[\"dol\"] = dol_df[\"mid\"]\n",
    "\n",
    "# pair_df = pair_df.iloc[5000:].reset_index(drop=True)\n",
    "\n",
    "# fit linreg to data\n",
    "model = np.poly1d(np.polyfit(pair_df[\"dol\"], pair_df[\"gear\"], deg=1))\n",
    "print(\"model\", model)\n",
    "plt.plot(pair_df[\"dol\"], pair_df[\"gear\"])\n",
    "plt.plot(pair_df[\"dol\"], model(pair_df[\"dol\"]))\n",
    "plt.plot(pair_df[\"dol\"], 16 * pair_df[\"dol\"] + 50000)\n",
    "plt.show()\n",
    "\n",
    "\n",
    "# plot dol/gear over time\n",
    "ax = plt.gca()\n",
    "ax.plot(pair_df[\"dol\"])\n",
    "\n",
    "ax2 = ax.twinx()\n",
    "ax2.plot(pair_df[\"gear\"], color=\"orange\")\n",
    "plt.show()"
   ]
  },
  {
   "cell_type": "code",
   "execution_count": null,
   "id": "44f1e201",
   "metadata": {},
   "outputs": [],
   "source": []
  },
  {
   "cell_type": "markdown",
   "id": "8633b3ca",
   "metadata": {},
   "source": [
    "### dol / gear change histograms"
   ]
  },
  {
   "cell_type": "code",
   "execution_count": 10,
   "id": "04f31c59",
   "metadata": {
    "ExecuteTime": {
     "end_time": "2023-03-26T05:00:26.541629Z",
     "start_time": "2023-03-26T05:00:26.302173Z"
    },
    "scrolled": false
   },
   "outputs": [
    {
     "data": {
      "image/png": "[encoded data removed]",
      "text/plain": [
       "<Figure size 1000x500 with 4 Axes>"
      ]
     },
     "metadata": {},
     "output_type": "display_data"
    },
    {
     "name": "stdout",
     "output_type": "stream",
     "text": [
      "dol stats\n"
     ]
    },
    {
     "data": {
      "text/html": [
       "<div>\n",
       "<style scoped>\n",
       "    .dataframe tbody tr th:only-of-type {\n",
       "        vertical-align: middle;\n",
       "    }\n",
       "\n",
       "    .dataframe tbody tr th {\n",
       "        vertical-align: top;\n",
       "    }\n",
       "\n",
       "    .dataframe thead th {\n",
       "        text-align: right;\n",
       "    }\n",
       "</style>\n",
       "<table border=\"1\" class=\"dataframe\">\n",
       "  <thead>\n",
       "    <tr style=\"text-align: right;\">\n",
       "      <th></th>\n",
       "      <th>count</th>\n",
       "      <th>mean</th>\n",
       "      <th>std</th>\n",
       "      <th>min</th>\n",
       "      <th>25%</th>\n",
       "      <th>50%</th>\n",
       "      <th>75%</th>\n",
       "      <th>max</th>\n",
       "    </tr>\n",
       "  </thead>\n",
       "  <tbody>\n",
       "    <tr>\n",
       "      <th>dol</th>\n",
       "      <td>29999.0</td>\n",
       "      <td>0.003133</td>\n",
       "      <td>0.52052</td>\n",
       "      <td>-19.0</td>\n",
       "      <td>0.0</td>\n",
       "      <td>0.0</td>\n",
       "      <td>0.0</td>\n",
       "      <td>26.0</td>\n",
       "    </tr>\n",
       "  </tbody>\n",
       "</table>\n",
       "</div>"
      ],
      "text/plain": [
       "       count      mean      std   min  25%  50%  75%   max\n",
       "dol  29999.0  0.003133  0.52052 -19.0  0.0  0.0  0.0  26.0"
      ]
     },
     "metadata": {},
     "output_type": "display_data"
    },
    {
     "name": "stdout",
     "output_type": "stream",
     "text": [
      "gear stats\n"
     ]
    },
    {
     "data": {
      "text/html": [
       "<div>\n",
       "<style scoped>\n",
       "    .dataframe tbody tr th:only-of-type {\n",
       "        vertical-align: middle;\n",
       "    }\n",
       "\n",
       "    .dataframe tbody tr th {\n",
       "        vertical-align: top;\n",
       "    }\n",
       "\n",
       "    .dataframe thead th {\n",
       "        text-align: right;\n",
       "    }\n",
       "</style>\n",
       "<table border=\"1\" class=\"dataframe\">\n",
       "  <thead>\n",
       "    <tr style=\"text-align: right;\">\n",
       "      <th></th>\n",
       "      <th>count</th>\n",
       "      <th>mean</th>\n",
       "      <th>std</th>\n",
       "      <th>min</th>\n",
       "      <th>25%</th>\n",
       "      <th>50%</th>\n",
       "      <th>75%</th>\n",
       "      <th>max</th>\n",
       "    </tr>\n",
       "  </thead>\n",
       "  <tbody>\n",
       "    <tr>\n",
       "      <th>gear</th>\n",
       "      <td>29999.0</td>\n",
       "      <td>0.005984</td>\n",
       "      <td>6.220134</td>\n",
       "      <td>-26.0</td>\n",
       "      <td>-4.0</td>\n",
       "      <td>0.0</td>\n",
       "      <td>4.0</td>\n",
       "      <td>25.5</td>\n",
       "    </tr>\n",
       "  </tbody>\n",
       "</table>\n",
       "</div>"
      ],
      "text/plain": [
       "        count      mean       std   min  25%  50%  75%   max\n",
       "gear  29999.0  0.005984  6.220134 -26.0 -4.0  0.0  4.0  25.5"
      ]
     },
     "metadata": {},
     "output_type": "display_data"
    }
   ],
   "source": [
    "plt.figure(figsize=(10, 5))\n",
    "\n",
    "plt.subplot(221)\n",
    "plt.hist(pair_df[\"dol\"], bins=20)\n",
    "plt.title(\"dol\")\n",
    "\n",
    "plt.subplot(222)\n",
    "plt.hist(pair_df[\"gear\"], bins=20)\n",
    "plt.title(\"gear\")\n",
    "\n",
    "plt.subplot(223)\n",
    "plt.hist(pair_df[\"dol\"].diff(1), bins=100)\n",
    "plt.title(\"dol change\")\n",
    "\n",
    "plt.subplot(224)\n",
    "plt.hist(pair_df[\"gear\"].diff(1), bins=20)\n",
    "plt.title(\"gear change\")\n",
    "\n",
    "plt.tight_layout()\n",
    "plt.show()\n",
    "\n",
    "# print stats\n",
    "print(\"dol stats\")\n",
    "display(pair_df[\"dol\"].diff(1).describe().to_frame().T)\n",
    "print(\"gear stats\")\n",
    "\n",
    "display(pair_df[\"gear\"].diff(1).describe().to_frame().T)"
   ]
  },
  {
   "cell_type": "markdown",
   "id": "1a5ee007",
   "metadata": {},
   "source": [
    "#### dol/gear change filtered\n"
   ]
  },
  {
   "cell_type": "code",
   "execution_count": 11,
   "id": "521604bb",
   "metadata": {
    "ExecuteTime": {
     "end_time": "2023-03-26T05:00:26.544871Z",
     "start_time": "2023-03-26T05:00:26.542682Z"
    }
   },
   "outputs": [],
   "source": [
    "pair_df[\"dol_change\"] = pair_df[\"dol\"].diff(1) "
   ]
  },
  {
   "cell_type": "code",
   "execution_count": 12,
   "id": "5104d135",
   "metadata": {
    "ExecuteTime": {
     "end_time": "2023-03-26T05:00:27.359884Z",
     "start_time": "2023-03-26T05:00:26.546165Z"
    }
   },
   "outputs": [
    {
     "ename": "KeyboardInterrupt",
     "evalue": "",
     "output_type": "error",
     "traceback": [
      "\u001b[0;31m---------------------------------------------------------------------------\u001b[0m",
      "\u001b[0;31mKeyboardInterrupt\u001b[0m                         Traceback (most recent call last)",
      "Cell \u001b[0;32mIn[12], line 10\u001b[0m\n\u001b[1;32m      8\u001b[0m plt\u001b[38;5;241m.\u001b[39mfigure(figsize\u001b[38;5;241m=\u001b[39m(\u001b[38;5;241m10\u001b[39m, \u001b[38;5;241m5\u001b[39m))\n\u001b[1;32m      9\u001b[0m plt\u001b[38;5;241m.\u001b[39msubplot(\u001b[38;5;241m311\u001b[39m)\n\u001b[0;32m---> 10\u001b[0m \u001b[43mplt\u001b[49m\u001b[38;5;241;43m.\u001b[39;49m\u001b[43mhist\u001b[49m\u001b[43m(\u001b[49m\u001b[43mpair_df\u001b[49m\u001b[43m[\u001b[49m\u001b[38;5;124;43m\"\u001b[39;49m\u001b[38;5;124;43mgear_change\u001b[39;49m\u001b[38;5;124;43m\"\u001b[39;49m\u001b[43m]\u001b[49m\u001b[43m[\u001b[49m\u001b[43mups\u001b[49m\u001b[43m]\u001b[49m\u001b[43m,\u001b[49m\u001b[43m \u001b[49m\u001b[43mbins\u001b[49m\u001b[38;5;241;43m=\u001b[39;49m\u001b[38;5;241;43m100\u001b[39;49m\u001b[43m)\u001b[49m\n\u001b[1;32m     11\u001b[0m plt\u001b[38;5;241m.\u001b[39mxlim(\u001b[38;5;241m-\u001b[39m\u001b[38;5;241m20\u001b[39m, \u001b[38;5;241m20\u001b[39m)\n\u001b[1;32m     13\u001b[0m plt\u001b[38;5;241m.\u001b[39msubplot(\u001b[38;5;241m312\u001b[39m)\n",
      "File \u001b[0;32m~/opt/miniconda3/envs/quant/lib/python3.9/site-packages/matplotlib/pyplot.py:2600\u001b[0m, in \u001b[0;36mhist\u001b[0;34m(x, bins, range, density, weights, cumulative, bottom, histtype, align, orientation, rwidth, log, color, label, stacked, data, **kwargs)\u001b[0m\n\u001b[1;32m   2594\u001b[0m \u001b[38;5;129m@_copy_docstring_and_deprecators\u001b[39m(Axes\u001b[38;5;241m.\u001b[39mhist)\n\u001b[1;32m   2595\u001b[0m \u001b[38;5;28;01mdef\u001b[39;00m \u001b[38;5;21mhist\u001b[39m(\n\u001b[1;32m   2596\u001b[0m         x, bins\u001b[38;5;241m=\u001b[39m\u001b[38;5;28;01mNone\u001b[39;00m, \u001b[38;5;28mrange\u001b[39m\u001b[38;5;241m=\u001b[39m\u001b[38;5;28;01mNone\u001b[39;00m, density\u001b[38;5;241m=\u001b[39m\u001b[38;5;28;01mFalse\u001b[39;00m, weights\u001b[38;5;241m=\u001b[39m\u001b[38;5;28;01mNone\u001b[39;00m,\n\u001b[1;32m   2597\u001b[0m         cumulative\u001b[38;5;241m=\u001b[39m\u001b[38;5;28;01mFalse\u001b[39;00m, bottom\u001b[38;5;241m=\u001b[39m\u001b[38;5;28;01mNone\u001b[39;00m, histtype\u001b[38;5;241m=\u001b[39m\u001b[38;5;124m'\u001b[39m\u001b[38;5;124mbar\u001b[39m\u001b[38;5;124m'\u001b[39m, align\u001b[38;5;241m=\u001b[39m\u001b[38;5;124m'\u001b[39m\u001b[38;5;124mmid\u001b[39m\u001b[38;5;124m'\u001b[39m,\n\u001b[1;32m   2598\u001b[0m         orientation\u001b[38;5;241m=\u001b[39m\u001b[38;5;124m'\u001b[39m\u001b[38;5;124mvertical\u001b[39m\u001b[38;5;124m'\u001b[39m, rwidth\u001b[38;5;241m=\u001b[39m\u001b[38;5;28;01mNone\u001b[39;00m, log\u001b[38;5;241m=\u001b[39m\u001b[38;5;28;01mFalse\u001b[39;00m, color\u001b[38;5;241m=\u001b[39m\u001b[38;5;28;01mNone\u001b[39;00m,\n\u001b[1;32m   2599\u001b[0m         label\u001b[38;5;241m=\u001b[39m\u001b[38;5;28;01mNone\u001b[39;00m, stacked\u001b[38;5;241m=\u001b[39m\u001b[38;5;28;01mFalse\u001b[39;00m, \u001b[38;5;241m*\u001b[39m, data\u001b[38;5;241m=\u001b[39m\u001b[38;5;28;01mNone\u001b[39;00m, \u001b[38;5;241m*\u001b[39m\u001b[38;5;241m*\u001b[39mkwargs):\n\u001b[0;32m-> 2600\u001b[0m     \u001b[38;5;28;01mreturn\u001b[39;00m \u001b[43mgca\u001b[49m\u001b[43m(\u001b[49m\u001b[43m)\u001b[49m\u001b[38;5;241;43m.\u001b[39;49m\u001b[43mhist\u001b[49m\u001b[43m(\u001b[49m\n\u001b[1;32m   2601\u001b[0m \u001b[43m        \u001b[49m\u001b[43mx\u001b[49m\u001b[43m,\u001b[49m\u001b[43m \u001b[49m\u001b[43mbins\u001b[49m\u001b[38;5;241;43m=\u001b[39;49m\u001b[43mbins\u001b[49m\u001b[43m,\u001b[49m\u001b[43m \u001b[49m\u001b[38;5;28;43mrange\u001b[39;49m\u001b[38;5;241;43m=\u001b[39;49m\u001b[38;5;28;43mrange\u001b[39;49m\u001b[43m,\u001b[49m\u001b[43m \u001b[49m\u001b[43mdensity\u001b[49m\u001b[38;5;241;43m=\u001b[39;49m\u001b[43mdensity\u001b[49m\u001b[43m,\u001b[49m\u001b[43m \u001b[49m\u001b[43mweights\u001b[49m\u001b[38;5;241;43m=\u001b[39;49m\u001b[43mweights\u001b[49m\u001b[43m,\u001b[49m\n\u001b[1;32m   2602\u001b[0m \u001b[43m        \u001b[49m\u001b[43mcumulative\u001b[49m\u001b[38;5;241;43m=\u001b[39;49m\u001b[43mcumulative\u001b[49m\u001b[43m,\u001b[49m\u001b[43m \u001b[49m\u001b[43mbottom\u001b[49m\u001b[38;5;241;43m=\u001b[39;49m\u001b[43mbottom\u001b[49m\u001b[43m,\u001b[49m\u001b[43m \u001b[49m\u001b[43mhisttype\u001b[49m\u001b[38;5;241;43m=\u001b[39;49m\u001b[43mhisttype\u001b[49m\u001b[43m,\u001b[49m\n\u001b[1;32m   2603\u001b[0m \u001b[43m        \u001b[49m\u001b[43malign\u001b[49m\u001b[38;5;241;43m=\u001b[39;49m\u001b[43malign\u001b[49m\u001b[43m,\u001b[49m\u001b[43m \u001b[49m\u001b[43morientation\u001b[49m\u001b[38;5;241;43m=\u001b[39;49m\u001b[43morientation\u001b[49m\u001b[43m,\u001b[49m\u001b[43m \u001b[49m\u001b[43mrwidth\u001b[49m\u001b[38;5;241;43m=\u001b[39;49m\u001b[43mrwidth\u001b[49m\u001b[43m,\u001b[49m\u001b[43m \u001b[49m\u001b[43mlog\u001b[49m\u001b[38;5;241;43m=\u001b[39;49m\u001b[43mlog\u001b[49m\u001b[43m,\u001b[49m\n\u001b[1;32m   2604\u001b[0m \u001b[43m        \u001b[49m\u001b[43mcolor\u001b[49m\u001b[38;5;241;43m=\u001b[39;49m\u001b[43mcolor\u001b[49m\u001b[43m,\u001b[49m\u001b[43m \u001b[49m\u001b[43mlabel\u001b[49m\u001b[38;5;241;43m=\u001b[39;49m\u001b[43mlabel\u001b[49m\u001b[43m,\u001b[49m\u001b[43m \u001b[49m\u001b[43mstacked\u001b[49m\u001b[38;5;241;43m=\u001b[39;49m\u001b[43mstacked\u001b[49m\u001b[43m,\u001b[49m\n\u001b[1;32m   2605\u001b[0m \u001b[43m        \u001b[49m\u001b[38;5;241;43m*\u001b[39;49m\u001b[38;5;241;43m*\u001b[39;49m\u001b[43m(\u001b[49m\u001b[43m{\u001b[49m\u001b[38;5;124;43m\"\u001b[39;49m\u001b[38;5;124;43mdata\u001b[39;49m\u001b[38;5;124;43m\"\u001b[39;49m\u001b[43m:\u001b[49m\u001b[43m \u001b[49m\u001b[43mdata\u001b[49m\u001b[43m}\u001b[49m\u001b[43m \u001b[49m\u001b[38;5;28;43;01mif\u001b[39;49;00m\u001b[43m \u001b[49m\u001b[43mdata\u001b[49m\u001b[43m \u001b[49m\u001b[38;5;129;43;01mis\u001b[39;49;00m\u001b[43m \u001b[49m\u001b[38;5;129;43;01mnot\u001b[39;49;00m\u001b[43m \u001b[49m\u001b[38;5;28;43;01mNone\u001b[39;49;00m\u001b[43m \u001b[49m\u001b[38;5;28;43;01melse\u001b[39;49;00m\u001b[43m \u001b[49m\u001b[43m{\u001b[49m\u001b[43m}\u001b[49m\u001b[43m)\u001b[49m\u001b[43m,\u001b[49m\u001b[43m \u001b[49m\u001b[38;5;241;43m*\u001b[39;49m\u001b[38;5;241;43m*\u001b[39;49m\u001b[43mkwargs\u001b[49m\u001b[43m)\u001b[49m\n",
      "File \u001b[0;32m~/opt/miniconda3/envs/quant/lib/python3.9/site-packages/matplotlib/__init__.py:1414\u001b[0m, in \u001b[0;36m_preprocess_data.<locals>.inner\u001b[0;34m(ax, data, *args, **kwargs)\u001b[0m\n\u001b[1;32m   1411\u001b[0m \u001b[38;5;129m@functools\u001b[39m\u001b[38;5;241m.\u001b[39mwraps(func)\n\u001b[1;32m   1412\u001b[0m \u001b[38;5;28;01mdef\u001b[39;00m \u001b[38;5;21minner\u001b[39m(ax, \u001b[38;5;241m*\u001b[39margs, data\u001b[38;5;241m=\u001b[39m\u001b[38;5;28;01mNone\u001b[39;00m, \u001b[38;5;241m*\u001b[39m\u001b[38;5;241m*\u001b[39mkwargs):\n\u001b[1;32m   1413\u001b[0m     \u001b[38;5;28;01mif\u001b[39;00m data \u001b[38;5;129;01mis\u001b[39;00m \u001b[38;5;28;01mNone\u001b[39;00m:\n\u001b[0;32m-> 1414\u001b[0m         \u001b[38;5;28;01mreturn\u001b[39;00m \u001b[43mfunc\u001b[49m\u001b[43m(\u001b[49m\u001b[43max\u001b[49m\u001b[43m,\u001b[49m\u001b[43m \u001b[49m\u001b[38;5;241;43m*\u001b[39;49m\u001b[38;5;28;43mmap\u001b[39;49m\u001b[43m(\u001b[49m\u001b[43msanitize_sequence\u001b[49m\u001b[43m,\u001b[49m\u001b[43m \u001b[49m\u001b[43margs\u001b[49m\u001b[43m)\u001b[49m\u001b[43m,\u001b[49m\u001b[43m \u001b[49m\u001b[38;5;241;43m*\u001b[39;49m\u001b[38;5;241;43m*\u001b[39;49m\u001b[43mkwargs\u001b[49m\u001b[43m)\u001b[49m\n\u001b[1;32m   1416\u001b[0m     bound \u001b[38;5;241m=\u001b[39m new_sig\u001b[38;5;241m.\u001b[39mbind(ax, \u001b[38;5;241m*\u001b[39margs, \u001b[38;5;241m*\u001b[39m\u001b[38;5;241m*\u001b[39mkwargs)\n\u001b[1;32m   1417\u001b[0m     auto_label \u001b[38;5;241m=\u001b[39m (bound\u001b[38;5;241m.\u001b[39marguments\u001b[38;5;241m.\u001b[39mget(label_namer)\n\u001b[1;32m   1418\u001b[0m                   \u001b[38;5;129;01mor\u001b[39;00m bound\u001b[38;5;241m.\u001b[39mkwargs\u001b[38;5;241m.\u001b[39mget(label_namer))\n",
      "File \u001b[0;32m~/opt/miniconda3/envs/quant/lib/python3.9/site-packages/matplotlib/axes/_axes.py:6700\u001b[0m, in \u001b[0;36mAxes.hist\u001b[0;34m(self, x, bins, range, density, weights, cumulative, bottom, histtype, align, orientation, rwidth, log, color, label, stacked, **kwargs)\u001b[0m\n\u001b[1;32m   6698\u001b[0m \u001b[38;5;28;01melse\u001b[39;00m:\n\u001b[1;32m   6699\u001b[0m     height \u001b[38;5;241m=\u001b[39m m\n\u001b[0;32m-> 6700\u001b[0m bars \u001b[38;5;241m=\u001b[39m \u001b[43m_barfunc\u001b[49m\u001b[43m(\u001b[49m\u001b[43mbins\u001b[49m\u001b[43m[\u001b[49m\u001b[43m:\u001b[49m\u001b[38;5;241;43m-\u001b[39;49m\u001b[38;5;241;43m1\u001b[39;49m\u001b[43m]\u001b[49m\u001b[38;5;241;43m+\u001b[39;49m\u001b[43mboffset\u001b[49m\u001b[43m,\u001b[49m\u001b[43m \u001b[49m\u001b[43mheight\u001b[49m\u001b[43m,\u001b[49m\u001b[43m \u001b[49m\u001b[43mwidth\u001b[49m\u001b[43m,\u001b[49m\n\u001b[1;32m   6701\u001b[0m \u001b[43m                \u001b[49m\u001b[43malign\u001b[49m\u001b[38;5;241;43m=\u001b[39;49m\u001b[38;5;124;43m'\u001b[39;49m\u001b[38;5;124;43mcenter\u001b[39;49m\u001b[38;5;124;43m'\u001b[39;49m\u001b[43m,\u001b[49m\u001b[43m \u001b[49m\u001b[43mlog\u001b[49m\u001b[38;5;241;43m=\u001b[39;49m\u001b[43mlog\u001b[49m\u001b[43m,\u001b[49m\n\u001b[1;32m   6702\u001b[0m \u001b[43m                \u001b[49m\u001b[43mcolor\u001b[49m\u001b[38;5;241;43m=\u001b[39;49m\u001b[43mc\u001b[49m\u001b[43m,\u001b[49m\u001b[43m \u001b[49m\u001b[38;5;241;43m*\u001b[39;49m\u001b[38;5;241;43m*\u001b[39;49m\u001b[43m{\u001b[49m\u001b[43mbottom_kwarg\u001b[49m\u001b[43m:\u001b[49m\u001b[43m \u001b[49m\u001b[43mbottom\u001b[49m\u001b[43m}\u001b[49m\u001b[43m)\u001b[49m\n\u001b[1;32m   6703\u001b[0m patches\u001b[38;5;241m.\u001b[39mappend(bars)\n\u001b[1;32m   6704\u001b[0m \u001b[38;5;28;01mif\u001b[39;00m stacked:\n",
      "File \u001b[0;32m~/opt/miniconda3/envs/quant/lib/python3.9/site-packages/matplotlib/__init__.py:1414\u001b[0m, in \u001b[0;36m_preprocess_data.<locals>.inner\u001b[0;34m(ax, data, *args, **kwargs)\u001b[0m\n\u001b[1;32m   1411\u001b[0m \u001b[38;5;129m@functools\u001b[39m\u001b[38;5;241m.\u001b[39mwraps(func)\n\u001b[1;32m   1412\u001b[0m \u001b[38;5;28;01mdef\u001b[39;00m \u001b[38;5;21minner\u001b[39m(ax, \u001b[38;5;241m*\u001b[39margs, data\u001b[38;5;241m=\u001b[39m\u001b[38;5;28;01mNone\u001b[39;00m, \u001b[38;5;241m*\u001b[39m\u001b[38;5;241m*\u001b[39mkwargs):\n\u001b[1;32m   1413\u001b[0m     \u001b[38;5;28;01mif\u001b[39;00m data \u001b[38;5;129;01mis\u001b[39;00m \u001b[38;5;28;01mNone\u001b[39;00m:\n\u001b[0;32m-> 1414\u001b[0m         \u001b[38;5;28;01mreturn\u001b[39;00m \u001b[43mfunc\u001b[49m\u001b[43m(\u001b[49m\u001b[43max\u001b[49m\u001b[43m,\u001b[49m\u001b[43m \u001b[49m\u001b[38;5;241;43m*\u001b[39;49m\u001b[38;5;28;43mmap\u001b[39;49m\u001b[43m(\u001b[49m\u001b[43msanitize_sequence\u001b[49m\u001b[43m,\u001b[49m\u001b[43m \u001b[49m\u001b[43margs\u001b[49m\u001b[43m)\u001b[49m\u001b[43m,\u001b[49m\u001b[43m \u001b[49m\u001b[38;5;241;43m*\u001b[39;49m\u001b[38;5;241;43m*\u001b[39;49m\u001b[43mkwargs\u001b[49m\u001b[43m)\u001b[49m\n\u001b[1;32m   1416\u001b[0m     bound \u001b[38;5;241m=\u001b[39m new_sig\u001b[38;5;241m.\u001b[39mbind(ax, \u001b[38;5;241m*\u001b[39margs, \u001b[38;5;241m*\u001b[39m\u001b[38;5;241m*\u001b[39mkwargs)\n\u001b[1;32m   1417\u001b[0m     auto_label \u001b[38;5;241m=\u001b[39m (bound\u001b[38;5;241m.\u001b[39marguments\u001b[38;5;241m.\u001b[39mget(label_namer)\n\u001b[1;32m   1418\u001b[0m                   \u001b[38;5;129;01mor\u001b[39;00m bound\u001b[38;5;241m.\u001b[39mkwargs\u001b[38;5;241m.\u001b[39mget(label_namer))\n",
      "File \u001b[0;32m~/opt/miniconda3/envs/quant/lib/python3.9/site-packages/matplotlib/axes/_axes.py:2412\u001b[0m, in \u001b[0;36mAxes.bar\u001b[0;34m(self, x, height, width, bottom, align, **kwargs)\u001b[0m\n\u001b[1;32m   2410\u001b[0m     \u001b[38;5;28;01melif\u001b[39;00m orientation \u001b[38;5;241m==\u001b[39m \u001b[38;5;124m'\u001b[39m\u001b[38;5;124mhorizontal\u001b[39m\u001b[38;5;124m'\u001b[39m:\n\u001b[1;32m   2411\u001b[0m         r\u001b[38;5;241m.\u001b[39msticky_edges\u001b[38;5;241m.\u001b[39mx\u001b[38;5;241m.\u001b[39mappend(l)\n\u001b[0;32m-> 2412\u001b[0m     \u001b[38;5;28;43mself\u001b[39;49m\u001b[38;5;241;43m.\u001b[39;49m\u001b[43madd_patch\u001b[49m\u001b[43m(\u001b[49m\u001b[43mr\u001b[49m\u001b[43m)\u001b[49m\n\u001b[1;32m   2413\u001b[0m     patches\u001b[38;5;241m.\u001b[39mappend(r)\n\u001b[1;32m   2415\u001b[0m \u001b[38;5;28;01mif\u001b[39;00m xerr \u001b[38;5;129;01mis\u001b[39;00m \u001b[38;5;129;01mnot\u001b[39;00m \u001b[38;5;28;01mNone\u001b[39;00m \u001b[38;5;129;01mor\u001b[39;00m yerr \u001b[38;5;129;01mis\u001b[39;00m \u001b[38;5;129;01mnot\u001b[39;00m \u001b[38;5;28;01mNone\u001b[39;00m:\n",
      "File \u001b[0;32m~/opt/miniconda3/envs/quant/lib/python3.9/site-packages/matplotlib/axes/_base.py:2363\u001b[0m, in \u001b[0;36m_AxesBase.add_patch\u001b[0;34m(self, p)\u001b[0m\n\u001b[1;32m   2361\u001b[0m \u001b[38;5;28;01mif\u001b[39;00m p\u001b[38;5;241m.\u001b[39mget_clip_path() \u001b[38;5;129;01mis\u001b[39;00m \u001b[38;5;28;01mNone\u001b[39;00m:\n\u001b[1;32m   2362\u001b[0m     p\u001b[38;5;241m.\u001b[39mset_clip_path(\u001b[38;5;28mself\u001b[39m\u001b[38;5;241m.\u001b[39mpatch)\n\u001b[0;32m-> 2363\u001b[0m \u001b[38;5;28;43mself\u001b[39;49m\u001b[38;5;241;43m.\u001b[39;49m\u001b[43m_update_patch_limits\u001b[49m\u001b[43m(\u001b[49m\u001b[43mp\u001b[49m\u001b[43m)\u001b[49m\n\u001b[1;32m   2364\u001b[0m \u001b[38;5;28mself\u001b[39m\u001b[38;5;241m.\u001b[39m_children\u001b[38;5;241m.\u001b[39mappend(p)\n\u001b[1;32m   2365\u001b[0m p\u001b[38;5;241m.\u001b[39m_remove_method \u001b[38;5;241m=\u001b[39m \u001b[38;5;28mself\u001b[39m\u001b[38;5;241m.\u001b[39m_children\u001b[38;5;241m.\u001b[39mremove\n",
      "File \u001b[0;32m~/opt/miniconda3/envs/quant/lib/python3.9/site-packages/matplotlib/axes/_base.py:2386\u001b[0m, in \u001b[0;36m_AxesBase._update_patch_limits\u001b[0;34m(self, patch)\u001b[0m\n\u001b[1;32m   2384\u001b[0m \u001b[38;5;28;01mif\u001b[39;00m \u001b[38;5;129;01mnot\u001b[39;00m vertices\u001b[38;5;241m.\u001b[39msize:\n\u001b[1;32m   2385\u001b[0m     \u001b[38;5;28;01mreturn\u001b[39;00m\n\u001b[0;32m-> 2386\u001b[0m patch_trf \u001b[38;5;241m=\u001b[39m \u001b[43mpatch\u001b[49m\u001b[38;5;241;43m.\u001b[39;49m\u001b[43mget_transform\u001b[49m\u001b[43m(\u001b[49m\u001b[43m)\u001b[49m\n\u001b[1;32m   2387\u001b[0m updatex, updatey \u001b[38;5;241m=\u001b[39m patch_trf\u001b[38;5;241m.\u001b[39mcontains_branch_seperately(\u001b[38;5;28mself\u001b[39m\u001b[38;5;241m.\u001b[39mtransData)\n\u001b[1;32m   2388\u001b[0m \u001b[38;5;28;01mif\u001b[39;00m \u001b[38;5;129;01mnot\u001b[39;00m (updatex \u001b[38;5;129;01mor\u001b[39;00m updatey):\n",
      "File \u001b[0;32m~/opt/miniconda3/envs/quant/lib/python3.9/site-packages/matplotlib/patches.py:278\u001b[0m, in \u001b[0;36mPatch.get_transform\u001b[0;34m(self)\u001b[0m\n\u001b[1;32m    276\u001b[0m \u001b[38;5;28;01mdef\u001b[39;00m \u001b[38;5;21mget_transform\u001b[39m(\u001b[38;5;28mself\u001b[39m):\n\u001b[1;32m    277\u001b[0m \u001b[38;5;250m    \u001b[39m\u001b[38;5;124;03m\"\"\"Return the `~.transforms.Transform` applied to the `Patch`.\"\"\"\u001b[39;00m\n\u001b[0;32m--> 278\u001b[0m     \u001b[38;5;28;01mreturn\u001b[39;00m \u001b[38;5;28mself\u001b[39m\u001b[38;5;241m.\u001b[39mget_patch_transform() \u001b[38;5;241m+\u001b[39m \u001b[43martist\u001b[49m\u001b[38;5;241;43m.\u001b[39;49m\u001b[43mArtist\u001b[49m\u001b[38;5;241m.\u001b[39mget_transform(\u001b[38;5;28mself\u001b[39m)\n",
      "\u001b[0;31mKeyboardInterrupt\u001b[0m: "
     ]
    },
    {
     "data": {
      "image/png": "[encoded data removed]",
      "text/plain": [
       "<Figure size 1000x500 with 1 Axes>"
      ]
     },
     "metadata": {},
     "output_type": "display_data"
    }
   ],
   "source": [
    "ups = pair_df[\"dol_change\"] > 0\n",
    "downs = pair_df[\"dol_change\"] < 0\n",
    "sames = pair_df[\"dol_change\"] == 0\n",
    "\n",
    "pair_df[\"dol_sign\"] = np.sign(pair_df[\"dol_change\"])\n",
    "pair_df[\"gear_change\"] = pair_df[\"gear\"].diff(1)\n",
    "\n",
    "plt.figure(figsize=(10, 5))\n",
    "plt.subplot(311)\n",
    "plt.hist(pair_df[\"gear_change\"][ups], bins=100)\n",
    "plt.xlim(-20, 20)\n",
    "\n",
    "plt.subplot(312)\n",
    "plt.hist(pair_df[\"gear_change\"][downs], bins=100)\n",
    "plt.xlim(-20, 20)\n",
    "\n",
    "plt.subplot(313)\n",
    "plt.hist(pair_df[\"gear_change\"][sames], bins=100)\n",
    "plt.xlim(-20, 20)\n",
    "\n",
    "pair_df.groupby(\"dol_sign\")[[\"gear_change\"]].describe()"
   ]
  },
  {
   "cell_type": "code",
   "execution_count": null,
   "id": "e1ede2d3",
   "metadata": {},
   "outputs": [],
   "source": []
  },
  {
   "cell_type": "code",
   "execution_count": null,
   "id": "85279a8d",
   "metadata": {},
   "outputs": [],
   "source": []
  },
  {
   "cell_type": "code",
   "execution_count": null,
   "id": "56997b6f",
   "metadata": {},
   "outputs": [],
   "source": []
  },
  {
   "cell_type": "markdown",
   "id": "4cca5df8",
   "metadata": {},
   "source": [
    "### closer look into single event"
   ]
  },
  {
   "cell_type": "code",
   "execution_count": null,
   "id": "a52f0733",
   "metadata": {
    "ExecuteTime": {
     "end_time": "2023-03-26T05:00:27.475346Z",
     "start_time": "2023-03-26T05:00:27.475339Z"
    }
   },
   "outputs": [],
   "source": [
    "change = pair_df[\"dol\"].diff(25)\n",
    "special = pair_df[change.abs() > 5].copy()\n",
    "special[\"dol_change\"] = change\n",
    "display(special)"
   ]
  },
  {
   "cell_type": "code",
   "execution_count": null,
   "id": "d0e0375c",
   "metadata": {
    "ExecuteTime": {
     "end_time": "2023-03-26T05:00:27.476332Z",
     "start_time": "2023-03-26T05:00:27.476324Z"
    }
   },
   "outputs": [],
   "source": [
    "# all\n",
    "plt.figure(figsize=(13, 4))\n",
    "ax = plt.gca()\n",
    "ax.plot(pair_df[\"dol\"], linewidth=1)\n",
    "# ax.plot(pair_df[\"dol\"].ewm(span=200).mean(), linewidth=1, linestyle=\"--\", marker=None, color=\"green\")\n",
    "ax2 = ax.twinx()\n",
    "ax2.plot(pair_df[\"gear\"], linewidth=1, color=\"orange\")\n",
    "ax2.plot(pair_df[\"gear\"].ewm(span=500).mean(), linewidth=1, linestyle=\"--\", marker=None, color=\"red\")\n",
    "ax2.plot(pair_df[\"gear\"].ewm(span=500).mean(), linewidth=1, linestyle=\"-.\", marker=None, color=\"black\")\n",
    "\n",
    "for x in special.index:\n",
    "    if special.loc[x][\"dol_change\"] > 0:\n",
    "        color = \"green\"\n",
    "    else:\n",
    "        color = \"red\"\n",
    "    ax.axvline(x=x, color=color)\n",
    "\n",
    "plt.grid()\n",
    "plt.show()"
   ]
  },
  {
   "cell_type": "code",
   "execution_count": null,
   "id": "ce3dab4b",
   "metadata": {
    "ExecuteTime": {
     "end_time": "2023-03-26T05:00:27.477030Z",
     "start_time": "2023-03-26T05:00:27.477023Z"
    }
   },
   "outputs": [],
   "source": [
    "pair_df[\"gear\"]"
   ]
  },
  {
   "cell_type": "code",
   "execution_count": null,
   "id": "905a198f",
   "metadata": {},
   "outputs": [],
   "source": []
  },
  {
   "cell_type": "code",
   "execution_count": null,
   "id": "81f0e324",
   "metadata": {},
   "outputs": [],
   "source": []
  },
  {
   "cell_type": "code",
   "execution_count": null,
   "id": "c5087ecb",
   "metadata": {},
   "outputs": [],
   "source": []
  },
  {
   "cell_type": "code",
   "execution_count": null,
   "id": "dc9c8417",
   "metadata": {
    "ExecuteTime": {
     "end_time": "2023-03-26T05:00:27.477813Z",
     "start_time": "2023-03-26T05:00:27.477801Z"
    }
   },
   "outputs": [],
   "source": [
    "# closer look\n",
    "df = pair_df.iloc[20000:25000]\n",
    "# df = pair_df.iloc[5000:10000]\n",
    "# all\n",
    "plt.figure(figsize=(13, 4))\n",
    "ax = plt.gca()\n",
    "ax.plot(df[\"dol\"], linewidth=1)\n",
    "# ax.plot(pair_df[\"dol\"].ewm(span=200).mean(), linewidth=1, linestyle=\"--\", marker=None, color=\"green\")\n",
    "ax2 = ax.twinx()\n",
    "ax2.plot(df[\"gear\"], linewidth=1, color=\"orange\")\n",
    "ax2.plot(df[\"gear\"].ewm(span=100).mean(), linewidth=1, linestyle=\"--\", marker=None, color=\"red\")\n",
    "ax2.plot(df[\"gear\"].ewm(span=21).mean(), linewidth=1, linestyle=\"-.\", marker=None, color=\"black\")\n",
    "\n",
    "for x in special.index:\n",
    "    if x not in df.index:\n",
    "        continue\n",
    "    if special.loc[x][\"dol_change\"] > 0:\n",
    "        color = \"green\"\n",
    "    else:\n",
    "        color = \"red\"\n",
    "    ax.axvline(x=x, color=color)\n",
    "\n",
    "plt.grid()\n",
    "plt.show()"
   ]
  },
  {
   "cell_type": "markdown",
   "id": "f68bcac8",
   "metadata": {},
   "source": [
    "### closer look into single event"
   ]
  },
  {
   "cell_type": "code",
   "execution_count": null,
   "id": "b7f25fab",
   "metadata": {
    "ExecuteTime": {
     "end_time": "2023-03-26T05:00:27.478628Z",
     "start_time": "2023-03-26T05:00:27.478621Z"
    }
   },
   "outputs": [],
   "source": [
    "pair_df[pair_df[\"dol\"].diff(1).abs() > 5]"
   ]
  },
  {
   "cell_type": "markdown",
   "id": "16e7460a",
   "metadata": {},
   "source": [
    "### Gear Change Moving Average"
   ]
  },
  {
   "cell_type": "code",
   "execution_count": null,
   "id": "59d82ce0",
   "metadata": {
    "ExecuteTime": {
     "end_time": "2023-03-26T05:00:27.479459Z",
     "start_time": "2023-03-26T05:00:27.479453Z"
    }
   },
   "outputs": [],
   "source": [
    "lb, offset = 21200, 2000\n",
    "ub = lb + offset\n",
    "\n",
    "df = pair_df.iloc[lb:ub]\n",
    "\n",
    "diff = df[\"gear\"].diff(1)\n",
    "sma_diff = pair_df[\"gear\"].diff(1).rolling(20).mean().iloc[lb:ub]\n",
    "\n",
    "plt.figure(figsize=(10, 4))\n",
    "ax = plt.gca()\n",
    "ax.plot(diff, linewidth=1)\n",
    "ax.twinx().plot(sma_diff, linewidth=1, color=\"orange\")\n",
    "plt.show()\n",
    "\n",
    "plt.figure(figsize=(10, 4))\n",
    "ax = plt.gca()\n",
    "ax.plot(df[\"dol\"], linewidth=1)\n",
    "ax.twinx().plot(df[\"gear\"], linewidth=1, color=\"orange\")"
   ]
  },
  {
   "cell_type": "code",
   "execution_count": null,
   "id": "2ef83fc4",
   "metadata": {},
   "outputs": [],
   "source": []
  },
  {
   "cell_type": "code",
   "execution_count": null,
   "id": "e1f41eea",
   "metadata": {},
   "outputs": [],
   "source": []
  },
  {
   "cell_type": "markdown",
   "id": "cfbf5bed",
   "metadata": {},
   "source": [
    "### closer look into single event"
   ]
  },
  {
   "cell_type": "code",
   "execution_count": null,
   "id": "9643efbc",
   "metadata": {
    "ExecuteTime": {
     "end_time": "2023-03-26T05:00:27.480250Z",
     "start_time": "2023-03-26T05:00:27.480243Z"
    }
   },
   "outputs": [],
   "source": [
    "diff = 500\n",
    "plt.scatter(pair_df[\"dol\"].diff(diff), -1 * pair_df[\"gear\"].diff(-diff), s=1)"
   ]
  },
  {
   "cell_type": "code",
   "execution_count": null,
   "id": "d3c4a3b7",
   "metadata": {},
   "outputs": [],
   "source": []
  },
  {
   "cell_type": "code",
   "execution_count": null,
   "id": "8a92f894",
   "metadata": {},
   "outputs": [],
   "source": []
  },
  {
   "cell_type": "markdown",
   "id": "b227354a",
   "metadata": {},
   "source": [
    "### gear trade info"
   ]
  },
  {
   "cell_type": "code",
   "execution_count": null,
   "id": "76c19e8c",
   "metadata": {},
   "outputs": [],
   "source": []
  },
  {
   "cell_type": "code",
   "execution_count": null,
   "id": "ef69b0c1",
   "metadata": {
    "ExecuteTime": {
     "end_time": "2023-03-26T05:00:27.481363Z",
     "start_time": "2023-03-26T05:00:27.481353Z"
    }
   },
   "outputs": [],
   "source": [
    "# plot single event\n",
    "\n",
    "ind = 7997\n",
    "df = pair_df.loc[ind-500:ind+500]\n",
    "\n",
    "display(pair_df.loc[ind-5:ind+5])\n",
    "\n",
    "plt.figure(figsize=(10, 5))\n",
    "\n",
    "plt.subplot(121)\n",
    "# scatter dol/gear \n",
    "plt.plot(df[\"dol\"], df[\"gear\"])\n",
    "plt.plot(df[\"dol\"], df[\"dol\"] * 20 + 38000)\n",
    "\n",
    "# plot dol/gear over time\n",
    "plt.subplot(122)\n",
    "ax = plt.gca()\n",
    "ax.plot(df[\"time\"], df[\"dol\"])\n",
    "\n",
    "ax2 = ax.twinx()\n",
    "ax2.plot(df[\"time\"], df[\"gear\"], color=\"orange\", )\n"
   ]
  },
  {
   "cell_type": "code",
   "execution_count": null,
   "id": "c96ce422",
   "metadata": {
    "ExecuteTime": {
     "end_time": "2023-03-26T00:42:04.555745Z",
     "start_time": "2023-03-26T00:42:04.541295Z"
    }
   },
   "outputs": [],
   "source": []
  },
  {
   "cell_type": "code",
   "execution_count": null,
   "id": "9fd6f327",
   "metadata": {},
   "outputs": [],
   "source": []
  },
  {
   "cell_type": "code",
   "execution_count": null,
   "id": "27de39c1",
   "metadata": {},
   "outputs": [],
   "source": []
  },
  {
   "cell_type": "code",
   "execution_count": null,
   "id": "c5976130",
   "metadata": {},
   "outputs": [],
   "source": []
  },
  {
   "cell_type": "code",
   "execution_count": null,
   "id": "7838b83a",
   "metadata": {
    "ExecuteTime": {
     "end_time": "2023-03-26T05:00:27.482044Z",
     "start_time": "2023-03-26T05:00:27.482038Z"
    }
   },
   "outputs": [],
   "source": [
    "# find good offset\n",
    "shift = 500\n",
    "\n",
    "plt.figure(figsize=(10, 4))\n",
    "\n",
    "ind = 7997\n",
    "df = pair_df.loc[ind-500:ind+1000].copy()\n",
    "df[\"dol_shift\"] = df[\"dol\"].shift(shift)\n",
    "\n",
    "# plot dol/gear over time\n",
    "ax = plt.gca()\n",
    "ax.plot(df.index, df[\"dol\"], label=\"dol\")\n",
    "ax.plot(df.index, df[\"dol_shift\"], color=\"green\", label=\"dol_shift\")\n",
    "\n",
    "ax2 = ax.twinx()\n",
    "ax2.plot(df.index, df[\"gear\"], color=\"red\", label=\"gear\")\n",
    "\n",
    "ax.legend(loc=2)\n",
    "ax2.legend(loc=1)"
   ]
  },
  {
   "cell_type": "code",
   "execution_count": null,
   "id": "a42eec20",
   "metadata": {
    "ExecuteTime": {
     "end_time": "2023-03-26T05:00:27.482851Z",
     "start_time": "2023-03-26T05:00:27.482843Z"
    }
   },
   "outputs": [],
   "source": [
    "ax = plt.gca()\n",
    "\n",
    "# ax.plot(np.arange(10000), pair_df[\"dol\"].loc[:10000-1], label=1)\n",
    "ax.plot(np.arange(10000), pair_df[\"dol\"].loc[10000:20000-1], label=2)\n",
    "# ax.plot(np.arange(10000), pair_df[\"dol\"].loc[20000:], label=3)\n",
    "\n",
    "ax2 = ax.twinx()\n",
    "\n",
    "# ax2.plot(np.arange(10000), pair_df[\"gear\"].loc[:10000-1], label=1, color=\"red\")\n",
    "ax2.plot(np.arange(10000), pair_df[\"gear\"].loc[10000:20000-1], label=2, color=\"red\", alpha=0.5)\n",
    "# ax2.plot(np.arange(10000), pair_df[\"gear\"].loc[20000:], label=3, color=\"red\")\n",
    "\n",
    "ax.legend(loc=2)\n",
    "ax2.legend(loc=1)\n"
   ]
  },
  {
   "cell_type": "code",
   "execution_count": null,
   "id": "3fc69435",
   "metadata": {},
   "outputs": [],
   "source": []
  },
  {
   "cell_type": "code",
   "execution_count": null,
   "id": "5cc61fb8",
   "metadata": {
    "ExecuteTime": {
     "end_time": "2023-03-26T05:00:27.483574Z",
     "start_time": "2023-03-26T05:00:27.483568Z"
    }
   },
   "outputs": [],
   "source": [
    "def get_merged_data(x, y):\n",
    "    inds = x.index.intersection(y.index)\n",
    "    return x.loc[inds], y.loc[inds]"
   ]
  },
  {
   "cell_type": "markdown",
   "id": "6e6a7ec0",
   "metadata": {},
   "source": [
    "## past Dol Change -> future Gear change"
   ]
  },
  {
   "cell_type": "code",
   "execution_count": null,
   "id": "92a21613",
   "metadata": {
    "ExecuteTime": {
     "end_time": "2023-03-26T05:00:27.484538Z",
     "start_time": "2023-03-26T05:00:27.484527Z"
    }
   },
   "outputs": [],
   "source": [
    "diffs = [1, 3, 10, 30, 100, 300, 1000, 3000]\n",
    "\n",
    "plt.figure(figsize=(10, 10))\n",
    "\n",
    "model_data = []\n",
    "\n",
    "for index, lag in enumerate(diffs):\n",
    "    x = pair_df[\"dol\"].diff(lag).dropna()\n",
    "    y = -1 * pair_df[\"gear\"].diff(-1 * 1).dropna()\n",
    "    x, y = get_merged_data(x, y)\n",
    "\n",
    "    model = np.poly1d(np.polyfit(x, y, deg=1))\n",
    "    \n",
    "    score = round(r2_score(y, model(y)), 2)\n",
    "    \n",
    "    model_data += [{\n",
    "        \"m\": model.coef[0],\n",
    "        \"b\": model.coef[1],\n",
    "        \"r2\": score,\n",
    "    }]\n",
    "    \n",
    "    plt.subplot(4, 2, index + 1)\n",
    "    plt.scatter(x, y, s=1)\n",
    "    plt.plot(x, model(x), color=\"red\")\n",
    "    plt.title(f\"lag {lag}, m:{round(model.coef[0], 2)}, r2:{score}\")\n",
    "    \n",
    "plt.tight_layout()\n",
    "plt.show()\n",
    "\n",
    "model_df = pd.DataFrame(model_data)"
   ]
  },
  {
   "cell_type": "markdown",
   "id": "db8aa71f",
   "metadata": {},
   "source": [
    "### Lin Reg: dol_cur, gear_cur -> gear_next"
   ]
  },
  {
   "cell_type": "code",
   "execution_count": null,
   "id": "589720c5",
   "metadata": {
    "ExecuteTime": {
     "end_time": "2023-03-26T05:00:27.485253Z",
     "start_time": "2023-03-26T05:00:27.485247Z"
    }
   },
   "outputs": [],
   "source": [
    "from sklearn.linear_model import LinearRegression"
   ]
  },
  {
   "cell_type": "code",
   "execution_count": null,
   "id": "18c9d428",
   "metadata": {
    "ExecuteTime": {
     "end_time": "2023-03-26T05:00:27.485815Z",
     "start_time": "2023-03-26T05:00:27.485810Z"
    },
    "scrolled": false
   },
   "outputs": [],
   "source": [
    "# use current dolphin price and current gear price to predict next gear price\n",
    "\n",
    "try_turns = [1, 3, 10, 30, 100, 300, 500]\n",
    "# try_turns = [1, 3, 10, 30, 100, 300, 1000, 1500, 2000, 3000, 5000, 10000, 20000]\n",
    "\n",
    "for forecast_amt in try_turns:\n",
    "    pair_df[\"gear_next\"] = -1 * pair_df[\"gear\"].diff(-1 * forecast_amt)\n",
    "\n",
    "    # only keep non-nan points\n",
    "    df = pair_df.dropna()\n",
    "    X = df[[\"gear\", \"dol\"]]\n",
    "    y = df[\"gear_next\"]\n",
    "\n",
    "    # fit the model and print results\n",
    "    reg = LinearRegression().fit(X, y)\n",
    "    print(\"model\", forecast_amt, reg.coef_, reg.intercept_)\n",
    "    print(\"r2\", reg.score(X, y))\n",
    "    \n",
    "    plt.plot(y)\n",
    "    plt.plot(reg.predict(X))\n",
    "    \n",
    "    plt.title(f\"model {forecast_amt}\")\n",
    "    plt.show()"
   ]
  },
  {
   "cell_type": "code",
   "execution_count": null,
   "id": "a2d62aee",
   "metadata": {
    "ExecuteTime": {
     "end_time": "2023-03-26T05:00:27.486772Z",
     "start_time": "2023-03-26T05:00:27.486763Z"
    }
   },
   "outputs": [],
   "source": [
    "error = plt.plot(pair_df[\"gear\"] - (20 * pair_df[\"dol\"] + 40000))\n"
   ]
  },
  {
   "cell_type": "code",
   "execution_count": null,
   "id": "b2509a92",
   "metadata": {},
   "outputs": [],
   "source": []
  },
  {
   "cell_type": "code",
   "execution_count": null,
   "id": "ca057e53",
   "metadata": {},
   "outputs": [],
   "source": []
  },
  {
   "cell_type": "code",
   "execution_count": null,
   "id": "9329053d",
   "metadata": {
    "ExecuteTime": {
     "end_time": "2023-03-26T05:00:27.487569Z",
     "start_time": "2023-03-26T05:00:27.487556Z"
    }
   },
   "outputs": [],
   "source": [
    "# make results df\n",
    "res_df = pd.DataFrame({\n",
    "    \"pred\": reg.predict(X),\n",
    "    \"y\": y,\n",
    "})\n",
    "\n",
    "res_df[\"error\"] = res_df[\"y\"] - res_df[\"pred\"]\n",
    "\n",
    "abs_l1_err = np.mean(res_df[\"error\"].abs())\n",
    "mse = np.mean(res_df[\"error\"] ** 2)\n",
    "print(\"l1_err\", abs_l1_err)\n",
    "print(\"mse\", mse)\n",
    "\n",
    "# plot results\n",
    "plt.scatter(res_df[\"y\"], res_df[\"pred\"], s=1)\n"
   ]
  },
  {
   "cell_type": "code",
   "execution_count": null,
   "id": "5a487e79",
   "metadata": {
    "ExecuteTime": {
     "end_time": "2023-03-26T05:00:27.488490Z",
     "start_time": "2023-03-26T05:00:27.488484Z"
    }
   },
   "outputs": [],
   "source": [
    "plt.hist(res_df[\"error\"], bins=20)\n",
    "plt.show()"
   ]
  },
  {
   "cell_type": "code",
   "execution_count": null,
   "id": "d9724551",
   "metadata": {},
   "outputs": [],
   "source": []
  },
  {
   "cell_type": "code",
   "execution_count": null,
   "id": "2e600179",
   "metadata": {
    "ExecuteTime": {
     "end_time": "2023-03-26T05:00:27.489148Z",
     "start_time": "2023-03-26T05:00:27.489142Z"
    }
   },
   "outputs": [],
   "source": [
    "error = pair_df[\"gear\"] - (16 * pair_df[\"dol\"] + 50000)\n",
    "plt.plot(error)"
   ]
  },
  {
   "cell_type": "code",
   "execution_count": null,
   "id": "34accc55",
   "metadata": {
    "ExecuteTime": {
     "end_time": "2023-03-26T05:00:27.490499Z",
     "start_time": "2023-03-26T05:00:27.490492Z"
    }
   },
   "outputs": [],
   "source": [
    "check_stationary(error)"
   ]
  },
  {
   "cell_type": "markdown",
   "id": "062cfa70",
   "metadata": {},
   "source": [
    "### time lagged cross correlation"
   ]
  },
  {
   "cell_type": "code",
   "execution_count": null,
   "id": "a7b80cc0",
   "metadata": {
    "ExecuteTime": {
     "end_time": "2023-03-26T05:00:27.491263Z",
     "start_time": "2023-03-26T05:00:27.491255Z"
    }
   },
   "outputs": [],
   "source": [
    "plt.figure(figsize=(15, 5))\n",
    "\n",
    "ax = plt.gca()\n",
    "ax.plot(pair_df[\"gear\"], label=\"gear\", color=\"black\")\n",
    "ax2 = ax.twinx()\n",
    "ax2.plot(pair_df[\"dol\"], label=\"dol\")\n",
    "ax2.plot(pair_df[\"dol\"].shift(500), label=\"dol shift\")\n",
    "\n",
    "ax.legend(loc=2)\n",
    "ax2.legend(loc=1)\n"
   ]
  },
  {
   "cell_type": "code",
   "execution_count": null,
   "id": "55966517",
   "metadata": {
    "ExecuteTime": {
     "end_time": "2023-03-26T05:00:27.492150Z",
     "start_time": "2023-03-26T05:00:27.492143Z"
    }
   },
   "outputs": [],
   "source": [
    "lag_df = pair_df[[\"time\", \"gear\", \"dol\"]].copy()\n",
    "\n",
    "lags = {f\"dol_{i}\": lag_df[\"dol\"].shift(i) for i in range(0, 500)}\n",
    "\n",
    "lag_df = pd.DataFrame(lags)\n",
    "lag_df[\"time\"] = pair_df[\"time\"]\n",
    "lag_df[\"gear\"] = pair_df[\"gear\"]\n"
   ]
  },
  {
   "cell_type": "code",
   "execution_count": null,
   "id": "3424e579",
   "metadata": {
    "ExecuteTime": {
     "end_time": "2023-03-26T05:00:27.492790Z",
     "start_time": "2023-03-26T05:00:27.492783Z"
    }
   },
   "outputs": [],
   "source": [
    "corrs = []\n",
    "\n",
    "for i in range(2000):\n",
    "    corr = pair_df[\"dol\"].shift(i).corr(lag_df[\"gear\"])\n",
    "    corrs += [{\n",
    "        \"lag\": i,\n",
    "        \"corr\": corr,\n",
    "    }]\n",
    "    \n",
    "df = pd.DataFrame(corrs)\n"
   ]
  },
  {
   "cell_type": "code",
   "execution_count": null,
   "id": "3ed77e2b",
   "metadata": {
    "ExecuteTime": {
     "end_time": "2023-03-26T05:00:27.493776Z",
     "start_time": "2023-03-26T05:00:27.493761Z"
    }
   },
   "outputs": [],
   "source": [
    "plt.plot(df[\"corr\"])"
   ]
  },
  {
   "cell_type": "code",
   "execution_count": null,
   "id": "89fa72e8",
   "metadata": {
    "ExecuteTime": {
     "end_time": "2023-03-26T05:00:27.494570Z",
     "start_time": "2023-03-26T05:00:27.494564Z"
    }
   },
   "outputs": [],
   "source": [
    "plt.plot(pair_df[\"gear\"])"
   ]
  },
  {
   "cell_type": "code",
   "execution_count": null,
   "id": "66f2cbaa",
   "metadata": {
    "ExecuteTime": {
     "end_time": "2023-03-26T05:00:27.495083Z",
     "start_time": "2023-03-26T05:00:27.495078Z"
    }
   },
   "outputs": [],
   "source": [
    "diffs = pair_df.iloc[5000:10000][\"gear\"].diff(1)\n",
    "\n",
    "data = []\n",
    "\n",
    "chunk_size = 20\n",
    "for i in range(len(pair_df) // chunk_size):\n",
    "    lb = i * chunk_size\n",
    "    ub = lb + chunk_size\n",
    "    \n",
    "\n",
    "    data += [{\"diff10\": np.mean(diffs.loc[lb:ub])}]"
   ]
  },
  {
   "cell_type": "code",
   "execution_count": null,
   "id": "d4deba6c",
   "metadata": {
    "ExecuteTime": {
     "end_time": "2023-03-26T05:00:27.495849Z",
     "start_time": "2023-03-26T05:00:27.495843Z"
    }
   },
   "outputs": [],
   "source": [
    "models = []\n",
    "chunk_size = 100\n",
    "\n",
    "for i in range(len(pair_df) - chunk_size):\n",
    "    lb = i\n",
    "    ub = i + chunk_size\n",
    "    \n",
    "    df = pair_df[\"gear\"].iloc[lb:ub]\n",
    "    \n",
    "    model = np.poly1d(np.polyfit(np.arange(len(df)), df, deg=1))\n",
    "    models += [{\n",
    "        \"m\": model.coef[0],\n",
    "        \"b\": model.coef[1],\n",
    "    }]\n",
    "    "
   ]
  },
  {
   "cell_type": "code",
   "execution_count": null,
   "id": "8410e4af",
   "metadata": {
    "ExecuteTime": {
     "end_time": "2023-03-26T05:00:27.496384Z",
     "start_time": "2023-03-26T05:00:27.496378Z"
    }
   },
   "outputs": [],
   "source": [
    "model_df = pd.DataFrame(models)"
   ]
  },
  {
   "cell_type": "code",
   "execution_count": null,
   "id": "ea9782b0",
   "metadata": {
    "ExecuteTime": {
     "end_time": "2023-03-26T05:00:27.497111Z",
     "start_time": "2023-03-26T05:00:27.497094Z"
    }
   },
   "outputs": [],
   "source": [
    "plt.plot(model_df[\"m\"].iloc[6500:7500])"
   ]
  },
  {
   "cell_type": "code",
   "execution_count": null,
   "id": "1f504984",
   "metadata": {
    "ExecuteTime": {
     "end_time": "2023-03-26T05:00:27.498131Z",
     "start_time": "2023-03-26T05:00:27.498125Z"
    }
   },
   "outputs": [],
   "source": [
    "plt.hist(pd.DataFrame(data), bins=21)"
   ]
  },
  {
   "cell_type": "code",
   "execution_count": null,
   "id": "5f772e2e",
   "metadata": {},
   "outputs": [],
   "source": []
  },
  {
   "cell_type": "code",
   "execution_count": null,
   "id": "d4db127f",
   "metadata": {},
   "outputs": [],
   "source": []
  },
  {
   "cell_type": "code",
   "execution_count": null,
   "id": "c3e7148e",
   "metadata": {},
   "outputs": [],
   "source": []
  },
  {
   "cell_type": "code",
   "execution_count": null,
   "id": "4019da97",
   "metadata": {
    "ExecuteTime": {
     "end_time": "2023-03-26T05:00:27.498855Z",
     "start_time": "2023-03-26T05:00:27.498848Z"
    }
   },
   "outputs": [],
   "source": [
    "diff10 = pair_df[\"gear\"].diff(10)\n",
    "\n",
    "plt.hist(diff10, bins=20)"
   ]
  },
  {
   "cell_type": "code",
   "execution_count": null,
   "id": "9a92aa52",
   "metadata": {
    "ExecuteTime": {
     "end_time": "2023-03-26T05:00:27.499562Z",
     "start_time": "2023-03-26T05:00:27.499556Z"
    }
   },
   "outputs": [],
   "source": [
    "plt.figure(figsize=(15, 5))\n",
    "plt.plot(diff10.iloc[1500:2500])\n",
    "plt.plot(diff10.iloc[1500:2500].ewm(span=20).mean())\n",
    "plt.axhline()"
   ]
  },
  {
   "cell_type": "code",
   "execution_count": null,
   "id": "741c59f1",
   "metadata": {
    "ExecuteTime": {
     "end_time": "2023-03-26T05:00:27.500382Z",
     "start_time": "2023-03-26T05:00:27.500374Z"
    }
   },
   "outputs": [],
   "source": [
    "diff10.hist(bins=20)"
   ]
  },
  {
   "cell_type": "code",
   "execution_count": null,
   "id": "9bfe9eae",
   "metadata": {},
   "outputs": [],
   "source": []
  },
  {
   "cell_type": "code",
   "execution_count": null,
   "id": "fb549ab0",
   "metadata": {},
   "outputs": [],
   "source": []
  },
  {
   "cell_type": "code",
   "execution_count": null,
   "id": "003ef524",
   "metadata": {
    "ExecuteTime": {
     "end_time": "2023-03-26T05:00:27.500986Z",
     "start_time": "2023-03-26T05:00:27.500980Z"
    }
   },
   "outputs": [],
   "source": [
    "diffs = 500\n",
    "\n",
    "X = pair_df[[\"dol\"]].diff(500).dropna()\n",
    "y = -1 * pair_df[\"gear\"].diff(-1 * 500).dropna()\n",
    "\n",
    "X, y = get_merged_data(X, y)\n",
    "\n",
    "reg = LinearRegression().fit(X, y)"
   ]
  },
  {
   "cell_type": "code",
   "execution_count": null,
   "id": "06d5f950",
   "metadata": {
    "ExecuteTime": {
     "end_time": "2023-03-26T05:00:27.501543Z",
     "start_time": "2023-03-26T05:00:27.501536Z"
    }
   },
   "outputs": [],
   "source": [
    "reg.score(X, y)"
   ]
  },
  {
   "cell_type": "code",
   "execution_count": null,
   "id": "704cd0d9",
   "metadata": {
    "ExecuteTime": {
     "end_time": "2023-03-26T05:00:27.502177Z",
     "start_time": "2023-03-26T05:00:27.502166Z"
    }
   },
   "outputs": [],
   "source": [
    "plt.scatter(X, y, s=1)"
   ]
  },
  {
   "cell_type": "code",
   "execution_count": null,
   "id": "42e94065",
   "metadata": {},
   "outputs": [],
   "source": []
  },
  {
   "cell_type": "code",
   "execution_count": null,
   "id": "a4f50538",
   "metadata": {},
   "outputs": [],
   "source": []
  },
  {
   "cell_type": "markdown",
   "id": "85bd4666",
   "metadata": {},
   "source": [
    "## berries"
   ]
  },
  {
   "cell_type": "code",
   "execution_count": 40,
   "id": "44512134",
   "metadata": {
    "ExecuteTime": {
     "end_time": "2023-03-26T05:04:48.370708Z",
     "start_time": "2023-03-26T05:04:47.766291Z"
    }
   },
   "outputs": [
    {
     "name": "stdout",
     "output_type": "stream",
     "text": [
      "fname ../data/round3/prices_round_3_day_0.csv\n",
      "fname ../data/round3/prices_round_3_day_1.csv\n",
      "fname ../data/round3/prices_round_3_day_2.csv\n",
      "fname ../data/round3/trades_round_3_day_0_nn.csv\n",
      "fname ../data/round3/trades_round_3_day_1_nn.csv\n",
      "fname ../data/round3/trades_round_3_day_2_nn.csv\n"
     ]
    }
   ],
   "source": [
    "berry_df = get_symbol_prices(\"BERRIES\", _day_range)\n",
    "trade_df = get_symbol_trades(\"BERRIES\", _day_range)\n",
    "quote_df = get_whale_quotes(berry_df)\n",
    "\n",
    "trade_df = trade_df.merge(quote_df[[\"mid_price\", \"time\"]], on=\"time\")\n"
   ]
  },
  {
   "cell_type": "code",
   "execution_count": 48,
   "id": "6880e52d",
   "metadata": {
    "ExecuteTime": {
     "end_time": "2023-03-26T05:05:35.710646Z",
     "start_time": "2023-03-26T05:05:35.687394Z"
    }
   },
   "outputs": [
    {
     "data": {
      "text/html": [
       "<div>\n",
       "<style scoped>\n",
       "    .dataframe tbody tr th:only-of-type {\n",
       "        vertical-align: middle;\n",
       "    }\n",
       "\n",
       "    .dataframe tbody tr th {\n",
       "        vertical-align: top;\n",
       "    }\n",
       "\n",
       "    .dataframe thead th {\n",
       "        text-align: right;\n",
       "    }\n",
       "</style>\n",
       "<table border=\"1\" class=\"dataframe\">\n",
       "  <thead>\n",
       "    <tr style=\"text-align: right;\">\n",
       "      <th></th>\n",
       "      <th>day</th>\n",
       "      <th>time</th>\n",
       "      <th>symbol</th>\n",
       "      <th>buy_price_1</th>\n",
       "      <th>buy_volume_1</th>\n",
       "      <th>buy_price_2</th>\n",
       "      <th>buy_volume_2</th>\n",
       "      <th>buy_price_3</th>\n",
       "      <th>buy_volume_3</th>\n",
       "      <th>sell_price_1</th>\n",
       "      <th>sell_volume_1</th>\n",
       "      <th>sell_price_2</th>\n",
       "      <th>sell_volume_2</th>\n",
       "      <th>sell_price_3</th>\n",
       "      <th>sell_volume_3</th>\n",
       "      <th>mid_price</th>\n",
       "      <th>profit_and_loss</th>\n",
       "      <th>take_buy_edge</th>\n",
       "      <th>take_sell_edge</th>\n",
       "    </tr>\n",
       "  </thead>\n",
       "  <tbody>\n",
       "    <tr>\n",
       "      <th>0</th>\n",
       "      <td>0</td>\n",
       "      <td>0</td>\n",
       "      <td>BERRIES</td>\n",
       "      <td>3997.0</td>\n",
       "      <td>19.0</td>\n",
       "      <td>3996.0</td>\n",
       "      <td>58.0</td>\n",
       "      <td>NaN</td>\n",
       "      <td>NaN</td>\n",
       "      <td>4003.0</td>\n",
       "      <td>19.0</td>\n",
       "      <td>4005.0</td>\n",
       "      <td>58.0</td>\n",
       "      <td>NaN</td>\n",
       "      <td>NaN</td>\n",
       "      <td>4000.0</td>\n",
       "      <td>0.000000</td>\n",
       "      <td>-3.0</td>\n",
       "      <td>-3.0</td>\n",
       "    </tr>\n",
       "    <tr>\n",
       "      <th>1</th>\n",
       "      <td>0</td>\n",
       "      <td>100</td>\n",
       "      <td>BERRIES</td>\n",
       "      <td>3996.0</td>\n",
       "      <td>12.0</td>\n",
       "      <td>3995.0</td>\n",
       "      <td>59.0</td>\n",
       "      <td>NaN</td>\n",
       "      <td>NaN</td>\n",
       "      <td>4003.0</td>\n",
       "      <td>12.0</td>\n",
       "      <td>4004.0</td>\n",
       "      <td>59.0</td>\n",
       "      <td>NaN</td>\n",
       "      <td>NaN</td>\n",
       "      <td>3999.5</td>\n",
       "      <td>20.396484</td>\n",
       "      <td>-3.5</td>\n",
       "      <td>-3.5</td>\n",
       "    </tr>\n",
       "    <tr>\n",
       "      <th>2</th>\n",
       "      <td>0</td>\n",
       "      <td>200</td>\n",
       "      <td>BERRIES</td>\n",
       "      <td>3995.0</td>\n",
       "      <td>14.0</td>\n",
       "      <td>3994.0</td>\n",
       "      <td>52.0</td>\n",
       "      <td>NaN</td>\n",
       "      <td>NaN</td>\n",
       "      <td>4002.0</td>\n",
       "      <td>14.0</td>\n",
       "      <td>4003.0</td>\n",
       "      <td>52.0</td>\n",
       "      <td>NaN</td>\n",
       "      <td>NaN</td>\n",
       "      <td>3998.5</td>\n",
       "      <td>26.556641</td>\n",
       "      <td>-3.5</td>\n",
       "      <td>-3.5</td>\n",
       "    </tr>\n",
       "    <tr>\n",
       "      <th>3</th>\n",
       "      <td>0</td>\n",
       "      <td>300</td>\n",
       "      <td>BERRIES</td>\n",
       "      <td>3995.0</td>\n",
       "      <td>11.0</td>\n",
       "      <td>3994.0</td>\n",
       "      <td>42.0</td>\n",
       "      <td>NaN</td>\n",
       "      <td>NaN</td>\n",
       "      <td>4002.0</td>\n",
       "      <td>11.0</td>\n",
       "      <td>4003.0</td>\n",
       "      <td>42.0</td>\n",
       "      <td>NaN</td>\n",
       "      <td>NaN</td>\n",
       "      <td>3998.5</td>\n",
       "      <td>24.740234</td>\n",
       "      <td>-3.5</td>\n",
       "      <td>-3.5</td>\n",
       "    </tr>\n",
       "    <tr>\n",
       "      <th>4</th>\n",
       "      <td>0</td>\n",
       "      <td>400</td>\n",
       "      <td>BERRIES</td>\n",
       "      <td>3996.0</td>\n",
       "      <td>13.0</td>\n",
       "      <td>3995.0</td>\n",
       "      <td>56.0</td>\n",
       "      <td>NaN</td>\n",
       "      <td>NaN</td>\n",
       "      <td>4003.0</td>\n",
       "      <td>13.0</td>\n",
       "      <td>4004.0</td>\n",
       "      <td>56.0</td>\n",
       "      <td>NaN</td>\n",
       "      <td>NaN</td>\n",
       "      <td>3999.5</td>\n",
       "      <td>22.498047</td>\n",
       "      <td>-3.5</td>\n",
       "      <td>-3.5</td>\n",
       "    </tr>\n",
       "    <tr>\n",
       "      <th>...</th>\n",
       "      <td>...</td>\n",
       "      <td>...</td>\n",
       "      <td>...</td>\n",
       "      <td>...</td>\n",
       "      <td>...</td>\n",
       "      <td>...</td>\n",
       "      <td>...</td>\n",
       "      <td>...</td>\n",
       "      <td>...</td>\n",
       "      <td>...</td>\n",
       "      <td>...</td>\n",
       "      <td>...</td>\n",
       "      <td>...</td>\n",
       "      <td>...</td>\n",
       "      <td>...</td>\n",
       "      <td>...</td>\n",
       "      <td>...</td>\n",
       "      <td>...</td>\n",
       "      <td>...</td>\n",
       "    </tr>\n",
       "    <tr>\n",
       "      <th>29995</th>\n",
       "      <td>2</td>\n",
       "      <td>2999500</td>\n",
       "      <td>BERRIES</td>\n",
       "      <td>3904.0</td>\n",
       "      <td>61.0</td>\n",
       "      <td>NaN</td>\n",
       "      <td>NaN</td>\n",
       "      <td>NaN</td>\n",
       "      <td>NaN</td>\n",
       "      <td>3907.0</td>\n",
       "      <td>15.0</td>\n",
       "      <td>3911.0</td>\n",
       "      <td>20.0</td>\n",
       "      <td>3912.0</td>\n",
       "      <td>41.0</td>\n",
       "      <td>3905.5</td>\n",
       "      <td>-84316.000000</td>\n",
       "      <td>-1.5</td>\n",
       "      <td>-1.5</td>\n",
       "    </tr>\n",
       "    <tr>\n",
       "      <th>29996</th>\n",
       "      <td>2</td>\n",
       "      <td>2999600</td>\n",
       "      <td>BERRIES</td>\n",
       "      <td>3904.0</td>\n",
       "      <td>14.0</td>\n",
       "      <td>3903.0</td>\n",
       "      <td>41.0</td>\n",
       "      <td>NaN</td>\n",
       "      <td>NaN</td>\n",
       "      <td>3911.0</td>\n",
       "      <td>14.0</td>\n",
       "      <td>3912.0</td>\n",
       "      <td>41.0</td>\n",
       "      <td>NaN</td>\n",
       "      <td>NaN</td>\n",
       "      <td>3907.5</td>\n",
       "      <td>-83436.000000</td>\n",
       "      <td>-3.5</td>\n",
       "      <td>-3.5</td>\n",
       "    </tr>\n",
       "    <tr>\n",
       "      <th>29997</th>\n",
       "      <td>2</td>\n",
       "      <td>2999700</td>\n",
       "      <td>BERRIES</td>\n",
       "      <td>3904.0</td>\n",
       "      <td>13.0</td>\n",
       "      <td>3903.0</td>\n",
       "      <td>50.0</td>\n",
       "      <td>NaN</td>\n",
       "      <td>NaN</td>\n",
       "      <td>3911.0</td>\n",
       "      <td>13.0</td>\n",
       "      <td>3912.0</td>\n",
       "      <td>50.0</td>\n",
       "      <td>NaN</td>\n",
       "      <td>NaN</td>\n",
       "      <td>3907.5</td>\n",
       "      <td>-83340.000000</td>\n",
       "      <td>-3.5</td>\n",
       "      <td>-3.5</td>\n",
       "    </tr>\n",
       "    <tr>\n",
       "      <th>29998</th>\n",
       "      <td>2</td>\n",
       "      <td>2999800</td>\n",
       "      <td>BERRIES</td>\n",
       "      <td>3904.0</td>\n",
       "      <td>18.0</td>\n",
       "      <td>3903.0</td>\n",
       "      <td>53.0</td>\n",
       "      <td>NaN</td>\n",
       "      <td>NaN</td>\n",
       "      <td>3911.0</td>\n",
       "      <td>18.0</td>\n",
       "      <td>3912.0</td>\n",
       "      <td>53.0</td>\n",
       "      <td>NaN</td>\n",
       "      <td>NaN</td>\n",
       "      <td>3907.5</td>\n",
       "      <td>-82590.000000</td>\n",
       "      <td>-3.5</td>\n",
       "      <td>-3.5</td>\n",
       "    </tr>\n",
       "    <tr>\n",
       "      <th>29999</th>\n",
       "      <td>2</td>\n",
       "      <td>2999900</td>\n",
       "      <td>BERRIES</td>\n",
       "      <td>3905.0</td>\n",
       "      <td>19.0</td>\n",
       "      <td>3904.0</td>\n",
       "      <td>55.0</td>\n",
       "      <td>NaN</td>\n",
       "      <td>NaN</td>\n",
       "      <td>3912.0</td>\n",
       "      <td>74.0</td>\n",
       "      <td>NaN</td>\n",
       "      <td>NaN</td>\n",
       "      <td>NaN</td>\n",
       "      <td>NaN</td>\n",
       "      <td>3908.5</td>\n",
       "      <td>-85040.000000</td>\n",
       "      <td>-3.5</td>\n",
       "      <td>-3.5</td>\n",
       "    </tr>\n",
       "  </tbody>\n",
       "</table>\n",
       "<p>30000 rows × 19 columns</p>\n",
       "</div>"
      ],
      "text/plain": [
       "       day     time   symbol  buy_price_1  buy_volume_1  buy_price_2  \\\n",
       "0        0        0  BERRIES       3997.0          19.0       3996.0   \n",
       "1        0      100  BERRIES       3996.0          12.0       3995.0   \n",
       "2        0      200  BERRIES       3995.0          14.0       3994.0   \n",
       "3        0      300  BERRIES       3995.0          11.0       3994.0   \n",
       "4        0      400  BERRIES       3996.0          13.0       3995.0   \n",
       "...    ...      ...      ...          ...           ...          ...   \n",
       "29995    2  2999500  BERRIES       3904.0          61.0          NaN   \n",
       "29996    2  2999600  BERRIES       3904.0          14.0       3903.0   \n",
       "29997    2  2999700  BERRIES       3904.0          13.0       3903.0   \n",
       "29998    2  2999800  BERRIES       3904.0          18.0       3903.0   \n",
       "29999    2  2999900  BERRIES       3905.0          19.0       3904.0   \n",
       "\n",
       "       buy_volume_2  buy_price_3  buy_volume_3  sell_price_1  sell_volume_1  \\\n",
       "0              58.0          NaN           NaN        4003.0           19.0   \n",
       "1              59.0          NaN           NaN        4003.0           12.0   \n",
       "2              52.0          NaN           NaN        4002.0           14.0   \n",
       "3              42.0          NaN           NaN        4002.0           11.0   \n",
       "4              56.0          NaN           NaN        4003.0           13.0   \n",
       "...             ...          ...           ...           ...            ...   \n",
       "29995           NaN          NaN           NaN        3907.0           15.0   \n",
       "29996          41.0          NaN           NaN        3911.0           14.0   \n",
       "29997          50.0          NaN           NaN        3911.0           13.0   \n",
       "29998          53.0          NaN           NaN        3911.0           18.0   \n",
       "29999          55.0          NaN           NaN        3912.0           74.0   \n",
       "\n",
       "       sell_price_2  sell_volume_2  sell_price_3  sell_volume_3  mid_price  \\\n",
       "0            4005.0           58.0           NaN            NaN     4000.0   \n",
       "1            4004.0           59.0           NaN            NaN     3999.5   \n",
       "2            4003.0           52.0           NaN            NaN     3998.5   \n",
       "3            4003.0           42.0           NaN            NaN     3998.5   \n",
       "4            4004.0           56.0           NaN            NaN     3999.5   \n",
       "...             ...            ...           ...            ...        ...   \n",
       "29995        3911.0           20.0        3912.0           41.0     3905.5   \n",
       "29996        3912.0           41.0           NaN            NaN     3907.5   \n",
       "29997        3912.0           50.0           NaN            NaN     3907.5   \n",
       "29998        3912.0           53.0           NaN            NaN     3907.5   \n",
       "29999           NaN            NaN           NaN            NaN     3908.5   \n",
       "\n",
       "       profit_and_loss  take_buy_edge  take_sell_edge  \n",
       "0             0.000000           -3.0            -3.0  \n",
       "1            20.396484           -3.5            -3.5  \n",
       "2            26.556641           -3.5            -3.5  \n",
       "3            24.740234           -3.5            -3.5  \n",
       "4            22.498047           -3.5            -3.5  \n",
       "...                ...            ...             ...  \n",
       "29995    -84316.000000           -1.5            -1.5  \n",
       "29996    -83436.000000           -3.5            -3.5  \n",
       "29997    -83340.000000           -3.5            -3.5  \n",
       "29998    -82590.000000           -3.5            -3.5  \n",
       "29999    -85040.000000           -3.5            -3.5  \n",
       "\n",
       "[30000 rows x 19 columns]"
      ]
     },
     "execution_count": 48,
     "metadata": {},
     "output_type": "execute_result"
    }
   ],
   "source": [
    "berry_df"
   ]
  },
  {
   "cell_type": "code",
   "execution_count": 41,
   "id": "28884a23",
   "metadata": {
    "ExecuteTime": {
     "end_time": "2023-03-26T05:04:48.532905Z",
     "start_time": "2023-03-26T05:04:48.529482Z"
    }
   },
   "outputs": [],
   "source": [
    "trade_df[\"sell_edge\"] = trade_df[\"price\"] - trade_df[\"mid_price\"]\n",
    "\n",
    "berry_df[\"take_buy_edge\"] = berry_df[\"buy_price_1\"] - berry_df[\"mid_price\"]\n",
    "berry_df[\"take_sell_edge\"] = berry_df[\"mid_price\"] - berry_df[\"sell_price_1\"]\n"
   ]
  },
  {
   "cell_type": "code",
   "execution_count": 47,
   "id": "cd92e44d",
   "metadata": {
    "ExecuteTime": {
     "end_time": "2023-03-26T05:05:22.575778Z",
     "start_time": "2023-03-26T05:05:22.470494Z"
    }
   },
   "outputs": [
    {
     "data": {
      "image/png": "[encoded data removed]",
      "text/plain": [
       "<Figure size 640x480 with 1 Axes>"
      ]
     },
     "metadata": {},
     "output_type": "display_data"
    },
    {
     "data": {
      "image/png": "[encoded data removed]",
      "text/plain": [
       "<Figure size 640x480 with 1 Axes>"
      ]
     },
     "metadata": {},
     "output_type": "display_data"
    }
   ],
   "source": [
    "plt.hist(berry_df[\"take_buy_edge\"])\n",
    "plt.show()\n",
    "\n",
    "plt.hist(berry_df[\"take_sell_edge\"])\n",
    "plt.show()"
   ]
  },
  {
   "cell_type": "code",
   "execution_count": null,
   "id": "337fda50",
   "metadata": {},
   "outputs": [],
   "source": []
  },
  {
   "cell_type": "code",
   "execution_count": null,
   "id": "2676e594",
   "metadata": {},
   "outputs": [],
   "source": []
  },
  {
   "cell_type": "code",
   "execution_count": 24,
   "id": "eb857e1b",
   "metadata": {
    "ExecuteTime": {
     "end_time": "2023-03-26T05:02:01.606596Z",
     "start_time": "2023-03-26T05:02:01.534606Z"
    }
   },
   "outputs": [
    {
     "data": {
      "text/plain": [
       "(array([ 14., 766.,   0.,  32.,  75.,  35.,   0.,   1., 811.,  30.]),\n",
       " array([-4.5, -3.6, -2.7, -1.8, -0.9,  0. ,  0.9,  1.8,  2.7,  3.6,  4.5]),\n",
       " <BarContainer object of 10 artists>)"
      ]
     },
     "execution_count": 24,
     "metadata": {},
     "output_type": "execute_result"
    },
    {
     "data": {
      "image/png": "[encoded data removed]",
      "text/plain": [
       "<Figure size 640x480 with 1 Axes>"
      ]
     },
     "metadata": {},
     "output_type": "display_data"
    }
   ],
   "source": [
    "plt.hist(trade_df[\"sell_edge\"])"
   ]
  },
  {
   "cell_type": "code",
   "execution_count": null,
   "id": "a062adfe",
   "metadata": {},
   "outputs": [],
   "source": []
  },
  {
   "cell_type": "code",
   "execution_count": null,
   "id": "31307bfc",
   "metadata": {},
   "outputs": [],
   "source": []
  },
  {
   "cell_type": "code",
   "execution_count": null,
   "id": "0a0e3a2f",
   "metadata": {},
   "outputs": [],
   "source": []
  },
  {
   "cell_type": "code",
   "execution_count": null,
   "id": "0cd012f2",
   "metadata": {},
   "outputs": [],
   "source": []
  },
  {
   "cell_type": "code",
   "execution_count": null,
   "id": "7a71f52f",
   "metadata": {},
   "outputs": [],
   "source": []
  }
 ],
 "metadata": {
  "kernelspec": {
   "display_name": "Python 3 (ipykernel)",
   "language": "python",
   "name": "python3"
  },
  "language_info": {
   "codemirror_mode": {
    "name": "ipython",
    "version": 3
   },
   "file_extension": ".py",
   "mimetype": "text/x-python",
   "name": "python",
   "nbconvert_exporter": "python",
   "pygments_lexer": "ipython3",
   "version": "3.9.16"
  },
  "toc": {
   "base_numbering": 1,
   "nav_menu": {},
   "number_sections": true,
   "sideBar": true,
   "skip_h1_title": false,
   "title_cell": "Table of Contents",
   "title_sidebar": "Contents",
   "toc_cell": false,
   "toc_position": {
    "height": "calc(100% - 180px)",
    "left": "10px",
    "top": "150px",
    "width": "265.391px"
   },
   "toc_section_display": true,
   "toc_window_display": true
  },
  "varInspector": {
   "cols": {
    "lenName": 16,
    "lenType": 16,
    "lenVar": 40
   },
   "kernels_config": {
    "python": {
     "delete_cmd_postfix": "",
     "delete_cmd_prefix": "del ",
     "library": "var_list.py",
     "varRefreshCmd": "print(var_dic_list())"
    },
    "r": {
     "delete_cmd_postfix": ") ",
     "delete_cmd_prefix": "rm(",
     "library": "var_list.r",
     "varRefreshCmd": "cat(var_dic_list()) "
    }
   },
   "types_to_exclude": [
    "module",
    "function",
    "builtin_function_or_method",
    "instance",
    "_Feature"
   ],
   "window_display": false
  }
 },
 "nbformat": 4,
 "nbformat_minor": 5
}
