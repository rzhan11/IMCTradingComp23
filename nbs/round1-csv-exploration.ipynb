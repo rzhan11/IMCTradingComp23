{
 "cells": [
  {
   "cell_type": "code",
   "execution_count": 1,
   "id": "8aede405",
   "metadata": {
    "ExecuteTime": {
     "end_time": "2023-03-22T05:24:40.721856Z",
     "start_time": "2023-03-22T05:24:39.049853Z"
    }
   },
   "outputs": [],
   "source": [
    "import matplotlib.pyplot as plt\n",
    "import numpy as np\n",
    "import pandas as pd\n",
    "\n",
    "from ipywidgets import interact\n"
   ]
  },
  {
   "cell_type": "markdown",
   "id": "a0f96811",
   "metadata": {},
   "source": [
    "# Preprocessing"
   ]
  },
  {
   "cell_type": "markdown",
   "id": "51c0c8d5",
   "metadata": {},
   "source": [
    "## Parameters"
   ]
  },
  {
   "cell_type": "code",
   "execution_count": 2,
   "id": "e1f323dd",
   "metadata": {
    "ExecuteTime": {
     "end_time": "2023-03-22T05:24:40.726990Z",
     "start_time": "2023-03-22T05:24:40.724031Z"
    }
   },
   "outputs": [],
   "source": [
    "# parameters\n",
    "\n",
    "_symbol = \"BANANAS\"\n",
    "# _day_ind = -2\n",
    "_day_range = [-2, -1, 0]\n",
    "_book_range = list(range(1, 3+1))\n",
    "_max_time = 1000000\n",
    "_time_step = 100"
   ]
  },
  {
   "cell_type": "code",
   "execution_count": 3,
   "id": "6ed0995f",
   "metadata": {
    "ExecuteTime": {
     "end_time": "2023-03-22T05:24:40.732798Z",
     "start_time": "2023-03-22T05:24:40.729046Z"
    }
   },
   "outputs": [],
   "source": [
    "def get_file_trades(day):\n",
    "    fname = f\"../data/round1/trades_round_1_day_{day}_nn.csv\"\n",
    "    print(\"fname\", fname)\n",
    "    return pd.read_csv(fname, sep=\";\")\n",
    "\n",
    "\n",
    "def get_file_prices(day):\n",
    "    fname = f\"../data/round1/prices_round_1_day_{day}.csv\"\n",
    "    print(\"fname\", fname)\n",
    "    return pd.read_csv(fname, sep=\";\")"
   ]
  },
  {
   "cell_type": "markdown",
   "id": "1db4a576",
   "metadata": {},
   "source": [
    "## read data"
   ]
  },
  {
   "cell_type": "code",
   "execution_count": 4,
   "id": "3817cae4",
   "metadata": {
    "ExecuteTime": {
     "end_time": "2023-03-22T05:24:40.905920Z",
     "start_time": "2023-03-22T05:24:40.735978Z"
    }
   },
   "outputs": [
    {
     "name": "stdout",
     "output_type": "stream",
     "text": [
      "fname ../data/round1/trades_round_1_day_-2_nn.csv\n",
      "fname ../data/round1/prices_round_1_day_-2.csv\n",
      "fname ../data/round1/trades_round_1_day_-1_nn.csv\n",
      "fname ../data/round1/prices_round_1_day_-1.csv\n",
      "fname ../data/round1/trades_round_1_day_0_nn.csv\n",
      "fname ../data/round1/prices_round_1_day_0.csv\n"
     ]
    },
    {
     "data": {
      "text/plain": [
       "SEASHELLS    15786\n",
       "Name: currency, dtype: int64"
      ]
     },
     "metadata": {},
     "output_type": "display_data"
    },
    {
     "data": {
      "text/plain": [
       "Series([], Name: buyer, dtype: int64)"
      ]
     },
     "metadata": {},
     "output_type": "display_data"
    },
    {
     "data": {
      "text/plain": [
       "Series([], Name: seller, dtype: int64)"
      ]
     },
     "metadata": {},
     "output_type": "display_data"
    }
   ],
   "source": [
    "# get data for each day\n",
    "trades = []\n",
    "prices = []\n",
    "\n",
    "for day in _day_range:\n",
    "    # get data from files\n",
    "    trade_df = get_file_trades(day)\n",
    "    price_df = get_file_prices(day)\n",
    "    \n",
    "    trade_df[\"day\"] = day\n",
    "    \n",
    "    trades += [trade_df]\n",
    "    prices += [price_df]\n",
    "\n",
    "# concat all data\n",
    "trade_df = pd.concat(trades)\n",
    "price_df = pd.concat(prices)\n",
    "\n",
    "# reset indexes\n",
    "trade_df = trade_df.reset_index(drop=True)\n",
    "price_df = price_df.reset_index(drop=True)\n",
    "\n",
    "\n",
    "# print columns that we believe to be irrelevant\n",
    "# currency - SEASHELLS only\n",
    "# buyer - nan only\n",
    "# seller - nan only\n",
    "display(trade_df[\"currency\"].value_counts())\n",
    "display(trade_df[\"buyer\"].value_counts())\n",
    "display(trade_df[\"seller\"].value_counts())\n",
    "\n",
    "# drop irrelevant columns\n",
    "trade_df = trade_df.drop([\"currency\", \"buyer\", \"seller\"], axis=1)\n",
    "\n",
    "# rename columns\n",
    "price_df = price_df.rename({\"product\": \"symbol\"}, axis=1)\n",
    "price_df = price_df.rename({\"timestamp\": \"time\"}, axis=1)\n",
    "\n",
    "trade_df = trade_df.rename({\"timestamp\": \"time\"}, axis=1)\n",
    "\n",
    "# filter for specific symbol\n",
    "trade_df = trade_df[trade_df[\"symbol\"] == _symbol]\n",
    "price_df = price_df[price_df[\"symbol\"] == _symbol]\n",
    "\n",
    "# calculate new time (for multiday)\n",
    "trade_df[\"time\"] = trade_df[\"time\"] + (trade_df[\"day\"] - min(_day_range)) * _max_time\n",
    "price_df[\"time\"] = price_df[\"time\"] + (price_df[\"day\"] - min(_day_range)) * _max_time\n",
    "\n",
    "# rename \"bid\" to \"buy\"\n",
    "# rename \"ask\" to \"sell\"\n",
    "price_df = price_df.rename({col: col.replace(\"bid\", \"buy\") for col in price_df.columns if \"bid\" in col}, axis=1)\n",
    "price_df = price_df.rename({col: col.replace(\"ask\", \"sell\") for col in price_df.columns if \"ask\" in col}, axis=1)\n"
   ]
  },
  {
   "cell_type": "code",
   "execution_count": 5,
   "id": "2d2d80de",
   "metadata": {
    "ExecuteTime": {
     "end_time": "2023-03-22T05:24:40.927096Z",
     "start_time": "2023-03-22T05:24:40.908222Z"
    }
   },
   "outputs": [
    {
     "data": {
      "text/html": [
       "<div>\n",
       "<style scoped>\n",
       "    .dataframe tbody tr th:only-of-type {\n",
       "        vertical-align: middle;\n",
       "    }\n",
       "\n",
       "    .dataframe tbody tr th {\n",
       "        vertical-align: top;\n",
       "    }\n",
       "\n",
       "    .dataframe thead th {\n",
       "        text-align: right;\n",
       "    }\n",
       "</style>\n",
       "<table border=\"1\" class=\"dataframe\">\n",
       "  <thead>\n",
       "    <tr style=\"text-align: right;\">\n",
       "      <th></th>\n",
       "      <th>time</th>\n",
       "      <th>symbol</th>\n",
       "      <th>price</th>\n",
       "      <th>quantity</th>\n",
       "      <th>day</th>\n",
       "    </tr>\n",
       "  </thead>\n",
       "  <tbody>\n",
       "    <tr>\n",
       "      <th>2059</th>\n",
       "      <td>390400</td>\n",
       "      <td>BANANAS</td>\n",
       "      <td>0.0</td>\n",
       "      <td>2</td>\n",
       "      <td>-2</td>\n",
       "    </tr>\n",
       "  </tbody>\n",
       "</table>\n",
       "</div>"
      ],
      "text/plain": [
       "        time   symbol  price  quantity  day\n",
       "2059  390400  BANANAS    0.0         2   -2"
      ]
     },
     "metadata": {},
     "output_type": "display_data"
    },
    {
     "data": {
      "text/html": [
       "<div>\n",
       "<style scoped>\n",
       "    .dataframe tbody tr th:only-of-type {\n",
       "        vertical-align: middle;\n",
       "    }\n",
       "\n",
       "    .dataframe tbody tr th {\n",
       "        vertical-align: top;\n",
       "    }\n",
       "\n",
       "    .dataframe thead th {\n",
       "        text-align: right;\n",
       "    }\n",
       "</style>\n",
       "<table border=\"1\" class=\"dataframe\">\n",
       "  <thead>\n",
       "    <tr style=\"text-align: right;\">\n",
       "      <th></th>\n",
       "      <th>time</th>\n",
       "      <th>symbol</th>\n",
       "      <th>price</th>\n",
       "      <th>quantity</th>\n",
       "      <th>day</th>\n",
       "    </tr>\n",
       "  </thead>\n",
       "  <tbody>\n",
       "  </tbody>\n",
       "</table>\n",
       "</div>"
      ],
      "text/plain": [
       "Empty DataFrame\n",
       "Columns: [time, symbol, price, quantity, day]\n",
       "Index: []"
      ]
     },
     "metadata": {},
     "output_type": "display_data"
    }
   ],
   "source": [
    "# clean unreasonable data\n",
    "\n",
    "if _symbol == \"BANANAS\":\n",
    "    display(trade_df[trade_df[\"price\"] < 4500])\n",
    "    display(trade_df[trade_df[\"price\"] > 5500])\n",
    "\n",
    "    trade_df = trade_df[trade_df[\"price\"] >= 4500]\n",
    "    trade_df = trade_df[trade_df[\"price\"] <= 5500]\n",
    "\n"
   ]
  },
  {
   "cell_type": "markdown",
   "id": "d1bf6846",
   "metadata": {},
   "source": [
    "# Large Quotes"
   ]
  },
  {
   "cell_type": "markdown",
   "id": "cc944ac5",
   "metadata": {},
   "source": [
    "## calculate large quote data"
   ]
  },
  {
   "cell_type": "code",
   "execution_count": 6,
   "id": "d5598770",
   "metadata": {
    "ExecuteTime": {
     "end_time": "2023-03-22T05:24:40.934871Z",
     "start_time": "2023-03-22T05:24:40.929090Z"
    }
   },
   "outputs": [],
   "source": [
    "def get_book_large_size(side):\n",
    "    \"\"\" \n",
    "    side = 'buy' or 'sell' \n",
    "    \n",
    "    Returns prices, sizes\n",
    "    \"\"\"\n",
    "    \n",
    "    book_range = list(range(1, 3+1))\n",
    "    \n",
    "    # get bids\n",
    "    bid_sizes = price_df[[f\"{side}_volume_{i}\" for i in book_range]]\n",
    "    bid_prices = price_df[[f\"{side}_price_{i}\" for i in book_range]]\n",
    "\n",
    "    # replace nan with -1\n",
    "    bid_sizes = bid_sizes.replace(np.nan, -1)\n",
    "\n",
    "    # find inds\n",
    "    inds = np.argmax(bid_sizes.to_numpy(), axis=1)\n",
    "\n",
    "    # filter to keep largest bids\n",
    "    bid_prices = bid_prices.to_numpy()[np.arange(len(bid_prices)), inds]\n",
    "    bid_sizes = bid_sizes.to_numpy()[np.arange(len(bid_sizes)), inds]\n",
    "    \n",
    "    # create dataframe\n",
    "    df = pd.DataFrame([bid_prices, bid_sizes]).T\n",
    "    df.columns = [f\"{side}_price\", f\"{side}_size\"]\n",
    "    df[\"time\"] = price_df[\"time\"].reset_index()[\"time\"]\n",
    "    \n",
    "    return df"
   ]
  },
  {
   "cell_type": "code",
   "execution_count": 7,
   "id": "e8c89433",
   "metadata": {
    "ExecuteTime": {
     "end_time": "2023-03-22T05:24:41.721462Z",
     "start_time": "2023-03-22T05:24:40.936885Z"
    }
   },
   "outputs": [],
   "source": [
    "# get big buy/sell quotes\n",
    "buy_df = get_book_large_size(\"buy\")\n",
    "sell_df = get_book_large_size(\"sell\")\n",
    "\n",
    "# create big quote_df\n",
    "quote_df = pd.merge(buy_df, sell_df, on=\"time\")\n",
    "quote_df[\"mid_price\"] = (quote_df[\"buy_price\"] + quote_df[\"sell_price\"]) / 2\n",
    "quote_df[\"spread\"] = quote_df[\"sell_price\"] - quote_df[\"buy_price\"]\n",
    "\n",
    "# edge is calculated from perspective of buyer\n",
    "trade_df = trade_df.merge(quote_df[[\"time\", \"mid_price\"]], on=\"time\")\n",
    "trade_df[\"edge\"] = trade_df[\"mid_price\"] - trade_df[\"price\"]"
   ]
  },
  {
   "cell_type": "code",
   "execution_count": 8,
   "id": "6cddeee0",
   "metadata": {
    "ExecuteTime": {
     "end_time": "2023-03-22T05:24:41.748831Z",
     "start_time": "2023-03-22T05:24:41.722991Z"
    }
   },
   "outputs": [
    {
     "data": {
      "text/html": [
       "<div>\n",
       "<style scoped>\n",
       "    .dataframe tbody tr th:only-of-type {\n",
       "        vertical-align: middle;\n",
       "    }\n",
       "\n",
       "    .dataframe tbody tr th {\n",
       "        vertical-align: top;\n",
       "    }\n",
       "\n",
       "    .dataframe thead th {\n",
       "        text-align: right;\n",
       "    }\n",
       "</style>\n",
       "<table border=\"1\" class=\"dataframe\">\n",
       "  <thead>\n",
       "    <tr style=\"text-align: right;\">\n",
       "      <th></th>\n",
       "      <th>count</th>\n",
       "      <th>mean</th>\n",
       "      <th>std</th>\n",
       "      <th>min</th>\n",
       "      <th>25%</th>\n",
       "      <th>50%</th>\n",
       "      <th>75%</th>\n",
       "      <th>max</th>\n",
       "    </tr>\n",
       "  </thead>\n",
       "  <tbody>\n",
       "    <tr>\n",
       "      <th>buy_price</th>\n",
       "      <td>30000.0</td>\n",
       "      <td>4.926430e+03</td>\n",
       "      <td>38.601621</td>\n",
       "      <td>4868.0</td>\n",
       "      <td>4890.0</td>\n",
       "      <td>4916.0</td>\n",
       "      <td>4966.0</td>\n",
       "      <td>5000.0</td>\n",
       "    </tr>\n",
       "    <tr>\n",
       "      <th>buy_size</th>\n",
       "      <td>30000.0</td>\n",
       "      <td>2.569917e+01</td>\n",
       "      <td>3.386608</td>\n",
       "      <td>1.0</td>\n",
       "      <td>23.0</td>\n",
       "      <td>26.0</td>\n",
       "      <td>28.0</td>\n",
       "      <td>42.0</td>\n",
       "    </tr>\n",
       "    <tr>\n",
       "      <th>time</th>\n",
       "      <td>30000.0</td>\n",
       "      <td>1.499950e+06</td>\n",
       "      <td>866039.837421</td>\n",
       "      <td>0.0</td>\n",
       "      <td>749975.0</td>\n",
       "      <td>1499950.0</td>\n",
       "      <td>2249925.0</td>\n",
       "      <td>2999900.0</td>\n",
       "    </tr>\n",
       "    <tr>\n",
       "      <th>sell_price</th>\n",
       "      <td>30000.0</td>\n",
       "      <td>4.933333e+03</td>\n",
       "      <td>38.649708</td>\n",
       "      <td>4874.0</td>\n",
       "      <td>4897.0</td>\n",
       "      <td>4923.0</td>\n",
       "      <td>4973.0</td>\n",
       "      <td>5007.0</td>\n",
       "    </tr>\n",
       "    <tr>\n",
       "      <th>sell_size</th>\n",
       "      <td>30000.0</td>\n",
       "      <td>2.571810e+01</td>\n",
       "      <td>3.376489</td>\n",
       "      <td>2.0</td>\n",
       "      <td>23.0</td>\n",
       "      <td>26.0</td>\n",
       "      <td>28.0</td>\n",
       "      <td>32.0</td>\n",
       "    </tr>\n",
       "    <tr>\n",
       "      <th>mid_price</th>\n",
       "      <td>30000.0</td>\n",
       "      <td>4.929881e+03</td>\n",
       "      <td>38.625263</td>\n",
       "      <td>4871.5</td>\n",
       "      <td>4893.5</td>\n",
       "      <td>4919.5</td>\n",
       "      <td>4969.5</td>\n",
       "      <td>5003.5</td>\n",
       "    </tr>\n",
       "    <tr>\n",
       "      <th>spread</th>\n",
       "      <td>30000.0</td>\n",
       "      <td>6.902967e+00</td>\n",
       "      <td>0.355465</td>\n",
       "      <td>1.0</td>\n",
       "      <td>7.0</td>\n",
       "      <td>7.0</td>\n",
       "      <td>7.0</td>\n",
       "      <td>7.0</td>\n",
       "    </tr>\n",
       "  </tbody>\n",
       "</table>\n",
       "</div>"
      ],
      "text/plain": [
       "              count          mean            std     min       25%        50%  \\\n",
       "buy_price   30000.0  4.926430e+03      38.601621  4868.0    4890.0     4916.0   \n",
       "buy_size    30000.0  2.569917e+01       3.386608     1.0      23.0       26.0   \n",
       "time        30000.0  1.499950e+06  866039.837421     0.0  749975.0  1499950.0   \n",
       "sell_price  30000.0  4.933333e+03      38.649708  4874.0    4897.0     4923.0   \n",
       "sell_size   30000.0  2.571810e+01       3.376489     2.0      23.0       26.0   \n",
       "mid_price   30000.0  4.929881e+03      38.625263  4871.5    4893.5     4919.5   \n",
       "spread      30000.0  6.902967e+00       0.355465     1.0       7.0        7.0   \n",
       "\n",
       "                  75%        max  \n",
       "buy_price      4966.0     5000.0  \n",
       "buy_size         28.0       42.0  \n",
       "time        2249925.0  2999900.0  \n",
       "sell_price     4973.0     5007.0  \n",
       "sell_size        28.0       32.0  \n",
       "mid_price      4969.5     5003.5  \n",
       "spread            7.0        7.0  "
      ]
     },
     "execution_count": 8,
     "metadata": {},
     "output_type": "execute_result"
    }
   ],
   "source": [
    "quote_df.describe().T"
   ]
  },
  {
   "cell_type": "code",
   "execution_count": null,
   "id": "e2e47e41",
   "metadata": {},
   "outputs": [],
   "source": []
  },
  {
   "cell_type": "code",
   "execution_count": 9,
   "id": "a7d9bd24",
   "metadata": {
    "ExecuteTime": {
     "end_time": "2023-03-22T05:24:41.976130Z",
     "start_time": "2023-03-22T05:24:41.750270Z"
    }
   },
   "outputs": [
    {
     "data": {
      "image/png": "[encoded data removed]",
      "text/plain": [
       "<Figure size 640x480 with 1 Axes>"
      ]
     },
     "metadata": {},
     "output_type": "display_data"
    },
    {
     "data": {
      "text/html": [
       "<div>\n",
       "<style scoped>\n",
       "    .dataframe tbody tr th:only-of-type {\n",
       "        vertical-align: middle;\n",
       "    }\n",
       "\n",
       "    .dataframe tbody tr th {\n",
       "        vertical-align: top;\n",
       "    }\n",
       "\n",
       "    .dataframe thead th {\n",
       "        text-align: right;\n",
       "    }\n",
       "</style>\n",
       "<table border=\"1\" class=\"dataframe\">\n",
       "  <thead>\n",
       "    <tr style=\"text-align: right;\">\n",
       "      <th></th>\n",
       "      <th>index</th>\n",
       "      <th>spread</th>\n",
       "    </tr>\n",
       "  </thead>\n",
       "  <tbody>\n",
       "    <tr>\n",
       "      <th>0</th>\n",
       "      <td>7.0</td>\n",
       "      <td>27337</td>\n",
       "    </tr>\n",
       "    <tr>\n",
       "      <th>1</th>\n",
       "      <td>6.0</td>\n",
       "      <td>2574</td>\n",
       "    </tr>\n",
       "    <tr>\n",
       "      <th>2</th>\n",
       "      <td>5.0</td>\n",
       "      <td>32</td>\n",
       "    </tr>\n",
       "    <tr>\n",
       "      <th>3</th>\n",
       "      <td>2.0</td>\n",
       "      <td>21</td>\n",
       "    </tr>\n",
       "    <tr>\n",
       "      <th>4</th>\n",
       "      <td>1.0</td>\n",
       "      <td>17</td>\n",
       "    </tr>\n",
       "    <tr>\n",
       "      <th>5</th>\n",
       "      <td>4.0</td>\n",
       "      <td>10</td>\n",
       "    </tr>\n",
       "    <tr>\n",
       "      <th>6</th>\n",
       "      <td>3.0</td>\n",
       "      <td>9</td>\n",
       "    </tr>\n",
       "  </tbody>\n",
       "</table>\n",
       "</div>"
      ],
      "text/plain": [
       "   index  spread\n",
       "0    7.0   27337\n",
       "1    6.0    2574\n",
       "2    5.0      32\n",
       "3    2.0      21\n",
       "4    1.0      17\n",
       "5    4.0      10\n",
       "6    3.0       9"
      ]
     },
     "metadata": {},
     "output_type": "display_data"
    }
   ],
   "source": [
    "plt.hist(quote_df[\"spread\"], bins=100)\n",
    "plt.title(\"large quote spreads\")\n",
    "plt.show()\n",
    "\n",
    "display(quote_df[\"spread\"].value_counts().reset_index())"
   ]
  },
  {
   "cell_type": "markdown",
   "id": "5dae7327",
   "metadata": {},
   "source": [
    "## Large quote plot over time"
   ]
  },
  {
   "cell_type": "code",
   "execution_count": 10,
   "id": "193379cb",
   "metadata": {
    "ExecuteTime": {
     "end_time": "2023-03-22T05:24:42.193303Z",
     "start_time": "2023-03-22T05:24:41.980402Z"
    }
   },
   "outputs": [
    {
     "data": {
      "text/plain": [
       "<matplotlib.legend.Legend at 0x1151b1490>"
      ]
     },
     "execution_count": 10,
     "metadata": {},
     "output_type": "execute_result"
    },
    {
     "data": {
      "image/png": "[encoded data removed]",
      "text/plain": [
       "<Figure size 640x480 with 1 Axes>"
      ]
     },
     "metadata": {},
     "output_type": "display_data"
    }
   ],
   "source": [
    "# lb, ub = 2e6, 2e6+1e5\n",
    "# quote_df = quote_df[lb <= quote_df[\"time\"]]\n",
    "# quote_df = quote_df[quote_df[\"time\"] <= ub]\n",
    "\n",
    "plt.plot(quote_df[\"time\"], quote_df[\"buy_price\"], linewidth=0.5, label=\"buy\")\n",
    "plt.plot(quote_df[\"time\"], quote_df[\"sell_price\"], linewidth=0.5, label=\"sell\")\n",
    "plt.title(\"book\")\n",
    "plt.legend()"
   ]
  },
  {
   "cell_type": "markdown",
   "id": "eead535e",
   "metadata": {},
   "source": [
    "## plot large quote sizing"
   ]
  },
  {
   "cell_type": "code",
   "execution_count": 11,
   "id": "37a7f327",
   "metadata": {
    "ExecuteTime": {
     "end_time": "2023-03-22T05:24:42.419034Z",
     "start_time": "2023-03-22T05:24:42.195308Z"
    },
    "scrolled": false
   },
   "outputs": [
    {
     "data": {
      "image/png": "[encoded data removed]",
      "text/plain": [
       "<Figure size 1000x500 with 2 Axes>"
      ]
     },
     "metadata": {},
     "output_type": "display_data"
    },
    {
     "data": {
      "text/html": [
       "<div>\n",
       "<style scoped>\n",
       "    .dataframe tbody tr th:only-of-type {\n",
       "        vertical-align: middle;\n",
       "    }\n",
       "\n",
       "    .dataframe tbody tr th {\n",
       "        vertical-align: top;\n",
       "    }\n",
       "\n",
       "    .dataframe thead th {\n",
       "        text-align: right;\n",
       "    }\n",
       "</style>\n",
       "<table border=\"1\" class=\"dataframe\">\n",
       "  <thead>\n",
       "    <tr style=\"text-align: right;\">\n",
       "      <th></th>\n",
       "      <th>index</th>\n",
       "      <th>buy_size</th>\n",
       "    </tr>\n",
       "  </thead>\n",
       "  <tbody>\n",
       "    <tr>\n",
       "      <th>0</th>\n",
       "      <td>27.0</td>\n",
       "      <td>2777</td>\n",
       "    </tr>\n",
       "    <tr>\n",
       "      <th>1</th>\n",
       "      <td>24.0</td>\n",
       "      <td>2732</td>\n",
       "    </tr>\n",
       "    <tr>\n",
       "      <th>2</th>\n",
       "      <td>26.0</td>\n",
       "      <td>2727</td>\n",
       "    </tr>\n",
       "    <tr>\n",
       "      <th>3</th>\n",
       "      <td>28.0</td>\n",
       "      <td>2724</td>\n",
       "    </tr>\n",
       "    <tr>\n",
       "      <th>4</th>\n",
       "      <td>22.0</td>\n",
       "      <td>2720</td>\n",
       "    </tr>\n",
       "    <tr>\n",
       "      <th>5</th>\n",
       "      <td>25.0</td>\n",
       "      <td>2712</td>\n",
       "    </tr>\n",
       "    <tr>\n",
       "      <th>6</th>\n",
       "      <td>30.0</td>\n",
       "      <td>2656</td>\n",
       "    </tr>\n",
       "    <tr>\n",
       "      <th>7</th>\n",
       "      <td>29.0</td>\n",
       "      <td>2652</td>\n",
       "    </tr>\n",
       "    <tr>\n",
       "      <th>8</th>\n",
       "      <td>23.0</td>\n",
       "      <td>2606</td>\n",
       "    </tr>\n",
       "    <tr>\n",
       "      <th>9</th>\n",
       "      <td>21.0</td>\n",
       "      <td>2168</td>\n",
       "    </tr>\n",
       "    <tr>\n",
       "      <th>10</th>\n",
       "      <td>31.0</td>\n",
       "      <td>1387</td>\n",
       "    </tr>\n",
       "    <tr>\n",
       "      <th>11</th>\n",
       "      <td>20.0</td>\n",
       "      <td>1353</td>\n",
       "    </tr>\n",
       "    <tr>\n",
       "      <th>12</th>\n",
       "      <td>32.0</td>\n",
       "      <td>680</td>\n",
       "    </tr>\n",
       "    <tr>\n",
       "      <th>13</th>\n",
       "      <td>19.0</td>\n",
       "      <td>31</td>\n",
       "    </tr>\n",
       "    <tr>\n",
       "      <th>14</th>\n",
       "      <td>3.0</td>\n",
       "      <td>12</td>\n",
       "    </tr>\n",
       "    <tr>\n",
       "      <th>15</th>\n",
       "      <td>10.0</td>\n",
       "      <td>7</td>\n",
       "    </tr>\n",
       "    <tr>\n",
       "      <th>16</th>\n",
       "      <td>33.0</td>\n",
       "      <td>6</td>\n",
       "    </tr>\n",
       "    <tr>\n",
       "      <th>17</th>\n",
       "      <td>6.0</td>\n",
       "      <td>5</td>\n",
       "    </tr>\n",
       "    <tr>\n",
       "      <th>18</th>\n",
       "      <td>4.0</td>\n",
       "      <td>5</td>\n",
       "    </tr>\n",
       "    <tr>\n",
       "      <th>19</th>\n",
       "      <td>7.0</td>\n",
       "      <td>4</td>\n",
       "    </tr>\n",
       "    <tr>\n",
       "      <th>20</th>\n",
       "      <td>9.0</td>\n",
       "      <td>4</td>\n",
       "    </tr>\n",
       "    <tr>\n",
       "      <th>21</th>\n",
       "      <td>36.0</td>\n",
       "      <td>4</td>\n",
       "    </tr>\n",
       "    <tr>\n",
       "      <th>22</th>\n",
       "      <td>35.0</td>\n",
       "      <td>4</td>\n",
       "    </tr>\n",
       "    <tr>\n",
       "      <th>23</th>\n",
       "      <td>2.0</td>\n",
       "      <td>3</td>\n",
       "    </tr>\n",
       "    <tr>\n",
       "      <th>24</th>\n",
       "      <td>34.0</td>\n",
       "      <td>3</td>\n",
       "    </tr>\n",
       "    <tr>\n",
       "      <th>25</th>\n",
       "      <td>11.0</td>\n",
       "      <td>3</td>\n",
       "    </tr>\n",
       "    <tr>\n",
       "      <th>26</th>\n",
       "      <td>37.0</td>\n",
       "      <td>2</td>\n",
       "    </tr>\n",
       "    <tr>\n",
       "      <th>27</th>\n",
       "      <td>38.0</td>\n",
       "      <td>2</td>\n",
       "    </tr>\n",
       "    <tr>\n",
       "      <th>28</th>\n",
       "      <td>12.0</td>\n",
       "      <td>2</td>\n",
       "    </tr>\n",
       "    <tr>\n",
       "      <th>29</th>\n",
       "      <td>5.0</td>\n",
       "      <td>2</td>\n",
       "    </tr>\n",
       "    <tr>\n",
       "      <th>30</th>\n",
       "      <td>8.0</td>\n",
       "      <td>2</td>\n",
       "    </tr>\n",
       "    <tr>\n",
       "      <th>31</th>\n",
       "      <td>42.0</td>\n",
       "      <td>1</td>\n",
       "    </tr>\n",
       "    <tr>\n",
       "      <th>32</th>\n",
       "      <td>1.0</td>\n",
       "      <td>1</td>\n",
       "    </tr>\n",
       "    <tr>\n",
       "      <th>33</th>\n",
       "      <td>39.0</td>\n",
       "      <td>1</td>\n",
       "    </tr>\n",
       "    <tr>\n",
       "      <th>34</th>\n",
       "      <td>13.0</td>\n",
       "      <td>1</td>\n",
       "    </tr>\n",
       "    <tr>\n",
       "      <th>35</th>\n",
       "      <td>16.0</td>\n",
       "      <td>1</td>\n",
       "    </tr>\n",
       "  </tbody>\n",
       "</table>\n",
       "</div>"
      ],
      "text/plain": [
       "    index  buy_size\n",
       "0    27.0      2777\n",
       "1    24.0      2732\n",
       "2    26.0      2727\n",
       "3    28.0      2724\n",
       "4    22.0      2720\n",
       "5    25.0      2712\n",
       "6    30.0      2656\n",
       "7    29.0      2652\n",
       "8    23.0      2606\n",
       "9    21.0      2168\n",
       "10   31.0      1387\n",
       "11   20.0      1353\n",
       "12   32.0       680\n",
       "13   19.0        31\n",
       "14    3.0        12\n",
       "15   10.0         7\n",
       "16   33.0         6\n",
       "17    6.0         5\n",
       "18    4.0         5\n",
       "19    7.0         4\n",
       "20    9.0         4\n",
       "21   36.0         4\n",
       "22   35.0         4\n",
       "23    2.0         3\n",
       "24   34.0         3\n",
       "25   11.0         3\n",
       "26   37.0         2\n",
       "27   38.0         2\n",
       "28   12.0         2\n",
       "29    5.0         2\n",
       "30    8.0         2\n",
       "31   42.0         1\n",
       "32    1.0         1\n",
       "33   39.0         1\n",
       "34   13.0         1\n",
       "35   16.0         1"
      ]
     },
     "metadata": {},
     "output_type": "display_data"
    },
    {
     "data": {
      "text/html": [
       "<div>\n",
       "<style scoped>\n",
       "    .dataframe tbody tr th:only-of-type {\n",
       "        vertical-align: middle;\n",
       "    }\n",
       "\n",
       "    .dataframe tbody tr th {\n",
       "        vertical-align: top;\n",
       "    }\n",
       "\n",
       "    .dataframe thead th {\n",
       "        text-align: right;\n",
       "    }\n",
       "</style>\n",
       "<table border=\"1\" class=\"dataframe\">\n",
       "  <thead>\n",
       "    <tr style=\"text-align: right;\">\n",
       "      <th></th>\n",
       "      <th>index</th>\n",
       "      <th>sell_size</th>\n",
       "    </tr>\n",
       "  </thead>\n",
       "  <tbody>\n",
       "    <tr>\n",
       "      <th>0</th>\n",
       "      <td>27.0</td>\n",
       "      <td>2798</td>\n",
       "    </tr>\n",
       "    <tr>\n",
       "      <th>1</th>\n",
       "      <td>24.0</td>\n",
       "      <td>2746</td>\n",
       "    </tr>\n",
       "    <tr>\n",
       "      <th>2</th>\n",
       "      <td>26.0</td>\n",
       "      <td>2742</td>\n",
       "    </tr>\n",
       "    <tr>\n",
       "      <th>3</th>\n",
       "      <td>23.0</td>\n",
       "      <td>2712</td>\n",
       "    </tr>\n",
       "    <tr>\n",
       "      <th>4</th>\n",
       "      <td>30.0</td>\n",
       "      <td>2697</td>\n",
       "    </tr>\n",
       "    <tr>\n",
       "      <th>5</th>\n",
       "      <td>25.0</td>\n",
       "      <td>2694</td>\n",
       "    </tr>\n",
       "    <tr>\n",
       "      <th>6</th>\n",
       "      <td>29.0</td>\n",
       "      <td>2680</td>\n",
       "    </tr>\n",
       "    <tr>\n",
       "      <th>7</th>\n",
       "      <td>28.0</td>\n",
       "      <td>2667</td>\n",
       "    </tr>\n",
       "    <tr>\n",
       "      <th>8</th>\n",
       "      <td>22.0</td>\n",
       "      <td>2640</td>\n",
       "    </tr>\n",
       "    <tr>\n",
       "      <th>9</th>\n",
       "      <td>21.0</td>\n",
       "      <td>2122</td>\n",
       "    </tr>\n",
       "    <tr>\n",
       "      <th>10</th>\n",
       "      <td>31.0</td>\n",
       "      <td>1397</td>\n",
       "    </tr>\n",
       "    <tr>\n",
       "      <th>11</th>\n",
       "      <td>20.0</td>\n",
       "      <td>1343</td>\n",
       "    </tr>\n",
       "    <tr>\n",
       "      <th>12</th>\n",
       "      <td>32.0</td>\n",
       "      <td>706</td>\n",
       "    </tr>\n",
       "    <tr>\n",
       "      <th>13</th>\n",
       "      <td>4.0</td>\n",
       "      <td>8</td>\n",
       "    </tr>\n",
       "    <tr>\n",
       "      <th>14</th>\n",
       "      <td>6.0</td>\n",
       "      <td>8</td>\n",
       "    </tr>\n",
       "    <tr>\n",
       "      <th>15</th>\n",
       "      <td>5.0</td>\n",
       "      <td>7</td>\n",
       "    </tr>\n",
       "    <tr>\n",
       "      <th>16</th>\n",
       "      <td>9.0</td>\n",
       "      <td>7</td>\n",
       "    </tr>\n",
       "    <tr>\n",
       "      <th>17</th>\n",
       "      <td>3.0</td>\n",
       "      <td>7</td>\n",
       "    </tr>\n",
       "    <tr>\n",
       "      <th>18</th>\n",
       "      <td>7.0</td>\n",
       "      <td>6</td>\n",
       "    </tr>\n",
       "    <tr>\n",
       "      <th>19</th>\n",
       "      <td>8.0</td>\n",
       "      <td>4</td>\n",
       "    </tr>\n",
       "    <tr>\n",
       "      <th>20</th>\n",
       "      <td>10.0</td>\n",
       "      <td>3</td>\n",
       "    </tr>\n",
       "    <tr>\n",
       "      <th>21</th>\n",
       "      <td>13.0</td>\n",
       "      <td>3</td>\n",
       "    </tr>\n",
       "    <tr>\n",
       "      <th>22</th>\n",
       "      <td>12.0</td>\n",
       "      <td>2</td>\n",
       "    </tr>\n",
       "    <tr>\n",
       "      <th>23</th>\n",
       "      <td>2.0</td>\n",
       "      <td>1</td>\n",
       "    </tr>\n",
       "  </tbody>\n",
       "</table>\n",
       "</div>"
      ],
      "text/plain": [
       "    index  sell_size\n",
       "0    27.0       2798\n",
       "1    24.0       2746\n",
       "2    26.0       2742\n",
       "3    23.0       2712\n",
       "4    30.0       2697\n",
       "5    25.0       2694\n",
       "6    29.0       2680\n",
       "7    28.0       2667\n",
       "8    22.0       2640\n",
       "9    21.0       2122\n",
       "10   31.0       1397\n",
       "11   20.0       1343\n",
       "12   32.0        706\n",
       "13    4.0          8\n",
       "14    6.0          8\n",
       "15    5.0          7\n",
       "16    9.0          7\n",
       "17    3.0          7\n",
       "18    7.0          6\n",
       "19    8.0          4\n",
       "20   10.0          3\n",
       "21   13.0          3\n",
       "22   12.0          2\n",
       "23    2.0          1"
      ]
     },
     "metadata": {},
     "output_type": "display_data"
    }
   ],
   "source": [
    "plt.figure(figsize=(10, 5))\n",
    "\n",
    "plt.subplot(121)\n",
    "plt.hist(quote_df[\"buy_size\"], bins=20)\n",
    "plt.title(\"buys\")\n",
    "\n",
    "plt.subplot(122)\n",
    "plt.hist(quote_df[\"sell_size\"], bins=20)\n",
    "plt.title(\"sells\")\n",
    "\n",
    "plt.show()\n",
    "\n",
    "\n",
    "display(quote_df[\"buy_size\"].value_counts().reset_index())\n",
    "display(quote_df[\"sell_size\"].value_counts().reset_index())"
   ]
  },
  {
   "cell_type": "code",
   "execution_count": null,
   "id": "8343afbe",
   "metadata": {},
   "outputs": [],
   "source": []
  },
  {
   "cell_type": "markdown",
   "id": "346a6d70",
   "metadata": {},
   "source": [
    "## Large quote mid_price movements"
   ]
  },
  {
   "cell_type": "code",
   "execution_count": 12,
   "id": "f57478ea",
   "metadata": {
    "ExecuteTime": {
     "end_time": "2023-03-22T05:24:42.674445Z",
     "start_time": "2023-03-22T05:24:42.421517Z"
    }
   },
   "outputs": [
    {
     "data": {
      "image/png": "[encoded data removed]",
      "text/plain": [
       "<Figure size 640x480 with 1 Axes>"
      ]
     },
     "metadata": {},
     "output_type": "display_data"
    }
   ],
   "source": [
    "# diffs\n",
    "diffs = quote_df[\"mid_price\"] - quote_df[\"mid_price\"].shift(1)\n",
    "diffs = diffs.dropna()\n",
    "\n",
    "_ = plt.hist(diffs, bins=50)\n",
    "plt.title(\"diffs 1 turn\")\n",
    "plt.show()\n"
   ]
  },
  {
   "cell_type": "markdown",
   "id": "ca823b82",
   "metadata": {},
   "source": [
    "## stats on large quote mid price"
   ]
  },
  {
   "cell_type": "code",
   "execution_count": 13,
   "id": "98ab07ef",
   "metadata": {
    "ExecuteTime": {
     "end_time": "2023-03-22T05:24:42.689158Z",
     "start_time": "2023-03-22T05:24:42.676101Z"
    }
   },
   "outputs": [
    {
     "data": {
      "text/html": [
       "<div>\n",
       "<style scoped>\n",
       "    .dataframe tbody tr th:only-of-type {\n",
       "        vertical-align: middle;\n",
       "    }\n",
       "\n",
       "    .dataframe tbody tr th {\n",
       "        vertical-align: top;\n",
       "    }\n",
       "\n",
       "    .dataframe thead th {\n",
       "        text-align: right;\n",
       "    }\n",
       "</style>\n",
       "<table border=\"1\" class=\"dataframe\">\n",
       "  <thead>\n",
       "    <tr style=\"text-align: right;\">\n",
       "      <th></th>\n",
       "      <th>count</th>\n",
       "      <th>mean</th>\n",
       "      <th>std</th>\n",
       "      <th>min</th>\n",
       "      <th>25%</th>\n",
       "      <th>50%</th>\n",
       "      <th>75%</th>\n",
       "      <th>max</th>\n",
       "    </tr>\n",
       "  </thead>\n",
       "  <tbody>\n",
       "    <tr>\n",
       "      <th>mid_price</th>\n",
       "      <td>29999.0</td>\n",
       "      <td>-0.004217</td>\n",
       "      <td>0.543164</td>\n",
       "      <td>-4.0</td>\n",
       "      <td>0.0</td>\n",
       "      <td>0.0</td>\n",
       "      <td>0.0</td>\n",
       "      <td>4.0</td>\n",
       "    </tr>\n",
       "  </tbody>\n",
       "</table>\n",
       "</div>"
      ],
      "text/plain": [
       "             count      mean       std  min  25%  50%  75%  max\n",
       "mid_price  29999.0 -0.004217  0.543164 -4.0  0.0  0.0  0.0  4.0"
      ]
     },
     "metadata": {},
     "output_type": "display_data"
    },
    {
     "name": "stdout",
     "output_type": "stream",
     "text": [
      "std size 94.07715769929301\n",
      "total change -126.5\n",
      "z-score -1.3446409637963652\n"
     ]
    }
   ],
   "source": [
    "diff_desc = pd.DataFrame(diffs).describe().T\n",
    "display(diff_desc)\n",
    "\n",
    "stdev = np.sqrt(len(diffs))* diff_desc[\"std\"].iloc[0]\n",
    "print(\"std size\", stdev)\n",
    "print(\"total change\", diffs.sum())\n",
    "print(\"z-score\", diffs.sum() / stdev)"
   ]
  },
  {
   "cell_type": "markdown",
   "id": "88a85b55",
   "metadata": {},
   "source": [
    "## linreg on large quote mid price"
   ]
  },
  {
   "cell_type": "code",
   "execution_count": 14,
   "id": "6050c367",
   "metadata": {
    "ExecuteTime": {
     "end_time": "2023-03-22T05:24:43.350139Z",
     "start_time": "2023-03-22T05:24:42.690879Z"
    }
   },
   "outputs": [],
   "source": [
    "from sklearn.linear_model import LinearRegression"
   ]
  },
  {
   "cell_type": "code",
   "execution_count": 15,
   "id": "4006ed6f",
   "metadata": {
    "ExecuteTime": {
     "end_time": "2023-03-22T05:24:43.363929Z",
     "start_time": "2023-03-22T05:24:43.352286Z"
    }
   },
   "outputs": [],
   "source": [
    "_turn_diffs = [-1, -10]\n",
    "_pred_diff = 10\n",
    "\n",
    "data = []\n",
    "\n",
    "# get input data\n",
    "for diff in _turn_diffs:\n",
    "    data += [quote_df[\"mid_price\"] - quote_df[\"mid_price\"].shift(-1 * diff)]\n",
    "\n",
    "# get output data\n",
    "data += [quote_df[\"mid_price\"].shift(-1 * _pred_diff) - quote_df[\"mid_price\"]]\n",
    "\n",
    "# form X, y - clean data\n",
    "X = pd.concat(data, axis=1)\n",
    "X = X.dropna()\n",
    "X.columns = [f\"d_{diff}\" for diff in [*_turn_diffs, _pred_diff]]\n",
    "\n",
    "y = X[[f\"d_{_pred_diff}\"]]\n",
    "X = X.drop(f\"d_{_pred_diff}\", axis=1)"
   ]
  },
  {
   "cell_type": "code",
   "execution_count": 16,
   "id": "f8d88508",
   "metadata": {
    "ExecuteTime": {
     "end_time": "2023-03-22T05:24:43.614853Z",
     "start_time": "2023-03-22T05:24:43.366174Z"
    }
   },
   "outputs": [
    {
     "data": {
      "image/png": "[encoded data removed]",
      "text/plain": [
       "<Figure size 640x480 with 1 Axes>"
      ]
     },
     "metadata": {},
     "output_type": "display_data"
    },
    {
     "data": {
      "image/png": "[encoded data removed]",
      "text/plain": [
       "<Figure size 640x480 with 1 Axes>"
      ]
     },
     "metadata": {},
     "output_type": "display_data"
    }
   ],
   "source": [
    "for col in X.columns:\n",
    "    Xp = X[col] + np.random.normal(scale=0.1, size=X[col].shape)\n",
    "    yp = y + np.random.normal(scale=0.1, size=y.shape)\n",
    "    plt.scatter(Xp, yp, s=0.25)\n",
    "    plt.title(col + \" vs \" + y.columns[0])\n",
    "    plt.show()"
   ]
  },
  {
   "cell_type": "code",
   "execution_count": 17,
   "id": "75bf566e",
   "metadata": {
    "ExecuteTime": {
     "end_time": "2023-03-22T05:24:43.729059Z",
     "start_time": "2023-03-22T05:24:43.617124Z"
    }
   },
   "outputs": [
    {
     "data": {
      "text/plain": [
       "(array([[0., 0., 0., ..., 0., 0., 0.],\n",
       "        [0., 0., 0., ..., 0., 0., 0.],\n",
       "        [0., 0., 0., ..., 0., 0., 0.],\n",
       "        ...,\n",
       "        [0., 0., 0., ..., 0., 0., 0.],\n",
       "        [0., 0., 0., ..., 0., 0., 0.],\n",
       "        [0., 0., 0., ..., 0., 0., 0.]]),\n",
       " array([-5.  , -4.78, -4.56, -4.34, -4.12, -3.9 , -3.68, -3.46, -3.24,\n",
       "        -3.02, -2.8 , -2.58, -2.36, -2.14, -1.92, -1.7 , -1.48, -1.26,\n",
       "        -1.04, -0.82, -0.6 , -0.38, -0.16,  0.06,  0.28,  0.5 ,  0.72,\n",
       "         0.94,  1.16,  1.38,  1.6 ,  1.82,  2.04,  2.26,  2.48,  2.7 ,\n",
       "         2.92,  3.14,  3.36,  3.58,  3.8 ,  4.02,  4.24,  4.46,  4.68,\n",
       "         4.9 ,  5.12,  5.34,  5.56,  5.78,  6.  ]),\n",
       " array([-5.  , -4.78, -4.56, -4.34, -4.12, -3.9 , -3.68, -3.46, -3.24,\n",
       "        -3.02, -2.8 , -2.58, -2.36, -2.14, -1.92, -1.7 , -1.48, -1.26,\n",
       "        -1.04, -0.82, -0.6 , -0.38, -0.16,  0.06,  0.28,  0.5 ,  0.72,\n",
       "         0.94,  1.16,  1.38,  1.6 ,  1.82,  2.04,  2.26,  2.48,  2.7 ,\n",
       "         2.92,  3.14,  3.36,  3.58,  3.8 ,  4.02,  4.24,  4.46,  4.68,\n",
       "         4.9 ,  5.12,  5.34,  5.56,  5.78,  6.  ]),\n",
       " <matplotlib.collections.QuadMesh at 0x11c721730>)"
      ]
     },
     "execution_count": 17,
     "metadata": {},
     "output_type": "execute_result"
    },
    {
     "data": {
      "image/png": "[encoded data removed]",
      "text/plain": [
       "<Figure size 640x480 with 1 Axes>"
      ]
     },
     "metadata": {},
     "output_type": "display_data"
    }
   ],
   "source": [
    "plt.hist2d(X[col], y[y.columns[0]], bins=50)"
   ]
  },
  {
   "cell_type": "code",
   "execution_count": 18,
   "id": "f42072ac",
   "metadata": {
    "ExecuteTime": {
     "end_time": "2023-03-22T05:24:43.971895Z",
     "start_time": "2023-03-22T05:24:43.730527Z"
    }
   },
   "outputs": [
    {
     "data": {
      "text/html": [
       "<div>\n",
       "<style scoped>\n",
       "    .dataframe tbody tr th:only-of-type {\n",
       "        vertical-align: middle;\n",
       "    }\n",
       "\n",
       "    .dataframe tbody tr th {\n",
       "        vertical-align: top;\n",
       "    }\n",
       "\n",
       "    .dataframe thead th {\n",
       "        text-align: right;\n",
       "    }\n",
       "</style>\n",
       "<table border=\"1\" class=\"dataframe\">\n",
       "  <thead>\n",
       "    <tr style=\"text-align: right;\">\n",
       "      <th></th>\n",
       "      <th>count</th>\n",
       "      <th>mean</th>\n",
       "      <th>std</th>\n",
       "      <th>min</th>\n",
       "      <th>25%</th>\n",
       "      <th>50%</th>\n",
       "      <th>75%</th>\n",
       "      <th>max</th>\n",
       "    </tr>\n",
       "  </thead>\n",
       "  <tbody>\n",
       "    <tr>\n",
       "      <th>d_10</th>\n",
       "      <td>29980.0</td>\n",
       "      <td>-0.042812</td>\n",
       "      <td>1.279116</td>\n",
       "      <td>-5.0</td>\n",
       "      <td>-1.0</td>\n",
       "      <td>0.0</td>\n",
       "      <td>1.0</td>\n",
       "      <td>6.0</td>\n",
       "    </tr>\n",
       "  </tbody>\n",
       "</table>\n",
       "</div>"
      ],
      "text/plain": [
       "        count      mean       std  min  25%  50%  75%  max\n",
       "d_10  29980.0 -0.042812  1.279116 -5.0 -1.0  0.0  1.0  6.0"
      ]
     },
     "metadata": {},
     "output_type": "display_data"
    },
    {
     "data": {
      "text/html": [
       "<div>\n",
       "<style scoped>\n",
       "    .dataframe tbody tr th:only-of-type {\n",
       "        vertical-align: middle;\n",
       "    }\n",
       "\n",
       "    .dataframe tbody tr th {\n",
       "        vertical-align: top;\n",
       "    }\n",
       "\n",
       "    .dataframe thead th {\n",
       "        text-align: right;\n",
       "    }\n",
       "</style>\n",
       "<table border=\"1\" class=\"dataframe\">\n",
       "  <thead>\n",
       "    <tr style=\"text-align: right;\">\n",
       "      <th></th>\n",
       "      <th>count</th>\n",
       "      <th>mean</th>\n",
       "      <th>std</th>\n",
       "      <th>min</th>\n",
       "      <th>25%</th>\n",
       "      <th>50%</th>\n",
       "      <th>75%</th>\n",
       "      <th>max</th>\n",
       "    </tr>\n",
       "  </thead>\n",
       "  <tbody>\n",
       "    <tr>\n",
       "      <th>d_10</th>\n",
       "      <td>29980.0</td>\n",
       "      <td>0.982705</td>\n",
       "      <td>0.819896</td>\n",
       "      <td>0.0</td>\n",
       "      <td>0.0</td>\n",
       "      <td>1.0</td>\n",
       "      <td>1.5</td>\n",
       "      <td>6.0</td>\n",
       "    </tr>\n",
       "  </tbody>\n",
       "</table>\n",
       "</div>"
      ],
      "text/plain": [
       "        count      mean       std  min  25%  50%  75%  max\n",
       "d_10  29980.0  0.982705  0.819896  0.0  0.0  1.0  1.5  6.0"
      ]
     },
     "metadata": {},
     "output_type": "display_data"
    },
    {
     "data": {
      "image/png": "[encoded data removed]",
      "text/plain": [
       "<Figure size 640x480 with 1 Axes>"
      ]
     },
     "metadata": {},
     "output_type": "display_data"
    }
   ],
   "source": [
    "plt.hist(y, bins=20)\n",
    "\n",
    "display(y.describe().T)\n",
    "display(abs(y).describe().T)\n"
   ]
  },
  {
   "cell_type": "code",
   "execution_count": 19,
   "id": "979989ad",
   "metadata": {
    "ExecuteTime": {
     "end_time": "2023-03-22T05:24:43.983361Z",
     "start_time": "2023-03-22T05:24:43.973643Z"
    }
   },
   "outputs": [
    {
     "data": {
      "text/plain": [
       "array([[-0.23873539, -0.01452084]])"
      ]
     },
     "metadata": {},
     "output_type": "display_data"
    },
    {
     "data": {
      "text/plain": [
       "array([-0.04444386])"
      ]
     },
     "metadata": {},
     "output_type": "display_data"
    }
   ],
   "source": [
    "reg = LinearRegression().fit(X, y)\n",
    "display(reg.coef_)\n",
    "display(reg.intercept_)"
   ]
  },
  {
   "cell_type": "code",
   "execution_count": 20,
   "id": "e2da8b98",
   "metadata": {
    "ExecuteTime": {
     "end_time": "2023-03-22T05:24:43.992516Z",
     "start_time": "2023-03-22T05:24:43.985719Z"
    }
   },
   "outputs": [
    {
     "name": "stdout",
     "output_type": "stream",
     "text": [
      "coeffs [-0.23873539 -0.01452084]\n",
      "intercept -0.04444386220131801\n",
      "score 0.011435715805271585\n"
     ]
    }
   ],
   "source": [
    "print(\"coeffs\", sum(reg.coef_))\n",
    "print(\"intercept\", sum(reg.intercept_))\n",
    "print(\"score\", reg.score(X, y))"
   ]
  },
  {
   "cell_type": "code",
   "execution_count": 21,
   "id": "fd4f7f61",
   "metadata": {
    "ExecuteTime": {
     "end_time": "2023-03-22T05:24:44.016001Z",
     "start_time": "2023-03-22T05:24:43.994713Z"
    }
   },
   "outputs": [
    {
     "data": {
      "text/html": [
       "<div>\n",
       "<style scoped>\n",
       "    .dataframe tbody tr th:only-of-type {\n",
       "        vertical-align: middle;\n",
       "    }\n",
       "\n",
       "    .dataframe tbody tr th {\n",
       "        vertical-align: top;\n",
       "    }\n",
       "\n",
       "    .dataframe thead th {\n",
       "        text-align: right;\n",
       "    }\n",
       "</style>\n",
       "<table border=\"1\" class=\"dataframe\">\n",
       "  <thead>\n",
       "    <tr style=\"text-align: right;\">\n",
       "      <th></th>\n",
       "      <th>count</th>\n",
       "      <th>mean</th>\n",
       "      <th>std</th>\n",
       "      <th>min</th>\n",
       "      <th>25%</th>\n",
       "      <th>50%</th>\n",
       "      <th>75%</th>\n",
       "      <th>max</th>\n",
       "    </tr>\n",
       "  </thead>\n",
       "  <tbody>\n",
       "    <tr>\n",
       "      <th>d_10</th>\n",
       "      <td>29980.0</td>\n",
       "      <td>-4.740112e-19</td>\n",
       "      <td>1.271782</td>\n",
       "      <td>-6.058965</td>\n",
       "      <td>-1.029923</td>\n",
       "      <td>-0.044444</td>\n",
       "      <td>0.955556</td>\n",
       "      <td>4.941035</td>\n",
       "    </tr>\n",
       "    <tr>\n",
       "      <th>abs</th>\n",
       "      <td>29980.0</td>\n",
       "      <td>9.973085e-01</td>\n",
       "      <td>0.789158</td>\n",
       "      <td>0.000615</td>\n",
       "      <td>0.297700</td>\n",
       "      <td>0.955556</td>\n",
       "      <td>1.334002</td>\n",
       "      <td>6.058965</td>\n",
       "    </tr>\n",
       "  </tbody>\n",
       "</table>\n",
       "</div>"
      ],
      "text/plain": [
       "        count          mean       std       min       25%       50%       75%  \\\n",
       "d_10  29980.0 -4.740112e-19  1.271782 -6.058965 -1.029923 -0.044444  0.955556   \n",
       "abs   29980.0  9.973085e-01  0.789158  0.000615  0.297700  0.955556  1.334002   \n",
       "\n",
       "           max  \n",
       "d_10  4.941035  \n",
       "abs   6.058965  "
      ]
     },
     "execution_count": 21,
     "metadata": {},
     "output_type": "execute_result"
    }
   ],
   "source": [
    "error = reg.predict(X) - y\n",
    "error[\"abs\"] = abs(error[f\"d_{_pred_diff}\"])\n",
    "\n",
    "error.describe().T"
   ]
  },
  {
   "cell_type": "code",
   "execution_count": 22,
   "id": "cf78624c",
   "metadata": {
    "ExecuteTime": {
     "end_time": "2023-03-22T05:24:44.032146Z",
     "start_time": "2023-03-22T05:24:44.018432Z"
    }
   },
   "outputs": [
    {
     "data": {
      "text/html": [
       "<div>\n",
       "<style scoped>\n",
       "    .dataframe tbody tr th:only-of-type {\n",
       "        vertical-align: middle;\n",
       "    }\n",
       "\n",
       "    .dataframe tbody tr th {\n",
       "        vertical-align: top;\n",
       "    }\n",
       "\n",
       "    .dataframe thead th {\n",
       "        text-align: right;\n",
       "    }\n",
       "</style>\n",
       "<table border=\"1\" class=\"dataframe\">\n",
       "  <thead>\n",
       "    <tr style=\"text-align: right;\">\n",
       "      <th></th>\n",
       "      <th>count</th>\n",
       "      <th>mean</th>\n",
       "      <th>std</th>\n",
       "      <th>min</th>\n",
       "      <th>25%</th>\n",
       "      <th>50%</th>\n",
       "      <th>75%</th>\n",
       "      <th>max</th>\n",
       "    </tr>\n",
       "  </thead>\n",
       "  <tbody>\n",
       "    <tr>\n",
       "      <th>0</th>\n",
       "      <td>29980.0</td>\n",
       "      <td>-0.042812</td>\n",
       "      <td>0.136786</td>\n",
       "      <td>-0.999385</td>\n",
       "      <td>-0.066225</td>\n",
       "      <td>-0.044444</td>\n",
       "      <td>-0.015402</td>\n",
       "      <td>0.968581</td>\n",
       "    </tr>\n",
       "  </tbody>\n",
       "</table>\n",
       "</div>"
      ],
      "text/plain": [
       "     count      mean       std       min       25%       50%       75%  \\\n",
       "0  29980.0 -0.042812  0.136786 -0.999385 -0.066225 -0.044444 -0.015402   \n",
       "\n",
       "        max  \n",
       "0  0.968581  "
      ]
     },
     "execution_count": 22,
     "metadata": {},
     "output_type": "execute_result"
    }
   ],
   "source": [
    "pd.DataFrame(reg.predict(X)).describe().T"
   ]
  },
  {
   "cell_type": "code",
   "execution_count": null,
   "id": "717efc4f",
   "metadata": {},
   "outputs": [],
   "source": []
  },
  {
   "cell_type": "markdown",
   "id": "0526b9b5",
   "metadata": {},
   "source": [
    "# Postbook"
   ]
  },
  {
   "cell_type": "markdown",
   "id": "bfa2fb95",
   "metadata": {},
   "source": [
    "## postbook helper methods"
   ]
  },
  {
   "cell_type": "code",
   "execution_count": 23,
   "id": "0ee2039c",
   "metadata": {
    "ExecuteTime": {
     "end_time": "2023-03-22T05:24:44.040903Z",
     "start_time": "2023-03-22T05:24:44.034471Z"
    }
   },
   "outputs": [],
   "source": [
    "def get_postbook_bounds(time):\n",
    "    \n",
    "    interval = 100000\n",
    "    # get nearest 100k\n",
    "    \n",
    "    lb = (time // interval) * interval\n",
    "    ub = lb + interval\n",
    "        \n",
    "    ts = trade_df[(lb < trade_df[\"time\"]) & (trade_df[\"time\"] < ub)]\n",
    "    ps = price_df[(lb < price_df[\"time\"]) & (price_df[\"time\"] < ub)]\n",
    "    \n",
    "\n",
    "    min_prices = []\n",
    "    max_prices = []\n",
    "\n",
    "    for i in _book_range:\n",
    "        prices = ps[f\"buy_price_{i}\"]\n",
    "        min_prices += [prices.min()]\n",
    "        max_prices += [prices.max()]\n",
    "\n",
    "    for i in _book_range:\n",
    "        prices = ps[f\"sell_price_{i}\"]\n",
    "        min_prices += [prices.min()]\n",
    "        max_prices += [prices.max()]\n",
    "\n",
    "    prices = ts[\"price\"]\n",
    "    min_prices += [prices.min()]\n",
    "    max_prices += [prices.max()]\n",
    "\n",
    "\n",
    "    xmin = min(min_prices)\n",
    "    xmax = max(max_prices)\n",
    "    ymin = 0\n",
    "    ymax = 50\n",
    "    \n",
    "    return xmin, xmax, ymin, ymax"
   ]
  },
  {
   "cell_type": "code",
   "execution_count": 24,
   "id": "98334fbd",
   "metadata": {
    "ExecuteTime": {
     "end_time": "2023-03-22T05:24:44.062513Z",
     "start_time": "2023-03-22T05:24:44.043540Z"
    }
   },
   "outputs": [],
   "source": [
    "def get_book(sym, time):\n",
    "    cur_prices = price_df[price_df[\"time\"] == time].iloc[0]\n",
    "    \n",
    "    buys = []\n",
    "\n",
    "    for i in _book_range:\n",
    "        price, size = cur_prices[f\"buy_price_{i}\"], cur_prices[f\"buy_volume_{i}\"]\n",
    "        if np.isnan(price):\n",
    "            continue\n",
    "        buys += [{\"price\": price, \"quantity\": size}]\n",
    "\n",
    "    sells = []\n",
    "\n",
    "    for i in _book_range:\n",
    "        price, size = cur_prices[f\"sell_price_{i}\"], cur_prices[f\"sell_volume_{i}\"]\n",
    "        if np.isnan(price):\n",
    "            continue\n",
    "        sells += [{\"price\": price, \"quantity\": size}]\n",
    "        \n",
    "    buys = pd.DataFrame(buys, columns=[\"price\", \"quantity\"])\n",
    "    sells = pd.DataFrame(sells, columns=[\"price\", \"quantity\"])\n",
    "    \n",
    "    empty = pd.DataFrame([], columns=[\"price\", \"quantity\"])\n",
    "\n",
    "    return buys, sells, empty, empty\n",
    "\n",
    "\n",
    "def get_trades(sym, time):\n",
    "    \n",
    "#     market_ts = trade_df[(trade_df[\"symbol\"] == sym) & (trade_df[\"time\"] == time)]\n",
    "    market_ts = trade_df[trade_df[\"time\"] == time]\n",
    "    \n",
    "    market_ts = market_ts.groupby([\"symbol\", \"time\", \"price\"])[[\"quantity\"]].sum().reset_index()\n",
    "#     my_ts = my_ts.groupby([\"symbol\", \"time\", \"price\", \"my_buy\", \"my_sell\"])[[\"quantity\"]].sum().reset_index()\n",
    "    \n",
    "    return market_ts, pd.DataFrame([], columns=market_ts.columns)\n",
    "    \n",
    "\n",
    "def show_book(sym, \n",
    "              time, \n",
    "              xmin=None, \n",
    "              xmax=None,\n",
    "              ymin=None, \n",
    "              ymax=None,\n",
    "             ):\n",
    "        \n",
    "    # set figsize    \n",
    "    plt.figure(figsize=(15,6))\n",
    "    \n",
    "    buys, sells, my_buys, my_sells = get_book(sym, time)\n",
    "    market_ts, my_ts = get_trades(sym, time + _time_step)\n",
    "\n",
    "    \n",
    "    # make bars have correct sign\n",
    "#     sells[\"quantity\"] *= -1\n",
    "#     my_buys[\"quantity\"] *= -1\n",
    "#     my_ts[\"quantity\"] *= -1\n",
    "    \n",
    "    # plot order book\n",
    "    if len(buys) > 0:\n",
    "        plt.bar(buys[\"price\"], buys[\"quantity\"], color=\"green\", label=\"market buy\")\n",
    "    if len(sells) > 0:\n",
    "        plt.bar(sells[\"price\"], sells[\"quantity\"], color=\"red\", label=\"market sells\")\n",
    "    \n",
    "    if len(my_buys) > 0:\n",
    "        plt.bar(my_buys[\"price\"], my_buys[\"quantity\"], color=\"blue\", label=\"my buy\")\n",
    "    if len(my_sells) > 0:\n",
    "        plt.bar(my_sells[\"price\"], my_sells[\"quantity\"], color=\"orange\", label=\"my sell\")\n",
    "    \n",
    "    # plot trades\n",
    "    if len(market_ts) > 0:\n",
    "        plt.bar(market_ts[\"price\"], market_ts[\"quantity\"], color=(0, 0, 0, 0), label=\"market trade\", \n",
    "                hatch=\"///\", edgecolor=\"black\")\n",
    "        \n",
    "    if len(my_ts) > 0:\n",
    "        plt.bar(my_ts[\"price\"], my_ts[\"quantity\"], color=(0, 0, 0, 0), label=\"my trade\",\n",
    "                hatch=\"xxx\", edgecolor=\"black\")\n",
    "    \n",
    "    \n",
    "    \n",
    "    ### draw reference lines\n",
    "    \n",
    "    # set xlim, ylim\n",
    "    if xmin:\n",
    "        plt.xlim(xmin=xmin)\n",
    "    if xmax:\n",
    "        plt.xlim(xmax=xmax)\n",
    "    if ymin:\n",
    "        plt.ylim(bottom=ymin)\n",
    "    if ymax:\n",
    "        plt.ylim(top=ymax)\n",
    "    \n",
    "    # draw horizontal line at 0 \n",
    "    plt.axhline(y=0.0, color=\"black\", linestyle='-')\n",
    "    \n",
    "    # draw true mid\n",
    "    if len(buys) > 0 and len(sells) > 0:\n",
    "        true_mid = (buys[\"price\"][0] + sells[\"price\"][0]) / 2\n",
    "        plt.axvline(x=true_mid, color=\"red\", linestyle='solid', alpha=0.2)\n",
    "    \n",
    "    # draw ref ema\n",
    "    ref_ema = quote_df[quote_df[\"time\"] == time][\"mid_price\"].iloc[0]\n",
    "    plt.axvline(x=ref_ema, color=\"black\", linestyle='dotted')\n",
    "    \n",
    "#     ema_span = raw_records[raw_records[\"time\"] == time][\"best_ema_spans\"].iloc[0][sym]\n",
    "    \n",
    "    ### general figure settings    \n",
    "    plt.legend(loc=\"upper center\")\n",
    "    plt.title(f\"{sym} book - Time: {time}\")\n",
    "#     plt.title(f\"{sym} book - Time: {time} - ema_span: {ema_span}\")\n",
    "    plt.show()\n",
    "    \n",
    "    \n",
    "    ### print raw info\n",
    "#     print(\"ref_ema\", ref_ema)\n",
    "    \n",
    "    print(\"market trades\")\n",
    "    display(market_ts)\n",
    "    print(\"my trades\")\n",
    "    display(my_ts)\n",
    "    \n",
    "    print(\"buys\")\n",
    "    display(buys.T)\n",
    "    print(\"sells\")\n",
    "    display(sells.T)\n",
    "    print(\"my_buys\")\n",
    "    display(my_buys.T)\n",
    "    print(\"my_sells\")\n",
    "    display(my_sells.T)\n",
    "    \n",
    "def show_book_simple(\n",
    "        sym,\n",
    "        time=0,\n",
    "        # ymin=None,\n",
    "        # ymax=None,\n",
    "        ):\n",
    "    \n",
    "    xmin, xmax, ymin, ymax = get_postbook_bounds(time)\n",
    "    \n",
    "    show_book(\n",
    "        sym, \n",
    "        time,\n",
    "        xmin=xmin - 1,\n",
    "        xmax=xmax + 1,\n",
    "        ymin=-10,\n",
    "        ymax=ymax,\n",
    "    )"
   ]
  },
  {
   "cell_type": "markdown",
   "id": "9b37a52d",
   "metadata": {},
   "source": [
    "## Postbook reconstruction"
   ]
  },
  {
   "cell_type": "code",
   "execution_count": 25,
   "id": "7d36657d",
   "metadata": {
    "ExecuteTime": {
     "end_time": "2023-03-22T05:24:44.261124Z",
     "start_time": "2023-03-22T05:24:44.064798Z"
    }
   },
   "outputs": [
    {
     "data": {
      "application/vnd.jupyter.widget-view+json": {
       "model_id": "0a13095cf57c4e0f8d2a3026ff657f1b",
       "version_major": 2,
       "version_minor": 0
      },
      "text/plain": [
       "interactive(children=(Dropdown(description='sym', options=('BANANAS', 'PEARLS'), value='BANANAS'), IntSlider(v…"
      ]
     },
     "metadata": {},
     "output_type": "display_data"
    },
    {
     "data": {
      "text/plain": [
       "<function __main__.show_book_simple(sym, time=0)>"
      ]
     },
     "execution_count": 25,
     "metadata": {},
     "output_type": "execute_result"
    }
   ],
   "source": [
    "\n",
    "interact(\n",
    "    show_book_simple,\n",
    "    sym=[\"BANANAS\", \"PEARLS\"],\n",
    "    time=(0, len(_day_range) * _max_time, _time_step),\n",
    ")"
   ]
  },
  {
   "cell_type": "code",
   "execution_count": 26,
   "id": "ac743a86",
   "metadata": {
    "ExecuteTime": {
     "end_time": "2023-03-22T05:24:44.265236Z",
     "start_time": "2023-03-22T05:24:44.263128Z"
    }
   },
   "outputs": [],
   "source": [
    "# filter between our times\n",
    "# trade_df = trade_df[(2e6 <= trade_df[\"time\"]) & (trade_df[\"time\"] < 2e6 + 1e5)]\n",
    "# price_df = price_df[(2e6 <= price_df[\"time\"]) & (price_df[\"time\"] < 2e6 + 1e5)]\n"
   ]
  },
  {
   "cell_type": "markdown",
   "id": "06e9a0a4",
   "metadata": {},
   "source": [
    "## Best Taker Analysis"
   ]
  },
  {
   "cell_type": "code",
   "execution_count": 27,
   "id": "8af605ff",
   "metadata": {
    "ExecuteTime": {
     "end_time": "2023-03-22T05:24:44.292034Z",
     "start_time": "2023-03-22T05:24:44.266668Z"
    }
   },
   "outputs": [],
   "source": [
    "# get all buy_order_df\n",
    "buy_data = [price_df[[f\"buy_price_{i}\", f\"buy_volume_{i}\", \"time\"]] for i in _book_range]\n",
    "buy_data = [df.set_axis(labels=[\"price\", \"quantity\", \"time\"], axis=1) for df in buy_data]\n",
    "buy_df = pd.concat(buy_data).dropna()\n",
    "buy_df = buy_df.sort_values(by=\"time\").reset_index(drop=True)\n",
    "\n",
    "# get all sell_order_df\n",
    "sell_data = [price_df[[f\"sell_price_{i}\", f\"sell_volume_{i}\", \"time\"]] for i in _book_range]\n",
    "sell_data = [df.set_axis(labels=[\"price\", \"quantity\", \"time\"], axis=1) for df in sell_data]\n",
    "sell_df = pd.concat(sell_data).dropna()\n",
    "sell_df = sell_df.sort_values(by=\"time\").reset_index(drop=True)\n",
    "\n",
    "# negate quantity for sells\n",
    "sell_df[\"quantity\"] *= -1"
   ]
  },
  {
   "cell_type": "code",
   "execution_count": 28,
   "id": "1f8d1b44",
   "metadata": {
    "ExecuteTime": {
     "end_time": "2023-03-22T05:24:44.343289Z",
     "start_time": "2023-03-22T05:24:44.301836Z"
    },
    "scrolled": false
   },
   "outputs": [],
   "source": [
    "# combine buy_df/sell_df into order_df\n",
    "order_df = pd.concat([buy_df, sell_df]) \\\n",
    "                .sort_values(by=[\"time\", \"price\"], ascending=True) \\\n",
    "                .reset_index(drop=True)\n",
    "\n",
    "# merge mid_price (of large quotes) into order_df\n",
    "order_df = order_df.merge(quote_df[[\"time\", \"mid_price\"]], on=\"time\")\n",
    "\n",
    "# calculate edge if this order goes through\n",
    "order_df[\"edge\"] = np.sign(order_df[\"quantity\"]) * (order_df[\"mid_price\"] - order_df[\"price\"])\n"
   ]
  },
  {
   "cell_type": "code",
   "execution_count": 29,
   "id": "4d233deb",
   "metadata": {
    "ExecuteTime": {
     "end_time": "2023-03-22T05:24:44.354975Z",
     "start_time": "2023-03-22T05:24:44.345430Z"
    },
    "scrolled": true
   },
   "outputs": [],
   "source": [
    "# find orders with negative edge for maker (taker wins)\n",
    "taker_df = order_df[order_df[\"edge\"] <= 0].copy()\n",
    "\n",
    "taker_df[\"edge\"] = -1 * taker_df[\"edge\"]\n",
    "\n",
    "taker_df[\"abs_quantity\"] = taker_df[\"quantity\"].abs()\n",
    "taker_df[\"pnl\"] = taker_df[\"edge\"] * taker_df[\"abs_quantity\"]\n"
   ]
  },
  {
   "cell_type": "code",
   "execution_count": 30,
   "id": "6f682c80",
   "metadata": {
    "ExecuteTime": {
     "end_time": "2023-03-22T05:24:44.360715Z",
     "start_time": "2023-03-22T05:24:44.357166Z"
    }
   },
   "outputs": [
    {
     "name": "stdout",
     "output_type": "stream",
     "text": [
      "take edge total 21435.0\n"
     ]
    }
   ],
   "source": [
    "# calculate total potential taker profit\n",
    "print(\"take edge total\", taker_df[\"pnl\"].sum())"
   ]
  },
  {
   "cell_type": "code",
   "execution_count": 31,
   "id": "143de4d1",
   "metadata": {
    "ExecuteTime": {
     "end_time": "2023-03-22T05:24:44.520762Z",
     "start_time": "2023-03-22T05:24:44.363056Z"
    },
    "scrolled": false
   },
   "outputs": [
    {
     "data": {
      "text/html": [
       "<div>\n",
       "<style scoped>\n",
       "    .dataframe tbody tr th:only-of-type {\n",
       "        vertical-align: middle;\n",
       "    }\n",
       "\n",
       "    .dataframe tbody tr th {\n",
       "        vertical-align: top;\n",
       "    }\n",
       "\n",
       "    .dataframe thead th {\n",
       "        text-align: right;\n",
       "    }\n",
       "</style>\n",
       "<table border=\"1\" class=\"dataframe\">\n",
       "  <thead>\n",
       "    <tr style=\"text-align: right;\">\n",
       "      <th></th>\n",
       "      <th>abs_quantity</th>\n",
       "    </tr>\n",
       "    <tr>\n",
       "      <th>edge</th>\n",
       "      <th></th>\n",
       "    </tr>\n",
       "  </thead>\n",
       "  <tbody>\n",
       "    <tr>\n",
       "      <th>-0.0</th>\n",
       "      <td>234.0</td>\n",
       "    </tr>\n",
       "    <tr>\n",
       "      <th>0.5</th>\n",
       "      <td>3125.0</td>\n",
       "    </tr>\n",
       "    <tr>\n",
       "      <th>1.0</th>\n",
       "      <td>437.0</td>\n",
       "    </tr>\n",
       "    <tr>\n",
       "      <th>1.5</th>\n",
       "      <td>5155.0</td>\n",
       "    </tr>\n",
       "    <tr>\n",
       "      <th>2.0</th>\n",
       "      <td>484.0</td>\n",
       "    </tr>\n",
       "    <tr>\n",
       "      <th>2.5</th>\n",
       "      <td>4294.0</td>\n",
       "    </tr>\n",
       "  </tbody>\n",
       "</table>\n",
       "</div>"
      ],
      "text/plain": [
       "      abs_quantity\n",
       "edge              \n",
       "-0.0         234.0\n",
       " 0.5        3125.0\n",
       " 1.0         437.0\n",
       " 1.5        5155.0\n",
       " 2.0         484.0\n",
       " 2.5        4294.0"
      ]
     },
     "metadata": {},
     "output_type": "display_data"
    },
    {
     "data": {
      "text/plain": [
       "Text(0.5, 1.0, 'Edge distribution of profitable takes')"
      ]
     },
     "execution_count": 31,
     "metadata": {},
     "output_type": "execute_result"
    },
    {
     "data": {
      "image/png": "[encoded data removed]",
      "text/plain": [
       "<Figure size 640x480 with 1 Axes>"
      ]
     },
     "metadata": {},
     "output_type": "display_data"
    }
   ],
   "source": [
    "# show distribution of edge (by volume)\n",
    "\n",
    "take_stats = taker_df.groupby(\"edge\")[[\"abs_quantity\"]].sum()\n",
    "display(take_stats)\n",
    "\n",
    "plt.bar(abs(take_stats.index), take_stats[\"abs_quantity\"], width=0.25)\n",
    "plt.title(\"Edge distribution of profitable takes\")\n"
   ]
  },
  {
   "cell_type": "code",
   "execution_count": null,
   "id": "803d596d",
   "metadata": {
    "ExecuteTime": {
     "end_time": "2023-03-22T05:18:24.502190Z",
     "start_time": "2023-03-22T05:18:24.499187Z"
    }
   },
   "outputs": [],
   "source": []
  },
  {
   "cell_type": "code",
   "execution_count": null,
   "id": "394d1a01",
   "metadata": {},
   "outputs": [],
   "source": []
  },
  {
   "cell_type": "markdown",
   "id": "ca14f9d9",
   "metadata": {},
   "source": [
    "## Best maker analysis"
   ]
  },
  {
   "cell_type": "code",
   "execution_count": 32,
   "id": "b8c79e34",
   "metadata": {
    "ExecuteTime": {
     "end_time": "2023-03-22T05:24:44.527246Z",
     "start_time": "2023-03-22T05:24:44.522495Z"
    },
    "scrolled": true
   },
   "outputs": [
    {
     "name": "stdout",
     "output_type": "stream",
     "text": [
      "Sample - total edge volume 685\n"
     ]
    }
   ],
   "source": [
    "# print total maker volume over sample time\n",
    "sample_size = trade_df[(trade_df[\"time\"] > 2e6) & (trade_df[\"time\"] < 2e6 + 1e5)][[\"quantity\"]].abs().sum()\n",
    "print(\"Sample - total edge volume\", sample_size.item())"
   ]
  },
  {
   "cell_type": "code",
   "execution_count": null,
   "id": "d3df2e03",
   "metadata": {},
   "outputs": [],
   "source": []
  },
  {
   "cell_type": "code",
   "execution_count": 33,
   "id": "9df696a1",
   "metadata": {
    "ExecuteTime": {
     "end_time": "2023-03-22T05:24:44.533486Z",
     "start_time": "2023-03-22T05:24:44.528657Z"
    }
   },
   "outputs": [],
   "source": [
    "# show total maker profit\n",
    "maker_df = trade_df.copy()\n",
    "\n",
    "maker_df[\"edge\"] = maker_df[\"edge\"].abs()\n",
    "maker_df[\"quantity\"] = maker_df[\"quantity\"].abs() # is already pos, does nothing\n",
    "\n",
    "maker_df[\"pnl\"] = maker_df[\"edge\"] * maker_df[\"quantity\"]"
   ]
  },
  {
   "cell_type": "code",
   "execution_count": 34,
   "id": "1a1fc585",
   "metadata": {
    "ExecuteTime": {
     "end_time": "2023-03-22T05:24:44.702866Z",
     "start_time": "2023-03-22T05:24:44.534857Z"
    }
   },
   "outputs": [
    {
     "data": {
      "text/html": [
       "<div>\n",
       "<style scoped>\n",
       "    .dataframe tbody tr th:only-of-type {\n",
       "        vertical-align: middle;\n",
       "    }\n",
       "\n",
       "    .dataframe tbody tr th {\n",
       "        vertical-align: top;\n",
       "    }\n",
       "\n",
       "    .dataframe thead th {\n",
       "        text-align: right;\n",
       "    }\n",
       "</style>\n",
       "<table border=\"1\" class=\"dataframe\">\n",
       "  <thead>\n",
       "    <tr style=\"text-align: right;\">\n",
       "      <th>edge</th>\n",
       "      <th>0.0</th>\n",
       "      <th>0.5</th>\n",
       "      <th>1.0</th>\n",
       "      <th>1.5</th>\n",
       "      <th>2.0</th>\n",
       "      <th>2.5</th>\n",
       "      <th>3.0</th>\n",
       "      <th>3.5</th>\n",
       "    </tr>\n",
       "  </thead>\n",
       "  <tbody>\n",
       "    <tr>\n",
       "      <th>quantity</th>\n",
       "      <td>38</td>\n",
       "      <td>885</td>\n",
       "      <td>458</td>\n",
       "      <td>4356</td>\n",
       "      <td>468</td>\n",
       "      <td>5664</td>\n",
       "      <td>1179</td>\n",
       "      <td>10495</td>\n",
       "    </tr>\n",
       "  </tbody>\n",
       "</table>\n",
       "</div>"
      ],
      "text/plain": [
       "edge      0.0  0.5  1.0   1.5  2.0   2.5   3.0    3.5\n",
       "quantity   38  885  458  4356  468  5664  1179  10495"
      ]
     },
     "metadata": {},
     "output_type": "display_data"
    },
    {
     "data": {
      "text/plain": [
       "<BarContainer object of 8 artists>"
      ]
     },
     "execution_count": 34,
     "metadata": {},
     "output_type": "execute_result"
    },
    {
     "data": {
      "image/png": "[encoded data removed]",
      "text/plain": [
       "<Figure size 640x480 with 1 Axes>"
      ]
     },
     "metadata": {},
     "output_type": "display_data"
    }
   ],
   "source": [
    "maker_stats = maker_df.groupby(\"edge\")[[\"quantity\"]].sum()\n",
    "display(maker_stats.T)\n",
    "\n",
    "plt.bar(maker_stats.index, maker_stats[\"quantity\"], width=0.25)"
   ]
  },
  {
   "cell_type": "markdown",
   "id": "20f1790f",
   "metadata": {},
   "source": [
    "## Maker/taker stats summary"
   ]
  },
  {
   "cell_type": "code",
   "execution_count": 35,
   "id": "735b996a",
   "metadata": {
    "ExecuteTime": {
     "end_time": "2023-03-22T05:24:44.710229Z",
     "start_time": "2023-03-22T05:24:44.705258Z"
    }
   },
   "outputs": [
    {
     "name": "stdout",
     "output_type": "stream",
     "text": [
      "Symbol: BANANAS\n",
      "Total Maker Edge 62800.0\n",
      "Total Potential Taker Edge 21435.0\n",
      "Maker edge (scaled) 2093.3333333333335\n",
      "Taker edge (scaled) 714.5\n"
     ]
    }
   ],
   "source": [
    "_factor = 1 / 30\n",
    "\n",
    "print(f\"Symbol: {_symbol}\")\n",
    "\n",
    "print(\"Total Maker Edge\", maker_df[\"pnl\"].sum())\n",
    "print(\"Total Potential Taker Edge\", taker_df[\"pnl\"].sum())\n",
    "\n",
    "print(\"Maker edge (scaled)\", maker_df[\"pnl\"].sum() * _factor)\n",
    "print(\"Taker edge (scaled)\", taker_df[\"pnl\"].sum() * _factor)\n"
   ]
  },
  {
   "cell_type": "code",
   "execution_count": 36,
   "id": "39111b05",
   "metadata": {
    "ExecuteTime": {
     "end_time": "2023-03-22T05:24:44.716692Z",
     "start_time": "2023-03-22T05:24:44.712403Z"
    }
   },
   "outputs": [
    {
     "name": "stdout",
     "output_type": "stream",
     "text": [
      "take ratio 0.17136666666666667\n",
      "make ratio 0.285\n"
     ]
    }
   ],
   "source": [
    "num_turns = len(_day_range) * _max_time / _time_step\n",
    "print(\"take ratio\", len(taker_df) / num_turns)\n",
    "print(\"make ratio\", len(maker_df) / num_turns)\n",
    "\n"
   ]
  },
  {
   "cell_type": "code",
   "execution_count": null,
   "id": "a49741dc",
   "metadata": {},
   "outputs": [],
   "source": []
  },
  {
   "cell_type": "code",
   "execution_count": null,
   "id": "141b50ee",
   "metadata": {},
   "outputs": [],
   "source": []
  }
 ],
 "metadata": {
  "kernelspec": {
   "display_name": "Python 3 (ipykernel)",
   "language": "python",
   "name": "python3"
  },
  "language_info": {
   "codemirror_mode": {
    "name": "ipython",
    "version": 3
   },
   "file_extension": ".py",
   "mimetype": "text/x-python",
   "name": "python",
   "nbconvert_exporter": "python",
   "pygments_lexer": "ipython3",
   "version": "3.9.16"
  },
  "toc": {
   "base_numbering": 1,
   "nav_menu": {},
   "number_sections": true,
   "sideBar": true,
   "skip_h1_title": false,
   "title_cell": "Table of Contents",
   "title_sidebar": "Contents",
   "toc_cell": false,
   "toc_position": {
    "height": "calc(100% - 180px)",
    "left": "10px",
    "top": "150px",
    "width": "281.391px"
   },
   "toc_section_display": true,
   "toc_window_display": true
  },
  "varInspector": {
   "cols": {
    "lenName": 16,
    "lenType": 16,
    "lenVar": 40
   },
   "kernels_config": {
    "python": {
     "delete_cmd_postfix": "",
     "delete_cmd_prefix": "del ",
     "library": "var_list.py",
     "varRefreshCmd": "print(var_dic_list())"
    },
    "r": {
     "delete_cmd_postfix": ") ",
     "delete_cmd_prefix": "rm(",
     "library": "var_list.r",
     "varRefreshCmd": "cat(var_dic_list()) "
    }
   },
   "types_to_exclude": [
    "module",
    "function",
    "builtin_function_or_method",
    "instance",
    "_Feature"
   ],
   "window_display": false
  }
 },
 "nbformat": 4,
 "nbformat_minor": 5
}
