{
 "cells": [
  {
   "cell_type": "code",
   "execution_count": 1,
   "id": "a19aa73b",
   "metadata": {
    "ExecuteTime": {
     "end_time": "2023-02-23T14:47:06.504562Z",
     "start_time": "2023-02-23T14:47:06.493389Z"
    }
   },
   "outputs": [
    {
     "data": {
      "text/html": [
       "<style>.container { width:90% !important; }</style>"
      ],
      "text/plain": [
       "<IPython.core.display.HTML object>"
      ]
     },
     "metadata": {},
     "output_type": "display_data"
    }
   ],
   "source": [
    "from IPython.display import display, HTML\n",
    "display(HTML(\"<style>.container { width:90% !important; }</style>\"))"
   ]
  },
  {
   "cell_type": "code",
   "execution_count": 2,
   "id": "a576f892",
   "metadata": {
    "ExecuteTime": {
     "end_time": "2023-02-23T14:47:08.605611Z",
     "start_time": "2023-02-23T14:47:06.930519Z"
    }
   },
   "outputs": [],
   "source": [
    "import pandas as pd\n",
    "import numpy as np\n",
    "import json\n",
    "import copy\n",
    "\n",
    "import matplotlib as mpl\n",
    "from matplotlib import pyplot as plt"
   ]
  },
  {
   "cell_type": "code",
   "execution_count": 3,
   "id": "e9d16aaf",
   "metadata": {
    "ExecuteTime": {
     "end_time": "2023-02-23T14:47:08.611711Z",
     "start_time": "2023-02-23T14:47:08.608361Z"
    }
   },
   "outputs": [],
   "source": [
    "from log_parser import process_file\n"
   ]
  },
  {
   "cell_type": "markdown",
   "id": "768952b6",
   "metadata": {},
   "source": [
    "### parameters"
   ]
  },
  {
   "cell_type": "code",
   "execution_count": 4,
   "id": "3fc70842",
   "metadata": {
    "ExecuteTime": {
     "end_time": "2023-02-23T14:47:08.615919Z",
     "start_time": "2023-02-23T14:47:08.613179Z"
    }
   },
   "outputs": [],
   "source": [
    "_fname = \"../replays/log5.log\"\n",
    "_time_step = 100\n",
    "_symbols = [\"PEARLS\", \"BANANAS\"]\n",
    "_products = [\"PEARLS\", \"BANANAS\"]\n"
   ]
  },
  {
   "cell_type": "code",
   "execution_count": null,
   "id": "5bb1645c",
   "metadata": {},
   "outputs": [],
   "source": []
  },
  {
   "cell_type": "markdown",
   "id": "dce9471c",
   "metadata": {},
   "source": [
    "### pre processing"
   ]
  },
  {
   "cell_type": "code",
   "execution_count": 5,
   "id": "c212d7c3",
   "metadata": {
    "ExecuteTime": {
     "end_time": "2023-02-23T14:47:08.677135Z",
     "start_time": "2023-02-23T14:47:08.618636Z"
    }
   },
   "outputs": [
    {
     "name": "stdout",
     "output_type": "stream",
     "text": [
      "Reading from input file ../replays/log5.log\n"
     ]
    }
   ],
   "source": [
    "# load data from file\n",
    "\n",
    "obj = process_file(_fname)\n",
    "df = pd.DataFrame(obj)\n",
    "\n",
    "listings = pd.DataFrame(df[\"listings\"][0])\n",
    "# products = set(listings.T[\"product\"])\n",
    "df = df.drop(\"listings\", axis=1)\n",
    "df = df.rename({\n",
    "    \"timestamp\": \"time\",\n",
    "    \"order_depths\": \"book\",\n",
    "}, axis=1)"
   ]
  },
  {
   "cell_type": "code",
   "execution_count": 6,
   "id": "08f4b802",
   "metadata": {
    "ExecuteTime": {
     "end_time": "2023-02-23T14:47:08.685771Z",
     "start_time": "2023-02-23T14:47:08.679080Z"
    }
   },
   "outputs": [],
   "source": [
    "# add turns (vs time)\n",
    "\n",
    "all_times = df[\"time\"]\n",
    "turn2time_map = all_times.to_dict()\n",
    "time2turn_map = {v: k for k, v in turn2time_map.items()}\n",
    "df[\"turn\"] = df[\"time\"].map(time2turn_map)\n",
    "\n",
    "df.index = df[\"turn\"]"
   ]
  },
  {
   "cell_type": "code",
   "execution_count": 7,
   "id": "c47c6ea6",
   "metadata": {
    "ExecuteTime": {
     "end_time": "2023-02-23T14:47:18.854276Z",
     "start_time": "2023-02-23T14:47:08.687673Z"
    }
   },
   "outputs": [],
   "source": [
    "def process_book(book):\n",
    "    best_buy = {}\n",
    "    best_sell = {}\n",
    "    ret = {}\n",
    "    cols = [\"price\", \"quantity\"]\n",
    "    for sym in _symbols:\n",
    "        orders = {\n",
    "            \"buy\": pd.DataFrame(columns=cols),\n",
    "            \"sell\": pd.DataFrame(columns=cols),\n",
    "        }\n",
    "        \n",
    "        if sym in book:\n",
    "            if \"buy_orders\" in book[sym]:\n",
    "                orders[\"buy\"] = pd.DataFrame(book[sym][\"buy_orders\"].items(), columns=cols).sort_values(by=\"price\", ascending=False)\n",
    "            if \"sell_orders\" in book[sym]:\n",
    "                orders[\"sell\"] = pd.DataFrame(book[sym][\"sell_orders\"].items(), columns=cols).sort_values(by=\"price\", ascending=True)\n",
    "        \n",
    "        ret[sym] = orders\n",
    "        \n",
    "        if len(orders[\"buy\"]) > 0:\n",
    "            best_buy[sym] = orders[\"buy\"][\"price\"][0]\n",
    "        else:\n",
    "            best_buy[sym] = np.nan\n",
    "            \n",
    "        if len(orders[\"sell\"]) > 0:\n",
    "            best_sell[sym] = orders[\"sell\"][\"price\"][0]\n",
    "        else:\n",
    "            best_sell[sym] = np.nan\n",
    "            \n",
    "        \n",
    "    return ret, best_buy, best_sell\n",
    "\n",
    "\n",
    "books = pd.DataFrame(df[\"book\"].apply(process_book).to_list(), columns=[\"book\", \"best_buy\", \"best_sell\"])\n",
    "book_tops = books.drop(\"book\", axis=1)\n",
    "\n",
    "# all book tops\n",
    "book_tops = pd.concat([book_tops[c].apply(pd.Series).add_suffix(f\"_{c}\") for c in book_tops.columns], axis=1).astype(int)\n",
    "\n",
    "for sym in _symbols:\n",
    "    book_tops[f\"{sym}_mid\"] = (book_tops[f\"{sym}_best_buy\"] + book_tops[f\"{sym}_best_sell\"]) / 2\n",
    "    book_tops[f\"{sym}_spread\"] = book_tops[f\"{sym}_best_sell\"] - book_tops[f\"{sym}_best_buy\"]\n",
    "    assert book_tops[f\"{sym}_spread\"].all() > 0\n",
    "\n",
    "# sort columns\n",
    "book_tops = book_tops.reindex(sorted(book_tops.columns), axis=1)\n",
    "book_tops[\"time\"] = df[\"time\"]\n",
    "\n",
    "# all books\n",
    "books = books[\"book\"]"
   ]
  },
  {
   "cell_type": "code",
   "execution_count": 8,
   "id": "b91d7386",
   "metadata": {
    "ExecuteTime": {
     "end_time": "2023-02-23T14:47:18.862130Z",
     "start_time": "2023-02-23T14:47:18.857481Z"
    }
   },
   "outputs": [
    {
     "name": "stdout",
     "output_type": "stream",
     "text": [
      "Orig count: 1999\n",
      "dropna count: 1999\n",
      "nan count: 0\n"
     ]
    }
   ],
   "source": [
    "num_data = len(book_tops.dropna())\n",
    "num_data_dropna = len(book_tops)\n",
    "\n",
    "print(f\"Orig count: {num_data}\")\n",
    "print(f\"dropna count: {num_data_dropna}\")\n",
    "print(f\"nan count: {num_data - num_data_dropna}\")"
   ]
  },
  {
   "cell_type": "code",
   "execution_count": null,
   "id": "68583243",
   "metadata": {},
   "outputs": [],
   "source": []
  },
  {
   "cell_type": "code",
   "execution_count": 9,
   "id": "31596bb8",
   "metadata": {
    "ExecuteTime": {
     "end_time": "2023-02-23T14:47:18.868682Z",
     "start_time": "2023-02-23T14:47:18.863950Z"
    }
   },
   "outputs": [],
   "source": [
    "def flatten_trades(df, col, is_me):\n",
    "    # get market trades\n",
    "\n",
    "    data = []\n",
    "    for index, row  in df.iterrows():\n",
    "        all_trades = list(row[col].values())\n",
    "        for sym_trades in all_trades:\n",
    "            for trade in sym_trades:\n",
    "                trade[\"time\"] = row[\"time\"] # fill time\n",
    "                trade[\"turn\"] = row[\"turn\"] # fill time\n",
    "            data += sym_trades\n",
    "\n",
    "    df = pd.DataFrame(data)\n",
    "    df = df.rename({\"timestamp\": \"order_time\"}, axis=1)\n",
    "    \n",
    "    # calculate info about my trades\n",
    "    df[\"is_me\"] = is_me\n",
    "    df[\"my_action\"] = None\n",
    "    df[\"my_action\"] = np.where(df[\"buyer\"] == \"SUBMISSION\", \"buy\", df[\"my_action\"])\n",
    "    df[\"my_action\"] = np.where(df[\"seller\"] == \"SUBMISSION\", \"sell\", df[\"my_action\"])\n",
    "    df[\"my_quantity\"] = df[\"quantity\"] * df[\"is_me\"].astype(int) * (2 * (df[\"my_action\"] == \"buy\").astype(int) - 1)\n",
    "    \n",
    "    return df"
   ]
  },
  {
   "cell_type": "code",
   "execution_count": 10,
   "id": "9f7eedbd",
   "metadata": {
    "ExecuteTime": {
     "end_time": "2023-02-23T14:47:19.104305Z",
     "start_time": "2023-02-23T14:47:18.870407Z"
    }
   },
   "outputs": [
    {
     "name": "stdout",
     "output_type": "stream",
     "text": [
      "my_trades count 113\n",
      "market_trades count 294\n"
     ]
    }
   ],
   "source": [
    "# get my_trades, market_trades, and trade_df (all_trades)\n",
    "\n",
    "market_trades = flatten_trades(\n",
    "    df, \n",
    "    \"market_trades\", \n",
    "    is_me=False\n",
    ").sort_values(by=\"time\")\n",
    "\n",
    "my_trades = flatten_trades(\n",
    "    df, \n",
    "    \"own_trades\", \n",
    "    is_me=True\n",
    ").sort_values(by=\"time\")\n",
    "\n",
    "\n",
    "# filter market trades (only keep those where order_time = fill_time)\n",
    "market_trades = market_trades[market_trades[\"time\"] == market_trades[\"order_time\"]]\n",
    "\n",
    "# filter my_trades (only keep those where fill_time = order_time + 100)\n",
    "my_trades = my_trades[my_trades[\"time\"] == my_trades[\"order_time\"] + _time_step]\n",
    "\n",
    "\n",
    "trade_df = pd.concat([market_trades, my_trades])\n",
    "trade_df = trade_df.sort_values(by=\"time\").reset_index(drop=True)\n",
    "# trade_df = trade_df.drop([\"order_time\", \"buyer\", \"seller\"], axis=1)\n",
    "\n",
    "my_trades = trade_df[trade_df[\"is_me\"]]\n",
    "market_trades = trade_df[~trade_df[\"is_me\"]]\n",
    "\n",
    "print(\"my_trades count\", len(my_trades))\n",
    "print(\"market_trades count\", len(market_trades))\n"
   ]
  },
  {
   "cell_type": "code",
   "execution_count": 11,
   "id": "9328b331",
   "metadata": {
    "ExecuteTime": {
     "end_time": "2023-02-23T14:47:19.121852Z",
     "start_time": "2023-02-23T14:47:19.105939Z"
    }
   },
   "outputs": [
    {
     "data": {
      "text/html": [
       "<div>\n",
       "<style scoped>\n",
       "    .dataframe tbody tr th:only-of-type {\n",
       "        vertical-align: middle;\n",
       "    }\n",
       "\n",
       "    .dataframe tbody tr th {\n",
       "        vertical-align: top;\n",
       "    }\n",
       "\n",
       "    .dataframe thead th {\n",
       "        text-align: right;\n",
       "    }\n",
       "</style>\n",
       "<table border=\"1\" class=\"dataframe\">\n",
       "  <thead>\n",
       "    <tr style=\"text-align: right;\">\n",
       "      <th></th>\n",
       "      <th>buyer</th>\n",
       "      <th>price</th>\n",
       "      <th>quantity</th>\n",
       "      <th>seller</th>\n",
       "      <th>symbol</th>\n",
       "      <th>order_time</th>\n",
       "      <th>time</th>\n",
       "      <th>turn</th>\n",
       "      <th>is_me</th>\n",
       "      <th>my_action</th>\n",
       "      <th>my_quantity</th>\n",
       "    </tr>\n",
       "  </thead>\n",
       "  <tbody>\n",
       "    <tr>\n",
       "      <th>1</th>\n",
       "      <td></td>\n",
       "      <td>4899.0</td>\n",
       "      <td>1</td>\n",
       "      <td>SUBMISSION</td>\n",
       "      <td>BANANAS</td>\n",
       "      <td>400</td>\n",
       "      <td>500</td>\n",
       "      <td>5</td>\n",
       "      <td>True</td>\n",
       "      <td>sell</td>\n",
       "      <td>-1</td>\n",
       "    </tr>\n",
       "    <tr>\n",
       "      <th>2</th>\n",
       "      <td></td>\n",
       "      <td>4899.0</td>\n",
       "      <td>1</td>\n",
       "      <td>SUBMISSION</td>\n",
       "      <td>BANANAS</td>\n",
       "      <td>500</td>\n",
       "      <td>600</td>\n",
       "      <td>6</td>\n",
       "      <td>True</td>\n",
       "      <td>sell</td>\n",
       "      <td>-1</td>\n",
       "    </tr>\n",
       "    <tr>\n",
       "      <th>3</th>\n",
       "      <td>SUBMISSION</td>\n",
       "      <td>10002.0</td>\n",
       "      <td>1</td>\n",
       "      <td></td>\n",
       "      <td>PEARLS</td>\n",
       "      <td>500</td>\n",
       "      <td>600</td>\n",
       "      <td>6</td>\n",
       "      <td>True</td>\n",
       "      <td>buy</td>\n",
       "      <td>1</td>\n",
       "    </tr>\n",
       "    <tr>\n",
       "      <th>5</th>\n",
       "      <td>SUBMISSION</td>\n",
       "      <td>4896.0</td>\n",
       "      <td>1</td>\n",
       "      <td></td>\n",
       "      <td>BANANAS</td>\n",
       "      <td>1500</td>\n",
       "      <td>1600</td>\n",
       "      <td>16</td>\n",
       "      <td>True</td>\n",
       "      <td>buy</td>\n",
       "      <td>1</td>\n",
       "    </tr>\n",
       "    <tr>\n",
       "      <th>6</th>\n",
       "      <td>SUBMISSION</td>\n",
       "      <td>10002.0</td>\n",
       "      <td>1</td>\n",
       "      <td></td>\n",
       "      <td>PEARLS</td>\n",
       "      <td>1500</td>\n",
       "      <td>1600</td>\n",
       "      <td>16</td>\n",
       "      <td>True</td>\n",
       "      <td>buy</td>\n",
       "      <td>1</td>\n",
       "    </tr>\n",
       "    <tr>\n",
       "      <th>...</th>\n",
       "      <td>...</td>\n",
       "      <td>...</td>\n",
       "      <td>...</td>\n",
       "      <td>...</td>\n",
       "      <td>...</td>\n",
       "      <td>...</td>\n",
       "      <td>...</td>\n",
       "      <td>...</td>\n",
       "      <td>...</td>\n",
       "      <td>...</td>\n",
       "      <td>...</td>\n",
       "    </tr>\n",
       "    <tr>\n",
       "      <th>400</th>\n",
       "      <td></td>\n",
       "      <td>9998.0</td>\n",
       "      <td>1</td>\n",
       "      <td>SUBMISSION</td>\n",
       "      <td>PEARLS</td>\n",
       "      <td>198700</td>\n",
       "      <td>198800</td>\n",
       "      <td>1987</td>\n",
       "      <td>True</td>\n",
       "      <td>sell</td>\n",
       "      <td>-1</td>\n",
       "    </tr>\n",
       "    <tr>\n",
       "      <th>401</th>\n",
       "      <td></td>\n",
       "      <td>4904.0</td>\n",
       "      <td>1</td>\n",
       "      <td>SUBMISSION</td>\n",
       "      <td>BANANAS</td>\n",
       "      <td>198800</td>\n",
       "      <td>198900</td>\n",
       "      <td>1988</td>\n",
       "      <td>True</td>\n",
       "      <td>sell</td>\n",
       "      <td>-1</td>\n",
       "    </tr>\n",
       "    <tr>\n",
       "      <th>402</th>\n",
       "      <td></td>\n",
       "      <td>9995.0</td>\n",
       "      <td>1</td>\n",
       "      <td>SUBMISSION</td>\n",
       "      <td>PEARLS</td>\n",
       "      <td>198800</td>\n",
       "      <td>198900</td>\n",
       "      <td>1988</td>\n",
       "      <td>True</td>\n",
       "      <td>sell</td>\n",
       "      <td>-1</td>\n",
       "    </tr>\n",
       "    <tr>\n",
       "      <th>404</th>\n",
       "      <td></td>\n",
       "      <td>9996.0</td>\n",
       "      <td>1</td>\n",
       "      <td>SUBMISSION</td>\n",
       "      <td>PEARLS</td>\n",
       "      <td>198900</td>\n",
       "      <td>199000</td>\n",
       "      <td>1989</td>\n",
       "      <td>True</td>\n",
       "      <td>sell</td>\n",
       "      <td>-1</td>\n",
       "    </tr>\n",
       "    <tr>\n",
       "      <th>405</th>\n",
       "      <td></td>\n",
       "      <td>4904.0</td>\n",
       "      <td>1</td>\n",
       "      <td>SUBMISSION</td>\n",
       "      <td>BANANAS</td>\n",
       "      <td>198900</td>\n",
       "      <td>199000</td>\n",
       "      <td>1989</td>\n",
       "      <td>True</td>\n",
       "      <td>sell</td>\n",
       "      <td>-1</td>\n",
       "    </tr>\n",
       "  </tbody>\n",
       "</table>\n",
       "<p>113 rows × 11 columns</p>\n",
       "</div>"
      ],
      "text/plain": [
       "          buyer    price  quantity      seller   symbol  order_time    time  \\\n",
       "1                 4899.0         1  SUBMISSION  BANANAS         400     500   \n",
       "2                 4899.0         1  SUBMISSION  BANANAS         500     600   \n",
       "3    SUBMISSION  10002.0         1               PEARLS         500     600   \n",
       "5    SUBMISSION   4896.0         1              BANANAS        1500    1600   \n",
       "6    SUBMISSION  10002.0         1               PEARLS        1500    1600   \n",
       "..          ...      ...       ...         ...      ...         ...     ...   \n",
       "400               9998.0         1  SUBMISSION   PEARLS      198700  198800   \n",
       "401               4904.0         1  SUBMISSION  BANANAS      198800  198900   \n",
       "402               9995.0         1  SUBMISSION   PEARLS      198800  198900   \n",
       "404               9996.0         1  SUBMISSION   PEARLS      198900  199000   \n",
       "405               4904.0         1  SUBMISSION  BANANAS      198900  199000   \n",
       "\n",
       "     turn  is_me my_action  my_quantity  \n",
       "1       5   True      sell           -1  \n",
       "2       6   True      sell           -1  \n",
       "3       6   True       buy            1  \n",
       "5      16   True       buy            1  \n",
       "6      16   True       buy            1  \n",
       "..    ...    ...       ...          ...  \n",
       "400  1987   True      sell           -1  \n",
       "401  1988   True      sell           -1  \n",
       "402  1988   True      sell           -1  \n",
       "404  1989   True      sell           -1  \n",
       "405  1989   True      sell           -1  \n",
       "\n",
       "[113 rows x 11 columns]"
      ]
     },
     "execution_count": 11,
     "metadata": {},
     "output_type": "execute_result"
    }
   ],
   "source": [
    "my_trades"
   ]
  },
  {
   "cell_type": "code",
   "execution_count": 12,
   "id": "86d5dd17",
   "metadata": {
    "ExecuteTime": {
     "end_time": "2023-02-23T14:47:19.515672Z",
     "start_time": "2023-02-23T14:47:19.124203Z"
    }
   },
   "outputs": [
    {
     "ename": "NameError",
     "evalue": "name 'cash_data' is not defined",
     "output_type": "error",
     "traceback": [
      "\u001b[0;31m---------------------------------------------------------------------------\u001b[0m",
      "\u001b[0;31mNameError\u001b[0m                                 Traceback (most recent call last)",
      "Cell \u001b[0;32mIn[12], line 37\u001b[0m\n\u001b[1;32m     34\u001b[0m pos_df \u001b[38;5;241m=\u001b[39m pd\u001b[38;5;241m.\u001b[39mDataFrame(pos_data)\u001b[38;5;241m.\u001b[39msort_index(axis\u001b[38;5;241m=\u001b[39m\u001b[38;5;241m1\u001b[39m)\n\u001b[1;32m     36\u001b[0m \u001b[38;5;66;03m# add to my_positions\u001b[39;00m\n\u001b[0;32m---> 37\u001b[0m my_positions[\u001b[38;5;124m\"\u001b[39m\u001b[38;5;124mcash\u001b[39m\u001b[38;5;124m\"\u001b[39m] \u001b[38;5;241m=\u001b[39m \u001b[43mcash_data\u001b[49m\n\u001b[1;32m     38\u001b[0m my_positions \u001b[38;5;241m=\u001b[39m my_positions\u001b[38;5;241m.\u001b[39msort_index(axis\u001b[38;5;241m=\u001b[39m\u001b[38;5;241m1\u001b[39m)\n\u001b[1;32m     40\u001b[0m \u001b[38;5;66;03m# assert that pos_df is equal to my_positions\u001b[39;00m\n",
      "\u001b[0;31mNameError\u001b[0m: name 'cash_data' is not defined"
     ]
    }
   ],
   "source": [
    "# get my_positions\n",
    "my_positions = pd.DataFrame(list(df[\"position\"])).fillna(0)\n",
    "\n",
    "# add any products of zero quantity\n",
    "for prod in _products:\n",
    "    if prod not in my_positions:\n",
    "        my_positions[prod] = 0\n",
    "        \n",
    "my_positions[[\"time\", \"turn\"]] = df[[\"time\", \"turn\"]]\n",
    "my_positions = my_positions.sort_values(by=\"time\")\n",
    "\n",
    "# add cash to my_positions\n",
    "pos_data = []\n",
    "cur_positions = { prod: 0 for prod in _products }\n",
    "cur_positions[\"cash\"] = 0\n",
    "\n",
    "cur_time = turn2time_map[0]\n",
    "for index, row in my_trades.iterrows():\n",
    "    row_time = row[\"time\"]\n",
    "    while cur_time < row[\"time\"]:\n",
    "        pos_data += [copy.deepcopy(cur_positions)]\n",
    "        cur_time = turn2time_map[len(pos_data)]\n",
    "        \n",
    "    prod = listings[row[\"symbol\"]][\"product\"]\n",
    "    cur_positions[\"cash\"] += -1 * row[\"price\"] * row[\"my_quantity\"]\n",
    "    cur_positions[prod] += row[\"my_quantity\"]\n",
    "\n",
    "# add for remaining turns\n",
    "while cur_time < max(turn2time_map.values()):\n",
    "    pos_data += [copy.deepcopy(cur_positions)]\n",
    "    cur_time = turn2time_map[len(pos_data)]\n",
    "pos_data += [copy.deepcopy(cur_positions)]\n",
    "\n",
    "pos_df = pd.DataFrame(pos_data).sort_index(axis=1)\n",
    "\n",
    "# add to my_positions\n",
    "my_positions[\"cash\"] = cash_data\n",
    "my_positions = my_positions.sort_index(axis=1)\n",
    "\n",
    "# assert that pos_df is equal to my_positions\n",
    "for prod in [\"cash\", *_products]:\n",
    "    bad_inds = my_positions.index[my_positions[prod] != pos_df[prod]]\n",
    "    if len(bad_inds) > 0:\n",
    "        display(my_positions.loc[bad_inds])\n",
    "        display(pos_df.loc[bad_inds])\n",
    "        assert False, f\"Failed check for product: `{prod}`\""
   ]
  },
  {
   "cell_type": "markdown",
   "id": "96194b84",
   "metadata": {},
   "source": [
    "### Data analysis/vis\n",
    "- for info about trades:\n",
    "    - `trade_df` (all trades)\n",
    "    - `my_trades` (our trades only)\n",
    "    - `market_trades` (other people's trades only, not our trades)\n",
    "- for info about our positions\n",
    "    - `my_positions`"
   ]
  },
  {
   "cell_type": "markdown",
   "id": "4c20ff5e",
   "metadata": {},
   "source": [
    "### todo:\n",
    "- my_positions\n",
    "    - calculate approx product price per turn\n",
    "    - calculate total inventory value + total net worth (aka pnl)\n",
    "- visualize book"
   ]
  },
  {
   "cell_type": "code",
   "execution_count": null,
   "id": "6db8685d",
   "metadata": {
    "ExecuteTime": {
     "end_time": "2023-02-23T14:47:19.517375Z",
     "start_time": "2023-02-23T14:47:19.517364Z"
    }
   },
   "outputs": [],
   "source": [
    "# estimate fairs\n",
    "mid_cols = [col for col in book_tops.columns if \"_mid\" in col]\n",
    "fairs = book_tops[[\"time\", *mid_cols]]\n",
    "fairs.columns = fairs.columns.str.strip('_mid')\n",
    "fairs"
   ]
  },
  {
   "cell_type": "code",
   "execution_count": null,
   "id": "8fc7fc5c",
   "metadata": {
    "ExecuteTime": {
     "end_time": "2023-02-23T14:47:19.518700Z",
     "start_time": "2023-02-23T14:47:19.518687Z"
    }
   },
   "outputs": [],
   "source": [
    "# estimate pnl\n",
    "pnls = my_positions[\"cash\"]\n",
    "\n",
    "for prod in _products:\n",
    "    pnls += my_positions[prod] * fairs[prod]\n",
    "    \n",
    "my_positions[\"pnl\"] = pnls"
   ]
  },
  {
   "cell_type": "code",
   "execution_count": null,
   "id": "5c069c72",
   "metadata": {},
   "outputs": [],
   "source": []
  },
  {
   "cell_type": "code",
   "execution_count": null,
   "id": "755a73c2",
   "metadata": {
    "ExecuteTime": {
     "end_time": "2023-02-23T14:47:19.520099Z",
     "start_time": "2023-02-23T14:47:19.520086Z"
    }
   },
   "outputs": [],
   "source": [
    "# plot trades\n",
    "def plot_trades_and_book(sym, smooth_alpha=0.1):\n",
    "    \n",
    "    plt_df = trade_df[trade_df[\"symbol\"] == sym]\n",
    "\n",
    "    my_buys = plt_df[plt_df[\"my_quantity\"] > 0]\n",
    "    my_sells = plt_df[plt_df[\"my_quantity\"] < 0]\n",
    "    their_trades = plt_df[plt_df[\"my_quantity\"] == 0]\n",
    "    \n",
    "    \n",
    "    \n",
    "    def plot_trades(ax):\n",
    "        ax.scatter(my_buys[\"time\"], my_buys[\"price\"], c=\"green\", s=25)\n",
    "        ax.scatter(my_sells[\"time\"], my_sells[\"price\"], c=\"red\", s=25)\n",
    "        ax.scatter(their_trades[\"time\"], their_trades[\"price\"], c=\"gray\", s=10)\n",
    "    \n",
    "\n",
    "    bids = book_tops[f\"{sym}_best_buy\"]\n",
    "    asks = book_tops[f\"{sym}_best_sell\"]\n",
    "    smooth_bids = bids.ewm(alpha=smooth_alpha).mean()\n",
    "    smooth_asks = asks.ewm(alpha=smooth_alpha).mean()\n",
    "    \n",
    "#     plt.figsize(5, 5)\n",
    "    fig, axes = plt.subplots(nrows=1, ncols=2, figsize=(15, 5))\n",
    "    \n",
    "    \n",
    "    # plot book\n",
    "    ax = axes[0]\n",
    "    ax.plot(df[\"time\"], bids, c=\"green\", alpha=0.5, linewidth=0.5)\n",
    "    ax.plot(df[\"time\"], asks, c=\"red\", alpha=0.5, linewidth=0.5)\n",
    "    plot_trades(ax)\n",
    "    ax.set_title(f\"Trades and book: {sym}\")\n",
    "    \n",
    "    ax = axes[1]\n",
    "    ax.plot(df[\"time\"], smooth_bids, c=\"green\", alpha=0.5, linewidth=0.5)\n",
    "    ax.plot(df[\"time\"], smooth_asks, c=\"red\", alpha=0.75, linewidth=0.5)\n",
    "    ax.set_title(f\"(smooth) Trades and book: {sym}\")\n",
    "    plot_trades(ax)\n",
    "\n",
    "    plt.show()\n",
    "    "
   ]
  },
  {
   "cell_type": "code",
   "execution_count": null,
   "id": "76814a65",
   "metadata": {
    "ExecuteTime": {
     "end_time": "2023-02-23T14:47:19.521731Z",
     "start_time": "2023-02-23T14:47:19.521716Z"
    }
   },
   "outputs": [],
   "source": [
    "plot_trades_and_book(sym=\"BANANAS\", smooth_alpha=0.1)\n",
    "plot_trades_and_book(sym=\"PEARLS\")"
   ]
  },
  {
   "cell_type": "code",
   "execution_count": null,
   "id": "2648effb",
   "metadata": {
    "ExecuteTime": {
     "end_time": "2023-02-23T14:47:19.523019Z",
     "start_time": "2023-02-23T14:47:19.523006Z"
    }
   },
   "outputs": [],
   "source": [
    " plt.plot(my_positions[\"time\"], my_positions[\"pnl\"], linewidth=0.5)\n",
    "    "
   ]
  },
  {
   "cell_type": "code",
   "execution_count": null,
   "id": "4e22cf5b",
   "metadata": {
    "ExecuteTime": {
     "end_time": "2023-02-23T14:47:19.524246Z",
     "start_time": "2023-02-23T14:47:19.524232Z"
    }
   },
   "outputs": [],
   "source": [
    "# plot my positions in each product\n",
    "\n",
    "plt.plot(my_positions[\"time\"], my_positions[\"PEARLS\"], label=\"PEARLS\")\n",
    "plt.plot(my_positions[\"time\"], my_positions[\"BANANAS\"], label=\"BANANAS\")\n",
    "plt.title(\"My positions\")\n",
    "plt.legend()\n",
    "plt.show()"
   ]
  },
  {
   "cell_type": "code",
   "execution_count": null,
   "id": "629db29a",
   "metadata": {
    "ExecuteTime": {
     "end_time": "2023-02-23T14:47:19.525403Z",
     "start_time": "2023-02-23T14:47:19.525391Z"
    }
   },
   "outputs": [],
   "source": [
    "col = book_tops[\"BANANAS_mid\"]\n",
    "diffs = (col.shift(-1) / col).dropna()\n",
    "diffs.describe()"
   ]
  },
  {
   "cell_type": "code",
   "execution_count": null,
   "id": "b72e4777",
   "metadata": {
    "ExecuteTime": {
     "end_time": "2023-02-23T14:47:19.526450Z",
     "start_time": "2023-02-23T14:47:19.526438Z"
    }
   },
   "outputs": [],
   "source": [
    "col = book_tops[\"PEARLS_mid\"]\n",
    "diffs = (col.shift(-1) / col).dropna()\n",
    "diffs.describe()"
   ]
  },
  {
   "cell_type": "code",
   "execution_count": null,
   "id": "85477c2f",
   "metadata": {},
   "outputs": [],
   "source": []
  },
  {
   "cell_type": "code",
   "execution_count": null,
   "id": "fa75bc8f",
   "metadata": {},
   "outputs": [],
   "source": []
  },
  {
   "cell_type": "code",
   "execution_count": null,
   "id": "a973ab6e",
   "metadata": {},
   "outputs": [],
   "source": []
  },
  {
   "cell_type": "code",
   "execution_count": null,
   "id": "f28f2968",
   "metadata": {},
   "outputs": [],
   "source": []
  },
  {
   "cell_type": "code",
   "execution_count": null,
   "id": "7d331f53",
   "metadata": {},
   "outputs": [],
   "source": []
  },
  {
   "cell_type": "code",
   "execution_count": null,
   "id": "1a16beeb",
   "metadata": {},
   "outputs": [],
   "source": []
  },
  {
   "cell_type": "code",
   "execution_count": null,
   "id": "7de844d1",
   "metadata": {},
   "outputs": [],
   "source": []
  },
  {
   "cell_type": "code",
   "execution_count": null,
   "id": "dca6a474",
   "metadata": {},
   "outputs": [],
   "source": []
  }
 ],
 "metadata": {
  "kernelspec": {
   "display_name": "Python 3 (ipykernel)",
   "language": "python",
   "name": "python3"
  },
  "language_info": {
   "codemirror_mode": {
    "name": "ipython",
    "version": 3
   },
   "file_extension": ".py",
   "mimetype": "text/x-python",
   "name": "python",
   "nbconvert_exporter": "python",
   "pygments_lexer": "ipython3",
   "version": "3.9.16"
  }
 },
 "nbformat": 4,
 "nbformat_minor": 5
}
