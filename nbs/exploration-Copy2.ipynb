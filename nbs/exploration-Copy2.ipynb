{
 "cells": [
  {
   "cell_type": "code",
   "execution_count": 2,
   "id": "a576f892",
   "metadata": {
    "ExecuteTime": {
     "end_time": "2023-02-23T04:36:11.832363Z",
     "start_time": "2023-02-23T04:36:10.102457Z"
    }
   },
   "outputs": [],
   "source": [
    "import pandas as pd\n",
    "import numpy as np\n",
    "import json\n",
    "\n",
    "import matplotlib as mpl\n",
    "from matplotlib import pyplot as plt"
   ]
  },
  {
   "cell_type": "code",
   "execution_count": 3,
   "id": "e9d16aaf",
   "metadata": {
    "ExecuteTime": {
     "end_time": "2023-02-23T04:36:11.838217Z",
     "start_time": "2023-02-23T04:36:11.834760Z"
    }
   },
   "outputs": [],
   "source": [
    "from log_parser import process_file\n"
   ]
  },
  {
   "cell_type": "markdown",
   "id": "768952b6",
   "metadata": {},
   "source": [
    "### parameters"
   ]
  },
  {
   "cell_type": "code",
   "execution_count": 4,
   "id": "3fc70842",
   "metadata": {
    "ExecuteTime": {
     "end_time": "2023-02-23T04:36:11.842542Z",
     "start_time": "2023-02-23T04:36:11.840149Z"
    }
   },
   "outputs": [],
   "source": [
    "_fname = \"../replays/log4.log\"\n",
    "_time_step = 100\n",
    "_symbols = [\"PEARLS\", \"BANANAS\"]\n",
    "_products = [\"PEARLS\", \"BANANAS\"]\n"
   ]
  },
  {
   "cell_type": "code",
   "execution_count": null,
   "id": "5bb1645c",
   "metadata": {},
   "outputs": [],
   "source": []
  },
  {
   "cell_type": "markdown",
   "id": "dce9471c",
   "metadata": {},
   "source": [
    "### pre processing"
   ]
  },
  {
   "cell_type": "code",
   "execution_count": 5,
   "id": "c212d7c3",
   "metadata": {
    "ExecuteTime": {
     "end_time": "2023-02-23T04:36:11.902587Z",
     "start_time": "2023-02-23T04:36:11.845470Z"
    }
   },
   "outputs": [
    {
     "name": "stdout",
     "output_type": "stream",
     "text": [
      "Reading from input file ../replays/log4.log\n"
     ]
    }
   ],
   "source": [
    "# load data from file\n",
    "\n",
    "obj = process_file(_fname)\n",
    "df = pd.DataFrame(obj)\n",
    "\n",
    "listings = pd.DataFrame(df[\"listings\"][0])\n",
    "products = set(listings.T[\"product\"])\n",
    "df = df.drop(\"listings\", axis=1)\n",
    "df = df.rename({\n",
    "    \"timestamp\": \"time\",\n",
    "    \"order_depths\": \"book\",\n",
    "}, axis=1)"
   ]
  },
  {
   "cell_type": "code",
   "execution_count": 6,
   "id": "08f4b802",
   "metadata": {
    "ExecuteTime": {
     "end_time": "2023-02-23T04:36:11.910529Z",
     "start_time": "2023-02-23T04:36:11.904350Z"
    }
   },
   "outputs": [],
   "source": [
    "# add turns (vs time)\n",
    "\n",
    "all_times = df[\"time\"]\n",
    "turn2time_map = all_times.to_dict()\n",
    "time2turn_map = {v: k for k, v in turn2time_map.items()}\n",
    "df[\"turn\"] = df[\"time\"].map(time2turn_map)\n",
    "\n",
    "df.index = df[\"turn\"]"
   ]
  },
  {
   "cell_type": "code",
   "execution_count": 7,
   "id": "c47c6ea6",
   "metadata": {
    "ExecuteTime": {
     "end_time": "2023-02-23T04:36:22.464549Z",
     "start_time": "2023-02-23T04:36:11.912220Z"
    }
   },
   "outputs": [],
   "source": [
    "def process_book(book):\n",
    "    best_buy = {}\n",
    "    best_sell = {}\n",
    "    ret = {}\n",
    "    cols = [\"price\", \"quantity\"]\n",
    "    for sym in _symbols:\n",
    "        orders = {\n",
    "            \"buy\": pd.DataFrame(columns=cols),\n",
    "            \"sell\": pd.DataFrame(columns=cols),\n",
    "        }\n",
    "        \n",
    "        if sym in book:\n",
    "            if \"buy_orders\" in book[sym]:\n",
    "                orders[\"buy\"] = pd.DataFrame(book[sym][\"buy_orders\"].items(), columns=cols).sort_values(by=\"price\", ascending=False)\n",
    "            if \"sell_orders\" in book[sym]:\n",
    "                orders[\"sell\"] = pd.DataFrame(book[sym][\"sell_orders\"].items(), columns=cols).sort_values(by=\"price\", ascending=True)\n",
    "        \n",
    "        ret[sym] = orders\n",
    "        \n",
    "        if len(orders[\"buy\"]) > 0:\n",
    "            best_buy[sym] = orders[\"buy\"][\"price\"][0]\n",
    "        else:\n",
    "            best_buy[sym] = np.nan\n",
    "            \n",
    "        if len(orders[\"sell\"]) > 0:\n",
    "            best_sell[sym] = orders[\"sell\"][\"price\"][0]\n",
    "        else:\n",
    "            best_sell[sym] = np.nan\n",
    "            \n",
    "        \n",
    "    return ret, best_buy, best_sell\n",
    "\n",
    "\n",
    "books = pd.DataFrame(df[\"book\"].apply(process_book).to_list(), columns=[\"book\", \"best_buy\", \"best_sell\"])\n",
    "book_tops = books.drop(\"book\", axis=1)\n",
    "\n",
    "# all book tops\n",
    "book_tops = pd.concat([book_tops[c].apply(pd.Series).add_suffix(f\"_{c}\") for c in book_tops.columns], axis=1).astype(int)\n",
    "\n",
    "for sym in _symbols:\n",
    "    book_tops[f\"{sym}_mid\"] = (book_tops[f\"{sym}_best_buy\"] + book_tops[f\"{sym}_best_sell\"]) / 2\n",
    "    book_tops[f\"{sym}_spread\"] = book_tops[f\"{sym}_best_sell\"] - book_tops[f\"{sym}_best_buy\"]\n",
    "    assert book_tops[f\"{sym}_spread\"].all() > 0\n",
    "\n",
    "# sort columns\n",
    "book_tops = book_tops.reindex(sorted(book_tops.columns), axis=1)\n",
    "book_tops[\"time\"] = df[\"time\"]\n",
    "\n",
    "# all books\n",
    "books = books[\"book\"]"
   ]
  },
  {
   "cell_type": "code",
   "execution_count": 8,
   "id": "b91d7386",
   "metadata": {
    "ExecuteTime": {
     "end_time": "2023-02-23T04:36:22.470975Z",
     "start_time": "2023-02-23T04:36:22.465934Z"
    }
   },
   "outputs": [
    {
     "name": "stdout",
     "output_type": "stream",
     "text": [
      "Orig count: 1998\n",
      "dropna count: 1998\n",
      "nan count: 0\n"
     ]
    }
   ],
   "source": [
    "num_data = len(book_tops.dropna())\n",
    "num_data_dropna = len(book_tops)\n",
    "\n",
    "print(f\"Orig count: {num_data}\")\n",
    "print(f\"dropna count: {num_data_dropna}\")\n",
    "print(f\"nan count: {num_data - num_data_dropna}\")"
   ]
  },
  {
   "cell_type": "code",
   "execution_count": null,
   "id": "68583243",
   "metadata": {},
   "outputs": [],
   "source": []
  },
  {
   "cell_type": "code",
   "execution_count": 9,
   "id": "31596bb8",
   "metadata": {
    "ExecuteTime": {
     "end_time": "2023-02-23T04:36:22.478951Z",
     "start_time": "2023-02-23T04:36:22.473975Z"
    }
   },
   "outputs": [],
   "source": [
    "def flatten_trades(df, col, is_me):\n",
    "    # get market trades\n",
    "\n",
    "    data = []\n",
    "    for index, row  in df.iterrows():\n",
    "        all_trades = list(row[col].values())\n",
    "        for sym_trades in all_trades:\n",
    "            for trade in sym_trades:\n",
    "                trade[\"time\"] = row[\"time\"] # fill time\n",
    "                trade[\"turn\"] = row[\"turn\"] # fill time\n",
    "            data += sym_trades\n",
    "\n",
    "    df = pd.DataFrame(data)\n",
    "    df = df.rename({\"timestamp\": \"order_time\"}, axis=1)\n",
    "    \n",
    "    # calculate info about my trades\n",
    "    df[\"is_me\"] = is_me\n",
    "    df[\"my_action\"] = None\n",
    "    df[\"my_action\"] = np.where(df[\"buyer\"] == \"SUBMISSION\", \"buy\", df[\"my_action\"])\n",
    "    df[\"my_action\"] = np.where(df[\"seller\"] == \"SUBMISSION\", \"sell\", df[\"my_action\"])\n",
    "    df[\"my_quantity\"] = df[\"quantity\"] * df[\"is_me\"].astype(int) * (2 * (df[\"my_action\"] == \"buy\").astype(int) - 1)\n",
    "    \n",
    "    return df"
   ]
  },
  {
   "cell_type": "code",
   "execution_count": 10,
   "id": "9f7eedbd",
   "metadata": {
    "ExecuteTime": {
     "end_time": "2023-02-23T04:36:22.706295Z",
     "start_time": "2023-02-23T04:36:22.480562Z"
    }
   },
   "outputs": [
    {
     "name": "stdout",
     "output_type": "stream",
     "text": [
      "my_trades count 8\n",
      "market_trades count 295\n"
     ]
    }
   ],
   "source": [
    "# get my_trades, market_trades, and trade_df (all_trades)\n",
    "\n",
    "market_trades = flatten_trades(\n",
    "    df, \n",
    "    \"market_trades\", \n",
    "    is_me=False\n",
    ").sort_values(by=\"time\")\n",
    "\n",
    "my_trades = flatten_trades(\n",
    "    df, \n",
    "    \"own_trades\", \n",
    "    is_me=True\n",
    ").sort_values(by=\"time\")\n",
    "\n",
    "\n",
    "# filter market trades (only keep those where order_time = fill_time)\n",
    "market_trades = market_trades[market_trades[\"time\"] == market_trades[\"order_time\"]]\n",
    "\n",
    "# filter my_trades (only keep those where fill_time = order_time + 100)\n",
    "my_trades = my_trades[my_trades[\"time\"] == my_trades[\"order_time\"] + _time_step]\n",
    "\n",
    "\n",
    "trade_df = pd.concat([market_trades, my_trades])\n",
    "trade_df = trade_df.sort_values(by=\"time\").reset_index(drop=True)\n",
    "# trade_df = trade_df.drop([\"order_time\", \"buyer\", \"seller\"], axis=1)\n",
    "\n",
    "my_trades = trade_df[trade_df[\"is_me\"]]\n",
    "market_trades = trade_df[~trade_df[\"is_me\"]]\n",
    "\n",
    "print(\"my_trades count\", len(my_trades))\n",
    "print(\"market_trades count\", len(market_trades))\n"
   ]
  },
  {
   "cell_type": "code",
   "execution_count": 11,
   "id": "ae3837a5",
   "metadata": {
    "ExecuteTime": {
     "end_time": "2023-02-23T04:36:22.714399Z",
     "start_time": "2023-02-23T04:36:22.708109Z"
    }
   },
   "outputs": [
    {
     "data": {
      "text/plain": [
       "{'PEARLS': [{'buyer': '',\n",
       "   'price': 9998.0,\n",
       "   'quantity': 1,\n",
       "   'seller': 'SUBMISSION',\n",
       "   'symbol': 'PEARLS',\n",
       "   'timestamp': 0,\n",
       "   'time': 100,\n",
       "   'turn': 1}]}"
      ]
     },
     "execution_count": 11,
     "metadata": {},
     "output_type": "execute_result"
    }
   ],
   "source": [
    "df[\"own_trades\"][1]"
   ]
  },
  {
   "cell_type": "code",
   "execution_count": 12,
   "id": "86d5dd17",
   "metadata": {
    "ExecuteTime": {
     "end_time": "2023-02-23T04:36:22.783789Z",
     "start_time": "2023-02-23T04:36:22.716204Z"
    }
   },
   "outputs": [],
   "source": [
    "# get my_positions\n",
    "my_positions = pd.DataFrame(list(df[\"position\"])).fillna(0)\n",
    "\n",
    "# add any products of zero quantity\n",
    "for prod in _products:\n",
    "    if prod not in my_positions:\n",
    "        my_positions[prod] = 0\n",
    "        \n",
    "my_positions[[\"time\", \"turn\"]] = df[[\"time\", \"turn\"]]\n",
    "my_positions = my_positions.sort_values(by=\"time\")\n",
    "\n",
    "# add cash to my_positions\n",
    "cash_data = []\n",
    "cur_cash = 0\n",
    "cur_time = turn2time_map[0]\n",
    "for index, row in my_trades.iterrows():\n",
    "    row_time = row[\"time\"]\n",
    "    while cur_time < row[\"time\"]:\n",
    "        cash_data += [cur_cash]\n",
    "        cur_time = turn2time_map[len(cash_data)]\n",
    "        \n",
    "    cur_cash += -1 * row[\"price\"] * row[\"my_quantity\"]\n",
    "\n",
    "# add for remaining turns\n",
    "while cur_time < max(turn2time_map.values()):\n",
    "    cash_data += [cur_cash]\n",
    "    cur_time = turn2time_map[len(cash_data)]\n",
    "cash_data += [cur_cash]\n",
    "\n",
    "# add to my_positions\n",
    "my_positions[\"cash\"] = cash_data\n",
    "\n",
    "\n",
    "\n",
    "\n"
   ]
  },
  {
   "cell_type": "code",
   "execution_count": null,
   "id": "c5fca960",
   "metadata": {},
   "outputs": [],
   "source": []
  },
  {
   "cell_type": "markdown",
   "id": "96194b84",
   "metadata": {},
   "source": [
    "### Data analysis/vis\n",
    "- for info about trades:\n",
    "    - `trade_df` (all trades)\n",
    "    - `my_trades` (our trades only)\n",
    "    - `market_trades` (other people's trades only, not our trades)\n",
    "- for info about our positions\n",
    "    - `my_positions`"
   ]
  },
  {
   "cell_type": "markdown",
   "id": "4c20ff5e",
   "metadata": {},
   "source": [
    "### todo:\n",
    "- my_positions\n",
    "    - calculate approx product price per turn\n",
    "    - calculate total inventory value + total net worth (aka pnl)\n",
    "- visualize book"
   ]
  },
  {
   "cell_type": "code",
   "execution_count": null,
   "id": "3f2b6616",
   "metadata": {},
   "outputs": [],
   "source": []
  },
  {
   "cell_type": "code",
   "execution_count": null,
   "id": "9485ec3f",
   "metadata": {},
   "outputs": [],
   "source": []
  },
  {
   "cell_type": "code",
   "execution_count": 13,
   "id": "e9040028",
   "metadata": {
    "ExecuteTime": {
     "end_time": "2023-02-23T04:36:22.799944Z",
     "start_time": "2023-02-23T04:36:22.785170Z"
    }
   },
   "outputs": [
    {
     "data": {
      "text/html": [
       "<div>\n",
       "<style scoped>\n",
       "    .dataframe tbody tr th:only-of-type {\n",
       "        vertical-align: middle;\n",
       "    }\n",
       "\n",
       "    .dataframe tbody tr th {\n",
       "        vertical-align: top;\n",
       "    }\n",
       "\n",
       "    .dataframe thead th {\n",
       "        text-align: right;\n",
       "    }\n",
       "</style>\n",
       "<table border=\"1\" class=\"dataframe\">\n",
       "  <thead>\n",
       "    <tr style=\"text-align: right;\">\n",
       "      <th></th>\n",
       "      <th>BANANAS_best_buy</th>\n",
       "      <th>BANANAS_best_sell</th>\n",
       "      <th>BANANAS_mid</th>\n",
       "      <th>BANANAS_spread</th>\n",
       "      <th>PEARLS_best_buy</th>\n",
       "      <th>PEARLS_best_sell</th>\n",
       "      <th>PEARLS_mid</th>\n",
       "      <th>PEARLS_spread</th>\n",
       "      <th>time</th>\n",
       "    </tr>\n",
       "  </thead>\n",
       "  <tbody>\n",
       "    <tr>\n",
       "      <th>0</th>\n",
       "      <td>4892</td>\n",
       "      <td>4899</td>\n",
       "      <td>4895.5</td>\n",
       "      <td>7</td>\n",
       "      <td>9995</td>\n",
       "      <td>10005</td>\n",
       "      <td>10000.0</td>\n",
       "      <td>10</td>\n",
       "      <td>0</td>\n",
       "    </tr>\n",
       "    <tr>\n",
       "      <th>1</th>\n",
       "      <td>4892</td>\n",
       "      <td>4896</td>\n",
       "      <td>4894.0</td>\n",
       "      <td>4</td>\n",
       "      <td>9995</td>\n",
       "      <td>10002</td>\n",
       "      <td>9998.5</td>\n",
       "      <td>7</td>\n",
       "      <td>100</td>\n",
       "    </tr>\n",
       "    <tr>\n",
       "      <th>2</th>\n",
       "      <td>4892</td>\n",
       "      <td>4899</td>\n",
       "      <td>4895.5</td>\n",
       "      <td>7</td>\n",
       "      <td>9995</td>\n",
       "      <td>10004</td>\n",
       "      <td>9999.5</td>\n",
       "      <td>9</td>\n",
       "      <td>200</td>\n",
       "    </tr>\n",
       "    <tr>\n",
       "      <th>3</th>\n",
       "      <td>4893</td>\n",
       "      <td>4899</td>\n",
       "      <td>4896.0</td>\n",
       "      <td>6</td>\n",
       "      <td>9995</td>\n",
       "      <td>9998</td>\n",
       "      <td>9996.5</td>\n",
       "      <td>3</td>\n",
       "      <td>300</td>\n",
       "    </tr>\n",
       "    <tr>\n",
       "      <th>4</th>\n",
       "      <td>4893</td>\n",
       "      <td>4899</td>\n",
       "      <td>4896.0</td>\n",
       "      <td>6</td>\n",
       "      <td>9995</td>\n",
       "      <td>10004</td>\n",
       "      <td>9999.5</td>\n",
       "      <td>9</td>\n",
       "      <td>400</td>\n",
       "    </tr>\n",
       "    <tr>\n",
       "      <th>...</th>\n",
       "      <td>...</td>\n",
       "      <td>...</td>\n",
       "      <td>...</td>\n",
       "      <td>...</td>\n",
       "      <td>...</td>\n",
       "      <td>...</td>\n",
       "      <td>...</td>\n",
       "      <td>...</td>\n",
       "      <td>...</td>\n",
       "    </tr>\n",
       "    <tr>\n",
       "      <th>1993</th>\n",
       "      <td>4905</td>\n",
       "      <td>4912</td>\n",
       "      <td>4908.5</td>\n",
       "      <td>7</td>\n",
       "      <td>9995</td>\n",
       "      <td>9998</td>\n",
       "      <td>9996.5</td>\n",
       "      <td>3</td>\n",
       "      <td>199500</td>\n",
       "    </tr>\n",
       "    <tr>\n",
       "      <th>1994</th>\n",
       "      <td>4905</td>\n",
       "      <td>4912</td>\n",
       "      <td>4908.5</td>\n",
       "      <td>7</td>\n",
       "      <td>9995</td>\n",
       "      <td>10005</td>\n",
       "      <td>10000.0</td>\n",
       "      <td>10</td>\n",
       "      <td>199600</td>\n",
       "    </tr>\n",
       "    <tr>\n",
       "      <th>1995</th>\n",
       "      <td>4904</td>\n",
       "      <td>4911</td>\n",
       "      <td>4907.5</td>\n",
       "      <td>7</td>\n",
       "      <td>9995</td>\n",
       "      <td>10004</td>\n",
       "      <td>9999.5</td>\n",
       "      <td>9</td>\n",
       "      <td>199700</td>\n",
       "    </tr>\n",
       "    <tr>\n",
       "      <th>1996</th>\n",
       "      <td>4905</td>\n",
       "      <td>4911</td>\n",
       "      <td>4908.0</td>\n",
       "      <td>6</td>\n",
       "      <td>9995</td>\n",
       "      <td>10004</td>\n",
       "      <td>9999.5</td>\n",
       "      <td>9</td>\n",
       "      <td>199800</td>\n",
       "    </tr>\n",
       "    <tr>\n",
       "      <th>1997</th>\n",
       "      <td>4905</td>\n",
       "      <td>4912</td>\n",
       "      <td>4908.5</td>\n",
       "      <td>7</td>\n",
       "      <td>9995</td>\n",
       "      <td>10005</td>\n",
       "      <td>10000.0</td>\n",
       "      <td>10</td>\n",
       "      <td>199900</td>\n",
       "    </tr>\n",
       "  </tbody>\n",
       "</table>\n",
       "<p>1998 rows × 9 columns</p>\n",
       "</div>"
      ],
      "text/plain": [
       "      BANANAS_best_buy  BANANAS_best_sell  BANANAS_mid  BANANAS_spread  \\\n",
       "0                 4892               4899       4895.5               7   \n",
       "1                 4892               4896       4894.0               4   \n",
       "2                 4892               4899       4895.5               7   \n",
       "3                 4893               4899       4896.0               6   \n",
       "4                 4893               4899       4896.0               6   \n",
       "...                ...                ...          ...             ...   \n",
       "1993              4905               4912       4908.5               7   \n",
       "1994              4905               4912       4908.5               7   \n",
       "1995              4904               4911       4907.5               7   \n",
       "1996              4905               4911       4908.0               6   \n",
       "1997              4905               4912       4908.5               7   \n",
       "\n",
       "      PEARLS_best_buy  PEARLS_best_sell  PEARLS_mid  PEARLS_spread    time  \n",
       "0                9995             10005     10000.0             10       0  \n",
       "1                9995             10002      9998.5              7     100  \n",
       "2                9995             10004      9999.5              9     200  \n",
       "3                9995              9998      9996.5              3     300  \n",
       "4                9995             10004      9999.5              9     400  \n",
       "...               ...               ...         ...            ...     ...  \n",
       "1993             9995              9998      9996.5              3  199500  \n",
       "1994             9995             10005     10000.0             10  199600  \n",
       "1995             9995             10004      9999.5              9  199700  \n",
       "1996             9995             10004      9999.5              9  199800  \n",
       "1997             9995             10005     10000.0             10  199900  \n",
       "\n",
       "[1998 rows x 9 columns]"
      ]
     },
     "execution_count": 13,
     "metadata": {},
     "output_type": "execute_result"
    }
   ],
   "source": [
    "book_tops"
   ]
  },
  {
   "cell_type": "code",
   "execution_count": 14,
   "id": "6db8685d",
   "metadata": {
    "ExecuteTime": {
     "end_time": "2023-02-23T04:36:22.811810Z",
     "start_time": "2023-02-23T04:36:22.801577Z"
    }
   },
   "outputs": [
    {
     "data": {
      "text/html": [
       "<div>\n",
       "<style scoped>\n",
       "    .dataframe tbody tr th:only-of-type {\n",
       "        vertical-align: middle;\n",
       "    }\n",
       "\n",
       "    .dataframe tbody tr th {\n",
       "        vertical-align: top;\n",
       "    }\n",
       "\n",
       "    .dataframe thead th {\n",
       "        text-align: right;\n",
       "    }\n",
       "</style>\n",
       "<table border=\"1\" class=\"dataframe\">\n",
       "  <thead>\n",
       "    <tr style=\"text-align: right;\">\n",
       "      <th></th>\n",
       "      <th>time</th>\n",
       "      <th>BANANAS</th>\n",
       "      <th>PEARLS</th>\n",
       "    </tr>\n",
       "  </thead>\n",
       "  <tbody>\n",
       "    <tr>\n",
       "      <th>0</th>\n",
       "      <td>0</td>\n",
       "      <td>4895.5</td>\n",
       "      <td>10000.0</td>\n",
       "    </tr>\n",
       "    <tr>\n",
       "      <th>1</th>\n",
       "      <td>100</td>\n",
       "      <td>4894.0</td>\n",
       "      <td>9998.5</td>\n",
       "    </tr>\n",
       "    <tr>\n",
       "      <th>2</th>\n",
       "      <td>200</td>\n",
       "      <td>4895.5</td>\n",
       "      <td>9999.5</td>\n",
       "    </tr>\n",
       "    <tr>\n",
       "      <th>3</th>\n",
       "      <td>300</td>\n",
       "      <td>4896.0</td>\n",
       "      <td>9996.5</td>\n",
       "    </tr>\n",
       "    <tr>\n",
       "      <th>4</th>\n",
       "      <td>400</td>\n",
       "      <td>4896.0</td>\n",
       "      <td>9999.5</td>\n",
       "    </tr>\n",
       "    <tr>\n",
       "      <th>...</th>\n",
       "      <td>...</td>\n",
       "      <td>...</td>\n",
       "      <td>...</td>\n",
       "    </tr>\n",
       "    <tr>\n",
       "      <th>1993</th>\n",
       "      <td>199500</td>\n",
       "      <td>4908.5</td>\n",
       "      <td>9996.5</td>\n",
       "    </tr>\n",
       "    <tr>\n",
       "      <th>1994</th>\n",
       "      <td>199600</td>\n",
       "      <td>4908.5</td>\n",
       "      <td>10000.0</td>\n",
       "    </tr>\n",
       "    <tr>\n",
       "      <th>1995</th>\n",
       "      <td>199700</td>\n",
       "      <td>4907.5</td>\n",
       "      <td>9999.5</td>\n",
       "    </tr>\n",
       "    <tr>\n",
       "      <th>1996</th>\n",
       "      <td>199800</td>\n",
       "      <td>4908.0</td>\n",
       "      <td>9999.5</td>\n",
       "    </tr>\n",
       "    <tr>\n",
       "      <th>1997</th>\n",
       "      <td>199900</td>\n",
       "      <td>4908.5</td>\n",
       "      <td>10000.0</td>\n",
       "    </tr>\n",
       "  </tbody>\n",
       "</table>\n",
       "<p>1998 rows × 3 columns</p>\n",
       "</div>"
      ],
      "text/plain": [
       "        time  BANANAS   PEARLS\n",
       "0          0   4895.5  10000.0\n",
       "1        100   4894.0   9998.5\n",
       "2        200   4895.5   9999.5\n",
       "3        300   4896.0   9996.5\n",
       "4        400   4896.0   9999.5\n",
       "...      ...      ...      ...\n",
       "1993  199500   4908.5   9996.5\n",
       "1994  199600   4908.5  10000.0\n",
       "1995  199700   4907.5   9999.5\n",
       "1996  199800   4908.0   9999.5\n",
       "1997  199900   4908.5  10000.0\n",
       "\n",
       "[1998 rows x 3 columns]"
      ]
     },
     "execution_count": 14,
     "metadata": {},
     "output_type": "execute_result"
    }
   ],
   "source": [
    "# estimate fairs\n",
    "mid_cols = [col for col in book_tops.columns if \"_mid\" in col]\n",
    "fairs = book_tops[[\"time\", *mid_cols]]\n",
    "fairs.columns = fairs.columns.str.strip('_mid')\n",
    "fairs"
   ]
  },
  {
   "cell_type": "code",
   "execution_count": 15,
   "id": "8fc7fc5c",
   "metadata": {
    "ExecuteTime": {
     "end_time": "2023-02-23T04:36:22.818222Z",
     "start_time": "2023-02-23T04:36:22.813628Z"
    }
   },
   "outputs": [],
   "source": [
    "# estimate pnl\n",
    "pnls = my_positions[\"cash\"]\n",
    "\n",
    "for prod in products:\n",
    "    pnls += my_positions[prod] * fairs[prod]\n",
    "    \n",
    "my_positions[\"pnl\"] = pnls"
   ]
  },
  {
   "cell_type": "code",
   "execution_count": 16,
   "id": "071e0ef1",
   "metadata": {
    "ExecuteTime": {
     "end_time": "2023-02-23T04:36:22.833027Z",
     "start_time": "2023-02-23T04:36:22.820196Z"
    }
   },
   "outputs": [
    {
     "data": {
      "text/html": [
       "<div>\n",
       "<style scoped>\n",
       "    .dataframe tbody tr th:only-of-type {\n",
       "        vertical-align: middle;\n",
       "    }\n",
       "\n",
       "    .dataframe tbody tr th {\n",
       "        vertical-align: top;\n",
       "    }\n",
       "\n",
       "    .dataframe thead th {\n",
       "        text-align: right;\n",
       "    }\n",
       "</style>\n",
       "<table border=\"1\" class=\"dataframe\">\n",
       "  <thead>\n",
       "    <tr style=\"text-align: right;\">\n",
       "      <th></th>\n",
       "      <th>PEARLS</th>\n",
       "      <th>BANANAS</th>\n",
       "      <th>time</th>\n",
       "      <th>turn</th>\n",
       "      <th>cash</th>\n",
       "      <th>pnl</th>\n",
       "    </tr>\n",
       "  </thead>\n",
       "  <tbody>\n",
       "    <tr>\n",
       "      <th>0</th>\n",
       "      <td>0.0</td>\n",
       "      <td>0</td>\n",
       "      <td>0</td>\n",
       "      <td>0</td>\n",
       "      <td>0.0</td>\n",
       "      <td>0.0</td>\n",
       "    </tr>\n",
       "    <tr>\n",
       "      <th>1</th>\n",
       "      <td>-1.0</td>\n",
       "      <td>0</td>\n",
       "      <td>100</td>\n",
       "      <td>1</td>\n",
       "      <td>-0.5</td>\n",
       "      <td>-0.5</td>\n",
       "    </tr>\n",
       "    <tr>\n",
       "      <th>2</th>\n",
       "      <td>-2.0</td>\n",
       "      <td>0</td>\n",
       "      <td>200</td>\n",
       "      <td>2</td>\n",
       "      <td>-5.0</td>\n",
       "      <td>-5.0</td>\n",
       "    </tr>\n",
       "    <tr>\n",
       "      <th>3</th>\n",
       "      <td>-3.0</td>\n",
       "      <td>0</td>\n",
       "      <td>300</td>\n",
       "      <td>3</td>\n",
       "      <td>0.5</td>\n",
       "      <td>0.5</td>\n",
       "    </tr>\n",
       "    <tr>\n",
       "      <th>4</th>\n",
       "      <td>-5.0</td>\n",
       "      <td>0</td>\n",
       "      <td>400</td>\n",
       "      <td>4</td>\n",
       "      <td>-15.5</td>\n",
       "      <td>-15.5</td>\n",
       "    </tr>\n",
       "    <tr>\n",
       "      <th>...</th>\n",
       "      <td>...</td>\n",
       "      <td>...</td>\n",
       "      <td>...</td>\n",
       "      <td>...</td>\n",
       "      <td>...</td>\n",
       "      <td>...</td>\n",
       "    </tr>\n",
       "    <tr>\n",
       "      <th>1993</th>\n",
       "      <td>-20.0</td>\n",
       "      <td>0</td>\n",
       "      <td>199500</td>\n",
       "      <td>1993</td>\n",
       "      <td>22.0</td>\n",
       "      <td>22.0</td>\n",
       "    </tr>\n",
       "    <tr>\n",
       "      <th>1994</th>\n",
       "      <td>-20.0</td>\n",
       "      <td>0</td>\n",
       "      <td>199600</td>\n",
       "      <td>1994</td>\n",
       "      <td>-48.0</td>\n",
       "      <td>-48.0</td>\n",
       "    </tr>\n",
       "    <tr>\n",
       "      <th>1995</th>\n",
       "      <td>-20.0</td>\n",
       "      <td>0</td>\n",
       "      <td>199700</td>\n",
       "      <td>1995</td>\n",
       "      <td>-38.0</td>\n",
       "      <td>-38.0</td>\n",
       "    </tr>\n",
       "    <tr>\n",
       "      <th>1996</th>\n",
       "      <td>-20.0</td>\n",
       "      <td>0</td>\n",
       "      <td>199800</td>\n",
       "      <td>1996</td>\n",
       "      <td>-38.0</td>\n",
       "      <td>-38.0</td>\n",
       "    </tr>\n",
       "    <tr>\n",
       "      <th>1997</th>\n",
       "      <td>-20.0</td>\n",
       "      <td>0</td>\n",
       "      <td>199900</td>\n",
       "      <td>1997</td>\n",
       "      <td>-48.0</td>\n",
       "      <td>-48.0</td>\n",
       "    </tr>\n",
       "  </tbody>\n",
       "</table>\n",
       "<p>1998 rows × 6 columns</p>\n",
       "</div>"
      ],
      "text/plain": [
       "      PEARLS  BANANAS    time  turn  cash   pnl\n",
       "0        0.0        0       0     0   0.0   0.0\n",
       "1       -1.0        0     100     1  -0.5  -0.5\n",
       "2       -2.0        0     200     2  -5.0  -5.0\n",
       "3       -3.0        0     300     3   0.5   0.5\n",
       "4       -5.0        0     400     4 -15.5 -15.5\n",
       "...      ...      ...     ...   ...   ...   ...\n",
       "1993   -20.0        0  199500  1993  22.0  22.0\n",
       "1994   -20.0        0  199600  1994 -48.0 -48.0\n",
       "1995   -20.0        0  199700  1995 -38.0 -38.0\n",
       "1996   -20.0        0  199800  1996 -38.0 -38.0\n",
       "1997   -20.0        0  199900  1997 -48.0 -48.0\n",
       "\n",
       "[1998 rows x 6 columns]"
      ]
     },
     "execution_count": 16,
     "metadata": {},
     "output_type": "execute_result"
    }
   ],
   "source": [
    "my_positions"
   ]
  },
  {
   "cell_type": "code",
   "execution_count": 17,
   "id": "70149a31",
   "metadata": {
    "ExecuteTime": {
     "end_time": "2023-02-23T04:36:22.848311Z",
     "start_time": "2023-02-23T04:36:22.835148Z"
    }
   },
   "outputs": [
    {
     "data": {
      "text/html": [
       "<div>\n",
       "<style scoped>\n",
       "    .dataframe tbody tr th:only-of-type {\n",
       "        vertical-align: middle;\n",
       "    }\n",
       "\n",
       "    .dataframe tbody tr th {\n",
       "        vertical-align: top;\n",
       "    }\n",
       "\n",
       "    .dataframe thead th {\n",
       "        text-align: right;\n",
       "    }\n",
       "</style>\n",
       "<table border=\"1\" class=\"dataframe\">\n",
       "  <thead>\n",
       "    <tr style=\"text-align: right;\">\n",
       "      <th></th>\n",
       "      <th>BANANAS_best_buy</th>\n",
       "      <th>BANANAS_best_sell</th>\n",
       "      <th>BANANAS_mid</th>\n",
       "      <th>BANANAS_spread</th>\n",
       "      <th>PEARLS_best_buy</th>\n",
       "      <th>PEARLS_best_sell</th>\n",
       "      <th>PEARLS_mid</th>\n",
       "      <th>PEARLS_spread</th>\n",
       "      <th>time</th>\n",
       "    </tr>\n",
       "  </thead>\n",
       "  <tbody>\n",
       "    <tr>\n",
       "      <th>0</th>\n",
       "      <td>4892</td>\n",
       "      <td>4899</td>\n",
       "      <td>4895.5</td>\n",
       "      <td>7</td>\n",
       "      <td>9995</td>\n",
       "      <td>10005</td>\n",
       "      <td>10000.0</td>\n",
       "      <td>10</td>\n",
       "      <td>0</td>\n",
       "    </tr>\n",
       "    <tr>\n",
       "      <th>1</th>\n",
       "      <td>4892</td>\n",
       "      <td>4896</td>\n",
       "      <td>4894.0</td>\n",
       "      <td>4</td>\n",
       "      <td>9995</td>\n",
       "      <td>10002</td>\n",
       "      <td>9998.5</td>\n",
       "      <td>7</td>\n",
       "      <td>100</td>\n",
       "    </tr>\n",
       "    <tr>\n",
       "      <th>2</th>\n",
       "      <td>4892</td>\n",
       "      <td>4899</td>\n",
       "      <td>4895.5</td>\n",
       "      <td>7</td>\n",
       "      <td>9995</td>\n",
       "      <td>10004</td>\n",
       "      <td>9999.5</td>\n",
       "      <td>9</td>\n",
       "      <td>200</td>\n",
       "    </tr>\n",
       "    <tr>\n",
       "      <th>3</th>\n",
       "      <td>4893</td>\n",
       "      <td>4899</td>\n",
       "      <td>4896.0</td>\n",
       "      <td>6</td>\n",
       "      <td>9995</td>\n",
       "      <td>9998</td>\n",
       "      <td>9996.5</td>\n",
       "      <td>3</td>\n",
       "      <td>300</td>\n",
       "    </tr>\n",
       "    <tr>\n",
       "      <th>4</th>\n",
       "      <td>4893</td>\n",
       "      <td>4899</td>\n",
       "      <td>4896.0</td>\n",
       "      <td>6</td>\n",
       "      <td>9995</td>\n",
       "      <td>10004</td>\n",
       "      <td>9999.5</td>\n",
       "      <td>9</td>\n",
       "      <td>400</td>\n",
       "    </tr>\n",
       "    <tr>\n",
       "      <th>...</th>\n",
       "      <td>...</td>\n",
       "      <td>...</td>\n",
       "      <td>...</td>\n",
       "      <td>...</td>\n",
       "      <td>...</td>\n",
       "      <td>...</td>\n",
       "      <td>...</td>\n",
       "      <td>...</td>\n",
       "      <td>...</td>\n",
       "    </tr>\n",
       "    <tr>\n",
       "      <th>1993</th>\n",
       "      <td>4905</td>\n",
       "      <td>4912</td>\n",
       "      <td>4908.5</td>\n",
       "      <td>7</td>\n",
       "      <td>9995</td>\n",
       "      <td>9998</td>\n",
       "      <td>9996.5</td>\n",
       "      <td>3</td>\n",
       "      <td>199500</td>\n",
       "    </tr>\n",
       "    <tr>\n",
       "      <th>1994</th>\n",
       "      <td>4905</td>\n",
       "      <td>4912</td>\n",
       "      <td>4908.5</td>\n",
       "      <td>7</td>\n",
       "      <td>9995</td>\n",
       "      <td>10005</td>\n",
       "      <td>10000.0</td>\n",
       "      <td>10</td>\n",
       "      <td>199600</td>\n",
       "    </tr>\n",
       "    <tr>\n",
       "      <th>1995</th>\n",
       "      <td>4904</td>\n",
       "      <td>4911</td>\n",
       "      <td>4907.5</td>\n",
       "      <td>7</td>\n",
       "      <td>9995</td>\n",
       "      <td>10004</td>\n",
       "      <td>9999.5</td>\n",
       "      <td>9</td>\n",
       "      <td>199700</td>\n",
       "    </tr>\n",
       "    <tr>\n",
       "      <th>1996</th>\n",
       "      <td>4905</td>\n",
       "      <td>4911</td>\n",
       "      <td>4908.0</td>\n",
       "      <td>6</td>\n",
       "      <td>9995</td>\n",
       "      <td>10004</td>\n",
       "      <td>9999.5</td>\n",
       "      <td>9</td>\n",
       "      <td>199800</td>\n",
       "    </tr>\n",
       "    <tr>\n",
       "      <th>1997</th>\n",
       "      <td>4905</td>\n",
       "      <td>4912</td>\n",
       "      <td>4908.5</td>\n",
       "      <td>7</td>\n",
       "      <td>9995</td>\n",
       "      <td>10005</td>\n",
       "      <td>10000.0</td>\n",
       "      <td>10</td>\n",
       "      <td>199900</td>\n",
       "    </tr>\n",
       "  </tbody>\n",
       "</table>\n",
       "<p>1998 rows × 9 columns</p>\n",
       "</div>"
      ],
      "text/plain": [
       "      BANANAS_best_buy  BANANAS_best_sell  BANANAS_mid  BANANAS_spread  \\\n",
       "0                 4892               4899       4895.5               7   \n",
       "1                 4892               4896       4894.0               4   \n",
       "2                 4892               4899       4895.5               7   \n",
       "3                 4893               4899       4896.0               6   \n",
       "4                 4893               4899       4896.0               6   \n",
       "...                ...                ...          ...             ...   \n",
       "1993              4905               4912       4908.5               7   \n",
       "1994              4905               4912       4908.5               7   \n",
       "1995              4904               4911       4907.5               7   \n",
       "1996              4905               4911       4908.0               6   \n",
       "1997              4905               4912       4908.5               7   \n",
       "\n",
       "      PEARLS_best_buy  PEARLS_best_sell  PEARLS_mid  PEARLS_spread    time  \n",
       "0                9995             10005     10000.0             10       0  \n",
       "1                9995             10002      9998.5              7     100  \n",
       "2                9995             10004      9999.5              9     200  \n",
       "3                9995              9998      9996.5              3     300  \n",
       "4                9995             10004      9999.5              9     400  \n",
       "...               ...               ...         ...            ...     ...  \n",
       "1993             9995              9998      9996.5              3  199500  \n",
       "1994             9995             10005     10000.0             10  199600  \n",
       "1995             9995             10004      9999.5              9  199700  \n",
       "1996             9995             10004      9999.5              9  199800  \n",
       "1997             9995             10005     10000.0             10  199900  \n",
       "\n",
       "[1998 rows x 9 columns]"
      ]
     },
     "execution_count": 17,
     "metadata": {},
     "output_type": "execute_result"
    }
   ],
   "source": [
    "book_tops"
   ]
  },
  {
   "cell_type": "code",
   "execution_count": 25,
   "id": "755a73c2",
   "metadata": {
    "ExecuteTime": {
     "end_time": "2023-02-23T04:37:33.391878Z",
     "start_time": "2023-02-23T04:37:33.386171Z"
    }
   },
   "outputs": [],
   "source": [
    "# plot trades\n",
    "def plot_trades_and_book(sym):\n",
    "\n",
    "    plt_df = trade_df[trade_df[\"symbol\"] == sym]\n",
    "\n",
    "    my_buys = plt_df[plt_df[\"my_quantity\"] > 0]\n",
    "    my_sells = plt_df[plt_df[\"my_quantity\"] < 0]\n",
    "    their_trades = plt_df[plt_df[\"my_quantity\"] == 0]\n",
    "\n",
    "    plt.scatter(my_buys[\"time\"], my_buys[\"price\"], c=\"green\", s=25)\n",
    "    plt.scatter(my_sells[\"time\"], my_sells[\"price\"], c=\"red\", s=25)\n",
    "    plt.scatter(their_trades[\"time\"], their_trades[\"price\"], c=\"gray\", s=10)\n",
    "\n",
    "\n",
    "    # plot book\n",
    "    plt.plot(df[\"time\"], book_tops[f\"{sym}_best_buy\"], c=\"green\", alpha=0.5, linewidth=0.5)\n",
    "    plt.plot(df[\"time\"], book_tops[f\"{sym}_best_sell\"], c=\"red\", alpha=0.5, linewidth=0.5)\n",
    "#     plt.plot(df[\"time\"], book_tops[f\"{sym}_mid\"], c=\"black\", alpha=0.5, linewidth=0.5)\n",
    "    plt.title(f\"Trades and book: {sym}\")\n",
    "    plt.show()"
   ]
  },
  {
   "cell_type": "code",
   "execution_count": 26,
   "id": "76814a65",
   "metadata": {
    "ExecuteTime": {
     "end_time": "2023-02-23T04:37:33.880667Z",
     "start_time": "2023-02-23T04:37:33.552792Z"
    }
   },
   "outputs": [
    {
     "data": {
      "image/png": "[encoded data removed]",
      "text/plain": [
       "<Figure size 640x480 with 1 Axes>"
      ]
     },
     "metadata": {},
     "output_type": "display_data"
    },
    {
     "data": {
      "image/png": "[encoded data removed]",
      "text/plain": [
       "<Figure size 640x480 with 1 Axes>"
      ]
     },
     "metadata": {},
     "output_type": "display_data"
    }
   ],
   "source": [
    "plot_trades_and_book(sym=\"BANANAS\")\n",
    "plot_trades_and_book(sym=\"PEARLS\")"
   ]
  },
  {
   "cell_type": "code",
   "execution_count": 27,
   "id": "2648effb",
   "metadata": {
    "ExecuteTime": {
     "end_time": "2023-02-23T04:37:34.879867Z",
     "start_time": "2023-02-23T04:37:34.698545Z"
    }
   },
   "outputs": [
    {
     "data": {
      "text/plain": [
       "[<matplotlib.lines.Line2D at 0x1223b30d0>]"
      ]
     },
     "execution_count": 27,
     "metadata": {},
     "output_type": "execute_result"
    },
    {
     "data": {
      "image/png": "[encoded data removed]",
      "text/plain": [
       "<Figure size 640x480 with 1 Axes>"
      ]
     },
     "metadata": {},
     "output_type": "display_data"
    }
   ],
   "source": [
    "plt.plot(my_positions[\"time\"], my_positions[\"pnl\"])"
   ]
  },
  {
   "cell_type": "code",
   "execution_count": 21,
   "id": "4e22cf5b",
   "metadata": {
    "ExecuteTime": {
     "end_time": "2023-02-23T04:36:23.735155Z",
     "start_time": "2023-02-23T04:36:23.572871Z"
    }
   },
   "outputs": [
    {
     "data": {
      "image/png": "[encoded data removed]",
      "text/plain": [
       "<Figure size 640x480 with 1 Axes>"
      ]
     },
     "metadata": {},
     "output_type": "display_data"
    }
   ],
   "source": [
    "# plot my positions in each product\n",
    "\n",
    "plt.plot(my_positions[\"time\"], my_positions[\"PEARLS\"], label=\"PEARLS\")\n",
    "plt.plot(my_positions[\"time\"], my_positions[\"BANANAS\"], label=\"BANANAS\")\n",
    "plt.title(\"My positions\")\n",
    "plt.legend()\n",
    "plt.show()"
   ]
  },
  {
   "cell_type": "code",
   "execution_count": 22,
   "id": "629db29a",
   "metadata": {
    "ExecuteTime": {
     "end_time": "2023-02-23T04:36:23.743956Z",
     "start_time": "2023-02-23T04:36:23.737014Z"
    }
   },
   "outputs": [
    {
     "data": {
      "text/plain": [
       "count    1997.000000\n",
       "mean        1.000001\n",
       "std         0.000233\n",
       "min         0.999182\n",
       "25%         0.999898\n",
       "50%         1.000000\n",
       "75%         1.000102\n",
       "max         1.000819\n",
       "Name: BANANAS_mid, dtype: float64"
      ]
     },
     "execution_count": 22,
     "metadata": {},
     "output_type": "execute_result"
    }
   ],
   "source": [
    "col = book_tops[\"BANANAS_mid\"]\n",
    "diffs = (col.shift(-1) / col).dropna()\n",
    "diffs.describe()"
   ]
  },
  {
   "cell_type": "code",
   "execution_count": 23,
   "id": "b72e4777",
   "metadata": {
    "ExecuteTime": {
     "end_time": "2023-02-23T04:36:58.915945Z",
     "start_time": "2023-02-23T04:36:58.908407Z"
    }
   },
   "outputs": [
    {
     "data": {
      "text/plain": [
       "count    1997.000000\n",
       "mean        1.000000\n",
       "std         0.000137\n",
       "min         0.999650\n",
       "25%         0.999950\n",
       "50%         1.000000\n",
       "75%         1.000050\n",
       "max         1.000350\n",
       "Name: PEARLS_mid, dtype: float64"
      ]
     },
     "execution_count": 23,
     "metadata": {},
     "output_type": "execute_result"
    }
   ],
   "source": [
    "col = book_tops[\"PEARLS_mid\"]\n",
    "diffs = (col.shift(-1) / col).dropna()\n",
    "diffs.describe()"
   ]
  },
  {
   "cell_type": "code",
   "execution_count": null,
   "id": "df5e35d1",
   "metadata": {},
   "outputs": [],
   "source": []
  },
  {
   "cell_type": "code",
   "execution_count": null,
   "id": "85477c2f",
   "metadata": {},
   "outputs": [],
   "source": []
  }
 ],
 "metadata": {
  "kernelspec": {
   "display_name": "Python 3 (ipykernel)",
   "language": "python",
   "name": "python3"
  },
  "language_info": {
   "codemirror_mode": {
    "name": "ipython",
    "version": 3
   },
   "file_extension": ".py",
   "mimetype": "text/x-python",
   "name": "python",
   "nbconvert_exporter": "python",
   "pygments_lexer": "ipython3",
   "version": "3.9.16"
  }
 },
 "nbformat": 4,
 "nbformat_minor": 5
}
