{
 "cells": [
  {
   "cell_type": "markdown",
   "id": "4677ba29",
   "metadata": {},
   "source": [
    "# Desc\n",
    "\n",
    "- using this file to practice/learn basic stats\n",
    "- also want to learn standard time series analysis techniques"
   ]
  },
  {
   "cell_type": "code",
   "execution_count": 1,
   "id": "302e2611",
   "metadata": {
    "ExecuteTime": {
     "end_time": "2023-03-30T08:16:52.446000Z",
     "start_time": "2023-03-30T08:16:52.410784Z"
    }
   },
   "outputs": [
    {
     "data": {
      "text/html": [
       "<style>.container { width:75% !important; }</style>"
      ],
      "text/plain": [
       "<IPython.core.display.HTML object>"
      ]
     },
     "metadata": {},
     "output_type": "display_data"
    }
   ],
   "source": [
    "from IPython.display import display, HTML\n",
    "import ipywidgets as widgets\n",
    "from ipywidgets import interact\n",
    "display(HTML(\"<style>.container { width:75% !important; }</style>\"))"
   ]
  },
  {
   "cell_type": "code",
   "execution_count": 2,
   "id": "efb2a20f",
   "metadata": {
    "ExecuteTime": {
     "end_time": "2023-03-30T08:16:52.900860Z",
     "start_time": "2023-03-30T08:16:52.447803Z"
    }
   },
   "outputs": [],
   "source": [
    "import numpy as np\n",
    "import pandas as pd\n",
    "import matplotlib.pyplot as plt"
   ]
  },
  {
   "cell_type": "code",
   "execution_count": 3,
   "id": "8d2ff6a8",
   "metadata": {
    "ExecuteTime": {
     "end_time": "2023-03-30T08:16:53.145212Z",
     "start_time": "2023-03-30T08:16:52.901749Z"
    }
   },
   "outputs": [],
   "source": [
    "import statsmodels\n",
    "from statsmodels.tsa.stattools import adfuller\n",
    "from statsmodels.graphics.tsaplots import plot_acf\n",
    "from statsmodels.graphics.tsaplots import plot_pacf\n",
    "from statsmodels.tsa.ar_model import AutoReg\n",
    "\n",
    "from sklearn.metrics import r2_score"
   ]
  },
  {
   "cell_type": "code",
   "execution_count": 4,
   "id": "d5c82275",
   "metadata": {
    "ExecuteTime": {
     "end_time": "2023-03-30T08:16:53.149635Z",
     "start_time": "2023-03-30T08:16:53.146905Z"
    }
   },
   "outputs": [],
   "source": [
    "\n",
    "def check_stationary(series):\n",
    "    # Copied from https://machinelearningmastery.com/time-series-data-stationary-python/\n",
    "\n",
    "    result = adfuller(series.values)\n",
    "\n",
    "    print('ADF Statistic: %f' % result[0])\n",
    "    print('p-value: %f' % result[1])\n",
    "    print('Critical Values:')\n",
    "    for key, value in result[4].items():\n",
    "        print('\\t%s: %.3f' % (key, value))\n",
    "\n",
    "    if (result[1] <= 0.01) & (result[4]['5%'] > result[0]):\n",
    "        print(\"\\u001b[32mStationary\\u001b[0m\")\n",
    "    else:\n",
    "        print(\"\\x1b[31mNon-stationary\\x1b[0m\")"
   ]
  },
  {
   "cell_type": "markdown",
   "id": "c9abbb84",
   "metadata": {},
   "source": [
    "# Analysis for IMC"
   ]
  },
  {
   "cell_type": "markdown",
   "id": "91a12186",
   "metadata": {},
   "source": [
    "## Data reading"
   ]
  },
  {
   "cell_type": "code",
   "execution_count": 5,
   "id": "ea51abf9",
   "metadata": {
    "ExecuteTime": {
     "end_time": "2023-03-30T08:16:53.152291Z",
     "start_time": "2023-03-30T08:16:53.150642Z"
    }
   },
   "outputs": [],
   "source": [
    "# parameters\n",
    "_min_round_num = 1\n",
    "_max_round_num = 4\n",
    "_time_per_day = 1000000"
   ]
  },
  {
   "cell_type": "code",
   "execution_count": 6,
   "id": "327a7734",
   "metadata": {
    "ExecuteTime": {
     "end_time": "2023-03-30T08:16:53.159428Z",
     "start_time": "2023-03-30T08:16:53.153457Z"
    }
   },
   "outputs": [],
   "source": [
    "def get_file_trades(day):\n",
    "    if day == 4:\n",
    "        cur_round = 5\n",
    "    else:\n",
    "        cur_round = min(day + 3, _max_round_num)\n",
    "    fname = f\"../data/round5/trades_round_{cur_round}_day_{day}_wn.csv\"\n",
    "    print(\"fname\", fname)\n",
    "    return pd.read_csv(fname, sep=\";\")\n",
    "\n",
    "\n",
    "def get_file_prices(day):\n",
    "    if day == 4:\n",
    "        cur_round = 5\n",
    "    else:\n",
    "        cur_round = min(day + 3, _max_round_num)\n",
    "    fname = f\"../data/round{cur_round}/prices_round_{cur_round}_day_{day}.csv\"\n",
    "    print(\"fname\", fname)\n",
    "    return pd.read_csv(fname, sep=\";\")\n",
    "\n",
    "def get_symbol_prices(symbol, days):\n",
    "    \"\"\" Returns DataFrame containing all price data for specified symbol, over the specified 'days'\n",
    "    If symbol is None, don't filter on symbol\n",
    "    \"\"\"\n",
    "    \n",
    "    data = []\n",
    "    for day in days:\n",
    "        price_df = get_file_prices(day)\n",
    "        data += [price_df]\n",
    "    \n",
    "    # concat\n",
    "    price_df = pd.concat(data)\n",
    "    \n",
    "    # rename \"bid\" to \"buy\"\n",
    "    # rename \"ask\" to \"sell\"\n",
    "    price_df = price_df.rename({col: col.replace(\"bid\", \"buy\") for col in price_df.columns if \"bid\" in col}, axis=1)\n",
    "    price_df = price_df.rename({col: col.replace(\"ask\", \"sell\") for col in price_df.columns if \"ask\" in col}, axis=1)\n",
    "    price_df = price_df.rename({\"timestamp\": \"time\", \"product\": \"symbol\"}, axis=1)\n",
    "    \n",
    "    if symbol is not None:\n",
    "        # filter for specific symbol\n",
    "        price_df = price_df[price_df[\"symbol\"] == symbol]\n",
    "    \n",
    "    # fix times, sort by time and reindex\n",
    "    price_df[\"time\"] = price_df[\"time\"] + (price_df[\"day\"] - min(days)) * _time_per_day\n",
    "    price_df = price_df.sort_values(by=\"time\").reset_index(drop=True)\n",
    "    \n",
    "    return price_df\n",
    "\n",
    "def get_symbol_trades(symbol, days):\n",
    "    data = []\n",
    "    for day in days:\n",
    "        price_df = get_file_trades(day)\n",
    "        price_df[\"day\"] = day\n",
    "        data += [price_df]\n",
    "    \n",
    "    # concat\n",
    "    price_df = pd.concat(data)\n",
    "    price_df = price_df.rename({\"timestamp\": \"time\", \"product\": \"symbol\"}, axis=1)\n",
    "    \n",
    "    if symbol is not None:\n",
    "        # filter for specific symbol\n",
    "        price_df = price_df[price_df[\"symbol\"] == symbol]\n",
    "    \n",
    "    # fix times, sort by time and reindex\n",
    "    price_df[\"time\"] = price_df[\"time\"] + (price_df[\"day\"] - min(days)) * _time_per_day\n",
    "    price_df = price_df.sort_values(by=\"time\").reset_index(drop=True)\n",
    "    \n",
    "    return price_df\n",
    "    \n",
    "\n",
    "\n",
    "def get_all_mids(days):\n",
    "    price_df = get_symbol_prices(symbol=None, days=days)\n",
    "    \n",
    "    price_df[\"mid\"] = price_df[\"mid_price\"]\n",
    "    \n",
    "    return price_df[[\"time\", \"symbol\", \"mid\"]].copy()"
   ]
  },
  {
   "cell_type": "code",
   "execution_count": 7,
   "id": "2b20e0e7",
   "metadata": {
    "ExecuteTime": {
     "end_time": "2023-03-30T08:16:53.164063Z",
     "start_time": "2023-03-30T08:16:53.160400Z"
    }
   },
   "outputs": [],
   "source": [
    "def get_book_large_size(price_df, side):\n",
    "    \"\"\" \n",
    "    side = 'buy' or 'sell' \n",
    "    \n",
    "    Returns prices, sizes\n",
    "    \"\"\"\n",
    "    \n",
    "    book_range = list(range(1, 3+1))\n",
    "    \n",
    "    # get bids\n",
    "    bid_sizes = price_df[[f\"{side}_volume_{i}\" for i in book_range]]\n",
    "    bid_prices = price_df[[f\"{side}_price_{i}\" for i in book_range]]\n",
    "\n",
    "    # replace nan with -1\n",
    "    bid_sizes = bid_sizes.replace(np.nan, -1)\n",
    "\n",
    "    # find inds\n",
    "    inds = np.argmax(bid_sizes.to_numpy(), axis=1)\n",
    "\n",
    "    # filter to keep largest bids\n",
    "    bid_prices = bid_prices.to_numpy()[np.arange(len(bid_prices)), inds]\n",
    "    bid_sizes = bid_sizes.to_numpy()[np.arange(len(bid_sizes)), inds]\n",
    "    \n",
    "    # create dataframe\n",
    "    df = pd.DataFrame([bid_prices, bid_sizes]).T\n",
    "    df.columns = [f\"{side}_price\", f\"{side}_size\"]\n",
    "    df[\"time\"] = price_df[\"time\"].reset_index()[\"time\"]\n",
    "    \n",
    "    return df\n",
    "\n",
    "\n",
    "def get_whale_quotes(price_df):\n",
    "    # get big buy/sell quotes\n",
    "    buy_df = get_book_large_size(price_df, \"buy\")\n",
    "    sell_df = get_book_large_size(price_df, \"sell\")\n",
    "\n",
    "    # create big quote_df\n",
    "    quote_df = pd.merge(buy_df, sell_df, on=\"time\")\n",
    "    quote_df[\"mid_price\"] = (quote_df[\"buy_price\"] + quote_df[\"sell_price\"]) / 2\n",
    "    quote_df[\"spread\"] = quote_df[\"sell_price\"] - quote_df[\"buy_price\"]\n",
    "\n",
    "    return quote_df"
   ]
  },
  {
   "cell_type": "code",
   "execution_count": 8,
   "id": "292faed1",
   "metadata": {
    "ExecuteTime": {
     "end_time": "2023-03-30T08:16:53.167241Z",
     "start_time": "2023-03-30T08:16:53.165273Z"
    }
   },
   "outputs": [],
   "source": [
    "def scatter_noise(x, y, xnoise=0.1, ynoise=0.1, s=0.1, label=None):\n",
    "    xp = x + np.random.normal(scale=xnoise, size=len(x))\n",
    "    yp = y + np.random.normal(scale=ynoise, size=len(y))\n",
    "    \n",
    "    plt.scatter(\n",
    "        xp, yp, \n",
    "        s=s, \n",
    "        label=label,\n",
    "    )"
   ]
  },
  {
   "cell_type": "markdown",
   "id": "4140fc3a",
   "metadata": {},
   "source": [
    "## Dolphin vs Gear - Leading indicator"
   ]
  },
  {
   "cell_type": "code",
   "execution_count": 9,
   "id": "5d45bf98",
   "metadata": {
    "ExecuteTime": {
     "end_time": "2023-03-30T08:16:54.899626Z",
     "start_time": "2023-03-30T08:16:53.168213Z"
    },
    "scrolled": false
   },
   "outputs": [
    {
     "name": "stdout",
     "output_type": "stream",
     "text": [
      "fname ../data/round1/prices_round_1_day_-2.csv\n",
      "fname ../data/round2/prices_round_2_day_-1.csv\n",
      "fname ../data/round3/prices_round_3_day_0.csv\n",
      "fname ../data/round4/prices_round_4_day_1.csv\n",
      "fname ../data/round4/prices_round_4_day_2.csv\n",
      "fname ../data/round4/prices_round_4_day_3.csv\n",
      "fname ../data/round5/prices_round_5_day_4.csv\n",
      "fname ../data/round1/prices_round_1_day_-2.csv\n",
      "fname ../data/round2/prices_round_2_day_-1.csv\n",
      "fname ../data/round3/prices_round_3_day_0.csv\n",
      "fname ../data/round4/prices_round_4_day_1.csv\n",
      "fname ../data/round4/prices_round_4_day_2.csv\n",
      "fname ../data/round4/prices_round_4_day_3.csv\n",
      "fname ../data/round5/prices_round_5_day_4.csv\n",
      "model  \n",
      "7.858 x + 7.54e+04\n"
     ]
    },
    {
     "data": {
      "image/png": "[encoded data removed]",
      "text/plain": [
       "<Figure size 640x480 with 1 Axes>"
      ]
     },
     "metadata": {},
     "output_type": "display_data"
    },
    {
     "data": {
      "image/png": "[encoded data removed]",
      "text/plain": [
       "<Figure size 640x480 with 2 Axes>"
      ]
     },
     "metadata": {},
     "output_type": "display_data"
    }
   ],
   "source": [
    "_day_range = [-2, -1, 0, 1, 2, 3, 4]\n",
    "\n",
    "# get trade data for gear\n",
    "# trade_df = get_symbol_trades(\"DIVING_GEAR\", _day_range)\n",
    "\n",
    "# get gear data\n",
    "gear_price_df = get_symbol_prices(\"DIVING_GEAR\", _day_range)\n",
    "gear_df = get_whale_quotes(gear_price_df)\n",
    "\n",
    "# get dol data\n",
    "dol_df = get_all_mids(_day_range)\n",
    "dol_df = dol_df[dol_df[\"symbol\"] == \"DOLPHIN_SIGHTINGS\"].reset_index(drop=True)\n",
    "\n",
    "# combine into single dataframe\n",
    "pair_df = gear_df[[\"time\"]].copy()\n",
    "pair_df[\"gear\"] = gear_df[\"mid_price\"]\n",
    "pair_df[\"dol\"] = dol_df[\"mid\"]\n",
    "\n",
    "# fit linreg to data\n",
    "model = np.poly1d(np.polyfit(pair_df[\"dol\"], pair_df[\"gear\"], deg=1))\n",
    "print(\"model\", model)\n",
    "plt.plot(pair_df[\"dol\"], pair_df[\"gear\"])\n",
    "plt.plot(pair_df[\"dol\"], model(pair_df[\"dol\"]))\n",
    "plt.plot(pair_df[\"dol\"], 16 * pair_df[\"dol\"] + 50000)\n",
    "plt.show()\n",
    "\n",
    "\n",
    "# plot dol/gear over time\n",
    "ax = plt.gca()\n",
    "ax.plot(pair_df[\"dol\"])\n",
    "\n",
    "ax2 = ax.twinx()\n",
    "ax2.plot(pair_df[\"gear\"], color=\"orange\")\n",
    "plt.show()"
   ]
  },
  {
   "cell_type": "markdown",
   "id": "04637e1b",
   "metadata": {
    "ExecuteTime": {
     "end_time": "2023-03-28T18:12:42.063878Z",
     "start_time": "2023-03-28T18:12:42.059936Z"
    }
   },
   "source": [
    "# Current work"
   ]
  },
  {
   "cell_type": "code",
   "execution_count": 10,
   "id": "ef51d240",
   "metadata": {
    "ExecuteTime": {
     "end_time": "2023-03-30T08:16:54.951043Z",
     "start_time": "2023-03-30T08:16:54.902578Z"
    }
   },
   "outputs": [],
   "source": [
    "from sklearn.linear_model import LinearRegression, Lasso\n",
    "\n",
    "pair_df = pair_df[[\"time\", \"gear\", \"dol\"]].copy()"
   ]
  },
  {
   "cell_type": "code",
   "execution_count": 11,
   "id": "2a229bcd",
   "metadata": {
    "ExecuteTime": {
     "end_time": "2023-03-30T08:17:00.340196Z",
     "start_time": "2023-03-30T08:16:54.951896Z"
    },
    "scrolled": false
   },
   "outputs": [
    {
     "data": {
      "text/plain": [
       "<Figure size 1300x2000 with 0 Axes>"
      ]
     },
     "metadata": {},
     "output_type": "display_data"
    },
    {
     "data": {
      "text/plain": [
       "<Figure size 1300x2000 with 0 Axes>"
      ]
     },
     "metadata": {},
     "output_type": "display_data"
    },
    {
     "data": {
      "text/plain": [
       "<Figure size 1300x2000 with 0 Axes>"
      ]
     },
     "metadata": {},
     "output_type": "display_data"
    },
    {
     "data": {
      "text/plain": [
       "<Figure size 1300x2000 with 0 Axes>"
      ]
     },
     "metadata": {},
     "output_type": "display_data"
    },
    {
     "data": {
      "text/plain": [
       "<Figure size 1300x2000 with 0 Axes>"
      ]
     },
     "metadata": {},
     "output_type": "display_data"
    },
    {
     "data": {
      "text/plain": [
       "<Figure size 1300x2000 with 0 Axes>"
      ]
     },
     "metadata": {},
     "output_type": "display_data"
    },
    {
     "data": {
      "text/plain": [
       "<Figure size 1300x2000 with 0 Axes>"
      ]
     },
     "metadata": {},
     "output_type": "display_data"
    },
    {
     "data": {
      "text/plain": [
       "<Figure size 1300x2000 with 0 Axes>"
      ]
     },
     "metadata": {},
     "output_type": "display_data"
    },
    {
     "data": {
      "text/plain": [
       "<Figure size 1300x2000 with 0 Axes>"
      ]
     },
     "metadata": {},
     "output_type": "display_data"
    },
    {
     "data": {
      "text/plain": [
       "<Figure size 1300x2000 with 0 Axes>"
      ]
     },
     "metadata": {},
     "output_type": "display_data"
    },
    {
     "data": {
      "text/plain": [
       "<Figure size 1300x2000 with 0 Axes>"
      ]
     },
     "metadata": {},
     "output_type": "display_data"
    },
    {
     "data": {
      "text/plain": [
       "<Figure size 1300x2000 with 0 Axes>"
      ]
     },
     "metadata": {},
     "output_type": "display_data"
    },
    {
     "data": {
      "text/plain": [
       "<Figure size 1300x2000 with 0 Axes>"
      ]
     },
     "metadata": {},
     "output_type": "display_data"
    },
    {
     "data": {
      "text/plain": [
       "<Figure size 1300x2000 with 0 Axes>"
      ]
     },
     "metadata": {},
     "output_type": "display_data"
    },
    {
     "data": {
      "text/plain": [
       "<Figure size 1300x2000 with 0 Axes>"
      ]
     },
     "metadata": {},
     "output_type": "display_data"
    },
    {
     "data": {
      "text/plain": [
       "<Figure size 1300x2000 with 0 Axes>"
      ]
     },
     "metadata": {},
     "output_type": "display_data"
    },
    {
     "data": {
      "text/plain": [
       "<Figure size 1300x2000 with 0 Axes>"
      ]
     },
     "metadata": {},
     "output_type": "display_data"
    },
    {
     "data": {
      "text/plain": [
       "<Figure size 1300x2000 with 0 Axes>"
      ]
     },
     "metadata": {},
     "output_type": "display_data"
    },
    {
     "data": {
      "text/plain": [
       "<Figure size 1300x2000 with 0 Axes>"
      ]
     },
     "metadata": {},
     "output_type": "display_data"
    },
    {
     "data": {
      "text/plain": [
       "<Figure size 1300x2000 with 0 Axes>"
      ]
     },
     "metadata": {},
     "output_type": "display_data"
    }
   ],
   "source": [
    "data = []\n",
    "\n",
    "for forecast_amt in np.arange(100, 2000+1, 100):\n",
    "    plt.figure(figsize=(13, 20))\n",
    "    \n",
    "    for ind, past_shift in enumerate( np.arange(40000, 47000, 100).astype(int) ):\n",
    "\n",
    "        # make copy of orig data\n",
    "        df = pair_df.copy()\n",
    "\n",
    "        df[\"dol_past_chg\"] = df[\"dol\"].diff(past_shift)\n",
    "        df[\"gear_past_chg\"] = df[\"gear\"].diff(past_shift)\n",
    "\n",
    "        # predict\n",
    "        df[\"gear_chg\"] = -1 * df[\"gear\"].diff(-1 * forecast_amt)\n",
    "        \n",
    "        df[\"dol_past\"] = df[\"dol\"].shift(past_shift)\n",
    "        df[\"gear_next\"] = df[\"gear\"].shift(-1 * forecast_amt)\n",
    "        df = df.dropna()\n",
    "\n",
    "#         X = df[[\"dol_past_chg\", \"dol\", \"gear\"]]\n",
    "#         y = df[\"gear_chg\"]\n",
    "\n",
    "        X = df[[\"dol_past\"]]\n",
    "        y = df[\"gear_next\"]\n",
    "\n",
    "        reg = Lasso(alpha=0.1).fit(X, y)\n",
    "        r2 = reg.score(X, y)\n",
    "#         print(\"coef\", np.round(reg.coef_, 5), \"int\", np.round(reg.intercept_, 2))\n",
    "#         print(\"r2\", round(r2, 2))\n",
    "\n",
    "        data += [{\n",
    "            \"forecast\": forecast_amt,\n",
    "            \"past\": past_shift,\n",
    "            \"m1\": reg.coef_[0],\n",
    "#             \"m2\": reg.coef_[1],\n",
    "            \"b\": reg.intercept_,\n",
    "            \"r2\": r2,\n",
    "        }]\n",
    "\n",
    "\n",
    "        ypred = reg.predict(X)\n",
    "\n",
    "#         plt.subplot(12, 3, ind + 1)\n",
    "#         plt.plot(df.index, y, label=\"actual\")\n",
    "#         plt.plot(df.index, ypred, label=\"pred\")\n",
    "#         plt.title(f\"past: {past_shift}, future: {forecast_amt}, r2: {round(r2, 2)}\")\n",
    "#         plt.legend()\n",
    "\n",
    "#     plt.tight_layout()\n",
    "#     plt.show()"
   ]
  },
  {
   "cell_type": "code",
   "execution_count": 12,
   "id": "2c42772c",
   "metadata": {
    "ExecuteTime": {
     "end_time": "2023-03-30T08:17:00.342883Z",
     "start_time": "2023-03-30T08:17:00.341009Z"
    }
   },
   "outputs": [],
   "source": [
    "# forecast_amt = 600\n",
    "# past_shift = 43200\n",
    "# ind = 0\n",
    "\n",
    "# # make copy of orig data\n",
    "# df = pair_df.copy()\n",
    "\n",
    "# df[\"dol_past_chg\"] = df[\"dol\"].diff(past_shift)\n",
    "# df[\"gear_past_chg\"] = df[\"gear\"].diff(past_shift)\n",
    "\n",
    "# # predict\n",
    "# df[\"gear_chg\"] = -1 * df[\"gear\"].diff(-1 * forecast_amt)\n",
    "# df = df.dropna()\n",
    "\n",
    "# X = df[[\"dol_past_chg\", \"dol\", \"gear\"]]\n",
    "# y = df[\"gear_chg\"]\n",
    "\n",
    "# reg = Lasso(alpha=0.1).fit(X, y)\n",
    "# r2 = reg.score(X, y)\n",
    "\n",
    "\n",
    "# ypred = reg.predict(X)\n",
    "\n",
    "# plt.figure(figsize=(10, 4))\n",
    "# plt.plot(df.index, y, label=\"actual\")\n",
    "# plt.plot(df.index, ypred, label=\"pred\")\n",
    "# plt.title(f\"past: {past_shift}, future: {forecast_amt}, r2: {round(r2, 2)}\")\n",
    "# plt.legend()"
   ]
  },
  {
   "cell_type": "code",
   "execution_count": 13,
   "id": "5a339f38",
   "metadata": {
    "ExecuteTime": {
     "end_time": "2023-03-30T08:17:00.451090Z",
     "start_time": "2023-03-30T08:17:00.343678Z"
    }
   },
   "outputs": [
    {
     "data": {
      "text/plain": [
       "[<matplotlib.lines.Line2D at 0x17df78a90>]"
      ]
     },
     "execution_count": 13,
     "metadata": {},
     "output_type": "execute_result"
    },
    {
     "data": {
      "image/png": "[encoded data removed]",
      "text/plain": [
       "<Figure size 640x480 with 2 Axes>"
      ]
     },
     "metadata": {},
     "output_type": "display_data"
    }
   ],
   "source": [
    "plt.gca().plot(pair_df.index, pair_df[\"gear\"])\n",
    "plt.gca().twinx().plot(pair_df.index, pair_df[\"dol\"], color=\"orange\")\n"
   ]
  },
  {
   "cell_type": "code",
   "execution_count": null,
   "id": "9ba26fb5",
   "metadata": {},
   "outputs": [],
   "source": []
  },
  {
   "cell_type": "code",
   "execution_count": 14,
   "id": "45ef42e6",
   "metadata": {
    "ExecuteTime": {
     "end_time": "2023-03-30T08:17:00.457332Z",
     "start_time": "2023-03-30T08:17:00.452303Z"
    }
   },
   "outputs": [],
   "source": [
    "res_df = pd.DataFrame(data)\n",
    "grid_df = res_df.pivot(index=\"forecast\", columns=[\"past\"])[\"r2\"]"
   ]
  },
  {
   "cell_type": "code",
   "execution_count": 15,
   "id": "b8579f6e",
   "metadata": {
    "ExecuteTime": {
     "end_time": "2023-03-30T08:17:00.474398Z",
     "start_time": "2023-03-30T08:17:00.458313Z"
    }
   },
   "outputs": [],
   "source": [
    "import seaborn as sns"
   ]
  },
  {
   "cell_type": "code",
   "execution_count": null,
   "id": "61f74cad",
   "metadata": {
    "ExecuteTime": {
     "start_time": "2023-03-30T08:17:22.225Z"
    }
   },
   "outputs": [],
   "source": [
    "plt.figure(figsize=(15, 15))\n",
    "ax = plt.gca()\n",
    "sns.heatmap(grid_df.T, annot=True, ax=ax)\n",
    "\n",
    "plt.show()"
   ]
  },
  {
   "cell_type": "code",
   "execution_count": null,
   "id": "c78ba538",
   "metadata": {},
   "outputs": [],
   "source": []
  },
  {
   "cell_type": "code",
   "execution_count": 17,
   "id": "86185115",
   "metadata": {
    "ExecuteTime": {
     "end_time": "2023-03-30T08:17:02.375662Z",
     "start_time": "2023-03-30T08:17:02.256516Z"
    }
   },
   "outputs": [
    {
     "ename": "ZeroDivisionError",
     "evalue": "division by zero",
     "output_type": "error",
     "traceback": [
      "\u001b[0;31m---------------------------------------------------------------------------\u001b[0m",
      "\u001b[0;31mZeroDivisionError\u001b[0m                         Traceback (most recent call last)",
      "Cell \u001b[0;32mIn[17], line 1\u001b[0m\n\u001b[0;32m----> 1\u001b[0m \u001b[38;5;241;43m1\u001b[39;49m\u001b[38;5;241;43m/\u001b[39;49m\u001b[43m \u001b[49m\u001b[38;5;241;43m0\u001b[39;49m\n",
      "\u001b[0;31mZeroDivisionError\u001b[0m: division by zero"
     ]
    }
   ],
   "source": [
    " 1/ 0"
   ]
  },
  {
   "cell_type": "code",
   "execution_count": null,
   "id": "34d9550d",
   "metadata": {},
   "outputs": [],
   "source": []
  },
  {
   "cell_type": "markdown",
   "id": "06f47826",
   "metadata": {},
   "source": [
    "### dol / gear change histograms"
   ]
  },
  {
   "cell_type": "code",
   "execution_count": null,
   "id": "a77ffaa9",
   "metadata": {
    "ExecuteTime": {
     "end_time": "2023-03-30T08:17:02.417344Z",
     "start_time": "2023-03-30T08:17:02.417338Z"
    },
    "scrolled": false
   },
   "outputs": [],
   "source": [
    "plt.figure(figsize=(10, 5))\n",
    "\n",
    "plt.subplot(221)\n",
    "plt.hist(pair_df[\"dol\"], bins=20)\n",
    "plt.title(\"dol\")\n",
    "\n",
    "plt.subplot(222)\n",
    "plt.hist(pair_df[\"gear\"], bins=20)\n",
    "plt.title(\"gear\")\n",
    "\n",
    "plt.subplot(223)\n",
    "plt.hist(pair_df[\"dol\"].diff(1), bins=100)\n",
    "plt.title(\"dol change\")\n",
    "\n",
    "plt.subplot(224)\n",
    "plt.hist(pair_df[\"gear\"].diff(1), bins=20)\n",
    "plt.title(\"gear change\")\n",
    "\n",
    "plt.tight_layout()\n",
    "plt.show()\n",
    "\n",
    "# print stats\n",
    "print(\"dol stats\")\n",
    "display(pair_df[\"dol\"].diff(1).describe().to_frame().T)\n",
    "print(\"gear stats\")\n",
    "\n",
    "display(pair_df[\"gear\"].diff(1).describe().to_frame().T)"
   ]
  },
  {
   "cell_type": "markdown",
   "id": "2f845f5f",
   "metadata": {},
   "source": [
    "#### dol/gear change filtered\n"
   ]
  },
  {
   "cell_type": "code",
   "execution_count": null,
   "id": "711d1d36",
   "metadata": {
    "ExecuteTime": {
     "end_time": "2023-03-30T08:17:02.417899Z",
     "start_time": "2023-03-30T08:17:02.417892Z"
    }
   },
   "outputs": [],
   "source": [
    "pair_df[\"dol_change\"] = pair_df[\"dol\"].diff(1) "
   ]
  },
  {
   "cell_type": "code",
   "execution_count": null,
   "id": "bb74557c",
   "metadata": {
    "ExecuteTime": {
     "end_time": "2023-03-30T08:17:02.418563Z",
     "start_time": "2023-03-30T08:17:02.418556Z"
    }
   },
   "outputs": [],
   "source": [
    "ups = pair_df[\"dol_change\"] > 0\n",
    "downs = pair_df[\"dol_change\"] < 0\n",
    "sames = pair_df[\"dol_change\"] == 0\n",
    "\n",
    "pair_df[\"dol_sign\"] = np.sign(pair_df[\"dol_change\"])\n",
    "pair_df[\"gear_change\"] = pair_df[\"gear\"].diff(1)\n",
    "\n",
    "plt.figure(figsize=(10, 5))\n",
    "plt.subplot(311)\n",
    "plt.hist(pair_df[\"gear_change\"][ups], bins=100)\n",
    "plt.xlim(-20, 20)\n",
    "\n",
    "plt.subplot(312)\n",
    "plt.hist(pair_df[\"gear_change\"][downs], bins=100)\n",
    "plt.xlim(-20, 20)\n",
    "\n",
    "plt.subplot(313)\n",
    "plt.hist(pair_df[\"gear_change\"][sames], bins=100)\n",
    "plt.xlim(-20, 20)\n",
    "\n",
    "pair_df.groupby(\"dol_sign\")[[\"gear_change\"]].describe()"
   ]
  },
  {
   "cell_type": "code",
   "execution_count": null,
   "id": "c2326b17",
   "metadata": {},
   "outputs": [],
   "source": []
  },
  {
   "cell_type": "code",
   "execution_count": null,
   "id": "b87fc692",
   "metadata": {},
   "outputs": [],
   "source": []
  },
  {
   "cell_type": "code",
   "execution_count": null,
   "id": "91cfe5e4",
   "metadata": {},
   "outputs": [],
   "source": []
  },
  {
   "cell_type": "markdown",
   "id": "a4fc3843",
   "metadata": {},
   "source": [
    "### closer look into single event"
   ]
  },
  {
   "cell_type": "code",
   "execution_count": null,
   "id": "67cbfdf3",
   "metadata": {
    "ExecuteTime": {
     "end_time": "2023-03-30T08:17:02.419166Z",
     "start_time": "2023-03-30T08:17:02.419159Z"
    }
   },
   "outputs": [],
   "source": [
    "change = pair_df[\"dol\"].diff(25)\n",
    "special = pair_df[change.abs() > 5].copy()\n",
    "special[\"dol_change\"] = change\n",
    "display(special)"
   ]
  },
  {
   "cell_type": "code",
   "execution_count": null,
   "id": "6536f442",
   "metadata": {
    "ExecuteTime": {
     "end_time": "2023-03-30T08:17:02.419652Z",
     "start_time": "2023-03-30T08:17:02.419646Z"
    }
   },
   "outputs": [],
   "source": [
    "# all\n",
    "plt.figure(figsize=(13, 4))\n",
    "ax = plt.gca()\n",
    "ax.plot(pair_df[\"dol\"], linewidth=1)\n",
    "# ax.plot(pair_df[\"dol\"].ewm(span=200).mean(), linewidth=1, linestyle=\"--\", marker=None, color=\"green\")\n",
    "ax2 = ax.twinx()\n",
    "ax2.plot(pair_df[\"gear\"], linewidth=1, color=\"orange\")\n",
    "ax2.plot(pair_df[\"gear\"].ewm(span=500).mean(), linewidth=1, linestyle=\"--\", marker=None, color=\"red\")\n",
    "ax2.plot(pair_df[\"gear\"].ewm(span=500).mean(), linewidth=1, linestyle=\"-.\", marker=None, color=\"black\")\n",
    "\n",
    "for x in special.index:\n",
    "    if special.loc[x][\"dol_change\"] > 0:\n",
    "        color = \"green\"\n",
    "    else:\n",
    "        color = \"red\"\n",
    "    ax.axvline(x=x, color=color)\n",
    "\n",
    "plt.grid()\n",
    "plt.show()"
   ]
  },
  {
   "cell_type": "code",
   "execution_count": null,
   "id": "ee31065f",
   "metadata": {
    "ExecuteTime": {
     "end_time": "2023-03-30T08:17:02.420211Z",
     "start_time": "2023-03-30T08:17:02.420203Z"
    }
   },
   "outputs": [],
   "source": [
    "pair_df[\"gear\"]"
   ]
  },
  {
   "cell_type": "code",
   "execution_count": null,
   "id": "ca7e10c0",
   "metadata": {},
   "outputs": [],
   "source": []
  },
  {
   "cell_type": "code",
   "execution_count": null,
   "id": "653902ef",
   "metadata": {},
   "outputs": [],
   "source": []
  },
  {
   "cell_type": "code",
   "execution_count": null,
   "id": "740b387c",
   "metadata": {},
   "outputs": [],
   "source": []
  },
  {
   "cell_type": "code",
   "execution_count": null,
   "id": "d1f4639c",
   "metadata": {
    "ExecuteTime": {
     "end_time": "2023-03-30T08:17:02.420781Z",
     "start_time": "2023-03-30T08:17:02.420775Z"
    }
   },
   "outputs": [],
   "source": [
    "# closer look\n",
    "df = pair_df.iloc[20000:25000]\n",
    "# df = pair_df.iloc[5000:10000]\n",
    "# all\n",
    "plt.figure(figsize=(13, 4))\n",
    "ax = plt.gca()\n",
    "ax.plot(df[\"dol\"], linewidth=1)\n",
    "# ax.plot(pair_df[\"dol\"].ewm(span=200).mean(), linewidth=1, linestyle=\"--\", marker=None, color=\"green\")\n",
    "ax2 = ax.twinx()\n",
    "ax2.plot(df[\"gear\"], linewidth=1, color=\"orange\")\n",
    "ax2.plot(df[\"gear\"].ewm(span=100).mean(), linewidth=1, linestyle=\"--\", marker=None, color=\"red\")\n",
    "ax2.plot(df[\"gear\"].ewm(span=21).mean(), linewidth=1, linestyle=\"-.\", marker=None, color=\"black\")\n",
    "\n",
    "for x in special.index:\n",
    "    if x not in df.index:\n",
    "        continue\n",
    "    if special.loc[x][\"dol_change\"] > 0:\n",
    "        color = \"green\"\n",
    "    else:\n",
    "        color = \"red\"\n",
    "    ax.axvline(x=x, color=color)\n",
    "\n",
    "plt.grid()\n",
    "plt.show()"
   ]
  },
  {
   "cell_type": "markdown",
   "id": "98d3d2df",
   "metadata": {},
   "source": [
    "### closer look into single event"
   ]
  },
  {
   "cell_type": "code",
   "execution_count": null,
   "id": "b7666fee",
   "metadata": {
    "ExecuteTime": {
     "end_time": "2023-03-30T08:17:02.421454Z",
     "start_time": "2023-03-30T08:17:02.421449Z"
    }
   },
   "outputs": [],
   "source": [
    "pair_df[pair_df[\"dol\"].diff(1).abs() > 5]"
   ]
  },
  {
   "cell_type": "markdown",
   "id": "25246204",
   "metadata": {},
   "source": [
    "### Gear Change Moving Average"
   ]
  },
  {
   "cell_type": "code",
   "execution_count": null,
   "id": "abdafb57",
   "metadata": {
    "ExecuteTime": {
     "end_time": "2023-03-30T08:17:02.422118Z",
     "start_time": "2023-03-30T08:17:02.422112Z"
    }
   },
   "outputs": [],
   "source": [
    "lb, offset = 21200, 2000\n",
    "ub = lb + offset\n",
    "\n",
    "df = pair_df.iloc[lb:ub]\n",
    "\n",
    "diff = df[\"gear\"].diff(1)\n",
    "sma_diff = pair_df[\"gear\"].diff(1).rolling(20).mean().iloc[lb:ub]\n",
    "\n",
    "plt.figure(figsize=(10, 4))\n",
    "ax = plt.gca()\n",
    "ax.plot(diff, linewidth=1)\n",
    "ax.twinx().plot(sma_diff, linewidth=1, color=\"orange\")\n",
    "plt.show()\n",
    "\n",
    "plt.figure(figsize=(10, 4))\n",
    "ax = plt.gca()\n",
    "ax.plot(df[\"dol\"], linewidth=1)\n",
    "ax.twinx().plot(df[\"gear\"], linewidth=1, color=\"orange\")"
   ]
  },
  {
   "cell_type": "code",
   "execution_count": null,
   "id": "7bf6794b",
   "metadata": {},
   "outputs": [],
   "source": []
  },
  {
   "cell_type": "code",
   "execution_count": null,
   "id": "06ecb175",
   "metadata": {},
   "outputs": [],
   "source": []
  },
  {
   "cell_type": "markdown",
   "id": "e344c439",
   "metadata": {},
   "source": [
    "### closer look into single event"
   ]
  },
  {
   "cell_type": "code",
   "execution_count": null,
   "id": "51713d7f",
   "metadata": {
    "ExecuteTime": {
     "end_time": "2023-03-30T08:17:02.422644Z",
     "start_time": "2023-03-30T08:17:02.422638Z"
    }
   },
   "outputs": [],
   "source": [
    "diff = 500\n",
    "plt.scatter(pair_df[\"dol\"].diff(diff), -1 * pair_df[\"gear\"].diff(-diff), s=1)"
   ]
  },
  {
   "cell_type": "code",
   "execution_count": null,
   "id": "ee2130cb",
   "metadata": {},
   "outputs": [],
   "source": []
  },
  {
   "cell_type": "code",
   "execution_count": null,
   "id": "ee267313",
   "metadata": {},
   "outputs": [],
   "source": []
  },
  {
   "cell_type": "markdown",
   "id": "90592293",
   "metadata": {},
   "source": [
    "### gear trade info"
   ]
  },
  {
   "cell_type": "code",
   "execution_count": null,
   "id": "57e0bb10",
   "metadata": {},
   "outputs": [],
   "source": []
  },
  {
   "cell_type": "code",
   "execution_count": null,
   "id": "ef69b0c1",
   "metadata": {
    "ExecuteTime": {
     "end_time": "2023-03-30T08:17:02.423402Z",
     "start_time": "2023-03-30T08:17:02.423395Z"
    }
   },
   "outputs": [],
   "source": [
    "# plot single event\n",
    "\n",
    "ind = 7997\n",
    "df = pair_df.loc[ind-500:ind+500]\n",
    "\n",
    "display(pair_df.loc[ind-5:ind+5])\n",
    "\n",
    "plt.figure(figsize=(10, 5))\n",
    "\n",
    "plt.subplot(121)\n",
    "# scatter dol/gear \n",
    "plt.plot(df[\"dol\"], df[\"gear\"])\n",
    "plt.plot(df[\"dol\"], df[\"dol\"] * 20 + 38000)\n",
    "\n",
    "# plot dol/gear over time\n",
    "plt.subplot(122)\n",
    "ax = plt.gca()\n",
    "ax.plot(df[\"time\"], df[\"dol\"])\n",
    "\n",
    "ax2 = ax.twinx()\n",
    "ax2.plot(df[\"time\"], df[\"gear\"], color=\"orange\", )\n"
   ]
  },
  {
   "cell_type": "code",
   "execution_count": null,
   "id": "da7816d6",
   "metadata": {
    "ExecuteTime": {
     "end_time": "2023-03-26T00:42:04.555745Z",
     "start_time": "2023-03-26T00:42:04.541295Z"
    }
   },
   "outputs": [],
   "source": []
  },
  {
   "cell_type": "code",
   "execution_count": null,
   "id": "fc84567d",
   "metadata": {},
   "outputs": [],
   "source": []
  },
  {
   "cell_type": "code",
   "execution_count": null,
   "id": "f7b45012",
   "metadata": {},
   "outputs": [],
   "source": []
  },
  {
   "cell_type": "code",
   "execution_count": null,
   "id": "3bed254b",
   "metadata": {},
   "outputs": [],
   "source": []
  },
  {
   "cell_type": "code",
   "execution_count": null,
   "id": "7838b83a",
   "metadata": {
    "ExecuteTime": {
     "end_time": "2023-03-30T08:17:02.423896Z",
     "start_time": "2023-03-30T08:17:02.423891Z"
    }
   },
   "outputs": [],
   "source": [
    "# find good offset\n",
    "shift = 500\n",
    "\n",
    "plt.figure(figsize=(10, 4))\n",
    "\n",
    "ind = 7997\n",
    "df = pair_df.loc[ind-500:ind+1000].copy()\n",
    "df[\"dol_shift\"] = df[\"dol\"].shift(shift)\n",
    "\n",
    "# plot dol/gear over time\n",
    "ax = plt.gca()\n",
    "ax.plot(df.index, df[\"dol\"], label=\"dol\")\n",
    "ax.plot(df.index, df[\"dol_shift\"], color=\"green\", label=\"dol_shift\")\n",
    "\n",
    "ax2 = ax.twinx()\n",
    "ax2.plot(df.index, df[\"gear\"], color=\"red\", label=\"gear\")\n",
    "\n",
    "ax.legend(loc=2)\n",
    "ax2.legend(loc=1)"
   ]
  },
  {
   "cell_type": "code",
   "execution_count": null,
   "id": "a42eec20",
   "metadata": {
    "ExecuteTime": {
     "end_time": "2023-03-30T08:17:02.424512Z",
     "start_time": "2023-03-30T08:17:02.424507Z"
    }
   },
   "outputs": [],
   "source": [
    "ax = plt.gca()\n",
    "\n",
    "# ax.plot(np.arange(10000), pair_df[\"dol\"].loc[:10000-1], label=1)\n",
    "ax.plot(np.arange(10000), pair_df[\"dol\"].loc[10000:20000-1], label=2)\n",
    "# ax.plot(np.arange(10000), pair_df[\"dol\"].loc[20000:], label=3)\n",
    "\n",
    "ax2 = ax.twinx()\n",
    "\n",
    "# ax2.plot(np.arange(10000), pair_df[\"gear\"].loc[:10000-1], label=1, color=\"red\")\n",
    "ax2.plot(np.arange(10000), pair_df[\"gear\"].loc[10000:20000-1], label=2, color=\"red\", alpha=0.5)\n",
    "# ax2.plot(np.arange(10000), pair_df[\"gear\"].loc[20000:], label=3, color=\"red\")\n",
    "\n",
    "ax.legend(loc=2)\n",
    "ax2.legend(loc=1)\n"
   ]
  },
  {
   "cell_type": "code",
   "execution_count": null,
   "id": "338459db",
   "metadata": {},
   "outputs": [],
   "source": []
  },
  {
   "cell_type": "code",
   "execution_count": null,
   "id": "977452a9",
   "metadata": {
    "ExecuteTime": {
     "end_time": "2023-03-30T08:17:02.425257Z",
     "start_time": "2023-03-30T08:17:02.425251Z"
    }
   },
   "outputs": [],
   "source": [
    "def get_merged_data(x, y):\n",
    "    inds = x.index.intersection(y.index)\n",
    "    return x.loc[inds], y.loc[inds]"
   ]
  },
  {
   "cell_type": "markdown",
   "id": "c14e620d",
   "metadata": {},
   "source": [
    "## past Dol Change -> future Gear change"
   ]
  },
  {
   "cell_type": "code",
   "execution_count": null,
   "id": "7e21c4ce",
   "metadata": {
    "ExecuteTime": {
     "end_time": "2023-03-30T08:17:02.425652Z",
     "start_time": "2023-03-30T08:17:02.425647Z"
    }
   },
   "outputs": [],
   "source": [
    "diffs = [1, 3, 10, 30, 100, 300, 1000, 3000, 5000, 10000, 15000]\n",
    "\n",
    "plt.figure(figsize=(10, 10))\n",
    "\n",
    "model_data = []\n",
    "\n",
    "for index, lag in enumerate(diffs):\n",
    "    x = pair_df[\"dol\"].diff(lag).dropna()\n",
    "    y = -1 * pair_df[\"gear\"].diff(-1 * 1).dropna()\n",
    "    x, y = get_merged_data(x, y)\n",
    "\n",
    "    model = np.poly1d(np.polyfit(x, y, deg=1))\n",
    "    \n",
    "    score = round(r2_score(y, model(y)), 2)\n",
    "    \n",
    "    model_data += [{\n",
    "        \"m\": model.coef[0],\n",
    "        \"b\": model.coef[1],\n",
    "        \"r2\": score,\n",
    "    }]\n",
    "    \n",
    "    plt.subplot(6, 2, index + 1)\n",
    "    plt.scatter(x, y, s=1)\n",
    "    plt.plot(x, model(x), color=\"red\")\n",
    "    plt.title(f\"lag {lag}, m:{round(model.coef[0], 2)}, r2:{score}\")\n",
    "    \n",
    "plt.tight_layout()\n",
    "plt.show()\n",
    "\n",
    "model_df = pd.DataFrame(model_data)"
   ]
  },
  {
   "cell_type": "markdown",
   "id": "e7758edd",
   "metadata": {},
   "source": [
    "### Lin Reg: dol_cur, gear_cur -> gear_next"
   ]
  },
  {
   "cell_type": "code",
   "execution_count": null,
   "id": "589720c5",
   "metadata": {
    "ExecuteTime": {
     "end_time": "2023-03-30T08:17:02.426346Z",
     "start_time": "2023-03-30T08:17:02.426339Z"
    }
   },
   "outputs": [],
   "source": [
    "from sklearn.linear_model import LinearRegression"
   ]
  },
  {
   "cell_type": "code",
   "execution_count": null,
   "id": "91732e3a",
   "metadata": {
    "ExecuteTime": {
     "end_time": "2023-03-30T08:17:02.426802Z",
     "start_time": "2023-03-30T08:17:02.426797Z"
    }
   },
   "outputs": [],
   "source": [
    "pair_df"
   ]
  },
  {
   "cell_type": "code",
   "execution_count": null,
   "id": "fd405d88",
   "metadata": {},
   "outputs": [],
   "source": []
  },
  {
   "cell_type": "code",
   "execution_count": null,
   "id": "18c9d428",
   "metadata": {
    "ExecuteTime": {
     "end_time": "2023-03-30T08:17:02.427221Z",
     "start_time": "2023-03-30T08:17:02.427215Z"
    },
    "scrolled": false
   },
   "outputs": [],
   "source": [
    "# use current dolphin price and current gear price to predict next gear price\n",
    "\n",
    "# try_turns = [1, 3, 10, 30, 100, 300, 500]\n",
    "try_turns = [1000, 1500, 2000, 3000, 5000, 10000, 15000, 20000, 25000]\n",
    "try_turns = np.arange(1000, 30000, 100)\n",
    "\n",
    "plt.figure(figsize=(10, 10))\n",
    "\n",
    "models = []\n",
    "\n",
    "for ind, forecast_amt in enumerate(try_turns):\n",
    "    pair_df[\"gear_next\"] = -1 * pair_df[\"gear\"].diff(-1 * forecast_amt)\n",
    "\n",
    "    # only keep non-nan points\n",
    "    df = pair_df.dropna()\n",
    "    X = df[[\"gear\", \"dol\"]]\n",
    "    y = df[\"gear_next\"]\n",
    "\n",
    "    # fit the model and print results\n",
    "    reg = LinearRegression().fit(X, y)\n",
    "    print(\"model\", forecast_amt, reg.coef_, reg.intercept_)\n",
    "    print(\"r2\", reg.score(X, y))\n",
    "    \n",
    "    models += [{\n",
    "        \"shift\": forecast_amt,\n",
    "        \"w1\": reg.coef_[0],\n",
    "        \"w2\": reg.coef_[1],\n",
    "        \"b\": reg.intercept_,\n",
    "        \"r2\": reg.score(X, y),\n",
    "    }]\n",
    "    \n",
    "#     plt.subplot(10, 3, ind+1)\n",
    "#     plt.plot(y)\n",
    "#     plt.plot(reg.predict(X))\n",
    "    \n",
    "#     plt.title(f\"model {forecast_amt}\")\n",
    "\n",
    "# plt.tight_layout()\n",
    "# plt.show()\n"
   ]
  },
  {
   "cell_type": "code",
   "execution_count": null,
   "id": "38f84edf",
   "metadata": {
    "ExecuteTime": {
     "end_time": "2023-03-30T08:17:02.427735Z",
     "start_time": "2023-03-30T08:17:02.427729Z"
    }
   },
   "outputs": [],
   "source": [
    "model_df = pd.DataFrame(models)\n",
    "\n",
    "plt.plot(model_df[\"shift\"], model_df[\"r2\"])"
   ]
  },
  {
   "cell_type": "code",
   "execution_count": null,
   "id": "696082d4",
   "metadata": {},
   "outputs": [],
   "source": []
  },
  {
   "cell_type": "code",
   "execution_count": null,
   "id": "cf8b9288",
   "metadata": {},
   "outputs": [],
   "source": []
  },
  {
   "cell_type": "code",
   "execution_count": null,
   "id": "fe648f0f",
   "metadata": {
    "ExecuteTime": {
     "end_time": "2023-03-30T08:17:02.428285Z",
     "start_time": "2023-03-30T08:17:02.428279Z"
    }
   },
   "outputs": [],
   "source": [
    "# make results df\n",
    "res_df = pd.DataFrame({\n",
    "    \"pred\": reg.predict(X),\n",
    "    \"y\": y,\n",
    "})\n",
    "\n",
    "res_df[\"error\"] = res_df[\"y\"] - res_df[\"pred\"]\n",
    "\n",
    "abs_l1_err = np.mean(res_df[\"error\"].abs())\n",
    "mse = np.mean(res_df[\"error\"] ** 2)\n",
    "print(\"l1_err\", abs_l1_err)\n",
    "print(\"mse\", mse)\n",
    "\n",
    "# plot results\n",
    "plt.scatter(res_df[\"y\"], res_df[\"pred\"], s=1)\n"
   ]
  },
  {
   "cell_type": "code",
   "execution_count": null,
   "id": "e36b568d",
   "metadata": {
    "ExecuteTime": {
     "end_time": "2023-03-30T08:17:02.428871Z",
     "start_time": "2023-03-30T08:17:02.428866Z"
    }
   },
   "outputs": [],
   "source": [
    "plt.hist(res_df[\"error\"], bins=20)\n",
    "plt.show()"
   ]
  },
  {
   "cell_type": "code",
   "execution_count": null,
   "id": "d033cbcc",
   "metadata": {},
   "outputs": [],
   "source": []
  },
  {
   "cell_type": "code",
   "execution_count": null,
   "id": "34accc55",
   "metadata": {
    "ExecuteTime": {
     "end_time": "2023-03-30T08:17:02.429451Z",
     "start_time": "2023-03-30T08:17:02.429436Z"
    }
   },
   "outputs": [],
   "source": [
    "check_stationary(error)"
   ]
  },
  {
   "cell_type": "markdown",
   "id": "6c835943",
   "metadata": {},
   "source": [
    "### time lagged cross correlation"
   ]
  },
  {
   "cell_type": "code",
   "execution_count": null,
   "id": "8358527e",
   "metadata": {
    "ExecuteTime": {
     "end_time": "2023-03-30T08:17:02.429961Z",
     "start_time": "2023-03-30T08:17:02.429955Z"
    }
   },
   "outputs": [],
   "source": [
    "plt.figure(figsize=(15, 5))\n",
    "\n",
    "ax = plt.gca()\n",
    "ax.plot(pair_df[\"gear\"], label=\"gear\", color=\"black\")\n",
    "ax2 = ax.twinx()\n",
    "ax2.plot(pair_df[\"dol\"], label=\"dol\")\n",
    "ax2.plot(pair_df[\"dol\"].shift(500), label=\"dol shift\")\n",
    "\n",
    "ax.legend(loc=2)\n",
    "ax2.legend(loc=1)\n"
   ]
  },
  {
   "cell_type": "code",
   "execution_count": null,
   "id": "3424e579",
   "metadata": {
    "ExecuteTime": {
     "end_time": "2023-03-30T08:17:02.430482Z",
     "start_time": "2023-03-30T08:17:02.430477Z"
    }
   },
   "outputs": [],
   "source": [
    "corrs = []\n",
    "\n",
    "for i in range(0, 30000, 100):\n",
    "    corr = pair_df[\"dol\"].shift(i).corr(pair_df[\"gear\"])\n",
    "    corrs += [{\n",
    "        \"lag\": i,\n",
    "        \"corr\": corr,\n",
    "    }]\n",
    "    \n",
    "df = pd.DataFrame(corrs)\n"
   ]
  },
  {
   "cell_type": "code",
   "execution_count": null,
   "id": "6e4ca9a8",
   "metadata": {
    "ExecuteTime": {
     "end_time": "2023-03-30T08:17:02.431197Z",
     "start_time": "2023-03-30T08:17:02.431188Z"
    }
   },
   "outputs": [],
   "source": [
    "plt.plot(df[\"lag\"], df[\"corr\"])\n",
    "plt.ylim(0, 1)"
   ]
  },
  {
   "cell_type": "code",
   "execution_count": null,
   "id": "74c9d679",
   "metadata": {
    "ExecuteTime": {
     "end_time": "2023-03-30T08:17:02.431760Z",
     "start_time": "2023-03-30T08:17:02.431754Z"
    }
   },
   "outputs": [],
   "source": [
    "plt.plot(df[\"corr\"])"
   ]
  },
  {
   "cell_type": "code",
   "execution_count": null,
   "id": "f9d930d9",
   "metadata": {
    "ExecuteTime": {
     "end_time": "2023-03-30T08:17:02.432140Z",
     "start_time": "2023-03-30T08:17:02.432135Z"
    }
   },
   "outputs": [],
   "source": [
    "diffs = pair_df.iloc[5000:10000][\"gear\"].diff(1)\n",
    "\n",
    "data = []\n",
    "\n",
    "chunk_size = 20\n",
    "for i in range(len(pair_df) // chunk_size):\n",
    "    lb = i * chunk_size\n",
    "    ub = lb + chunk_size\n",
    "    \n",
    "\n",
    "    data += [{\"diff10\": np.mean(diffs.loc[lb:ub])}]"
   ]
  },
  {
   "cell_type": "code",
   "execution_count": null,
   "id": "218498f7",
   "metadata": {
    "ExecuteTime": {
     "end_time": "2023-03-30T08:17:02.432836Z",
     "start_time": "2023-03-30T08:17:02.432827Z"
    }
   },
   "outputs": [],
   "source": [
    "models = []\n",
    "chunk_size = 100\n",
    "\n",
    "for i in range(len(pair_df) - chunk_size):\n",
    "    lb = i\n",
    "    ub = i + chunk_size\n",
    "    \n",
    "    df = pair_df[\"gear\"].iloc[lb:ub]\n",
    "    \n",
    "    model = np.poly1d(np.polyfit(np.arange(len(df)), df, deg=1))\n",
    "    models += [{\n",
    "        \"m\": model.coef[0],\n",
    "        \"b\": model.coef[1],\n",
    "    }]\n",
    "    "
   ]
  },
  {
   "cell_type": "code",
   "execution_count": null,
   "id": "60e8da6c",
   "metadata": {
    "ExecuteTime": {
     "end_time": "2023-03-30T08:17:02.433387Z",
     "start_time": "2023-03-30T08:17:02.433382Z"
    }
   },
   "outputs": [],
   "source": [
    "model_df = pd.DataFrame(models)"
   ]
  },
  {
   "cell_type": "code",
   "execution_count": null,
   "id": "860a07de",
   "metadata": {
    "ExecuteTime": {
     "end_time": "2023-03-30T08:17:02.433867Z",
     "start_time": "2023-03-30T08:17:02.433861Z"
    }
   },
   "outputs": [],
   "source": [
    "plt.plot(model_df[\"m\"].iloc[6500:7500])"
   ]
  },
  {
   "cell_type": "code",
   "execution_count": null,
   "id": "d15cdb5f",
   "metadata": {
    "ExecuteTime": {
     "end_time": "2023-03-30T08:17:02.434564Z",
     "start_time": "2023-03-30T08:17:02.434554Z"
    }
   },
   "outputs": [],
   "source": [
    "plt.hist(pd.DataFrame(data), bins=21)"
   ]
  },
  {
   "cell_type": "code",
   "execution_count": null,
   "id": "b4db2a69",
   "metadata": {},
   "outputs": [],
   "source": []
  },
  {
   "cell_type": "code",
   "execution_count": null,
   "id": "297cb56e",
   "metadata": {},
   "outputs": [],
   "source": []
  },
  {
   "cell_type": "code",
   "execution_count": null,
   "id": "502e2711",
   "metadata": {},
   "outputs": [],
   "source": []
  },
  {
   "cell_type": "code",
   "execution_count": null,
   "id": "4cf5fd3a",
   "metadata": {
    "ExecuteTime": {
     "end_time": "2023-03-30T08:17:02.435222Z",
     "start_time": "2023-03-30T08:17:02.435217Z"
    }
   },
   "outputs": [],
   "source": [
    "diff10 = pair_df[\"gear\"].diff(10)\n",
    "\n",
    "plt.hist(diff10, bins=20)"
   ]
  },
  {
   "cell_type": "code",
   "execution_count": null,
   "id": "12837eaa",
   "metadata": {
    "ExecuteTime": {
     "end_time": "2023-03-30T08:17:02.435818Z",
     "start_time": "2023-03-30T08:17:02.435811Z"
    }
   },
   "outputs": [],
   "source": [
    "plt.figure(figsize=(15, 5))\n",
    "plt.plot(diff10.iloc[1500:2500])\n",
    "plt.plot(diff10.iloc[1500:2500].ewm(span=20).mean())\n",
    "plt.axhline()"
   ]
  },
  {
   "cell_type": "code",
   "execution_count": null,
   "id": "df4583f2",
   "metadata": {
    "ExecuteTime": {
     "end_time": "2023-03-30T08:17:02.436290Z",
     "start_time": "2023-03-30T08:17:02.436285Z"
    }
   },
   "outputs": [],
   "source": [
    "diff10.hist(bins=20)"
   ]
  },
  {
   "cell_type": "code",
   "execution_count": null,
   "id": "902e69f6",
   "metadata": {},
   "outputs": [],
   "source": []
  },
  {
   "cell_type": "code",
   "execution_count": null,
   "id": "6f319bd8",
   "metadata": {},
   "outputs": [],
   "source": []
  },
  {
   "cell_type": "code",
   "execution_count": null,
   "id": "003ef524",
   "metadata": {
    "ExecuteTime": {
     "end_time": "2023-03-30T08:17:02.436851Z",
     "start_time": "2023-03-30T08:17:02.436845Z"
    }
   },
   "outputs": [],
   "source": [
    "diffs = 500\n",
    "\n",
    "X = pair_df[[\"dol\"]].diff(500).dropna()\n",
    "y = -1 * pair_df[\"gear\"].diff(-1 * 500).dropna()\n",
    "\n",
    "X, y = get_merged_data(X, y)\n",
    "\n",
    "reg = LinearRegression().fit(X, y)"
   ]
  },
  {
   "cell_type": "code",
   "execution_count": null,
   "id": "06d5f950",
   "metadata": {
    "ExecuteTime": {
     "end_time": "2023-03-30T08:17:02.437573Z",
     "start_time": "2023-03-30T08:17:02.437568Z"
    }
   },
   "outputs": [],
   "source": [
    "reg.score(X, y)"
   ]
  },
  {
   "cell_type": "code",
   "execution_count": null,
   "id": "691f0dcf",
   "metadata": {
    "ExecuteTime": {
     "end_time": "2023-03-30T08:17:02.438091Z",
     "start_time": "2023-03-30T08:17:02.438086Z"
    }
   },
   "outputs": [],
   "source": [
    "plt.scatter(X, y, s=1)"
   ]
  },
  {
   "cell_type": "code",
   "execution_count": null,
   "id": "92a91ec9",
   "metadata": {},
   "outputs": [],
   "source": []
  },
  {
   "cell_type": "markdown",
   "id": "5d38705c",
   "metadata": {},
   "source": [
    "## berries"
   ]
  },
  {
   "cell_type": "code",
   "execution_count": null,
   "id": "cac05535",
   "metadata": {
    "ExecuteTime": {
     "end_time": "2023-03-30T08:17:02.438839Z",
     "start_time": "2023-03-30T08:17:02.438833Z"
    }
   },
   "outputs": [],
   "source": [
    "berry_df = get_symbol_prices(\"BERRIES\", _day_range)\n",
    "trade_df = get_symbol_trades(\"BERRIES\", _day_range)\n",
    "quote_df = get_whale_quotes(berry_df)\n",
    "\n",
    "trade_df = trade_df.merge(quote_df[[\"mid_price\", \"time\"]], on=\"time\")\n"
   ]
  },
  {
   "cell_type": "code",
   "execution_count": null,
   "id": "66e4217e",
   "metadata": {
    "ExecuteTime": {
     "end_time": "2023-03-30T08:17:02.439245Z",
     "start_time": "2023-03-30T08:17:02.439239Z"
    }
   },
   "outputs": [],
   "source": [
    "trade_df[\"sell_edge\"] = trade_df[\"price\"] - trade_df[\"mid_price\"]\n",
    "\n",
    "berry_df[\"take_buy_edge\"] = berry_df[\"buy_price_1\"] - berry_df[\"mid_price\"]\n",
    "berry_df[\"take_sell_edge\"] = berry_df[\"sell_price_1\"] - berry_df[\"mid_price\"]\n"
   ]
  },
  {
   "cell_type": "code",
   "execution_count": null,
   "id": "491102c7",
   "metadata": {
    "ExecuteTime": {
     "end_time": "2023-03-30T08:17:02.439875Z",
     "start_time": "2023-03-30T08:17:02.439869Z"
    }
   },
   "outputs": [],
   "source": [
    "trade_df[trade_df[\"sell_edge\"] <0]"
   ]
  },
  {
   "cell_type": "code",
   "execution_count": null,
   "id": "1cd59a3e",
   "metadata": {
    "ExecuteTime": {
     "end_time": "2023-03-30T08:17:02.440639Z",
     "start_time": "2023-03-30T08:17:02.440633Z"
    }
   },
   "outputs": [],
   "source": [
    "plt.hist(trade_df[\"sell_edge\"], bins=20)"
   ]
  },
  {
   "cell_type": "code",
   "execution_count": null,
   "id": "387ae414",
   "metadata": {
    "ExecuteTime": {
     "end_time": "2023-03-30T08:17:02.441073Z",
     "start_time": "2023-03-30T08:17:02.441067Z"
    }
   },
   "outputs": [],
   "source": [
    "plt.hist(berry_df[\"take_buy_edge\"])\n",
    "plt.show()\n",
    "\n",
    "plt.hist(berry_df[\"take_sell_edge\"])\n",
    "plt.show()"
   ]
  },
  {
   "cell_type": "code",
   "execution_count": null,
   "id": "17deb3e0",
   "metadata": {
    "ExecuteTime": {
     "end_time": "2023-03-30T08:17:02.441651Z",
     "start_time": "2023-03-30T08:17:02.441646Z"
    }
   },
   "outputs": [],
   "source": [
    "prices = berry_df[\"mid_price\"]\n",
    "\n",
    "prices = pd.DataFrame({\n",
    "    \"day1\": prices.iloc[:10000].values, \n",
    "    \"day2\": prices.iloc[10000:20000].values, \n",
    "    \"day3\": prices.iloc[20000:].values, \n",
    "})\n",
    "\n",
    "prices[\"cycle_time\"] = np.arange(0, 1, 1/len(prices))\n",
    "prices[\"avg\"] = prices[[\"day1\", \"day2\", \"day3\"]].mean(axis=1)\n",
    "prices[\"symavg\"] = (prices[\"avg\"] + prices[\"avg\"].to_numpy()[::-1]) / 2\n",
    "\n",
    "plt.plot(prices[\"day1\"])\n",
    "plt.plot(prices[\"day2\"])\n",
    "plt.plot(prices[\"day3\"])\n",
    "plt.plot(prices[\"avg\"], label=\"avg\")\n",
    "plt.plot(prices[\"symavg\"], label=\"symavg\")\n",
    "\n",
    "plt.legend()\n"
   ]
  },
  {
   "cell_type": "code",
   "execution_count": null,
   "id": "4e16ac50",
   "metadata": {
    "ExecuteTime": {
     "end_time": "2023-03-30T08:17:02.442138Z",
     "start_time": "2023-03-30T08:17:02.442132Z"
    }
   },
   "outputs": [],
   "source": [
    "from scipy.optimize import curve_fit"
   ]
  },
  {
   "cell_type": "code",
   "execution_count": null,
   "id": "9002ecc2",
   "metadata": {
    "ExecuteTime": {
     "end_time": "2023-03-30T08:17:02.442641Z",
     "start_time": "2023-03-30T08:17:02.442635Z"
    }
   },
   "outputs": [],
   "source": [
    "def exp(x, a, b, c, d):\n",
    "    return a + b * np.exp(c * x + d)\n",
    "\n",
    "def inv2(x, a, b, c):\n",
    "    return a / (x + b) ** 2 + c\n",
    "\n",
    "df = prices.iloc[:5000]\n",
    "\n",
    "X = df[\"cycle_time\"]\n",
    "y = df[\"symavg\"].rolling(1).mean().bfill().ffill()\n",
    "\n",
    "popt1, pcov = curve_fit(exp, X, y, [1, 1, 1, 1])\n",
    "fit_fn1 = lambda x : exp(x, *popt1)\n",
    "print(popt1)\n",
    "\n",
    "# popt2, pcov = curve_fit(inv2, X, y, [1, 1, 1])\n",
    "# fit_fn2 = lambda x : inv2(x, *popt2)\n",
    "# print(popt2)\n",
    "\n",
    "plt.scatter(X, y, s=1)\n",
    "plt.plot(X, fit_fn1(X), color=\"red\", label=\"exp\")\n",
    "plt.plot(X, fit_fn2(X), color=\"black\", label=\"inv2\")\n",
    "plt.legend()"
   ]
  },
  {
   "cell_type": "code",
   "execution_count": null,
   "id": "e4f8b949",
   "metadata": {
    "ExecuteTime": {
     "end_time": "2023-03-30T08:17:02.443148Z",
     "start_time": "2023-03-30T08:17:02.443141Z"
    }
   },
   "outputs": [],
   "source": [
    "prices[prices[\"cycle_time\"] == 0.3335]"
   ]
  },
  {
   "cell_type": "code",
   "execution_count": null,
   "id": "f7f2d5a8",
   "metadata": {
    "ExecuteTime": {
     "end_time": "2023-03-30T08:17:02.443816Z",
     "start_time": "2023-03-30T08:17:02.443810Z"
    }
   },
   "outputs": [],
   "source": [
    "prices[prices[\"cycle_time\"] == 0.5]"
   ]
  },
  {
   "cell_type": "code",
   "execution_count": null,
   "id": "635d9135",
   "metadata": {},
   "outputs": [],
   "source": []
  },
  {
   "cell_type": "code",
   "execution_count": null,
   "id": "8d5c19bd",
   "metadata": {
    "ExecuteTime": {
     "end_time": "2023-03-30T08:17:02.444427Z",
     "start_time": "2023-03-30T08:17:02.444421Z"
    }
   },
   "outputs": [],
   "source": [
    "model"
   ]
  },
  {
   "cell_type": "code",
   "execution_count": null,
   "id": "391ca661",
   "metadata": {},
   "outputs": [],
   "source": []
  },
  {
   "cell_type": "code",
   "execution_count": null,
   "id": "0b1c76e1",
   "metadata": {},
   "outputs": [],
   "source": []
  },
  {
   "cell_type": "code",
   "execution_count": null,
   "id": "f9b9ad0c",
   "metadata": {
    "ExecuteTime": {
     "end_time": "2023-03-26T07:18:38.076230Z",
     "start_time": "2023-03-26T07:18:38.063402Z"
    }
   },
   "outputs": [],
   "source": []
  },
  {
   "cell_type": "code",
   "execution_count": null,
   "id": "db97fff2",
   "metadata": {
    "ExecuteTime": {
     "end_time": "2023-03-30T08:17:02.444933Z",
     "start_time": "2023-03-30T08:17:02.444927Z"
    }
   },
   "outputs": [],
   "source": [
    "prices"
   ]
  },
  {
   "cell_type": "code",
   "execution_count": null,
   "id": "197a98ab",
   "metadata": {},
   "outputs": [],
   "source": []
  },
  {
   "cell_type": "code",
   "execution_count": null,
   "id": "902bdd5f",
   "metadata": {
    "ExecuteTime": {
     "end_time": "2023-03-30T08:17:02.445801Z",
     "start_time": "2023-03-30T08:17:02.445791Z"
    }
   },
   "outputs": [],
   "source": [
    "plt.hist(trade_df[\"sell_edge\"])"
   ]
  },
  {
   "cell_type": "code",
   "execution_count": null,
   "id": "a062adfe",
   "metadata": {},
   "outputs": [],
   "source": []
  },
  {
   "cell_type": "code",
   "execution_count": null,
   "id": "31307bfc",
   "metadata": {},
   "outputs": [],
   "source": []
  },
  {
   "cell_type": "code",
   "execution_count": null,
   "id": "0a0e3a2f",
   "metadata": {},
   "outputs": [],
   "source": []
  },
  {
   "cell_type": "code",
   "execution_count": null,
   "id": "0cd012f2",
   "metadata": {},
   "outputs": [],
   "source": []
  },
  {
   "cell_type": "code",
   "execution_count": null,
   "id": "7a71f52f",
   "metadata": {},
   "outputs": [],
   "source": []
  }
 ],
 "metadata": {
  "kernelspec": {
   "display_name": "Python 3 (ipykernel)",
   "language": "python",
   "name": "python3"
  },
  "language_info": {
   "codemirror_mode": {
    "name": "ipython",
    "version": 3
   },
   "file_extension": ".py",
   "mimetype": "text/x-python",
   "name": "python",
   "nbconvert_exporter": "python",
   "pygments_lexer": "ipython3",
   "version": "3.9.16"
  },
  "toc": {
   "base_numbering": 1,
   "nav_menu": {},
   "number_sections": true,
   "sideBar": true,
   "skip_h1_title": false,
   "title_cell": "Table of Contents",
   "title_sidebar": "Contents",
   "toc_cell": false,
   "toc_position": {
    "height": "calc(100% - 180px)",
    "left": "10px",
    "top": "150px",
    "width": "265.391px"
   },
   "toc_section_display": true,
   "toc_window_display": true
  },
  "varInspector": {
   "cols": {
    "lenName": 16,
    "lenType": 16,
    "lenVar": 40
   },
   "kernels_config": {
    "python": {
     "delete_cmd_postfix": "",
     "delete_cmd_prefix": "del ",
     "library": "var_list.py",
     "varRefreshCmd": "print(var_dic_list())"
    },
    "r": {
     "delete_cmd_postfix": ") ",
     "delete_cmd_prefix": "rm(",
     "library": "var_list.r",
     "varRefreshCmd": "cat(var_dic_list()) "
    }
   },
   "types_to_exclude": [
    "module",
    "function",
    "builtin_function_or_method",
    "instance",
    "_Feature"
   ],
   "window_display": false
  }
 },
 "nbformat": 4,
 "nbformat_minor": 5
}
