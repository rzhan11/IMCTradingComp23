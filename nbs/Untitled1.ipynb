{
 "cells": [
  {
   "cell_type": "code",
   "execution_count": 2,
   "id": "211477c6",
   "metadata": {
    "ExecuteTime": {
     "end_time": "2023-03-27T15:22:06.966621Z",
     "start_time": "2023-03-27T15:22:06.537211Z"
    }
   },
   "outputs": [],
   "source": [
    "import numpy as np\n",
    "import pandas as pd\n",
    "import matplotlib.pyplot as plt"
   ]
  },
  {
   "cell_type": "code",
   "execution_count": null,
   "id": "2e70f85f",
   "metadata": {},
   "outputs": [],
   "source": []
  },
  {
   "cell_type": "code",
   "execution_count": 25,
   "id": "8190df15",
   "metadata": {
    "ExecuteTime": {
     "end_time": "2023-03-27T15:44:09.438770Z",
     "start_time": "2023-03-27T15:44:09.434272Z"
    }
   },
   "outputs": [],
   "source": [
    "def fees(x):\n",
    "    return 1.2 * x\n",
    "\n",
    "assert abs(fees(1) / 100 * 7500 - 90) < 1e-5\n",
    "assert abs(fees(2) / 100 * 15000 - 360) < 1e-5\n",
    "assert abs(fees(3) / 100 * 22500 - 810) < 1e-5\n",
    "assert abs(fees(10) / 100 * 75000 - 9000) < 1e-5\n"
   ]
  },
  {
   "cell_type": "code",
   "execution_count": null,
   "id": "5533fd45",
   "metadata": {},
   "outputs": [],
   "source": []
  },
  {
   "cell_type": "markdown",
   "id": "d8c62e13",
   "metadata": {},
   "source": [
    "### news\n",
    "- ice chandeliers - up 1/5 - +10%\n",
    "    - rumors bout it being more popular\n",
    "    - it is the headline though\n",
    "- crispy cones - ??? -\n",
    "    - were trading at 100 snow / cone\n",
    "    - selling 500 stock for 40k (80 per stock)\n",
    "    - avg ice cream margins is ~25%\n",
    "        - (thermal underwear) - less people want ice cream if its cold...\n",
    "            - this is only short term tho?\n",
    "- icicle pillars - down 4/5 - down 25%\n",
    "    - ALL existing contracts are suspended\n",
    "    - \n",
    "- fishing rods - down 3/5 - down 15%\n",
    "    - restrict amt of fishing\n",
    "    - substantial tax per rod\n",
    "- thermal underwear - up 3/5 - up 25%, up 10%\n",
    "    - very high demand, in short supply\n",
    "    - short term demand increase though?\n",
    "- lightbox subscriptions - up 3/5, down 1/5? - up 28%, up 20%?\n",
    "    - sales is up 32%, retention is down 3%\n",
    "    - todo: how much should price change after a 32% increase?\n",
    "        - proportional? - 28% increase\n",
    "- iced tea - down 5/5 - down 50-75%\n",
    "    - tea is fatal\n",
    "    - down 50%+?\n",
    "        - 50% decrease?\n",
    "- iced cotton candy - down 3/5 - down 30%\n",
    "    - demand plummetted\n",
    "    - product is having quality issues\n",
    "        - \n",
    "- penguin tuxedos - up 0.5/5 - neutral\n",
    "    - person says that people should wear tuxedos\n",
    "    - not that compelling since they have clear conflict of interest\n",
    "   "
   ]
  },
  {
   "cell_type": "code",
   "execution_count": 13,
   "id": "9c24ef72",
   "metadata": {
    "ExecuteTime": {
     "end_time": "2023-03-27T15:41:03.341551Z",
     "start_time": "2023-03-27T15:41:03.337521Z"
    }
   },
   "outputs": [
    {
     "data": {
      "text/plain": [
       "0.012"
      ]
     },
     "execution_count": 13,
     "metadata": {},
     "output_type": "execute_result"
    }
   ],
   "source": [
    "fees(1)"
   ]
  },
  {
   "cell_type": "code",
   "execution_count": 11,
   "id": "b946b1aa",
   "metadata": {
    "ExecuteTime": {
     "end_time": "2023-03-27T15:39:02.616108Z",
     "start_time": "2023-03-27T15:39:02.342704Z"
    }
   },
   "outputs": [
    {
     "data": {
      "image/png": "[encoded data removed]",
      "text/plain": [
       "<Figure size 640x480 with 1 Axes>"
      ]
     },
     "metadata": {},
     "output_type": "display_data"
    }
   ],
   "source": [
    "X = np.arange(0, 100, 1)\n",
    "y = fees(X)\n",
    "\n",
    "plt.plot(X, y)\n",
    "plt.grid()"
   ]
  },
  {
   "cell_type": "code",
   "execution_count": null,
   "id": "812b10df",
   "metadata": {},
   "outputs": [],
   "source": []
  },
  {
   "cell_type": "code",
   "execution_count": null,
   "id": "9a6a2ca8",
   "metadata": {},
   "outputs": [],
   "source": []
  },
  {
   "cell_type": "code",
   "execution_count": null,
   "id": "c0bcad1f",
   "metadata": {},
   "outputs": [],
   "source": []
  },
  {
   "cell_type": "code",
   "execution_count": null,
   "id": "19f41775",
   "metadata": {},
   "outputs": [],
   "source": []
  }
 ],
 "metadata": {
  "kernelspec": {
   "display_name": "Python 3 (ipykernel)",
   "language": "python",
   "name": "python3"
  },
  "language_info": {
   "codemirror_mode": {
    "name": "ipython",
    "version": 3
   },
   "file_extension": ".py",
   "mimetype": "text/x-python",
   "name": "python",
   "nbconvert_exporter": "python",
   "pygments_lexer": "ipython3",
   "version": "3.9.16"
  },
  "toc": {
   "base_numbering": 1,
   "nav_menu": {},
   "number_sections": true,
   "sideBar": true,
   "skip_h1_title": false,
   "title_cell": "Table of Contents",
   "title_sidebar": "Contents",
   "toc_cell": false,
   "toc_position": {},
   "toc_section_display": true,
   "toc_window_display": false
  },
  "varInspector": {
   "cols": {
    "lenName": 16,
    "lenType": 16,
    "lenVar": 40
   },
   "kernels_config": {
    "python": {
     "delete_cmd_postfix": "",
     "delete_cmd_prefix": "del ",
     "library": "var_list.py",
     "varRefreshCmd": "print(var_dic_list())"
    },
    "r": {
     "delete_cmd_postfix": ") ",
     "delete_cmd_prefix": "rm(",
     "library": "var_list.r",
     "varRefreshCmd": "cat(var_dic_list()) "
    }
   },
   "types_to_exclude": [
    "module",
    "function",
    "builtin_function_or_method",
    "instance",
    "_Feature"
   ],
   "window_display": false
  }
 },
 "nbformat": 4,
 "nbformat_minor": 5
}
