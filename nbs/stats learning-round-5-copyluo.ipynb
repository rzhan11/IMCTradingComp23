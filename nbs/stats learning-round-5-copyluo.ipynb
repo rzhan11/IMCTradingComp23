{
 "cells": [
  {
   "cell_type": "markdown",
   "id": "4677ba29",
   "metadata": {},
   "source": [
    "# Desc\n",
    "\n",
    "- using this file to practice/learn basic stats\n",
    "- also want to learn standard time series analysis techniques"
   ]
  },
  {
   "cell_type": "code",
   "execution_count": 1,
   "id": "302e2611",
   "metadata": {
    "ExecuteTime": {
     "end_time": "2023-03-30T06:06:24.230010Z",
     "start_time": "2023-03-30T06:06:24.183199Z"
    }
   },
   "outputs": [
    {
     "data": {
      "text/html": [
       "<style>.container { width:75% !important; }</style>"
      ],
      "text/plain": [
       "<IPython.core.display.HTML object>"
      ]
     },
     "metadata": {},
     "output_type": "display_data"
    }
   ],
   "source": [
    "from IPython.display import display, HTML\n",
    "import ipywidgets as widgets\n",
    "from ipywidgets import interact\n",
    "display(HTML(\"<style>.container { width:75% !important; }</style>\"))"
   ]
  },
  {
   "cell_type": "code",
   "execution_count": 2,
   "id": "efb2a20f",
   "metadata": {
    "ExecuteTime": {
     "end_time": "2023-03-30T06:06:25.033363Z",
     "start_time": "2023-03-30T06:06:24.598430Z"
    }
   },
   "outputs": [],
   "source": [
    "import numpy as np\n",
    "import pandas as pd\n",
    "import matplotlib.pyplot as plt"
   ]
  },
  {
   "cell_type": "code",
   "execution_count": 3,
   "id": "8d2ff6a8",
   "metadata": {
    "ExecuteTime": {
     "end_time": "2023-03-30T06:06:25.299433Z",
     "start_time": "2023-03-30T06:06:25.048949Z"
    }
   },
   "outputs": [],
   "source": [
    "import statsmodels\n",
    "from statsmodels.tsa.stattools import adfuller\n",
    "from statsmodels.graphics.tsaplots import plot_acf\n",
    "from statsmodels.graphics.tsaplots import plot_pacf\n",
    "from statsmodels.tsa.ar_model import AutoReg\n",
    "\n",
    "from sklearn.metrics import r2_score"
   ]
  },
  {
   "cell_type": "code",
   "execution_count": 4,
   "id": "3a794c90",
   "metadata": {
    "ExecuteTime": {
     "end_time": "2023-03-30T06:06:25.817208Z",
     "start_time": "2023-03-30T06:06:25.808132Z"
    }
   },
   "outputs": [],
   "source": [
    "\n",
    "def check_stationary(series):\n",
    "    # Copied from https://machinelearningmastery.com/time-series-data-stationary-python/\n",
    "\n",
    "    result = adfuller(series.values)\n",
    "\n",
    "    print('ADF Statistic: %f' % result[0])\n",
    "    print('p-value: %f' % result[1])\n",
    "    print('Critical Values:')\n",
    "    for key, value in result[4].items():\n",
    "        print('\\t%s: %.3f' % (key, value))\n",
    "\n",
    "    if (result[1] <= 0.01) & (result[4]['5%'] > result[0]):\n",
    "        print(\"\\u001b[32mStationary\\u001b[0m\")\n",
    "    else:\n",
    "        print(\"\\x1b[31mNon-stationary\\x1b[0m\")"
   ]
  },
  {
   "cell_type": "code",
   "execution_count": 5,
   "id": "0400c8b1",
   "metadata": {
    "ExecuteTime": {
     "end_time": "2023-03-30T06:06:26.167355Z",
     "start_time": "2023-03-30T06:06:26.163733Z"
    }
   },
   "outputs": [],
   "source": [
    "# parameters\n",
    "_round_num = 4\n",
    "_time_per_day = 1000000"
   ]
  },
  {
   "cell_type": "code",
   "execution_count": 6,
   "id": "091eda03",
   "metadata": {
    "ExecuteTime": {
     "end_time": "2023-03-30T06:06:26.747947Z",
     "start_time": "2023-03-30T06:06:26.719115Z"
    }
   },
   "outputs": [],
   "source": [
    "def get_file_trades(day):\n",
    "    fname = f\"../data/round5/trades_round_{_round_num}_day_{day}_wn.csv\"\n",
    "    print(\"fname\", fname)\n",
    "    return pd.read_csv(fname, sep=\";\")\n",
    "\n",
    "\n",
    "def get_file_prices(day):\n",
    "    fname = f\"../data/round{_round_num}/prices_round_{_round_num}_day_{day}.csv\"\n",
    "    print(\"fname\", fname)\n",
    "    return pd.read_csv(fname, sep=\";\")\n",
    "\n",
    "def get_symbol_prices(symbol, days):\n",
    "    \"\"\" Returns DataFrame containing all price data for specified symbol, over the specified 'days'\n",
    "    If symbol is None, don't filter on symbol\n",
    "    \"\"\"\n",
    "    \n",
    "    data = []\n",
    "    for day in days:\n",
    "        price_df = get_file_prices(day)\n",
    "        data += [price_df]\n",
    "    \n",
    "    # concat\n",
    "    price_df = pd.concat(data)\n",
    "    \n",
    "    # rename \"bid\" to \"buy\"\n",
    "    # rename \"ask\" to \"sell\"\n",
    "    price_df = price_df.rename({col: col.replace(\"bid\", \"buy\") for col in price_df.columns if \"bid\" in col}, axis=1)\n",
    "    price_df = price_df.rename({col: col.replace(\"ask\", \"sell\") for col in price_df.columns if \"ask\" in col}, axis=1)\n",
    "    price_df = price_df.rename({\"timestamp\": \"time\", \"product\": \"symbol\"}, axis=1)\n",
    "    \n",
    "    if symbol is not None:\n",
    "        # filter for specific symbol\n",
    "        price_df = price_df[price_df[\"symbol\"] == symbol]\n",
    "    \n",
    "    # fix times, sort by time and reindex\n",
    "    price_df[\"time\"] = price_df[\"time\"] + (price_df[\"day\"] - min(days)) * _time_per_day\n",
    "    price_df = price_df.sort_values(by=\"time\").reset_index(drop=True)\n",
    "    \n",
    "    return price_df\n",
    "\n",
    "def get_symbol_trades(symbol, days):\n",
    "    data = []\n",
    "    for day in days:\n",
    "        price_df = get_file_trades(day)\n",
    "        price_df[\"day\"] = day\n",
    "        data += [price_df]\n",
    "    \n",
    "    # concat\n",
    "    price_df = pd.concat(data)\n",
    "    price_df = price_df.rename({\"timestamp\": \"time\", \"product\": \"symbol\"}, axis=1)\n",
    "    \n",
    "    if symbol is not None:\n",
    "        # filter for specific symbol\n",
    "        price_df = price_df[price_df[\"symbol\"] == symbol]\n",
    "    \n",
    "    # fix times, sort by time and reindex\n",
    "    price_df[\"time\"] = price_df[\"time\"] + (price_df[\"day\"] - min(days)) * _time_per_day\n",
    "    price_df = price_df.sort_values(by=\"time\").reset_index(drop=True)\n",
    "    \n",
    "    return price_df\n",
    "    \n",
    "\n",
    "\n",
    "def get_all_mids(days):\n",
    "    price_df = get_symbol_prices(symbol=None, days=days)\n",
    "    \n",
    "    symbols = set(price_df[\"symbol\"])\n",
    "    \n",
    "    price_df[\"mid\"] = (price_df[\"buy_price_1\"] + price_df[\"sell_price_1\"]) / 2\n",
    "    \n",
    "    return price_df[[\"time\", \"symbol\", \"mid\"]].copy()"
   ]
  },
  {
   "cell_type": "code",
   "execution_count": 7,
   "id": "3950ee11",
   "metadata": {
    "ExecuteTime": {
     "end_time": "2023-03-30T06:06:27.177945Z",
     "start_time": "2023-03-30T06:06:27.162273Z"
    }
   },
   "outputs": [],
   "source": [
    "def get_book_large_size(price_df, side):\n",
    "    \"\"\" \n",
    "    side = 'buy' or 'sell' \n",
    "    \n",
    "    Returns prices, sizes\n",
    "    \"\"\"\n",
    "    \n",
    "    book_range = list(range(1, 3+1))\n",
    "    \n",
    "    # get bids\n",
    "    bid_sizes = price_df[[f\"{side}_volume_{i}\" for i in book_range]]\n",
    "    bid_prices = price_df[[f\"{side}_price_{i}\" for i in book_range]]\n",
    "\n",
    "    # replace nan with -1\n",
    "    bid_sizes = bid_sizes.replace(np.nan, -1)\n",
    "\n",
    "    # find inds\n",
    "    inds = np.argmax(bid_sizes.to_numpy(), axis=1)\n",
    "\n",
    "    # filter to keep largest bids\n",
    "    bid_prices = bid_prices.to_numpy()[np.arange(len(bid_prices)), inds]\n",
    "    bid_sizes = bid_sizes.to_numpy()[np.arange(len(bid_sizes)), inds]\n",
    "    \n",
    "    # create dataframe\n",
    "    df = pd.DataFrame([bid_prices, bid_sizes]).T\n",
    "    df.columns = [f\"{side}_price\", f\"{side}_size\"]\n",
    "    df[\"time\"] = price_df[\"time\"].reset_index()[\"time\"]\n",
    "    \n",
    "    return df\n",
    "\n",
    "\n",
    "def get_whale_quotes(price_df):\n",
    "    # get big buy/sell quotes\n",
    "    buy_df = get_book_large_size(price_df, \"buy\")\n",
    "    sell_df = get_book_large_size(price_df, \"sell\")\n",
    "\n",
    "    # create big quote_df\n",
    "    quote_df = pd.merge(buy_df, sell_df, on=\"time\")\n",
    "    quote_df[\"mid_price\"] = (quote_df[\"buy_price\"] + quote_df[\"sell_price\"]) / 2\n",
    "    quote_df[\"spread\"] = quote_df[\"sell_price\"] - quote_df[\"buy_price\"]\n",
    "\n",
    "    return quote_df"
   ]
  },
  {
   "cell_type": "markdown",
   "id": "13346558",
   "metadata": {},
   "source": [
    "# Counterparty analysis"
   ]
  },
  {
   "cell_type": "code",
   "execution_count": 8,
   "id": "fbb5cfdd",
   "metadata": {
    "ExecuteTime": {
     "end_time": "2023-03-30T06:06:28.666009Z",
     "start_time": "2023-03-30T06:06:28.209391Z"
    }
   },
   "outputs": [
    {
     "name": "stdout",
     "output_type": "stream",
     "text": [
      "fname ../data/round5/trades_round_4_day_1_wn.csv\n",
      "fname ../data/round5/trades_round_4_day_2_wn.csv\n",
      "fname ../data/round5/trades_round_4_day_3_wn.csv\n",
      "fname ../data/round4/prices_round_4_day_1.csv\n",
      "fname ../data/round4/prices_round_4_day_2.csv\n",
      "fname ../data/round4/prices_round_4_day_3.csv\n"
     ]
    }
   ],
   "source": [
    "# load data\n",
    "# _day_range = [-2, -1, 0]\n",
    "# _day_range = [-1, -0, 1]\n",
    "# _day_range = [0, 1, 2]\n",
    "_day_range = [1, 2, 3]\n",
    "trade_df = get_symbol_trades(None, days=_day_range)\n",
    "price_df = get_symbol_prices(None, days=_day_range)\n",
    "_symbols = set(trade_df[\"symbol\"])\n",
    "\n",
    "\n",
    "# compute all_mid_Df\n",
    "all_dfs = []\n",
    "\n",
    "for sym in _symbols:\n",
    "    df = price_df[price_df[\"symbol\"] == sym]\n",
    "    \n",
    "    datas = {\n",
    "        \"time\": df[\"time\"],\n",
    "        \"mid\": df[\"mid_price\"],\n",
    "        \"symbol\": df[\"symbol\"]\n",
    "    }\n",
    "\n",
    "    for i in [1, 3, 10, 30, 100, 300, 1000, 3000, 5000]:\n",
    "        datas[f\"d_{i}\"] = -1 * df[\"mid_price\"].diff(-1 * i)\n",
    "\n",
    "    all_dfs += [pd.DataFrame(datas)]\n",
    "\n",
    "all_mid_df = pd.concat(all_dfs)\n",
    "\n",
    "# merge into trade_df\n",
    "trade_df = trade_df.merge(all_mid_df, on=[\"symbol\", \"time\"])\n",
    "trade_df[\"sell_edge\"] = trade_df[\"price\"] - trade_df[\"mid\"]"
   ]
  },
  {
   "cell_type": "code",
   "execution_count": null,
   "id": "c553c1ee",
   "metadata": {},
   "outputs": [],
   "source": []
  },
  {
   "cell_type": "code",
   "execution_count": 13,
   "id": "15dc0ffd",
   "metadata": {
    "ExecuteTime": {
     "end_time": "2023-03-30T06:08:24.489339Z",
     "start_time": "2023-03-30T06:08:24.454546Z"
    }
   },
   "outputs": [
    {
     "ename": "NameError",
     "evalue": "name 'Trade' is not defined",
     "output_type": "error",
     "traceback": [
      "\u001b[0;31m---------------------------------------------------------------------------\u001b[0m",
      "\u001b[0;31mNameError\u001b[0m                                 Traceback (most recent call last)",
      "Cell \u001b[0;32mIn[13], line 10\u001b[0m\n\u001b[1;32m      7\u001b[0m \u001b[38;5;28;01mif\u001b[39;00m sym \u001b[38;5;129;01mnot\u001b[39;00m \u001b[38;5;129;01min\u001b[39;00m all_market_trades[time]:\n\u001b[1;32m      8\u001b[0m     all_market_trades[time][sym] \u001b[38;5;241m=\u001b[39m []\n\u001b[0;32m---> 10\u001b[0m trade \u001b[38;5;241m=\u001b[39m \u001b[43mTrade\u001b[49m(\n\u001b[1;32m     11\u001b[0m     symbol\u001b[38;5;241m=\u001b[39mrow[\u001b[38;5;124m\"\u001b[39m\u001b[38;5;124msymbol\u001b[39m\u001b[38;5;124m\"\u001b[39m],\n\u001b[1;32m     12\u001b[0m     price\u001b[38;5;241m=\u001b[39mrow[\u001b[38;5;124m\"\u001b[39m\u001b[38;5;124mprice\u001b[39m\u001b[38;5;124m\"\u001b[39m], \n\u001b[1;32m     13\u001b[0m     quantity\u001b[38;5;241m=\u001b[39mrow[\u001b[38;5;124m\"\u001b[39m\u001b[38;5;124mquantity\u001b[39m\u001b[38;5;124m\"\u001b[39m], \n\u001b[1;32m     14\u001b[0m     buyer\u001b[38;5;241m=\u001b[39mrow[\u001b[38;5;124m\"\u001b[39m\u001b[38;5;124mbuyer\u001b[39m\u001b[38;5;124m\"\u001b[39m], \n\u001b[1;32m     15\u001b[0m     seller\u001b[38;5;241m=\u001b[39mrow[\u001b[38;5;124m\"\u001b[39m\u001b[38;5;124mseller\u001b[39m\u001b[38;5;124m\"\u001b[39m],\n\u001b[1;32m     16\u001b[0m )\n\u001b[1;32m     18\u001b[0m all_market_trades[time][sym] \u001b[38;5;241m+\u001b[39m\u001b[38;5;241m=\u001b[39m [trade]\n",
      "\u001b[0;31mNameError\u001b[0m: name 'Trade' is not defined"
     ]
    }
   ],
   "source": [
    "all_market_trades = {}\n",
    "for index, row in trade_df.iterrows():\n",
    "    time = row[\"time\"]\n",
    "    sym = row[\"symbol\"]\n",
    "    if time not in all_market_trades:\n",
    "        all_market_trades[time] = {}\n",
    "    if sym not in all_market_trades[time]:\n",
    "        all_market_trades[time][sym] = []\n",
    "    \n",
    "    trade = Trade(\n",
    "        symbol=row[\"symbol\"],\n",
    "        price=row[\"price\"], \n",
    "        quantity=row[\"quantity\"], \n",
    "        buyer=row[\"buyer\"], \n",
    "        seller=row[\"seller\"],\n",
    "    )\n",
    "        \n",
    "    all_market_trades[time][sym] += [trade]\n",
    "    "
   ]
  },
  {
   "cell_type": "code",
   "execution_count": 11,
   "id": "7d0f5efe",
   "metadata": {
    "ExecuteTime": {
     "end_time": "2023-03-30T06:06:37.497691Z",
     "start_time": "2023-03-30T06:06:37.487296Z"
    }
   },
   "outputs": [
    {
     "data": {
      "text/plain": [
       "{'PEARLS': [{'time': 100,\n",
       "   'buyer': 'Paris',\n",
       "   'seller': 'Charlie',\n",
       "   'symbol': 'PEARLS',\n",
       "   'currency': 'SEASHELLS',\n",
       "   'price': 10002.0,\n",
       "   'quantity': 1,\n",
       "   'day': 1,\n",
       "   'mid': 10003.0,\n",
       "   'd_1': -3.0,\n",
       "   'd_3': -2.0,\n",
       "   'd_10': -4.0,\n",
       "   'd_30': -2.0,\n",
       "   'd_100': -0.0,\n",
       "   'd_300': -3.0,\n",
       "   'd_1000': -6.0,\n",
       "   'd_3000': -3.0,\n",
       "   'd_5000': -1.0,\n",
       "   'sell_edge': -1.0}],\n",
       " 'BANANAS': [{'time': 100,\n",
       "   'buyer': 'Paris',\n",
       "   'seller': 'Charlie',\n",
       "   'symbol': 'BANANAS',\n",
       "   'currency': 'SEASHELLS',\n",
       "   'price': 4875.0,\n",
       "   'quantity': 1,\n",
       "   'day': 1,\n",
       "   'mid': 4876.0,\n",
       "   'd_1': -3.0,\n",
       "   'd_3': -5.5,\n",
       "   'd_10': -5.5,\n",
       "   'd_30': -3.5,\n",
       "   'd_100': -6.5,\n",
       "   'd_300': -6.5,\n",
       "   'd_1000': 5.5,\n",
       "   'd_3000': -31.0,\n",
       "   'd_5000': -53.5,\n",
       "   'sell_edge': -1.0}]}"
      ]
     },
     "execution_count": 11,
     "metadata": {},
     "output_type": "execute_result"
    }
   ],
   "source": [
    "all_market_trades[100]"
   ]
  },
  {
   "cell_type": "code",
   "execution_count": null,
   "id": "e2dc8eac",
   "metadata": {},
   "outputs": [],
   "source": []
  },
  {
   "cell_type": "code",
   "execution_count": null,
   "id": "a251986a",
   "metadata": {},
   "outputs": [],
   "source": []
  },
  {
   "cell_type": "code",
   "execution_count": null,
   "id": "e2a61c1d",
   "metadata": {},
   "outputs": [],
   "source": []
  },
  {
   "cell_type": "code",
   "execution_count": null,
   "id": "eba4bba9",
   "metadata": {
    "ExecuteTime": {
     "end_time": "2023-03-30T05:57:26.461519Z",
     "start_time": "2023-03-30T05:57:26.451551Z"
    }
   },
   "outputs": [],
   "source": [
    "all_mid_df['symbol'].unique()"
   ]
  },
  {
   "cell_type": "code",
   "execution_count": null,
   "id": "a8b1843f",
   "metadata": {
    "ExecuteTime": {
     "end_time": "2023-03-30T05:57:26.830505Z",
     "start_time": "2023-03-30T05:57:26.702346Z"
    }
   },
   "outputs": [],
   "source": [
    "# general plot of data\n",
    "total_buys = trade_df.groupby([\"buyer\"])[[\"quantity\"]].sum()\n",
    "total_sells = trade_df.groupby([\"seller\"])[[\"quantity\"]].sum()\n",
    "\n",
    "plt.figure(figsize=(10, 5))\n",
    "\n",
    "plt.subplot(121)\n",
    "plt.bar(total_buys.index, total_buys[\"quantity\"])\n",
    "plt.xticks(rotation=45)\n",
    "plt.subplot(122)\n",
    "plt.bar(total_sells.index, total_sells[\"quantity\"])\n",
    "plt.xticks(rotation=45)\n",
    "plt.show()"
   ]
  },
  {
   "cell_type": "code",
   "execution_count": null,
   "id": "116c9081",
   "metadata": {
    "ExecuteTime": {
     "end_time": "2023-03-28T12:43:06.840742Z",
     "start_time": "2023-03-28T12:43:06.837244Z"
    }
   },
   "outputs": [],
   "source": []
  },
  {
   "cell_type": "code",
   "execution_count": null,
   "id": "e387aa2e",
   "metadata": {
    "ExecuteTime": {
     "end_time": "2023-03-30T05:57:27.809244Z",
     "start_time": "2023-03-30T05:57:27.765815Z"
    },
    "scrolled": false
   },
   "outputs": [],
   "source": [
    "df1 = trade_df.groupby([\"symbol\", \"buyer\"])[\"quantity\"].agg([\"sum\", \"count\"])\n",
    "df2 = trade_df.groupby([\"symbol\", \"seller\"])[\"quantity\"].agg([\"sum\", \"count\"])\n",
    "\n",
    "df1 = df1.reset_index().rename({\"buyer\": \"party\", \"sum\": \"buy_vol\", \"count\": \"buy_count\"}, axis=1)\n",
    "df2 = df2.reset_index().rename({\"seller\": \"party\", \"sum\": \"sell_vol\", \"count\": \"sell_count\"}, axis=1)\n",
    "\n",
    "vol_df = df1.merge(df2, on=[\"symbol\", \"party\"], how=\"outer\")\n",
    "\n",
    "for sym in _symbols:\n",
    "    df = vol_df[vol_df[\"symbol\"] == sym].sort_values(by=\"buy_vol\", ascending=False)\n",
    "#     df = df[(df[\"buy_count\"] < 20)]\n",
    "#     display(df.drop([\"buy_count\", \"sell_count\"], axis=1))\n",
    "    display(df)"
   ]
  },
  {
   "cell_type": "code",
   "execution_count": null,
   "id": "1055de13",
   "metadata": {
    "ExecuteTime": {
     "end_time": "2023-03-30T05:57:47.841468Z",
     "start_time": "2023-03-30T05:57:47.518734Z"
    },
    "scrolled": false
   },
   "outputs": [],
   "source": [
    "party = \"Olivia\"\n",
    "\n",
    "party_trades = trade_df[(trade_df[\"buyer\"] == party) | (trade_df[\"seller\"] == party)]\n",
    "print(len(party_trades))\n",
    "\n",
    "syms = set(party_trades[\"symbol\"])\n",
    "\n",
    "for sym in syms:\n",
    "    plt.figure(figsize=(13, 5))\n",
    "    df = price_df[price_df[\"symbol\"] == sym].reset_index()\n",
    "    \n",
    "    tdf = party_trades[party_trades[\"symbol\"] == sym]\n",
    "    \n",
    "\n",
    "    for index, row in tdf.iterrows():\n",
    "        is_buy = row[\"buyer\"] == party\n",
    "#         if not is_buy:\n",
    "#             continue\n",
    "        color = \"green\" if is_buy else \"red\"\n",
    "        time = row[\"time\"] // 100\n",
    "        plt.axvline(x=time, color=color)\n",
    "    \n",
    "    plt.plot(df[\"mid_price\"])\n",
    "\n",
    "    plt.title(sym)\n",
    "    plt.show()"
   ]
  },
  {
   "cell_type": "code",
   "execution_count": null,
   "id": "4071d171",
   "metadata": {
    "ExecuteTime": {
     "end_time": "2023-03-30T06:02:19.938612Z",
     "start_time": "2023-03-30T06:02:19.905138Z"
    }
   },
   "outputs": [],
   "source": [
    "trade_df"
   ]
  },
  {
   "cell_type": "code",
   "execution_count": null,
   "id": "d7455b41",
   "metadata": {
    "ExecuteTime": {
     "end_time": "2023-03-30T06:02:23.876913Z",
     "start_time": "2023-03-30T06:02:23.866390Z"
    }
   },
   "outputs": [],
   "source": [
    "len(trade)d"
   ]
  },
  {
   "cell_type": "code",
   "execution_count": null,
   "id": "f7f1e7b1",
   "metadata": {},
   "outputs": [],
   "source": []
  },
  {
   "cell_type": "code",
   "execution_count": null,
   "id": "5b9859f8",
   "metadata": {},
   "outputs": [],
   "source": []
  },
  {
   "cell_type": "markdown",
   "id": "f2bc301b",
   "metadata": {},
   "source": [
    "## Analysis per symbol per trader"
   ]
  },
  {
   "cell_type": "code",
   "execution_count": null,
   "id": "5bb7caed",
   "metadata": {},
   "outputs": [],
   "source": [
    "trade_df['symbol'].unique()"
   ]
  },
  {
   "cell_type": "code",
   "execution_count": null,
   "id": "282a39cb",
   "metadata": {},
   "outputs": [],
   "source": [
    "#SYMBOL TO USE FOR NEXT FOUR CELLS\n",
    "symbol = \"BAGUETTE\"\n",
    "\n",
    "# CELL INFO\n",
    "# For this symbol, this cell gets data on trades for each trader\n",
    "#'time' - timestep \n",
    "#'position' - position \n",
    "#'money' - money \n",
    "#'n_buy' - number of total buy trades \n",
    "#'n_sell' - number of total sell trades \n",
    "#'n_trade' - number of total trades \n",
    "#'is_buy' - whether it was a buy (true if buy)\n",
    "\n",
    "trade_df = trade_df.sort_values(by='time')\n",
    "trade_df_symbol = trade_df[(trade_df['symbol'] == symbol) | (trade_df['symbol'] == symbol)] \n",
    "names_list = pd.concat([trade_df['buyer'], trade_df['seller']]).unique()\n",
    "\n",
    "\n",
    "position_df_dict = {name : pd.DataFrame(columns=['time', 'position', 'money', 'n_buy', 'n_sell', 'n_trade', 'is_buy']) for name in names_list}\n",
    "position_dict = {name : 0 for name in names_list}\n",
    "money_dict = {name : 0 for name in names_list}\n",
    "buy_count_dict = {name : 0 for name in names_list}\n",
    "sell_count_dict = {name : 0 for name in names_list}\n",
    "\n",
    "for index, row in trade_df_symbol.iterrows():\n",
    "    buyer = row['buyer']\n",
    "    seller = row['seller']\n",
    "    price = row['price']\n",
    "    quantity = row['quantity']\n",
    "    time = row['time']\n",
    "    \n",
    "    #update buyer position\n",
    "    position_dict[buyer] += quantity\n",
    "    money_dict[buyer] -= (quantity * price)\n",
    "    buy_count_dict[buyer] += 1\n",
    "    new_row = {'time': time, \n",
    "               'position': position_dict[buyer], \n",
    "               'money': money_dict[buyer],\n",
    "               'n_buy': buy_count_dict[buyer],\n",
    "               'n_sell': sell_count_dict[buyer],\n",
    "               'n_trade': buy_count_dict[buyer]+sell_count_dict[buyer],\n",
    "               'is_buy': True,\n",
    "              }\n",
    "    position_df_dict[buyer].loc[len(position_df_dict[buyer])] = new_row\n",
    "    \n",
    "    #update seller position\n",
    "    position_dict[seller] -= quantity\n",
    "    money_dict[seller] += (quantity * price)\n",
    "    sell_count_dict[seller] += 1\n",
    "    new_row = {'time': time, \n",
    "               'position': position_dict[seller], \n",
    "               'money': money_dict[seller],\n",
    "               'n_buy': buy_count_dict[seller],\n",
    "               'n_sell': sell_count_dict[seller],\n",
    "               'n_trade': buy_count_dict[seller]+sell_count_dict[seller],\n",
    "               'is_buy': False,\n",
    "              }\n",
    "    \n",
    "    position_df_dict[seller].loc[len(position_df_dict[seller])] = new_row\n",
    "    "
   ]
  },
  {
   "cell_type": "code",
   "execution_count": null,
   "id": "fc1fefea",
   "metadata": {},
   "outputs": [],
   "source": [
    "# CELL INFO\n",
    "# Get final prices for each of the symbols\n",
    "symbol_list = all_mid_df['symbol'].unique()\n",
    "all_mid_df_group_symbol = all_mid_df.groupby([\"symbol\"])\n",
    "\n",
    "\n",
    "final_price_dict = {}\n",
    "\n",
    "for sym in symbol_list:\n",
    "    all_mid_df_sym = all_mid_df_group_symbol.get_group(sym)\n",
    "    last_mid_price = all_mid_df_sym['mid'].iloc[-1]\n",
    "    final_price_dict[sym] = last_mid_price\n",
    "    \n",
    "#get final price for symbol we are looking at\n",
    "final_price_sym = final_price_dict[symbol]"
   ]
  },
  {
   "cell_type": "code",
   "execution_count": null,
   "id": "0fba49a4",
   "metadata": {},
   "outputs": [],
   "source": [
    "#CELL INFO\n",
    "#get final PnL for each trader for the symbol\n",
    "final_pnl_dict = {}\n",
    "for name in position_df_dict:\n",
    "    #check if made no trades\n",
    "    if len(position_df_dict[name]) == 0:\n",
    "        final_pnl_dict[name] = 0\n",
    "    else:\n",
    "        final_money = position_df_dict[name]['money'].iloc[-1]\n",
    "        final_position = position_df_dict[name]['position'].iloc[-1]\n",
    "        final_pnl_dict[name] = final_money + final_position * final_price_sym"
   ]
  },
  {
   "cell_type": "code",
   "execution_count": null,
   "id": "c62e5a55",
   "metadata": {},
   "outputs": [],
   "source": []
  },
  {
   "cell_type": "code",
   "execution_count": null,
   "id": "c3c5c5fc",
   "metadata": {},
   "outputs": [],
   "source": [
    "#CELL INFO\n",
    "#plot positions for each trader\n",
    "symbol_price_df = all_mid_df_group_symbol.get_group(symbol)\n",
    "\n",
    "\n",
    "\n",
    "time_range = (0, float('inf'))\n",
    "#filter by time\n",
    "symbol_price_df = symbol_price_df[(time_range[0] <= symbol_price_df['time']) & (symbol_price_df['time'] <= time_range[1])]\n",
    "\n",
    "\n",
    "fig, axs = plt.subplots(len(position_df_dict), 2, figsize=(10, 3*len(position_df_dict)))\n",
    "\n",
    "for i, (name, df) in enumerate(position_df_dict.items()):\n",
    "    #filter by time\n",
    "    df = df[(time_range[0] <= df['time']) & (df['time'] <= time_range[1])]\n",
    "\n",
    "    \n",
    "    # plot the time vs. position\n",
    "    axs[i][0].plot(df['time'], df['position'])\n",
    "    axs[i][0].set_title(name)\n",
    "    \n",
    "    \n",
    "    #plot the symbol price data and vertical lines where the trader bought/sold\n",
    "    axs[i][1].plot(symbol_price_df['time'], symbol_price_df['mid'])\n",
    "    # loop through the rows of df\n",
    "    if len(df) == 0:\n",
    "        continue\n",
    "    for index, row in df.iterrows():\n",
    "        # check if is_buy is True\n",
    "        if row['is_buy']:\n",
    "            # plot a green vertical line at the time value where buy\n",
    "            axs[i][1].axvline(x=row['time'], color='green')\n",
    "        else:\n",
    "            # plot a red vertical line at the time value where sell\n",
    "            axs[i][1].axvline(x=row['time'], color='red')  \n",
    "    \n",
    "    axs[i][1].set_title(f'Final PnL for {name} on {symbol}: {final_pnl_dict[name]}')\n",
    "\n",
    "plt.tight_layout()\n",
    "plt.show()"
   ]
  },
  {
   "cell_type": "markdown",
   "id": "c105fdba",
   "metadata": {
    "ExecuteTime": {
     "end_time": "2023-03-28T12:55:54.791137Z",
     "start_time": "2023-03-28T12:55:54.788685Z"
    }
   },
   "source": [
    "# General Analysis Strategy\n",
    "- find who is making the most money\n",
    "- find their most profitable types of trades\n",
    "    - filter by symbols + buy/sell side\n",
    "    - map their return after 1, 3, 10, 30, ... turns"
   ]
  },
  {
   "cell_type": "code",
   "execution_count": null,
   "id": "2bf257ec",
   "metadata": {
    "ExecuteTime": {
     "end_time": "2023-03-28T13:18:50.413133Z",
     "start_time": "2023-03-28T13:18:50.354581Z"
    },
    "scrolled": false
   },
   "outputs": [],
   "source": [
    "cols = [\"count\", \"sell_edge\"] + [col for col in trade_df.columns if col.startswith(\"d_\")]\n",
    "sort_by = \"d_100\"\n",
    "\n",
    "# in buyers, most positive is best\n",
    "counts = trade_df.groupby([\"buyer\", \"symbol\"])[\"time\"].count()\n",
    "buys = trade_df.groupby([\"buyer\", \"symbol\"]).mean()\n",
    "buys[\"count\"] = counts\n",
    "display(buys[cols].sort_values(by=sort_by, ascending=False))\n",
    "# display(buys[cols])\n",
    "\n",
    "# in sellers, most negative is best\n",
    "counts = trade_df.groupby([\"seller\", \"symbol\"])[\"time\"].count()\n",
    "sells = trade_df.groupby([\"seller\", \"symbol\"]).mean()\n",
    "sells[\"count\"] = counts\n",
    "display(sells[cols].sort_values(by=sort_by, ascending=True))\n"
   ]
  },
  {
   "cell_type": "code",
   "execution_count": null,
   "id": "86de5d64",
   "metadata": {},
   "outputs": [],
   "source": []
  },
  {
   "cell_type": "code",
   "execution_count": null,
   "id": "d543a731",
   "metadata": {},
   "outputs": [],
   "source": []
  },
  {
   "cell_type": "code",
   "execution_count": null,
   "id": "6b1f7046",
   "metadata": {},
   "outputs": [],
   "source": []
  },
  {
   "cell_type": "code",
   "execution_count": null,
   "id": "4b11bc7f",
   "metadata": {},
   "outputs": [],
   "source": []
  },
  {
   "cell_type": "code",
   "execution_count": null,
   "id": "097484f3",
   "metadata": {},
   "outputs": [],
   "source": []
  },
  {
   "cell_type": "markdown",
   "id": "b6435d00",
   "metadata": {},
   "source": [
    "## Pairs trading"
   ]
  },
  {
   "cell_type": "code",
   "execution_count": null,
   "id": "eef4fde0",
   "metadata": {
    "ExecuteTime": {
     "end_time": "2023-03-27T21:27:17.314171Z",
     "start_time": "2023-03-27T21:27:14.351915Z"
    },
    "scrolled": false
   },
   "outputs": [],
   "source": [
    "_day_range = [1, 2, 3]\n",
    "# _day_range = [-1, 0, 1]\n",
    "\n",
    "coco_price_df = get_symbol_prices(\"COCONUTS\", _day_range)\n",
    "pina_price_df = get_symbol_prices(\"PINA_COLADAS\", _day_range)\n",
    "\n",
    "coco_df = get_whale_quotes(coco_price_df)\n",
    "pina_df = get_whale_quotes(pina_price_df)\n",
    "pair_df = pd.DataFrame({\n",
    "    \"mid_coco\": coco_df[\"mid_price\"], \n",
    "    \"mid_pina\": pina_df[\"mid_price\"],\n",
    "    \"time\": pina_df[\"time\"],\n",
    "})\n",
    "\n",
    "fig, ax = plt.subplots()\n",
    "\n",
    "ax.plot(pair_df[\"time\"], pair_df[\"mid_coco\"], color=\"blue\", label=\"coco\")\n",
    "ax.legend(loc=1)\n",
    "\n",
    "ax2 = ax.twinx()\n",
    "\n",
    "ax2.plot(pair_df[\"time\"], pair_df[\"mid_pina\"], color=\"orange\", label=\"pina\")\n",
    "ax2.legend(loc=2)"
   ]
  },
  {
   "cell_type": "code",
   "execution_count": null,
   "id": "10df5a90",
   "metadata": {},
   "outputs": [],
   "source": []
  },
  {
   "cell_type": "markdown",
   "id": "5d60e3f4",
   "metadata": {},
   "source": [
    "### plot first diffs over time"
   ]
  },
  {
   "cell_type": "code",
   "execution_count": null,
   "id": "444db223",
   "metadata": {
    "ExecuteTime": {
     "end_time": "2023-03-27T21:27:19.107387Z",
     "start_time": "2023-03-27T21:27:18.905217Z"
    }
   },
   "outputs": [],
   "source": [
    "plt.scatter(pair_df[\"mid_coco\"].diff(1), pair_df[\"mid_pina\"].diff(1))"
   ]
  },
  {
   "cell_type": "code",
   "execution_count": null,
   "id": "187499ac",
   "metadata": {},
   "outputs": [],
   "source": []
  },
  {
   "cell_type": "code",
   "execution_count": null,
   "id": "878085cd",
   "metadata": {
    "ExecuteTime": {
     "end_time": "2023-03-27T21:28:17.761823Z",
     "start_time": "2023-03-27T21:27:41.016410Z"
    },
    "scrolled": false
   },
   "outputs": [],
   "source": [
    "plt.figure(figsize=(12, 3))\n",
    "\n",
    "all_x = pair_df[\"mid_coco\"].diff(1).dropna()\n",
    "all_y = pair_df[\"mid_pina\"].diff(1).dropna()\n",
    "\n",
    "xlim = all_x.min(), all_x.max()\n",
    "ylim = all_y.min(), all_y.max()\n",
    "\n",
    "big_model = np.poly1d(np.polyfit(all_x, all_y, deg=1))\n",
    "print(\"big_model\", big_model.coef)\n",
    "\n",
    "### params\n",
    "chunk_size = 100\n",
    "\n",
    "\n",
    "model_data = []\n",
    "\n",
    "for i in range(len(pair_df) - chunk_size):\n",
    "\n",
    "    lb = i\n",
    "    ub = lb + chunk_size\n",
    "\n",
    "    df = pair_df.iloc[lb:ub]\n",
    "\n",
    "    x = df[\"mid_coco\"].diff(1).dropna()\n",
    "    y = df[\"mid_pina\"].diff(1).dropna()\n",
    "\n",
    "    inds = x.index.intersection(y.index)\n",
    "\n",
    "    x = x[inds]\n",
    "    y = y[inds]\n",
    "\n",
    "    # fit line\n",
    "    model = np.poly1d(np.polyfit(x, y, deg=1))\n",
    "    model_data += [{\n",
    "        \"m\": model.coef[0],\n",
    "        \"b\": model.coef[1],\n",
    "        \"r2\": r2_score(y, model(x)),\n",
    "    }]\n",
    "\n",
    "#     if i < 5:\n",
    "#         plt.subplot(121)\n",
    "#         plt.hist(x, bins=50)\n",
    "#         plt.hist(y, bins=50, alpha=0.5)\n",
    "\n",
    "#         plt.subplot(122)\n",
    "#         plt.scatter(x, y, s=1)\n",
    "#         plt.plot(x, model(x), color=\"red\", label=\"fit\")\n",
    "#         plt.plot(x, model(x), color=\"black\", label=\"fit\")\n",
    "#         plt.xlim(xlim)\n",
    "#         plt.ylim(ylim)\n",
    "        \n",
    "#         plt.show()\n",
    "\n",
    "#         print(\"model\", model.coef)\n",
    "model_df = pd.DataFrame(model_data)"
   ]
  },
  {
   "cell_type": "code",
   "execution_count": null,
   "id": "09081b7b",
   "metadata": {
    "ExecuteTime": {
     "end_time": "2023-03-27T21:29:35.285668Z",
     "start_time": "2023-03-27T21:29:34.807831Z"
    },
    "scrolled": false
   },
   "outputs": [],
   "source": [
    "plt.plot(model_df[\"r2\"], label=\"r2\")\n",
    "plt.plot(model_df[\"m\"], label=\"m\")\n",
    "plt.plot(model_df[\"b\"], label=\"b\")\n",
    "plt.axhline(y=1.5)\n",
    "\n",
    "plt.legend()\n"
   ]
  },
  {
   "cell_type": "code",
   "execution_count": null,
   "id": "c817f051",
   "metadata": {
    "ExecuteTime": {
     "end_time": "2023-03-27T21:30:02.418721Z",
     "start_time": "2023-03-27T21:30:00.889040Z"
    }
   },
   "outputs": [],
   "source": [
    "check_stationary(model_df[\"m\"])"
   ]
  },
  {
   "cell_type": "code",
   "execution_count": null,
   "id": "ba33fd7d",
   "metadata": {
    "ExecuteTime": {
     "end_time": "2023-03-27T21:30:05.181865Z",
     "start_time": "2023-03-27T21:30:03.727595Z"
    }
   },
   "outputs": [],
   "source": [
    "# get errors\n",
    "error = pair_df[\"mid_pina\"] - pair_df[\"mid_coco\"] * 1.5 - 3000\n",
    "error_df = pd.DataFrame({\"error\": error})\n",
    "\n",
    "# check stationarity of the error\n",
    "check_stationary(error_df[\"error\"])\n",
    "\n",
    "# get `change` stats\n",
    "error_df[\"above\"] = error_df[\"error\"] > 0\n",
    "error_df[\"change\"] = error_df[\"above\"] != error_df[\"above\"].shift(1)\n"
   ]
  },
  {
   "cell_type": "code",
   "execution_count": null,
   "id": "c1b7d7cf",
   "metadata": {
    "ExecuteTime": {
     "end_time": "2023-03-27T21:30:06.610168Z",
     "start_time": "2023-03-27T21:30:06.446547Z"
    }
   },
   "outputs": [],
   "source": [
    "plt.plot(error_df[\"error\"])"
   ]
  },
  {
   "cell_type": "code",
   "execution_count": null,
   "id": "1699109d",
   "metadata": {
    "ExecuteTime": {
     "end_time": "2023-03-27T21:30:08.585580Z",
     "start_time": "2023-03-27T21:30:08.575372Z"
    }
   },
   "outputs": [],
   "source": [
    "error.describe()"
   ]
  },
  {
   "cell_type": "code",
   "execution_count": null,
   "id": "d94d727b",
   "metadata": {
    "ExecuteTime": {
     "end_time": "2023-03-27T21:30:12.570060Z",
     "start_time": "2023-03-27T21:30:11.250455Z"
    }
   },
   "outputs": [],
   "source": [
    "low, high = 0, 0\n",
    "\n",
    "bounds = []\n",
    "\n",
    "for index, row in error_df.iterrows():\n",
    "    if row[\"change\"]:\n",
    "        bounds += [(low, high)]\n",
    "        low, high = 0, 0\n",
    "        \n",
    "    # record max error\n",
    "    low = min(low, row[\"error\"])\n",
    "    high = max(low, row[\"error\"])\n",
    "    \n",
    "    \n",
    "df = pd.DataFrame(bounds, columns=[\"low\", \"high\"])\n",
    "df[\"bound\"] = np.maximum(df[\"low\"].abs(), df[\"high\"].abs())\n",
    "\n",
    "# get number of times we reach each threshold\n",
    "freq_df = df.groupby(\"bound\")[[\"low\"]].count().rename({\"low\": \"count\"}, axis=1)\n",
    "freq_df = freq_df.sort_index(ascending=False).cumsum().reset_index()\n",
    "freq_df[\"pnl\"] = freq_df[\"bound\"] * freq_df[\"count\"]"
   ]
  },
  {
   "cell_type": "code",
   "execution_count": null,
   "id": "1388c1f2",
   "metadata": {
    "ExecuteTime": {
     "end_time": "2023-03-27T21:30:15.168531Z",
     "start_time": "2023-03-27T21:30:15.048290Z"
    }
   },
   "outputs": [],
   "source": [
    "plt.plot(freq_df[\"bound\"], freq_df[\"pnl\"])"
   ]
  },
  {
   "cell_type": "code",
   "execution_count": null,
   "id": "bdbdafbe",
   "metadata": {
    "ExecuteTime": {
     "end_time": "2023-03-27T21:30:20.039189Z",
     "start_time": "2023-03-27T21:30:20.029072Z"
    }
   },
   "outputs": [],
   "source": [
    "freq_df.sort_values(by=\"pnl\", ascending=False).iloc[:20]"
   ]
  },
  {
   "cell_type": "markdown",
   "id": "5085445d",
   "metadata": {},
   "source": [
    "## round 4"
   ]
  },
  {
   "cell_type": "code",
   "execution_count": null,
   "id": "4bf22568",
   "metadata": {
    "ExecuteTime": {
     "end_time": "2023-03-27T21:33:45.452321Z",
     "start_time": "2023-03-27T21:33:45.449810Z"
    }
   },
   "outputs": [],
   "source": [
    "del pair_df"
   ]
  },
  {
   "cell_type": "code",
   "execution_count": null,
   "id": "03a42a7d",
   "metadata": {
    "ExecuteTime": {
     "end_time": "2023-03-27T21:52:41.963744Z",
     "start_time": "2023-03-27T21:52:38.067134Z"
    }
   },
   "outputs": [],
   "source": [
    "_day_range = [1, 2, 3]\n",
    "\n",
    "raw_df = get_symbol_prices(None, _day_range)\n",
    "\n",
    "syms = [\"DIP\", \"BAGUETTE\", \"UKULELE\", \"PICNIC_BASKET\"]\n",
    "\n",
    "all_dfs = {}\n",
    "for sym in syms:\n",
    "    df = raw_df[raw_df[\"symbol\"] == sym]\n",
    "    df = get_whale_quotes(df)\n",
    "    all_dfs[sym[:3].lower()] = df[\"mid_price\"]\n",
    "#     all_dfs[\"time\"] = df[\"time\"]\n",
    "    \n",
    "\n",
    "price_df = pd.DataFrame(all_dfs)"
   ]
  },
  {
   "cell_type": "code",
   "execution_count": null,
   "id": "5012ac35",
   "metadata": {
    "ExecuteTime": {
     "end_time": "2023-03-27T21:52:42.684390Z",
     "start_time": "2023-03-27T21:52:42.679210Z"
    }
   },
   "outputs": [],
   "source": [
    "price_df[\"agg\"] = 2 * price_df[\"bag\"] + 4 * price_df[\"dip\"] + 1 * price_df[\"uku\"]\n",
    "price_df[\"orig_error\"] = price_df[\"pic\"] - price_df[\"agg\"]"
   ]
  },
  {
   "cell_type": "code",
   "execution_count": null,
   "id": "66c2ae83",
   "metadata": {
    "ExecuteTime": {
     "end_time": "2023-03-27T21:53:05.343553Z",
     "start_time": "2023-03-27T21:53:03.883925Z"
    }
   },
   "outputs": [],
   "source": [
    "check_stationary(price_df[\"orig_error\"])\n",
    "display(price_df[\"orig_error\"].describe().to_frame().T)"
   ]
  },
  {
   "cell_type": "code",
   "execution_count": null,
   "id": "20a0363f",
   "metadata": {
    "ExecuteTime": {
     "end_time": "2023-03-27T21:53:11.256943Z",
     "start_time": "2023-03-27T21:53:11.013733Z"
    }
   },
   "outputs": [],
   "source": [
    "plt.plot(price_df[\"orig_error\"])\n",
    "plt.show()\n",
    "plt.hist(price_df[\"orig_error\"])\n",
    "plt.show()"
   ]
  },
  {
   "cell_type": "code",
   "execution_count": null,
   "id": "3e142e11",
   "metadata": {
    "ExecuteTime": {
     "end_time": "2023-03-27T21:53:20.067650Z",
     "start_time": "2023-03-27T21:53:20.064542Z"
    }
   },
   "outputs": [],
   "source": [
    "def get_model(weights):\n",
    "    return lambda x : np.dot(weights, list(x) + [1])\n",
    "\n",
    "model = get_model([1, -4, -2, -1, -375])\n",
    "\n"
   ]
  },
  {
   "cell_type": "code",
   "execution_count": null,
   "id": "a4357cb9",
   "metadata": {
    "ExecuteTime": {
     "end_time": "2023-03-27T21:53:20.773274Z",
     "start_time": "2023-03-27T21:53:20.519417Z"
    }
   },
   "outputs": [],
   "source": [
    "price_df[\"bias\"] = 1\n",
    "price_df[\"error\"] = price_df[[\"pic\", \"dip\", \"bag\", \"uku\"]].apply(model, axis=1)\n"
   ]
  },
  {
   "cell_type": "code",
   "execution_count": null,
   "id": "d48fb3f6",
   "metadata": {
    "ExecuteTime": {
     "end_time": "2023-03-27T22:16:55.476139Z",
     "start_time": "2023-03-27T22:16:54.172805Z"
    }
   },
   "outputs": [],
   "source": [
    "error_df = price_df[[\"error\"]].copy()\n",
    "\n",
    "# check stationarity of the error\n",
    "check_stationary(error_df[\"error\"])\n",
    "\n",
    "# get `change` stats\n",
    "error_df[\"above\"] = error_df[\"error\"] > 0\n",
    "error_df[\"change\"] = error_df[\"above\"] != error_df[\"above\"].shift(1)"
   ]
  },
  {
   "cell_type": "code",
   "execution_count": null,
   "id": "bda17bcb",
   "metadata": {
    "ExecuteTime": {
     "end_time": "2023-03-27T22:17:17.841574Z",
     "start_time": "2023-03-27T22:17:16.541332Z"
    }
   },
   "outputs": [],
   "source": [
    "## add fees here\n",
    "\n",
    "spreads = {\n",
    "    \"pic\": 11.377,\n",
    "    \"uku\": 1.419,\n",
    "    \"dip\": 1.674,\n",
    "    \"bag\": 1.596,\n",
    "}\n",
    "\n",
    "spread_fee = np.sum(list(spreads.values())) / 2\n",
    "print(\"spread fee\", spread_fee)\n",
    "\n",
    "##\n",
    "\n",
    "low, high = 0, 0\n",
    "\n",
    "bounds = []\n",
    "\n",
    "for index, row in error_df.iterrows():\n",
    "    if row[\"change\"]:\n",
    "        bounds += [(low, high)]\n",
    "        low, high = 0, 0\n",
    "        \n",
    "    # record max error\n",
    "    low = min(low, row[\"error\"])\n",
    "    high = max(low, row[\"error\"])\n",
    "    \n",
    "    \n",
    "df = pd.DataFrame(bounds, columns=[\"low\", \"high\"])\n",
    "df[\"bound\"] = np.maximum(df[\"low\"].abs(), df[\"high\"].abs())\n",
    "\n",
    "# get number of times we reach each threshold\n",
    "freq_df = df.groupby(\"bound\")[[\"low\"]].count().rename({\"low\": \"count\"}, axis=1)\n",
    "freq_df = freq_df.sort_index(ascending=False).cumsum().reset_index()\n",
    "\n",
    "### adjust profit by spread, you have to pay it twice\n",
    "freq_df[\"pnl\"] = (freq_df[\"bound\"] - 2 * spread_fee) * freq_df[\"count\"]"
   ]
  },
  {
   "cell_type": "code",
   "execution_count": null,
   "id": "06122f11",
   "metadata": {
    "ExecuteTime": {
     "end_time": "2023-03-27T22:17:19.513058Z",
     "start_time": "2023-03-27T22:17:19.377886Z"
    }
   },
   "outputs": [],
   "source": [
    "plt.plot(freq_df[\"bound\"], freq_df[\"pnl\"])"
   ]
  },
  {
   "cell_type": "code",
   "execution_count": null,
   "id": "34accc55",
   "metadata": {
    "ExecuteTime": {
     "end_time": "2023-03-27T22:17:20.004442Z",
     "start_time": "2023-03-27T22:17:19.994422Z"
    }
   },
   "outputs": [],
   "source": [
    "freq_df.sort_values(by=\"pnl\", ascending=False).iloc[:20]"
   ]
  },
  {
   "cell_type": "code",
   "execution_count": null,
   "id": "3b729795",
   "metadata": {},
   "outputs": [],
   "source": []
  },
  {
   "cell_type": "code",
   "execution_count": null,
   "id": "3424e579",
   "metadata": {},
   "outputs": [],
   "source": []
  },
  {
   "cell_type": "code",
   "execution_count": null,
   "id": "664e5015",
   "metadata": {},
   "outputs": [],
   "source": []
  },
  {
   "cell_type": "code",
   "execution_count": null,
   "id": "003ef524",
   "metadata": {},
   "outputs": [],
   "source": []
  },
  {
   "cell_type": "code",
   "execution_count": null,
   "id": "06d5f950",
   "metadata": {},
   "outputs": [],
   "source": []
  },
  {
   "cell_type": "code",
   "execution_count": null,
   "id": "a062adfe",
   "metadata": {},
   "outputs": [],
   "source": []
  },
  {
   "cell_type": "code",
   "execution_count": null,
   "id": "31307bfc",
   "metadata": {},
   "outputs": [],
   "source": []
  },
  {
   "cell_type": "code",
   "execution_count": null,
   "id": "0a0e3a2f",
   "metadata": {},
   "outputs": [],
   "source": []
  },
  {
   "cell_type": "code",
   "execution_count": null,
   "id": "0cd012f2",
   "metadata": {},
   "outputs": [],
   "source": []
  },
  {
   "cell_type": "code",
   "execution_count": null,
   "id": "7a71f52f",
   "metadata": {},
   "outputs": [],
   "source": []
  }
 ],
 "metadata": {
  "kernelspec": {
   "display_name": "Python 3 (ipykernel)",
   "language": "python",
   "name": "python3"
  },
  "language_info": {
   "codemirror_mode": {
    "name": "ipython",
    "version": 3
   },
   "file_extension": ".py",
   "mimetype": "text/x-python",
   "name": "python",
   "nbconvert_exporter": "python",
   "pygments_lexer": "ipython3",
   "version": "3.9.16"
  },
  "toc": {
   "base_numbering": 1,
   "nav_menu": {},
   "number_sections": true,
   "sideBar": true,
   "skip_h1_title": false,
   "title_cell": "Table of Contents",
   "title_sidebar": "Contents",
   "toc_cell": false,
   "toc_position": {
    "height": "calc(100% - 180px)",
    "left": "10px",
    "top": "150px",
    "width": "265.391px"
   },
   "toc_section_display": true,
   "toc_window_display": true
  },
  "varInspector": {
   "cols": {
    "lenName": 16,
    "lenType": 16,
    "lenVar": 40
   },
   "kernels_config": {
    "python": {
     "delete_cmd_postfix": "",
     "delete_cmd_prefix": "del ",
     "library": "var_list.py",
     "varRefreshCmd": "print(var_dic_list())"
    },
    "r": {
     "delete_cmd_postfix": ") ",
     "delete_cmd_prefix": "rm(",
     "library": "var_list.r",
     "varRefreshCmd": "cat(var_dic_list()) "
    }
   },
   "types_to_exclude": [
    "module",
    "function",
    "builtin_function_or_method",
    "instance",
    "_Feature"
   ],
   "window_display": false
  }
 },
 "nbformat": 4,
 "nbformat_minor": 5
}
